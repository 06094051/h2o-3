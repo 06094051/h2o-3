{
 "metadata": {
  "kernelspec": {
   "display_name": "Python 2",
   "language": "python",
   "name": "python2"
  },
  "language_info": {
   "codemirror_mode": {
    "name": "ipython",
    "version": 2
   },
   "file_extension": ".py",
   "mimetype": "text/x-python",
   "name": "python",
   "nbconvert_exporter": "python",
   "pygments_lexer": "ipython2",
   "version": "2.7.9"
  },
  "name": "",
  "signature": "sha256:f5217660a89f4804f13576ab184f5fc4367e3d37b4ccb9ac22324192d93666c8"
 },
 "nbformat": 3,
 "nbformat_minor": 0,
 "worksheets": [
  {
   "cells": [
    {
     "cell_type": "code",
     "collapsed": false,
     "input": [
      "import h2o"
     ],
     "language": "python",
     "metadata": {},
<<<<<<< HEAD
     "outputs": [],
     "prompt_number": 14
    },
=======
     "output_type": "execute_result"
    }
   ],
   "source": [
    "air.dim"
   ]
  },
  {
   "cell_type": "code",
   "execution_count": 5,
   "metadata": {
    "collapsed": false
   },
   "outputs": [
>>>>>>> master
    {
     "cell_type": "code",
     "collapsed": false,
     "input": [
      "h2o.init()"
     ],
     "language": "python",
     "metadata": {},
     "outputs": [
      {
       "html": [
        "<div style=\"overflow:auto\"><table style=\"width:50%\"><tr><td>H2O cluster uptime: </td>\n",
        "<td>20 minutes 8 seconds 264 milliseconds </td></tr>\n",
        "<tr><td>H2O cluster version: </td>\n",
        "<td>3.1.0.99999</td></tr>\n",
        "<tr><td>H2O cluster name: </td>\n",
        "<td>ece</td></tr>\n",
        "<tr><td>H2O cluster total nodes: </td>\n",
        "<td>1</td></tr>\n",
        "<tr><td>H2O cluster total memory: </td>\n",
        "<td>3.56 GB</td></tr>\n",
        "<tr><td>H2O cluster total cores: </td>\n",
        "<td>8</td></tr>\n",
        "<tr><td>H2O cluster allowed cores: </td>\n",
        "<td>8</td></tr>\n",
        "<tr><td>H2O cluster healthy: </td>\n",
        "<td>True</td></tr>\n",
        "<tr><td>H2O Connection ip: </td>\n",
        "<td>127.0.0.1</td></tr>\n",
        "<tr><td>H2O Connection port: </td>\n",
        "<td>54321</td></tr></table></div>"
       ],
       "metadata": {},
       "output_type": "display_data",
       "text": [
        "--------------------------  -------------------------------------\n",
        "H2O cluster uptime:         20 minutes 8 seconds 264 milliseconds\n",
        "H2O cluster version:        3.1.0.99999\n",
        "H2O cluster name:           ece\n",
        "H2O cluster total nodes:    1\n",
        "H2O cluster total memory:   3.56 GB\n",
        "H2O cluster total cores:    8\n",
        "H2O cluster allowed cores:  8\n",
        "H2O cluster healthy:        True\n",
        "H2O Connection ip:          127.0.0.1\n",
        "H2O Connection port:        54321\n",
        "--------------------------  -------------------------------------"
       ]
      }
     ],
     "prompt_number": 15
    },
    {
     "cell_type": "code",
     "collapsed": false,
     "input": [
      "air = h2o.upload_file(h2o.locate(\"smalldata/airlines/allyears2k_headers.zip\"))"
     ],
     "language": "python",
     "metadata": {},
     "outputs": [
      {
       "output_type": "stream",
       "stream": "stdout",
       "text": [
        "\n",
        "\r",
        "Parse Progress: [                                                  ] 00%"
       ]
      },
      {
       "output_type": "stream",
       "stream": "stdout",
       "text": [
        "\r",
        "Parse Progress: [##################################################] 100%"
       ]
      },
      {
       "output_type": "stream",
       "stream": "stdout",
       "text": [
        "\n",
        "Uploaded py47c25ae0-4c1c-4ed1-8cbf-b248df6421af into cluster with 43,978 rows and 31 cols\n"
       ]
      }
     ],
     "prompt_number": 16
    },
    {
     "cell_type": "code",
     "collapsed": false,
     "input": [
      "air.dim"
     ],
     "language": "python",
     "metadata": {},
     "outputs": [
      {
       "metadata": {},
       "output_type": "pyout",
       "prompt_number": 17,
       "text": [
        "[43978, 31]"
       ]
      }
     ],
     "prompt_number": 17
    },
    {
     "cell_type": "code",
     "collapsed": false,
     "input": [
      "numNAs = air[\"DepTime\"].isna().sum()\n",
      "print numNAs"
     ],
     "language": "python",
     "metadata": {},
     "outputs": [
      {
       "output_type": "stream",
       "stream": "stdout",
       "text": [
        "1086.0\n"
       ]
      }
     ],
     "prompt_number": 18
    },
    {
     "cell_type": "code",
     "collapsed": false,
     "input": [
      "DepTime_mean = air[\"DepTime\"].mean(na_rm=True)\n",
      "print DepTime_mean"
     ],
     "language": "python",
     "metadata": {},
     "outputs": [
      {
       "output_type": "stream",
       "stream": "stdout",
       "text": [
        "1345.84666138\n"
       ]
      }
     ],
     "prompt_number": 19
    },
    {
     "cell_type": "code",
     "collapsed": false,
     "input": [
      "air.impute(\"DepTime\", method = \"median\", combine_method=\"low\")   \n",
      "numNAs = air[\"DepTime\"].isna().sum()\n",
      "print numNAs"
     ],
     "language": "python",
     "metadata": {},
     "outputs": [
      {
       "output_type": "stream",
       "stream": "stdout",
       "text": [
        "0.0\n"
       ]
      }
     ],
     "prompt_number": 20
    },
    {
     "cell_type": "code",
     "collapsed": false,
     "input": [
      "air = h2o.upload_file(h2o.locate(\"smalldata/airlines/allyears2k_headers.zip\"))"
     ],
     "language": "python",
     "metadata": {},
     "outputs": [
      {
       "output_type": "stream",
       "stream": "stdout",
       "text": [
        "\n",
        "\r",
        "Parse Progress: [                                                  ] 00%"
       ]
      },
      {
       "output_type": "stream",
       "stream": "stdout",
       "text": [
        "\r",
        "Parse Progress: [##################################################] 100%"
       ]
      },
      {
       "output_type": "stream",
       "stream": "stdout",
       "text": [
        "\n",
        "Uploaded py59963a24-3a30-4d84-9dba-7ff6ee63f35c into cluster with 43,978 rows and 31 cols\n"
       ]
      }
     ],
     "prompt_number": 21
    },
    {
     "cell_type": "code",
     "collapsed": false,
     "input": [
      "air.impute(\"DepTime\", method = \"mean\", by = [air.names.index(\"Origin\"), air.names.index(\"Distance\")]).show()"
     ],
     "language": "python",
     "metadata": {},
     "outputs": [
      {
       "output_type": "stream",
       "stream": "stdout",
       "text": [
        "H2OFrame with 43978 rows and 31 columns: \n",
        "   Year  Month  DayofMonth  DayOfWeek  DepTime  CRSDepTime  ArrTime  \\\n",
        "1  1987     10          15          4      729         730      903   \n",
        "2  1987     10          17          6      741         730      918   \n",
        "3  1987     10          18          7      729         730      847   \n",
        "4  1987     10          19          1      749         730      922   \n",
        "5  1987     10          21          3      728         730      848   \n",
        "6  1987     10          22          4      728         730      852   \n",
        "7  1987     10          23          5      731         730      902   \n",
        "8  1987     10          24          6      744         730      908   \n",
        "9  1987     10          25          7      729         730      851   \n",
        "\n",
        "   CRSArrTime UniqueCarrier  FlightNum      ...       Cancelled  \\\n",
        "1         849            PS       1451      ...               0   \n",
        "2         849            PS       1451      ...               0   \n",
        "3         849            PS       1451      ...               0   \n",
        "4         849            PS       1451      ...               0   \n",
        "5         849            PS       1451      ...               0   \n",
        "6         849            PS       1451      ...               0   \n",
        "7         849            PS       1451      ...               0   \n",
        "8         849            PS       1451      ...               0   \n",
        "9         849            PS       1451      ...               0   \n",
        "\n",
        "   CancellationCode  Diverted  CarrierDelay  WeatherDelay  NASDelay  \\\n",
        "1               NaN         0           NaN           NaN       NaN   \n",
        "2               NaN         0           NaN           NaN       NaN   \n",
        "3               NaN         0           NaN           NaN       NaN   \n",
        "4               NaN         0           NaN           NaN       NaN   \n",
        "5               NaN         0           NaN           NaN       NaN   \n",
        "6               NaN         0           NaN           NaN       NaN   \n",
        "7               NaN         0           NaN           NaN       NaN   \n",
        "8               NaN         0           NaN           NaN       NaN   \n",
        "9               NaN         0           NaN           NaN       NaN   \n",
        "\n",
        "  SecurityDelay LateAircraftDelay  IsArrDelayed  IsDepDelayed  \n",
        "1           NaN               NaN           YES            NO  \n",
        "2           NaN               NaN           YES           YES  \n",
        "3           NaN               NaN            NO            NO  \n",
        "4           NaN               NaN           YES           YES  \n",
        "5           NaN               NaN            NO            NO  \n",
        "6           NaN               NaN           YES            NO  \n",
        "7           NaN               NaN           YES           YES  \n",
        "8           NaN               NaN           YES           YES  \n",
        "9           NaN               NaN           YES            NO  \n",
        "\n",
        "[9 rows x 31 columns]\n"
       ]
      }
     ],
     "prompt_number": 22
    },
    {
     "cell_type": "code",
     "collapsed": false,
     "input": [
      "air = h2o.upload_file(h2o.locate(\"smalldata/airlines/allyears2k_headers.zip\"))"
     ],
     "language": "python",
     "metadata": {},
     "outputs": [
      {
       "output_type": "stream",
       "stream": "stdout",
       "text": [
        "\n",
        "\r",
        "Parse Progress: [                                                  ] 00%"
       ]
      },
      {
       "output_type": "stream",
       "stream": "stdout",
       "text": [
        "\r",
        "Parse Progress: [##################################################] 100%"
       ]
      },
      {
       "output_type": "stream",
       "stream": "stdout",
       "text": [
        "\n",
        "Uploaded pyca936b53-0052-491e-8b9c-f742f93a2db0 into cluster with 43,978 rows and 31 cols\n"
       ]
      }
     ],
     "prompt_number": 23
    },
    {
     "cell_type": "code",
     "collapsed": false,
     "input": [
      "air.impute(\"TailNum\", method = \"mode\").show()"
     ],
     "language": "python",
     "metadata": {},
     "outputs": [
      {
       "output_type": "stream",
       "stream": "stdout",
       "text": [
        "H2OFrame with 43978 rows and 31 columns: \n",
        "   Year  Month  DayofMonth  DayOfWeek  DepTime  CRSDepTime  ArrTime  \\\n",
        "1  1987     10          15          4      729         730      903   \n",
        "2  1987     10          17          6      741         730      918   \n",
        "3  1987     10          18          7      729         730      847   \n",
        "4  1987     10          19          1      749         730      922   \n",
        "5  1987     10          21          3      728         730      848   \n",
        "6  1987     10          22          4      728         730      852   \n",
        "7  1987     10          23          5      731         730      902   \n",
        "8  1987     10          24          6      744         730      908   \n",
        "9  1987     10          25          7      729         730      851   \n",
        "\n",
        "   CRSArrTime UniqueCarrier  FlightNum      ...       Cancelled  \\\n",
        "1         849            PS       1451      ...               0   \n",
        "2         849            PS       1451      ...               0   \n",
        "3         849            PS       1451      ...               0   \n",
        "4         849            PS       1451      ...               0   \n",
        "5         849            PS       1451      ...               0   \n",
        "6         849            PS       1451      ...               0   \n",
        "7         849            PS       1451      ...               0   \n",
        "8         849            PS       1451      ...               0   \n",
        "9         849            PS       1451      ...               0   \n",
        "\n",
        "   CancellationCode  Diverted  CarrierDelay  WeatherDelay  NASDelay  \\\n",
        "1               NaN         0           NaN           NaN       NaN   \n",
        "2               NaN         0           NaN           NaN       NaN   \n",
        "3               NaN         0           NaN           NaN       NaN   \n",
        "4               NaN         0           NaN           NaN       NaN   \n",
        "5               NaN         0           NaN           NaN       NaN   \n",
        "6               NaN         0           NaN           NaN       NaN   \n",
        "7               NaN         0           NaN           NaN       NaN   \n",
        "8               NaN         0           NaN           NaN       NaN   \n",
        "9               NaN         0           NaN           NaN       NaN   \n",
        "\n",
        "  SecurityDelay LateAircraftDelay  IsArrDelayed  IsDepDelayed  \n",
        "1           NaN               NaN           YES            NO  \n",
        "2           NaN               NaN           YES           YES  \n",
        "3           NaN               NaN            NO            NO  \n",
        "4           NaN               NaN           YES           YES  \n",
        "5           NaN               NaN            NO            NO  \n",
        "6           NaN               NaN           YES            NO  \n",
        "7           NaN               NaN           YES           YES  \n",
        "8           NaN               NaN           YES           YES  \n",
        "9           NaN               NaN           YES            NO  \n",
        "\n",
        "[9 rows x 31 columns]\n"
       ]
      }
     ],
     "prompt_number": 24
    },
    {
     "cell_type": "code",
     "collapsed": false,
     "input": [
      "air = h2o.upload_file(h2o.locate(\"smalldata/airlines/allyears2k_headers.zip\"))"
     ],
     "language": "python",
     "metadata": {},
     "outputs": [
      {
       "output_type": "stream",
       "stream": "stdout",
       "text": [
        "\n",
        "\r",
        "Parse Progress: [                                                  ] 00%"
       ]
      },
      {
       "output_type": "stream",
       "stream": "stdout",
       "text": [
        "\r",
        "Parse Progress: [##################################################] 100%"
       ]
      },
      {
       "output_type": "stream",
       "stream": "stdout",
       "text": [
        "\n",
        "Uploaded py7c75e1d4-38ce-47c4-8e2c-fa75fa84d0b5 into cluster with 43,978 rows and 31 cols\n"
       ]
      }
     ],
     "prompt_number": 25
    },
    {
     "cell_type": "code",
     "collapsed": false,
     "input": [
      "air.impute(\"TailNum\", method = \"mode\", by=[air.names.index(\"Month\"), air.names.index(\"Year\")]).show()"
     ],
     "language": "python",
     "metadata": {},
     "outputs": [
      {
       "output_type": "stream",
       "stream": "stdout",
       "text": [
        "H2OFrame with 43978 rows and 31 columns: \n",
        "   Year  Month  DayofMonth  DayOfWeek  DepTime  CRSDepTime  ArrTime  \\\n",
        "1  1987     10          15          4      729         730      903   \n",
        "2  1987     10          17          6      741         730      918   \n",
        "3  1987     10          18          7      729         730      847   \n",
        "4  1987     10          19          1      749         730      922   \n",
        "5  1987     10          21          3      728         730      848   \n",
        "6  1987     10          22          4      728         730      852   \n",
        "7  1987     10          23          5      731         730      902   \n",
        "8  1987     10          24          6      744         730      908   \n",
        "9  1987     10          25          7      729         730      851   \n",
        "\n",
        "   CRSArrTime UniqueCarrier  FlightNum      ...       Cancelled  \\\n",
        "1         849            PS       1451      ...               0   \n",
        "2         849            PS       1451      ...               0   \n",
        "3         849            PS       1451      ...               0   \n",
        "4         849            PS       1451      ...               0   \n",
        "5         849            PS       1451      ...               0   \n",
        "6         849            PS       1451      ...               0   \n",
        "7         849            PS       1451      ...               0   \n",
        "8         849            PS       1451      ...               0   \n",
        "9         849            PS       1451      ...               0   \n",
        "\n",
        "   CancellationCode  Diverted  CarrierDelay  WeatherDelay  NASDelay  \\\n",
        "1               NaN         0           NaN           NaN       NaN   \n",
        "2               NaN         0           NaN           NaN       NaN   \n",
        "3               NaN         0           NaN           NaN       NaN   \n",
        "4               NaN         0           NaN           NaN       NaN   \n",
        "5               NaN         0           NaN           NaN       NaN   \n",
        "6               NaN         0           NaN           NaN       NaN   \n",
        "7               NaN         0           NaN           NaN       NaN   \n",
        "8               NaN         0           NaN           NaN       NaN   \n",
        "9               NaN         0           NaN           NaN       NaN   \n",
        "\n",
        "  SecurityDelay LateAircraftDelay  IsArrDelayed  IsDepDelayed  \n",
        "1           NaN               NaN           YES            NO  \n",
        "2           NaN               NaN           YES           YES  \n",
        "3           NaN               NaN            NO            NO  \n",
        "4           NaN               NaN           YES           YES  \n",
        "5           NaN               NaN            NO            NO  \n",
        "6           NaN               NaN           YES            NO  \n",
        "7           NaN               NaN           YES           YES  \n",
        "8           NaN               NaN           YES           YES  \n",
        "9           NaN               NaN           YES            NO  \n",
        "\n",
        "[9 rows x 31 columns]\n"
       ]
      }
     ],
     "prompt_number": 26
    }
   ],
   "metadata": {}
  }
 ]
}
