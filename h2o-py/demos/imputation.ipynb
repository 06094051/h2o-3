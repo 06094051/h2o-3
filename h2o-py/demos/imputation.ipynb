{
 "metadata": {
  "name": "",
  "signature": "sha256:15eab2a2fc5cee1a3bb55693e09c90777f55cd8d2ae84546e45b575d24b08a4e"
 },
 "nbformat": 3,
 "nbformat_minor": 0,
 "worksheets": [
  {
   "cells": [
    {
     "cell_type": "code",
     "collapsed": false,
     "input": [
      "import sys\n",
      "sys.path.insert(1,\"../\")\n",
      "import h2o"
     ],
     "language": "python",
     "metadata": {},
     "outputs": []
    },
    {
     "cell_type": "code",
     "collapsed": false,
     "input": [
      "h2o.init()"
     ],
     "language": "python",
     "metadata": {},
     "outputs": []
    },
    {
     "cell_type": "code",
     "collapsed": false,
     "input": [
      "air = h2o.upload_file(h2o.locate(\"smalldata/airlines/allyears2k_headers.zip\"))"
     ],
     "language": "python",
     "metadata": {},
     "outputs": []
    },
    {
     "cell_type": "code",
     "collapsed": false,
     "input": [
      "air.dim()"
     ],
     "language": "python",
     "metadata": {},
     "outputs": []
    },
    {
     "cell_type": "code",
     "collapsed": false,
     "input": [
      "numNAs = air[\"DepTime\"].isna().sum()\n",
      "print numNAs"
     ],
     "language": "python",
     "metadata": {},
     "outputs": []
    },
    {
     "cell_type": "code",
     "collapsed": false,
     "input": [
      "DepTime_mean = air[\"DepTime\"].mean()\n",
      "print DepTime_mean"
     ],
     "language": "python",
     "metadata": {},
     "outputs": []
    },
    {
     "cell_type": "code",
     "collapsed": false,
     "input": [
      "h2o.impute(air, \"DepTime\", method = \"median\", combine_method=\"lo\")   \n",
      "numNAs = air[\"DepTime\"].isna().sum()\n",
      "print numNAs"
     ],
     "language": "python",
     "metadata": {},
     "outputs": []
    },
    {
     "cell_type": "code",
     "collapsed": false,
     "input": [
      "air = h2o.upload_file(h2o.locate(\"smalldata/airlines/allyears2k_headers.zip\"))"
     ],
     "language": "python",
     "metadata": {},
     "outputs": []
    },
    {
     "cell_type": "code",
     "collapsed": false,
     "input": [
      "h2o.impute(air, \"DepTime\", method = \"mean\", by = [\"Origin\", \"Distance\"])"
     ],
     "language": "python",
     "metadata": {},
     "outputs": []
    },
    {
     "cell_type": "code",
     "collapsed": false,
     "input": [
      "air = h2o.upload_file(h2o.locate(\"smalldata/airlines/allyears2k_headers.zip\"))"
     ],
     "language": "python",
     "metadata": {},
     "outputs": []
    },
    {
     "cell_type": "code",
     "collapsed": false,
     "input": [
      "h2o.impute(air, \"TailNum\", method = \"mode\")"
     ],
     "language": "python",
     "metadata": {},
     "outputs": []
    },
    {
     "cell_type": "code",
     "collapsed": false,
     "input": [
      "air = h2o.upload_file(h2o.locate(\"smalldata/airlines/allyears2k_headers.zip\"))"
     ],
     "language": "python",
     "metadata": {},
     "outputs": []
    },
    {
     "cell_type": "code",
     "collapsed": false,
     "input": [
      "h2o.impute(air, \"TailNum\", method = \"mode\", by=[\"Month\", \"Year\"])"
     ],
     "language": "python",
     "metadata": {},
     "outputs": []
    }
   ],
   "metadata": {}
  }
 ]
}