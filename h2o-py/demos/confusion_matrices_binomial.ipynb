{
 "metadata": {
  "name": "",
  "signature": "sha256:46e64805a3e2040772abcfb224825137db6d226dd840e2d8ee34eccd51b79243"
 },
 "nbformat": 3,
 "nbformat_minor": 0,
 "worksheets": [
  {
   "cells": [
    {
     "cell_type": "code",
     "collapsed": false,
     "input": [
      "import sys\n",
      "sys.path.insert(1, \"../\")\n",
      "import h2o"
     ],
     "language": "python",
     "metadata": {},
     "outputs": []
    },
    {
     "cell_type": "code",
     "collapsed": false,
     "input": [
      "h2o.init()"
     ],
     "language": "python",
     "metadata": {},
     "outputs": []
    },
    {
     "cell_type": "code",
     "collapsed": false,
     "input": [
      "# Airlines dataset\n",
      "air = h2o.import_frame(path=h2o.locate(\"smalldata/airlines/AirlinesTrain.csv.zip\"))"
     ],
     "language": "python",
     "metadata": {},
     "outputs": []
    },
    {
     "cell_type": "code",
     "collapsed": false,
     "input": [
      "# Construct validation and training datasets by sampling (20/80)\n",
      "r = air[0].runif()\n",
      "air_train = air[r < 0.8]\n",
      "air_valid = air[r >= 0.8]\n",
      "\n",
      "myX = [\"Origin\", \"Dest\", \"Distance\", \"UniqueCarrier\", \"fMonth\", \"fDayofMonth\", \"fDayOfWeek\"]\n",
      "myY = \"IsDepDelayed\""
     ],
     "language": "python",
     "metadata": {},
     "outputs": []
    },
    {
     "cell_type": "code",
     "collapsed": false,
     "input": [
      "# Build gbm\n",
      "gbm = h2o.gbm(x=air_train[myX], \n",
      "              y=air_train[myY], \n",
      "              validation_x=air_valid[myX],\n",
      "              validation_y=air_valid[myY],\n",
      "              distribution=\"bernoulli\", \n",
      "              ntrees=100, \n",
      "              max_depth=3, \n",
      "              learn_rate=0.01)"
     ],
     "language": "python",
     "metadata": {},
     "outputs": []
    },
    {
     "cell_type": "code",
     "collapsed": false,
     "input": [
      "# Show various confusion matrices for training dataset (based on metric(s))\n",
      "print gbm.confusion_matrix() # maximum f1 threshold chosen by default\n",
      "\n",
      "print gbm.confusion_matrix(metrics=\"f2\")\n",
      "\n",
      "print gbm.confusion_matrix(metrics=\"precision\")\n",
      "\n",
      "cms = gbm.confusion_matrix(metrics=[\"accuracy\", \"f0point5\"])\n",
      "print cms[0]\n",
      "print cms[1]"
     ],
     "language": "python",
     "metadata": {},
     "outputs": []
    },
    {
     "cell_type": "code",
     "collapsed": false,
     "input": [
      "# Show various confusion matrices for training dataset (based on threshold(s))\n",
      "print gbm.confusion_matrix(thresholds=0.77) \n",
      "\n",
      "cms = gbm.confusion_matrix(thresholds=[0.1, 0.5, 0.99])\n",
      "print cms[0]\n",
      "print cms[1]\n",
      "print cms[2]"
     ],
     "language": "python",
     "metadata": {},
     "outputs": []
    },
    {
     "cell_type": "code",
     "collapsed": false,
     "input": [
      "# Show various confusion matrices for validation dataset (based on metric(s))\n",
      "print gbm.confusion_matrix(metrics=\"f2\", valid=True)\n",
      "\n",
      "print gbm.confusion_matrix(metrics=\"precision\", valid=True)\n",
      "\n",
      "cms = gbm.confusion_matrix(metrics=[\"accuracy\", \"f0point5\"], valid=True)\n",
      "print cms[0]\n",
      "print cms[1]"
     ],
     "language": "python",
     "metadata": {},
     "outputs": []
    },
    {
     "cell_type": "code",
     "collapsed": false,
     "input": [
      "# Show various confusion matrices for validation dataset (based on threshold(s))\n",
      "print gbm.confusion_matrix(thresholds=0.77) \n",
      "\n",
      "cms = gbm.confusion_matrix(thresholds=[0.25, 0.33, 0.44])\n",
      "print cms[0]\n",
      "print cms[1]\n",
      "print cms[2]"
     ],
     "language": "python",
     "metadata": {},
     "outputs": []
    },
    {
     "cell_type": "code",
     "collapsed": false,
     "input": [
      "# Show various confusion matrices for validation dataset (based on metric(s) AND threshold(s))\n",
      "cms = gbm.confusion_matrix(thresholds=0.77, metrics=\"f1\") \n",
      "print cms[0]\n",
      "print cms[1]\n",
      "\n",
      "cms = gbm.confusion_matrix(thresholds=[0.25, 0.33], metrics=[\"f2\", \"f0point5\"])\n",
      "print cms[0]\n",
      "print cms[1]\n",
      "print cms[2]\n",
      "print cms[3]"
     ],
     "language": "python",
     "metadata": {},
     "outputs": []
    },
    {
     "cell_type": "code",
     "collapsed": false,
     "input": [
      "# Test dataset\n",
      "air_test = h2o.import_frame(path=h2o.locate(\"smalldata/airlines/AirlinesTest.csv.zip\"))\n",
      "\n",
      "# Test performance\n",
      "gbm_perf = gbm.model_performance(air_test)"
     ],
     "language": "python",
     "metadata": {},
     "outputs": []
    },
    {
     "cell_type": "code",
     "collapsed": false,
     "input": [
      "# Show various confusion matrices for test dataset (based on metric(s))\n",
      "print gbm_perf.confusion_matrix(metrics=\"f0point5\")\n",
      "\n",
      "print gbm_perf.confusion_matrix(metrics=\"min_per_class_accuracy\")\n",
      "\n",
      "cms = gbm_perf.confusion_matrix(metrics=[\"accuracy\", \"f0point5\"])\n",
      "print cms[0]\n",
      "print cms[1]"
     ],
     "language": "python",
     "metadata": {},
     "outputs": []
    },
    {
     "cell_type": "code",
     "collapsed": false,
     "input": [
      "# Show various confusion matrices for test dataset (based on threshold(s))\n",
      "print gbm_perf.confusion_matrix(thresholds=0.5) \n",
      "\n",
      "cms = gbm_perf.confusion_matrix(thresholds=[0.01, 0.75, .88])\n",
      "print cms[0]\n",
      "print cms[1]\n",
      "print cms[2]"
     ],
     "language": "python",
     "metadata": {},
     "outputs": []
    },
    {
     "cell_type": "code",
     "collapsed": false,
     "input": [
      "# Convert a ConfusionMatrix to a python list of lists: [ [tns,fps], [fns,tps] ]\n",
      "cm = gbm.confusion_matrix()\n",
      "print cm.to_list()\n",
      "\n",
      "cm = gbm_perf.confusion_matrix()\n",
      "print cm.to_list()"
     ],
     "language": "python",
     "metadata": {},
     "outputs": []
    }
   ],
   "metadata": {}
  }
 ]
}