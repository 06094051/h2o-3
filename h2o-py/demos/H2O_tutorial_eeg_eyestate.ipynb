{
 "cells": [
  {
   "cell_type": "markdown",
   "metadata": {},
   "source": [
    "# H2O Tutorial: EEG Eye State Classification\n"
   ]
  },
  {
   "cell_type": "markdown",
   "metadata": {},
   "source": [
    "Author: Erin LeDell\n",
    "\n",
    "Contact: erin@h2o.ai\n",
    "\n",
    "This tutorial steps through a quick introduction to H2O's Python API. The goal of this tutorial is to introduce through a complete example H2O's capabilities from Python. \n",
    "\n",
    "Most of the functionality for a [Pandas](http://pandas.pydata.org/) `DataFrame` is exactly the same syntax for an `H2OFrame`, so if you are comfortable with Pandas, data frame manipulation will come naturally to you in H2O.  The modeling syntax in the H2O Python API may also remind you of [scikit-learn](http://scikit-learn.org/stable/).  \n",
    "\n",
    "References: [H2O Python API documentation](http://h2o-release.s3.amazonaws.com/h2o/latest_stable_Pydoc.html) and [H2O general documentation](http://docs.h2o.ai)"
   ]
  },
  {
   "cell_type": "markdown",
   "metadata": {},
   "source": [
    "## Install H2O in Python\n",
    "\n",
    "### Prerequisites\n",
    "\n",
    "This tutorial assumes you have Python 2.7 installed.  The `h2o` Python package has a few dependencies which can be installed using [pip](http://pip.readthedocs.org/en/stable/installing/). The packages that are required are (which also have their own dependencies):\n",
    "```bash\n",
    "pip install requests\n",
    "pip install tabulate\n",
    "pip install scikit-learn \n",
    "```\n",
    "If you have any problems (for example, installing the `scikit-learn` package), check out [this page](https://github.com/h2oai/h2o-3/blob/master/h2o-docs/src/product/howto/FAQ.md#python) for tips.\n",
    "\n",
    "### Install h2o\n",
    "\n",
    "Once the dependencies are installed, you can install H2O.  We will use the [latest stable](http://h2o-release.s3.amazonaws.com/h2o/latest_stable.html) version of the `h2o` package, which is currently \"Tibshirani-8.\"  The installation instructions are on the \"Install in Python\" tab on [this page](http://h2o-release.s3.amazonaws.com/h2o/rel-tibshirani/8/index.html).\n",
    "\n",
    "```bash\n",
    "# The following command removes the H2O module for Python (if it already exists).\n",
    "pip uninstall h2o\n",
    "\n",
    "# Next, use pip to install this version of the H2O Python module.\n",
    "pip install http://h2o-release.s3.amazonaws.com/h2o/rel-tibshirani/8/Python/h2o-3.6.0.8-py2.py3-none-any.whl\n",
    "```\n",
    "\n",
    "For reference, the Python documentation for the latest stable release of H2O is [here](http://h2o-release.s3.amazonaws.com/h2o/latest_stable_Pydoc.html)."
   ]
  },
  {
   "cell_type": "markdown",
   "metadata": {},
   "source": [
    "## Start up an H2O cluster\n",
    "\n",
    "In a Python terminal, we can import the `h2o` package and start up an H2O cluster."
   ]
  },
  {
   "cell_type": "code",
   "execution_count": 1,
   "metadata": {
    "collapsed": false
   },
   "outputs": [
    {
     "data": {
      "text/html": [
       "<div style=\"overflow:auto\"><table style=\"width:50%\"><tr><td>H2O cluster uptime: </td>\n",
       "<td>2 hours 28 minutes 19 seconds 651 milliseconds </td></tr>\n",
       "<tr><td>H2O cluster version: </td>\n",
       "<td>3.6.0.3</td></tr>\n",
       "<tr><td>H2O cluster name: </td>\n",
       "<td>H2O_started_from_python</td></tr>\n",
       "<tr><td>H2O cluster total nodes: </td>\n",
       "<td>1</td></tr>\n",
       "<tr><td>H2O cluster total memory: </td>\n",
       "<td>3.56 GB</td></tr>\n",
       "<tr><td>H2O cluster total cores: </td>\n",
       "<td>8</td></tr>\n",
       "<tr><td>H2O cluster allowed cores: </td>\n",
       "<td>8</td></tr>\n",
       "<tr><td>H2O cluster healthy: </td>\n",
       "<td>True</td></tr>\n",
       "<tr><td>H2O Connection ip: </td>\n",
       "<td>127.0.0.1</td></tr>\n",
       "<tr><td>H2O Connection port: </td>\n",
       "<td>54321</td></tr></table></div>"
      ],
      "text/plain": [
       "--------------------------  ----------------------------------------------\n",
       "H2O cluster uptime:         2 hours 28 minutes 19 seconds 651 milliseconds\n",
       "H2O cluster version:        3.6.0.3\n",
       "H2O cluster name:           H2O_started_from_python\n",
       "H2O cluster total nodes:    1\n",
       "H2O cluster total memory:   3.56 GB\n",
       "H2O cluster total cores:    8\n",
       "H2O cluster allowed cores:  8\n",
       "H2O cluster healthy:        True\n",
       "H2O Connection ip:          127.0.0.1\n",
       "H2O Connection port:        54321\n",
       "--------------------------  ----------------------------------------------"
      ]
     },
     "metadata": {},
     "output_type": "display_data"
    }
   ],
   "source": [
    "import h2o\n",
    "\n",
    "# Start an H2O Cluster on your local machine\n",
    "h2o.init()"
   ]
  },
  {
   "cell_type": "markdown",
   "metadata": {},
   "source": [
    "If you already have an H2O cluster running that you'd like to connect to (for example, in a multi-node Hadoop environment), then you can specify the IP and port of that cluster as follows:"
   ]
  },
  {
   "cell_type": "code",
   "execution_count": 114,
   "metadata": {
    "collapsed": false
   },
   "outputs": [],
   "source": [
    "# This will not actually do anything since it's a fake IP address\n",
    "# h2o.init(ip=\"123.45.67.89\", port=54321)"
   ]
  },
  {
   "cell_type": "markdown",
   "metadata": {},
   "source": [
    "## Download EEG Data"
   ]
  },
  {
   "cell_type": "markdown",
   "metadata": {},
   "source": [
    "The following code downloads a copy of the [EEG Eye State](http://archive.ics.uci.edu/ml/datasets/EEG+Eye+State#) dataset.  All data is from one continuous EEG measurement with the [Emotiv EEG Neuroheadset](https://emotiv.com/epoc.php). The duration of the measurement was 117 seconds. The eye state was detected via a camera during the EEG measurement and added later manually to the file after analysing the video frames. '1' indicates the eye-closed and '0' the eye-open state. All values are in chronological order with the first measured value at the top of the data.\n",
    "\n",
    "![Emotiv Headset](http://dissociatedpress.com/wp-content/uploads/2013/03/emotiv-490.jpg)"
   ]
  },
  {
   "cell_type": "markdown",
   "metadata": {},
   "source": [
    "We can import the data directly into H2O using the `import_file` method in the Python API.  The import path can be a URL, a local path, a path to an HDFS file, or a file on Amazon S3."
   ]
  },
  {
   "cell_type": "code",
   "execution_count": 2,
   "metadata": {
    "collapsed": false
   },
   "outputs": [
    {
     "name": "stdout",
     "output_type": "stream",
     "text": [
      "\n",
      "Parse Progress: [##################################################] 100%\n"
     ]
    }
   ],
   "source": [
    "csv_url = \"http://www.stat.berkeley.edu/~ledell/data/eeg_eyestate_splits.csv\"\n",
    "data = h2o.import_file(csv_url)"
   ]
  },
  {
   "cell_type": "markdown",
   "metadata": {},
   "source": [
    "## Explore Data\n",
    "Once we have loaded the data, let's take a quick look.  First the dimension of the frame:"
   ]
  },
  {
   "cell_type": "code",
   "execution_count": 3,
   "metadata": {
    "collapsed": false
   },
   "outputs": [
    {
     "data": {
      "text/plain": [
       "(14980, 16)"
      ]
     },
     "execution_count": 3,
     "metadata": {},
     "output_type": "execute_result"
    }
   ],
   "source": [
    "data.shape\n"
   ]
  },
  {
   "cell_type": "markdown",
   "metadata": {},
   "source": [
    "Now let's take a look at the top of the frame:"
   ]
  },
  {
   "cell_type": "code",
   "execution_count": 4,
   "metadata": {
    "collapsed": false
   },
   "outputs": [
    {
     "data": {
      "text/html": [
       "<table>\n",
       "<tr><th style=\"text-align: right;\">    AF3</th><th style=\"text-align: right;\">     F7</th><th style=\"text-align: right;\">     F3</th><th style=\"text-align: right;\">    FC5</th><th style=\"text-align: right;\">     T7</th><th style=\"text-align: right;\">     P7</th><th style=\"text-align: right;\">     O1</th><th style=\"text-align: right;\">     O2</th><th style=\"text-align: right;\">     P8</th><th style=\"text-align: right;\">     T8</th><th style=\"text-align: right;\">    FC6</th><th style=\"text-align: right;\">     F4</th><th style=\"text-align: right;\">     F8</th><th style=\"text-align: right;\">    AF4</th><th style=\"text-align: right;\">  eyeDetection</th><th>split  </th></tr>\n",
       "<tr><td style=\"text-align: right;\">4329.23</td><td style=\"text-align: right;\">4009.23</td><td style=\"text-align: right;\">4289.23</td><td style=\"text-align: right;\">4148.21</td><td style=\"text-align: right;\">4350.26</td><td style=\"text-align: right;\">4586.15</td><td style=\"text-align: right;\">4096.92</td><td style=\"text-align: right;\">4641.03</td><td style=\"text-align: right;\">4222.05</td><td style=\"text-align: right;\">4238.46</td><td style=\"text-align: right;\">4211.28</td><td style=\"text-align: right;\">4280.51</td><td style=\"text-align: right;\">4635.9 </td><td style=\"text-align: right;\">4393.85</td><td style=\"text-align: right;\">             0</td><td>valid  </td></tr>\n",
       "<tr><td style=\"text-align: right;\">4324.62</td><td style=\"text-align: right;\">4004.62</td><td style=\"text-align: right;\">4293.85</td><td style=\"text-align: right;\">4148.72</td><td style=\"text-align: right;\">4342.05</td><td style=\"text-align: right;\">4586.67</td><td style=\"text-align: right;\">4097.44</td><td style=\"text-align: right;\">4638.97</td><td style=\"text-align: right;\">4210.77</td><td style=\"text-align: right;\">4226.67</td><td style=\"text-align: right;\">4207.69</td><td style=\"text-align: right;\">4279.49</td><td style=\"text-align: right;\">4632.82</td><td style=\"text-align: right;\">4384.1 </td><td style=\"text-align: right;\">             0</td><td>test   </td></tr>\n",
       "<tr><td style=\"text-align: right;\">4327.69</td><td style=\"text-align: right;\">4006.67</td><td style=\"text-align: right;\">4295.38</td><td style=\"text-align: right;\">4156.41</td><td style=\"text-align: right;\">4336.92</td><td style=\"text-align: right;\">4583.59</td><td style=\"text-align: right;\">4096.92</td><td style=\"text-align: right;\">4630.26</td><td style=\"text-align: right;\">4207.69</td><td style=\"text-align: right;\">4222.05</td><td style=\"text-align: right;\">4206.67</td><td style=\"text-align: right;\">4282.05</td><td style=\"text-align: right;\">4628.72</td><td style=\"text-align: right;\">4389.23</td><td style=\"text-align: right;\">             0</td><td>train  </td></tr>\n",
       "<tr><td style=\"text-align: right;\">4328.72</td><td style=\"text-align: right;\">4011.79</td><td style=\"text-align: right;\">4296.41</td><td style=\"text-align: right;\">4155.9 </td><td style=\"text-align: right;\">4343.59</td><td style=\"text-align: right;\">4582.56</td><td style=\"text-align: right;\">4097.44</td><td style=\"text-align: right;\">4630.77</td><td style=\"text-align: right;\">4217.44</td><td style=\"text-align: right;\">4235.38</td><td style=\"text-align: right;\">4210.77</td><td style=\"text-align: right;\">4287.69</td><td style=\"text-align: right;\">4632.31</td><td style=\"text-align: right;\">4396.41</td><td style=\"text-align: right;\">             0</td><td>train  </td></tr>\n",
       "<tr><td style=\"text-align: right;\">4326.15</td><td style=\"text-align: right;\">4011.79</td><td style=\"text-align: right;\">4292.31</td><td style=\"text-align: right;\">4151.28</td><td style=\"text-align: right;\">4347.69</td><td style=\"text-align: right;\">4586.67</td><td style=\"text-align: right;\">4095.9 </td><td style=\"text-align: right;\">4627.69</td><td style=\"text-align: right;\">4210.77</td><td style=\"text-align: right;\">4244.1 </td><td style=\"text-align: right;\">4212.82</td><td style=\"text-align: right;\">4288.21</td><td style=\"text-align: right;\">4632.82</td><td style=\"text-align: right;\">4398.46</td><td style=\"text-align: right;\">             0</td><td>train  </td></tr>\n",
       "<tr><td style=\"text-align: right;\">4321.03</td><td style=\"text-align: right;\">4004.62</td><td style=\"text-align: right;\">4284.1 </td><td style=\"text-align: right;\">4153.33</td><td style=\"text-align: right;\">4345.64</td><td style=\"text-align: right;\">4587.18</td><td style=\"text-align: right;\">4093.33</td><td style=\"text-align: right;\">4616.92</td><td style=\"text-align: right;\">4202.56</td><td style=\"text-align: right;\">4232.82</td><td style=\"text-align: right;\">4209.74</td><td style=\"text-align: right;\">4281.03</td><td style=\"text-align: right;\">4628.21</td><td style=\"text-align: right;\">4389.74</td><td style=\"text-align: right;\">             0</td><td>train  </td></tr>\n",
       "<tr><td style=\"text-align: right;\">4319.49</td><td style=\"text-align: right;\">4001.03</td><td style=\"text-align: right;\">4280.51</td><td style=\"text-align: right;\">4151.79</td><td style=\"text-align: right;\">4343.59</td><td style=\"text-align: right;\">4584.62</td><td style=\"text-align: right;\">4089.74</td><td style=\"text-align: right;\">4615.9 </td><td style=\"text-align: right;\">4212.31</td><td style=\"text-align: right;\">4226.67</td><td style=\"text-align: right;\">4201.03</td><td style=\"text-align: right;\">4269.74</td><td style=\"text-align: right;\">4625.13</td><td style=\"text-align: right;\">4378.46</td><td style=\"text-align: right;\">             0</td><td>test   </td></tr>\n",
       "<tr><td style=\"text-align: right;\">4325.64</td><td style=\"text-align: right;\">4006.67</td><td style=\"text-align: right;\">4278.46</td><td style=\"text-align: right;\">4143.08</td><td style=\"text-align: right;\">4344.1 </td><td style=\"text-align: right;\">4583.08</td><td style=\"text-align: right;\">4087.18</td><td style=\"text-align: right;\">4614.87</td><td style=\"text-align: right;\">4205.64</td><td style=\"text-align: right;\">4230.26</td><td style=\"text-align: right;\">4195.9 </td><td style=\"text-align: right;\">4266.67</td><td style=\"text-align: right;\">4622.05</td><td style=\"text-align: right;\">4380.51</td><td style=\"text-align: right;\">             0</td><td>test   </td></tr>\n",
       "<tr><td style=\"text-align: right;\">4326.15</td><td style=\"text-align: right;\">4010.77</td><td style=\"text-align: right;\">4276.41</td><td style=\"text-align: right;\">4139.49</td><td style=\"text-align: right;\">4345.13</td><td style=\"text-align: right;\">4584.1 </td><td style=\"text-align: right;\">4091.28</td><td style=\"text-align: right;\">4608.21</td><td style=\"text-align: right;\">4187.69</td><td style=\"text-align: right;\">4229.74</td><td style=\"text-align: right;\">4202.05</td><td style=\"text-align: right;\">4273.85</td><td style=\"text-align: right;\">4627.18</td><td style=\"text-align: right;\">4389.74</td><td style=\"text-align: right;\">             0</td><td>test   </td></tr>\n",
       "<tr><td style=\"text-align: right;\">4326.15</td><td style=\"text-align: right;\">4011.28</td><td style=\"text-align: right;\">4276.92</td><td style=\"text-align: right;\">4142.05</td><td style=\"text-align: right;\">4344.1 </td><td style=\"text-align: right;\">4582.56</td><td style=\"text-align: right;\">4092.82</td><td style=\"text-align: right;\">4608.72</td><td style=\"text-align: right;\">4194.36</td><td style=\"text-align: right;\">4228.72</td><td style=\"text-align: right;\">4212.82</td><td style=\"text-align: right;\">4277.95</td><td style=\"text-align: right;\">4637.44</td><td style=\"text-align: right;\">4393.33</td><td style=\"text-align: right;\">             0</td><td>train  </td></tr>\n",
       "</table>"
      ]
     },
     "metadata": {},
     "output_type": "display_data"
    },
    {
     "data": {
      "text/plain": []
     },
     "execution_count": 4,
     "metadata": {},
     "output_type": "execute_result"
    }
   ],
   "source": [
    "data.head()"
   ]
  },
  {
   "cell_type": "markdown",
   "metadata": {},
   "source": [
    "The first 14 columns are numeric values that represent EEG measurements from the headset.  The \"eyeDetection\" column is the response.  There is an additional column called \"split\" that was added (by me) in order to specify partitions of the data (so we can easily benchmark against other tools outside of H2O using the same splits).  I randomly divided the dataset into three partitions: train (60%), valid (%20) and test (20%) and marked which split each row belongs to in the \"split\" column.\n",
    "\n",
    "Let's take a look at the column names.  The data contains derived features from the medical images of the tumors."
   ]
  },
  {
   "cell_type": "code",
   "execution_count": 5,
   "metadata": {
    "collapsed": false
   },
   "outputs": [
    {
     "data": {
      "text/plain": [
       "[u'AF3',\n",
       " u'F7',\n",
       " u'F3',\n",
       " u'FC5',\n",
       " u'T7',\n",
       " u'P7',\n",
       " u'O1',\n",
       " u'O2',\n",
       " u'P8',\n",
       " u'T8',\n",
       " u'FC6',\n",
       " u'F4',\n",
       " u'F8',\n",
       " u'AF4',\n",
       " u'eyeDetection',\n",
       " u'split']"
      ]
     },
     "execution_count": 5,
     "metadata": {},
     "output_type": "execute_result"
    }
   ],
   "source": [
    "data.columns"
   ]
  },
  {
   "cell_type": "markdown",
   "metadata": {},
   "source": [
    "To select a subset of the columns to look at, typical Pandas indexing applies:"
   ]
  },
  {
   "cell_type": "code",
   "execution_count": 6,
   "metadata": {
    "collapsed": false
   },
   "outputs": [
    {
     "data": {
      "text/html": [
       "<table>\n",
       "<tr><th style=\"text-align: right;\">    AF3</th><th style=\"text-align: right;\">  eyeDetection</th><th>split  </th></tr>\n",
       "<tr><td style=\"text-align: right;\">4329.23</td><td style=\"text-align: right;\">             0</td><td>valid  </td></tr>\n",
       "<tr><td style=\"text-align: right;\">4324.62</td><td style=\"text-align: right;\">             0</td><td>test   </td></tr>\n",
       "<tr><td style=\"text-align: right;\">4327.69</td><td style=\"text-align: right;\">             0</td><td>train  </td></tr>\n",
       "<tr><td style=\"text-align: right;\">4328.72</td><td style=\"text-align: right;\">             0</td><td>train  </td></tr>\n",
       "<tr><td style=\"text-align: right;\">4326.15</td><td style=\"text-align: right;\">             0</td><td>train  </td></tr>\n",
       "<tr><td style=\"text-align: right;\">4321.03</td><td style=\"text-align: right;\">             0</td><td>train  </td></tr>\n",
       "<tr><td style=\"text-align: right;\">4319.49</td><td style=\"text-align: right;\">             0</td><td>test   </td></tr>\n",
       "<tr><td style=\"text-align: right;\">4325.64</td><td style=\"text-align: right;\">             0</td><td>test   </td></tr>\n",
       "<tr><td style=\"text-align: right;\">4326.15</td><td style=\"text-align: right;\">             0</td><td>test   </td></tr>\n",
       "<tr><td style=\"text-align: right;\">4326.15</td><td style=\"text-align: right;\">             0</td><td>train  </td></tr>\n",
       "</table>"
      ]
     },
     "metadata": {},
     "output_type": "display_data"
    },
    {
     "data": {
      "text/plain": []
     },
     "execution_count": 6,
     "metadata": {},
     "output_type": "execute_result"
    }
   ],
   "source": [
    "columns = ['AF3', 'eyeDetection', 'split']\n",
    "data[columns].head()"
   ]
  },
  {
   "cell_type": "markdown",
   "metadata": {},
   "source": [
    "Now let's select a single column, for example -- the response column, and look at the data more closely:"
   ]
  },
  {
   "cell_type": "code",
   "execution_count": 7,
   "metadata": {
    "collapsed": false
   },
   "outputs": [
    {
     "data": {
      "text/html": [
       "<table>\n",
       "<tr><th style=\"text-align: right;\">  eyeDetection</th></tr>\n",
       "<tr><td style=\"text-align: right;\">             0</td></tr>\n",
       "<tr><td style=\"text-align: right;\">             0</td></tr>\n",
       "<tr><td style=\"text-align: right;\">             0</td></tr>\n",
       "<tr><td style=\"text-align: right;\">             0</td></tr>\n",
       "<tr><td style=\"text-align: right;\">             0</td></tr>\n",
       "<tr><td style=\"text-align: right;\">             0</td></tr>\n",
       "<tr><td style=\"text-align: right;\">             0</td></tr>\n",
       "<tr><td style=\"text-align: right;\">             0</td></tr>\n",
       "<tr><td style=\"text-align: right;\">             0</td></tr>\n",
       "<tr><td style=\"text-align: right;\">             0</td></tr>\n",
       "</table>"
      ]
     },
     "metadata": {},
     "output_type": "display_data"
    },
    {
     "data": {
      "text/plain": []
     },
     "execution_count": 7,
     "metadata": {},
     "output_type": "execute_result"
    }
   ],
   "source": [
    "y = 'eyeDetection'\n",
    "data[y]"
   ]
  },
  {
   "cell_type": "markdown",
   "metadata": {},
   "source": [
    "It looks like a binary response, but let's validate that assumption:"
   ]
  },
  {
   "cell_type": "code",
   "execution_count": 8,
   "metadata": {
    "collapsed": false
   },
   "outputs": [
    {
     "data": {
      "text/html": [
       "<table>\n",
       "<tr><th style=\"text-align: right;\">  C1</th></tr>\n",
       "<tr><td style=\"text-align: right;\">   0</td></tr>\n",
       "<tr><td style=\"text-align: right;\">   1</td></tr>\n",
       "</table>"
      ]
     },
     "metadata": {},
     "output_type": "display_data"
    },
    {
     "data": {
      "text/plain": []
     },
     "execution_count": 8,
     "metadata": {},
     "output_type": "execute_result"
    }
   ],
   "source": [
    "data[y].unique()"
   ]
  },
  {
   "cell_type": "markdown",
   "metadata": {},
   "source": [
    "If you don't specify the column types when you import the file, H2O makes a guess at what your column types are.  If there are 0's and 1's in a column, H2O will automatically parse that as numeric by default.  \n",
    "\n",
    "Therefore, we should convert the response column to a more efficient \"enum\" representation -- in this case it is a categorial variable with two levels, 0 and 1.  If the only column in my data that is categorical is the response, I typically don't bother specifying the column type during the parse, and instead use this one-liner to convert it aftewards:"
   ]
  },
  {
   "cell_type": "code",
   "execution_count": 9,
   "metadata": {
    "collapsed": false
   },
   "outputs": [],
   "source": [
    "data[y] = data[y].asfactor()"
   ]
  },
  {
   "cell_type": "markdown",
   "metadata": {},
   "source": [
    "Now we can check that there are two levels in our response column:"
   ]
  },
  {
   "cell_type": "code",
   "execution_count": 10,
   "metadata": {
    "collapsed": false
   },
   "outputs": [
    {
     "data": {
      "text/plain": [
       "[2]"
      ]
     },
     "execution_count": 10,
     "metadata": {},
     "output_type": "execute_result"
    }
   ],
   "source": [
    "data[y].nlevels()"
   ]
  },
  {
   "cell_type": "markdown",
   "metadata": {},
   "source": [
    "We can query the categorical \"levels\" as well ('0' and '1' stand for \"eye open\" and \"eye closed\") to see what they are:"
   ]
  },
  {
   "cell_type": "code",
   "execution_count": 11,
   "metadata": {
    "collapsed": false
   },
   "outputs": [
    {
     "data": {
      "text/plain": [
       "[['0', '1']]"
      ]
     },
     "execution_count": 11,
     "metadata": {},
     "output_type": "execute_result"
    }
   ],
   "source": [
    "data[y].levels()"
   ]
  },
  {
   "cell_type": "markdown",
   "metadata": {},
   "source": [
    "We may want to check if there are any missing values, so let's look for NAs in our dataset.  For tree-based methods like GBM and RF, H2O handles missing feature values automatically, so it's not a problem if we are missing certain feature values.  However, it is always a good idea to check to make sure that you are not missing any of the training labels.  \n",
    "\n",
    "To figure out which, if any, values are missing, we can use the `isna` method on the diagnosis column.  The columns in an H2O Frame are also H2O Frames themselves, so all the methods that apply to a Frame also apply to a single column."
   ]
  },
  {
   "cell_type": "code",
   "execution_count": 12,
   "metadata": {
    "collapsed": false
   },
   "outputs": [
    {
     "data": {
      "text/html": [
       "<table>\n",
       "<tr><th style=\"text-align: right;\">  C1</th><th style=\"text-align: right;\">  C2</th><th style=\"text-align: right;\">  C3</th><th style=\"text-align: right;\">  C4</th><th style=\"text-align: right;\">  C5</th><th style=\"text-align: right;\">  C6</th><th style=\"text-align: right;\">  C7</th><th style=\"text-align: right;\">  C8</th><th style=\"text-align: right;\">  C9</th><th style=\"text-align: right;\">  C10</th><th style=\"text-align: right;\">  C11</th><th style=\"text-align: right;\">  C12</th><th style=\"text-align: right;\">  C13</th><th style=\"text-align: right;\">  C14</th><th style=\"text-align: right;\">  C15</th><th style=\"text-align: right;\">  C16</th></tr>\n",
       "<tr><td style=\"text-align: right;\">   0</td><td style=\"text-align: right;\">   0</td><td style=\"text-align: right;\">   0</td><td style=\"text-align: right;\">   0</td><td style=\"text-align: right;\">   0</td><td style=\"text-align: right;\">   0</td><td style=\"text-align: right;\">   0</td><td style=\"text-align: right;\">   0</td><td style=\"text-align: right;\">   0</td><td style=\"text-align: right;\">    0</td><td style=\"text-align: right;\">    0</td><td style=\"text-align: right;\">    0</td><td style=\"text-align: right;\">    0</td><td style=\"text-align: right;\">    0</td><td style=\"text-align: right;\">    0</td><td style=\"text-align: right;\">    0</td></tr>\n",
       "<tr><td style=\"text-align: right;\">   0</td><td style=\"text-align: right;\">   0</td><td style=\"text-align: right;\">   0</td><td style=\"text-align: right;\">   0</td><td style=\"text-align: right;\">   0</td><td style=\"text-align: right;\">   0</td><td style=\"text-align: right;\">   0</td><td style=\"text-align: right;\">   0</td><td style=\"text-align: right;\">   0</td><td style=\"text-align: right;\">    0</td><td style=\"text-align: right;\">    0</td><td style=\"text-align: right;\">    0</td><td style=\"text-align: right;\">    0</td><td style=\"text-align: right;\">    0</td><td style=\"text-align: right;\">    0</td><td style=\"text-align: right;\">    0</td></tr>\n",
       "<tr><td style=\"text-align: right;\">   0</td><td style=\"text-align: right;\">   0</td><td style=\"text-align: right;\">   0</td><td style=\"text-align: right;\">   0</td><td style=\"text-align: right;\">   0</td><td style=\"text-align: right;\">   0</td><td style=\"text-align: right;\">   0</td><td style=\"text-align: right;\">   0</td><td style=\"text-align: right;\">   0</td><td style=\"text-align: right;\">    0</td><td style=\"text-align: right;\">    0</td><td style=\"text-align: right;\">    0</td><td style=\"text-align: right;\">    0</td><td style=\"text-align: right;\">    0</td><td style=\"text-align: right;\">    0</td><td style=\"text-align: right;\">    0</td></tr>\n",
       "<tr><td style=\"text-align: right;\">   0</td><td style=\"text-align: right;\">   0</td><td style=\"text-align: right;\">   0</td><td style=\"text-align: right;\">   0</td><td style=\"text-align: right;\">   0</td><td style=\"text-align: right;\">   0</td><td style=\"text-align: right;\">   0</td><td style=\"text-align: right;\">   0</td><td style=\"text-align: right;\">   0</td><td style=\"text-align: right;\">    0</td><td style=\"text-align: right;\">    0</td><td style=\"text-align: right;\">    0</td><td style=\"text-align: right;\">    0</td><td style=\"text-align: right;\">    0</td><td style=\"text-align: right;\">    0</td><td style=\"text-align: right;\">    0</td></tr>\n",
       "<tr><td style=\"text-align: right;\">   0</td><td style=\"text-align: right;\">   0</td><td style=\"text-align: right;\">   0</td><td style=\"text-align: right;\">   0</td><td style=\"text-align: right;\">   0</td><td style=\"text-align: right;\">   0</td><td style=\"text-align: right;\">   0</td><td style=\"text-align: right;\">   0</td><td style=\"text-align: right;\">   0</td><td style=\"text-align: right;\">    0</td><td style=\"text-align: right;\">    0</td><td style=\"text-align: right;\">    0</td><td style=\"text-align: right;\">    0</td><td style=\"text-align: right;\">    0</td><td style=\"text-align: right;\">    0</td><td style=\"text-align: right;\">    0</td></tr>\n",
       "<tr><td style=\"text-align: right;\">   0</td><td style=\"text-align: right;\">   0</td><td style=\"text-align: right;\">   0</td><td style=\"text-align: right;\">   0</td><td style=\"text-align: right;\">   0</td><td style=\"text-align: right;\">   0</td><td style=\"text-align: right;\">   0</td><td style=\"text-align: right;\">   0</td><td style=\"text-align: right;\">   0</td><td style=\"text-align: right;\">    0</td><td style=\"text-align: right;\">    0</td><td style=\"text-align: right;\">    0</td><td style=\"text-align: right;\">    0</td><td style=\"text-align: right;\">    0</td><td style=\"text-align: right;\">    0</td><td style=\"text-align: right;\">    0</td></tr>\n",
       "<tr><td style=\"text-align: right;\">   0</td><td style=\"text-align: right;\">   0</td><td style=\"text-align: right;\">   0</td><td style=\"text-align: right;\">   0</td><td style=\"text-align: right;\">   0</td><td style=\"text-align: right;\">   0</td><td style=\"text-align: right;\">   0</td><td style=\"text-align: right;\">   0</td><td style=\"text-align: right;\">   0</td><td style=\"text-align: right;\">    0</td><td style=\"text-align: right;\">    0</td><td style=\"text-align: right;\">    0</td><td style=\"text-align: right;\">    0</td><td style=\"text-align: right;\">    0</td><td style=\"text-align: right;\">    0</td><td style=\"text-align: right;\">    0</td></tr>\n",
       "<tr><td style=\"text-align: right;\">   0</td><td style=\"text-align: right;\">   0</td><td style=\"text-align: right;\">   0</td><td style=\"text-align: right;\">   0</td><td style=\"text-align: right;\">   0</td><td style=\"text-align: right;\">   0</td><td style=\"text-align: right;\">   0</td><td style=\"text-align: right;\">   0</td><td style=\"text-align: right;\">   0</td><td style=\"text-align: right;\">    0</td><td style=\"text-align: right;\">    0</td><td style=\"text-align: right;\">    0</td><td style=\"text-align: right;\">    0</td><td style=\"text-align: right;\">    0</td><td style=\"text-align: right;\">    0</td><td style=\"text-align: right;\">    0</td></tr>\n",
       "<tr><td style=\"text-align: right;\">   0</td><td style=\"text-align: right;\">   0</td><td style=\"text-align: right;\">   0</td><td style=\"text-align: right;\">   0</td><td style=\"text-align: right;\">   0</td><td style=\"text-align: right;\">   0</td><td style=\"text-align: right;\">   0</td><td style=\"text-align: right;\">   0</td><td style=\"text-align: right;\">   0</td><td style=\"text-align: right;\">    0</td><td style=\"text-align: right;\">    0</td><td style=\"text-align: right;\">    0</td><td style=\"text-align: right;\">    0</td><td style=\"text-align: right;\">    0</td><td style=\"text-align: right;\">    0</td><td style=\"text-align: right;\">    0</td></tr>\n",
       "<tr><td style=\"text-align: right;\">   0</td><td style=\"text-align: right;\">   0</td><td style=\"text-align: right;\">   0</td><td style=\"text-align: right;\">   0</td><td style=\"text-align: right;\">   0</td><td style=\"text-align: right;\">   0</td><td style=\"text-align: right;\">   0</td><td style=\"text-align: right;\">   0</td><td style=\"text-align: right;\">   0</td><td style=\"text-align: right;\">    0</td><td style=\"text-align: right;\">    0</td><td style=\"text-align: right;\">    0</td><td style=\"text-align: right;\">    0</td><td style=\"text-align: right;\">    0</td><td style=\"text-align: right;\">    0</td><td style=\"text-align: right;\">    0</td></tr>\n",
       "</table>"
      ]
     },
     "metadata": {},
     "output_type": "display_data"
    },
    {
     "data": {
      "text/plain": []
     },
     "execution_count": 12,
     "metadata": {},
     "output_type": "execute_result"
    }
   ],
   "source": [
    "data.isna()"
   ]
  },
  {
   "cell_type": "code",
   "execution_count": 13,
   "metadata": {
    "collapsed": false
   },
   "outputs": [
    {
     "data": {
      "text/html": [
       "<table>\n",
       "<tr><th style=\"text-align: right;\">  C1</th></tr>\n",
       "<tr><td style=\"text-align: right;\">   0</td></tr>\n",
       "<tr><td style=\"text-align: right;\">   0</td></tr>\n",
       "<tr><td style=\"text-align: right;\">   0</td></tr>\n",
       "<tr><td style=\"text-align: right;\">   0</td></tr>\n",
       "<tr><td style=\"text-align: right;\">   0</td></tr>\n",
       "<tr><td style=\"text-align: right;\">   0</td></tr>\n",
       "<tr><td style=\"text-align: right;\">   0</td></tr>\n",
       "<tr><td style=\"text-align: right;\">   0</td></tr>\n",
       "<tr><td style=\"text-align: right;\">   0</td></tr>\n",
       "<tr><td style=\"text-align: right;\">   0</td></tr>\n",
       "</table>"
      ]
     },
     "metadata": {},
     "output_type": "display_data"
    },
    {
     "data": {
      "text/plain": []
     },
     "execution_count": 13,
     "metadata": {},
     "output_type": "execute_result"
    }
   ],
   "source": [
    "data[y].isna()"
   ]
  },
  {
   "cell_type": "markdown",
   "metadata": {},
   "source": [
    "The `isna` method doesn't directly answer the question, \"Does the response column contain any NAs?\", rather it returns a 0 if that cell is not missing (Is NA? FALSE == 0) and a 1 if it is missing (Is NA? TRUE == 1).  So if there are no missing values, then summing over the whole column should produce a summand equal to 0.0.  Let's take a look:"
   ]
  },
  {
   "cell_type": "code",
   "execution_count": 14,
   "metadata": {
    "collapsed": false
   },
   "outputs": [
    {
     "data": {
      "text/plain": [
       "0.0"
      ]
     },
     "execution_count": 14,
     "metadata": {},
     "output_type": "execute_result"
    }
   ],
   "source": [
    "data[y].isna().sum()"
   ]
  },
  {
   "cell_type": "markdown",
   "metadata": {},
   "source": [
    "Great, no missing labels.  :-)\n",
    "\n",
    "Out of curiosity, let's see if there is any missing data in this frame:"
   ]
  },
  {
   "cell_type": "code",
   "execution_count": 15,
   "metadata": {
    "collapsed": false
   },
   "outputs": [
    {
     "data": {
      "text/plain": [
       "0.0"
      ]
     },
     "execution_count": 15,
     "metadata": {},
     "output_type": "execute_result"
    }
   ],
   "source": [
    "data.isna().sum()"
   ]
  },
  {
   "cell_type": "markdown",
   "metadata": {},
   "source": [
    "The sum is still zero, so there are no missing values in any of the cells."
   ]
  },
  {
   "cell_type": "markdown",
   "metadata": {},
   "source": [
    "The next thing I may wonder about in a binary classification problem is the distribution of the response in the training data.  Is one of the two outcomes under-represented in the training set?  Many real datasets have what's called an \"imbalanace\" problem, where one of the classes has far fewer training examples than the other class.  Let's take a look at the distribution:"
   ]
  },
  {
   "cell_type": "code",
   "execution_count": 16,
   "metadata": {
    "collapsed": false
   },
   "outputs": [
    {
     "data": {
      "text/html": [
       "<table>\n",
       "<tr><th style=\"text-align: right;\">  eyeDetection</th><th style=\"text-align: right;\">  Count</th></tr>\n",
       "<tr><td style=\"text-align: right;\">             0</td><td style=\"text-align: right;\">   8257</td></tr>\n",
       "<tr><td style=\"text-align: right;\">             1</td><td style=\"text-align: right;\">   6723</td></tr>\n",
       "</table>"
      ]
     },
     "metadata": {},
     "output_type": "display_data"
    },
    {
     "data": {
      "text/plain": []
     },
     "execution_count": 16,
     "metadata": {},
     "output_type": "execute_result"
    }
   ],
   "source": [
    "data[y].table()"
   ]
  },
  {
   "cell_type": "markdown",
   "metadata": {},
   "source": [
    "Ok, the data is not exactly evenly distributed between the two classes -- there are more 0's than 1's in the dataset.  However, this level of imbalance shouldn't be much of an issue for the machine learning algos.  (We will revisit this later in the modeling section below).\n",
    "\n",
    "Let's calculate the percentage that each class represents:"
   ]
  },
  {
   "cell_type": "code",
   "execution_count": 17,
   "metadata": {
    "collapsed": false
   },
   "outputs": [
    {
     "data": {
      "text/html": [
       "<table>\n",
       "<tr><th style=\"text-align: right;\">   Count</th></tr>\n",
       "<tr><td style=\"text-align: right;\">0.551202</td></tr>\n",
       "<tr><td style=\"text-align: right;\">0.448798</td></tr>\n",
       "</table>"
      ]
     },
     "metadata": {},
     "output_type": "display_data"
    },
    {
     "data": {
      "text/plain": []
     },
     "execution_count": 17,
     "metadata": {},
     "output_type": "execute_result"
    }
   ],
   "source": [
    "n = data.shape[0]  # Total number of training samples\n",
    "data[y].table()['Count']/n"
   ]
  },
  {
   "cell_type": "markdown",
   "metadata": {},
   "source": [
    "### Split H2O Frame into a train and test set\n",
    "\n",
    "So far we have explored the original dataset (all rows).  For the machine learning portion of this tutorial, we will break the dataset into three parts: a training set, validation set and a test set.\n",
    "\n",
    "If you want H2O to do the splitting for you, you can use the `split_frame` method.  However, we have explicit splits that we want (for reproducibility reasons), so we can just subset the Frame to get the partitions we want.  \n",
    "\n",
    "Subset the `data` H2O Frame on the \"split\" column:"
   ]
  },
  {
   "cell_type": "code",
   "execution_count": 18,
   "metadata": {
    "collapsed": false
   },
   "outputs": [
    {
     "data": {
      "text/plain": [
       "(8988, 16)"
      ]
     },
     "execution_count": 18,
     "metadata": {},
     "output_type": "execute_result"
    }
   ],
   "source": [
    "train = data[data['split']==\"train\"]\n",
    "train.shape"
   ]
  },
  {
   "cell_type": "code",
   "execution_count": 19,
   "metadata": {
    "collapsed": false
   },
   "outputs": [
    {
     "data": {
      "text/plain": [
       "(2996, 16)"
      ]
     },
     "execution_count": 19,
     "metadata": {},
     "output_type": "execute_result"
    }
   ],
   "source": [
    "valid = data[data['split']==\"valid\"]\n",
    "valid.shape"
   ]
  },
  {
   "cell_type": "code",
   "execution_count": 20,
   "metadata": {
    "collapsed": false
   },
   "outputs": [
    {
     "data": {
      "text/plain": [
       "(2996, 16)"
      ]
     },
     "execution_count": 20,
     "metadata": {},
     "output_type": "execute_result"
    }
   ],
   "source": [
    "test = data[data['split']==\"test\"]\n",
    "test.shape"
   ]
  },
  {
   "cell_type": "markdown",
   "metadata": {},
   "source": [
    "## Machine Learning in H2O\n",
    "\n",
    "We will do a quick demo of the H2O software using a Gradient Boosting Machine (GBM).  The goal of this problem is to train a model to predict eye state (open vs closed) from EEG data. "
   ]
  },
  {
   "cell_type": "markdown",
   "metadata": {},
   "source": [
    "### Train and Test a GBM model"
   ]
  },
  {
   "cell_type": "code",
   "execution_count": 21,
   "metadata": {
    "collapsed": false
   },
   "outputs": [],
   "source": [
    "# Import H2O GBM:\n",
    "from h2o.estimators.gbm import H2OGradientBoostingEstimator\n"
   ]
  },
  {
   "cell_type": "markdown",
   "metadata": {},
   "source": [
    "We first create a `model` object of class, `\"H2OGradientBoostingEstimator\"`.  This does not actually do any training, it just sets the model up for training by specifying model parameters."
   ]
  },
  {
   "cell_type": "code",
   "execution_count": 22,
   "metadata": {
    "collapsed": false
   },
   "outputs": [],
   "source": [
    "model = H2OGradientBoostingEstimator(distribution='bernoulli',\n",
    "                                    ntrees=100,\n",
    "                                    max_depth=4,\n",
    "                                    learn_rate=0.1)"
   ]
  },
  {
   "cell_type": "markdown",
   "metadata": {},
   "source": [
    "#### Specify the predictor set and response\n",
    "\n",
    "The `model` object, like all H2O estimator objects, has a `train` method, which will actually perform model training.  At this step we specify the training and (optionally) a validation set, along with the response and predictor variables.\n",
    "\n",
    "The `x` argument should be a list of predictor names in the training frame, and `y` specifies the response column.  We have already set `y = \"eyeDetector\"` above, but we still need to specify `x`."
   ]
  },
  {
   "cell_type": "code",
   "execution_count": 23,
   "metadata": {
    "collapsed": false
   },
   "outputs": [
    {
     "data": {
      "text/plain": [
       "[u'AF3',\n",
       " u'F7',\n",
       " u'F3',\n",
       " u'FC5',\n",
       " u'T7',\n",
       " u'P7',\n",
       " u'O1',\n",
       " u'O2',\n",
       " u'P8',\n",
       " u'T8',\n",
       " u'FC6',\n",
       " u'F4',\n",
       " u'F8',\n",
       " u'AF4',\n",
       " u'eyeDetection',\n",
       " u'split']"
      ]
     },
     "execution_count": 23,
     "metadata": {},
     "output_type": "execute_result"
    }
   ],
   "source": [
    "x = list(train.columns)\n",
    "x"
   ]
  },
  {
   "cell_type": "code",
   "execution_count": 29,
   "metadata": {
    "collapsed": false
   },
   "outputs": [
    {
     "data": {
      "text/plain": [
       "[u'AF3',\n",
       " u'F7',\n",
       " u'F3',\n",
       " u'FC5',\n",
       " u'T7',\n",
       " u'P7',\n",
       " u'O1',\n",
       " u'O2',\n",
       " u'P8',\n",
       " u'T8',\n",
       " u'FC6',\n",
       " u'F4']"
      ]
     },
     "execution_count": 29,
     "metadata": {},
     "output_type": "execute_result"
    }
   ],
   "source": [
    "del x[12:14]  #Remove the 13th and 14th columns, 'eyeDetection' and 'split'\n",
    "x"
   ]
  },
  {
   "cell_type": "markdown",
   "metadata": {},
   "source": [
    "Now that we have specified `x` and `y`, we can train the model:"
   ]
  },
  {
   "cell_type": "code",
   "execution_count": 30,
   "metadata": {
    "collapsed": false
   },
   "outputs": [
    {
     "name": "stdout",
     "output_type": "stream",
     "text": [
      "\n",
      "gbm Model Build Progress: [##################################################] 100%\n"
     ]
    }
   ],
   "source": [
    "model.train(x=x, y=y, training_frame=train, validation_frame=valid)"
   ]
  },
  {
   "cell_type": "markdown",
   "metadata": {},
   "source": [
    "### Inspect Model\n",
    "\n",
    "The type of results shown when you print a model, are determined by the following:\n",
    "- Model class of the estimator (e.g. GBM, RF, GLM, DL)\n",
    "- The type of machine learning problem (e.g. binary classification, multiclass classification, regression)\n",
    "- The data you specify (e.g. `training_frame` only, `training_frame` and `validation_frame`, or `training_frame` and `nfolds`)\n",
    "\n",
    "Below, we see a GBM Model Summary, as well as training and validation metrics since we supplied a `validation_frame`.  Since this a binary classification task, we are shown the relevant performance metrics, which inclues: MSE, R^2, LogLoss, AUC and Gini.  Also, we are shown a Confusion Matrix, where the threshold for classification is chosen automatically (by H2O) as the threshold which maximizes the F1 score.\n",
    "\n",
    "The scoring history is also printed, which shows the performance metrics over some increment such as \"number of trees\" in the case of GBM and RF.\n",
    "\n",
    "Lastly, for tree-based methods (GBM and RF), we also print variable importance."
   ]
  },
  {
   "cell_type": "code",
   "execution_count": 142,
   "metadata": {
    "collapsed": false
   },
   "outputs": [
    {
     "name": "stdout",
     "output_type": "stream",
     "text": [
      "Model Details\n",
      "=============\n",
      "H2OGradientBoostingEstimator :  Gradient Boosting Machine\n",
      "Model Key:  GBM_model_python_1448515953177_2\n",
      "\n",
      "Model Summary:\n"
     ]
    },
    {
     "data": {
      "text/html": [
       "<div style=\"overflow:auto\"><table style=\"width:50%\"><tr><td><b></b></td>\n",
       "<td><b>number_of_trees</b></td>\n",
       "<td><b>model_size_in_bytes</b></td>\n",
       "<td><b>min_depth</b></td>\n",
       "<td><b>max_depth</b></td>\n",
       "<td><b>mean_depth</b></td>\n",
       "<td><b>min_leaves</b></td>\n",
       "<td><b>max_leaves</b></td>\n",
       "<td><b>mean_leaves</b></td></tr>\n",
       "<tr><td></td>\n",
       "<td>100.0</td>\n",
       "<td>23613.0</td>\n",
       "<td>4.0</td>\n",
       "<td>4.0</td>\n",
       "<td>4.0</td>\n",
       "<td>10.0</td>\n",
       "<td>16.0</td>\n",
       "<td>14.9</td></tr></table></div>"
      ],
      "text/plain": [
       "    number_of_trees    model_size_in_bytes    min_depth    max_depth    mean_depth    min_leaves    max_leaves    mean_leaves\n",
       "--  -----------------  ---------------------  -----------  -----------  ------------  ------------  ------------  -------------\n",
       "    100                23613                  4            4            4             10            16            14.9"
      ]
     },
     "metadata": {},
     "output_type": "display_data"
    },
    {
     "name": "stdout",
     "output_type": "stream",
     "text": [
      "\n",
      "\n",
      "ModelMetricsBinomial: gbm\n",
      "** Reported on train data. **\n",
      "\n",
      "MSE: 0.114026790434\n",
      "R^2: 0.539835211\n",
      "LogLoss: 0.376005292812\n",
      "AUC: 0.936370388939\n",
      "Gini: 0.872740777878\n",
      "\n",
      "Confusion Matrix (Act/Pred) for max f1 @ threshold = 0.43076103173:\n"
     ]
    },
    {
     "data": {
      "text/html": [
       "<div style=\"overflow:auto\"><table style=\"width:50%\"><tr><td><b></b></td>\n",
       "<td><b>0</b></td>\n",
       "<td><b>1</b></td>\n",
       "<td><b>Error</b></td>\n",
       "<td><b>Rate</b></td></tr>\n",
       "<tr><td>0</td>\n",
       "<td>4102.0</td>\n",
       "<td>814.0</td>\n",
       "<td>0.1656</td>\n",
       "<td> (814.0/4916.0)</td></tr>\n",
       "<tr><td>1</td>\n",
       "<td>534.0</td>\n",
       "<td>3538.0</td>\n",
       "<td>0.1311</td>\n",
       "<td> (534.0/4072.0)</td></tr>\n",
       "<tr><td>Total</td>\n",
       "<td>4636.0</td>\n",
       "<td>4352.0</td>\n",
       "<td>0.15</td>\n",
       "<td> (1348.0/8988.0)</td></tr></table></div>"
      ],
      "text/plain": [
       "       0     1     Error    Rate\n",
       "-----  ----  ----  -------  ---------------\n",
       "0      4102  814   0.1656   (814.0/4916.0)\n",
       "1      534   3538  0.1311   (534.0/4072.0)\n",
       "Total  4636  4352  0.15     (1348.0/8988.0)"
      ]
     },
     "metadata": {},
     "output_type": "display_data"
    },
    {
     "name": "stdout",
     "output_type": "stream",
     "text": [
      "\n",
      "Maximum Metrics: Maximum metrics at their respective thresholds\n",
      "\n"
     ]
    },
    {
     "data": {
      "text/html": [
       "<div style=\"overflow:auto\"><table style=\"width:50%\"><tr><td><b>metric</b></td>\n",
       "<td><b>threshold</b></td>\n",
       "<td><b>value</b></td>\n",
       "<td><b>idx</b></td></tr>\n",
       "<tr><td>max f1</td>\n",
       "<td>0.4</td>\n",
       "<td>0.8</td>\n",
       "<td>225.0</td></tr>\n",
       "<tr><td>max f2</td>\n",
       "<td>0.3</td>\n",
       "<td>0.9</td>\n",
       "<td>280.0</td></tr>\n",
       "<tr><td>max f0point5</td>\n",
       "<td>0.6</td>\n",
       "<td>0.9</td>\n",
       "<td>167.0</td></tr>\n",
       "<tr><td>max accuracy</td>\n",
       "<td>0.5</td>\n",
       "<td>0.9</td>\n",
       "<td>199.0</td></tr>\n",
       "<tr><td>max precision</td>\n",
       "<td>1.0</td>\n",
       "<td>1.0</td>\n",
       "<td>0.0</td></tr>\n",
       "<tr><td>max absolute_MCC</td>\n",
       "<td>0.5</td>\n",
       "<td>0.7</td>\n",
       "<td>199.0</td></tr>\n",
       "<tr><td>max min_per_class_accuracy</td>\n",
       "<td>0.4</td>\n",
       "<td>0.8</td>\n",
       "<td>218.0</td></tr></table></div>"
      ],
      "text/plain": [
       "metric                      threshold    value     idx\n",
       "--------------------------  -----------  --------  -----\n",
       "max f1                      0.430761     0.839981  225\n",
       "max f2                      0.29037      0.892735  280\n",
       "max f0point5                0.58224      0.868538  167\n",
       "max accuracy                0.500218     0.852915  199\n",
       "max precision               0.987034     1         0\n",
       "max absolute_MCC            0.500218     0.703071  199\n",
       "max min_per_class_accuracy  0.447326     0.849268  218"
      ]
     },
     "metadata": {},
     "output_type": "display_data"
    },
    {
     "name": "stdout",
     "output_type": "stream",
     "text": [
      "\n",
      "ModelMetricsBinomial: gbm\n",
      "** Reported on validation data. **\n",
      "\n",
      "MSE: 0.124121459821\n",
      "R^2: 0.499326493922\n",
      "LogLoss: 0.400023227684\n",
      "AUC: 0.917514329947\n",
      "Gini: 0.835028659894\n",
      "\n",
      "Confusion Matrix (Act/Pred) for max f1 @ threshold = 0.460577730095:\n"
     ]
    },
    {
     "data": {
      "text/html": [
       "<div style=\"overflow:auto\"><table style=\"width:50%\"><tr><td><b></b></td>\n",
       "<td><b>0</b></td>\n",
       "<td><b>1</b></td>\n",
       "<td><b>Error</b></td>\n",
       "<td><b>Rate</b></td></tr>\n",
       "<tr><td>0</td>\n",
       "<td>1364.0</td>\n",
       "<td>271.0</td>\n",
       "<td>0.1657</td>\n",
       "<td> (271.0/1635.0)</td></tr>\n",
       "<tr><td>1</td>\n",
       "<td>223.0</td>\n",
       "<td>1138.0</td>\n",
       "<td>0.1639</td>\n",
       "<td> (223.0/1361.0)</td></tr>\n",
       "<tr><td>Total</td>\n",
       "<td>1587.0</td>\n",
       "<td>1409.0</td>\n",
       "<td>0.1649</td>\n",
       "<td> (494.0/2996.0)</td></tr></table></div>"
      ],
      "text/plain": [
       "       0     1     Error    Rate\n",
       "-----  ----  ----  -------  --------------\n",
       "0      1364  271   0.1657   (271.0/1635.0)\n",
       "1      223   1138  0.1639   (223.0/1361.0)\n",
       "Total  1587  1409  0.1649   (494.0/2996.0)"
      ]
     },
     "metadata": {},
     "output_type": "display_data"
    },
    {
     "name": "stdout",
     "output_type": "stream",
     "text": [
      "\n",
      "Maximum Metrics: Maximum metrics at their respective thresholds\n",
      "\n"
     ]
    },
    {
     "data": {
      "text/html": [
       "<div style=\"overflow:auto\"><table style=\"width:50%\"><tr><td><b>metric</b></td>\n",
       "<td><b>threshold</b></td>\n",
       "<td><b>value</b></td>\n",
       "<td><b>idx</b></td></tr>\n",
       "<tr><td>max f1</td>\n",
       "<td>0.5</td>\n",
       "<td>0.8</td>\n",
       "<td>211.0</td></tr>\n",
       "<tr><td>max f2</td>\n",
       "<td>0.3</td>\n",
       "<td>0.9</td>\n",
       "<td>269.0</td></tr>\n",
       "<tr><td>max f0point5</td>\n",
       "<td>0.6</td>\n",
       "<td>0.8</td>\n",
       "<td>158.0</td></tr>\n",
       "<tr><td>max accuracy</td>\n",
       "<td>0.5</td>\n",
       "<td>0.8</td>\n",
       "<td>205.0</td></tr>\n",
       "<tr><td>max precision</td>\n",
       "<td>1.0</td>\n",
       "<td>1.0</td>\n",
       "<td>0.0</td></tr>\n",
       "<tr><td>max absolute_MCC</td>\n",
       "<td>0.5</td>\n",
       "<td>0.7</td>\n",
       "<td>210.0</td></tr>\n",
       "<tr><td>max min_per_class_accuracy</td>\n",
       "<td>0.5</td>\n",
       "<td>0.8</td>\n",
       "<td>211.0</td></tr></table></div>"
      ],
      "text/plain": [
       "metric                      threshold    value     idx\n",
       "--------------------------  -----------  --------  -----\n",
       "max f1                      0.460578     0.821661  211\n",
       "max f2                      0.32889      0.881666  269\n",
       "max f0point5                0.592479     0.841558  158\n",
       "max accuracy                0.474928     0.835447  205\n",
       "max precision               0.972856     1         0\n",
       "max absolute_MCC            0.46206      0.669143  210\n",
       "max min_per_class_accuracy  0.460578     0.834251  211"
      ]
     },
     "metadata": {},
     "output_type": "display_data"
    },
    {
     "name": "stdout",
     "output_type": "stream",
     "text": [
      "\n",
      "Scoring History:\n"
     ]
    },
    {
     "data": {
      "text/html": [
       "<div style=\"overflow:auto\"><table style=\"width:50%\"><tr><td><b></b></td>\n",
       "<td><b>timestamp</b></td>\n",
       "<td><b>duration</b></td>\n",
       "<td><b>number_of_trees</b></td>\n",
       "<td><b>training_MSE</b></td>\n",
       "<td><b>training_logloss</b></td>\n",
       "<td><b>training_AUC</b></td>\n",
       "<td><b>training_classification_error</b></td>\n",
       "<td><b>validation_MSE</b></td>\n",
       "<td><b>validation_logloss</b></td>\n",
       "<td><b>validation_AUC</b></td>\n",
       "<td><b>validation_classification_error</b></td></tr>\n",
       "<tr><td></td>\n",
       "<td>2015-11-25 21:36:34</td>\n",
       "<td> 0.171 sec</td>\n",
       "<td>1.0</td>\n",
       "<td>0.2</td>\n",
       "<td>0.7</td>\n",
       "<td>0.7</td>\n",
       "<td>0.3</td>\n",
       "<td>0.2</td>\n",
       "<td>0.7</td>\n",
       "<td>0.7</td>\n",
       "<td>0.3</td></tr>\n",
       "<tr><td></td>\n",
       "<td>2015-11-25 21:36:34</td>\n",
       "<td> 0.232 sec</td>\n",
       "<td>2.0</td>\n",
       "<td>0.2</td>\n",
       "<td>0.7</td>\n",
       "<td>0.7</td>\n",
       "<td>0.3</td>\n",
       "<td>0.2</td>\n",
       "<td>0.7</td>\n",
       "<td>0.7</td>\n",
       "<td>0.3</td></tr>\n",
       "<tr><td></td>\n",
       "<td>2015-11-25 21:36:34</td>\n",
       "<td> 0.268 sec</td>\n",
       "<td>3.0</td>\n",
       "<td>0.2</td>\n",
       "<td>0.6</td>\n",
       "<td>0.8</td>\n",
       "<td>0.3</td>\n",
       "<td>0.2</td>\n",
       "<td>0.6</td>\n",
       "<td>0.8</td>\n",
       "<td>0.3</td></tr>\n",
       "<tr><td></td>\n",
       "<td>2015-11-25 21:36:34</td>\n",
       "<td> 0.302 sec</td>\n",
       "<td>4.0</td>\n",
       "<td>0.2</td>\n",
       "<td>0.6</td>\n",
       "<td>0.8</td>\n",
       "<td>0.3</td>\n",
       "<td>0.2</td>\n",
       "<td>0.6</td>\n",
       "<td>0.8</td>\n",
       "<td>0.3</td></tr>\n",
       "<tr><td></td>\n",
       "<td>2015-11-25 21:36:34</td>\n",
       "<td> 0.360 sec</td>\n",
       "<td>5.0</td>\n",
       "<td>0.2</td>\n",
       "<td>0.6</td>\n",
       "<td>0.8</td>\n",
       "<td>0.3</td>\n",
       "<td>0.2</td>\n",
       "<td>0.6</td>\n",
       "<td>0.8</td>\n",
       "<td>0.3</td></tr>\n",
       "<tr><td>---</td>\n",
       "<td>---</td>\n",
       "<td>---</td>\n",
       "<td>---</td>\n",
       "<td>---</td>\n",
       "<td>---</td>\n",
       "<td>---</td>\n",
       "<td>---</td>\n",
       "<td>---</td>\n",
       "<td>---</td>\n",
       "<td>---</td>\n",
       "<td>---</td></tr>\n",
       "<tr><td></td>\n",
       "<td>2015-11-25 21:36:38</td>\n",
       "<td> 3.852 sec</td>\n",
       "<td>77.0</td>\n",
       "<td>0.1</td>\n",
       "<td>0.4</td>\n",
       "<td>0.9</td>\n",
       "<td>0.2</td>\n",
       "<td>0.1</td>\n",
       "<td>0.4</td>\n",
       "<td>0.9</td>\n",
       "<td>0.2</td></tr>\n",
       "<tr><td></td>\n",
       "<td>2015-11-25 21:36:38</td>\n",
       "<td> 3.917 sec</td>\n",
       "<td>78.0</td>\n",
       "<td>0.1</td>\n",
       "<td>0.4</td>\n",
       "<td>0.9</td>\n",
       "<td>0.2</td>\n",
       "<td>0.1</td>\n",
       "<td>0.4</td>\n",
       "<td>0.9</td>\n",
       "<td>0.2</td></tr>\n",
       "<tr><td></td>\n",
       "<td>2015-11-25 21:36:38</td>\n",
       "<td> 3.978 sec</td>\n",
       "<td>79.0</td>\n",
       "<td>0.1</td>\n",
       "<td>0.4</td>\n",
       "<td>0.9</td>\n",
       "<td>0.2</td>\n",
       "<td>0.1</td>\n",
       "<td>0.4</td>\n",
       "<td>0.9</td>\n",
       "<td>0.2</td></tr>\n",
       "<tr><td></td>\n",
       "<td>2015-11-25 21:36:38</td>\n",
       "<td> 4.043 sec</td>\n",
       "<td>80.0</td>\n",
       "<td>0.1</td>\n",
       "<td>0.4</td>\n",
       "<td>0.9</td>\n",
       "<td>0.2</td>\n",
       "<td>0.1</td>\n",
       "<td>0.4</td>\n",
       "<td>0.9</td>\n",
       "<td>0.2</td></tr>\n",
       "<tr><td></td>\n",
       "<td>2015-11-25 21:36:38</td>\n",
       "<td> 4.296 sec</td>\n",
       "<td>100.0</td>\n",
       "<td>0.1</td>\n",
       "<td>0.4</td>\n",
       "<td>0.9</td>\n",
       "<td>0.1</td>\n",
       "<td>0.1</td>\n",
       "<td>0.4</td>\n",
       "<td>0.9</td>\n",
       "<td>0.2</td></tr></table></div>"
      ],
      "text/plain": [
       "     timestamp            duration    number_of_trees    training_MSE    training_logloss    training_AUC    training_classification_error    validation_MSE    validation_logloss    validation_AUC    validation_classification_error\n",
       "---  -------------------  ----------  -----------------  --------------  ------------------  --------------  -------------------------------  ----------------  --------------------  ----------------  ---------------------------------\n",
       "     2015-11-25 21:36:34  0.171 sec   1.0                0.239313478555  0.67162447955       0.7312101158    0.315976858033                   0.23935789076     0.671716831898        0.73105245064     0.319759679573\n",
       "     2015-11-25 21:36:34  0.232 sec   2.0                0.232417836559  0.657664348685      0.749871865014  0.317200712061                   0.232644025245    0.658138849088        0.744615287824    0.314753004005\n",
       "     2015-11-25 21:36:34  0.268 sec   3.0                0.226115035209  0.644796855934      0.773529405006  0.314753004005                   0.226595449596    0.645809907388        0.76498032792     0.297396528705\n",
       "     2015-11-25 21:36:34  0.302 sec   4.0                0.22059653579   0.633378626899      0.77682647056   0.289052069426                   0.221043535916    0.634344116339        0.770923745133    0.303404539386\n",
       "     2015-11-25 21:36:34  0.360 sec   5.0                0.215281001153  0.622373733072      0.78904732612   0.290053404539                   0.215733846033    0.623381272811        0.785020683209    0.30173564753\n",
       "---  ---                  ---         ---                ---             ---                 ---             ---                              ---               ---                   ---               ---\n",
       "     2015-11-25 21:36:38  3.852 sec   77.0               0.125628506426  0.406556934521      0.920299788909  0.168669336894                   0.132872050018    0.424196941589        0.905189564248    0.185246995995\n",
       "     2015-11-25 21:36:38  3.917 sec   78.0               0.125241145248  0.40557378454       0.920900674555  0.169003115265                   0.132657661779    0.423607888281        0.905460771559    0.180574098798\n",
       "     2015-11-25 21:36:38  3.978 sec   79.0               0.124561480003  0.403875938091      0.92206440499   0.168001780151                   0.132298505403    0.422589511803        0.906104074401    0.179906542056\n",
       "     2015-11-25 21:36:38  4.043 sec   80.0               0.123256382663  0.400667808749      0.924160473559  0.164886515354                   0.131064206443    0.419515919625        0.90819643768     0.182242990654\n",
       "     2015-11-25 21:36:38  4.296 sec   100.0              0.114026790434  0.376005292812      0.936370388939  0.149977748109                   0.124121459821    0.400023227684        0.917514329947    0.164886515354"
      ]
     },
     "metadata": {},
     "output_type": "display_data"
    },
    {
     "name": "stdout",
     "output_type": "stream",
     "text": [
      "\n",
      "Variable Importances:\n"
     ]
    },
    {
     "data": {
      "text/html": [
       "<div style=\"overflow:auto\"><table style=\"width:50%\"><tr><td><b>variable</b></td>\n",
       "<td><b>relative_importance</b></td>\n",
       "<td><b>scaled_importance</b></td>\n",
       "<td><b>percentage</b></td></tr>\n",
       "<tr><td>P7</td>\n",
       "<td>1308.6</td>\n",
       "<td>1.0</td>\n",
       "<td>0.2</td></tr>\n",
       "<tr><td>O1</td>\n",
       "<td>1043.4</td>\n",
       "<td>0.8</td>\n",
       "<td>0.2</td></tr>\n",
       "<tr><td>F7</td>\n",
       "<td>835.9</td>\n",
       "<td>0.6</td>\n",
       "<td>0.1</td></tr>\n",
       "<tr><td>AF3</td>\n",
       "<td>730.2</td>\n",
       "<td>0.6</td>\n",
       "<td>0.1</td></tr>\n",
       "<tr><td>F4</td>\n",
       "<td>465.7</td>\n",
       "<td>0.4</td>\n",
       "<td>0.1</td></tr>\n",
       "<tr><td>O2</td>\n",
       "<td>465.4</td>\n",
       "<td>0.4</td>\n",
       "<td>0.1</td></tr>\n",
       "<tr><td>T8</td>\n",
       "<td>340.7</td>\n",
       "<td>0.3</td>\n",
       "<td>0.1</td></tr>\n",
       "<tr><td>FC6</td>\n",
       "<td>282.6</td>\n",
       "<td>0.2</td>\n",
       "<td>0.0</td></tr>\n",
       "<tr><td>FC5</td>\n",
       "<td>249.7</td>\n",
       "<td>0.2</td>\n",
       "<td>0.0</td></tr>\n",
       "<tr><td>F3</td>\n",
       "<td>239.0</td>\n",
       "<td>0.2</td>\n",
       "<td>0.0</td></tr>\n",
       "<tr><td>T7</td>\n",
       "<td>233.7</td>\n",
       "<td>0.2</td>\n",
       "<td>0.0</td></tr>\n",
       "<tr><td>P8</td>\n",
       "<td>95.7</td>\n",
       "<td>0.1</td>\n",
       "<td>0.0</td></tr></table></div>"
      ],
      "text/plain": [
       "variable    relative_importance    scaled_importance    percentage\n",
       "----------  ---------------------  -------------------  ------------\n",
       "P7          1308.62                1                    0.208029\n",
       "O1          1043.38                0.797313             0.165864\n",
       "F7          835.876                0.638747             0.132878\n",
       "AF3         730.241                0.558025             0.116085\n",
       "F4          465.686                0.355861             0.0740295\n",
       "O2          465.388                0.355633             0.073982\n",
       "T8          340.684                0.260338             0.054158\n",
       "FC6         282.629                0.215975             0.0449291\n",
       "FC5         249.67                 0.190789             0.0396897\n",
       "F3          238.96                 0.182605             0.0379872\n",
       "T7          233.703                0.178587             0.0371514\n",
       "P8          95.7218                0.0731472            0.0152167"
      ]
     },
     "metadata": {},
     "output_type": "display_data"
    },
    {
     "name": "stdout",
     "output_type": "stream",
     "text": [
      "\n"
     ]
    }
   ],
   "source": [
    "print model"
   ]
  },
  {
   "cell_type": "markdown",
   "metadata": {},
   "source": [
    "### Model Performance on a Test Set\n",
    "\n",
    "Once a model has been trained, you can also use it to make predictions on a test set.  In the case above, we just ran the model once, so our validation set (passed as `validation_frame`), could have also served as a \"test set.\"  We technically have already created test set predictions and evaluated test set performance.  \n",
    "\n",
    "However, when performing model selection over a variety of model parameters, it is common for users to train a variety of models (using different parameters) using the training set, `train`, and a validation set, `valid`.  Once the user selects the best model (based on validation set performance), the true test of model performance is performed by making a final set of predictions on the held-out (never been used before) test set, `test`.\n",
    "\n",
    "You can use the `model_performance` method to generate predictions on a new dataset.  The results are stored in an object of class, `\"H2OBinomialModelMetrics\"`.  "
   ]
  },
  {
   "cell_type": "code",
   "execution_count": 31,
   "metadata": {
    "collapsed": false
   },
   "outputs": [
    {
     "name": "stdout",
     "output_type": "stream",
     "text": [
      "<class 'h2o.model.metrics_base.H2OBinomialModelMetrics'>\n"
     ]
    }
   ],
   "source": [
    "perf = model.model_performance(test)\n",
    "print perf.__class__"
   ]
  },
  {
   "cell_type": "markdown",
   "metadata": {},
   "source": [
    "Individual model performance metrics can be extracted using methods like `r2`, `auc` and `mse`.  In the case of binary classification, we may be most interested in evaluating test set Area Under the ROC Curve (AUC).  "
   ]
  },
  {
   "cell_type": "code",
   "execution_count": 32,
   "metadata": {
    "collapsed": false
   },
   "outputs": [
    {
     "data": {
      "text/plain": [
       "0.49537936872725086"
      ]
     },
     "execution_count": 32,
     "metadata": {},
     "output_type": "execute_result"
    }
   ],
   "source": [
    "perf.r2()"
   ]
  },
  {
   "cell_type": "code",
   "execution_count": 33,
   "metadata": {
    "collapsed": false
   },
   "outputs": [
    {
     "data": {
      "text/plain": [
       "0.91671733144306"
      ]
     },
     "execution_count": 33,
     "metadata": {},
     "output_type": "execute_result"
    }
   ],
   "source": [
    "perf.auc()"
   ]
  },
  {
   "cell_type": "code",
   "execution_count": 34,
   "metadata": {
    "collapsed": false
   },
   "outputs": [
    {
     "data": {
      "text/plain": [
       "0.12372290870105287"
      ]
     },
     "execution_count": 34,
     "metadata": {},
     "output_type": "execute_result"
    }
   ],
   "source": [
    "perf.mse()"
   ]
  },
  {
   "cell_type": "markdown",
   "metadata": {},
   "source": [
    "### Cross-validated Performance\n",
    "\n",
    "To perform k-fold cross-validation, you use the same code as above, but you specify `nfolds` as an integer greater than 1, or add a \"fold_column\" to your H2O Frame which indicates a fold ID for each row.\n",
    "\n",
    "Unless you have a specific reason to manually assign the observations to folds, you will find it easiest to simply use the `nfolds` argument.\n",
    "\n",
    "When performing cross-validation, you can still pass a `validation_frame`, but you can also choose to use the original dataset that contains all the rows.  We will cross-validate a model below using the original H2O Frame which is called `data`."
   ]
  },
  {
   "cell_type": "code",
   "execution_count": 35,
   "metadata": {
    "collapsed": false
   },
   "outputs": [
    {
     "name": "stdout",
     "output_type": "stream",
     "text": [
      "\n",
      "gbm Model Build Progress: [##################################################] 100%\n"
     ]
    }
   ],
   "source": [
    "cvmodel = H2OGradientBoostingEstimator(distribution='bernoulli',\n",
    "                                       ntrees=100,\n",
    "                                       max_depth=4,\n",
    "                                       learn_rate=0.1,\n",
    "                                       nfolds=5)\n",
    "\n",
    "cvmodel.train(x=x, y=y, training_frame=data)\n"
   ]
  },
  {
   "cell_type": "markdown",
   "metadata": {},
   "source": [
    "This time around, we will simply pull the training and cross-validation metrics out of the model.  To do so, you use the `auc` method again, and you can specify `train` or `xval` as `True` to get the correct metric."
   ]
  },
  {
   "cell_type": "code",
   "execution_count": 36,
   "metadata": {
    "collapsed": false
   },
   "outputs": [
    {
     "name": "stdout",
     "output_type": "stream",
     "text": [
      "0.92657469777\n",
      "0.909384518188\n"
     ]
    }
   ],
   "source": [
    "print cvmodel.auc(train=True)\n",
    "print cvmodel.auc(xval=True)"
   ]
  },
  {
   "cell_type": "markdown",
   "metadata": {},
   "source": [
    "### Grid Search\n",
    "\n",
    "One way of evaluting models with different parameters is to perform a grid search over a set of parameter values.  For example, in GBM, here are three model parameters that may be useful to search over:\n",
    "- `ntrees`: Number of trees\n",
    "- `max_depth`: Maximum depth of a tree\n",
    "- `learn_rate`: Learning rate in the GBM\n",
    "\n",
    "We will define a grid as follows:"
   ]
  },
  {
   "cell_type": "code",
   "execution_count": 37,
   "metadata": {
    "collapsed": true
   },
   "outputs": [],
   "source": [
    "ntrees_opt = [5,50,100]\n",
    "max_depth_opt = [2,3,5]\n",
    "learn_rate_opt = [0.1,0.2]\n",
    "\n",
    "hyper_params = {'ntrees': ntrees_opt, \n",
    "                'max_depth': max_depth_opt,\n",
    "                'learn_rate': learn_rate_opt}"
   ]
  },
  {
   "cell_type": "markdown",
   "metadata": {},
   "source": [
    "Define an `\"H2OGridSearch\"` object by specifying the algorithm (GBM) and the hyper parameters:"
   ]
  },
  {
   "cell_type": "code",
   "execution_count": 38,
   "metadata": {
    "collapsed": true
   },
   "outputs": [],
   "source": [
    "from h2o.grid.grid_search import H2OGridSearch\n",
    "\n",
    "gs = H2OGridSearch(H2OGradientBoostingEstimator, hyper_params = hyper_params)"
   ]
  },
  {
   "cell_type": "markdown",
   "metadata": {},
   "source": [
    "An `\"H2OGridSearch\"` object also has a `train` method, which is used to train all the models in the grid."
   ]
  },
  {
   "cell_type": "code",
   "execution_count": 39,
   "metadata": {
    "collapsed": false
   },
   "outputs": [
    {
     "name": "stdout",
     "output_type": "stream",
     "text": [
      "\n",
      "gbm Grid Build Progress: [##################################################] 100%\n"
     ]
    }
   ],
   "source": [
    "gs.train(x=x, y=y, training_frame=train, validation_frame=valid)"
   ]
  },
  {
   "cell_type": "markdown",
   "metadata": {},
   "source": [
    "### Compare Models"
   ]
  },
  {
   "cell_type": "code",
   "execution_count": 40,
   "metadata": {
    "collapsed": false
   },
   "outputs": [
    {
     "name": "stdout",
     "output_type": "stream",
     "text": [
      "\n",
      "Grid Search Results for H2OGradientBoostingEstimator:\n"
     ]
    },
    {
     "data": {
      "text/html": [
       "<div style=\"overflow:auto\"><table style=\"width:50%\"><tr><td><b>Model Id</b></td>\n",
       "<td><b>Hyperparameters: [learn_rate, ntrees, max_depth]</b></td>\n",
       "<td><b>mse</b></td></tr>\n",
       "<tr><td>Grid_GBM_py_17_model_python_1448515953177_10_model_17</td>\n",
       "<td>[0.2, 100, 5]</td>\n",
       "<td>0.1</td></tr>\n",
       "<tr><td>Grid_GBM_py_17_model_python_1448515953177_10_model_16</td>\n",
       "<td>[0.2, 50, 5]</td>\n",
       "<td>0.1</td></tr>\n",
       "<tr><td>Grid_GBM_py_17_model_python_1448515953177_10_model_8</td>\n",
       "<td>[0.1, 100, 5]</td>\n",
       "<td>0.1</td></tr>\n",
       "<tr><td>Grid_GBM_py_17_model_python_1448515953177_10_model_7</td>\n",
       "<td>[0.1, 50, 5]</td>\n",
       "<td>0.1</td></tr>\n",
       "<tr><td>Grid_GBM_py_17_model_python_1448515953177_10_model_14</td>\n",
       "<td>[0.2, 100, 3]</td>\n",
       "<td>0.1</td></tr>\n",
       "<tr><td>Grid_GBM_py_17_model_python_1448515953177_10_model_13</td>\n",
       "<td>[0.2, 50, 3]</td>\n",
       "<td>0.1</td></tr>\n",
       "<tr><td>Grid_GBM_py_17_model_python_1448515953177_10_model_5</td>\n",
       "<td>[0.1, 100, 3]</td>\n",
       "<td>0.1</td></tr>\n",
       "<tr><td>Grid_GBM_py_17_model_python_1448515953177_10_model_4</td>\n",
       "<td>[0.1, 50, 3]</td>\n",
       "<td>0.2</td></tr>\n",
       "<tr><td>Grid_GBM_py_17_model_python_1448515953177_10_model_11</td>\n",
       "<td>[0.2, 100, 2]</td>\n",
       "<td>0.2</td></tr>\n",
       "<tr><td>Grid_GBM_py_17_model_python_1448515953177_10_model_15</td>\n",
       "<td>[0.2, 5, 5]</td>\n",
       "<td>0.2</td></tr>\n",
       "<tr><td>Grid_GBM_py_17_model_python_1448515953177_10_model_10</td>\n",
       "<td>[0.2, 50, 2]</td>\n",
       "<td>0.2</td></tr>\n",
       "<tr><td>Grid_GBM_py_17_model_python_1448515953177_10_model_2</td>\n",
       "<td>[0.1, 100, 2]</td>\n",
       "<td>0.2</td></tr>\n",
       "<tr><td>Grid_GBM_py_17_model_python_1448515953177_10_model_1</td>\n",
       "<td>[0.1, 50, 2]</td>\n",
       "<td>0.2</td></tr>\n",
       "<tr><td>Grid_GBM_py_17_model_python_1448515953177_10_model_6</td>\n",
       "<td>[0.1, 5, 5]</td>\n",
       "<td>0.2</td></tr>\n",
       "<tr><td>Grid_GBM_py_17_model_python_1448515953177_10_model_12</td>\n",
       "<td>[0.2, 5, 3]</td>\n",
       "<td>0.2</td></tr>\n",
       "<tr><td>Grid_GBM_py_17_model_python_1448515953177_10_model_3</td>\n",
       "<td>[0.1, 5, 3]</td>\n",
       "<td>0.2</td></tr>\n",
       "<tr><td>Grid_GBM_py_17_model_python_1448515953177_10_model_9</td>\n",
       "<td>[0.2, 5, 2]</td>\n",
       "<td>0.2</td></tr>\n",
       "<tr><td>Grid_GBM_py_17_model_python_1448515953177_10_model_0</td>\n",
       "<td>[0.1, 5, 2]</td>\n",
       "<td>0.2</td></tr></table></div>"
      ],
      "text/plain": [
       "Model Id                                               Hyperparameters: [learn_rate, ntrees, max_depth]    mse\n",
       "-----------------------------------------------------  --------------------------------------------------  ---------\n",
       "Grid_GBM_py_17_model_python_1448515953177_10_model_17  [0.2, 100, 5]                                       0.0511374\n",
       "Grid_GBM_py_17_model_python_1448515953177_10_model_16  [0.2, 50, 5]                                        0.0825649\n",
       "Grid_GBM_py_17_model_python_1448515953177_10_model_8   [0.1, 100, 5]                                       0.0827864\n",
       "Grid_GBM_py_17_model_python_1448515953177_10_model_7   [0.1, 50, 5]                                        0.114858\n",
       "Grid_GBM_py_17_model_python_1448515953177_10_model_14  [0.2, 100, 3]                                       0.118355\n",
       "Grid_GBM_py_17_model_python_1448515953177_10_model_13  [0.2, 50, 3]                                        0.143335\n",
       "Grid_GBM_py_17_model_python_1448515953177_10_model_5   [0.1, 100, 3]                                       0.144623\n",
       "Grid_GBM_py_17_model_python_1448515953177_10_model_4   [0.1, 50, 3]                                        0.167174\n",
       "Grid_GBM_py_17_model_python_1448515953177_10_model_11  [0.2, 100, 2]                                       0.171856\n",
       "Grid_GBM_py_17_model_python_1448515953177_10_model_15  [0.2, 5, 5]                                         0.179677\n",
       "Grid_GBM_py_17_model_python_1448515953177_10_model_10  [0.2, 50, 2]                                        0.187604\n",
       "Grid_GBM_py_17_model_python_1448515953177_10_model_2   [0.1, 100, 2]                                       0.187952\n",
       "Grid_GBM_py_17_model_python_1448515953177_10_model_1   [0.1, 50, 2]                                        0.202483\n",
       "Grid_GBM_py_17_model_python_1448515953177_10_model_6   [0.1, 5, 5]                                         0.204234\n",
       "Grid_GBM_py_17_model_python_1448515953177_10_model_12  [0.2, 5, 3]                                         0.21266\n",
       "Grid_GBM_py_17_model_python_1448515953177_10_model_3   [0.1, 5, 3]                                         0.226471\n",
       "Grid_GBM_py_17_model_python_1448515953177_10_model_9   [0.2, 5, 2]                                         0.227623\n",
       "Grid_GBM_py_17_model_python_1448515953177_10_model_0   [0.1, 5, 2]                                         0.23554"
      ]
     },
     "metadata": {},
     "output_type": "display_data"
    },
    {
     "name": "stdout",
     "output_type": "stream",
     "text": [
      "\n",
      "\n"
     ]
    }
   ],
   "source": [
    "print gs"
   ]
  },
  {
   "cell_type": "code",
   "execution_count": 41,
   "metadata": {
    "collapsed": false
   },
   "outputs": [
    {
     "name": "stdout",
     "output_type": "stream",
     "text": [
      "Grid_GBM_py_17_model_python_1448515953177_10_model_6 auc: 0.832367242163\n",
      "Grid_GBM_py_17_model_python_1448515953177_10_model_9 auc: 0.694192742594\n",
      "Grid_GBM_py_17_model_python_1448515953177_10_model_13 auc: 0.891897083178\n",
      "Grid_GBM_py_17_model_python_1448515953177_10_model_15 auc: 0.853560718899\n",
      "Grid_GBM_py_17_model_python_1448515953177_10_model_16 auc: 0.969346889232\n",
      "Grid_GBM_py_17_model_python_1448515953177_10_model_17 auc: 0.98940421078\n",
      "Grid_GBM_py_17_model_python_1448515953177_10_model_1 auc: 0.760300329424\n",
      "Grid_GBM_py_17_model_python_1448515953177_10_model_10 auc: 0.794593697697\n",
      "Grid_GBM_py_17_model_python_1448515953177_10_model_3 auc: 0.729356404691\n",
      "Grid_GBM_py_17_model_python_1448515953177_10_model_4 auc: 0.854010340319\n",
      "Grid_GBM_py_17_model_python_1448515953177_10_model_11 auc: 0.82936795932\n",
      "Grid_GBM_py_17_model_python_1448515953177_10_model_2 auc: 0.793885558323\n",
      "Grid_GBM_py_17_model_python_1448515953177_10_model_12 auc: 0.76833561695\n",
      "Grid_GBM_py_17_model_python_1448515953177_10_model_14 auc: 0.92778322178\n",
      "Grid_GBM_py_17_model_python_1448515953177_10_model_8 auc: 0.96976628778\n",
      "Grid_GBM_py_17_model_python_1448515953177_10_model_0 auc: 0.674210104011\n",
      "Grid_GBM_py_17_model_python_1448515953177_10_model_5 auc: 0.890246464773\n",
      "Grid_GBM_py_17_model_python_1448515953177_10_model_7 auc: 0.938747929858\n"
     ]
    }
   ],
   "source": [
    "# print out the auc for all of the models\n",
    "for g in gs:\n",
    "    print g.model_id + \" auc: \" + str(g.auc())"
   ]
  },
  {
   "cell_type": "markdown",
   "metadata": {},
   "source": [
    "The \"best\" model in terms of validation set AUC is \"Grid_GBM_py_17_model_python_1448515953177_10_model_17\" with an AUC of 0.994422431426. "
   ]
  },
  {
   "cell_type": "code",
   "execution_count": 42,
   "metadata": {
    "collapsed": false
   },
   "outputs": [
    {
     "data": {
      "text/plain": [
       "0.9894042107804035"
      ]
     },
     "execution_count": 42,
     "metadata": {},
     "output_type": "execute_result"
    }
   ],
   "source": [
    "best_model = h2o.get_model(\"Grid_GBM_py_17_model_python_1448515953177_10_model_17\")\n",
    "best_model.auc()"
   ]
  },
  {
   "cell_type": "markdown",
   "metadata": {},
   "source": [
    "The last thing we may want to do is generate predictions on the test set using the \"best\" model, and evaluate the test set AUC."
   ]
  },
  {
   "cell_type": "code",
   "execution_count": 43,
   "metadata": {
    "collapsed": false
   },
   "outputs": [
    {
     "data": {
      "text/plain": [
       "0.9609710824540837"
      ]
     },
     "execution_count": 43,
     "metadata": {},
     "output_type": "execute_result"
    }
   ],
   "source": [
    "best_perf = best_model.model_performance(test)\n",
    "best_perf.auc()"
   ]
  },
  {
   "cell_type": "markdown",
   "metadata": {},
   "source": [
    "The test set AUC is approximately 0.96.  Not bad!!"
   ]
  },
  {
   "cell_type": "code",
   "execution_count": null,
   "metadata": {
    "collapsed": true
   },
   "outputs": [],
   "source": []
  }
 ],
 "metadata": {
  "kernelspec": {
   "display_name": "Python 2",
   "language": "python",
   "name": "python2"
  },
  "language_info": {
   "codemirror_mode": {
    "name": "ipython",
    "version": 2
   },
   "file_extension": ".py",
   "mimetype": "text/x-python",
   "name": "python",
   "nbconvert_exporter": "python",
   "pygments_lexer": "ipython2",
   "version": "2.7.10"
  }
 },
 "nbformat": 4,
 "nbformat_minor": 0
}
