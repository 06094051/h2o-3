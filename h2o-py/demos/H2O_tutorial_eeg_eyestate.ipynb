{
 "cells": [
  {
   "cell_type": "markdown",
   "metadata": {},
   "source": [
    "# H2O Tutorial: EEG Eye State Classification\n"
   ]
  },
  {
   "cell_type": "markdown",
   "metadata": {},
   "source": [
    "Author: Erin LeDell\n",
    "\n",
    "Contact: erin@h2o.ai\n",
    "\n",
    "This tutorial steps through a quick introduction to H2O's Python API. The goal of this tutorial is to introduce through a complete example H2O's capabilities from Python. \n",
    "\n",
    "Most of the functionality for a [Pandas](http://pandas.pydata.org/) `DataFrame` is exactly the same syntax for an `H2OFrame`, so if you are comfortable with Pandas, data frame manipulation will come naturally to you in H2O.  The modeling syntax in the H2O Python API may also remind you of [scikit-learn](http://scikit-learn.org/stable/).  \n",
    "\n",
    "References: [H2O Python API documentation](http://h2o-release.s3.amazonaws.com/h2o/latest_stable_Pydoc.html) and [H2O general documentation](http://docs.h2o.ai)"
   ]
  },
  {
   "cell_type": "markdown",
   "metadata": {},
   "source": [
    "## Install H2O in Python\n",
    "\n",
    "### Prerequisites\n",
    "\n",
    "This tutorial assumes you have Python 2.7 installed.  The `h2o` Python package has a few dependencies which can be installed using [pip](http://pip.readthedocs.org/en/stable/installing/). The packages that are required are (which also have their own dependencies):\n",
    "```bash\n",
    "pip install requests\n",
    "pip install tabulate\n",
    "pip install scikit-learn \n",
    "```\n",
    "If you have any problems (for example, installing the `scikit-learn` package), check out [this page](https://github.com/h2oai/h2o-3/blob/master/h2o-docs/src/product/howto/FAQ.md#python) for tips.\n",
    "\n",
    "### Install h2o\n",
    "\n",
    "Once the dependencies are installed, you can install H2O.  We will use the [latest stable](http://h2o-release.s3.amazonaws.com/h2o/latest_stable.html) version of the `h2o` package, which is currently \"Tibshirani-8.\"  The installation instructions are on the \"Install in Python\" tab on [this page](http://h2o-release.s3.amazonaws.com/h2o/rel-tibshirani/8/index.html).\n",
    "\n",
    "```bash\n",
    "# The following command removes the H2O module for Python (if it already exists).\n",
    "pip uninstall h2o\n",
    "\n",
    "# Next, use pip to install this version of the H2O Python module.\n",
    "pip install http://h2o-release.s3.amazonaws.com/h2o/rel-tibshirani/8/Python/h2o-3.6.0.8-py2.py3-none-any.whl\n",
    "```\n",
    "\n",
    "For reference, the Python documentation for the latest stable release of H2O is [here](http://h2o-release.s3.amazonaws.com/h2o/latest_stable_Pydoc.html)."
   ]
  },
  {
   "cell_type": "markdown",
   "metadata": {},
   "source": [
    "## Start up an H2O cluster\n",
    "\n",
    "In a Python terminal, we can import the `h2o` package and start up an H2O cluster."
   ]
  },
  {
   "cell_type": "code",
   "execution_count": 4,
   "metadata": {
    "collapsed": false
   },
   "outputs": [
    {
     "data": {
      "text/html": [
       "<div style=\"overflow:auto\"><table style=\"width:50%\"><tr><td>H2O cluster uptime: </td>\n",
       "<td>3 seconds 201 milliseconds </td></tr>\n",
       "<tr><td>H2O cluster version: </td>\n",
       "<td>3.6.0.3</td></tr>\n",
       "<tr><td>H2O cluster name: </td>\n",
       "<td>H2O_started_from_python</td></tr>\n",
       "<tr><td>H2O cluster total nodes: </td>\n",
       "<td>1</td></tr>\n",
       "<tr><td>H2O cluster total memory: </td>\n",
       "<td>3.56 GB</td></tr>\n",
       "<tr><td>H2O cluster total cores: </td>\n",
       "<td>8</td></tr>\n",
       "<tr><td>H2O cluster allowed cores: </td>\n",
       "<td>8</td></tr>\n",
       "<tr><td>H2O cluster healthy: </td>\n",
       "<td>True</td></tr>\n",
       "<tr><td>H2O Connection ip: </td>\n",
       "<td>127.0.0.1</td></tr>\n",
       "<tr><td>H2O Connection port: </td>\n",
       "<td>54321</td></tr></table></div>"
      ],
      "text/plain": [
       "--------------------------  --------------------------\n",
       "H2O cluster uptime:         3 seconds 201 milliseconds\n",
       "H2O cluster version:        3.6.0.3\n",
       "H2O cluster name:           H2O_started_from_python\n",
       "H2O cluster total nodes:    1\n",
       "H2O cluster total memory:   3.56 GB\n",
       "H2O cluster total cores:    8\n",
       "H2O cluster allowed cores:  8\n",
       "H2O cluster healthy:        True\n",
       "H2O Connection ip:          127.0.0.1\n",
       "H2O Connection port:        54321\n",
       "--------------------------  --------------------------"
      ]
     },
     "metadata": {},
     "output_type": "display_data"
    }
   ],
   "source": [
    "import h2o\n",
    "\n",
    "# Start an H2O Cluster on your local machine\n",
    "h2o.init()"
   ]
  },
  {
   "cell_type": "markdown",
   "metadata": {},
   "source": [
    "If you already have an H2O cluster running that you'd like to connect to (for example, in a multi-node Hadoop environment), then you can specify the IP and port of that cluster as follows:"
   ]
  },
  {
   "cell_type": "code",
   "execution_count": null,
   "metadata": {
    "collapsed": false
   },
   "outputs": [],
   "source": [
    "# This will not actually do anything since it's a fake IP address\n",
    "# h2o.init(ip=\"123.45.67.89\", port=54321)"
   ]
  },
  {
   "cell_type": "markdown",
   "metadata": {},
   "source": [
    "## Download EEG Data"
   ]
  },
  {
   "cell_type": "markdown",
   "metadata": {},
   "source": [
    "The following code downloads a copy of the [EEG Eye State](http://archive.ics.uci.edu/ml/datasets/EEG+Eye+State#) dataset.  All data is from one continuous EEG measurement with the [Emotiv EEG Neuroheadset](https://emotiv.com/epoc.php). The duration of the measurement was 117 seconds. The eye state was detected via a camera during the EEG measurement and added later manually to the file after analysing the video frames. '1' indicates the eye-closed and '0' the eye-open state. All values are in chronological order with the first measured value at the top of the data.\n",
    "\n",
    "![Emotiv Headset](http://dissociatedpress.com/wp-content/uploads/2013/03/emotiv-490.jpg)"
   ]
  },
  {
   "cell_type": "markdown",
   "metadata": {},
   "source": [
    "We can import the data directly into H2O using the `import_file` method in the Python API.  The import path can be a URL, a local path, a path to an HDFS file, or a file on Amazon S3."
   ]
  },
  {
   "cell_type": "code",
   "execution_count": 8,
   "metadata": {
    "collapsed": false
   },
   "outputs": [
    {
     "name": "stdout",
     "output_type": "stream",
     "text": [
      "\n",
      "Parse Progress: [##################################################] 100%\n"
     ]
    }
   ],
   "source": [
    "csv_url = \"http://www.stat.berkeley.edu/~ledell/data/eeg_eyestate_splits.csv\"\n",
    "data = h2o.import_file(csv_url)"
   ]
  },
  {
   "cell_type": "markdown",
   "metadata": {},
   "source": [
    "## Explore Data\n",
    "Once we have loaded the data, let's take a quick look.  First the dimension of the frame:"
   ]
  },
  {
   "cell_type": "code",
   "execution_count": 9,
   "metadata": {
    "collapsed": false
   },
   "outputs": [
    {
     "data": {
      "text/plain": [
       "(14980, 16)"
      ]
     },
     "execution_count": 9,
     "metadata": {},
     "output_type": "execute_result"
    }
   ],
   "source": [
    "data.shape\n"
   ]
  },
  {
   "cell_type": "markdown",
   "metadata": {},
   "source": [
    "Now let's take a look at the top of the frame:"
   ]
  },
  {
   "cell_type": "code",
   "execution_count": 10,
   "metadata": {
    "collapsed": false
   },
   "outputs": [
    {
     "data": {
      "text/html": [
       "<table>\n",
       "<tr><th style=\"text-align: right;\">    AF3</th><th style=\"text-align: right;\">     F7</th><th style=\"text-align: right;\">     F3</th><th style=\"text-align: right;\">    FC5</th><th style=\"text-align: right;\">     T7</th><th style=\"text-align: right;\">     P7</th><th style=\"text-align: right;\">     O1</th><th style=\"text-align: right;\">     O2</th><th style=\"text-align: right;\">     P8</th><th style=\"text-align: right;\">     T8</th><th style=\"text-align: right;\">    FC6</th><th style=\"text-align: right;\">     F4</th><th style=\"text-align: right;\">     F8</th><th style=\"text-align: right;\">    AF4</th><th style=\"text-align: right;\">  eyeDetection</th><th>split  </th></tr>\n",
       "<tr><td style=\"text-align: right;\">4329.23</td><td style=\"text-align: right;\">4009.23</td><td style=\"text-align: right;\">4289.23</td><td style=\"text-align: right;\">4148.21</td><td style=\"text-align: right;\">4350.26</td><td style=\"text-align: right;\">4586.15</td><td style=\"text-align: right;\">4096.92</td><td style=\"text-align: right;\">4641.03</td><td style=\"text-align: right;\">4222.05</td><td style=\"text-align: right;\">4238.46</td><td style=\"text-align: right;\">4211.28</td><td style=\"text-align: right;\">4280.51</td><td style=\"text-align: right;\">4635.9 </td><td style=\"text-align: right;\">4393.85</td><td style=\"text-align: right;\">             0</td><td>valid  </td></tr>\n",
       "<tr><td style=\"text-align: right;\">4324.62</td><td style=\"text-align: right;\">4004.62</td><td style=\"text-align: right;\">4293.85</td><td style=\"text-align: right;\">4148.72</td><td style=\"text-align: right;\">4342.05</td><td style=\"text-align: right;\">4586.67</td><td style=\"text-align: right;\">4097.44</td><td style=\"text-align: right;\">4638.97</td><td style=\"text-align: right;\">4210.77</td><td style=\"text-align: right;\">4226.67</td><td style=\"text-align: right;\">4207.69</td><td style=\"text-align: right;\">4279.49</td><td style=\"text-align: right;\">4632.82</td><td style=\"text-align: right;\">4384.1 </td><td style=\"text-align: right;\">             0</td><td>test   </td></tr>\n",
       "<tr><td style=\"text-align: right;\">4327.69</td><td style=\"text-align: right;\">4006.67</td><td style=\"text-align: right;\">4295.38</td><td style=\"text-align: right;\">4156.41</td><td style=\"text-align: right;\">4336.92</td><td style=\"text-align: right;\">4583.59</td><td style=\"text-align: right;\">4096.92</td><td style=\"text-align: right;\">4630.26</td><td style=\"text-align: right;\">4207.69</td><td style=\"text-align: right;\">4222.05</td><td style=\"text-align: right;\">4206.67</td><td style=\"text-align: right;\">4282.05</td><td style=\"text-align: right;\">4628.72</td><td style=\"text-align: right;\">4389.23</td><td style=\"text-align: right;\">             0</td><td>train  </td></tr>\n",
       "<tr><td style=\"text-align: right;\">4328.72</td><td style=\"text-align: right;\">4011.79</td><td style=\"text-align: right;\">4296.41</td><td style=\"text-align: right;\">4155.9 </td><td style=\"text-align: right;\">4343.59</td><td style=\"text-align: right;\">4582.56</td><td style=\"text-align: right;\">4097.44</td><td style=\"text-align: right;\">4630.77</td><td style=\"text-align: right;\">4217.44</td><td style=\"text-align: right;\">4235.38</td><td style=\"text-align: right;\">4210.77</td><td style=\"text-align: right;\">4287.69</td><td style=\"text-align: right;\">4632.31</td><td style=\"text-align: right;\">4396.41</td><td style=\"text-align: right;\">             0</td><td>train  </td></tr>\n",
       "<tr><td style=\"text-align: right;\">4326.15</td><td style=\"text-align: right;\">4011.79</td><td style=\"text-align: right;\">4292.31</td><td style=\"text-align: right;\">4151.28</td><td style=\"text-align: right;\">4347.69</td><td style=\"text-align: right;\">4586.67</td><td style=\"text-align: right;\">4095.9 </td><td style=\"text-align: right;\">4627.69</td><td style=\"text-align: right;\">4210.77</td><td style=\"text-align: right;\">4244.1 </td><td style=\"text-align: right;\">4212.82</td><td style=\"text-align: right;\">4288.21</td><td style=\"text-align: right;\">4632.82</td><td style=\"text-align: right;\">4398.46</td><td style=\"text-align: right;\">             0</td><td>train  </td></tr>\n",
       "<tr><td style=\"text-align: right;\">4321.03</td><td style=\"text-align: right;\">4004.62</td><td style=\"text-align: right;\">4284.1 </td><td style=\"text-align: right;\">4153.33</td><td style=\"text-align: right;\">4345.64</td><td style=\"text-align: right;\">4587.18</td><td style=\"text-align: right;\">4093.33</td><td style=\"text-align: right;\">4616.92</td><td style=\"text-align: right;\">4202.56</td><td style=\"text-align: right;\">4232.82</td><td style=\"text-align: right;\">4209.74</td><td style=\"text-align: right;\">4281.03</td><td style=\"text-align: right;\">4628.21</td><td style=\"text-align: right;\">4389.74</td><td style=\"text-align: right;\">             0</td><td>train  </td></tr>\n",
       "<tr><td style=\"text-align: right;\">4319.49</td><td style=\"text-align: right;\">4001.03</td><td style=\"text-align: right;\">4280.51</td><td style=\"text-align: right;\">4151.79</td><td style=\"text-align: right;\">4343.59</td><td style=\"text-align: right;\">4584.62</td><td style=\"text-align: right;\">4089.74</td><td style=\"text-align: right;\">4615.9 </td><td style=\"text-align: right;\">4212.31</td><td style=\"text-align: right;\">4226.67</td><td style=\"text-align: right;\">4201.03</td><td style=\"text-align: right;\">4269.74</td><td style=\"text-align: right;\">4625.13</td><td style=\"text-align: right;\">4378.46</td><td style=\"text-align: right;\">             0</td><td>test   </td></tr>\n",
       "<tr><td style=\"text-align: right;\">4325.64</td><td style=\"text-align: right;\">4006.67</td><td style=\"text-align: right;\">4278.46</td><td style=\"text-align: right;\">4143.08</td><td style=\"text-align: right;\">4344.1 </td><td style=\"text-align: right;\">4583.08</td><td style=\"text-align: right;\">4087.18</td><td style=\"text-align: right;\">4614.87</td><td style=\"text-align: right;\">4205.64</td><td style=\"text-align: right;\">4230.26</td><td style=\"text-align: right;\">4195.9 </td><td style=\"text-align: right;\">4266.67</td><td style=\"text-align: right;\">4622.05</td><td style=\"text-align: right;\">4380.51</td><td style=\"text-align: right;\">             0</td><td>test   </td></tr>\n",
       "<tr><td style=\"text-align: right;\">4326.15</td><td style=\"text-align: right;\">4010.77</td><td style=\"text-align: right;\">4276.41</td><td style=\"text-align: right;\">4139.49</td><td style=\"text-align: right;\">4345.13</td><td style=\"text-align: right;\">4584.1 </td><td style=\"text-align: right;\">4091.28</td><td style=\"text-align: right;\">4608.21</td><td style=\"text-align: right;\">4187.69</td><td style=\"text-align: right;\">4229.74</td><td style=\"text-align: right;\">4202.05</td><td style=\"text-align: right;\">4273.85</td><td style=\"text-align: right;\">4627.18</td><td style=\"text-align: right;\">4389.74</td><td style=\"text-align: right;\">             0</td><td>test   </td></tr>\n",
       "<tr><td style=\"text-align: right;\">4326.15</td><td style=\"text-align: right;\">4011.28</td><td style=\"text-align: right;\">4276.92</td><td style=\"text-align: right;\">4142.05</td><td style=\"text-align: right;\">4344.1 </td><td style=\"text-align: right;\">4582.56</td><td style=\"text-align: right;\">4092.82</td><td style=\"text-align: right;\">4608.72</td><td style=\"text-align: right;\">4194.36</td><td style=\"text-align: right;\">4228.72</td><td style=\"text-align: right;\">4212.82</td><td style=\"text-align: right;\">4277.95</td><td style=\"text-align: right;\">4637.44</td><td style=\"text-align: right;\">4393.33</td><td style=\"text-align: right;\">             0</td><td>train  </td></tr>\n",
       "</table>"
      ]
     },
     "metadata": {},
     "output_type": "display_data"
    },
    {
     "data": {
      "text/plain": []
     },
     "execution_count": 10,
     "metadata": {},
     "output_type": "execute_result"
    }
   ],
   "source": [
    "data.head()"
   ]
  },
  {
   "cell_type": "markdown",
   "metadata": {},
   "source": [
    "The first 14 columns are numeric values that represent EEG measurements from the headset.  The \"eyeDetection\" column is the response.  There is an additional column called \"split\" that was added (by me) in order to specify partitions of the data (so we can easily benchmark against other tools outside of H2O using the same splits).  I randomly divided the dataset into three partitions: train (60%), valid (%20) and test (20%) and marked which split each row belongs to in the \"split\" column.\n",
    "\n",
    "Let's take a look at the column names.  The data contains derived features from the medical images of the tumors."
   ]
  },
  {
   "cell_type": "code",
   "execution_count": 11,
   "metadata": {
    "collapsed": false
   },
   "outputs": [
    {
     "data": {
      "text/plain": [
       "[u'AF3',\n",
       " u'F7',\n",
       " u'F3',\n",
       " u'FC5',\n",
       " u'T7',\n",
       " u'P7',\n",
       " u'O1',\n",
       " u'O2',\n",
       " u'P8',\n",
       " u'T8',\n",
       " u'FC6',\n",
       " u'F4',\n",
       " u'F8',\n",
       " u'AF4',\n",
       " u'eyeDetection',\n",
       " u'split']"
      ]
     },
     "execution_count": 11,
     "metadata": {},
     "output_type": "execute_result"
    }
   ],
   "source": [
    "data.columns"
   ]
  },
  {
   "cell_type": "markdown",
   "metadata": {},
   "source": [
    "To select a subset of the columns to look at, typical Pandas indexing applies:"
   ]
  },
  {
   "cell_type": "code",
   "execution_count": 16,
   "metadata": {
    "collapsed": false
   },
   "outputs": [
    {
     "data": {
      "text/html": [
       "<table>\n",
       "<tr><th style=\"text-align: right;\">    AF3</th><th style=\"text-align: right;\">  eyeDetection</th><th>split  </th></tr>\n",
       "<tr><td style=\"text-align: right;\">4329.23</td><td style=\"text-align: right;\">             0</td><td>valid  </td></tr>\n",
       "<tr><td style=\"text-align: right;\">4324.62</td><td style=\"text-align: right;\">             0</td><td>test   </td></tr>\n",
       "<tr><td style=\"text-align: right;\">4327.69</td><td style=\"text-align: right;\">             0</td><td>train  </td></tr>\n",
       "<tr><td style=\"text-align: right;\">4328.72</td><td style=\"text-align: right;\">             0</td><td>train  </td></tr>\n",
       "<tr><td style=\"text-align: right;\">4326.15</td><td style=\"text-align: right;\">             0</td><td>train  </td></tr>\n",
       "<tr><td style=\"text-align: right;\">4321.03</td><td style=\"text-align: right;\">             0</td><td>train  </td></tr>\n",
       "<tr><td style=\"text-align: right;\">4319.49</td><td style=\"text-align: right;\">             0</td><td>test   </td></tr>\n",
       "<tr><td style=\"text-align: right;\">4325.64</td><td style=\"text-align: right;\">             0</td><td>test   </td></tr>\n",
       "<tr><td style=\"text-align: right;\">4326.15</td><td style=\"text-align: right;\">             0</td><td>test   </td></tr>\n",
       "<tr><td style=\"text-align: right;\">4326.15</td><td style=\"text-align: right;\">             0</td><td>train  </td></tr>\n",
       "</table>"
      ]
     },
     "metadata": {},
     "output_type": "display_data"
    },
    {
     "data": {
      "text/plain": []
     },
     "execution_count": 16,
     "metadata": {},
     "output_type": "execute_result"
    }
   ],
   "source": [
    "columns = ['AF3', 'eyeDetection', 'split']\n",
    "data[columns].head()"
   ]
  },
  {
   "cell_type": "markdown",
   "metadata": {},
   "source": [
    "Now let's select a single column, for example -- the response column, and look at the data more closely:"
   ]
  },
  {
   "cell_type": "code",
   "execution_count": 18,
   "metadata": {
    "collapsed": false
   },
   "outputs": [
    {
     "data": {
      "text/html": [
       "<table>\n",
       "<tr><th style=\"text-align: right;\">  eyeDetection</th></tr>\n",
       "<tr><td style=\"text-align: right;\">             0</td></tr>\n",
       "<tr><td style=\"text-align: right;\">             0</td></tr>\n",
       "<tr><td style=\"text-align: right;\">             0</td></tr>\n",
       "<tr><td style=\"text-align: right;\">             0</td></tr>\n",
       "<tr><td style=\"text-align: right;\">             0</td></tr>\n",
       "<tr><td style=\"text-align: right;\">             0</td></tr>\n",
       "<tr><td style=\"text-align: right;\">             0</td></tr>\n",
       "<tr><td style=\"text-align: right;\">             0</td></tr>\n",
       "<tr><td style=\"text-align: right;\">             0</td></tr>\n",
       "<tr><td style=\"text-align: right;\">             0</td></tr>\n",
       "</table>"
      ]
     },
     "metadata": {},
     "output_type": "display_data"
    },
    {
     "data": {
      "text/plain": []
     },
     "execution_count": 18,
     "metadata": {},
     "output_type": "execute_result"
    }
   ],
   "source": [
    "y = 'eyeDetection'\n",
    "data[y]"
   ]
  },
  {
   "cell_type": "markdown",
   "metadata": {},
   "source": [
    "It looks like a binary response, but let's validate that assumption:"
   ]
  },
  {
   "cell_type": "code",
   "execution_count": 19,
   "metadata": {
    "collapsed": false
   },
   "outputs": [
    {
     "data": {
      "text/html": [
       "<table>\n",
       "<tr><th style=\"text-align: right;\">  C1</th></tr>\n",
       "<tr><td style=\"text-align: right;\">   0</td></tr>\n",
       "<tr><td style=\"text-align: right;\">   1</td></tr>\n",
       "</table>"
      ]
     },
     "metadata": {},
     "output_type": "display_data"
    },
    {
     "data": {
      "text/plain": []
     },
     "execution_count": 19,
     "metadata": {},
     "output_type": "execute_result"
    }
   ],
   "source": [
    "data[y].unique()"
   ]
  },
  {
   "cell_type": "markdown",
   "metadata": {},
   "source": [
    "If you don't specify the column types when you import the file, H2O makes a guess at what your column types are.  If there are 0's and 1's in a column, H2O will automatically parse that as numeric by default.  \n",
    "\n",
    "Therefore, we should convert the response column to a more efficient \"enum\" representation -- in this case it is a categorial variable with two levels, 0 and 1.  If the only column in my data that is categorical is the response, I typically don't bother specifying the column type during the parse, and instead use this one-liner to convert it aftewards:"
   ]
  },
  {
   "cell_type": "code",
   "execution_count": 24,
   "metadata": {
    "collapsed": false
   },
   "outputs": [],
   "source": [
    "data[y] = data[y].asfactor()"
   ]
  },
  {
   "cell_type": "markdown",
   "metadata": {},
   "source": [
    "Now we can check that there are two levels in our response column:"
   ]
  },
  {
   "cell_type": "code",
   "execution_count": 26,
   "metadata": {
    "collapsed": false
   },
   "outputs": [
    {
     "data": {
      "text/plain": [
       "[2]"
      ]
     },
     "execution_count": 26,
     "metadata": {},
     "output_type": "execute_result"
    }
   ],
   "source": [
    "data[y].nlevels()"
   ]
  },
  {
   "cell_type": "markdown",
   "metadata": {},
   "source": [
    "We can query the categorical \"levels\" as well ('0' and '1' stand for \"eye open\" and \"eye closed\") to see what they are:"
   ]
  },
  {
   "cell_type": "code",
   "execution_count": 27,
   "metadata": {
    "collapsed": false
   },
   "outputs": [
    {
     "data": {
      "text/plain": [
       "[['0', '1']]"
      ]
     },
     "execution_count": 27,
     "metadata": {},
     "output_type": "execute_result"
    }
   ],
   "source": [
    "data[y].levels()"
   ]
  },
  {
   "cell_type": "markdown",
   "metadata": {},
   "source": [
    "We may want to check if there are any missing values, so let's look for NAs in our dataset.  For tree-based methods like GBM and RF, H2O handles missing feature values automatically, so it's not a problem if we are missing certain feature values.  However, it is always a good idea to check to make sure that you are not missing any of the training labels.  \n",
    "\n",
    "To figure out which, if any, values are missing, we can use the `isna` method on the diagnosis column.  The columns in an H2O Frame are also H2O Frames themselves, so all the methods that apply to a Frame also apply to a single column."
   ]
  },
  {
   "cell_type": "code",
   "execution_count": 28,
   "metadata": {
    "collapsed": false
   },
   "outputs": [
    {
     "data": {
      "text/html": [
       "<table>\n",
       "<tr><th style=\"text-align: right;\">  C1</th><th style=\"text-align: right;\">  C2</th><th style=\"text-align: right;\">  C3</th><th style=\"text-align: right;\">  C4</th><th style=\"text-align: right;\">  C5</th><th style=\"text-align: right;\">  C6</th><th style=\"text-align: right;\">  C7</th><th style=\"text-align: right;\">  C8</th><th style=\"text-align: right;\">  C9</th><th style=\"text-align: right;\">  C10</th><th style=\"text-align: right;\">  C11</th><th style=\"text-align: right;\">  C12</th><th style=\"text-align: right;\">  C13</th><th style=\"text-align: right;\">  C14</th><th style=\"text-align: right;\">  C15</th><th style=\"text-align: right;\">  C16</th></tr>\n",
       "<tr><td style=\"text-align: right;\">   0</td><td style=\"text-align: right;\">   0</td><td style=\"text-align: right;\">   0</td><td style=\"text-align: right;\">   0</td><td style=\"text-align: right;\">   0</td><td style=\"text-align: right;\">   0</td><td style=\"text-align: right;\">   0</td><td style=\"text-align: right;\">   0</td><td style=\"text-align: right;\">   0</td><td style=\"text-align: right;\">    0</td><td style=\"text-align: right;\">    0</td><td style=\"text-align: right;\">    0</td><td style=\"text-align: right;\">    0</td><td style=\"text-align: right;\">    0</td><td style=\"text-align: right;\">    0</td><td style=\"text-align: right;\">    0</td></tr>\n",
       "<tr><td style=\"text-align: right;\">   0</td><td style=\"text-align: right;\">   0</td><td style=\"text-align: right;\">   0</td><td style=\"text-align: right;\">   0</td><td style=\"text-align: right;\">   0</td><td style=\"text-align: right;\">   0</td><td style=\"text-align: right;\">   0</td><td style=\"text-align: right;\">   0</td><td style=\"text-align: right;\">   0</td><td style=\"text-align: right;\">    0</td><td style=\"text-align: right;\">    0</td><td style=\"text-align: right;\">    0</td><td style=\"text-align: right;\">    0</td><td style=\"text-align: right;\">    0</td><td style=\"text-align: right;\">    0</td><td style=\"text-align: right;\">    0</td></tr>\n",
       "<tr><td style=\"text-align: right;\">   0</td><td style=\"text-align: right;\">   0</td><td style=\"text-align: right;\">   0</td><td style=\"text-align: right;\">   0</td><td style=\"text-align: right;\">   0</td><td style=\"text-align: right;\">   0</td><td style=\"text-align: right;\">   0</td><td style=\"text-align: right;\">   0</td><td style=\"text-align: right;\">   0</td><td style=\"text-align: right;\">    0</td><td style=\"text-align: right;\">    0</td><td style=\"text-align: right;\">    0</td><td style=\"text-align: right;\">    0</td><td style=\"text-align: right;\">    0</td><td style=\"text-align: right;\">    0</td><td style=\"text-align: right;\">    0</td></tr>\n",
       "<tr><td style=\"text-align: right;\">   0</td><td style=\"text-align: right;\">   0</td><td style=\"text-align: right;\">   0</td><td style=\"text-align: right;\">   0</td><td style=\"text-align: right;\">   0</td><td style=\"text-align: right;\">   0</td><td style=\"text-align: right;\">   0</td><td style=\"text-align: right;\">   0</td><td style=\"text-align: right;\">   0</td><td style=\"text-align: right;\">    0</td><td style=\"text-align: right;\">    0</td><td style=\"text-align: right;\">    0</td><td style=\"text-align: right;\">    0</td><td style=\"text-align: right;\">    0</td><td style=\"text-align: right;\">    0</td><td style=\"text-align: right;\">    0</td></tr>\n",
       "<tr><td style=\"text-align: right;\">   0</td><td style=\"text-align: right;\">   0</td><td style=\"text-align: right;\">   0</td><td style=\"text-align: right;\">   0</td><td style=\"text-align: right;\">   0</td><td style=\"text-align: right;\">   0</td><td style=\"text-align: right;\">   0</td><td style=\"text-align: right;\">   0</td><td style=\"text-align: right;\">   0</td><td style=\"text-align: right;\">    0</td><td style=\"text-align: right;\">    0</td><td style=\"text-align: right;\">    0</td><td style=\"text-align: right;\">    0</td><td style=\"text-align: right;\">    0</td><td style=\"text-align: right;\">    0</td><td style=\"text-align: right;\">    0</td></tr>\n",
       "<tr><td style=\"text-align: right;\">   0</td><td style=\"text-align: right;\">   0</td><td style=\"text-align: right;\">   0</td><td style=\"text-align: right;\">   0</td><td style=\"text-align: right;\">   0</td><td style=\"text-align: right;\">   0</td><td style=\"text-align: right;\">   0</td><td style=\"text-align: right;\">   0</td><td style=\"text-align: right;\">   0</td><td style=\"text-align: right;\">    0</td><td style=\"text-align: right;\">    0</td><td style=\"text-align: right;\">    0</td><td style=\"text-align: right;\">    0</td><td style=\"text-align: right;\">    0</td><td style=\"text-align: right;\">    0</td><td style=\"text-align: right;\">    0</td></tr>\n",
       "<tr><td style=\"text-align: right;\">   0</td><td style=\"text-align: right;\">   0</td><td style=\"text-align: right;\">   0</td><td style=\"text-align: right;\">   0</td><td style=\"text-align: right;\">   0</td><td style=\"text-align: right;\">   0</td><td style=\"text-align: right;\">   0</td><td style=\"text-align: right;\">   0</td><td style=\"text-align: right;\">   0</td><td style=\"text-align: right;\">    0</td><td style=\"text-align: right;\">    0</td><td style=\"text-align: right;\">    0</td><td style=\"text-align: right;\">    0</td><td style=\"text-align: right;\">    0</td><td style=\"text-align: right;\">    0</td><td style=\"text-align: right;\">    0</td></tr>\n",
       "<tr><td style=\"text-align: right;\">   0</td><td style=\"text-align: right;\">   0</td><td style=\"text-align: right;\">   0</td><td style=\"text-align: right;\">   0</td><td style=\"text-align: right;\">   0</td><td style=\"text-align: right;\">   0</td><td style=\"text-align: right;\">   0</td><td style=\"text-align: right;\">   0</td><td style=\"text-align: right;\">   0</td><td style=\"text-align: right;\">    0</td><td style=\"text-align: right;\">    0</td><td style=\"text-align: right;\">    0</td><td style=\"text-align: right;\">    0</td><td style=\"text-align: right;\">    0</td><td style=\"text-align: right;\">    0</td><td style=\"text-align: right;\">    0</td></tr>\n",
       "<tr><td style=\"text-align: right;\">   0</td><td style=\"text-align: right;\">   0</td><td style=\"text-align: right;\">   0</td><td style=\"text-align: right;\">   0</td><td style=\"text-align: right;\">   0</td><td style=\"text-align: right;\">   0</td><td style=\"text-align: right;\">   0</td><td style=\"text-align: right;\">   0</td><td style=\"text-align: right;\">   0</td><td style=\"text-align: right;\">    0</td><td style=\"text-align: right;\">    0</td><td style=\"text-align: right;\">    0</td><td style=\"text-align: right;\">    0</td><td style=\"text-align: right;\">    0</td><td style=\"text-align: right;\">    0</td><td style=\"text-align: right;\">    0</td></tr>\n",
       "<tr><td style=\"text-align: right;\">   0</td><td style=\"text-align: right;\">   0</td><td style=\"text-align: right;\">   0</td><td style=\"text-align: right;\">   0</td><td style=\"text-align: right;\">   0</td><td style=\"text-align: right;\">   0</td><td style=\"text-align: right;\">   0</td><td style=\"text-align: right;\">   0</td><td style=\"text-align: right;\">   0</td><td style=\"text-align: right;\">    0</td><td style=\"text-align: right;\">    0</td><td style=\"text-align: right;\">    0</td><td style=\"text-align: right;\">    0</td><td style=\"text-align: right;\">    0</td><td style=\"text-align: right;\">    0</td><td style=\"text-align: right;\">    0</td></tr>\n",
       "</table>"
      ]
     },
     "metadata": {},
     "output_type": "display_data"
    },
    {
     "data": {
      "text/plain": []
     },
     "execution_count": 28,
     "metadata": {},
     "output_type": "execute_result"
    }
   ],
   "source": [
    "data.isna()"
   ]
  },
  {
   "cell_type": "code",
   "execution_count": 29,
   "metadata": {
    "collapsed": false
   },
   "outputs": [
    {
     "data": {
      "text/html": [
       "<table>\n",
       "<tr><th style=\"text-align: right;\">  C1</th></tr>\n",
       "<tr><td style=\"text-align: right;\">   0</td></tr>\n",
       "<tr><td style=\"text-align: right;\">   0</td></tr>\n",
       "<tr><td style=\"text-align: right;\">   0</td></tr>\n",
       "<tr><td style=\"text-align: right;\">   0</td></tr>\n",
       "<tr><td style=\"text-align: right;\">   0</td></tr>\n",
       "<tr><td style=\"text-align: right;\">   0</td></tr>\n",
       "<tr><td style=\"text-align: right;\">   0</td></tr>\n",
       "<tr><td style=\"text-align: right;\">   0</td></tr>\n",
       "<tr><td style=\"text-align: right;\">   0</td></tr>\n",
       "<tr><td style=\"text-align: right;\">   0</td></tr>\n",
       "</table>"
      ]
     },
     "metadata": {},
     "output_type": "display_data"
    },
    {
     "data": {
      "text/plain": []
     },
     "execution_count": 29,
     "metadata": {},
     "output_type": "execute_result"
    }
   ],
   "source": [
    "data[y].isna()"
   ]
  },
  {
   "cell_type": "markdown",
   "metadata": {},
   "source": [
    "The `isna` method doesn't directly answer the question, \"Does the response column contain any NAs?\", rather it returns a 0 if that cell is not missing (Is NA? FALSE == 0) and a 1 if it is missing (Is NA? TRUE == 1).  So if there are no missing values, then summing over the whole column should produce a summand equal to 0.0.  Let's take a look:"
   ]
  },
  {
   "cell_type": "code",
   "execution_count": 31,
   "metadata": {
    "collapsed": false
   },
   "outputs": [
    {
     "data": {
      "text/plain": [
       "0.0"
      ]
     },
     "execution_count": 31,
     "metadata": {},
     "output_type": "execute_result"
    }
   ],
   "source": [
    "data[y].isna().sum()"
   ]
  },
  {
   "cell_type": "markdown",
   "metadata": {},
   "source": [
    "Great, no missing labels.  :-)\n",
    "\n",
    "Out of curiosity, let's see if there is any missing data in this frame:"
   ]
  },
  {
   "cell_type": "code",
   "execution_count": 32,
   "metadata": {
    "collapsed": false
   },
   "outputs": [
    {
     "data": {
      "text/plain": [
       "0.0"
      ]
     },
     "execution_count": 32,
     "metadata": {},
     "output_type": "execute_result"
    }
   ],
   "source": [
    "data.isna().sum()"
   ]
  },
  {
   "cell_type": "markdown",
   "metadata": {},
   "source": [
    "The sum is still zero, so there are no missing values in any of the cells."
   ]
  },
  {
   "cell_type": "markdown",
   "metadata": {},
   "source": [
    "The next thing I may wonder about in a binary classification problem is the distribution of the response in the training data.  Is one of the two outcomes under-represented in the training set?  Many real datasets have what's called an \"imbalanace\" problem, where one of the classes has far fewer training examples than the other class.  Let's take a look at the distribution:"
   ]
  },
  {
   "cell_type": "code",
   "execution_count": 34,
   "metadata": {
    "collapsed": false
   },
   "outputs": [
    {
     "data": {
      "text/html": [
       "<table>\n",
       "<tr><th style=\"text-align: right;\">  eyeDetection</th><th style=\"text-align: right;\">  Count</th></tr>\n",
       "<tr><td style=\"text-align: right;\">             0</td><td style=\"text-align: right;\">   8257</td></tr>\n",
       "<tr><td style=\"text-align: right;\">             1</td><td style=\"text-align: right;\">   6723</td></tr>\n",
       "</table>"
      ]
     },
     "metadata": {},
     "output_type": "display_data"
    },
    {
     "data": {
      "text/plain": []
     },
     "execution_count": 34,
     "metadata": {},
     "output_type": "execute_result"
    }
   ],
   "source": [
    "data[y].table()"
   ]
  },
  {
   "cell_type": "markdown",
   "metadata": {},
   "source": [
    "Ok, the data is not exactly evenly distributed between the two classes -- there are more 0's than 1's in the dataset.  However, this level of imbalance shouldn't be much of an issue for the machine learning algos.  (We will revisit this later in the modeling section below).\n",
    "\n",
    "Let's calculate the percentage that each class represents:"
   ]
  },
  {
   "cell_type": "code",
   "execution_count": 35,
   "metadata": {
    "collapsed": false
   },
   "outputs": [
    {
     "data": {
      "text/html": [
       "<table>\n",
       "<tr><th style=\"text-align: right;\">   Count</th></tr>\n",
       "<tr><td style=\"text-align: right;\">0.551202</td></tr>\n",
       "<tr><td style=\"text-align: right;\">0.448798</td></tr>\n",
       "</table>"
      ]
     },
     "metadata": {},
     "output_type": "display_data"
    },
    {
     "data": {
      "text/plain": []
     },
     "execution_count": 35,
     "metadata": {},
     "output_type": "execute_result"
    }
   ],
   "source": [
    "n = data.shape[0]  # Total number of training samples\n",
    "data[y].table()['Count']/n"
   ]
  },
  {
   "cell_type": "markdown",
   "metadata": {},
   "source": [
    "### Split H2O Frame into a train and test set\n",
    "\n",
    "So far we have explored the original dataset (all rows).  For the machine learning portion of this tutorial, we will break the dataset into three parts: a training set, validation set and a test set.\n",
    "\n",
    "If you want H2O to do the splitting for you, you can use the `split_frame` method.  However, we have explicit splits that we want (for reproducibility reasons), so we can just subset the Frame to get the partitions we want.  \n",
    "\n",
    "Subset the `data` H2O Frame on the \"split\" column:"
   ]
  },
  {
   "cell_type": "code",
   "execution_count": 41,
   "metadata": {
    "collapsed": false
   },
   "outputs": [
    {
     "data": {
      "text/plain": [
       "(8988, 16)"
      ]
     },
     "execution_count": 41,
     "metadata": {},
     "output_type": "execute_result"
    }
   ],
   "source": [
    "train = data[data['split']==\"train\"]\n",
    "train.shape"
   ]
  },
  {
   "cell_type": "code",
   "execution_count": 42,
   "metadata": {
    "collapsed": false
   },
   "outputs": [
    {
     "data": {
      "text/plain": [
       "(2996, 16)"
      ]
     },
     "execution_count": 42,
     "metadata": {},
     "output_type": "execute_result"
    }
   ],
   "source": [
    "valid = data[data['split']==\"valid\"]\n",
    "valid.shape"
   ]
  },
  {
   "cell_type": "code",
   "execution_count": 44,
   "metadata": {
    "collapsed": false
   },
   "outputs": [
    {
     "data": {
      "text/plain": [
       "(2996, 16)"
      ]
     },
     "execution_count": 44,
     "metadata": {},
     "output_type": "execute_result"
    }
   ],
   "source": [
    "test = data[data['split']==\"test\"]\n",
    "test.shape"
   ]
  },
  {
   "cell_type": "markdown",
   "metadata": {},
   "source": [
    "## Machine Learning in H2O\n",
    "\n",
    "We will do a quick demo of the H2O software -- trying to predict malignant tumors using various machine learning algorithms."
   ]
  },
  {
   "cell_type": "code",
   "execution_count": null,
   "metadata": {
    "collapsed": true
   },
   "outputs": [],
   "source": []
  },
  {
   "cell_type": "code",
   "execution_count": 19,
   "metadata": {
    "collapsed": true
   },
   "outputs": [],
   "source": [
    "y = 'diagnosis'"
   ]
  },
  {
   "cell_type": "code",
   "execution_count": 20,
   "metadata": {
    "collapsed": false
   },
   "outputs": [
    {
     "data": {
      "text/plain": [
       "[u'diagnosis',\n",
       " u'radius_mean',\n",
       " u'texture_mean',\n",
       " u'perimeter_mean',\n",
       " u'area_mean',\n",
       " u'smoothness_mean',\n",
       " u'compactness_mean',\n",
       " u'concavity_mean',\n",
       " u'concave_points_mean',\n",
       " u'symmetry_mean',\n",
       " u'fractal_dimension_mean',\n",
       " u'radius_se',\n",
       " u'texture_se',\n",
       " u'perimeter_se',\n",
       " u'area_se',\n",
       " u'smoothness_se',\n",
       " u'compactness_se',\n",
       " u'concavity_se',\n",
       " u'concave_points_se',\n",
       " u'symmetry_se',\n",
       " u'fractal_dimension_se',\n",
       " u'radius_worst',\n",
       " u'texture_worst',\n",
       " u'perimeter_worst',\n",
       " u'area_worst',\n",
       " u'smoothness_worst',\n",
       " u'compactness_worst',\n",
       " u'concavity_worst',\n",
       " u'concave_points_worst',\n",
       " u'symmetry_worst',\n",
       " u'fractal_dimension_worst']"
      ]
     },
     "execution_count": 20,
     "metadata": {},
     "output_type": "execute_result"
    }
   ],
   "source": []
  },
  {
   "cell_type": "markdown",
   "metadata": {},
   "source": [
    "### Train and Test a GBM model"
   ]
  },
  {
   "cell_type": "code",
   "execution_count": 74,
   "metadata": {
    "collapsed": false
   },
   "outputs": [],
   "source": [
    "# Import H2O GBM:\n",
    "from h2o.estimators.gbm import H2OGradientBoostingEstimator\n"
   ]
  },
  {
   "cell_type": "markdown",
   "metadata": {},
   "source": [
    "We first create a `model` object of class, `\"H2OGradientBoostingEstimator\"`.  This does not actually do any training, it just sets the model up for training by specifying model parameters."
   ]
  },
  {
   "cell_type": "code",
   "execution_count": 75,
   "metadata": {
    "collapsed": false
   },
   "outputs": [],
   "source": [
    "model = H2OGradientBoostingEstimator(distribution='bernoulli',\n",
    "                                    ntrees=100,\n",
    "                                    max_depth=4,\n",
    "                                    learn_rate=0.1)"
   ]
  },
  {
   "cell_type": "markdown",
   "metadata": {},
   "source": [
    "#### Specify the predictor set and response\n",
    "\n",
    "The `model` object, like all H2O estimator objects, has a `train` method, which will actually perform model training.  At this step we specify the training and (optionally) a validation set, along with the response and predictor variables.\n",
    "\n",
    "The `x` argument should be a list of predictor names in the training frame, and `y` specifies the response column.  We have already set `y = \"eyeDetector\"` above, but we still need to specify `x`."
   ]
  },
  {
   "cell_type": "code",
   "execution_count": 76,
   "metadata": {
    "collapsed": false
   },
   "outputs": [
    {
     "name": "stdout",
     "output_type": "stream",
     "text": [
      "[u'AF3', u'F7', u'F3', u'FC5', u'T7', u'P7', u'O1', u'O2', u'P8', u'T8', u'FC6', u'F4', u'eyeDetection', u'split']\n"
     ]
    }
   ],
   "source": [
    "x = list(train.columns)\n",
    "print x"
   ]
  },
  {
   "cell_type": "code",
   "execution_count": 77,
   "metadata": {
    "collapsed": false
   },
   "outputs": [
    {
     "name": "stdout",
     "output_type": "stream",
     "text": [
      "[u'AF3', u'F7', u'F3', u'FC5', u'T7', u'P7', u'O1', u'O2', u'P8', u'T8', u'FC6', u'F4']\n"
     ]
    }
   ],
   "source": [
    "del x[12:14]  #Remove the 13th and 14th columns, 'eyeDetection' and 'split'\n",
    "print x"
   ]
  },
  {
   "cell_type": "markdown",
   "metadata": {},
   "source": [
    "Now that we have specified `x` and `y`, we can train the model:"
   ]
  },
  {
   "cell_type": "code",
   "execution_count": 78,
   "metadata": {
    "collapsed": false
   },
   "outputs": [
    {
     "name": "stdout",
     "output_type": "stream",
     "text": [
      "\n",
      "gbm Model Build Progress: [##################################################] 100%\n"
     ]
    }
   ],
   "source": [
    "model.train(x=x, y=y, training_frame=train, validation_frame=valid)"
   ]
  },
  {
   "cell_type": "markdown",
   "metadata": {},
   "source": [
    "### Inspect Model\n",
    "\n",
    "The type of results shown when you print a model, are determined by the following:\n",
    "- Model class of the estimator (e.g. GBM, RF, GLM, DL)\n",
    "- The type of machine learning problem (e.g. binary classification, multiclass classification, regression)\n",
    "- The data you specify (e.g. `training_frame` only, `training_frame` and `validation_frame`, or `training_frame` and `nfolds`)\n",
    "\n",
    "Below, we see a GBM Model Summary, as well as training and validation metrics since we supplied a `validation_frame`.  Since this a binary classification task, we are shown the relevant performance metrics, which inclues: MSE, R^2, LogLoss, AUC and Gini.  Also, we are shown a Confusion Matrix, where the threshold for classification is chosen automatically (by H2O) as the threshold which maximizes the F1 score.\n",
    "\n",
    "The scoring history is also printed, which shows the performance metrics over some increment such as \"number of trees\" in the case of GBM and RF.\n",
    "\n",
    "Lastly, for tree-based methods (GBM and RF), we also print variable importance."
   ]
  },
  {
   "cell_type": "code",
   "execution_count": 79,
   "metadata": {
    "collapsed": false
   },
   "outputs": [
    {
     "name": "stdout",
     "output_type": "stream",
     "text": [
      "Model Details\n",
      "=============\n",
      "H2OGradientBoostingEstimator :  Gradient Boosting Machine\n",
      "Model Key:  GBM_model_python_1448498483595_2\n",
      "\n",
      "Model Summary:\n"
     ]
    },
    {
     "data": {
      "text/html": [
       "<div style=\"overflow:auto\"><table style=\"width:50%\"><tr><td><b></b></td>\n",
       "<td><b>number_of_trees</b></td>\n",
       "<td><b>model_size_in_bytes</b></td>\n",
       "<td><b>min_depth</b></td>\n",
       "<td><b>max_depth</b></td>\n",
       "<td><b>mean_depth</b></td>\n",
       "<td><b>min_leaves</b></td>\n",
       "<td><b>max_leaves</b></td>\n",
       "<td><b>mean_leaves</b></td></tr>\n",
       "<tr><td></td>\n",
       "<td>100.0</td>\n",
       "<td>23948.0</td>\n",
       "<td>4.0</td>\n",
       "<td>4.0</td>\n",
       "<td>4.0</td>\n",
       "<td>11.0</td>\n",
       "<td>16.0</td>\n",
       "<td>15.19</td></tr></table></div>"
      ],
      "text/plain": [
       "    number_of_trees    model_size_in_bytes    min_depth    max_depth    mean_depth    min_leaves    max_leaves    mean_leaves\n",
       "--  -----------------  ---------------------  -----------  -----------  ------------  ------------  ------------  -------------\n",
       "    100                23948                  4            4            4             11            16            15.19"
      ]
     },
     "metadata": {},
     "output_type": "display_data"
    },
    {
     "name": "stdout",
     "output_type": "stream",
     "text": [
      "\n",
      "\n",
      "ModelMetricsBinomial: gbm\n",
      "** Reported on train data. **\n",
      "\n",
      "MSE: 0.107067634497\n",
      "R^2: 0.56791947533\n",
      "LogLoss: 0.358809838536\n",
      "AUC: 0.946484785257\n",
      "Gini: 0.892969570514\n",
      "\n",
      "Confusion Matrix (Act/Pred) for max f1 @ threshold = 0.46478936649:\n"
     ]
    },
    {
     "data": {
      "text/html": [
       "<div style=\"overflow:auto\"><table style=\"width:50%\"><tr><td><b></b></td>\n",
       "<td><b>0</b></td>\n",
       "<td><b>1</b></td>\n",
       "<td><b>Error</b></td>\n",
       "<td><b>Rate</b></td></tr>\n",
       "<tr><td>0</td>\n",
       "<td>4337.0</td>\n",
       "<td>579.0</td>\n",
       "<td>0.1178</td>\n",
       "<td> (579.0/4916.0)</td></tr>\n",
       "<tr><td>1</td>\n",
       "<td>578.0</td>\n",
       "<td>3494.0</td>\n",
       "<td>0.1419</td>\n",
       "<td> (578.0/4072.0)</td></tr>\n",
       "<tr><td>Total</td>\n",
       "<td>4915.0</td>\n",
       "<td>4073.0</td>\n",
       "<td>0.1287</td>\n",
       "<td> (1157.0/8988.0)</td></tr></table></div>"
      ],
      "text/plain": [
       "       0     1     Error    Rate\n",
       "-----  ----  ----  -------  ---------------\n",
       "0      4337  579   0.1178   (579.0/4916.0)\n",
       "1      578   3494  0.1419   (578.0/4072.0)\n",
       "Total  4915  4073  0.1287   (1157.0/8988.0)"
      ]
     },
     "metadata": {},
     "output_type": "display_data"
    },
    {
     "name": "stdout",
     "output_type": "stream",
     "text": [
      "\n",
      "Maximum Metrics: Maximum metrics at their respective thresholds\n",
      "\n"
     ]
    },
    {
     "data": {
      "text/html": [
       "<div style=\"overflow:auto\"><table style=\"width:50%\"><tr><td><b>metric</b></td>\n",
       "<td><b>threshold</b></td>\n",
       "<td><b>value</b></td>\n",
       "<td><b>idx</b></td></tr>\n",
       "<tr><td>max f1</td>\n",
       "<td>0.5</td>\n",
       "<td>0.9</td>\n",
       "<td>205.0</td></tr>\n",
       "<tr><td>max f2</td>\n",
       "<td>0.3</td>\n",
       "<td>0.9</td>\n",
       "<td>261.0</td></tr>\n",
       "<tr><td>max f0point5</td>\n",
       "<td>0.6</td>\n",
       "<td>0.9</td>\n",
       "<td>161.0</td></tr>\n",
       "<tr><td>max accuracy</td>\n",
       "<td>0.5</td>\n",
       "<td>0.9</td>\n",
       "<td>200.0</td></tr>\n",
       "<tr><td>max precision</td>\n",
       "<td>1.0</td>\n",
       "<td>1.0</td>\n",
       "<td>0.0</td></tr>\n",
       "<tr><td>max absolute_MCC</td>\n",
       "<td>0.5</td>\n",
       "<td>0.7</td>\n",
       "<td>205.0</td></tr>\n",
       "<tr><td>max min_per_class_accuracy</td>\n",
       "<td>0.5</td>\n",
       "<td>0.9</td>\n",
       "<td>210.0</td></tr></table></div>"
      ],
      "text/plain": [
       "metric                      threshold    value     idx\n",
       "--------------------------  -----------  --------  -----\n",
       "max f1                      0.464789     0.85795   205\n",
       "max f2                      0.319696     0.901916  261\n",
       "max f0point5                0.580767     0.880601  161\n",
       "max accuracy                0.479084     0.871273  200\n",
       "max precision               0.988326     1         0\n",
       "max absolute_MCC            0.464789     0.740261  205\n",
       "max min_per_class_accuracy  0.450177     0.868186  210"
      ]
     },
     "metadata": {},
     "output_type": "display_data"
    },
    {
     "name": "stdout",
     "output_type": "stream",
     "text": [
      "\n",
      "ModelMetricsBinomial: gbm\n",
      "** Reported on validation data. **\n",
      "\n",
      "MSE: 0.118965492192\n",
      "R^2: 0.520124318841\n",
      "LogLoss: 0.386941372318\n",
      "AUC: 0.92515262433\n",
      "Gini: 0.850305248659\n",
      "\n",
      "Confusion Matrix (Act/Pred) for max f1 @ threshold = 0.439208132331:\n"
     ]
    },
    {
     "data": {
      "text/html": [
       "<div style=\"overflow:auto\"><table style=\"width:50%\"><tr><td><b></b></td>\n",
       "<td><b>0</b></td>\n",
       "<td><b>1</b></td>\n",
       "<td><b>Error</b></td>\n",
       "<td><b>Rate</b></td></tr>\n",
       "<tr><td>0</td>\n",
       "<td>1349.0</td>\n",
       "<td>286.0</td>\n",
       "<td>0.1749</td>\n",
       "<td> (286.0/1635.0)</td></tr>\n",
       "<tr><td>1</td>\n",
       "<td>183.0</td>\n",
       "<td>1178.0</td>\n",
       "<td>0.1345</td>\n",
       "<td> (183.0/1361.0)</td></tr>\n",
       "<tr><td>Total</td>\n",
       "<td>1532.0</td>\n",
       "<td>1464.0</td>\n",
       "<td>0.1565</td>\n",
       "<td> (469.0/2996.0)</td></tr></table></div>"
      ],
      "text/plain": [
       "       0     1     Error    Rate\n",
       "-----  ----  ----  -------  --------------\n",
       "0      1349  286   0.1749   (286.0/1635.0)\n",
       "1      183   1178  0.1345   (183.0/1361.0)\n",
       "Total  1532  1464  0.1565   (469.0/2996.0)"
      ]
     },
     "metadata": {},
     "output_type": "display_data"
    },
    {
     "name": "stdout",
     "output_type": "stream",
     "text": [
      "\n",
      "Maximum Metrics: Maximum metrics at their respective thresholds\n",
      "\n"
     ]
    },
    {
     "data": {
      "text/html": [
       "<div style=\"overflow:auto\"><table style=\"width:50%\"><tr><td><b>metric</b></td>\n",
       "<td><b>threshold</b></td>\n",
       "<td><b>value</b></td>\n",
       "<td><b>idx</b></td></tr>\n",
       "<tr><td>max f1</td>\n",
       "<td>0.4</td>\n",
       "<td>0.8</td>\n",
       "<td>222.0</td></tr>\n",
       "<tr><td>max f2</td>\n",
       "<td>0.3</td>\n",
       "<td>0.9</td>\n",
       "<td>269.0</td></tr>\n",
       "<tr><td>max f0point5</td>\n",
       "<td>0.6</td>\n",
       "<td>0.8</td>\n",
       "<td>158.0</td></tr>\n",
       "<tr><td>max accuracy</td>\n",
       "<td>0.5</td>\n",
       "<td>0.8</td>\n",
       "<td>195.0</td></tr>\n",
       "<tr><td>max precision</td>\n",
       "<td>1.0</td>\n",
       "<td>1.0</td>\n",
       "<td>0.0</td></tr>\n",
       "<tr><td>max absolute_MCC</td>\n",
       "<td>0.5</td>\n",
       "<td>0.7</td>\n",
       "<td>195.0</td></tr>\n",
       "<tr><td>max min_per_class_accuracy</td>\n",
       "<td>0.5</td>\n",
       "<td>0.8</td>\n",
       "<td>213.0</td></tr></table></div>"
      ],
      "text/plain": [
       "metric                      threshold    value     idx\n",
       "--------------------------  -----------  --------  -----\n",
       "max f1                      0.439208     0.833982  222\n",
       "max f2                      0.319136     0.889133  269\n",
       "max f0point5                0.598501     0.849091  158\n",
       "max accuracy                0.504654     0.849466  195\n",
       "max precision               0.978045     1         0\n",
       "max absolute_MCC            0.504654     0.695841  195\n",
       "max min_per_class_accuracy  0.459349     0.845872  213"
      ]
     },
     "metadata": {},
     "output_type": "display_data"
    },
    {
     "name": "stdout",
     "output_type": "stream",
     "text": [
      "\n",
      "Scoring History:\n"
     ]
    },
    {
     "data": {
      "text/html": [
       "<div style=\"overflow:auto\"><table style=\"width:50%\"><tr><td><b></b></td>\n",
       "<td><b>timestamp</b></td>\n",
       "<td><b>duration</b></td>\n",
       "<td><b>number_of_trees</b></td>\n",
       "<td><b>training_MSE</b></td>\n",
       "<td><b>training_logloss</b></td>\n",
       "<td><b>training_AUC</b></td>\n",
       "<td><b>training_classification_error</b></td>\n",
       "<td><b>validation_MSE</b></td>\n",
       "<td><b>validation_logloss</b></td>\n",
       "<td><b>validation_AUC</b></td>\n",
       "<td><b>validation_classification_error</b></td></tr>\n",
       "<tr><td></td>\n",
       "<td>2015-11-25 18:55:30</td>\n",
       "<td> 0.146 sec</td>\n",
       "<td>1.0</td>\n",
       "<td>0.2</td>\n",
       "<td>0.7</td>\n",
       "<td>0.7</td>\n",
       "<td>0.4</td>\n",
       "<td>0.2</td>\n",
       "<td>0.7</td>\n",
       "<td>0.7</td>\n",
       "<td>0.4</td></tr>\n",
       "<tr><td></td>\n",
       "<td>2015-11-25 18:55:30</td>\n",
       "<td> 0.198 sec</td>\n",
       "<td>2.0</td>\n",
       "<td>0.2</td>\n",
       "<td>0.7</td>\n",
       "<td>0.8</td>\n",
       "<td>0.3</td>\n",
       "<td>0.2</td>\n",
       "<td>0.7</td>\n",
       "<td>0.8</td>\n",
       "<td>0.3</td></tr>\n",
       "<tr><td></td>\n",
       "<td>2015-11-25 18:55:30</td>\n",
       "<td> 0.231 sec</td>\n",
       "<td>3.0</td>\n",
       "<td>0.2</td>\n",
       "<td>0.6</td>\n",
       "<td>0.8</td>\n",
       "<td>0.3</td>\n",
       "<td>0.2</td>\n",
       "<td>0.6</td>\n",
       "<td>0.8</td>\n",
       "<td>0.3</td></tr>\n",
       "<tr><td></td>\n",
       "<td>2015-11-25 18:55:30</td>\n",
       "<td> 0.260 sec</td>\n",
       "<td>4.0</td>\n",
       "<td>0.2</td>\n",
       "<td>0.6</td>\n",
       "<td>0.8</td>\n",
       "<td>0.3</td>\n",
       "<td>0.2</td>\n",
       "<td>0.6</td>\n",
       "<td>0.8</td>\n",
       "<td>0.3</td></tr>\n",
       "<tr><td></td>\n",
       "<td>2015-11-25 18:55:30</td>\n",
       "<td> 0.312 sec</td>\n",
       "<td>5.0</td>\n",
       "<td>0.2</td>\n",
       "<td>0.6</td>\n",
       "<td>0.8</td>\n",
       "<td>0.3</td>\n",
       "<td>0.2</td>\n",
       "<td>0.6</td>\n",
       "<td>0.8</td>\n",
       "<td>0.3</td></tr>\n",
       "<tr><td>---</td>\n",
       "<td>---</td>\n",
       "<td>---</td>\n",
       "<td>---</td>\n",
       "<td>---</td>\n",
       "<td>---</td>\n",
       "<td>---</td>\n",
       "<td>---</td>\n",
       "<td>---</td>\n",
       "<td>---</td>\n",
       "<td>---</td>\n",
       "<td>---</td></tr>\n",
       "<tr><td></td>\n",
       "<td>2015-11-25 18:55:33</td>\n",
       "<td> 3.750 sec</td>\n",
       "<td>69.0</td>\n",
       "<td>0.1</td>\n",
       "<td>0.4</td>\n",
       "<td>0.9</td>\n",
       "<td>0.2</td>\n",
       "<td>0.1</td>\n",
       "<td>0.4</td>\n",
       "<td>0.9</td>\n",
       "<td>0.2</td></tr>\n",
       "<tr><td></td>\n",
       "<td>2015-11-25 18:55:33</td>\n",
       "<td> 3.820 sec</td>\n",
       "<td>70.0</td>\n",
       "<td>0.1</td>\n",
       "<td>0.4</td>\n",
       "<td>0.9</td>\n",
       "<td>0.2</td>\n",
       "<td>0.1</td>\n",
       "<td>0.4</td>\n",
       "<td>0.9</td>\n",
       "<td>0.2</td></tr>\n",
       "<tr><td></td>\n",
       "<td>2015-11-25 18:55:33</td>\n",
       "<td> 3.894 sec</td>\n",
       "<td>71.0</td>\n",
       "<td>0.1</td>\n",
       "<td>0.4</td>\n",
       "<td>0.9</td>\n",
       "<td>0.2</td>\n",
       "<td>0.1</td>\n",
       "<td>0.4</td>\n",
       "<td>0.9</td>\n",
       "<td>0.2</td></tr>\n",
       "<tr><td></td>\n",
       "<td>2015-11-25 18:55:34</td>\n",
       "<td> 3.975 sec</td>\n",
       "<td>72.0</td>\n",
       "<td>0.1</td>\n",
       "<td>0.4</td>\n",
       "<td>0.9</td>\n",
       "<td>0.1</td>\n",
       "<td>0.1</td>\n",
       "<td>0.4</td>\n",
       "<td>0.9</td>\n",
       "<td>0.2</td></tr>\n",
       "<tr><td></td>\n",
       "<td>2015-11-25 18:55:34</td>\n",
       "<td> 4.328 sec</td>\n",
       "<td>100.0</td>\n",
       "<td>0.1</td>\n",
       "<td>0.4</td>\n",
       "<td>0.9</td>\n",
       "<td>0.1</td>\n",
       "<td>0.1</td>\n",
       "<td>0.4</td>\n",
       "<td>0.9</td>\n",
       "<td>0.2</td></tr></table></div>"
      ],
      "text/plain": [
       "     timestamp            duration    number_of_trees    training_MSE    training_logloss    training_AUC    training_classification_error    validation_MSE    validation_logloss    validation_AUC    validation_classification_error\n",
       "---  -------------------  ----------  -----------------  --------------  ------------------  --------------  -------------------------------  ----------------  --------------------  ----------------  ---------------------------------\n",
       "     2015-11-25 18:55:30  0.146 sec   1.0                0.239083792008  0.671171273275      0.729905237059  0.424788607032                   0.23888051724     0.670764995115        0.734808009042    0.428571428571\n",
       "     2015-11-25 18:55:30  0.198 sec   2.0                0.2318458579    0.656525040312      0.766183898333  0.318869603916                   0.231546795213    0.655932228582        0.772977011417    0.303404539386\n",
       "     2015-11-25 18:55:30  0.231 sec   3.0                0.225433703482  0.643432528979      0.769477492003  0.304072096128                   0.225141591636    0.642867719286        0.771447959429    0.304072096128\n",
       "     2015-11-25 18:55:30  0.260 sec   4.0                0.219661812003  0.63148564498       0.788965449612  0.290609701825                   0.219582366243    0.631381258742        0.78818574218     0.289052069426\n",
       "     2015-11-25 18:55:30  0.312 sec   5.0                0.214399194905  0.620543908392      0.799866414906  0.293836226079                   0.214520088559    0.620875095099        0.79990540325     0.297730307076\n",
       "---  ---                  ---         ---                ---             ---                 ---             ---                              ---               ---                   ---               ---\n",
       "     2015-11-25 18:55:33  3.750 sec   69.0               0.123184935214  0.402550246202      0.929006174058  0.152091677793                   0.132099736686    0.423851421547        0.909979844825    0.165887850467\n",
       "     2015-11-25 18:55:33  3.820 sec   70.0               0.122905561064  0.401756257047      0.929297462598  0.151090342679                   0.131889573031    0.423162071596        0.910190609082    0.16655540721\n",
       "     2015-11-25 18:55:33  3.894 sec   71.0               0.122516230391  0.400703995794      0.929752778906  0.151980418336                   0.131695111349    0.422560613203        0.910407215418    0.167556742323\n",
       "     2015-11-25 18:55:34  3.975 sec   72.0               0.121941955515  0.399327782681      0.930615629411  0.146862483311                   0.131426695652    0.421860206102        0.910798859446    0.167890520694\n",
       "     2015-11-25 18:55:34  4.328 sec   100.0              0.107067634497  0.358809838536      0.946484785257  0.128727191811                   0.118965492192    0.386941372318        0.92515262433     0.156542056075"
      ]
     },
     "metadata": {},
     "output_type": "display_data"
    },
    {
     "name": "stdout",
     "output_type": "stream",
     "text": [
      "\n",
      "Variable Importances:\n"
     ]
    },
    {
     "data": {
      "text/html": [
       "<div style=\"overflow:auto\"><table style=\"width:50%\"><tr><td><b>variable</b></td>\n",
       "<td><b>relative_importance</b></td>\n",
       "<td><b>scaled_importance</b></td>\n",
       "<td><b>percentage</b></td></tr>\n",
       "<tr><td>P7</td>\n",
       "<td>1208.7</td>\n",
       "<td>1.0</td>\n",
       "<td>0.2</td></tr>\n",
       "<tr><td>O1</td>\n",
       "<td>975.9</td>\n",
       "<td>0.8</td>\n",
       "<td>0.1</td></tr>\n",
       "<tr><td>F7</td>\n",
       "<td>819.8</td>\n",
       "<td>0.7</td>\n",
       "<td>0.1</td></tr>\n",
       "<tr><td>AF4</td>\n",
       "<td>577.2</td>\n",
       "<td>0.5</td>\n",
       "<td>0.1</td></tr>\n",
       "<tr><td>F8</td>\n",
       "<td>481.4</td>\n",
       "<td>0.4</td>\n",
       "<td>0.1</td></tr>\n",
       "<tr><td>AF3</td>\n",
       "<td>432.5</td>\n",
       "<td>0.4</td>\n",
       "<td>0.1</td></tr>\n",
       "<tr><td>O2</td>\n",
       "<td>403.6</td>\n",
       "<td>0.3</td>\n",
       "<td>0.1</td></tr>\n",
       "<tr><td>F4</td>\n",
       "<td>370.3</td>\n",
       "<td>0.3</td>\n",
       "<td>0.1</td></tr>\n",
       "<tr><td>FC6</td>\n",
       "<td>309.3</td>\n",
       "<td>0.3</td>\n",
       "<td>0.0</td></tr>\n",
       "<tr><td>T8</td>\n",
       "<td>274.1</td>\n",
       "<td>0.2</td>\n",
       "<td>0.0</td></tr>\n",
       "<tr><td>FC5</td>\n",
       "<td>261.0</td>\n",
       "<td>0.2</td>\n",
       "<td>0.0</td></tr>\n",
       "<tr><td>F3</td>\n",
       "<td>229.6</td>\n",
       "<td>0.2</td>\n",
       "<td>0.0</td></tr>\n",
       "<tr><td>T7</td>\n",
       "<td>178.5</td>\n",
       "<td>0.1</td>\n",
       "<td>0.0</td></tr>\n",
       "<tr><td>P8</td>\n",
       "<td>82.8</td>\n",
       "<td>0.1</td>\n",
       "<td>0.0</td></tr></table></div>"
      ],
      "text/plain": [
       "variable    relative_importance    scaled_importance    percentage\n",
       "----------  ---------------------  -------------------  ------------\n",
       "P7          1208.66                1                    0.183005\n",
       "O1          975.911                0.807432             0.147764\n",
       "F7          819.829                0.678295             0.124131\n",
       "AF4         577.158                0.477519             0.0873884\n",
       "F8          481.374                0.398271             0.0728855\n",
       "AF3         432.505                0.357838             0.0654861\n",
       "O2          403.609                0.333931             0.061111\n",
       "F4          370.269                0.306346             0.0560629\n",
       "FC6         309.256                0.255866             0.0468248\n",
       "T8          274.083                0.226766             0.0414992\n",
       "FC5         261.035                0.215971             0.0395237\n",
       "F3          229.558                0.189928             0.0347577\n",
       "T7          178.475                0.147663             0.0270231\n",
       "P8          82.803                 0.0685081            0.0125373"
      ]
     },
     "metadata": {},
     "output_type": "display_data"
    },
    {
     "name": "stdout",
     "output_type": "stream",
     "text": [
      "\n"
     ]
    }
   ],
   "source": [
    "print model"
   ]
  },
  {
   "cell_type": "markdown",
   "metadata": {},
   "source": [
    "### Model Performance on a Test Set\n",
    "\n",
    "Once a model has been trained, you can also use it to make predictions on a test set.  In the case above, we just ran the model once, so our validation set (passed as `validation_frame`), could have also served as a \"test set.\"  We technically have already created test set predictions and evaluated test set performance.  \n",
    "\n",
    "However, when performing model selection over a variety of model parameters, it is common for users to train a variety of models (using different parameters) using the training set, `train`, and a validation set, `valid`.  Once the user selects the best model (based on validation set performance), the true test of model performance is performed by making a final set of predictions on the held-out (never been used before) test set, `test`.\n",
    "\n",
    "You can use the `model_performance` method to generate predictions on a new dataset.  The results are stored in an object of class, `\"H2OBinomialModelMetrics\"`.  "
   ]
  },
  {
   "cell_type": "code",
   "execution_count": 81,
   "metadata": {
    "collapsed": false
   },
   "outputs": [
    {
     "name": "stdout",
     "output_type": "stream",
     "text": [
      "<class 'h2o.model.metrics_base.H2OBinomialModelMetrics'>\n"
     ]
    }
   ],
   "source": [
    "perf = model.model_performance(test)\n",
    "print perf.__class__"
   ]
  },
  {
   "cell_type": "markdown",
   "metadata": {},
   "source": [
    "Individual model performance metrics can be extracted using methods like `r2`, `auc` and `mse`.  In the case of binary classification, we may be most interested in evaluating test set Area Under the ROC Curve (AUC).  "
   ]
  },
  {
   "cell_type": "code",
   "execution_count": 82,
   "metadata": {
    "collapsed": false
   },
   "outputs": [
    {
     "data": {
      "text/plain": [
       "0.5259595792442955"
      ]
     },
     "execution_count": 82,
     "metadata": {},
     "output_type": "execute_result"
    }
   ],
   "source": [
    "perf.r2()"
   ]
  },
  {
   "cell_type": "code",
   "execution_count": 83,
   "metadata": {
    "collapsed": false
   },
   "outputs": [
    {
     "data": {
      "text/plain": [
       "0.9288961894635441"
      ]
     },
     "execution_count": 83,
     "metadata": {},
     "output_type": "execute_result"
    }
   ],
   "source": [
    "perf.auc()"
   ]
  },
  {
   "cell_type": "code",
   "execution_count": 84,
   "metadata": {
    "collapsed": false
   },
   "outputs": [
    {
     "data": {
      "text/plain": [
       "0.11622525133354362"
      ]
     },
     "execution_count": 84,
     "metadata": {},
     "output_type": "execute_result"
    }
   ],
   "source": [
    "perf.mse()"
   ]
  },
  {
   "cell_type": "markdown",
   "metadata": {},
   "source": [
    "### Cross-validated Performance\n",
    "\n",
    "To perform k-fold cross-validation, you use the same code as above, but you specify `nfolds` as an integer greater than 1, or add a \"fold_column\" to your H2O Frame which indicates a fold ID for each row.\n",
    "\n",
    "Unless you have a specific reason to manually assign the observations to folds, you will find it easiest to simply use the `nfolds` argument.\n",
    "\n",
    "When performing cross-validation, you can still pass a `validation_frame`, but you can also choose to use the original dataset that contains all the rows.  We will cross-validate a model below using the original H2O Frame which is called `data`."
   ]
  },
  {
   "cell_type": "code",
   "execution_count": 85,
   "metadata": {
    "collapsed": false
   },
   "outputs": [
    {
     "name": "stdout",
     "output_type": "stream",
     "text": [
      "\n",
      "gbm Model Build Progress: [##################################################] 100%\n"
     ]
    }
   ],
   "source": [
    "cvmodel = H2OGradientBoostingEstimator(distribution='bernoulli',\n",
    "                                       ntrees=100,\n",
    "                                       max_depth=4,\n",
    "                                       learn_rate=0.1,\n",
    "                                       nfolds=5)\n",
    "\n",
    "cvmodel.train(x=x, y=y, training_frame=data)\n"
   ]
  },
  {
   "cell_type": "markdown",
   "metadata": {},
   "source": [
    "This time around, we will simply pull the training and cross-validation metrics out of the model.  To do so, you use the `auc` method again, and you can specify `train` or `xval` as `True` to get the correct metric."
   ]
  },
  {
   "cell_type": "code",
   "execution_count": 92,
   "metadata": {
    "collapsed": false
   },
   "outputs": [
    {
     "name": "stdout",
     "output_type": "stream",
     "text": [
      "0.926208136139\n",
      "0.907937231592\n"
     ]
    }
   ],
   "source": [
    "print cvmodel.auc(train=True)\n",
    "print cvmodel.auc(xval=True)"
   ]
  },
  {
   "cell_type": "markdown",
   "metadata": {},
   "source": [
    "### Grid Search\n",
    "\n",
    "One way of evaluting models with different parameters is to perform a grid search over a set of parameter values.  For example, in GBM, here are three model parameters that may be useful to search over:\n",
    "- `ntrees`: Number of trees\n",
    "- `max_depth`: Maximum depth of a tree\n",
    "- `learn_rate`: Learning rate in the GBM\n",
    "\n",
    "We will define a grid as follows:"
   ]
  },
  {
   "cell_type": "code",
   "execution_count": 93,
   "metadata": {
    "collapsed": true
   },
   "outputs": [],
   "source": [
    "ntrees_opt = [5,50,100]\n",
    "max_depth_opt = [2,3,5]\n",
    "learn_rate_opt = [0.1,0.2]\n",
    "\n",
    "hyper_params = {'ntrees': ntrees_opt, \n",
    "                'max_depth': max_depth_opt,\n",
    "                'learn_rate': learn_rate_opt}"
   ]
  },
  {
   "cell_type": "markdown",
   "metadata": {},
   "source": [
    "Define an `\"H2OGridSearch\"` object by specifying the algorithm (GBM) and the hyper parameters:"
   ]
  },
  {
   "cell_type": "code",
   "execution_count": 94,
   "metadata": {
    "collapsed": true
   },
   "outputs": [],
   "source": [
    "from h2o.grid.grid_search import H2OGridSearch\n",
    "\n",
    "gs = H2OGridSearch(H2OGradientBoostingEstimator, hyper_params = hyper_params)"
   ]
  },
  {
   "cell_type": "markdown",
   "metadata": {},
   "source": [
    "An `\"H2OGridSearch\"` object also has a `train` method, which is used to train all the models in the grid."
   ]
  },
  {
   "cell_type": "code",
   "execution_count": 95,
   "metadata": {
    "collapsed": false
   },
   "outputs": [
    {
     "name": "stdout",
     "output_type": "stream",
     "text": [
      "\n",
      "gbm Grid Build Progress: [##################################################] 100%\n"
     ]
    }
   ],
   "source": [
    "gs.train(x=x, y=y, training_frame=train, validation_frame=valid)"
   ]
  },
  {
   "cell_type": "markdown",
   "metadata": {},
   "source": [
    "### Compare Models"
   ]
  },
  {
   "cell_type": "code",
   "execution_count": 96,
   "metadata": {
    "collapsed": false
   },
   "outputs": [
    {
     "name": "stdout",
     "output_type": "stream",
     "text": [
      "\n",
      "Grid Search Results for H2OGradientBoostingEstimator:\n"
     ]
    },
    {
     "data": {
      "text/html": [
       "<div style=\"overflow:auto\"><table style=\"width:50%\"><tr><td><b>Model Id</b></td>\n",
       "<td><b>Hyperparameters: [learn_rate, ntrees, max_depth]</b></td>\n",
       "<td><b>mse</b></td></tr>\n",
       "<tr><td>Grid_GBM_py_37_model_python_1448498483595_5_model_17</td>\n",
       "<td>[0.2, 100, 5]</td>\n",
       "<td>0.0</td></tr>\n",
       "<tr><td>Grid_GBM_py_37_model_python_1448498483595_5_model_16</td>\n",
       "<td>[0.2, 50, 5]</td>\n",
       "<td>0.1</td></tr>\n",
       "<tr><td>Grid_GBM_py_37_model_python_1448498483595_5_model_8</td>\n",
       "<td>[0.1, 100, 5]</td>\n",
       "<td>0.1</td></tr>\n",
       "<tr><td>Grid_GBM_py_37_model_python_1448498483595_5_model_7</td>\n",
       "<td>[0.1, 50, 5]</td>\n",
       "<td>0.1</td></tr>\n",
       "<tr><td>Grid_GBM_py_37_model_python_1448498483595_5_model_14</td>\n",
       "<td>[0.2, 100, 3]</td>\n",
       "<td>0.1</td></tr>\n",
       "<tr><td>Grid_GBM_py_37_model_python_1448498483595_5_model_13</td>\n",
       "<td>[0.2, 50, 3]</td>\n",
       "<td>0.1</td></tr>\n",
       "<tr><td>Grid_GBM_py_37_model_python_1448498483595_5_model_5</td>\n",
       "<td>[0.1, 100, 3]</td>\n",
       "<td>0.1</td></tr>\n",
       "<tr><td>Grid_GBM_py_37_model_python_1448498483595_5_model_4</td>\n",
       "<td>[0.1, 50, 3]</td>\n",
       "<td>0.2</td></tr>\n",
       "<tr><td>Grid_GBM_py_37_model_python_1448498483595_5_model_11</td>\n",
       "<td>[0.2, 100, 2]</td>\n",
       "<td>0.2</td></tr>\n",
       "<tr><td>Grid_GBM_py_37_model_python_1448498483595_5_model_15</td>\n",
       "<td>[0.2, 5, 5]</td>\n",
       "<td>0.2</td></tr>\n",
       "<tr><td>Grid_GBM_py_37_model_python_1448498483595_5_model_10</td>\n",
       "<td>[0.2, 50, 2]</td>\n",
       "<td>0.2</td></tr>\n",
       "<tr><td>Grid_GBM_py_37_model_python_1448498483595_5_model_2</td>\n",
       "<td>[0.1, 100, 2]</td>\n",
       "<td>0.2</td></tr>\n",
       "<tr><td>Grid_GBM_py_37_model_python_1448498483595_5_model_1</td>\n",
       "<td>[0.1, 50, 2]</td>\n",
       "<td>0.2</td></tr>\n",
       "<tr><td>Grid_GBM_py_37_model_python_1448498483595_5_model_6</td>\n",
       "<td>[0.1, 5, 5]</td>\n",
       "<td>0.2</td></tr>\n",
       "<tr><td>Grid_GBM_py_37_model_python_1448498483595_5_model_12</td>\n",
       "<td>[0.2, 5, 3]</td>\n",
       "<td>0.2</td></tr>\n",
       "<tr><td>Grid_GBM_py_37_model_python_1448498483595_5_model_3</td>\n",
       "<td>[0.1, 5, 3]</td>\n",
       "<td>0.2</td></tr>\n",
       "<tr><td>Grid_GBM_py_37_model_python_1448498483595_5_model_9</td>\n",
       "<td>[0.2, 5, 2]</td>\n",
       "<td>0.2</td></tr>\n",
       "<tr><td>Grid_GBM_py_37_model_python_1448498483595_5_model_0</td>\n",
       "<td>[0.1, 5, 2]</td>\n",
       "<td>0.2</td></tr></table></div>"
      ],
      "text/plain": [
       "Model Id                                              Hyperparameters: [learn_rate, ntrees, max_depth]    mse\n",
       "----------------------------------------------------  --------------------------------------------------  ---------\n",
       "Grid_GBM_py_37_model_python_1448498483595_5_model_17  [0.2, 100, 5]                                       0.0394596\n",
       "Grid_GBM_py_37_model_python_1448498483595_5_model_16  [0.2, 50, 5]                                        0.0708449\n",
       "Grid_GBM_py_37_model_python_1448498483595_5_model_8   [0.1, 100, 5]                                       0.0722186\n",
       "Grid_GBM_py_37_model_python_1448498483595_5_model_7   [0.1, 50, 5]                                        0.108348\n",
       "Grid_GBM_py_37_model_python_1448498483595_5_model_14  [0.2, 100, 3]                                       0.114592\n",
       "Grid_GBM_py_37_model_python_1448498483595_5_model_13  [0.2, 50, 3]                                        0.140468\n",
       "Grid_GBM_py_37_model_python_1448498483595_5_model_5   [0.1, 100, 3]                                       0.142454\n",
       "Grid_GBM_py_37_model_python_1448498483595_5_model_4   [0.1, 50, 3]                                        0.167786\n",
       "Grid_GBM_py_37_model_python_1448498483595_5_model_11  [0.2, 100, 2]                                       0.172101\n",
       "Grid_GBM_py_37_model_python_1448498483595_5_model_15  [0.2, 5, 5]                                         0.178603\n",
       "Grid_GBM_py_37_model_python_1448498483595_5_model_10  [0.2, 50, 2]                                        0.187308\n",
       "Grid_GBM_py_37_model_python_1448498483595_5_model_2   [0.1, 100, 2]                                       0.187388\n",
       "Grid_GBM_py_37_model_python_1448498483595_5_model_1   [0.1, 50, 2]                                        0.202483\n",
       "Grid_GBM_py_37_model_python_1448498483595_5_model_6   [0.1, 5, 5]                                         0.203668\n",
       "Grid_GBM_py_37_model_python_1448498483595_5_model_12  [0.2, 5, 3]                                         0.210038\n",
       "Grid_GBM_py_37_model_python_1448498483595_5_model_3   [0.1, 5, 3]                                         0.22499\n",
       "Grid_GBM_py_37_model_python_1448498483595_5_model_9   [0.2, 5, 2]                                         0.227623\n",
       "Grid_GBM_py_37_model_python_1448498483595_5_model_0   [0.1, 5, 2]                                         0.23554"
      ]
     },
     "metadata": {},
     "output_type": "display_data"
    },
    {
     "name": "stdout",
     "output_type": "stream",
     "text": [
      "\n",
      "\n"
     ]
    }
   ],
   "source": [
    "print gs"
   ]
  },
  {
   "cell_type": "code",
   "execution_count": 97,
   "metadata": {
    "collapsed": false
   },
   "outputs": [
    {
     "name": "stdout",
     "output_type": "stream",
     "text": [
      "Grid_GBM_py_37_model_python_1448498483595_5_model_3 auc: 0.745900080088\n",
      "Grid_GBM_py_37_model_python_1448498483595_5_model_1 auc: 0.760300329424\n",
      "Grid_GBM_py_37_model_python_1448498483595_5_model_10 auc: 0.796369029159\n",
      "Grid_GBM_py_37_model_python_1448498483595_5_model_15 auc: 0.86025328665\n",
      "Grid_GBM_py_37_model_python_1448498483595_5_model_14 auc: 0.932639487796\n",
      "Grid_GBM_py_37_model_python_1448498483595_5_model_0 auc: 0.674210104011\n",
      "Grid_GBM_py_37_model_python_1448498483595_5_model_17 auc: 0.994422431426\n",
      "Grid_GBM_py_37_model_python_1448498483595_5_model_6 auc: 0.830997646512\n",
      "Grid_GBM_py_37_model_python_1448498483595_5_model_11 auc: 0.829187746079\n",
      "Grid_GBM_py_37_model_python_1448498483595_5_model_2 auc: 0.796557734777\n",
      "Grid_GBM_py_37_model_python_1448498483595_5_model_16 auc: 0.979030996777\n",
      "Grid_GBM_py_37_model_python_1448498483595_5_model_12 auc: 0.774059728987\n",
      "Grid_GBM_py_37_model_python_1448498483595_5_model_8 auc: 0.978736885771\n",
      "Grid_GBM_py_37_model_python_1448498483595_5_model_9 auc: 0.694192742594\n",
      "Grid_GBM_py_37_model_python_1448498483595_5_model_7 auc: 0.949413831145\n",
      "Grid_GBM_py_37_model_python_1448498483595_5_model_5 auc: 0.900017144611\n",
      "Grid_GBM_py_37_model_python_1448498483595_5_model_13 auc: 0.899687190778\n",
      "Grid_GBM_py_37_model_python_1448498483595_5_model_4 auc: 0.856198426293\n"
     ]
    }
   ],
   "source": [
    "# print out the auc for all of the models\n",
    "for g in gs:\n",
    "    print g.model_id + \" auc: \" + str(g.auc())"
   ]
  },
  {
   "cell_type": "markdown",
   "metadata": {},
   "source": [
    "The \"best\" model in terms of validation set AUC is \"Grid_GBM_py_37_model_python_1448498483595_5_model_17\" with an AUC of 0.994422431426. "
   ]
  },
  {
   "cell_type": "code",
   "execution_count": 105,
   "metadata": {
    "collapsed": false
   },
   "outputs": [
    {
     "data": {
      "text/plain": [
       "0.9944224314255525"
      ]
     },
     "execution_count": 105,
     "metadata": {},
     "output_type": "execute_result"
    }
   ],
   "source": [
    "best_model = h2o.get_model(\"Grid_GBM_py_37_model_python_1448498483595_5_model_17\")\n",
    "best_model.auc()"
   ]
  },
  {
   "cell_type": "markdown",
   "metadata": {},
   "source": [
    "The last thing we may want to do is generate predictions on the test set using the \"best\" model, and evaluate the test set AUC."
   ]
  },
  {
   "cell_type": "code",
   "execution_count": 108,
   "metadata": {
    "collapsed": false
   },
   "outputs": [
    {
     "data": {
      "text/plain": [
       "0.9729745449257977"
      ]
     },
     "execution_count": 108,
     "metadata": {},
     "output_type": "execute_result"
    }
   ],
   "source": [
    "best_perf = best_model.model_performance(test)\n",
    "best_perf.auc()"
   ]
  },
  {
   "cell_type": "markdown",
   "metadata": {},
   "source": [
    "The test set AUC is approximately 0.97.  Not bad!!"
   ]
  }
 ],
 "metadata": {
  "kernelspec": {
   "display_name": "Python 2",
   "language": "python",
   "name": "python2"
  },
  "language_info": {
   "codemirror_mode": {
    "name": "ipython",
    "version": 2
   },
   "file_extension": ".py",
   "mimetype": "text/x-python",
   "name": "python",
   "nbconvert_exporter": "python",
   "pygments_lexer": "ipython2",
   "version": "2.7.10"
  }
 },
 "nbformat": 4,
 "nbformat_minor": 0
}
