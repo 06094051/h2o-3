{
 "cells": [
  {
   "cell_type": "code",
   "execution_count": 10,
   "metadata": {
    "collapsed": true
   },
   "outputs": [],
   "source": [
    "import h2o\n",
    "from h2o.estimators.gbm import H2OGradientBoostingEstimator\n",
    "from h2o.estimators.deeplearning import H2ODeepLearningEstimator"
   ]
  },
  {
   "cell_type": "code",
   "execution_count": 11,
   "metadata": {
    "collapsed": false
   },
   "outputs": [
    {
     "data": {
      "text/html": [
       "<div style=\"overflow:auto\"><table style=\"width:50%\"><tr><td>H2O cluster uptime: </td>\n",
       "<td>17 minutes 9 seconds 893 milliseconds </td></tr>\n",
       "<tr><td>H2O cluster version: </td>\n",
       "<td>3.9.1.99999</td></tr>\n",
       "<tr><td>H2O cluster name: </td>\n",
       "<td>arno</td></tr>\n",
       "<tr><td>H2O cluster total nodes: </td>\n",
       "<td>1</td></tr>\n",
       "<tr><td>H2O cluster total free memory: </td>\n",
       "<td>44.42 GB</td></tr>\n",
       "<tr><td>H2O cluster total cores: </td>\n",
       "<td>12</td></tr>\n",
       "<tr><td>H2O cluster allowed cores: </td>\n",
       "<td>12</td></tr>\n",
       "<tr><td>H2O cluster healthy: </td>\n",
       "<td>True</td></tr>\n",
       "<tr><td>H2O Connection ip: </td>\n",
       "<td>127.0.0.1</td></tr>\n",
       "<tr><td>H2O Connection port: </td>\n",
       "<td>54321</td></tr>\n",
       "<tr><td>H2O Connection proxy: </td>\n",
       "<td>None</td></tr>\n",
       "<tr><td>Python Version: </td>\n",
       "<td>2.7.9</td></tr></table></div>"
      ],
      "text/plain": [
       "------------------------------  -------------------------------------\n",
       "H2O cluster uptime:             17 minutes 9 seconds 893 milliseconds\n",
       "H2O cluster version:            3.9.1.99999\n",
       "H2O cluster name:               arno\n",
       "H2O cluster total nodes:        1\n",
       "H2O cluster total free memory:  44.42 GB\n",
       "H2O cluster total cores:        12\n",
       "H2O cluster allowed cores:      12\n",
       "H2O cluster healthy:            True\n",
       "H2O Connection ip:              127.0.0.1\n",
       "H2O Connection port:            54321\n",
       "H2O Connection proxy:\n",
       "Python Version:                 2.7.9\n",
       "------------------------------  -------------------------------------"
      ]
     },
     "metadata": {},
     "output_type": "display_data"
    }
   ],
   "source": [
    "# Connect to a cluster\n",
    "h2o.init()"
   ]
  },
  {
   "cell_type": "code",
   "execution_count": 12,
   "metadata": {
    "collapsed": false
   },
   "outputs": [
    {
     "name": "stdout",
     "output_type": "stream",
     "text": [
      "Import and Parse weather data\n",
      "\n",
      "Parse Progress: [##################################################] 100%\n",
      "Rows:5,162 Cols:7\n",
      "\n",
      "Chunk compression summary: \n"
     ]
    },
    {
     "data": {
      "text/html": [
       "<div style=\"overflow:auto\"><table style=\"width:50%\"><tr><td><b>chunk_type</b></td>\n",
       "<td><b>chunk_name</b></td>\n",
       "<td><b>count</b></td>\n",
       "<td><b>count_percentage</b></td>\n",
       "<td><b>size</b></td>\n",
       "<td><b>size_percentage</b></td></tr>\n",
       "<tr><td>C0L</td>\n",
       "<td>Constant Integers</td>\n",
       "<td>20</td>\n",
       "<td>8.403361</td>\n",
       "<td>    1.6 KB</td>\n",
       "<td>1.8563854</td></tr>\n",
       "<tr><td>C1</td>\n",
       "<td>1-Byte Integers</td>\n",
       "<td>8</td>\n",
       "<td>3.3613448</td>\n",
       "<td>    1.7 KB</td>\n",
       "<td>2.061748</td></tr>\n",
       "<tr><td>C1N</td>\n",
       "<td>1-Byte Integers (w/o NAs)</td>\n",
       "<td>140</td>\n",
       "<td>58.823532</td>\n",
       "<td>   30.1 KB</td>\n",
       "<td>35.705254</td></tr>\n",
       "<tr><td>C1S</td>\n",
       "<td>1-Byte Fractions</td>\n",
       "<td>36</td>\n",
       "<td>15.126051</td>\n",
       "<td>    8.2 KB</td>\n",
       "<td>9.78083</td></tr>\n",
       "<tr><td>C8</td>\n",
       "<td>64-bit Integers</td>\n",
       "<td>34</td>\n",
       "<td>14.285715</td>\n",
       "<td>   42.6 KB</td>\n",
       "<td>50.595783</td></tr></table></div>"
      ],
      "text/plain": [
       "chunk_type    chunk_name                 count    count_percentage    size     size_percentage\n",
       "------------  -------------------------  -------  ------------------  -------  -----------------\n",
       "C0L           Constant Integers          20       8.40336             1.6 KB   1.85639\n",
       "C1            1-Byte Integers            8        3.36134             1.7 KB   2.06175\n",
       "C1N           1-Byte Integers (w/o NAs)  140      58.8235             30.1 KB  35.7053\n",
       "C1S           1-Byte Fractions           36       15.1261             8.2 KB   9.78083\n",
       "C8            64-bit Integers            34       14.2857             42.6 KB  50.5958"
      ]
     },
     "metadata": {},
     "output_type": "display_data"
    },
    {
     "name": "stdout",
     "output_type": "stream",
     "text": [
      "\n",
      "Frame distribution summary: \n"
     ]
    },
    {
     "data": {
      "text/html": [
       "<div style=\"overflow:auto\"><table style=\"width:50%\"><tr><td><b></b></td>\n",
       "<td><b>size</b></td>\n",
       "<td><b>number_of_rows</b></td>\n",
       "<td><b>number_of_chunks_per_column</b></td>\n",
       "<td><b>number_of_chunks</b></td></tr>\n",
       "<tr><td>192.168.11.33:54321</td>\n",
       "<td>   84.2 KB</td>\n",
       "<td>5162.0</td>\n",
       "<td>34.0</td>\n",
       "<td>238.0</td></tr>\n",
       "<tr><td>mean</td>\n",
       "<td>   84.2 KB</td>\n",
       "<td>5162.0</td>\n",
       "<td>34.0</td>\n",
       "<td>238.0</td></tr>\n",
       "<tr><td>min</td>\n",
       "<td>   84.2 KB</td>\n",
       "<td>5162.0</td>\n",
       "<td>34.0</td>\n",
       "<td>238.0</td></tr>\n",
       "<tr><td>max</td>\n",
       "<td>   84.2 KB</td>\n",
       "<td>5162.0</td>\n",
       "<td>34.0</td>\n",
       "<td>238.0</td></tr>\n",
       "<tr><td>stddev</td>\n",
       "<td>      0  B</td>\n",
       "<td>0.0</td>\n",
       "<td>0.0</td>\n",
       "<td>0.0</td></tr>\n",
       "<tr><td>total</td>\n",
       "<td>   84.2 KB</td>\n",
       "<td>5162.0</td>\n",
       "<td>34.0</td>\n",
       "<td>238.0</td></tr></table></div>"
      ],
      "text/plain": [
       "                     size     number_of_rows    number_of_chunks_per_column    number_of_chunks\n",
       "-------------------  -------  ----------------  -----------------------------  ------------------\n",
       "192.168.11.33:54321  84.2 KB  5162              34                             238\n",
       "mean                 84.2 KB  5162              34                             238\n",
       "min                  84.2 KB  5162              34                             238\n",
       "max                  84.2 KB  5162              34                             238\n",
       "stddev               0  B     0                 0                              0\n",
       "total                84.2 KB  5162              34                             238"
      ]
     },
     "metadata": {},
     "output_type": "display_data"
    },
    {
     "name": "stdout",
     "output_type": "stream",
     "text": [
      "\n",
      "\n"
     ]
    },
    {
     "data": {
      "text/html": [
       "<table>\n",
       "<tr><th>       </th><th>date             </th><th>month        </th><th>day          </th><th>year         </th><th>maxTemp      </th><th>meanTemp     </th><th>minTemp      </th></tr>\n",
       "<tr><td>type   </td><td>time             </td><td>int          </td><td>int          </td><td>int          </td><td>int          </td><td>int          </td><td>int          </td></tr>\n",
       "<tr><td>mins   </td><td>9.78336e+11      </td><td>1.0          </td><td>1.0          </td><td>2001.0       </td><td>-2.0         </td><td>-9.0         </td><td>-18.0        </td></tr>\n",
       "<tr><td>mean   </td><td>1.20128900318e+12</td><td>6.47442851608</td><td>15.7082526153</td><td>2007.57148392</td><td>58.871042921 </td><td>50.3103515246</td><td>41.4812584968</td></tr>\n",
       "<tr><td>maxs   </td><td>1.4242464e+12    </td><td>12.0         </td><td>31.0         </td><td>2015.0       </td><td>103.0        </td><td>93.0         </td><td>82.0         </td></tr>\n",
       "<tr><td>sigma  </td><td>1.28760551411e+11</td><td>3.46905171694</td><td>8.79895173997</td><td>4.0773409057 </td><td>21.4829777237</td><td>19.9302399266</td><td>19.0207297123</td></tr>\n",
       "<tr><td>zeros  </td><td>0                </td><td>0            </td><td>0            </td><td>0            </td><td>0            </td><td>2            </td><td>16           </td></tr>\n",
       "<tr><td>missing</td><td>0                </td><td>0            </td><td>0            </td><td>0            </td><td>13           </td><td>13           </td><td>13           </td></tr>\n",
       "<tr><td>0      </td><td>9.78336e+11      </td><td>1.0          </td><td>1.0          </td><td>2001.0       </td><td>23.0         </td><td>14.0         </td><td>6.0          </td></tr>\n",
       "<tr><td>1      </td><td>9.784224e+11     </td><td>1.0          </td><td>2.0          </td><td>2001.0       </td><td>18.0         </td><td>12.0         </td><td>6.0          </td></tr>\n",
       "<tr><td>2      </td><td>9.785088e+11     </td><td>1.0          </td><td>3.0          </td><td>2001.0       </td><td>28.0         </td><td>18.0         </td><td>8.0          </td></tr>\n",
       "<tr><td>3      </td><td>9.785952e+11     </td><td>1.0          </td><td>4.0          </td><td>2001.0       </td><td>30.0         </td><td>24.0         </td><td>19.0         </td></tr>\n",
       "<tr><td>4      </td><td>9.786816e+11     </td><td>1.0          </td><td>5.0          </td><td>2001.0       </td><td>36.0         </td><td>30.0         </td><td>21.0         </td></tr>\n",
       "<tr><td>5      </td><td>9.78768e+11      </td><td>1.0          </td><td>6.0          </td><td>2001.0       </td><td>33.0         </td><td>26.0         </td><td>19.0         </td></tr>\n",
       "<tr><td>6      </td><td>9.788544e+11     </td><td>1.0          </td><td>7.0          </td><td>2001.0       </td><td>34.0         </td><td>28.0         </td><td>21.0         </td></tr>\n",
       "<tr><td>7      </td><td>9.789408e+11     </td><td>1.0          </td><td>8.0          </td><td>2001.0       </td><td>26.0         </td><td>20.0         </td><td>14.0         </td></tr>\n",
       "<tr><td>8      </td><td>9.790272e+11     </td><td>1.0          </td><td>9.0          </td><td>2001.0       </td><td>23.0         </td><td>16.0         </td><td>10.0         </td></tr>\n",
       "<tr><td>9      </td><td>9.791136e+11     </td><td>1.0          </td><td>10.0         </td><td>2001.0       </td><td>34.0         </td><td>26.0         </td><td>19.0         </td></tr>\n",
       "</table>"
      ]
     },
     "metadata": {},
     "output_type": "display_data"
    },
    {
     "name": "stdout",
     "output_type": "stream",
     "text": [
      "Import and Parse census data\n",
      "\n",
      "Parse Progress: [##################################################] 100%\n",
      "Rows:78 Cols:9\n",
      "\n",
      "Chunk compression summary: \n"
     ]
    },
    {
     "data": {
      "text/html": [
       "<div style=\"overflow:auto\"><table style=\"width:50%\"><tr><td><b>chunk_type</b></td>\n",
       "<td><b>chunk_name</b></td>\n",
       "<td><b>count</b></td>\n",
       "<td><b>count_percentage</b></td>\n",
       "<td><b>size</b></td>\n",
       "<td><b>size_percentage</b></td></tr>\n",
       "<tr><td>C1</td>\n",
       "<td>1-Byte Integers</td>\n",
       "<td>2</td>\n",
       "<td>22.222223</td>\n",
       "<td>    292  B</td>\n",
       "<td>15.051547</td></tr>\n",
       "<tr><td>C1N</td>\n",
       "<td>1-Byte Integers (w/o NAs)</td>\n",
       "<td>1</td>\n",
       "<td>11.111112</td>\n",
       "<td>    146  B</td>\n",
       "<td>7.5257735</td></tr>\n",
       "<tr><td>C1S</td>\n",
       "<td>1-Byte Fractions</td>\n",
       "<td>1</td>\n",
       "<td>11.111112</td>\n",
       "<td>    162  B</td>\n",
       "<td>8.350515</td></tr>\n",
       "<tr><td>C2S</td>\n",
       "<td>2-Byte Fractions</td>\n",
       "<td>4</td>\n",
       "<td>44.444447</td>\n",
       "<td>    960  B</td>\n",
       "<td>49.484535</td></tr>\n",
       "<tr><td>C4</td>\n",
       "<td>4-Byte Integers</td>\n",
       "<td>1</td>\n",
       "<td>11.111112</td>\n",
       "<td>    380  B</td>\n",
       "<td>19.58763</td></tr></table></div>"
      ],
      "text/plain": [
       "chunk_type    chunk_name                 count    count_percentage    size    size_percentage\n",
       "------------  -------------------------  -------  ------------------  ------  -----------------\n",
       "C1            1-Byte Integers            2        22.2222             292  B  15.0515\n",
       "C1N           1-Byte Integers (w/o NAs)  1        11.1111             146  B  7.52577\n",
       "C1S           1-Byte Fractions           1        11.1111             162  B  8.35051\n",
       "C2S           2-Byte Fractions           4        44.4444             960  B  49.4845\n",
       "C4            4-Byte Integers            1        11.1111             380  B  19.5876"
      ]
     },
     "metadata": {},
     "output_type": "display_data"
    },
    {
     "name": "stdout",
     "output_type": "stream",
     "text": [
      "\n",
      "Frame distribution summary: \n"
     ]
    },
    {
     "data": {
      "text/html": [
       "<div style=\"overflow:auto\"><table style=\"width:50%\"><tr><td><b></b></td>\n",
       "<td><b>size</b></td>\n",
       "<td><b>number_of_rows</b></td>\n",
       "<td><b>number_of_chunks_per_column</b></td>\n",
       "<td><b>number_of_chunks</b></td></tr>\n",
       "<tr><td>192.168.11.33:54321</td>\n",
       "<td>    1.9 KB</td>\n",
       "<td>78.0</td>\n",
       "<td>1.0</td>\n",
       "<td>9.0</td></tr>\n",
       "<tr><td>mean</td>\n",
       "<td>    1.9 KB</td>\n",
       "<td>78.0</td>\n",
       "<td>1.0</td>\n",
       "<td>9.0</td></tr>\n",
       "<tr><td>min</td>\n",
       "<td>    1.9 KB</td>\n",
       "<td>78.0</td>\n",
       "<td>1.0</td>\n",
       "<td>9.0</td></tr>\n",
       "<tr><td>max</td>\n",
       "<td>    1.9 KB</td>\n",
       "<td>78.0</td>\n",
       "<td>1.0</td>\n",
       "<td>9.0</td></tr>\n",
       "<tr><td>stddev</td>\n",
       "<td>      0  B</td>\n",
       "<td>0.0</td>\n",
       "<td>0.0</td>\n",
       "<td>0.0</td></tr>\n",
       "<tr><td>total</td>\n",
       "<td>    1.9 KB</td>\n",
       "<td>78.0</td>\n",
       "<td>1.0</td>\n",
       "<td>9.0</td></tr></table></div>"
      ],
      "text/plain": [
       "                     size    number_of_rows    number_of_chunks_per_column    number_of_chunks\n",
       "-------------------  ------  ----------------  -----------------------------  ------------------\n",
       "192.168.11.33:54321  1.9 KB  78                1                              9\n",
       "mean                 1.9 KB  78                1                              9\n",
       "min                  1.9 KB  78                1                              9\n",
       "max                  1.9 KB  78                1                              9\n",
       "stddev               0  B    0                 0                              0\n",
       "total                1.9 KB  78                1                              9"
      ]
     },
     "metadata": {},
     "output_type": "display_data"
    },
    {
     "name": "stdout",
     "output_type": "stream",
     "text": [
      "\n",
      "\n"
     ]
    },
    {
     "data": {
      "text/html": [
       "<table>\n",
       "<tr><th>       </th><th>Community Area Number  </th><th>COMMUNITY AREA NAME  </th><th>PERCENT OF HOUSING CROWDED  </th><th>PERCENT HOUSEHOLDS BELOW POVERTY  </th><th>PERCENT AGED 16+ UNEMPLOYED  </th><th>PERCENT AGED 25+ WITHOUT HIGH SCHOOL DIPLOMA  </th><th>PERCENT AGED UNDER 18 OR OVER 64  </th><th>PER CAPITA INCOME   </th><th>HARDSHIP INDEX  </th></tr>\n",
       "<tr><td>type   </td><td>int                    </td><td>enum                 </td><td>real                        </td><td>real                              </td><td>real                         </td><td>real                                          </td><td>real                              </td><td>int                 </td><td>int             </td></tr>\n",
       "<tr><td>mins   </td><td>1.0                    </td><td>0.0                  </td><td>0.3                         </td><td>3.3                               </td><td>4.7                          </td><td>2.5                                           </td><td>13.5                              </td><td>8201.0              </td><td>1.0             </td></tr>\n",
       "<tr><td>mean   </td><td>39.0                   </td><td>NaN                  </td><td>4.92051282051               </td><td>21.7397435897                     </td><td>15.341025641                 </td><td>20.3307692308                                 </td><td>35.7179487179                     </td><td>25597.0             </td><td>49.5064935065   </td></tr>\n",
       "<tr><td>maxs   </td><td>77.0                   </td><td>77.0                 </td><td>15.8                        </td><td>56.5                              </td><td>35.9                         </td><td>54.8                                          </td><td>51.5                              </td><td>88669.0             </td><td>98.0            </td></tr>\n",
       "<tr><td>sigma  </td><td>22.3718573212          </td><td>NaN                  </td><td>3.65898144135               </td><td>11.457230913                      </td><td>7.49949670861                </td><td>11.7465143511                                 </td><td>7.28442108494                     </td><td>15196.4055413       </td><td>28.6905556516   </td></tr>\n",
       "<tr><td>zeros  </td><td>0                      </td><td>1                    </td><td>0                           </td><td>0                                 </td><td>0                            </td><td>0                                             </td><td>0                                 </td><td>0                   </td><td>0               </td></tr>\n",
       "<tr><td>missing</td><td>1                      </td><td>0                    </td><td>0                           </td><td>0                                 </td><td>0                            </td><td>0                                             </td><td>0                                 </td><td>0                   </td><td>1               </td></tr>\n",
       "<tr><td>0      </td><td>1.0                    </td><td>Rogers Park          </td><td>7.7                         </td><td>23.6                              </td><td>8.7                          </td><td>18.2                                          </td><td>27.5                              </td><td>23939.0             </td><td>39.0            </td></tr>\n",
       "<tr><td>1      </td><td>2.0                    </td><td>West Ridge           </td><td>7.8                         </td><td>17.2                              </td><td>8.8                          </td><td>20.8                                          </td><td>38.5                              </td><td>23040.0             </td><td>46.0            </td></tr>\n",
       "<tr><td>2      </td><td>3.0                    </td><td>Uptown               </td><td>3.8                         </td><td>24.0                              </td><td>8.9                          </td><td>11.8                                          </td><td>22.2                              </td><td>35787.0             </td><td>20.0            </td></tr>\n",
       "<tr><td>3      </td><td>4.0                    </td><td>Lincoln Square       </td><td>3.4                         </td><td>10.9                              </td><td>8.2                          </td><td>13.4                                          </td><td>25.5                              </td><td>37524.0             </td><td>17.0            </td></tr>\n",
       "<tr><td>4      </td><td>5.0                    </td><td>North Center         </td><td>0.3                         </td><td>7.5                               </td><td>5.2                          </td><td>4.5                                           </td><td>26.2                              </td><td>57123.0             </td><td>6.0             </td></tr>\n",
       "<tr><td>5      </td><td>6.0                    </td><td>Lake View            </td><td>1.1                         </td><td>11.4                              </td><td>4.7                          </td><td>2.6                                           </td><td>17.0                              </td><td>60058.0             </td><td>5.0             </td></tr>\n",
       "<tr><td>6      </td><td>7.0                    </td><td>Lincoln Park         </td><td>0.8                         </td><td>12.3                              </td><td>5.1                          </td><td>3.6                                           </td><td>21.5                              </td><td>71551.0             </td><td>2.0             </td></tr>\n",
       "<tr><td>7      </td><td>8.0                    </td><td>Near North Side      </td><td>1.9                         </td><td>12.9                              </td><td>7.0                          </td><td>2.5                                           </td><td>22.6                              </td><td>88669.0             </td><td>1.0             </td></tr>\n",
       "<tr><td>8      </td><td>9.0                    </td><td>Edison Park          </td><td>1.1                         </td><td>3.3                               </td><td>6.5                          </td><td>7.4                                           </td><td>35.3                              </td><td>40959.0             </td><td>8.0             </td></tr>\n",
       "<tr><td>9      </td><td>10.0                   </td><td>Norwood Park         </td><td>2.0                         </td><td>5.4                               </td><td>9.0                          </td><td>11.5                                          </td><td>39.5                              </td><td>32875.0             </td><td>21.0            </td></tr>\n",
       "</table>"
      ]
     },
     "metadata": {},
     "output_type": "display_data"
    },
    {
     "name": "stdout",
     "output_type": "stream",
     "text": [
      "Import and Parse crimes data\n",
      "\n",
      "Parse Progress: [##################################################] 100%\n",
      "Rows:9,999 Cols:22\n",
      "\n",
      "Chunk compression summary: \n"
     ]
    },
    {
     "data": {
      "text/html": [
       "<div style=\"overflow:auto\"><table style=\"width:50%\"><tr><td><b>chunk_type</b></td>\n",
       "<td><b>chunk_name</b></td>\n",
       "<td><b>count</b></td>\n",
       "<td><b>count_percentage</b></td>\n",
       "<td><b>size</b></td>\n",
       "<td><b>size_percentage</b></td></tr>\n",
       "<tr><td>C0L</td>\n",
       "<td>Constant Integers</td>\n",
       "<td>1</td>\n",
       "<td>4.5454545</td>\n",
       "<td>     80  B</td>\n",
       "<td>0.0110506</td></tr>\n",
       "<tr><td>CBS</td>\n",
       "<td>Bits</td>\n",
       "<td>2</td>\n",
       "<td>9.090909</td>\n",
       "<td>    2.6 KB</td>\n",
       "<td>0.3646686</td></tr>\n",
       "<tr><td>C1</td>\n",
       "<td>1-Byte Integers</td>\n",
       "<td>3</td>\n",
       "<td>13.636364</td>\n",
       "<td>   29.5 KB</td>\n",
       "<td>4.1717257</td></tr>\n",
       "<tr><td>C1N</td>\n",
       "<td>1-Byte Integers (w/o NAs)</td>\n",
       "<td>4</td>\n",
       "<td>18.181818</td>\n",
       "<td>   39.3 KB</td>\n",
       "<td>5.562301</td></tr>\n",
       "<tr><td>C2</td>\n",
       "<td>2-Byte Integers</td>\n",
       "<td>4</td>\n",
       "<td>18.181818</td>\n",
       "<td>   78.4 KB</td>\n",
       "<td>11.08703</td></tr>\n",
       "<tr><td>C4</td>\n",
       "<td>4-Byte Integers</td>\n",
       "<td>3</td>\n",
       "<td>13.636364</td>\n",
       "<td>  117.4 KB</td>\n",
       "<td>16.602365</td></tr>\n",
       "<tr><td>C8</td>\n",
       "<td>64-bit Integers</td>\n",
       "<td>2</td>\n",
       "<td>9.090909</td>\n",
       "<td>  156.4 KB</td>\n",
       "<td>22.117702</td></tr>\n",
       "<tr><td>CStr</td>\n",
       "<td>String</td>\n",
       "<td>1</td>\n",
       "<td>4.5454545</td>\n",
       "<td>  127.0 KB</td>\n",
       "<td>17.965454</td></tr>\n",
       "<tr><td>C8D</td>\n",
       "<td>64-bit Reals</td>\n",
       "<td>2</td>\n",
       "<td>9.090909</td>\n",
       "<td>  156.4 KB</td>\n",
       "<td>22.117702</td></tr></table></div>"
      ],
      "text/plain": [
       "chunk_type    chunk_name                 count    count_percentage    size      size_percentage\n",
       "------------  -------------------------  -------  ------------------  --------  -----------------\n",
       "C0L           Constant Integers          1        4.54545             80  B     0.0110506\n",
       "CBS           Bits                       2        9.09091             2.6 KB    0.364669\n",
       "C1            1-Byte Integers            3        13.6364             29.5 KB   4.17173\n",
       "C1N           1-Byte Integers (w/o NAs)  4        18.1818             39.3 KB   5.5623\n",
       "C2            2-Byte Integers            4        18.1818             78.4 KB   11.087\n",
       "C4            4-Byte Integers            3        13.6364             117.4 KB  16.6024\n",
       "C8            64-bit Integers            2        9.09091             156.4 KB  22.1177\n",
       "CStr          String                     1        4.54545             127.0 KB  17.9655\n",
       "C8D           64-bit Reals               2        9.09091             156.4 KB  22.1177"
      ]
     },
     "metadata": {},
     "output_type": "display_data"
    },
    {
     "name": "stdout",
     "output_type": "stream",
     "text": [
      "\n",
      "Frame distribution summary: \n"
     ]
    },
    {
     "data": {
      "text/html": [
       "<div style=\"overflow:auto\"><table style=\"width:50%\"><tr><td><b></b></td>\n",
       "<td><b>size</b></td>\n",
       "<td><b>number_of_rows</b></td>\n",
       "<td><b>number_of_chunks_per_column</b></td>\n",
       "<td><b>number_of_chunks</b></td></tr>\n",
       "<tr><td>192.168.11.33:54321</td>\n",
       "<td>  707.0 KB</td>\n",
       "<td>9999.0</td>\n",
       "<td>1.0</td>\n",
       "<td>22.0</td></tr>\n",
       "<tr><td>mean</td>\n",
       "<td>  707.0 KB</td>\n",
       "<td>9999.0</td>\n",
       "<td>1.0</td>\n",
       "<td>22.0</td></tr>\n",
       "<tr><td>min</td>\n",
       "<td>  707.0 KB</td>\n",
       "<td>9999.0</td>\n",
       "<td>1.0</td>\n",
       "<td>22.0</td></tr>\n",
       "<tr><td>max</td>\n",
       "<td>  707.0 KB</td>\n",
       "<td>9999.0</td>\n",
       "<td>1.0</td>\n",
       "<td>22.0</td></tr>\n",
       "<tr><td>stddev</td>\n",
       "<td>      0  B</td>\n",
       "<td>0.0</td>\n",
       "<td>0.0</td>\n",
       "<td>0.0</td></tr>\n",
       "<tr><td>total</td>\n",
       "<td>  707.0 KB</td>\n",
       "<td>9999.0</td>\n",
       "<td>1.0</td>\n",
       "<td>22.0</td></tr></table></div>"
      ],
      "text/plain": [
       "                     size      number_of_rows    number_of_chunks_per_column    number_of_chunks\n",
       "-------------------  --------  ----------------  -----------------------------  ------------------\n",
       "192.168.11.33:54321  707.0 KB  9999              1                              22\n",
       "mean                 707.0 KB  9999              1                              22\n",
       "min                  707.0 KB  9999              1                              22\n",
       "max                  707.0 KB  9999              1                              22\n",
       "stddev               0  B      0                 0                              0\n",
       "total                707.0 KB  9999              1                              22"
      ]
     },
     "metadata": {},
     "output_type": "display_data"
    },
    {
     "name": "stdout",
     "output_type": "stream",
     "text": [
      "\n",
      "\n"
     ]
    },
    {
     "data": {
      "text/html": [
       "<table>\n",
       "<tr><th>       </th><th>ID           </th><th>Case Number  </th><th>Date             </th><th>Block               </th><th>IUCR         </th><th>Primary Type   </th><th>Description                 </th><th>Location Description  </th><th>Arrest        </th><th>Domestic      </th><th>Beat         </th><th>District     </th><th>Ward         </th><th>Community Area  </th><th>FBI Code     </th><th>X Coordinate  </th><th>Y Coordinate  </th><th>Year  </th><th>Updated On       </th><th>Latitude       </th><th>Longitude      </th><th>Location                     </th></tr>\n",
       "<tr><td>type   </td><td>int          </td><td>string       </td><td>time             </td><td>enum                </td><td>int          </td><td>enum           </td><td>enum                        </td><td>enum                  </td><td>enum          </td><td>enum          </td><td>int          </td><td>int          </td><td>int          </td><td>int             </td><td>int          </td><td>int           </td><td>int           </td><td>int   </td><td>time             </td><td>real           </td><td>real           </td><td>enum                         </td></tr>\n",
       "<tr><td>mins   </td><td>21735.0      </td><td>NaN          </td><td>1.422000012e+12  </td><td>0.0                 </td><td>110.0        </td><td>0.0            </td><td>0.0                         </td><td>0.0                   </td><td>0.0           </td><td>0.0           </td><td>111.0        </td><td>1.0          </td><td>1.0          </td><td>1.0             </td><td>2.0          </td><td>1100317.0     </td><td>1814255.0     </td><td>2015.0</td><td>1.422607865e+12  </td><td>41.64507243    </td><td>-87.906463888  </td><td>0.0                          </td></tr>\n",
       "<tr><td>mean   </td><td>9931318.73737</td><td>NaN          </td><td>1.42271371634e+12</td><td>NaN                 </td><td>1189.67651357</td><td>NaN            </td><td>NaN                         </td><td>NaN                   </td><td>0.292829282928</td><td>0.152315231523</td><td>1159.61806181</td><td>11.3489885128</td><td>22.9540954095</td><td>37.4476447645   </td><td>12.7401236227</td><td>1163880.59815 </td><td>1885916.14984 </td><td>2015.0</td><td>1.42328975905e+12</td><td>41.8425652247  </td><td>-87.6741405221 </td><td>NaN                          </td></tr>\n",
       "<tr><td>maxs   </td><td>9962898.0    </td><td>NaN          </td><td>1.42346782e+12   </td><td>6517.0              </td><td>5131.0       </td><td>26.0           </td><td>198.0                       </td><td>90.0                  </td><td>1.0           </td><td>1.0           </td><td>2535.0       </td><td>25.0         </td><td>50.0         </td><td>77.0            </td><td>26.0         </td><td>1205069.0     </td><td>1951533.0     </td><td>2015.0</td><td>1.423989819e+12  </td><td>42.022646183   </td><td>-87.524773286  </td><td>8603.0                       </td></tr>\n",
       "<tr><td>sigma  </td><td>396787.564221</td><td>NaN          </td><td>434210690.185    </td><td>NaN                 </td><td>927.751435583</td><td>NaN            </td><td>NaN                         </td><td>NaN                   </td><td>0.455083515588</td><td>0.35934414686 </td><td>695.76029875 </td><td>6.94547493301</td><td>13.6495661144</td><td>21.2748762223   </td><td>7.57423857911</td><td>16496.4493681 </td><td>31274.0163199 </td><td>0.0   </td><td>435853634.474    </td><td>0.0860186579358</td><td>0.0600357970653</td><td>NaN                          </td></tr>\n",
       "<tr><td>zeros  </td><td>0            </td><td>0            </td><td>0                </td><td>3                   </td><td>0            </td><td>11             </td><td>933                         </td><td>19                    </td><td>7071          </td><td>8476          </td><td>0            </td><td>0            </td><td>0            </td><td>0               </td><td>0            </td><td>0             </td><td>0             </td><td>0     </td><td>0                </td><td>0              </td><td>0              </td><td>1                            </td></tr>\n",
       "<tr><td>missing</td><td>0            </td><td>0            </td><td>0                </td><td>0                   </td><td>419          </td><td>0              </td><td>0                           </td><td>6                     </td><td>0             </td><td>0             </td><td>0            </td><td>162          </td><td>0            </td><td>0               </td><td>2557         </td><td>162           </td><td>162           </td><td>0     </td><td>0                </td><td>162            </td><td>162            </td><td>162                          </td></tr>\n",
       "<tr><td>0      </td><td>9955810.0    </td><td>HY144797     </td><td>1.42346782e+12   </td><td>081XX S COLES AVE   </td><td>1811.0       </td><td>NARCOTICS      </td><td>POSS: CANNABIS 30GMS OR LESS</td><td>STREET                </td><td>true          </td><td>false         </td><td>422.0        </td><td>4.0          </td><td>7.0          </td><td>46.0            </td><td>18.0         </td><td>1198273.0     </td><td>1851626.0     </td><td>2015.0</td><td>1.423989819e+12  </td><td>41.747693646   </td><td>-87.549035389  </td><td>(41.747693646, -87.549035389)</td></tr>\n",
       "<tr><td>1      </td><td>9955861.0    </td><td>HY144838     </td><td>1.423467702e+12  </td><td>118XX S STATE ST    </td><td>486.0        </td><td>BATTERY        </td><td>DOMESTIC BATTERY SIMPLE     </td><td>APARTMENT             </td><td>true          </td><td>true          </td><td>522.0        </td><td>5.0          </td><td>34.0         </td><td>53.0            </td><td>nan          </td><td>1178335.0     </td><td>1826581.0     </td><td>2015.0</td><td>1.423989819e+12  </td><td>41.679442289   </td><td>-87.622850758  </td><td>(41.679442289, -87.622850758)</td></tr>\n",
       "<tr><td>2      </td><td>9955801.0    </td><td>HY144779     </td><td>1.423467022e+12  </td><td>002XX S LARAMIE AVE </td><td>2026.0       </td><td>NARCOTICS      </td><td>POSS: PCP                   </td><td>SIDEWALK              </td><td>true          </td><td>false         </td><td>1522.0       </td><td>15.0         </td><td>29.0         </td><td>25.0            </td><td>18.0         </td><td>1141717.0     </td><td>1898581.0     </td><td>2015.0</td><td>1.423989819e+12  </td><td>41.87777333    </td><td>-87.755117993  </td><td>(41.87777333, -87.755117993) </td></tr>\n",
       "<tr><td>3      </td><td>9956197.0    </td><td>HY144787     </td><td>1.423467023e+12  </td><td>006XX E 67TH ST     </td><td>1811.0       </td><td>NARCOTICS      </td><td>POSS: CANNABIS 30GMS OR LESS</td><td>STREET                </td><td>true          </td><td>false         </td><td>321.0        </td><td>nan          </td><td>6.0          </td><td>42.0            </td><td>18.0         </td><td>nan           </td><td>nan           </td><td>2015.0</td><td>1.423989819e+12  </td><td>nan            </td><td>nan            </td><td>                             </td></tr>\n",
       "<tr><td>4      </td><td>9955846.0    </td><td>HY144829     </td><td>1.423467058e+12  </td><td>0000X S MAYFIELD AVE</td><td>610.0        </td><td>BURGLARY       </td><td>FORCIBLE ENTRY              </td><td>APARTMENT             </td><td>false         </td><td>false         </td><td>1513.0       </td><td>15.0         </td><td>29.0         </td><td>25.0            </td><td>5.0          </td><td>1137239.0     </td><td>1899372.0     </td><td>2015.0</td><td>1.423989819e+12  </td><td>41.880025548   </td><td>-87.771541324  </td><td>(41.880025548, -87.771541324)</td></tr>\n",
       "<tr><td>5      </td><td>9955835.0    </td><td>HY144778     </td><td>1.423467021e+12  </td><td>010XX W 48TH ST     </td><td>486.0        </td><td>BATTERY        </td><td>DOMESTIC BATTERY SIMPLE     </td><td>APARTMENT             </td><td>false         </td><td>true          </td><td>933.0        </td><td>9.0          </td><td>3.0          </td><td>61.0            </td><td>nan          </td><td>1169986.0     </td><td>1873019.0     </td><td>2015.0</td><td>1.423989819e+12  </td><td>41.807059405   </td><td>-87.65206589   </td><td>(41.807059405, -87.65206589) </td></tr>\n",
       "<tr><td>6      </td><td>9955872.0    </td><td>HY144822     </td><td>1.423466844e+12  </td><td>015XX W ARTHUR AVE  </td><td>1320.0       </td><td>CRIMINAL DAMAGE</td><td>TO VEHICLE                  </td><td>STREET                </td><td>false         </td><td>false         </td><td>2432.0       </td><td>24.0         </td><td>40.0         </td><td>1.0             </td><td>14.0         </td><td>1164732.0     </td><td>1943222.0     </td><td>2015.0</td><td>1.423989819e+12  </td><td>41.999814056   </td><td>-87.669342967  </td><td>(41.999814056, -87.669342967)</td></tr>\n",
       "<tr><td>7      </td><td>21752.0      </td><td>HY144738     </td><td>1.423466772e+12  </td><td>060XX W GRAND AVE   </td><td>110.0        </td><td>HOMICIDE       </td><td>FIRST DEGREE MURDER         </td><td>STREET                </td><td>true          </td><td>false         </td><td>2512.0       </td><td>25.0         </td><td>37.0         </td><td>19.0            </td><td>nan          </td><td>1135910.0     </td><td>1914206.0     </td><td>2015.0</td><td>1.423989819e+12  </td><td>41.920755683   </td><td>-87.776067514  </td><td>(41.920755683, -87.776067514)</td></tr>\n",
       "<tr><td>8      </td><td>9955808.0    </td><td>HY144775     </td><td>1.423466433e+12  </td><td>001XX W WACKER DR   </td><td>460.0        </td><td>BATTERY        </td><td>SIMPLE                      </td><td>OTHER                 </td><td>false         </td><td>false         </td><td>122.0        </td><td>1.0          </td><td>42.0         </td><td>32.0            </td><td>nan          </td><td>1175384.0     </td><td>1902088.0     </td><td>2015.0</td><td>1.423989819e+12  </td><td>41.886707818   </td><td>-87.631396356  </td><td>(41.886707818, -87.631396356)</td></tr>\n",
       "<tr><td>9      </td><td>9958275.0    </td><td>HY146732     </td><td>1.423466136e+12  </td><td>001XX W WACKER DR   </td><td>460.0        </td><td>BATTERY        </td><td>SIMPLE                      </td><td>HOTEL/MOTEL           </td><td>false         </td><td>false         </td><td>122.0        </td><td>1.0          </td><td>42.0         </td><td>32.0            </td><td>nan          </td><td>1175384.0     </td><td>1902088.0     </td><td>2015.0</td><td>1.423989819e+12  </td><td>41.886707818   </td><td>-87.631396356  </td><td>(41.886707818, -87.631396356)</td></tr>\n",
       "</table>"
      ]
     },
     "metadata": {},
     "output_type": "display_data"
    }
   ],
   "source": [
    "from h2o.utils.shared_utils import _locate # private function. used to find files within h2o git project directory.\n",
    "weather_path = _locate(\"smalldata/chicago/chicagoAllWeather.csv\")\n",
    "census_path = _locate(\"smalldata/chicago/chicagoCensus.csv\")\n",
    "crimes_path = _locate(\"smalldata/chicago/chicagoCrimes10k.csv.zip\")\n",
    "\n",
    "print(\"Import and Parse weather data\")\n",
    "weather = h2o.import_file(path=weather_path, col_types = [\"time\"] + [\"numeric\"]*6)\n",
    "weather.drop(\"date\")\n",
    "weather.describe()\n",
    "\n",
    "print(\"Import and Parse census data\")\n",
    "census = h2o.import_file(path=census_path, col_types = [\"numeric\", \"enum\"] + [\"numeric\"]*7)\n",
    "census.describe()\n",
    "\n",
    "print(\"Import and Parse crimes data\")\n",
    "crimes = h2o.import_file(path=crimes_path)\n",
    "crimes.describe()"
   ]
  },
  {
   "cell_type": "code",
   "execution_count": 13,
   "metadata": {
    "collapsed": false
   },
   "outputs": [
    {
     "name": "stdout",
     "output_type": "stream",
     "text": [
      "Rows:9,999 Cols:27\n",
      "\n",
      "Chunk compression summary: \n"
     ]
    },
    {
     "data": {
      "text/html": [
       "<div style=\"overflow:auto\"><table style=\"width:50%\"><tr><td><b>chunk_type</b></td>\n",
       "<td><b>chunk_name</b></td>\n",
       "<td><b>count</b></td>\n",
       "<td><b>count_percentage</b></td>\n",
       "<td><b>size</b></td>\n",
       "<td><b>size_percentage</b></td></tr>\n",
       "<tr><td>C0L</td>\n",
       "<td>Constant Integers</td>\n",
       "<td>1</td>\n",
       "<td>3.7037036</td>\n",
       "<td>     80  B</td>\n",
       "<td>0.0103322</td></tr>\n",
       "<tr><td>CBS</td>\n",
       "<td>Bits</td>\n",
       "<td>2</td>\n",
       "<td>7.4074073</td>\n",
       "<td>    2.6 KB</td>\n",
       "<td>0.3409619</td></tr>\n",
       "<tr><td>C1</td>\n",
       "<td>1-Byte Integers</td>\n",
       "<td>3</td>\n",
       "<td>11.111112</td>\n",
       "<td>   29.5 KB</td>\n",
       "<td>3.9005268</td></tr>\n",
       "<tr><td>C1N</td>\n",
       "<td>1-Byte Integers (w/o NAs)</td>\n",
       "<td>9</td>\n",
       "<td>33.333336</td>\n",
       "<td>   88.5 KB</td>\n",
       "<td>11.701581</td></tr>\n",
       "<tr><td>C2</td>\n",
       "<td>2-Byte Integers</td>\n",
       "<td>4</td>\n",
       "<td>14.814815</td>\n",
       "<td>   78.4 KB</td>\n",
       "<td>10.366276</td></tr>\n",
       "<tr><td>C4</td>\n",
       "<td>4-Byte Integers</td>\n",
       "<td>3</td>\n",
       "<td>11.111112</td>\n",
       "<td>  117.4 KB</td>\n",
       "<td>15.523067</td></tr>\n",
       "<tr><td>C8</td>\n",
       "<td>64-bit Integers</td>\n",
       "<td>2</td>\n",
       "<td>7.4074073</td>\n",
       "<td>  156.4 KB</td>\n",
       "<td>20.679857</td></tr>\n",
       "<tr><td>CStr</td>\n",
       "<td>String</td>\n",
       "<td>1</td>\n",
       "<td>3.7037036</td>\n",
       "<td>  127.0 KB</td>\n",
       "<td>16.79754</td></tr>\n",
       "<tr><td>C8D</td>\n",
       "<td>64-bit Reals</td>\n",
       "<td>2</td>\n",
       "<td>7.4074073</td>\n",
       "<td>  156.4 KB</td>\n",
       "<td>20.679857</td></tr></table></div>"
      ],
      "text/plain": [
       "chunk_type    chunk_name                 count    count_percentage    size      size_percentage\n",
       "------------  -------------------------  -------  ------------------  --------  -----------------\n",
       "C0L           Constant Integers          1        3.7037              80  B     0.0103322\n",
       "CBS           Bits                       2        7.40741             2.6 KB    0.340962\n",
       "C1            1-Byte Integers            3        11.1111             29.5 KB   3.90053\n",
       "C1N           1-Byte Integers (w/o NAs)  9        33.3333             88.5 KB   11.7016\n",
       "C2            2-Byte Integers            4        14.8148             78.4 KB   10.3663\n",
       "C4            4-Byte Integers            3        11.1111             117.4 KB  15.5231\n",
       "C8            64-bit Integers            2        7.40741             156.4 KB  20.6799\n",
       "CStr          String                     1        3.7037              127.0 KB  16.7975\n",
       "C8D           64-bit Reals               2        7.40741             156.4 KB  20.6799"
      ]
     },
     "metadata": {},
     "output_type": "display_data"
    },
    {
     "name": "stdout",
     "output_type": "stream",
     "text": [
      "\n",
      "Frame distribution summary: \n"
     ]
    },
    {
     "data": {
      "text/html": [
       "<div style=\"overflow:auto\"><table style=\"width:50%\"><tr><td><b></b></td>\n",
       "<td><b>size</b></td>\n",
       "<td><b>number_of_rows</b></td>\n",
       "<td><b>number_of_chunks_per_column</b></td>\n",
       "<td><b>number_of_chunks</b></td></tr>\n",
       "<tr><td>192.168.11.33:54321</td>\n",
       "<td>  756.1 KB</td>\n",
       "<td>9999.0</td>\n",
       "<td>1.0</td>\n",
       "<td>27.0</td></tr>\n",
       "<tr><td>mean</td>\n",
       "<td>  756.1 KB</td>\n",
       "<td>9999.0</td>\n",
       "<td>1.0</td>\n",
       "<td>27.0</td></tr>\n",
       "<tr><td>min</td>\n",
       "<td>  756.1 KB</td>\n",
       "<td>9999.0</td>\n",
       "<td>1.0</td>\n",
       "<td>27.0</td></tr>\n",
       "<tr><td>max</td>\n",
       "<td>  756.1 KB</td>\n",
       "<td>9999.0</td>\n",
       "<td>1.0</td>\n",
       "<td>27.0</td></tr>\n",
       "<tr><td>stddev</td>\n",
       "<td>      0  B</td>\n",
       "<td>0.0</td>\n",
       "<td>0.0</td>\n",
       "<td>0.0</td></tr>\n",
       "<tr><td>total</td>\n",
       "<td>  756.1 KB</td>\n",
       "<td>9999.0</td>\n",
       "<td>1.0</td>\n",
       "<td>27.0</td></tr></table></div>"
      ],
      "text/plain": [
       "                     size      number_of_rows    number_of_chunks_per_column    number_of_chunks\n",
       "-------------------  --------  ----------------  -----------------------------  ------------------\n",
       "192.168.11.33:54321  756.1 KB  9999              1                              27\n",
       "mean                 756.1 KB  9999              1                              27\n",
       "min                  756.1 KB  9999              1                              27\n",
       "max                  756.1 KB  9999              1                              27\n",
       "stddev               0  B      0                 0                              0\n",
       "total                756.1 KB  9999              1                              27"
      ]
     },
     "metadata": {},
     "output_type": "display_data"
    },
    {
     "name": "stdout",
     "output_type": "stream",
     "text": [
      "\n",
      "\n"
     ]
    },
    {
     "data": {
      "text/html": [
       "<table>\n",
       "<tr><th>       </th><th>ID           </th><th>Case Number  </th><th>Date             </th><th>Block               </th><th>IUCR         </th><th>Primary Type   </th><th>Description                 </th><th>Location Description  </th><th>Arrest        </th><th>Domestic      </th><th>Beat         </th><th>District     </th><th>Ward         </th><th>Community Area  </th><th>FBI Code     </th><th>X Coordinate  </th><th>Y Coordinate  </th><th>Year  </th><th>Updated On       </th><th>Latitude       </th><th>Longitude      </th><th>Location                     </th><th>Day          </th><th>Month         </th><th>WeekNum       </th><th>WeekDay  </th><th>HourOfDay    </th></tr>\n",
       "<tr><td>type   </td><td>int          </td><td>string       </td><td>time             </td><td>enum                </td><td>int          </td><td>enum           </td><td>enum                        </td><td>enum                  </td><td>enum          </td><td>enum          </td><td>int          </td><td>int          </td><td>int          </td><td>int             </td><td>int          </td><td>int           </td><td>int           </td><td>int   </td><td>time             </td><td>real           </td><td>real           </td><td>enum                         </td><td>int          </td><td>int           </td><td>int           </td><td>enum     </td><td>int          </td></tr>\n",
       "<tr><td>mins   </td><td>21735.0      </td><td>NaN          </td><td>1.422000012e+12  </td><td>0.0                 </td><td>110.0        </td><td>0.0            </td><td>0.0                         </td><td>0.0                   </td><td>0.0           </td><td>0.0           </td><td>111.0        </td><td>1.0          </td><td>1.0          </td><td>1.0             </td><td>2.0          </td><td>1100317.0     </td><td>1814255.0     </td><td>3915.0</td><td>1.422607865e+12  </td><td>41.64507243    </td><td>-87.906463888  </td><td>0.0                          </td><td>1.0          </td><td>2.0           </td><td>4.0           </td><td>0.0      </td><td>0.0          </td></tr>\n",
       "<tr><td>mean   </td><td>9931318.73737</td><td>NaN          </td><td>1.42271371634e+12</td><td>NaN                 </td><td>1189.67651357</td><td>NaN            </td><td>NaN                         </td><td>NaN                   </td><td>0.292829282928</td><td>0.152315231523</td><td>1159.61806181</td><td>11.3489885128</td><td>22.9540954095</td><td>37.4476447645   </td><td>12.7401236227</td><td>1163880.59815 </td><td>1885916.14984 </td><td>3915.0</td><td>1.42328975905e+12</td><td>41.8425652247  </td><td>-87.6741405221 </td><td>NaN                          </td><td>17.6839683968</td><td>2.41944194419 </td><td>5.18081808181 </td><td>NaN      </td><td>13.4279427943</td></tr>\n",
       "<tr><td>maxs   </td><td>9962898.0    </td><td>NaN          </td><td>1.42346782e+12   </td><td>6517.0              </td><td>5131.0       </td><td>26.0           </td><td>198.0                       </td><td>90.0                  </td><td>1.0           </td><td>1.0           </td><td>2535.0       </td><td>25.0         </td><td>50.0         </td><td>77.0            </td><td>26.0         </td><td>1205069.0     </td><td>1951533.0     </td><td>3915.0</td><td>1.423989819e+12  </td><td>42.022646183   </td><td>-87.524773286  </td><td>8603.0                       </td><td>31.0         </td><td>3.0           </td><td>6.0           </td><td>6.0      </td><td>23.0         </td></tr>\n",
       "<tr><td>sigma  </td><td>396787.564221</td><td>NaN          </td><td>434210690.185    </td><td>NaN                 </td><td>927.751435583</td><td>NaN            </td><td>NaN                         </td><td>NaN                   </td><td>0.455083515588</td><td>0.35934414686 </td><td>695.76029875 </td><td>6.94547493301</td><td>13.6495661144</td><td>21.2748762223   </td><td>7.57423857911</td><td>16496.4493681 </td><td>31274.0163199 </td><td>0.0   </td><td>435853634.474    </td><td>0.0860186579358</td><td>0.0600357970653</td><td>NaN                          </td><td>11.1801043358</td><td>0.493492406787</td><td>0.738929830409</td><td>NaN      </td><td>6.70636849226</td></tr>\n",
       "<tr><td>zeros  </td><td>0            </td><td>0            </td><td>0                </td><td>3                   </td><td>0            </td><td>11             </td><td>933                         </td><td>19                    </td><td>7071          </td><td>8476          </td><td>0            </td><td>0            </td><td>0            </td><td>0               </td><td>0            </td><td>0             </td><td>0             </td><td>0     </td><td>0                </td><td>0              </td><td>0              </td><td>1                            </td><td>0            </td><td>0             </td><td>0             </td><td>1038     </td><td>544          </td></tr>\n",
       "<tr><td>missing</td><td>0            </td><td>0            </td><td>0                </td><td>0                   </td><td>419          </td><td>0              </td><td>0                           </td><td>6                     </td><td>0             </td><td>0             </td><td>0            </td><td>162          </td><td>0            </td><td>0               </td><td>2557         </td><td>162           </td><td>162           </td><td>0     </td><td>0                </td><td>162            </td><td>162            </td><td>162                          </td><td>0            </td><td>0             </td><td>0             </td><td>0        </td><td>0            </td></tr>\n",
       "<tr><td>0      </td><td>9955810.0    </td><td>HY144797     </td><td>1.42346782e+12   </td><td>081XX S COLES AVE   </td><td>1811.0       </td><td>NARCOTICS      </td><td>POSS: CANNABIS 30GMS OR LESS</td><td>STREET                </td><td>true          </td><td>false         </td><td>422.0        </td><td>4.0          </td><td>7.0          </td><td>46.0            </td><td>18.0         </td><td>1198273.0     </td><td>1851626.0     </td><td>3915.0</td><td>1.423989819e+12  </td><td>41.747693646   </td><td>-87.549035389  </td><td>(41.747693646, -87.549035389)</td><td>8.0          </td><td>3.0           </td><td>6.0           </td><td>Sun      </td><td>23.0         </td></tr>\n",
       "<tr><td>1      </td><td>9955861.0    </td><td>HY144838     </td><td>1.423467702e+12  </td><td>118XX S STATE ST    </td><td>486.0        </td><td>BATTERY        </td><td>DOMESTIC BATTERY SIMPLE     </td><td>APARTMENT             </td><td>true          </td><td>true          </td><td>522.0        </td><td>5.0          </td><td>34.0         </td><td>53.0            </td><td>nan          </td><td>1178335.0     </td><td>1826581.0     </td><td>3915.0</td><td>1.423989819e+12  </td><td>41.679442289   </td><td>-87.622850758  </td><td>(41.679442289, -87.622850758)</td><td>8.0          </td><td>3.0           </td><td>6.0           </td><td>Sun      </td><td>23.0         </td></tr>\n",
       "<tr><td>2      </td><td>9955801.0    </td><td>HY144779     </td><td>1.423467022e+12  </td><td>002XX S LARAMIE AVE </td><td>2026.0       </td><td>NARCOTICS      </td><td>POSS: PCP                   </td><td>SIDEWALK              </td><td>true          </td><td>false         </td><td>1522.0       </td><td>15.0         </td><td>29.0         </td><td>25.0            </td><td>18.0         </td><td>1141717.0     </td><td>1898581.0     </td><td>3915.0</td><td>1.423989819e+12  </td><td>41.87777333    </td><td>-87.755117993  </td><td>(41.87777333, -87.755117993) </td><td>8.0          </td><td>3.0           </td><td>6.0           </td><td>Sun      </td><td>23.0         </td></tr>\n",
       "<tr><td>3      </td><td>9956197.0    </td><td>HY144787     </td><td>1.423467023e+12  </td><td>006XX E 67TH ST     </td><td>1811.0       </td><td>NARCOTICS      </td><td>POSS: CANNABIS 30GMS OR LESS</td><td>STREET                </td><td>true          </td><td>false         </td><td>321.0        </td><td>nan          </td><td>6.0          </td><td>42.0            </td><td>18.0         </td><td>nan           </td><td>nan           </td><td>3915.0</td><td>1.423989819e+12  </td><td>nan            </td><td>nan            </td><td>                             </td><td>8.0          </td><td>3.0           </td><td>6.0           </td><td>Sun      </td><td>23.0         </td></tr>\n",
       "<tr><td>4      </td><td>9955846.0    </td><td>HY144829     </td><td>1.423467058e+12  </td><td>0000X S MAYFIELD AVE</td><td>610.0        </td><td>BURGLARY       </td><td>FORCIBLE ENTRY              </td><td>APARTMENT             </td><td>false         </td><td>false         </td><td>1513.0       </td><td>15.0         </td><td>29.0         </td><td>25.0            </td><td>5.0          </td><td>1137239.0     </td><td>1899372.0     </td><td>3915.0</td><td>1.423989819e+12  </td><td>41.880025548   </td><td>-87.771541324  </td><td>(41.880025548, -87.771541324)</td><td>8.0          </td><td>3.0           </td><td>6.0           </td><td>Sun      </td><td>23.0         </td></tr>\n",
       "<tr><td>5      </td><td>9955835.0    </td><td>HY144778     </td><td>1.423467021e+12  </td><td>010XX W 48TH ST     </td><td>486.0        </td><td>BATTERY        </td><td>DOMESTIC BATTERY SIMPLE     </td><td>APARTMENT             </td><td>false         </td><td>true          </td><td>933.0        </td><td>9.0          </td><td>3.0          </td><td>61.0            </td><td>nan          </td><td>1169986.0     </td><td>1873019.0     </td><td>3915.0</td><td>1.423989819e+12  </td><td>41.807059405   </td><td>-87.65206589   </td><td>(41.807059405, -87.65206589) </td><td>8.0          </td><td>3.0           </td><td>6.0           </td><td>Sun      </td><td>23.0         </td></tr>\n",
       "<tr><td>6      </td><td>9955872.0    </td><td>HY144822     </td><td>1.423466844e+12  </td><td>015XX W ARTHUR AVE  </td><td>1320.0       </td><td>CRIMINAL DAMAGE</td><td>TO VEHICLE                  </td><td>STREET                </td><td>false         </td><td>false         </td><td>2432.0       </td><td>24.0         </td><td>40.0         </td><td>1.0             </td><td>14.0         </td><td>1164732.0     </td><td>1943222.0     </td><td>3915.0</td><td>1.423989819e+12  </td><td>41.999814056   </td><td>-87.669342967  </td><td>(41.999814056, -87.669342967)</td><td>8.0          </td><td>3.0           </td><td>6.0           </td><td>Sun      </td><td>23.0         </td></tr>\n",
       "<tr><td>7      </td><td>21752.0      </td><td>HY144738     </td><td>1.423466772e+12  </td><td>060XX W GRAND AVE   </td><td>110.0        </td><td>HOMICIDE       </td><td>FIRST DEGREE MURDER         </td><td>STREET                </td><td>true          </td><td>false         </td><td>2512.0       </td><td>25.0         </td><td>37.0         </td><td>19.0            </td><td>nan          </td><td>1135910.0     </td><td>1914206.0     </td><td>3915.0</td><td>1.423989819e+12  </td><td>41.920755683   </td><td>-87.776067514  </td><td>(41.920755683, -87.776067514)</td><td>8.0          </td><td>3.0           </td><td>6.0           </td><td>Sun      </td><td>23.0         </td></tr>\n",
       "<tr><td>8      </td><td>9955808.0    </td><td>HY144775     </td><td>1.423466433e+12  </td><td>001XX W WACKER DR   </td><td>460.0        </td><td>BATTERY        </td><td>SIMPLE                      </td><td>OTHER                 </td><td>false         </td><td>false         </td><td>122.0        </td><td>1.0          </td><td>42.0         </td><td>32.0            </td><td>nan          </td><td>1175384.0     </td><td>1902088.0     </td><td>3915.0</td><td>1.423989819e+12  </td><td>41.886707818   </td><td>-87.631396356  </td><td>(41.886707818, -87.631396356)</td><td>8.0          </td><td>3.0           </td><td>6.0           </td><td>Sun      </td><td>23.0         </td></tr>\n",
       "<tr><td>9      </td><td>9958275.0    </td><td>HY146732     </td><td>1.423466136e+12  </td><td>001XX W WACKER DR   </td><td>460.0        </td><td>BATTERY        </td><td>SIMPLE                      </td><td>HOTEL/MOTEL           </td><td>false         </td><td>false         </td><td>122.0        </td><td>1.0          </td><td>42.0         </td><td>32.0            </td><td>nan          </td><td>1175384.0     </td><td>1902088.0     </td><td>3915.0</td><td>1.423989819e+12  </td><td>41.886707818   </td><td>-87.631396356  </td><td>(41.886707818, -87.631396356)</td><td>8.0          </td><td>3.0           </td><td>6.0           </td><td>Sun      </td><td>23.0         </td></tr>\n",
       "</table>"
      ]
     },
     "metadata": {},
     "output_type": "display_data"
    },
    {
     "name": "stdout",
     "output_type": "stream",
     "text": [
      "Rows:9,999 Cols:28\n",
      "\n",
      "Chunk compression summary: \n"
     ]
    },
    {
     "data": {
      "text/html": [
       "<div style=\"overflow:auto\"><table style=\"width:50%\"><tr><td><b>chunk_type</b></td>\n",
       "<td><b>chunk_name</b></td>\n",
       "<td><b>count</b></td>\n",
       "<td><b>count_percentage</b></td>\n",
       "<td><b>size</b></td>\n",
       "<td><b>size_percentage</b></td></tr>\n",
       "<tr><td>C0L</td>\n",
       "<td>Constant Integers</td>\n",
       "<td>1</td>\n",
       "<td>3.5714288</td>\n",
       "<td>     80  B</td>\n",
       "<td>0.0114801</td></tr>\n",
       "<tr><td>CBS</td>\n",
       "<td>Bits</td>\n",
       "<td>4</td>\n",
       "<td>14.285715</td>\n",
       "<td>    5.2 KB</td>\n",
       "<td>0.7576845</td></tr>\n",
       "<tr><td>C1</td>\n",
       "<td>1-Byte Integers</td>\n",
       "<td>3</td>\n",
       "<td>10.714286</td>\n",
       "<td>   29.5 KB</td>\n",
       "<td>4.333869</td></tr>\n",
       "<tr><td>C1N</td>\n",
       "<td>1-Byte Integers (w/o NAs)</td>\n",
       "<td>9</td>\n",
       "<td>32.142857</td>\n",
       "<td>   88.5 KB</td>\n",
       "<td>13.001607</td></tr>\n",
       "<tr><td>C2</td>\n",
       "<td>2-Byte Integers</td>\n",
       "<td>4</td>\n",
       "<td>14.285715</td>\n",
       "<td>   78.4 KB</td>\n",
       "<td>11.517952</td></tr>\n",
       "<tr><td>C4</td>\n",
       "<td>4-Byte Integers</td>\n",
       "<td>3</td>\n",
       "<td>10.714286</td>\n",
       "<td>  117.4 KB</td>\n",
       "<td>17.247654</td></tr>\n",
       "<tr><td>C8</td>\n",
       "<td>64-bit Integers</td>\n",
       "<td>1</td>\n",
       "<td>3.5714288</td>\n",
       "<td>   78.2 KB</td>\n",
       "<td>11.488678</td></tr>\n",
       "<tr><td>CStr</td>\n",
       "<td>String</td>\n",
       "<td>1</td>\n",
       "<td>3.5714288</td>\n",
       "<td>  127.0 KB</td>\n",
       "<td>18.663721</td></tr>\n",
       "<tr><td>C8D</td>\n",
       "<td>64-bit Reals</td>\n",
       "<td>2</td>\n",
       "<td>7.1428576</td>\n",
       "<td>  156.4 KB</td>\n",
       "<td>22.977356</td></tr></table></div>"
      ],
      "text/plain": [
       "chunk_type    chunk_name                 count    count_percentage    size      size_percentage\n",
       "------------  -------------------------  -------  ------------------  --------  -----------------\n",
       "C0L           Constant Integers          1        3.57143             80  B     0.0114801\n",
       "CBS           Bits                       4        14.2857             5.2 KB    0.757684\n",
       "C1            1-Byte Integers            3        10.7143             29.5 KB   4.33387\n",
       "C1N           1-Byte Integers (w/o NAs)  9        32.1429             88.5 KB   13.0016\n",
       "C2            2-Byte Integers            4        14.2857             78.4 KB   11.518\n",
       "C4            4-Byte Integers            3        10.7143             117.4 KB  17.2477\n",
       "C8            64-bit Integers            1        3.57143             78.2 KB   11.4887\n",
       "CStr          String                     1        3.57143             127.0 KB  18.6637\n",
       "C8D           64-bit Reals               2        7.14286             156.4 KB  22.9774"
      ]
     },
     "metadata": {},
     "output_type": "display_data"
    },
    {
     "name": "stdout",
     "output_type": "stream",
     "text": [
      "\n",
      "Frame distribution summary: \n"
     ]
    },
    {
     "data": {
      "text/html": [
       "<div style=\"overflow:auto\"><table style=\"width:50%\"><tr><td><b></b></td>\n",
       "<td><b>size</b></td>\n",
       "<td><b>number_of_rows</b></td>\n",
       "<td><b>number_of_chunks_per_column</b></td>\n",
       "<td><b>number_of_chunks</b></td></tr>\n",
       "<tr><td>192.168.11.33:54321</td>\n",
       "<td>  680.5 KB</td>\n",
       "<td>9999.0</td>\n",
       "<td>1.0</td>\n",
       "<td>28.0</td></tr>\n",
       "<tr><td>mean</td>\n",
       "<td>  680.5 KB</td>\n",
       "<td>9999.0</td>\n",
       "<td>1.0</td>\n",
       "<td>28.0</td></tr>\n",
       "<tr><td>min</td>\n",
       "<td>  680.5 KB</td>\n",
       "<td>9999.0</td>\n",
       "<td>1.0</td>\n",
       "<td>28.0</td></tr>\n",
       "<tr><td>max</td>\n",
       "<td>  680.5 KB</td>\n",
       "<td>9999.0</td>\n",
       "<td>1.0</td>\n",
       "<td>28.0</td></tr>\n",
       "<tr><td>stddev</td>\n",
       "<td>      0  B</td>\n",
       "<td>0.0</td>\n",
       "<td>0.0</td>\n",
       "<td>0.0</td></tr>\n",
       "<tr><td>total</td>\n",
       "<td>  680.5 KB</td>\n",
       "<td>9999.0</td>\n",
       "<td>1.0</td>\n",
       "<td>28.0</td></tr></table></div>"
      ],
      "text/plain": [
       "                     size      number_of_rows    number_of_chunks_per_column    number_of_chunks\n",
       "-------------------  --------  ----------------  -----------------------------  ------------------\n",
       "192.168.11.33:54321  680.5 KB  9999              1                              28\n",
       "mean                 680.5 KB  9999              1                              28\n",
       "min                  680.5 KB  9999              1                              28\n",
       "max                  680.5 KB  9999              1                              28\n",
       "stddev               0  B      0                 0                              0\n",
       "total                680.5 KB  9999              1                              28"
      ]
     },
     "metadata": {},
     "output_type": "display_data"
    },
    {
     "name": "stdout",
     "output_type": "stream",
     "text": [
      "\n",
      "\n"
     ]
    },
    {
     "data": {
      "text/html": [
       "<table>\n",
       "<tr><th>       </th><th>ID           </th><th>Case Number  </th><th>Block               </th><th>IUCR         </th><th>Primary Type   </th><th>Description                 </th><th>Location Description  </th><th>Arrest        </th><th>Domestic      </th><th>Beat         </th><th>District     </th><th>Ward         </th><th>Community Area  </th><th>FBI Code     </th><th>X Coordinate  </th><th>Y Coordinate  </th><th>Year  </th><th>Updated On       </th><th>Latitude       </th><th>Longitude      </th><th>Location                     </th><th>Day          </th><th>Month         </th><th>WeekNum       </th><th>WeekDay  </th><th>HourOfDay    </th><th>Weekend       </th><th>Season  </th></tr>\n",
       "<tr><td>type   </td><td>int          </td><td>string       </td><td>enum                </td><td>int          </td><td>enum           </td><td>enum                        </td><td>enum                  </td><td>enum          </td><td>enum          </td><td>int          </td><td>int          </td><td>int          </td><td>int             </td><td>int          </td><td>int           </td><td>int           </td><td>int   </td><td>time             </td><td>real           </td><td>real           </td><td>enum                         </td><td>int          </td><td>int           </td><td>int           </td><td>enum     </td><td>int          </td><td>int           </td><td>enum    </td></tr>\n",
       "<tr><td>mins   </td><td>21735.0      </td><td>NaN          </td><td>0.0                 </td><td>110.0        </td><td>0.0            </td><td>0.0                         </td><td>0.0                   </td><td>0.0           </td><td>0.0           </td><td>111.0        </td><td>1.0          </td><td>1.0          </td><td>1.0             </td><td>2.0          </td><td>1100317.0     </td><td>1814255.0     </td><td>3915.0</td><td>1.422607865e+12  </td><td>41.64507243    </td><td>-87.906463888  </td><td>0.0                          </td><td>1.0          </td><td>2.0           </td><td>4.0           </td><td>0.0      </td><td>0.0          </td><td>0.0           </td><td>0.0     </td></tr>\n",
       "<tr><td>mean   </td><td>9931318.73737</td><td>NaN          </td><td>NaN                 </td><td>1189.67651357</td><td>NaN            </td><td>NaN                         </td><td>NaN                   </td><td>0.292829282928</td><td>0.152315231523</td><td>1159.61806181</td><td>11.3489885128</td><td>22.9540954095</td><td>37.4476447645   </td><td>12.7401236227</td><td>1163880.59815 </td><td>1885916.14984 </td><td>3915.0</td><td>1.42328975905e+12</td><td>41.8425652247  </td><td>-87.6741405221 </td><td>NaN                          </td><td>17.6839683968</td><td>2.41944194419 </td><td>5.18081808181 </td><td>NaN      </td><td>13.4279427943</td><td>0.357535753575</td><td>NaN     </td></tr>\n",
       "<tr><td>maxs   </td><td>9962898.0    </td><td>NaN          </td><td>6517.0              </td><td>5131.0       </td><td>26.0           </td><td>198.0                       </td><td>90.0                  </td><td>1.0           </td><td>1.0           </td><td>2535.0       </td><td>25.0         </td><td>50.0         </td><td>77.0            </td><td>26.0         </td><td>1205069.0     </td><td>1951533.0     </td><td>3915.0</td><td>1.423989819e+12  </td><td>42.022646183   </td><td>-87.524773286  </td><td>8603.0                       </td><td>31.0         </td><td>3.0           </td><td>6.0           </td><td>6.0      </td><td>23.0         </td><td>1.0           </td><td>1.0     </td></tr>\n",
       "<tr><td>sigma  </td><td>396787.564221</td><td>NaN          </td><td>NaN                 </td><td>927.751435583</td><td>NaN            </td><td>NaN                         </td><td>NaN                   </td><td>0.455083515588</td><td>0.35934414686 </td><td>695.76029875 </td><td>6.94547493301</td><td>13.6495661144</td><td>21.2748762223   </td><td>7.57423857911</td><td>16496.4493681 </td><td>31274.0163199 </td><td>0.0   </td><td>435853634.474    </td><td>0.0860186579358</td><td>0.0600357970653</td><td>NaN                          </td><td>11.1801043358</td><td>0.493492406787</td><td>0.738929830409</td><td>NaN      </td><td>6.70636849226</td><td>0.47929835539 </td><td>NaN     </td></tr>\n",
       "<tr><td>zeros  </td><td>0            </td><td>0            </td><td>3                   </td><td>0            </td><td>11             </td><td>933                         </td><td>19                    </td><td>7071          </td><td>8476          </td><td>0            </td><td>0            </td><td>0            </td><td>0               </td><td>0            </td><td>0             </td><td>0             </td><td>0     </td><td>0                </td><td>0              </td><td>0              </td><td>1                            </td><td>0            </td><td>0             </td><td>0             </td><td>1038     </td><td>544          </td><td>6424          </td><td>5805    </td></tr>\n",
       "<tr><td>missing</td><td>0            </td><td>0            </td><td>0                   </td><td>419          </td><td>0              </td><td>0                           </td><td>6                     </td><td>0             </td><td>0             </td><td>0            </td><td>162          </td><td>0            </td><td>0               </td><td>2557         </td><td>162           </td><td>162           </td><td>0     </td><td>0                </td><td>162            </td><td>162            </td><td>162                          </td><td>0            </td><td>0             </td><td>0             </td><td>0        </td><td>0            </td><td>0             </td><td>0       </td></tr>\n",
       "<tr><td>0      </td><td>9955810.0    </td><td>HY144797     </td><td>081XX S COLES AVE   </td><td>1811.0       </td><td>NARCOTICS      </td><td>POSS: CANNABIS 30GMS OR LESS</td><td>STREET                </td><td>true          </td><td>false         </td><td>422.0        </td><td>4.0          </td><td>7.0          </td><td>46.0            </td><td>18.0         </td><td>1198273.0     </td><td>1851626.0     </td><td>3915.0</td><td>1.423989819e+12  </td><td>41.747693646   </td><td>-87.549035389  </td><td>(41.747693646, -87.549035389)</td><td>8.0          </td><td>3.0           </td><td>6.0           </td><td>Sun      </td><td>23.0         </td><td>1.0           </td><td>Spring  </td></tr>\n",
       "<tr><td>1      </td><td>9955861.0    </td><td>HY144838     </td><td>118XX S STATE ST    </td><td>486.0        </td><td>BATTERY        </td><td>DOMESTIC BATTERY SIMPLE     </td><td>APARTMENT             </td><td>true          </td><td>true          </td><td>522.0        </td><td>5.0          </td><td>34.0         </td><td>53.0            </td><td>nan          </td><td>1178335.0     </td><td>1826581.0     </td><td>3915.0</td><td>1.423989819e+12  </td><td>41.679442289   </td><td>-87.622850758  </td><td>(41.679442289, -87.622850758)</td><td>8.0          </td><td>3.0           </td><td>6.0           </td><td>Sun      </td><td>23.0         </td><td>1.0           </td><td>Spring  </td></tr>\n",
       "<tr><td>2      </td><td>9955801.0    </td><td>HY144779     </td><td>002XX S LARAMIE AVE </td><td>2026.0       </td><td>NARCOTICS      </td><td>POSS: PCP                   </td><td>SIDEWALK              </td><td>true          </td><td>false         </td><td>1522.0       </td><td>15.0         </td><td>29.0         </td><td>25.0            </td><td>18.0         </td><td>1141717.0     </td><td>1898581.0     </td><td>3915.0</td><td>1.423989819e+12  </td><td>41.87777333    </td><td>-87.755117993  </td><td>(41.87777333, -87.755117993) </td><td>8.0          </td><td>3.0           </td><td>6.0           </td><td>Sun      </td><td>23.0         </td><td>1.0           </td><td>Spring  </td></tr>\n",
       "<tr><td>3      </td><td>9956197.0    </td><td>HY144787     </td><td>006XX E 67TH ST     </td><td>1811.0       </td><td>NARCOTICS      </td><td>POSS: CANNABIS 30GMS OR LESS</td><td>STREET                </td><td>true          </td><td>false         </td><td>321.0        </td><td>nan          </td><td>6.0          </td><td>42.0            </td><td>18.0         </td><td>nan           </td><td>nan           </td><td>3915.0</td><td>1.423989819e+12  </td><td>nan            </td><td>nan            </td><td>                             </td><td>8.0          </td><td>3.0           </td><td>6.0           </td><td>Sun      </td><td>23.0         </td><td>1.0           </td><td>Spring  </td></tr>\n",
       "<tr><td>4      </td><td>9955846.0    </td><td>HY144829     </td><td>0000X S MAYFIELD AVE</td><td>610.0        </td><td>BURGLARY       </td><td>FORCIBLE ENTRY              </td><td>APARTMENT             </td><td>false         </td><td>false         </td><td>1513.0       </td><td>15.0         </td><td>29.0         </td><td>25.0            </td><td>5.0          </td><td>1137239.0     </td><td>1899372.0     </td><td>3915.0</td><td>1.423989819e+12  </td><td>41.880025548   </td><td>-87.771541324  </td><td>(41.880025548, -87.771541324)</td><td>8.0          </td><td>3.0           </td><td>6.0           </td><td>Sun      </td><td>23.0         </td><td>1.0           </td><td>Spring  </td></tr>\n",
       "<tr><td>5      </td><td>9955835.0    </td><td>HY144778     </td><td>010XX W 48TH ST     </td><td>486.0        </td><td>BATTERY        </td><td>DOMESTIC BATTERY SIMPLE     </td><td>APARTMENT             </td><td>false         </td><td>true          </td><td>933.0        </td><td>9.0          </td><td>3.0          </td><td>61.0            </td><td>nan          </td><td>1169986.0     </td><td>1873019.0     </td><td>3915.0</td><td>1.423989819e+12  </td><td>41.807059405   </td><td>-87.65206589   </td><td>(41.807059405, -87.65206589) </td><td>8.0          </td><td>3.0           </td><td>6.0           </td><td>Sun      </td><td>23.0         </td><td>1.0           </td><td>Spring  </td></tr>\n",
       "<tr><td>6      </td><td>9955872.0    </td><td>HY144822     </td><td>015XX W ARTHUR AVE  </td><td>1320.0       </td><td>CRIMINAL DAMAGE</td><td>TO VEHICLE                  </td><td>STREET                </td><td>false         </td><td>false         </td><td>2432.0       </td><td>24.0         </td><td>40.0         </td><td>1.0             </td><td>14.0         </td><td>1164732.0     </td><td>1943222.0     </td><td>3915.0</td><td>1.423989819e+12  </td><td>41.999814056   </td><td>-87.669342967  </td><td>(41.999814056, -87.669342967)</td><td>8.0          </td><td>3.0           </td><td>6.0           </td><td>Sun      </td><td>23.0         </td><td>1.0           </td><td>Spring  </td></tr>\n",
       "<tr><td>7      </td><td>21752.0      </td><td>HY144738     </td><td>060XX W GRAND AVE   </td><td>110.0        </td><td>HOMICIDE       </td><td>FIRST DEGREE MURDER         </td><td>STREET                </td><td>true          </td><td>false         </td><td>2512.0       </td><td>25.0         </td><td>37.0         </td><td>19.0            </td><td>nan          </td><td>1135910.0     </td><td>1914206.0     </td><td>3915.0</td><td>1.423989819e+12  </td><td>41.920755683   </td><td>-87.776067514  </td><td>(41.920755683, -87.776067514)</td><td>8.0          </td><td>3.0           </td><td>6.0           </td><td>Sun      </td><td>23.0         </td><td>1.0           </td><td>Spring  </td></tr>\n",
       "<tr><td>8      </td><td>9955808.0    </td><td>HY144775     </td><td>001XX W WACKER DR   </td><td>460.0        </td><td>BATTERY        </td><td>SIMPLE                      </td><td>OTHER                 </td><td>false         </td><td>false         </td><td>122.0        </td><td>1.0          </td><td>42.0         </td><td>32.0            </td><td>nan          </td><td>1175384.0     </td><td>1902088.0     </td><td>3915.0</td><td>1.423989819e+12  </td><td>41.886707818   </td><td>-87.631396356  </td><td>(41.886707818, -87.631396356)</td><td>8.0          </td><td>3.0           </td><td>6.0           </td><td>Sun      </td><td>23.0         </td><td>1.0           </td><td>Spring  </td></tr>\n",
       "<tr><td>9      </td><td>9958275.0    </td><td>HY146732     </td><td>001XX W WACKER DR   </td><td>460.0        </td><td>BATTERY        </td><td>SIMPLE                      </td><td>HOTEL/MOTEL           </td><td>false         </td><td>false         </td><td>122.0        </td><td>1.0          </td><td>42.0         </td><td>32.0            </td><td>nan          </td><td>1175384.0     </td><td>1902088.0     </td><td>3915.0</td><td>1.423989819e+12  </td><td>41.886707818   </td><td>-87.631396356  </td><td>(41.886707818, -87.631396356)</td><td>8.0          </td><td>3.0           </td><td>6.0           </td><td>Sun      </td><td>23.0         </td><td>1.0           </td><td>Spring  </td></tr>\n",
       "</table>"
      ]
     },
     "metadata": {},
     "output_type": "display_data"
    }
   ],
   "source": [
    "def refine_date_col(data, col):\n",
    "    data[\"Day\"]       = data[col].day()\n",
    "    data[\"Month\"]     = data[col].month() + 1     # Since H2O indexes from 0\n",
    "    data[\"Year\"]      = data[col].year() + 1900   # Start of epoch is 1900\n",
    "    data[\"WeekNum\"]   = data[col].week()\n",
    "    data[\"WeekDay\"]   = data[col].dayOfWeek()\n",
    "    data[\"HourOfDay\"] = data[col].hour()\n",
    "    \n",
    "    data.describe()  # HACK: Force evaluation before ifelse and cut. See PUBDEV-1425.\n",
    "    \n",
    "    # Create weekend and season cols\n",
    "    # Spring = Mar, Apr, May. Summer = Jun, Jul, Aug. Autumn = Sep, Oct. Winter = Nov, Dec, Jan, Feb.\n",
    "    # data[\"Weekend\"]   = [1 if x in (\"Sun\", \"Sat\") else 0 for x in data[\"WeekDay\"]]\n",
    "    data[\"Weekend\"] = ((data[\"WeekDay\"] == \"Sun\") | (data[\"WeekDay\"] == \"Sat\"))\n",
    "    data[\"Season\"] = data[\"Month\"].cut([0, 2, 5, 7, 10, 12], [\"Winter\", \"Spring\", \"Summer\", \"Autumn\", \"Winter\"])\n",
    "    \n",
    "refine_date_col(crimes, \"Date\")\n",
    "crimes = crimes.drop(\"Date\")\n",
    "crimes.describe()"
   ]
  },
  {
   "cell_type": "code",
   "execution_count": 14,
   "metadata": {
    "collapsed": false
   },
   "outputs": [
    {
     "name": "stdout",
     "output_type": "stream",
     "text": [
      "Rows:9,999 Cols:28\n",
      "\n",
      "Chunk compression summary: \n"
     ]
    },
    {
     "data": {
      "text/html": [
       "<div style=\"overflow:auto\"><table style=\"width:50%\"><tr><td><b>chunk_type</b></td>\n",
       "<td><b>chunk_name</b></td>\n",
       "<td><b>count</b></td>\n",
       "<td><b>count_percentage</b></td>\n",
       "<td><b>size</b></td>\n",
       "<td><b>size_percentage</b></td></tr>\n",
       "<tr><td>C0L</td>\n",
       "<td>Constant Integers</td>\n",
       "<td>1</td>\n",
       "<td>3.5714288</td>\n",
       "<td>     80  B</td>\n",
       "<td>0.0114801</td></tr>\n",
       "<tr><td>CBS</td>\n",
       "<td>Bits</td>\n",
       "<td>4</td>\n",
       "<td>14.285715</td>\n",
       "<td>    5.2 KB</td>\n",
       "<td>0.7576845</td></tr>\n",
       "<tr><td>C1</td>\n",
       "<td>1-Byte Integers</td>\n",
       "<td>3</td>\n",
       "<td>10.714286</td>\n",
       "<td>   29.5 KB</td>\n",
       "<td>4.333869</td></tr>\n",
       "<tr><td>C1N</td>\n",
       "<td>1-Byte Integers (w/o NAs)</td>\n",
       "<td>9</td>\n",
       "<td>32.142857</td>\n",
       "<td>   88.5 KB</td>\n",
       "<td>13.001607</td></tr>\n",
       "<tr><td>C2</td>\n",
       "<td>2-Byte Integers</td>\n",
       "<td>4</td>\n",
       "<td>14.285715</td>\n",
       "<td>   78.4 KB</td>\n",
       "<td>11.517952</td></tr>\n",
       "<tr><td>C4</td>\n",
       "<td>4-Byte Integers</td>\n",
       "<td>3</td>\n",
       "<td>10.714286</td>\n",
       "<td>  117.4 KB</td>\n",
       "<td>17.247654</td></tr>\n",
       "<tr><td>C8</td>\n",
       "<td>64-bit Integers</td>\n",
       "<td>1</td>\n",
       "<td>3.5714288</td>\n",
       "<td>   78.2 KB</td>\n",
       "<td>11.488678</td></tr>\n",
       "<tr><td>CStr</td>\n",
       "<td>String</td>\n",
       "<td>1</td>\n",
       "<td>3.5714288</td>\n",
       "<td>  127.0 KB</td>\n",
       "<td>18.663721</td></tr>\n",
       "<tr><td>C8D</td>\n",
       "<td>64-bit Reals</td>\n",
       "<td>2</td>\n",
       "<td>7.1428576</td>\n",
       "<td>  156.4 KB</td>\n",
       "<td>22.977356</td></tr></table></div>"
      ],
      "text/plain": [
       "chunk_type    chunk_name                 count    count_percentage    size      size_percentage\n",
       "------------  -------------------------  -------  ------------------  --------  -----------------\n",
       "C0L           Constant Integers          1        3.57143             80  B     0.0114801\n",
       "CBS           Bits                       4        14.2857             5.2 KB    0.757684\n",
       "C1            1-Byte Integers            3        10.7143             29.5 KB   4.33387\n",
       "C1N           1-Byte Integers (w/o NAs)  9        32.1429             88.5 KB   13.0016\n",
       "C2            2-Byte Integers            4        14.2857             78.4 KB   11.518\n",
       "C4            4-Byte Integers            3        10.7143             117.4 KB  17.2477\n",
       "C8            64-bit Integers            1        3.57143             78.2 KB   11.4887\n",
       "CStr          String                     1        3.57143             127.0 KB  18.6637\n",
       "C8D           64-bit Reals               2        7.14286             156.4 KB  22.9774"
      ]
     },
     "metadata": {},
     "output_type": "display_data"
    },
    {
     "name": "stdout",
     "output_type": "stream",
     "text": [
      "\n",
      "Frame distribution summary: \n"
     ]
    },
    {
     "data": {
      "text/html": [
       "<div style=\"overflow:auto\"><table style=\"width:50%\"><tr><td><b></b></td>\n",
       "<td><b>size</b></td>\n",
       "<td><b>number_of_rows</b></td>\n",
       "<td><b>number_of_chunks_per_column</b></td>\n",
       "<td><b>number_of_chunks</b></td></tr>\n",
       "<tr><td>192.168.11.33:54321</td>\n",
       "<td>  680.5 KB</td>\n",
       "<td>9999.0</td>\n",
       "<td>1.0</td>\n",
       "<td>28.0</td></tr>\n",
       "<tr><td>mean</td>\n",
       "<td>  680.5 KB</td>\n",
       "<td>9999.0</td>\n",
       "<td>1.0</td>\n",
       "<td>28.0</td></tr>\n",
       "<tr><td>min</td>\n",
       "<td>  680.5 KB</td>\n",
       "<td>9999.0</td>\n",
       "<td>1.0</td>\n",
       "<td>28.0</td></tr>\n",
       "<tr><td>max</td>\n",
       "<td>  680.5 KB</td>\n",
       "<td>9999.0</td>\n",
       "<td>1.0</td>\n",
       "<td>28.0</td></tr>\n",
       "<tr><td>stddev</td>\n",
       "<td>      0  B</td>\n",
       "<td>0.0</td>\n",
       "<td>0.0</td>\n",
       "<td>0.0</td></tr>\n",
       "<tr><td>total</td>\n",
       "<td>  680.5 KB</td>\n",
       "<td>9999.0</td>\n",
       "<td>1.0</td>\n",
       "<td>28.0</td></tr></table></div>"
      ],
      "text/plain": [
       "                     size      number_of_rows    number_of_chunks_per_column    number_of_chunks\n",
       "-------------------  --------  ----------------  -----------------------------  ------------------\n",
       "192.168.11.33:54321  680.5 KB  9999              1                              28\n",
       "mean                 680.5 KB  9999              1                              28\n",
       "min                  680.5 KB  9999              1                              28\n",
       "max                  680.5 KB  9999              1                              28\n",
       "stddev               0  B      0                 0                              0\n",
       "total                680.5 KB  9999              1                              28"
      ]
     },
     "metadata": {},
     "output_type": "display_data"
    },
    {
     "name": "stdout",
     "output_type": "stream",
     "text": [
      "\n",
      "\n"
     ]
    },
    {
     "data": {
      "text/html": [
       "<table>\n",
       "<tr><th>       </th><th>ID           </th><th>Case Number  </th><th>Block               </th><th>IUCR         </th><th>Primary Type   </th><th>Description                 </th><th>Location Description  </th><th>Arrest        </th><th>Domestic      </th><th>Beat         </th><th>District     </th><th>Ward         </th><th>Community Area  </th><th>FBI Code     </th><th>X Coordinate  </th><th>Y Coordinate  </th><th>Year  </th><th>Updated On       </th><th>Latitude       </th><th>Longitude      </th><th>Location                     </th><th>Day          </th><th>Month         </th><th>WeekNum       </th><th>WeekDay  </th><th>HourOfDay    </th><th>Weekend       </th><th>Season  </th></tr>\n",
       "<tr><td>type   </td><td>int          </td><td>string       </td><td>enum                </td><td>int          </td><td>enum           </td><td>enum                        </td><td>enum                  </td><td>enum          </td><td>enum          </td><td>int          </td><td>int          </td><td>int          </td><td>int             </td><td>int          </td><td>int           </td><td>int           </td><td>int   </td><td>time             </td><td>real           </td><td>real           </td><td>enum                         </td><td>int          </td><td>int           </td><td>int           </td><td>enum     </td><td>int          </td><td>int           </td><td>enum    </td></tr>\n",
       "<tr><td>mins   </td><td>21735.0      </td><td>NaN          </td><td>0.0                 </td><td>110.0        </td><td>0.0            </td><td>0.0                         </td><td>0.0                   </td><td>0.0           </td><td>0.0           </td><td>111.0        </td><td>1.0          </td><td>1.0          </td><td>1.0             </td><td>2.0          </td><td>1100317.0     </td><td>1814255.0     </td><td>3915.0</td><td>1.422607865e+12  </td><td>41.64507243    </td><td>-87.906463888  </td><td>0.0                          </td><td>1.0          </td><td>2.0           </td><td>4.0           </td><td>0.0      </td><td>0.0          </td><td>0.0           </td><td>0.0     </td></tr>\n",
       "<tr><td>mean   </td><td>9931318.73737</td><td>NaN          </td><td>NaN                 </td><td>1189.67651357</td><td>NaN            </td><td>NaN                         </td><td>NaN                   </td><td>0.292829282928</td><td>0.152315231523</td><td>1159.61806181</td><td>11.3489885128</td><td>22.9540954095</td><td>37.4476447645   </td><td>12.7401236227</td><td>1163880.59815 </td><td>1885916.14984 </td><td>3915.0</td><td>1.42328975905e+12</td><td>41.8425652247  </td><td>-87.6741405221 </td><td>NaN                          </td><td>17.6839683968</td><td>2.41944194419 </td><td>5.18081808181 </td><td>NaN      </td><td>13.4279427943</td><td>0.357535753575</td><td>NaN     </td></tr>\n",
       "<tr><td>maxs   </td><td>9962898.0    </td><td>NaN          </td><td>6517.0              </td><td>5131.0       </td><td>26.0           </td><td>198.0                       </td><td>90.0                  </td><td>1.0           </td><td>1.0           </td><td>2535.0       </td><td>25.0         </td><td>50.0         </td><td>77.0            </td><td>26.0         </td><td>1205069.0     </td><td>1951533.0     </td><td>3915.0</td><td>1.423989819e+12  </td><td>42.022646183   </td><td>-87.524773286  </td><td>8603.0                       </td><td>31.0         </td><td>3.0           </td><td>6.0           </td><td>6.0      </td><td>23.0         </td><td>1.0           </td><td>1.0     </td></tr>\n",
       "<tr><td>sigma  </td><td>396787.564221</td><td>NaN          </td><td>NaN                 </td><td>927.751435583</td><td>NaN            </td><td>NaN                         </td><td>NaN                   </td><td>0.455083515588</td><td>0.35934414686 </td><td>695.76029875 </td><td>6.94547493301</td><td>13.6495661144</td><td>21.2748762223   </td><td>7.57423857911</td><td>16496.4493681 </td><td>31274.0163199 </td><td>0.0   </td><td>435853634.474    </td><td>0.0860186579358</td><td>0.0600357970653</td><td>NaN                          </td><td>11.1801043358</td><td>0.493492406787</td><td>0.738929830409</td><td>NaN      </td><td>6.70636849226</td><td>0.47929835539 </td><td>NaN     </td></tr>\n",
       "<tr><td>zeros  </td><td>0            </td><td>0            </td><td>3                   </td><td>0            </td><td>11             </td><td>933                         </td><td>19                    </td><td>7071          </td><td>8476          </td><td>0            </td><td>0            </td><td>0            </td><td>0               </td><td>0            </td><td>0             </td><td>0             </td><td>0     </td><td>0                </td><td>0              </td><td>0              </td><td>1                            </td><td>0            </td><td>0             </td><td>0             </td><td>1038     </td><td>544          </td><td>6424          </td><td>5805    </td></tr>\n",
       "<tr><td>missing</td><td>0            </td><td>0            </td><td>0                   </td><td>419          </td><td>0              </td><td>0                           </td><td>6                     </td><td>0             </td><td>0             </td><td>0            </td><td>162          </td><td>0            </td><td>0               </td><td>2557         </td><td>162           </td><td>162           </td><td>0     </td><td>0                </td><td>162            </td><td>162            </td><td>162                          </td><td>0            </td><td>0             </td><td>0             </td><td>0        </td><td>0            </td><td>0             </td><td>0       </td></tr>\n",
       "<tr><td>0      </td><td>9955810.0    </td><td>HY144797     </td><td>081XX S COLES AVE   </td><td>1811.0       </td><td>NARCOTICS      </td><td>POSS: CANNABIS 30GMS OR LESS</td><td>STREET                </td><td>true          </td><td>false         </td><td>422.0        </td><td>4.0          </td><td>7.0          </td><td>46.0            </td><td>18.0         </td><td>1198273.0     </td><td>1851626.0     </td><td>3915.0</td><td>1.423989819e+12  </td><td>41.747693646   </td><td>-87.549035389  </td><td>(41.747693646, -87.549035389)</td><td>8.0          </td><td>3.0           </td><td>6.0           </td><td>Sun      </td><td>23.0         </td><td>1.0           </td><td>Spring  </td></tr>\n",
       "<tr><td>1      </td><td>9955861.0    </td><td>HY144838     </td><td>118XX S STATE ST    </td><td>486.0        </td><td>BATTERY        </td><td>DOMESTIC BATTERY SIMPLE     </td><td>APARTMENT             </td><td>true          </td><td>true          </td><td>522.0        </td><td>5.0          </td><td>34.0         </td><td>53.0            </td><td>nan          </td><td>1178335.0     </td><td>1826581.0     </td><td>3915.0</td><td>1.423989819e+12  </td><td>41.679442289   </td><td>-87.622850758  </td><td>(41.679442289, -87.622850758)</td><td>8.0          </td><td>3.0           </td><td>6.0           </td><td>Sun      </td><td>23.0         </td><td>1.0           </td><td>Spring  </td></tr>\n",
       "<tr><td>2      </td><td>9955801.0    </td><td>HY144779     </td><td>002XX S LARAMIE AVE </td><td>2026.0       </td><td>NARCOTICS      </td><td>POSS: PCP                   </td><td>SIDEWALK              </td><td>true          </td><td>false         </td><td>1522.0       </td><td>15.0         </td><td>29.0         </td><td>25.0            </td><td>18.0         </td><td>1141717.0     </td><td>1898581.0     </td><td>3915.0</td><td>1.423989819e+12  </td><td>41.87777333    </td><td>-87.755117993  </td><td>(41.87777333, -87.755117993) </td><td>8.0          </td><td>3.0           </td><td>6.0           </td><td>Sun      </td><td>23.0         </td><td>1.0           </td><td>Spring  </td></tr>\n",
       "<tr><td>3      </td><td>9956197.0    </td><td>HY144787     </td><td>006XX E 67TH ST     </td><td>1811.0       </td><td>NARCOTICS      </td><td>POSS: CANNABIS 30GMS OR LESS</td><td>STREET                </td><td>true          </td><td>false         </td><td>321.0        </td><td>nan          </td><td>6.0          </td><td>42.0            </td><td>18.0         </td><td>nan           </td><td>nan           </td><td>3915.0</td><td>1.423989819e+12  </td><td>nan            </td><td>nan            </td><td>                             </td><td>8.0          </td><td>3.0           </td><td>6.0           </td><td>Sun      </td><td>23.0         </td><td>1.0           </td><td>Spring  </td></tr>\n",
       "<tr><td>4      </td><td>9955846.0    </td><td>HY144829     </td><td>0000X S MAYFIELD AVE</td><td>610.0        </td><td>BURGLARY       </td><td>FORCIBLE ENTRY              </td><td>APARTMENT             </td><td>false         </td><td>false         </td><td>1513.0       </td><td>15.0         </td><td>29.0         </td><td>25.0            </td><td>5.0          </td><td>1137239.0     </td><td>1899372.0     </td><td>3915.0</td><td>1.423989819e+12  </td><td>41.880025548   </td><td>-87.771541324  </td><td>(41.880025548, -87.771541324)</td><td>8.0          </td><td>3.0           </td><td>6.0           </td><td>Sun      </td><td>23.0         </td><td>1.0           </td><td>Spring  </td></tr>\n",
       "<tr><td>5      </td><td>9955835.0    </td><td>HY144778     </td><td>010XX W 48TH ST     </td><td>486.0        </td><td>BATTERY        </td><td>DOMESTIC BATTERY SIMPLE     </td><td>APARTMENT             </td><td>false         </td><td>true          </td><td>933.0        </td><td>9.0          </td><td>3.0          </td><td>61.0            </td><td>nan          </td><td>1169986.0     </td><td>1873019.0     </td><td>3915.0</td><td>1.423989819e+12  </td><td>41.807059405   </td><td>-87.65206589   </td><td>(41.807059405, -87.65206589) </td><td>8.0          </td><td>3.0           </td><td>6.0           </td><td>Sun      </td><td>23.0         </td><td>1.0           </td><td>Spring  </td></tr>\n",
       "<tr><td>6      </td><td>9955872.0    </td><td>HY144822     </td><td>015XX W ARTHUR AVE  </td><td>1320.0       </td><td>CRIMINAL DAMAGE</td><td>TO VEHICLE                  </td><td>STREET                </td><td>false         </td><td>false         </td><td>2432.0       </td><td>24.0         </td><td>40.0         </td><td>1.0             </td><td>14.0         </td><td>1164732.0     </td><td>1943222.0     </td><td>3915.0</td><td>1.423989819e+12  </td><td>41.999814056   </td><td>-87.669342967  </td><td>(41.999814056, -87.669342967)</td><td>8.0          </td><td>3.0           </td><td>6.0           </td><td>Sun      </td><td>23.0         </td><td>1.0           </td><td>Spring  </td></tr>\n",
       "<tr><td>7      </td><td>21752.0      </td><td>HY144738     </td><td>060XX W GRAND AVE   </td><td>110.0        </td><td>HOMICIDE       </td><td>FIRST DEGREE MURDER         </td><td>STREET                </td><td>true          </td><td>false         </td><td>2512.0       </td><td>25.0         </td><td>37.0         </td><td>19.0            </td><td>nan          </td><td>1135910.0     </td><td>1914206.0     </td><td>3915.0</td><td>1.423989819e+12  </td><td>41.920755683   </td><td>-87.776067514  </td><td>(41.920755683, -87.776067514)</td><td>8.0          </td><td>3.0           </td><td>6.0           </td><td>Sun      </td><td>23.0         </td><td>1.0           </td><td>Spring  </td></tr>\n",
       "<tr><td>8      </td><td>9955808.0    </td><td>HY144775     </td><td>001XX W WACKER DR   </td><td>460.0        </td><td>BATTERY        </td><td>SIMPLE                      </td><td>OTHER                 </td><td>false         </td><td>false         </td><td>122.0        </td><td>1.0          </td><td>42.0         </td><td>32.0            </td><td>nan          </td><td>1175384.0     </td><td>1902088.0     </td><td>3915.0</td><td>1.423989819e+12  </td><td>41.886707818   </td><td>-87.631396356  </td><td>(41.886707818, -87.631396356)</td><td>8.0          </td><td>3.0           </td><td>6.0           </td><td>Sun      </td><td>23.0         </td><td>1.0           </td><td>Spring  </td></tr>\n",
       "<tr><td>9      </td><td>9958275.0    </td><td>HY146732     </td><td>001XX W WACKER DR   </td><td>460.0        </td><td>BATTERY        </td><td>SIMPLE                      </td><td>HOTEL/MOTEL           </td><td>false         </td><td>false         </td><td>122.0        </td><td>1.0          </td><td>42.0         </td><td>32.0            </td><td>nan          </td><td>1175384.0     </td><td>1902088.0     </td><td>3915.0</td><td>1.423989819e+12  </td><td>41.886707818   </td><td>-87.631396356  </td><td>(41.886707818, -87.631396356)</td><td>8.0          </td><td>3.0           </td><td>6.0           </td><td>Sun      </td><td>23.0         </td><td>1.0           </td><td>Spring  </td></tr>\n",
       "</table>"
      ]
     },
     "metadata": {},
     "output_type": "display_data"
    }
   ],
   "source": [
    "# Merge crimes data with weather and census\n",
    "census.set_name(0,\"Community Area\")\n",
    "weather.set_name(1,\"Month\")\n",
    "weather.set_name(2,\"Day\")\n",
    "weather.set_name(3,\"Year\")\n",
    "crimes.merge(census, all_x=True, all_y=False)\n",
    "crimes.merge(weather, all_x=True, all_y=False)\n",
    "crimes.describe()"
   ]
  },
  {
   "cell_type": "code",
   "execution_count": 15,
   "metadata": {
    "collapsed": false
   },
   "outputs": [
    {
     "name": "stdout",
     "output_type": "stream",
     "text": [
      "\n",
      "gbm Model Build Progress: [##################################################] 100%\n"
     ]
    }
   ],
   "source": [
    "# Create test/train split\n",
    "r = crimes[\"Arrest\"].runif(1234)\n",
    "train = crimes[r < 0.8]\n",
    "test = crimes[r >= 0.8]\n",
    "\n",
    "# Simple GBM - Predict Arrest\n",
    "crimes_names_x = crimes.names[:]\n",
    "crimes_names_x.remove(\"Arrest\")\n",
    "data_gbm = H2OGradientBoostingEstimator(ntrees         =10,\n",
    "                                        max_depth      =6,\n",
    "                                        distribution   =\"bernoulli\")\n",
    "\n",
    "data_gbm.train(x               =crimes_names_x,\n",
    "               y               =\"Arrest\",\n",
    "               training_frame  =train,\n",
    "               validation_frame=test)\n",
    "\n",
    "# Simple Deep Learning - Predict Arrest\n",
    "# data_dl = H2ODeepLearningEstimator(variable_importances=True,\n",
    "#                                    loss                =\"Automatic\")\n",
    "\n",
    "# data_dl.train(x                =crimes_names_x,\n",
    "#               y                =\"Arrest\",\n",
    "#               training_frame  =train,\n",
    "#               validation_frame=test)"
   ]
  },
  {
   "cell_type": "code",
   "execution_count": 16,
   "metadata": {
    "collapsed": false
   },
   "outputs": [
    {
     "data": {
      "text/html": [
       "<div style=\"overflow:auto\"><table style=\"width:50%\"><tr><td><b>Model</b></td>\n",
       "<td><b>AUC Train</b></td>\n",
       "<td><b>AUC Test</b></td></tr>\n",
       "<tr><td>GBM</td>\n",
       "<td>0.9508269</td>\n",
       "<td>0.9157325</td></tr></table></div>"
      ],
      "text/plain": [
       "Model      AUC Train    AUC Test\n",
       "-------  -----------  ----------\n",
       "GBM         0.950827    0.915732"
      ]
     },
     "metadata": {},
     "output_type": "display_data"
    },
    {
     "data": {
      "text/html": [
       "<div style=\"overflow:auto\"><table style=\"width:50%\"><tr><td><b>Model</b></td>\n",
       "<td><b>AUC Train</b></td>\n",
       "<td><b>AUC Test</b></td></tr>\n",
       "<tr><td>GBM</td>\n",
       "<td>0.9508269</td>\n",
       "<td>0.9157325</td></tr></table></div>"
      ],
      "text/plain": []
     },
     "execution_count": 16,
     "metadata": {},
     "output_type": "execute_result"
    }
   ],
   "source": [
    "# GBM performance on train/test data\n",
    "train_auc_gbm = data_gbm.model_performance(train).auc()\n",
    "test_auc_gbm  = data_gbm.model_performance(test) .auc()\n",
    "\n",
    "# Deep Learning performance on train/test data\n",
    "# train_auc_dl = data_dl.model_performance(train).auc()\n",
    "# test_auc_dl  = data_dl.model_performance(test) .auc()\n",
    "\n",
    "# Make a pretty HTML table printout of the results\n",
    "header = [\"Model\", \"AUC Train\", \"AUC Test\"]\n",
    "table  = [\n",
    "           [\"GBM\", train_auc_gbm, test_auc_gbm],\n",
    "#            [\"DL \", train_auc_dl, test_auc_dl]\n",
    "         ]\n",
    "h2o.display.H2ODisplay(table, header)"
   ]
  },
  {
   "cell_type": "code",
   "execution_count": 18,
   "metadata": {
    "collapsed": false
   },
   "outputs": [
    {
     "name": "stdout",
     "output_type": "stream",
     "text": [
      "\n",
      "Parse Progress: [##################################################] 100%\n",
      "Rows:2 Cols:16\n",
      "\n",
      "Chunk compression summary: \n"
     ]
    },
    {
     "data": {
      "text/html": [
       "<div style=\"overflow:auto\"><table style=\"width:50%\"><tr><td><b>chunk_type</b></td>\n",
       "<td><b>chunk_name</b></td>\n",
       "<td><b>count</b></td>\n",
       "<td><b>count_percentage</b></td>\n",
       "<td><b>size</b></td>\n",
       "<td><b>size_percentage</b></td></tr>\n",
       "<tr><td>C0L</td>\n",
       "<td>Constant Integers</td>\n",
       "<td>7</td>\n",
       "<td>43.75</td>\n",
       "<td>    560  B</td>\n",
       "<td>43.75</td></tr>\n",
       "<tr><td>C1N</td>\n",
       "<td>1-Byte Integers (w/o NAs)</td>\n",
       "<td>4</td>\n",
       "<td>25.0</td>\n",
       "<td>    280  B</td>\n",
       "<td>21.875</td></tr>\n",
       "<tr><td>C2</td>\n",
       "<td>2-Byte Integers</td>\n",
       "<td>2</td>\n",
       "<td>12.5</td>\n",
       "<td>    144  B</td>\n",
       "<td>11.25</td></tr>\n",
       "<tr><td>C2S</td>\n",
       "<td>2-Byte Fractions</td>\n",
       "<td>1</td>\n",
       "<td>6.25</td>\n",
       "<td>     88  B</td>\n",
       "<td>6.875</td></tr>\n",
       "<tr><td>CStr</td>\n",
       "<td>String</td>\n",
       "<td>2</td>\n",
       "<td>12.5</td>\n",
       "<td>    208  B</td>\n",
       "<td>16.25</td></tr></table></div>"
      ],
      "text/plain": [
       "chunk_type    chunk_name                 count    count_percentage    size    size_percentage\n",
       "------------  -------------------------  -------  ------------------  ------  -----------------\n",
       "C0L           Constant Integers          7        43.75               560  B  43.75\n",
       "C1N           1-Byte Integers (w/o NAs)  4        25                  280  B  21.875\n",
       "C2            2-Byte Integers            2        12.5                144  B  11.25\n",
       "C2S           2-Byte Fractions           1        6.25                88  B   6.875\n",
       "CStr          String                     2        12.5                208  B  16.25"
      ]
     },
     "metadata": {},
     "output_type": "display_data"
    },
    {
     "name": "stdout",
     "output_type": "stream",
     "text": [
      "\n",
      "Frame distribution summary: \n"
     ]
    },
    {
     "data": {
      "text/html": [
       "<div style=\"overflow:auto\"><table style=\"width:50%\"><tr><td><b></b></td>\n",
       "<td><b>size</b></td>\n",
       "<td><b>number_of_rows</b></td>\n",
       "<td><b>number_of_chunks_per_column</b></td>\n",
       "<td><b>number_of_chunks</b></td></tr>\n",
       "<tr><td>192.168.11.33:54321</td>\n",
       "<td>    1.3 KB</td>\n",
       "<td>2.0</td>\n",
       "<td>1.0</td>\n",
       "<td>16.0</td></tr>\n",
       "<tr><td>mean</td>\n",
       "<td>    1.3 KB</td>\n",
       "<td>2.0</td>\n",
       "<td>1.0</td>\n",
       "<td>16.0</td></tr>\n",
       "<tr><td>min</td>\n",
       "<td>    1.3 KB</td>\n",
       "<td>2.0</td>\n",
       "<td>1.0</td>\n",
       "<td>16.0</td></tr>\n",
       "<tr><td>max</td>\n",
       "<td>    1.3 KB</td>\n",
       "<td>2.0</td>\n",
       "<td>1.0</td>\n",
       "<td>16.0</td></tr>\n",
       "<tr><td>stddev</td>\n",
       "<td>      0  B</td>\n",
       "<td>0.0</td>\n",
       "<td>0.0</td>\n",
       "<td>0.0</td></tr>\n",
       "<tr><td>total</td>\n",
       "<td>    1.3 KB</td>\n",
       "<td>2.0</td>\n",
       "<td>1.0</td>\n",
       "<td>16.0</td></tr></table></div>"
      ],
      "text/plain": [
       "                     size    number_of_rows    number_of_chunks_per_column    number_of_chunks\n",
       "-------------------  ------  ----------------  -----------------------------  ------------------\n",
       "192.168.11.33:54321  1.3 KB  2                 1                              16\n",
       "mean                 1.3 KB  2                 1                              16\n",
       "min                  1.3 KB  2                 1                              16\n",
       "max                  1.3 KB  2                 1                              16\n",
       "stddev               0  B    0                 0                              0\n",
       "total                1.3 KB  2                 1                              16"
      ]
     },
     "metadata": {},
     "output_type": "display_data"
    },
    {
     "name": "stdout",
     "output_type": "stream",
     "text": [
      "\n",
      "\n"
     ]
    },
    {
     "data": {
      "text/html": [
       "<table>\n",
       "<tr><th>       </th><th>Location.Description  </th><th>FBI.Code     </th><th>Beat         </th><th>Primary.Type      </th><th>Community.Area  </th><th>District     </th><th>Date            </th><th>Ward         </th><th>Domestic  </th><th>IUCR         </th><th>Day  </th><th>Month  </th><th>Year  </th><th>WeekNum  </th><th>WeekDay  </th><th>HourOfDay  </th></tr>\n",
       "<tr><td>type   </td><td>string                </td><td>int          </td><td>int          </td><td>string            </td><td>int             </td><td>int          </td><td>time            </td><td>int          </td><td>enum      </td><td>int          </td><td>int  </td><td>int    </td><td>int   </td><td>int      </td><td>enum     </td><td>int        </td></tr>\n",
       "<tr><td>mins   </td><td>NaN                   </td><td>11.0         </td><td>422.0        </td><td>NaN               </td><td>46.0            </td><td>4.0          </td><td>1.423465239e+12 </td><td>7.0          </td><td>0.0       </td><td>1150.0       </td><td>8.0  </td><td>3.0    </td><td>3915.0</td><td>6.0      </td><td>6.0      </td><td>23.0       </td></tr>\n",
       "<tr><td>mean   </td><td>NaN                   </td><td>14.5         </td><td>672.5        </td><td>NaN               </td><td>54.5            </td><td>6.5          </td><td>1.4234665385e+12</td><td>10.5         </td><td>0.0       </td><td>1480.5       </td><td>8.0  </td><td>3.0    </td><td>3915.0</td><td>6.0      </td><td>NaN      </td><td>23.0       </td></tr>\n",
       "<tr><td>maxs   </td><td>NaN                   </td><td>18.0         </td><td>923.0        </td><td>NaN               </td><td>63.0            </td><td>9.0          </td><td>1.423467838e+12 </td><td>14.0         </td><td>0.0       </td><td>1811.0       </td><td>8.0  </td><td>3.0    </td><td>3915.0</td><td>6.0      </td><td>6.0      </td><td>23.0       </td></tr>\n",
       "<tr><td>sigma  </td><td>NaN                   </td><td>4.94974746831</td><td>354.260497374</td><td>NaN               </td><td>12.0208152802   </td><td>3.53553390593</td><td>1837770.5243    </td><td>4.94974746831</td><td>0.0       </td><td>467.397582364</td><td>0.0  </td><td>0.0    </td><td>0.0   </td><td>0.0      </td><td>NaN      </td><td>0.0        </td></tr>\n",
       "<tr><td>zeros  </td><td>0                     </td><td>0            </td><td>0            </td><td>0                 </td><td>0               </td><td>0            </td><td>0               </td><td>0            </td><td>2         </td><td>0            </td><td>0    </td><td>0      </td><td>0     </td><td>0        </td><td>0        </td><td>0          </td></tr>\n",
       "<tr><td>missing</td><td>0                     </td><td>0            </td><td>0            </td><td>0                 </td><td>0               </td><td>0            </td><td>0               </td><td>0            </td><td>0         </td><td>0            </td><td>0    </td><td>0      </td><td>0     </td><td>0        </td><td>0        </td><td>0          </td></tr>\n",
       "<tr><td>0      </td><td>STREET                </td><td>18.0         </td><td>422.0        </td><td>NARCOTICS         </td><td>46.0            </td><td>4.0          </td><td>1.423467838e+12 </td><td>7.0          </td><td>false     </td><td>1811.0       </td><td>8.0  </td><td>3.0    </td><td>3915.0</td><td>6.0      </td><td>Sun      </td><td>23.0       </td></tr>\n",
       "<tr><td>1      </td><td>RESIDENCE             </td><td>11.0         </td><td>923.0        </td><td>DECEPTIVE PRACTICE</td><td>63.0            </td><td>9.0          </td><td>1.423465239e+12 </td><td>14.0         </td><td>false     </td><td>1150.0       </td><td>8.0  </td><td>3.0    </td><td>3915.0</td><td>6.0      </td><td>Sun      </td><td>23.0       </td></tr>\n",
       "</table>"
      ]
     },
     "metadata": {},
     "output_type": "display_data"
    },
    {
     "name": "stdout",
     "output_type": "stream",
     "text": [
      "Rows:2 Cols:18\n",
      "\n",
      "Chunk compression summary: \n"
     ]
    },
    {
     "data": {
      "text/html": [
       "<div style=\"overflow:auto\"><table style=\"width:50%\"><tr><td><b>chunk_type</b></td>\n",
       "<td><b>chunk_name</b></td>\n",
       "<td><b>count</b></td>\n",
       "<td><b>count_percentage</b></td>\n",
       "<td><b>size</b></td>\n",
       "<td><b>size_percentage</b></td></tr>\n",
       "<tr><td>C0L</td>\n",
       "<td>Constant Integers</td>\n",
       "<td>9</td>\n",
       "<td>50.0</td>\n",
       "<td>    720  B</td>\n",
       "<td>50.0</td></tr>\n",
       "<tr><td>C1N</td>\n",
       "<td>1-Byte Integers (w/o NAs)</td>\n",
       "<td>4</td>\n",
       "<td>22.222223</td>\n",
       "<td>    280  B</td>\n",
       "<td>19.444445</td></tr>\n",
       "<tr><td>C2</td>\n",
       "<td>2-Byte Integers</td>\n",
       "<td>2</td>\n",
       "<td>11.111112</td>\n",
       "<td>    144  B</td>\n",
       "<td>10.0</td></tr>\n",
       "<tr><td>C2S</td>\n",
       "<td>2-Byte Fractions</td>\n",
       "<td>1</td>\n",
       "<td>5.555556</td>\n",
       "<td>     88  B</td>\n",
       "<td>6.111111</td></tr>\n",
       "<tr><td>CStr</td>\n",
       "<td>String</td>\n",
       "<td>2</td>\n",
       "<td>11.111112</td>\n",
       "<td>    208  B</td>\n",
       "<td>14.444445</td></tr></table></div>"
      ],
      "text/plain": [
       "chunk_type    chunk_name                 count    count_percentage    size    size_percentage\n",
       "------------  -------------------------  -------  ------------------  ------  -----------------\n",
       "C0L           Constant Integers          9        50                  720  B  50\n",
       "C1N           1-Byte Integers (w/o NAs)  4        22.2222             280  B  19.4444\n",
       "C2            2-Byte Integers            2        11.1111             144  B  10\n",
       "C2S           2-Byte Fractions           1        5.55556             88  B   6.11111\n",
       "CStr          String                     2        11.1111             208  B  14.4444"
      ]
     },
     "metadata": {},
     "output_type": "display_data"
    },
    {
     "name": "stdout",
     "output_type": "stream",
     "text": [
      "\n",
      "Frame distribution summary: \n"
     ]
    },
    {
     "data": {
      "text/html": [
       "<div style=\"overflow:auto\"><table style=\"width:50%\"><tr><td><b></b></td>\n",
       "<td><b>size</b></td>\n",
       "<td><b>number_of_rows</b></td>\n",
       "<td><b>number_of_chunks_per_column</b></td>\n",
       "<td><b>number_of_chunks</b></td></tr>\n",
       "<tr><td>192.168.11.33:54321</td>\n",
       "<td>    1.4 KB</td>\n",
       "<td>2.0</td>\n",
       "<td>1.0</td>\n",
       "<td>18.0</td></tr>\n",
       "<tr><td>mean</td>\n",
       "<td>    1.4 KB</td>\n",
       "<td>2.0</td>\n",
       "<td>1.0</td>\n",
       "<td>18.0</td></tr>\n",
       "<tr><td>min</td>\n",
       "<td>    1.4 KB</td>\n",
       "<td>2.0</td>\n",
       "<td>1.0</td>\n",
       "<td>18.0</td></tr>\n",
       "<tr><td>max</td>\n",
       "<td>    1.4 KB</td>\n",
       "<td>2.0</td>\n",
       "<td>1.0</td>\n",
       "<td>18.0</td></tr>\n",
       "<tr><td>stddev</td>\n",
       "<td>      0  B</td>\n",
       "<td>0.0</td>\n",
       "<td>0.0</td>\n",
       "<td>0.0</td></tr>\n",
       "<tr><td>total</td>\n",
       "<td>    1.4 KB</td>\n",
       "<td>2.0</td>\n",
       "<td>1.0</td>\n",
       "<td>18.0</td></tr></table></div>"
      ],
      "text/plain": [
       "                     size    number_of_rows    number_of_chunks_per_column    number_of_chunks\n",
       "-------------------  ------  ----------------  -----------------------------  ------------------\n",
       "192.168.11.33:54321  1.4 KB  2                 1                              18\n",
       "mean                 1.4 KB  2                 1                              18\n",
       "min                  1.4 KB  2                 1                              18\n",
       "max                  1.4 KB  2                 1                              18\n",
       "stddev               0  B    0                 0                              0\n",
       "total                1.4 KB  2                 1                              18"
      ]
     },
     "metadata": {},
     "output_type": "display_data"
    },
    {
     "name": "stdout",
     "output_type": "stream",
     "text": [
      "\n",
      "\n"
     ]
    },
    {
     "data": {
      "text/html": [
       "<table>\n",
       "<tr><th>       </th><th>Location.Description  </th><th>FBI.Code     </th><th>Beat         </th><th>Primary.Type      </th><th>Community.Area  </th><th>District     </th><th>Date            </th><th>Ward         </th><th>Domestic  </th><th>IUCR         </th><th>Day  </th><th>Month  </th><th>Year  </th><th>WeekNum  </th><th>WeekDay  </th><th>HourOfDay  </th><th>Weekend  </th><th>Season  </th></tr>\n",
       "<tr><td>type   </td><td>string                </td><td>int          </td><td>int          </td><td>string            </td><td>int             </td><td>int          </td><td>time            </td><td>int          </td><td>enum      </td><td>int          </td><td>int  </td><td>int    </td><td>int   </td><td>int      </td><td>enum     </td><td>int        </td><td>int      </td><td>enum    </td></tr>\n",
       "<tr><td>mins   </td><td>NaN                   </td><td>11.0         </td><td>422.0        </td><td>NaN               </td><td>46.0            </td><td>4.0          </td><td>1.423465239e+12 </td><td>7.0          </td><td>0.0       </td><td>1150.0       </td><td>8.0  </td><td>3.0    </td><td>3915.0</td><td>6.0      </td><td>6.0      </td><td>23.0       </td><td>1.0      </td><td>1.0     </td></tr>\n",
       "<tr><td>mean   </td><td>NaN                   </td><td>14.5         </td><td>672.5        </td><td>NaN               </td><td>54.5            </td><td>6.5          </td><td>1.4234665385e+12</td><td>10.5         </td><td>0.0       </td><td>1480.5       </td><td>8.0  </td><td>3.0    </td><td>3915.0</td><td>6.0      </td><td>NaN      </td><td>23.0       </td><td>1.0      </td><td>NaN     </td></tr>\n",
       "<tr><td>maxs   </td><td>NaN                   </td><td>18.0         </td><td>923.0        </td><td>NaN               </td><td>63.0            </td><td>9.0          </td><td>1.423467838e+12 </td><td>14.0         </td><td>0.0       </td><td>1811.0       </td><td>8.0  </td><td>3.0    </td><td>3915.0</td><td>6.0      </td><td>6.0      </td><td>23.0       </td><td>1.0      </td><td>1.0     </td></tr>\n",
       "<tr><td>sigma  </td><td>NaN                   </td><td>4.94974746831</td><td>354.260497374</td><td>NaN               </td><td>12.0208152802   </td><td>3.53553390593</td><td>1837770.5243    </td><td>4.94974746831</td><td>0.0       </td><td>467.397582364</td><td>0.0  </td><td>0.0    </td><td>0.0   </td><td>0.0      </td><td>NaN      </td><td>0.0        </td><td>0.0      </td><td>NaN     </td></tr>\n",
       "<tr><td>zeros  </td><td>0                     </td><td>0            </td><td>0            </td><td>0                 </td><td>0               </td><td>0            </td><td>0               </td><td>0            </td><td>2         </td><td>0            </td><td>0    </td><td>0      </td><td>0     </td><td>0        </td><td>0        </td><td>0          </td><td>0        </td><td>0       </td></tr>\n",
       "<tr><td>missing</td><td>0                     </td><td>0            </td><td>0            </td><td>0                 </td><td>0               </td><td>0            </td><td>0               </td><td>0            </td><td>0         </td><td>0            </td><td>0    </td><td>0      </td><td>0     </td><td>0        </td><td>0        </td><td>0          </td><td>0        </td><td>0       </td></tr>\n",
       "<tr><td>0      </td><td>STREET                </td><td>18.0         </td><td>422.0        </td><td>NARCOTICS         </td><td>46.0            </td><td>4.0          </td><td>1.423467838e+12 </td><td>7.0          </td><td>false     </td><td>1811.0       </td><td>8.0  </td><td>3.0    </td><td>3915.0</td><td>6.0      </td><td>Sun      </td><td>23.0       </td><td>1.0      </td><td>Spring  </td></tr>\n",
       "<tr><td>1      </td><td>RESIDENCE             </td><td>11.0         </td><td>923.0        </td><td>DECEPTIVE PRACTICE</td><td>63.0            </td><td>9.0          </td><td>1.423465239e+12 </td><td>14.0         </td><td>false     </td><td>1150.0       </td><td>8.0  </td><td>3.0    </td><td>3915.0</td><td>6.0      </td><td>Sun      </td><td>23.0       </td><td>1.0      </td><td>Spring  </td></tr>\n",
       "</table>"
      ]
     },
     "metadata": {},
     "output_type": "display_data"
    }
   ],
   "source": [
    "# Create new H2OFrame of crime observations\n",
    "examples = {\n",
    "            \"Date\":                 [\"02/08/2015 11:43:58 PM\", \"02/08/2015 11:00:39 PM\"],\n",
    "            \"IUCR\":                 [1811, 1150],\n",
    "            \"Primary.Type\":         [\"NARCOTICS\", \"DECEPTIVE PRACTICE\"],\n",
    "            \"Location.Description\": [\"STREET\", \"RESIDENCE\"],\n",
    "            \"Domestic\":             [\"false\", \"false\"],\n",
    "            \"Beat\":                 [422, 923],\n",
    "            \"District\":             [4, 9],\n",
    "            \"Ward\":                 [7, 14],\n",
    "            \"Community.Area\":       [46, 63],\n",
    "            \"FBI.Code\":             [18, 11]\n",
    "            }\n",
    "\n",
    "crime_examples = h2o.H2OFrame(examples)\n",
    "\n",
    "# Refine date column and merge with census data\n",
    "refine_date_col(crime_examples, \"Date\")\n",
    "crime_examples.drop(\"Date\")\n",
    "census.set_name(0,\"Community.Area\")\n",
    "crime_examples.merge(census, all_x=True, all_y=False)\n",
    "crime_examples.describe()"
   ]
  },
  {
   "cell_type": "code",
   "execution_count": 19,
   "metadata": {
    "collapsed": false
   },
   "outputs": [
    {
     "name": "stdout",
     "output_type": "stream",
     "text": [
      "\n",
      "gbm prediction Progress: [##################################################] 100%\n"
     ]
    },
    {
     "data": {
      "text/html": [
       "<div style=\"overflow:auto\"><table style=\"width:50%\"><tr><td><b>FBI Code</b></td>\n",
       "<td><b>GBM Arrest Prob</b></td></tr>\n",
       "<tr><td>18</td>\n",
       "<td>0.7484560</td></tr>\n",
       "<tr><td>11</td>\n",
       "<td>0.7543347</td></tr></table></div>"
      ],
      "text/plain": [
       "  FBI Code    GBM Arrest Prob\n",
       "----------  -----------------\n",
       "        18           0.748456\n",
       "        11           0.754335"
      ]
     },
     "metadata": {},
     "output_type": "display_data"
    },
    {
     "data": {
      "text/html": [
       "<div style=\"overflow:auto\"><table style=\"width:50%\"><tr><td><b>FBI Code</b></td>\n",
       "<td><b>GBM Arrest Prob</b></td></tr>\n",
       "<tr><td>18</td>\n",
       "<td>0.7484560</td></tr>\n",
       "<tr><td>11</td>\n",
       "<td>0.7543347</td></tr></table></div>"
      ],
      "text/plain": []
     },
     "execution_count": 19,
     "metadata": {},
     "output_type": "execute_result"
    }
   ],
   "source": [
    "# Predict probability of arrest from new observations\n",
    "gbm_pred = data_gbm.predict(crime_examples)\n",
    "# dl_pred  = data_dl .predict(crime_examples)\n",
    "\n",
    "# Make a pretty HTML table printout of the results\n",
    "# header = [\"FBI Code\", \"GBM Arrest Prob\", \"DL Arrest Prob\"]\n",
    "# table  = [\n",
    "#            [examples[\"FBI.Code\"][0], gbm_pred[0,\"true\"], dl_pred[0,\"true\"]],\n",
    "#            [examples[\"FBI.Code\"][1], gbm_pred[1,\"true\"], dl_pred[1,\"true\"]]\n",
    "#          ]\n",
    "header = [\"FBI Code\", \"GBM Arrest Prob\"]\n",
    "table  = [\n",
    "           [examples[\"FBI.Code\"][0], gbm_pred[0,\"true\"]],\n",
    "           [examples[\"FBI.Code\"][1], gbm_pred[1,\"true\"]],\n",
    "         ]\n",
    "h2o.display.H2ODisplay(table, header)"
   ]
  }
 ],
 "metadata": {
  "kernelspec": {
   "display_name": "Python 2",
   "language": "python",
   "name": "python2"
  },
  "language_info": {
   "codemirror_mode": {
    "name": "ipython",
    "version": 2
   },
   "file_extension": ".py",
   "mimetype": "text/x-python",
   "name": "python",
   "nbconvert_exporter": "python",
   "pygments_lexer": "ipython2",
   "version": "2.7.9"
  }
 },
 "nbformat": 4,
 "nbformat_minor": 0
}
