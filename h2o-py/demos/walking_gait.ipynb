{
 "cells": [
  {
   "cell_type": "code",
   "execution_count": null,
   "metadata": {
    "collapsed": true
   },
   "outputs": [],
   "source": [
    "import h2o\n",
    "import numpy as np\n",
    "import matplotlib.patches as mpatches\n",
    "import matplotlib.pyplot as plt"
   ]
  },
  {
   "cell_type": "code",
   "execution_count": null,
   "metadata": {
    "collapsed": false
   },
   "outputs": [],
   "source": [
    "h2o.init()"
   ]
  },
  {
   "cell_type": "code",
   "execution_count": null,
   "metadata": {
    "collapsed": false
   },
   "outputs": [],
   "source": [
    "# Import walking gait data\n",
    "gait = h2o.upload_file(path=h2o.locate(\"smalldata/glrm_test/subject01_walk1.csv\"))\n",
    "gait.describe()"
   ]
  },
  {
   "cell_type": "code",
   "execution_count": null,
   "metadata": {
    "collapsed": false
   },
   "outputs": [],
   "source": [
    "# Basic GLRM using quadratic loss and no regularization (PCA)\n",
    "model = h2o.glrm(x=gait[1:], k=5, init=\"PlusPlus\", loss=\"Quadratic\", regularization_x=\"None\", regularization_y=\"None\", max_iterations=1000)\n",
    "model.show()"
   ]
  },
  {
   "cell_type": "code",
   "execution_count": null,
   "metadata": {
    "collapsed": false
   },
   "outputs": [],
   "source": [
    "# Archetype to feature mapping (Y)\n",
    "gait_y = model._model_json[\"output\"][\"archetypes\"]\n",
    "print gait_y\n",
    "\n",
    "gait_y_np = np.array(model.archetypes())\n",
    "feat_cols = range(2, gait_y_np.shape[1], 3)\n",
    "num_feat = len(feat_cols)\n",
    "\n",
    "# Plot first archetype on z-coordinate features\n",
    "x_pts = range(1, num_feat+1)\n",
    "y_pts = gait_y_np[0, feat_cols]\n",
    "plt.plot(x_pts, y_pts, 'bo')\n",
    "plt.plot(x_pts, [0]*num_feat, 'k--')   # Dashed line at zero\n",
    "\n",
    "# Add feature labels to each point\n",
    "feat_names = gait_y.col_header[1:]\n",
    "for i in xrange(num_feat):\n",
    "    plt.annotate(feat_names[i], xy = [x_pts[i], y_pts[i]])\n",
    "plt.title(\"First Archetype's Z-Coordinate Feature Weights\")\n",
    "plt.xlabel(\"Feature\")\n",
    "plt.ylabel(\"Archetypal Weight\")\n",
    "plt.show()"
   ]
  },
  {
   "cell_type": "code",
   "execution_count": null,
   "metadata": {
    "collapsed": false
   },
   "outputs": [],
   "source": [
    "# Projection into archetype space (X)\n",
    "x_key = model._model_json[\"output\"][\"loading_key\"][\"name\"]\n",
    "gait_x = h2o.get_frame(x_key)\n",
    "gait_x.show()\n",
    "\n",
    "time_np = np.array(h2o.as_list(gait[\"Time\"]))\n",
    "gait_x_np = np.array(h2o.as_list(gait_x))\n",
    "\n",
    "# Plot archetypes over time\n",
    "lines = []\n",
    "for i in xrange(gait_x_np.shape[1]):\n",
    "    lines += plt.plot(time_np, gait_x_np[:,i], '-')\n",
    "plt.title(\"Archetypes over Time\")\n",
    "plt.xlabel(\"Time\")\n",
    "plt.ylabel(\"Archetypal Projection\")\n",
    "plt.legend(lines, gait_x.col_names)\n",
    "plt.show()"
   ]
  },
  {
   "cell_type": "code",
   "execution_count": null,
   "metadata": {
    "collapsed": false
   },
   "outputs": [],
   "source": [
    "# Reconstruct data from matrix product XY\n",
    "pred = model.predict(gait)\n",
    "pred.head()"
   ]
  },
  {
   "cell_type": "code",
   "execution_count": null,
   "metadata": {
    "collapsed": true
   },
   "outputs": [],
   "source": [
    "# Plot original and reconstructed L.Acromium.X over time\n",
    "# lacro_np = np.array(gait[\"L.Acromium.X\"])\n",
    "# lacro_pred_np = np.array(pred[\"reconstr_L.Acromium.X\"])\n",
    "# line_orig = plt.plot(time_np, lacro_np, '-')\n",
    "# line_imp = plt.plot(time_np, lacro_pred_np, '-')\n",
    "\n",
    "# plt.title(\"Position of Left Acromium over Time\")\n",
    "# plt.xlabel(\"Time\")\n",
    "# plt.ylabel(\"X-Coordinate of Left Acromium\")\n",
    "# plt.legend([line_orig, line_imp], [\"Original\", \"Imputed\"])\n",
    "# plt.show()"
   ]
  },
  {
   "cell_type": "code",
   "execution_count": null,
   "metadata": {
    "collapsed": false
   },
   "outputs": [],
   "source": [
    "# Import walking gait data with missing values\n",
    "gait_miss = h2o.upload_file(h2o.locate(\"smalldata/glrm_test/subject01_walk1_miss15.csv\"))\n",
    "gait_miss.describe()"
   ]
  },
  {
   "cell_type": "code",
   "execution_count": null,
   "metadata": {
    "collapsed": false
   },
   "outputs": [],
   "source": [
    "# Basic GLRM using quadratic loss and no regularization\n",
    "model2 = h2o.glrm(x=gait_miss[1:], validation_x=gait[1:], k=15, init=\"PlusPlus\", loss=\"Quadratic\", regularization_x=\"None\", regularization_y=\"None\", max_iterations=500, min_step_size=1e-7)\n",
    "model2.show()"
   ]
  },
  {
   "cell_type": "code",
   "execution_count": null,
   "metadata": {
    "collapsed": false
   },
   "outputs": [],
   "source": [
    "# Impute missing data from X and Y\n",
    "pred2 = model2.predict(gait_miss)\n",
    "pred2.head()"
   ]
  },
  {
   "cell_type": "code",
   "execution_count": null,
   "metadata": {
    "collapsed": false
   },
   "outputs": [],
   "source": [
    "# Plot original and imputed L.Acromium.X over time\n",
    "lacro_np2 = np.array(h2o.as_list(gait[\"L.Acromium.X\"]))\n",
    "lacro_pred_np2 = np.array(h2o.as_list(pred2[\"reconstr_L.Acromium.X\"]))\n",
    "plt.plot(time_np, lacro_np2, 'b-')\n",
    "plt.plot(time_np, lacro_pred_np2, 'g-')\n",
    "\n",
    "plt.title(\"Position of Left Acromium over Time\")\n",
    "plt.xlabel(\"Time\")\n",
    "plt.ylabel(\"X-Coordinate of Left Acromium\")\n",
    "blue_patch = mpatches.Patch(color = 'blue', label = 'Original')\n",
    "green_patch = mpatches.Patch(color = 'green', label='Imputed')\n",
    "plt.legend([blue_patch, green_patch], [\"Original\", \"Imputed\"])\n",
    "plt.show()"
   ]
  },
  {
   "cell_type": "code",
   "execution_count": null,
   "metadata": {
    "collapsed": true
   },
   "outputs": [],
   "source": []
  }
 ],
 "metadata": {
  "kernelspec": {
   "display_name": "Python 2",
   "language": "python",
   "name": "python2"
  },
  "language_info": {
   "codemirror_mode": {
    "name": "ipython",
    "version": 2
   },
   "file_extension": ".py",
   "mimetype": "text/x-python",
   "name": "python",
   "nbconvert_exporter": "python",
   "pygments_lexer": "ipython2",
   "version": "2.7.10"
  }
 },
 "nbformat": 4,
 "nbformat_minor": 0
}
