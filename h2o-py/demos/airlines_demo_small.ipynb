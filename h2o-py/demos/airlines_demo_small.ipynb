{
 "metadata": {
  "kernelspec": {
   "display_name": "Python 2",
   "language": "python",
   "name": "python2"
  },
  "language_info": {
   "codemirror_mode": {
    "name": "ipython",
    "version": 2
   },
   "file_extension": ".py",
   "mimetype": "text/x-python",
   "name": "python",
   "nbconvert_exporter": "python",
   "pygments_lexer": "ipython2",
   "version": "2.7.9"
  },
  "name": "",
  "signature": "sha256:9520adb99fe078cb0ff2a671c3f910d352f6c71ac21311387df04f3a8379f32c"
 },
 "nbformat": 3,
 "nbformat_minor": 0,
 "worksheets": [
  {
   "cells": [
    {
     "cell_type": "code",
     "collapsed": false,
     "input": [
      "import h2o\n",
      "import pandas\n",
      "import pprint\n",
      "import operator\n",
      "import matplotlib\n",
      "from tabulate import tabulate"
     ],
     "language": "python",
     "metadata": {},
     "outputs": [],
     "prompt_number": 1
    },
    {
     "cell_type": "code",
     "collapsed": false,
     "input": [
      "# Connect to a cluster\n",
      "h2o.init()"
     ],
     "language": "python",
     "metadata": {},
     "outputs": [
      {
       "html": [
        "<div style=\"overflow:auto\"><table style=\"width:50%\"><tr><td>H2O cluster uptime: </td>\n",
        "<td>40 minutes 46 seconds 636 milliseconds </td></tr>\n",
        "<tr><td>H2O cluster version: </td>\n",
        "<td>3.1.0.99999</td></tr>\n",
        "<tr><td>H2O cluster name: </td>\n",
        "<td>ece</td></tr>\n",
        "<tr><td>H2O cluster total nodes: </td>\n",
        "<td>1</td></tr>\n",
        "<tr><td>H2O cluster total memory: </td>\n",
        "<td>3.56 GB</td></tr>\n",
        "<tr><td>H2O cluster total cores: </td>\n",
        "<td>8</td></tr>\n",
        "<tr><td>H2O cluster allowed cores: </td>\n",
        "<td>8</td></tr>\n",
        "<tr><td>H2O cluster healthy: </td>\n",
        "<td>True</td></tr>\n",
        "<tr><td>H2O Connection ip: </td>\n",
        "<td>127.0.0.1</td></tr>\n",
        "<tr><td>H2O Connection port: </td>\n",
        "<td>54321</td></tr></table></div>"
       ],
       "metadata": {},
       "output_type": "display_data",
       "text": [
        "--------------------------  --------------------------------------\n",
        "H2O cluster uptime:         40 minutes 46 seconds 636 milliseconds\n",
        "H2O cluster version:        3.1.0.99999\n",
        "H2O cluster name:           ece\n",
        "H2O cluster total nodes:    1\n",
        "H2O cluster total memory:   3.56 GB\n",
        "H2O cluster total cores:    8\n",
        "H2O cluster allowed cores:  8\n",
        "H2O cluster healthy:        True\n",
        "H2O Connection ip:          127.0.0.1\n",
        "H2O Connection port:        54321\n",
        "--------------------------  --------------------------------------"
       ]
      }
     ],
     "prompt_number": 2
    },
    {
     "cell_type": "code",
     "collapsed": false,
     "input": [
      "import matplotlib.pyplot as plt\n",
      "interactive = False # set this to True for matplotlib plot viewing"
     ],
     "language": "python",
     "metadata": {},
     "outputs": [],
     "prompt_number": 3
    },
    {
     "cell_type": "code",
     "collapsed": false,
     "input": [
      "# air_path = [h2o.locate(\"bigdata/laptop/airlines_all.05p.csv\")]\n",
      "# air_path = [h2o.locate(\"bigdata/laptop/flights-nyc/flights14.csv.zip\")]\n",
      "air_path = [h2o.locate(\"smalldata/airlines/allyears2k_headers.zip\")]\n",
      "\n",
      "# ----------\n",
      "\n",
      "# 1- Load data - 1 row per flight.  Has columns showing the origin,\n",
      "# destination, departure and arrival time, carrier information, and\n",
      "# whether the flight was delayed.\n",
      "print \"Import and Parse airlines data\"\n",
      "data = h2o.import_file(path=air_path)\n",
      "data.describe()"
     ],
     "language": "python",
     "metadata": {},
     "outputs": [
      {
       "output_type": "stream",
       "stream": "stdout",
       "text": [
        "Import and Parse airlines data\n",
        "\n"
       ]
      },
      {
       "output_type": "stream",
       "stream": "stdout",
       "text": [
        "\r",
        "Parse Progress: [                                                  ] 00%"
       ]
      },
      {
       "output_type": "stream",
       "stream": "stdout",
       "text": [
        "\r",
        "Parse Progress: [##################################################] 100%"
       ]
      },
      {
       "output_type": "stream",
       "stream": "stdout",
       "text": [
        "\n",
        "\n",
        "Parsed 43,978 rows and 31 cols:\n",
        "\n"
       ]
      },
      {
       "html": [
        "<div style=\"overflow:auto\"><table style=\"width:50%\"><tr><td>File1</td>\n",
        "<td>/Users/ece/0xdata/h2o-dev/smalldata/airlines/allyears2k_headers.zip</td></tr></table></div>"
       ],
       "metadata": {},
       "output_type": "display_data",
       "text": [
        "-----  -------------------------------------------------------------------\n",
        "File1  /Users/ece/0xdata/h2o-dev/smalldata/airlines/allyears2k_headers.zip\n",
        "-----  -------------------------------------------------------------------"
       ]
      },
      {
       "output_type": "stream",
       "stream": "stdout",
       "text": [
        "Rows: 43,978 Cols: 31\n",
        "  chunk_type                 chunk_name  count  count_percentage        size  \\\n",
        "0        C0L          Constant Integers     10          5.376344      800  B   \n",
        "1        C0D             Constant Reals     23         12.365591      1.8 KB   \n",
        "2        CBS                       Bits      2          1.075269      2.0 KB   \n",
        "3        CX0                Sparse Bits     10          5.376344      1.9 KB   \n",
        "4         C1            1-Byte Integers     40         21.505377    287.8 KB   \n",
        "5        C1N  1-Byte Integers (w/o NAs)     19         10.215054    133.1 KB   \n",
        "6        C1S           1-Byte Fractions      6          3.225807     43.4 KB   \n",
        "7         C2            2-Byte Integers     76         40.860214      1.1 MB   \n",
        "\n",
        "   size_percentage  \n",
        "0         0.050402  \n",
        "1         0.115925  \n",
        "2         0.127203  \n",
        "3         0.124746  \n",
        "4        18.564957  \n",
        "5         8.586170  \n",
        "6         2.802498  \n",
        "7        69.628105  \n",
        "                            size  number_of_rows  number_of_chunks_per_column  \\\n",
        "0  172.16.2.55:54321      1.5 MB           43978                            6   \n",
        "1               mean      1.5 MB           43978                            6   \n",
        "2                min      1.5 MB           43978                            6   \n",
        "3                max      1.5 MB           43978                            6   \n",
        "4             stddev        0  B               0                            0   \n",
        "5              total      1.5 MB           43978                            6   \n",
        "\n",
        "   number_of_chunks  \n",
        "0               186  \n",
        "1               186  \n",
        "2               186  \n",
        "3               186  \n",
        "4                 0  \n",
        "5               186  \n",
        "\n"
       ]
      },
      {
       "output_type": "stream",
       "stream": "stdout",
       "text": [
        "Column-by-Column Summary:\n",
        "\n"
       ]
      },
      {
       "html": [
        "<div style=\"overflow:auto\"><table style=\"width:50%\"><tr><td></td>\n",
        "<td>Year</td>\n",
        "<td>Month</td>\n",
        "<td>DayofMonth</td>\n",
        "<td>DayOfWeek</td>\n",
        "<td>DepTime</td>\n",
        "<td>CRSDepTime</td>\n",
        "<td>ArrTime</td>\n",
        "<td>CRSArrTime</td>\n",
        "<td>UniqueCarrier</td>\n",
        "<td>FlightNum</td>\n",
        "<td>TailNum</td>\n",
        "<td>ActualElapsedTime</td>\n",
        "<td>CRSElapsedTime</td>\n",
        "<td>AirTime</td>\n",
        "<td>ArrDelay</td>\n",
        "<td>DepDelay</td>\n",
        "<td>Origin</td>\n",
        "<td>Dest</td>\n",
        "<td>Distance</td>\n",
        "<td>TaxiIn</td>\n",
        "<td>TaxiOut</td>\n",
        "<td>Cancelled</td>\n",
        "<td>CancellationCode</td>\n",
        "<td>Diverted</td>\n",
        "<td>CarrierDelay</td>\n",
        "<td>WeatherDelay</td>\n",
        "<td>NASDelay</td>\n",
        "<td>SecurityDelay</td>\n",
        "<td>LateAircraftDelay</td>\n",
        "<td>IsArrDelayed</td>\n",
        "<td>IsDepDelayed</td></tr>\n",
        "<tr><td>type</td>\n",
        "<td>int</td>\n",
        "<td>int</td>\n",
        "<td>int</td>\n",
        "<td>int</td>\n",
        "<td>int</td>\n",
        "<td>int</td>\n",
        "<td>int</td>\n",
        "<td>int</td>\n",
        "<td>enum</td>\n",
        "<td>int</td>\n",
        "<td>enum</td>\n",
        "<td>int</td>\n",
        "<td>int</td>\n",
        "<td>int</td>\n",
        "<td>int</td>\n",
        "<td>int</td>\n",
        "<td>enum</td>\n",
        "<td>enum</td>\n",
        "<td>int</td>\n",
        "<td>int</td>\n",
        "<td>int</td>\n",
        "<td>int</td>\n",
        "<td>enum</td>\n",
        "<td>int</td>\n",
        "<td>int</td>\n",
        "<td>int</td>\n",
        "<td>int</td>\n",
        "<td>int</td>\n",
        "<td>int</td>\n",
        "<td>enum</td>\n",
        "<td>enum</td></tr>\n",
        "<tr><td>mins</td>\n",
        "<td>1987.0</td>\n",
        "<td>1.0</td>\n",
        "<td>1.0</td>\n",
        "<td>1.0</td>\n",
        "<td>1.0</td>\n",
        "<td>0.0</td>\n",
        "<td>1.0</td>\n",
        "<td>0.0</td>\n",
        "<td>0.0</td>\n",
        "<td>1.0</td>\n",
        "<td>0.0</td>\n",
        "<td>16.0</td>\n",
        "<td>17.0</td>\n",
        "<td>14.0</td>\n",
        "<td>-63.0</td>\n",
        "<td>-16.0</td>\n",
        "<td>0.0</td>\n",
        "<td>0.0</td>\n",
        "<td>11.0</td>\n",
        "<td>0.0</td>\n",
        "<td>0.0</td>\n",
        "<td>0.0</td>\n",
        "<td>0.0</td>\n",
        "<td>0.0</td>\n",
        "<td>0.0</td>\n",
        "<td>0.0</td>\n",
        "<td>0.0</td>\n",
        "<td>0.0</td>\n",
        "<td>0.0</td>\n",
        "<td>0.0</td>\n",
        "<td>0.0</td></tr>\n",
        "<tr><td>maxs</td>\n",
        "<td>2008.0</td>\n",
        "<td>10.0</td>\n",
        "<td>31.0</td>\n",
        "<td>7.0</td>\n",
        "<td>2400.0</td>\n",
        "<td>2359.0</td>\n",
        "<td>2400.0</td>\n",
        "<td>2359.0</td>\n",
        "<td>9.0</td>\n",
        "<td>3949.0</td>\n",
        "<td>3500.0</td>\n",
        "<td>475.0</td>\n",
        "<td>437.0</td>\n",
        "<td>402.0</td>\n",
        "<td>475.0</td>\n",
        "<td>473.0</td>\n",
        "<td>131.0</td>\n",
        "<td>133.0</td>\n",
        "<td>3365.0</td>\n",
        "<td>128.0</td>\n",
        "<td>254.0</td>\n",
        "<td>1.0</td>\n",
        "<td>3.0</td>\n",
        "<td>1.0</td>\n",
        "<td>369.0</td>\n",
        "<td>201.0</td>\n",
        "<td>323.0</td>\n",
        "<td>14.0</td>\n",
        "<td>373.0</td>\n",
        "<td>1.0</td>\n",
        "<td>1.0</td></tr>\n",
        "<tr><td>sigma</td>\n",
        "<td>6.34436090171</td>\n",
        "<td>1.87471137134</td>\n",
        "<td>9.17579042586</td>\n",
        "<td>1.90501311913</td>\n",
        "<td>465.340899124</td>\n",
        "<td>476.251139993</td>\n",
        "<td>484.347487904</td>\n",
        "<td>492.750434123</td>\n",
        "<td>2.05121227084</td>\n",
        "<td>777.404369164</td>\n",
        "<td>1168.75931155</td>\n",
        "<td>73.9744416606</td>\n",
        "<td>73.40159463</td>\n",
        "<td>69.6363295151</td>\n",
        "<td>29.8402219624</td>\n",
        "<td>26.4388090429</td>\n",
        "<td>37.64411521</td>\n",
        "<td>33.930070329</td>\n",
        "<td>578.43800823</td>\n",
        "<td>4.20197993986</td>\n",
        "<td>9.9050857472</td>\n",
        "<td>0.155193141358</td>\n",
        "<td>0.182676305421</td>\n",
        "<td>0.0497234872189</td>\n",
        "<td>16.2057299045</td>\n",
        "<td>4.41677989873</td>\n",
        "<td>18.6197762215</td>\n",
        "<td>0.403940182102</td>\n",
        "<td>23.4875658741</td>\n",
        "<td>0.496887288343</td>\n",
        "<td>0.499377380318</td></tr>\n",
        "<tr><td>zero_count</td>\n",
        "<td>0</td>\n",
        "<td>0</td>\n",
        "<td>0</td>\n",
        "<td>0</td>\n",
        "<td>0</td>\n",
        "<td>569</td>\n",
        "<td>0</td>\n",
        "<td>569</td>\n",
        "<td>724</td>\n",
        "<td>0</td>\n",
        "<td>2</td>\n",
        "<td>0</td>\n",
        "<td>0</td>\n",
        "<td>0</td>\n",
        "<td>1514</td>\n",
        "<td>6393</td>\n",
        "<td>59</td>\n",
        "<td>172</td>\n",
        "<td>0</td>\n",
        "<td>623</td>\n",
        "<td>557</td>\n",
        "<td>42892</td>\n",
        "<td>81</td>\n",
        "<td>43869</td>\n",
        "<td>7344</td>\n",
        "<td>8840</td>\n",
        "<td>7388</td>\n",
        "<td>8914</td>\n",
        "<td>7140</td>\n",
        "<td>19537</td>\n",
        "<td>20887</td></tr>\n",
        "<tr><td>missing_count</td>\n",
        "<td>0</td>\n",
        "<td>0</td>\n",
        "<td>0</td>\n",
        "<td>0</td>\n",
        "<td>1086</td>\n",
        "<td>0</td>\n",
        "<td>1195</td>\n",
        "<td>0</td>\n",
        "<td>0</td>\n",
        "<td>0</td>\n",
        "<td>32</td>\n",
        "<td>1195</td>\n",
        "<td>13</td>\n",
        "<td>16649</td>\n",
        "<td>1195</td>\n",
        "<td>1086</td>\n",
        "<td>0</td>\n",
        "<td>0</td>\n",
        "<td>35</td>\n",
        "<td>16026</td>\n",
        "<td>16024</td>\n",
        "<td>0</td>\n",
        "<td>9774</td>\n",
        "<td>0</td>\n",
        "<td>35045</td>\n",
        "<td>35045</td>\n",
        "<td>35045</td>\n",
        "<td>35045</td>\n",
        "<td>35045</td>\n",
        "<td>0</td>\n",
        "<td>0</td></tr></table></div>"
       ],
       "metadata": {},
       "output_type": "display_data",
       "text": [
        "               Year           Month          DayofMonth     DayOfWeek      DepTime        CRSDepTime     ArrTime        CRSArrTime     UniqueCarrier    FlightNum      TailNum        ActualElapsedTime    CRSElapsedTime    AirTime        ArrDelay       DepDelay       Origin       Dest          Distance      TaxiIn         TaxiOut       Cancelled       CancellationCode    Diverted         CarrierDelay    WeatherDelay    NASDelay       SecurityDelay    LateAircraftDelay    IsArrDelayed    IsDepDelayed\n",
        "-------------  -------------  -------------  -------------  -------------  -------------  -------------  -------------  -------------  ---------------  -------------  -------------  -------------------  ----------------  -------------  -------------  -------------  -----------  ------------  ------------  -------------  ------------  --------------  ------------------  ---------------  --------------  --------------  -------------  ---------------  -------------------  --------------  --------------\n",
        "type           int            int            int            int            int            int            int            int            enum             int            enum           int                  int               int            int            int            enum         enum          int           int            int           int             enum                int              int             int             int            int              int                  enum            enum\n",
        "mins           1987.0         1.0            1.0            1.0            1.0            0.0            1.0            0.0            0.0              1.0            0.0            16.0                 17.0              14.0           -63.0          -16.0          0.0          0.0           11.0          0.0            0.0           0.0             0.0                 0.0              0.0             0.0             0.0            0.0              0.0                  0.0             0.0\n",
        "maxs           2008.0         10.0           31.0           7.0            2400.0         2359.0         2400.0         2359.0         9.0              3949.0         3500.0         475.0                437.0             402.0          475.0          473.0          131.0        133.0         3365.0        128.0          254.0         1.0             3.0                 1.0              369.0           201.0           323.0          14.0             373.0                1.0             1.0\n",
        "sigma          6.34436090171  1.87471137134  9.17579042586  1.90501311913  465.340899124  476.251139993  484.347487904  492.750434123  2.05121227084    777.404369164  1168.75931155  73.9744416606        73.40159463       69.6363295151  29.8402219624  26.4388090429  37.64411521  33.930070329  578.43800823  4.20197993986  9.9050857472  0.155193141358  0.182676305421      0.0497234872189  16.2057299045   4.41677989873   18.6197762215  0.403940182102   23.4875658741        0.496887288343  0.499377380318\n",
        "zero_count     0              0              0              0              0              569            0              569            724              0              2              0                    0                 0              1514           6393           59           172           0             623            557           42892           81                  43869            7344            8840            7388           8914             7140                 19537           20887\n",
        "missing_count  0              0              0              0              1086           0              1195           0              0                0              32             1195                 13                16649          1195           1086           0            0             35            16026          16024         0               9774                0                35045           35045           35045          35045            35045                0               0"
       ]
      }
     ],
     "prompt_number": 4
    },
    {
     "cell_type": "code",
     "collapsed": false,
     "input": [
      "# ----------\n",
      "\n",
      "# 2- Data exploration and munging. Generate scatter plots \n",
      "# of various columns and plot fitted GLM model.\n",
      "\n",
      "# Function to fit a GLM model and plot the fitted (x,y) values\n",
      "def scatter_plot(data, x, y, max_points = 1000, fit = True):\n",
      "    if(fit):\n",
      "        lr = h2o.glm(x = data[[x]], y = data[y], family = \"gaussian\")\n",
      "        coeff = lr.coef()\n",
      "    df = data[[x,y]]\n",
      "    runif = df[y].runif()\n",
      "    df_subset = df[runif < float(max_points)/data.nrow]\n",
      "    df_py = h2o.as_list(df_subset)\n",
      "    \n",
      "    if(fit): h2o.remove(lr._id)\n",
      "\n",
      "    # If x variable is string, generate box-and-whisker plot\n",
      "    if(df_py[x].dtype == \"object\"):\n",
      "        if interactive: df_py.boxplot(column = y, by = x)\n",
      "    # Otherwise, generate a scatter plot\n",
      "    else:\n",
      "        if interactive: df_py.plot(x = x, y = y, kind = \"scatter\")\n",
      "    \n",
      "    if(fit):\n",
      "        x_min = min(df_py[x])\n",
      "        x_max = max(df_py[x])\n",
      "        y_min = coeff[\"Intercept\"] + coeff[x]*x_min\n",
      "        y_max = coeff[\"Intercept\"] + coeff[x]*x_max\n",
      "        plt.plot([x_min, x_max], [y_min, y_max], \"k-\")\n",
      "    if interactive: plt.show()\n",
      "\n",
      "scatter_plot(data, \"Distance\", \"AirTime\", fit = True)\n",
      "scatter_plot(data, \"UniqueCarrier\", \"ArrDelay\", max_points = 5000, fit = False)"
     ],
     "language": "python",
     "metadata": {},
     "outputs": [
      {
       "output_type": "stream",
       "stream": "stdout",
       "text": [
        "\n",
        "\r",
        "glm Model Build Progress: [                                                  ] 00%"
       ]
      },
      {
       "output_type": "stream",
       "stream": "stdout",
       "text": [
        "\r",
        "glm Model Build Progress: [##################################################] 100%"
       ]
      },
      {
       "output_type": "stream",
       "stream": "stdout",
       "text": [
        "\n"
       ]
      }
     ],
     "prompt_number": 5
    },
    {
     "cell_type": "code",
     "collapsed": false,
     "input": [
      "# Group flights by month\n",
      "grouped = data.group_by(\"Month\")\n",
      "bpd = grouped.count().sum(\"Cancelled\").get_frame()\n",
      "bpd.show()\n",
      "bpd.describe()\n",
      "bpd.dim\n",
      "\n",
      "# Convert columns to factors\n",
      "data[\"Year\"]      = data[\"Year\"]     .asfactor()\n",
      "data[\"Month\"]     = data[\"Month\"]    .asfactor()\n",
      "data[\"DayOfWeek\"] = data[\"DayOfWeek\"].asfactor()\n",
      "data[\"Cancelled\"] = data[\"Cancelled\"].asfactor()"
     ],
     "language": "python",
     "metadata": {},
     "outputs": [
      {
       "output_type": "stream",
       "stream": "stdout",
       "text": [
        "H2OFrame with 2 rows and 3 columns: \n",
        "   Month  sum_Cancelled  nrow_Year\n",
        "1     10             19       1999\n",
        "Rows: 2 Cols: 3\n",
        "  chunk_type                 chunk_name  count  count_percentage        size  \\\n",
        "0        C1N  1-Byte Integers (w/o NAs)      1         33.333336       70  B   \n",
        "1         C2            2-Byte Integers      1         33.333336       72  B   \n",
        "2        C2S           2-Byte Fractions      1         33.333336       88  B   \n",
        "\n",
        "   size_percentage  \n",
        "0        30.434782  \n",
        "1        31.304348  \n",
        "2        38.260868  \n",
        "                            size  number_of_rows  number_of_chunks_per_column  \\\n",
        "0  172.16.2.55:54321      230  B               2                            1   \n",
        "1               mean      230  B               2                            1   \n",
        "2                min      230  B               2                            1   \n",
        "3                max      230  B               2                            1   \n",
        "4             stddev        0  B               0                            0   \n",
        "5              total      230  B               2                            1   \n",
        "\n",
        "   number_of_chunks  \n",
        "0                 3  \n",
        "1                 3  \n",
        "2                 3  \n",
        "3                 3  \n",
        "4                 0  \n",
        "5                 3  \n",
        "\n",
        "Column-by-Column Summary:\n",
        "\n"
       ]
      },
      {
       "html": [
        "<div style=\"overflow:auto\"><table style=\"width:50%\"><tr><td></td>\n",
        "<td>Month</td>\n",
        "<td>sum_Cancelled</td>\n",
        "<td>nrow_Year</td></tr>\n",
        "<tr><td>type</td>\n",
        "<td>int</td>\n",
        "<td>int</td>\n",
        "<td>int</td></tr>\n",
        "<tr><td>mins</td>\n",
        "<td>1.0</td>\n",
        "<td>19.0</td>\n",
        "<td>1999.0</td></tr>\n",
        "<tr><td>maxs</td>\n",
        "<td>10.0</td>\n",
        "<td>1067.0</td>\n",
        "<td>41979.0</td></tr>\n",
        "<tr><td>sigma</td>\n",
        "<td>6.36396103068</td>\n",
        "<td>741.047906684</td>\n",
        "<td>28270.1291118</td></tr>\n",
        "<tr><td>zero_count</td>\n",
        "<td>0</td>\n",
        "<td>0</td>\n",
        "<td>0</td></tr>\n",
        "<tr><td>missing_count</td>\n",
        "<td>0</td>\n",
        "<td>0</td>\n",
        "<td>0</td></tr></table></div>"
       ],
       "metadata": {},
       "output_type": "display_data",
       "text": [
        "               Month          sum_Cancelled    nrow_Year\n",
        "-------------  -------------  ---------------  -------------\n",
        "type           int            int              int\n",
        "mins           1.0            19.0             1999.0\n",
        "maxs           10.0           1067.0           41979.0\n",
        "sigma          6.36396103068  741.047906684    28270.1291118\n",
        "zero_count     0              0                0\n",
        "missing_count  0              0                0"
       ]
      }
     ],
     "prompt_number": 6
    },
    {
     "cell_type": "code",
     "collapsed": false,
     "input": [
      "# Calculate and plot travel time\n",
      "hour1 = data[\"CRSArrTime\"] / 100\n",
      "mins1 = data[\"CRSArrTime\"] % 100\n",
      "arrTime = hour1*60 + mins1\n",
      "\n",
      "hour2 = data[\"CRSDepTime\"] / 100\n",
      "mins2 = data[\"CRSDepTime\"] % 100\n",
      "depTime = hour2*60 + mins2\n",
      "\n",
      "# TODO: Replace this once list comprehension is supported. See PUBDEV-1286.\n",
      "# data[\"TravelTime\"] = [x if x > 0 else None for x in (arrTime - depTime)]\n",
      "data[\"TravelTime\"] = h2o.ifelse((arrTime-depTime) > 0, (arrTime-depTime), h2o.H2OFrame(python_obj=[[None] for r in range(data.nrow)]))[0]\n",
      "scatter_plot(data, \"Distance\", \"TravelTime\")"
     ],
     "language": "python",
     "metadata": {},
     "outputs": [
      {
       "output_type": "stream",
       "stream": "stdout",
       "text": [
        "\n",
        "\r",
        "Parse Progress: [                                                  ] 00%"
       ]
      },
      {
       "output_type": "stream",
       "stream": "stdout",
       "text": [
        "\r",
        "Parse Progress: [##################################################] 100%"
       ]
      },
      {
       "output_type": "stream",
       "stream": "stdout",
       "text": [
        "\n",
        "Uploaded pyce3efc01-bcc8-468c-9c9a-94850a21eb56 into cluster with 43,978 rows and 1 cols\n",
        "\n"
       ]
      },
      {
       "output_type": "stream",
       "stream": "stdout",
       "text": [
        "\r",
        "glm Model Build Progress: [                                                  ] 00%"
       ]
      },
      {
       "output_type": "stream",
       "stream": "stdout",
       "text": [
        "\r",
        "glm Model Build Progress: [##################################################] 100%"
       ]
      },
      {
       "output_type": "stream",
       "stream": "stdout",
       "text": [
        "\n"
       ]
      }
     ],
     "prompt_number": 7
    },
    {
     "cell_type": "code",
     "collapsed": false,
     "input": [
      "# Impute missing travel times and re-plot\n",
      "data.impute(column = \"Distance\", by = [data.col_names.index('Origin'), data.col_names.index('Dest')])\n",
      "scatter_plot(data, \"Distance\", \"TravelTime\")"
     ],
     "language": "python",
     "metadata": {},
     "outputs": [
      {
       "output_type": "stream",
       "stream": "stdout",
       "text": [
        "\n",
        "\r",
        "glm Model Build Progress: [                                                  ] 00%"
       ]
      },
      {
       "output_type": "stream",
       "stream": "stdout",
       "text": [
        "\r",
        "glm Model Build Progress: [##################################################] 100%"
       ]
      },
      {
       "output_type": "stream",
       "stream": "stdout",
       "text": [
        "\n"
       ]
      }
     ],
     "prompt_number": 8
    },
    {
     "cell_type": "code",
     "collapsed": false,
     "input": [
      "# ----------\n",
      "# 3- Fit a model on train; using test as validation\n",
      "\n",
      "# Create test/train split\n",
      "s = data[\"Year\"].runif()\n",
      "train = data[s <= 0.75]\n",
      "test  = data[s > 0.75]\n",
      "\n",
      "# Set predictor and response variables\n",
      "myY = \"IsDepDelayed\"\n",
      "myX = [\"Origin\", \"Dest\", \"Year\", \"UniqueCarrier\", \"DayOfWeek\", \"Month\", \"Distance\", \"FlightNum\"]\n",
      "\n",
      "# Simple GLM - Predict Delays\n",
      "data_glm = h2o.glm(x           =train[myX],\n",
      "                   y           =train[myY],\n",
      "                   validation_x=test [myX],\n",
      "                   validation_y=test [myY],\n",
      "                   family      =\"binomial\",\n",
      "                   standardize =True)\n",
      "\n",
      "# Simple GBM\n",
      "data_gbm = h2o.gbm(x              =train[myX],\n",
      "                   y              =train[myY],\n",
      "                   validation_x   =test [myX],\n",
      "                   validation_y   =test [myY],\n",
      "                   balance_classes=True,\n",
      "                   ntrees         =3,\n",
      "                   max_depth      =1,\n",
      "                   distribution   =\"bernoulli\",\n",
      "                   learn_rate     =0.1,\n",
      "                   min_rows       =2)\n",
      "\n",
      "# Complex GBM\n",
      "data_gbm2 = h2o.gbm(x              =train[myX],\n",
      "                    y              =train[myY],\n",
      "                    validation_x   =test [myX],\n",
      "                    validation_y   =test [myY],\n",
      "                    balance_classes=True,\n",
      "                    ntrees         =50,\n",
      "                    max_depth      =5,\n",
      "                    distribution   =\"bernoulli\",\n",
      "                    learn_rate     =0.1,\n",
      "                    min_rows       =2)\n",
      "\n",
      "# Simple Random Forest\n",
      "data_rf = h2o.random_forest(x              =train[myX],\n",
      "                            y              =train[myY],\n",
      "                            validation_x   =test [myX],\n",
      "                            validation_y   =test [myY],\n",
      "                            ntrees         =5,\n",
      "                            max_depth      =2,\n",
      "                            balance_classes=True)\n",
      "\n",
      "# Complex Random Forest\n",
      "data_rf2 = h2o.random_forest(x              =train[myX], \n",
      "                             y              =train[myY],\n",
      "                             validation_x   =test [myX],\n",
      "                             validation_y   =test [myY],\n",
      "                             ntrees         =10,\n",
      "                             max_depth      =5,\n",
      "                             balance_classes=True)\n",
      "\n",
      "# Deep Learning with 5 epochs\n",
      "data_dl = h2o.deeplearning(x                   =train[myX],\n",
      "                           y                   =train[myY],\n",
      "                           validation_x        =test [myX],\n",
      "                           validation_y        =test [myY],\n",
      "                           hidden              =[10,10],\n",
      "                           epochs              =5,\n",
      "                           variable_importances=True,\n",
      "                           balance_classes     =True,\n",
      "                           loss                =\"Automatic\")"
     ],
     "language": "python",
     "metadata": {},
     "outputs": [
      {
       "output_type": "stream",
       "stream": "stdout",
       "text": [
        "\n",
        "\r",
        "glm Model Build Progress: [                                                  ] 00%"
       ]
      },
      {
       "output_type": "stream",
       "stream": "stdout",
       "text": [
        "\r",
        "glm Model Build Progress: [####                                              ] 08%"
       ]
      },
      {
       "output_type": "stream",
       "stream": "stdout",
       "text": [
        "\r",
        "glm Model Build Progress: [##################################################] 100%"
       ]
      },
      {
       "output_type": "stream",
       "stream": "stdout",
       "text": [
        "\n",
        "\n"
       ]
      },
      {
       "output_type": "stream",
       "stream": "stdout",
       "text": [
        "\r",
        "gbm Model Build Progress: [                                                  ] 00%"
       ]
      },
      {
       "output_type": "stream",
       "stream": "stdout",
       "text": [
        "\r",
        "gbm Model Build Progress: [##################################################] 100%"
       ]
      },
      {
       "output_type": "stream",
       "stream": "stdout",
       "text": [
        "\n",
        "\n"
       ]
      },
      {
       "output_type": "stream",
       "stream": "stdout",
       "text": [
        "\r",
        "gbm Model Build Progress: [                                                  ] 00%"
       ]
      },
      {
       "output_type": "stream",
       "stream": "stdout",
       "text": [
        "\r",
        "gbm Model Build Progress: [####                                              ] 08%"
       ]
      },
      {
       "output_type": "stream",
       "stream": "stdout",
       "text": [
        "\r",
        "gbm Model Build Progress: [##########                                        ] 20%"
       ]
      },
      {
       "output_type": "stream",
       "stream": "stdout",
       "text": [
        "\r",
        "gbm Model Build Progress: [#################                                 ] 34%"
       ]
      },
      {
       "output_type": "stream",
       "stream": "stdout",
       "text": [
        "\r",
        "gbm Model Build Progress: [########################                          ] 48%"
       ]
      },
      {
       "output_type": "stream",
       "stream": "stdout",
       "text": [
        "\r",
        "gbm Model Build Progress: [###############################                   ] 62%"
       ]
      },
      {
       "output_type": "stream",
       "stream": "stdout",
       "text": [
        "\r",
        "gbm Model Build Progress: [#######################################           ] 78%"
       ]
      },
      {
       "output_type": "stream",
       "stream": "stdout",
       "text": [
        "\r",
        "gbm Model Build Progress: [###############################################   ] 94%"
       ]
      },
      {
       "output_type": "stream",
       "stream": "stdout",
       "text": [
        "\r",
        "gbm Model Build Progress: [##################################################] 100%"
       ]
      },
      {
       "output_type": "stream",
       "stream": "stdout",
       "text": [
        "\n",
        "\n"
       ]
      },
      {
       "output_type": "stream",
       "stream": "stdout",
       "text": [
        "\r",
        "drf Model Build Progress: [                                                  ] 00%"
       ]
      },
      {
       "output_type": "stream",
       "stream": "stdout",
       "text": [
        "\r",
        "drf Model Build Progress: [##################################################] 100%"
       ]
      },
      {
       "output_type": "stream",
       "stream": "stdout",
       "text": [
        "\n",
        "\n"
       ]
      },
      {
       "output_type": "stream",
       "stream": "stdout",
       "text": [
        "\r",
        "drf Model Build Progress: [                                                  ] 00%"
       ]
      },
      {
       "output_type": "stream",
       "stream": "stdout",
       "text": [
        "\r",
        "drf Model Build Progress: [####################                              ] 40%"
       ]
      },
      {
       "output_type": "stream",
       "stream": "stdout",
       "text": [
        "\r",
        "drf Model Build Progress: [#############################################     ] 90%"
       ]
      },
      {
       "output_type": "stream",
       "stream": "stdout",
       "text": [
        "\r",
        "drf Model Build Progress: [##################################################] 100%"
       ]
      },
      {
       "output_type": "stream",
       "stream": "stdout",
       "text": [
        "\n",
        "\n"
       ]
      },
      {
       "output_type": "stream",
       "stream": "stdout",
       "text": [
        "\r",
        "deeplearning Model Build Progress: [                                                  ] 00%"
       ]
      },
      {
       "output_type": "stream",
       "stream": "stdout",
       "text": [
        "\r",
        "deeplearning Model Build Progress: [#####                                             ] 10%"
       ]
      },
      {
       "output_type": "stream",
       "stream": "stdout",
       "text": [
        "\r",
        "deeplearning Model Build Progress: [###############################                   ] 62%"
       ]
      },
      {
       "output_type": "stream",
       "stream": "stdout",
       "text": [
        "\r",
        "deeplearning Model Build Progress: [##################################################] 100%"
       ]
      },
      {
       "output_type": "stream",
       "stream": "stdout",
       "text": [
        "\n"
       ]
      }
     ],
     "prompt_number": 9
    },
    {
     "cell_type": "code",
     "collapsed": false,
     "input": [
      "# Variable importances from each algorithm\n",
      "# Calculate magnitude of normalized GLM coefficients\n",
      "glm_varimp = data_glm.coef_norm()\n",
      "for k,v in glm_varimp.iteritems():\n",
      "    glm_varimp[k] = abs(glm_varimp[k])\n",
      "    \n",
      "# Sort in descending order by magnitude\n",
      "glm_sorted = sorted(glm_varimp.items(), key = operator.itemgetter(1), reverse = True)\n",
      "table = tabulate(glm_sorted, headers = [\"Predictor\", \"Normalized Coefficient\"], tablefmt = \"orgtbl\")\n",
      "print \"Variable Importances:\\n\\n\" + table\n",
      "\n",
      "data_gbm.varimp()\n",
      "data_rf.varimp()"
     ],
     "language": "python",
     "metadata": {
      "scrolled": true
     },
     "outputs": [
      {
       "output_type": "stream",
       "stream": "stdout",
       "text": [
        "Variable Importances:\n",
        "\n",
        "| Predictor        |   Normalized Coefficient |\n",
        "|------------------+--------------------------|\n",
        "| Year.2008        |               2.20671    |\n",
        "| Origin.HPN       |               2.02778    |\n",
        "| Origin.LIH       |               1.68947    |\n",
        "| Origin.MDW       |               1.67236    |\n",
        "| Year.2003        |               1.59507    |\n",
        "| Dest.HTS         |               1.47985    |\n",
        "| Year.2007        |               1.42532    |\n",
        "| Origin.LEX       |               1.36909    |\n",
        "| Origin.TLH       |               1.31821    |\n",
        "| Origin.CHO       |               1.30648    |\n",
        "| Dest.LYH         |               1.29926    |\n",
        "| Origin.MYR       |               1.22151    |\n",
        "| Origin.HNL       |               1.21409    |\n",
        "| UniqueCarrier.HP |               1.16995    |\n",
        "| Origin.TRI       |               1.12125    |\n",
        "| UniqueCarrier.TW |               1.10971    |\n",
        "| Year.2001        |               1.06969    |\n",
        "| Origin.ATL       |               1.04819    |\n",
        "| Origin.ROA       |               1.02169    |\n",
        "| Origin.LBB       |               1.01558    |\n",
        "| Origin.ERI       |               1.01069    |\n",
        "| Origin.CAE       |               0.982248   |\n",
        "| Year.2002        |               0.953813   |\n",
        "| Year.2006        |               0.925453   |\n",
        "| Origin.JAX       |               0.911941   |\n",
        "| Origin.GRR       |               0.908179   |\n",
        "| Origin.OGG       |               0.891512   |\n",
        "| Year.2004        |               0.88119    |\n",
        "| Dest.TOL         |               0.866242   |\n",
        "| Dest.OGG         |               0.827835   |\n",
        "| Origin.ORD       |               0.827362   |\n",
        "| Origin.IAH       |               0.811059   |\n",
        "| Dest.ICT         |               0.801422   |\n",
        "| Year.1994        |               0.777237   |\n",
        "| Origin.BTV       |               0.767662   |\n",
        "| Dest.FLL         |               0.766591   |\n",
        "| Origin.MAF       |               0.758235   |\n",
        "| Origin.PSP       |               0.749628   |\n",
        "| Origin.SDF       |               0.743996   |\n",
        "| Origin.STL       |               0.740358   |\n",
        "| Origin.CRP       |               0.725826   |\n",
        "| Origin.MLB       |               0.722278   |\n",
        "| Origin.CMH       |               0.714456   |\n",
        "| Dest.LIH         |               0.711306   |\n",
        "| Origin.SRQ       |               0.711148   |\n",
        "| Dest.CAK         |               0.710064   |\n",
        "| Origin.PBI       |               0.702883   |\n",
        "| Origin.LYH       |               0.677379   |\n",
        "| Dest.CHO         |               0.677379   |\n",
        "| Dest.PSP         |               0.658618   |\n",
        "| Origin.EYW       |               0.642673   |\n",
        "| Origin.MSY       |               0.617813   |\n",
        "| Dest.ISP         |               0.610124   |\n",
        "| Origin.MIA       |               0.608606   |\n",
        "| Dest.PBI         |               0.604688   |\n",
        "| Year.1990        |               0.597513   |\n",
        "| Dest.IAH         |               0.592115   |\n",
        "| Origin.MRY       |               0.590806   |\n",
        "| Dest.PNS         |               0.580305   |\n",
        "| Origin.PIT       |               0.580178   |\n",
        "| Dest.DAY         |               0.573967   |\n",
        "| Origin.SAV       |               0.566912   |\n",
        "| Dest.ELM         |               0.565582   |\n",
        "| Origin.ICT       |               0.562918   |\n",
        "| Year.2005        |               0.55911    |\n",
        "| Year.1996        |               0.552454   |\n",
        "| Origin.ABE       |               0.551319   |\n",
        "| Dest.GSO         |               0.543489   |\n",
        "| Origin.AUS       |               0.539464   |\n",
        "| Dest.TPA         |               0.535685   |\n",
        "| Origin.GSO       |               0.534498   |\n",
        "| Origin.LAX       |               0.527544   |\n",
        "| Origin.ACY       |               0.525952   |\n",
        "| Origin.TUL       |               0.514235   |\n",
        "| Origin.TYS       |               0.512319   |\n",
        "| Dest.CHS         |               0.500722   |\n",
        "| Dest.BDL         |               0.498711   |\n",
        "| Dest.EYW         |               0.495633   |\n",
        "| Dest.IND         |               0.49084    |\n",
        "| Dest.KOA         |               0.483722   |\n",
        "| Origin.SYR       |               0.477603   |\n",
        "| Origin.BOI       |               0.474053   |\n",
        "| Dest.UCA         |               0.471952   |\n",
        "| Origin.DAY       |               0.466203   |\n",
        "| Origin.BDL       |               0.458321   |\n",
        "| Dest.BGM         |               0.451769   |\n",
        "| Origin.PWM       |               0.451453   |\n",
        "| Dest.FAY         |               0.44451    |\n",
        "| Year.1997        |               0.443941   |\n",
        "| Origin.OMA       |               0.440072   |\n",
        "| Origin.MCO       |               0.438778   |\n",
        "| UniqueCarrier.WN |               0.4332     |\n",
        "| Origin.PHL       |               0.429076   |\n",
        "| Origin.DFW       |               0.428704   |\n",
        "| Dest.OAJ         |               0.427032   |\n",
        "| Dest.GEG         |               0.424049   |\n",
        "| Dest.CLE         |               0.420419   |\n",
        "| Origin.IND       |               0.418733   |\n",
        "| Dest.MAF         |               0.411765   |\n",
        "| Dest.LBB         |               0.410158   |\n",
        "| Origin.BOS       |               0.409901   |\n",
        "| Origin.TUS       |               0.408712   |\n",
        "| Origin.STX       |               0.399125   |\n",
        "| Origin.AMA       |               0.398607   |\n",
        "| Dest.MCO         |               0.396074   |\n",
        "| Origin.DSM       |               0.39572    |\n",
        "| Dest.ABQ         |               0.394996   |\n",
        "| Origin.EGE       |               0.393109   |\n",
        "| Origin.MCI       |               0.387326   |\n",
        "| UniqueCarrier.PI |               0.386497   |\n",
        "| Dest.SFO         |               0.385455   |\n",
        "| Origin.LGA       |               0.38321    |\n",
        "| Dest.ALB         |               0.375054   |\n",
        "| Origin.ROC       |               0.370401   |\n",
        "| Origin.FLL       |               0.369038   |\n",
        "| Origin.SLC       |               0.366934   |\n",
        "| Dest.RIC         |               0.36551    |\n",
        "| Origin.BHM       |               0.351722   |\n",
        "| Origin.OAK       |               0.350418   |\n",
        "| Dest.CAE         |               0.350036   |\n",
        "| Origin.OKC       |               0.339625   |\n",
        "| UniqueCarrier.US |               0.338143   |\n",
        "| Dest.BUF         |               0.331768   |\n",
        "| Dest.SLC         |               0.330101   |\n",
        "| Dest.IAD         |               0.318049   |\n",
        "| Dest.JAX         |               0.316404   |\n",
        "| Origin.CRW       |               0.308111   |\n",
        "| Origin.ALB       |               0.307709   |\n",
        "| Origin.RNO       |               0.30632    |\n",
        "| Origin.DEN       |               0.298739   |\n",
        "| Dest.ORF         |               0.294672   |\n",
        "| Dest.HPN         |               0.293219   |\n",
        "| Dest.CMH         |               0.292714   |\n",
        "| Origin.BUF       |               0.290549   |\n",
        "| Dest.SWF         |               0.283952   |\n",
        "| Year.1992        |               0.282281   |\n",
        "| UniqueCarrier.CO |               0.281911   |\n",
        "| Origin.MEM       |               0.280352   |\n",
        "| Dest.PVD         |               0.278034   |\n",
        "| Year.1995        |               0.27317    |\n",
        "| Origin.SJC       |               0.270956   |\n",
        "| DayOfWeek.5      |               0.268846   |\n",
        "| Origin.PHF       |               0.260026   |\n",
        "| Dest.LAX         |               0.257351   |\n",
        "| Origin.SAN       |               0.256042   |\n",
        "| Origin.BWI       |               0.249909   |\n",
        "| Year.1991        |               0.245578   |\n",
        "| Dest.MKE         |               0.244979   |\n",
        "| Dest.BNA         |               0.244514   |\n",
        "| Dest.BUR         |               0.235888   |\n",
        "| Origin.JFK       |               0.234215   |\n",
        "| Origin.COS       |               0.23335    |\n",
        "| Origin.IAD       |               0.233289   |\n",
        "| Year.1998        |               0.227172   |\n",
        "| Origin.BUR       |               0.226122   |\n",
        "| Origin.CLT       |               0.22578    |\n",
        "| Dest.MYR         |               0.214836   |\n",
        "| Dest.OAK         |               0.213038   |\n",
        "| Dest.CLT         |               0.202889   |\n",
        "| Origin.CLE       |               0.202414   |\n",
        "| Month.1          |               0.202184   |\n",
        "| Month.10         |               0.199957   |\n",
        "| Year.1987        |               0.199957   |\n",
        "| Origin.SCK       |               0.199506   |\n",
        "| Origin.MDT       |               0.199239   |\n",
        "| Dest.SAT         |               0.196067   |\n",
        "| Dest.MIA         |               0.192425   |\n",
        "| Dest.TUL         |               0.18711    |\n",
        "| Dest.FAT         |               0.186176   |\n",
        "| Year.1989        |               0.182772   |\n",
        "| Origin.MKE       |               0.177379   |\n",
        "| Dest.SAN         |               0.175817   |\n",
        "| Distance         |               0.175125   |\n",
        "| Origin.TPA       |               0.174572   |\n",
        "| Origin.SMF       |               0.172641   |\n",
        "| Origin.HRL       |               0.169367   |\n",
        "| Dest.GRR         |               0.166879   |\n",
        "| Origin.MFR       |               0.166569   |\n",
        "| Year.1993        |               0.164933   |\n",
        "| Dest.LAS         |               0.163034   |\n",
        "| Dest.PWM         |               0.162095   |\n",
        "| DayOfWeek.4      |               0.157494   |\n",
        "| Dest.PHL         |               0.155473   |\n",
        "| DayOfWeek.6      |               0.1511     |\n",
        "| Dest.LIT         |               0.150417   |\n",
        "| Year.1999        |               0.149278   |\n",
        "| Dest.EUG         |               0.145003   |\n",
        "| UniqueCarrier.UA |               0.144713   |\n",
        "| Origin.RDU       |               0.143648   |\n",
        "| Dest.DFW         |               0.142651   |\n",
        "| Dest.CVG         |               0.139956   |\n",
        "| Origin.RIC       |               0.136931   |\n",
        "| Origin.JAN       |               0.132003   |\n",
        "| DayOfWeek.2      |               0.13161    |\n",
        "| Dest.RSW         |               0.131182   |\n",
        "| Origin.MSP       |               0.129756   |\n",
        "| Dest.SNA         |               0.12833    |\n",
        "| Dest.DTW         |               0.127779   |\n",
        "| Dest.PHX         |               0.127326   |\n",
        "| Dest.ORD         |               0.124819   |\n",
        "| Dest.HRL         |               0.124115   |\n",
        "| Origin.CVG       |               0.122506   |\n",
        "| Dest.DAL         |               0.122412   |\n",
        "| Dest.MCI         |               0.121651   |\n",
        "| Origin.SFO       |               0.120939   |\n",
        "| Dest.STL         |               0.120231   |\n",
        "| Origin.ELP       |               0.117768   |\n",
        "| Origin.BGM       |               0.117092   |\n",
        "| UniqueCarrier.AA |               0.111513   |\n",
        "| Origin.PHX       |               0.110859   |\n",
        "| Year.1988        |               0.109393   |\n",
        "| Origin.UCA       |               0.105541   |\n",
        "| Dest.MHT         |               0.0960041  |\n",
        "| Origin.DAL       |               0.0934778  |\n",
        "| Origin.EWR       |               0.0898355  |\n",
        "| Dest.SBN         |               0.086893   |\n",
        "| DayOfWeek.7      |               0.0868707  |\n",
        "| Dest.PDX         |               0.0851629  |\n",
        "| Origin.DTW       |               0.0835513  |\n",
        "| Dest.SYR         |               0.080242   |\n",
        "| Origin.SNA       |               0.0780126  |\n",
        "| Dest.MDT         |               0.0749635  |\n",
        "| Dest.TUS         |               0.0713357  |\n",
        "| Dest.BTV         |               0.0620076  |\n",
        "| Dest.AVP         |               0.0592458  |\n",
        "| Origin.PVD       |               0.0584806  |\n",
        "| Dest.ONT         |               0.052338   |\n",
        "| Origin.ORF       |               0.0495096  |\n",
        "| Origin.RSW       |               0.0477889  |\n",
        "| Origin.ABQ       |               0.0469152  |\n",
        "| Origin.BNA       |               0.0456533  |\n",
        "| Origin.LIT       |               0.0455974  |\n",
        "| Origin.LAS       |               0.042813   |\n",
        "| Dest.SDF         |               0.0425863  |\n",
        "| Origin.GEG       |               0.0425047  |\n",
        "| Dest.BWI         |               0.0409752  |\n",
        "| Dest.PIT         |               0.0394725  |\n",
        "| Intercept        |               0.0378102  |\n",
        "| FlightNum        |               0.0375627  |\n",
        "| Year.2000        |               0.0362184  |\n",
        "| Origin.SEA       |               0.0343884  |\n",
        "| Dest.LGA         |               0.0305324  |\n",
        "| Dest.ROA         |               0.0295526  |\n",
        "| Dest.DEN         |               0.0290336  |\n",
        "| Dest.RNO         |               0.0280912  |\n",
        "| Dest.DCA         |               0.0278754  |\n",
        "| Dest.OMA         |               0.0275741  |\n",
        "| Dest.HNL         |               0.0268775  |\n",
        "| Origin.PDX       |               0.0202539  |\n",
        "| DayOfWeek.3      |               0.0194174  |\n",
        "| Dest.EWR         |               0.0152289  |\n",
        "| Dest.GSP         |               0.0136837  |\n",
        "| Dest.SJC         |               0.00965721 |\n",
        "| Dest.ROC         |               0.00849146 |\n",
        "| Dest.BOS         |               0.00580201 |\n",
        "| Dest.OKC         |               0          |\n",
        "| Dest.ORH         |               0          |\n",
        "| Origin.ANC       |               0          |\n",
        "| Dest.SRQ         |               0          |\n",
        "| Dest.MRY         |               0          |\n",
        "| Dest.SJU         |               0          |\n",
        "| UniqueCarrier.DL |               0          |\n",
        "| Dest.MSP         |               0          |\n",
        "| Dest.MSY         |               0          |\n",
        "| Origin.AVP       |               0          |\n",
        "| Origin.SAT       |               0          |\n",
        "| Dest.DSM         |               0          |\n",
        "| Origin.ISP       |               0          |\n",
        "| Origin.LAN       |               0          |\n",
        "| Dest.AUS         |               0          |\n",
        "| Dest.ABE         |               0          |\n",
        "| Origin.KOA       |               0          |\n",
        "| Dest.JFK         |               0          |\n",
        "| Origin.DCA       |               0          |\n",
        "| Origin.HOU       |               0          |\n",
        "| Dest.ERI         |               0          |\n",
        "| Dest.ACY         |               0          |\n",
        "| Dest.FNT         |               0          |\n",
        "| Dest.CRP         |               0          |\n",
        "| Origin.CHS       |               0          |\n",
        "| Origin.ONT       |               0          |\n",
        "| Origin.MHT       |               0          |\n",
        "| Dest.JAN         |               0          |\n",
        "| Origin.STT       |               0          |\n",
        "| Dest.ELP         |               0          |\n",
        "| Dest.BHM         |               0          |\n",
        "| Dest.CHA         |               0          |\n",
        "| Origin.SBN       |               0          |\n",
        "| Origin.SJU       |               0          |\n",
        "| Dest.MDW         |               0          |\n",
        "| Origin.GNV       |               0          |\n",
        "| Dest.AMA         |               0          |\n",
        "| Dest.HOU         |               0          |\n",
        "| Dest.LEX         |               0          |\n",
        "| Dest.BOI         |               0          |\n",
        "| UniqueCarrier.PS |               0          |\n",
        "| Dest.ILM         |               0          |\n",
        "| Dest.ATL         |               0          |\n",
        "| Dest.AVL         |               0          |\n",
        "| Dest.PHF         |               0          |\n",
        "| Dest.ANC         |               0          |\n",
        "| Dest.RDU         |               0          |\n",
        "| DayOfWeek.1      |               0          |\n",
        "| Dest.STT         |               0          |\n",
        "| Origin.SWF       |               0          |\n",
        "| Dest.SEA         |               0          |\n",
        "| Dest.SMF         |               0          |\n",
        "| Dest.SCK         |               0          |\n",
        "| Origin.BIL       |               0          |\n",
        "| Dest.COS         |               0          |\n",
        "        variable  relative_importance  scaled_importance  percentage\n",
        "0           Year          1237.817017                  1           1\n",
        "1         Origin             0.000000                  0           0\n",
        "2           Dest             0.000000                  0           0\n",
        "3  UniqueCarrier             0.000000                  0           0\n",
        "4      DayOfWeek             0.000000                  0           0\n",
        "5          Month             0.000000                  0           0\n",
        "6       Distance             0.000000                  0           0\n",
        "7      FlightNum             0.000000                  0           0\n",
        "        variable  relative_importance  scaled_importance  percentage\n",
        "0           Year          1082.881470           1.000000    0.510050\n",
        "1         Origin           653.945435           0.603894    0.308016\n",
        "2           Dest           190.962967           0.176347    0.089946\n",
        "3       Distance            99.399971           0.091792    0.046819\n",
        "4  UniqueCarrier            66.674286           0.061571    0.031404\n",
        "5      DayOfWeek            18.398977           0.016991    0.008666\n",
        "6      FlightNum            10.824099           0.009996    0.005098\n",
        "7          Month             0.000000           0.000000    0.000000\n"
       ]
      }
     ],
     "prompt_number": 10
    },
    {
     "cell_type": "code",
     "collapsed": false,
     "input": [
      "# Model performance of GBM model on test data\n",
      "data_gbm2.model_performance(test)"
     ],
     "language": "python",
     "metadata": {
      "scrolled": false
     },
     "outputs": [
      {
       "output_type": "stream",
       "stream": "stdout",
       "text": [
        "\n",
        "ModelMetricsBinomial: gbm\n",
        "** Reported on test data. **\n",
        "\n",
        "MSE: 0.208390516125\n",
        "R^2: 0.163810003744\n",
        "LogLoss: 0.604379290822\n",
        "AUC: 0.734022666746\n",
        "Gini: 0.468045333492\n",
        "            NO   YES   Error               Rate\n",
        "0     NO  2370  2774  0.5393    (2774.0/5144.0)\n",
        "1    YES   956  4799  0.1661     (956.0/5755.0)\n",
        "2  Total  3326  7573  0.3422   (3730.0/10899.0)\n",
        "                       metric  threshold     value  idx\n",
        "0                      max f1   0.392974  0.720138  266\n",
        "1                      max f2   0.185312  0.849331  371\n",
        "2                max f0point5   0.533246  0.700163  197\n",
        "3                max accuracy   0.512502  0.679879  208\n",
        "4               max precision   0.962238  1.000000    0\n",
        "5            max absolute_MCC   0.518029  0.359431  205\n",
        "6  max min_per_class_accuracy   0.512502  0.678072  208\n"
       ]
      },
      {
       "metadata": {},
       "output_type": "pyout",
       "prompt_number": 11,
       "text": []
      }
     ],
     "prompt_number": 11
    }
   ],
   "metadata": {}
  }
 ]
}