{
 "metadata": {
  "name": "",
  "signature": "sha256:1f1462a4ce842eb7c991e3e25f22ce4fcff2101eeea812485d76a7c1d675abfb"
 },
 "nbformat": 3,
 "nbformat_minor": 0,
 "worksheets": [
  {
   "cells": [
    {
     "cell_type": "code",
     "collapsed": false,
     "input": [
      "import h2o"
     ],
     "language": "python",
     "metadata": {},
     "outputs": [],
     "prompt_number": 1
    },
    {
     "cell_type": "code",
     "collapsed": false,
     "input": [
      "h2o.init()"
     ],
     "language": "python",
     "metadata": {},
     "outputs": [
      {
       "html": [
        "<div style=\"overflow:auto\"><table style=\"width:50%\"><tr><td>H2O cluster uptime: </td>\n",
        "<td>43 seconds 843 milliseconds </td></tr>\n",
        "<tr><td>H2O cluster version: </td>\n",
        "<td>0.3.0.99999</td></tr>\n",
        "<tr><td>H2O cluster name: </td>\n",
        "<td>ece</td></tr>\n",
        "<tr><td>H2O cluster total nodes: </td>\n",
        "<td>1</td></tr>\n",
        "<tr><td>H2O cluster total memory: </td>\n",
        "<td>3.56 GB</td></tr>\n",
        "<tr><td>H2O cluster total cores: </td>\n",
        "<td>8</td></tr>\n",
        "<tr><td>H2O cluster allowed cores: </td>\n",
        "<td>8</td></tr>\n",
        "<tr><td>H2O cluster healthy: </td>\n",
        "<td>True</td></tr>\n",
        "<tr><td>H2O Connection ip: </td>\n",
        "<td>127.0.0.1</td></tr>\n",
        "<tr><td>H2O Connection port: </td>\n",
        "<td>54321</td></tr></table></div>"
       ],
       "metadata": {},
       "output_type": "display_data",
       "text": [
        "--------------------------  ---------------------------\n",
        "H2O cluster uptime:         43 seconds 843 milliseconds\n",
        "H2O cluster version:        0.3.0.99999\n",
        "H2O cluster name:           ece\n",
        "H2O cluster total nodes:    1\n",
        "H2O cluster total memory:   3.56 GB\n",
        "H2O cluster total cores:    8\n",
        "H2O cluster allowed cores:  8\n",
        "H2O cluster healthy:        True\n",
        "H2O Connection ip:          127.0.0.1\n",
        "H2O Connection port:        54321\n",
        "--------------------------  ---------------------------"
       ]
      }
     ],
     "prompt_number": 2
    },
    {
     "cell_type": "code",
     "collapsed": false,
     "input": [
      "#uploading data file to h2o\n",
      "air = h2o.import_frame(path=h2o.locate(\"smalldata/airlines/AirlinesTrain.csv.zip\"))"
     ],
     "language": "python",
     "metadata": {},
     "outputs": [
      {
       "output_type": "stream",
       "stream": "stdout",
       "text": [
        "\n",
        "\r",
        "Parse Progress: [                                                  ] 00%"
       ]
      },
      {
       "output_type": "stream",
       "stream": "stdout",
       "text": [
        "\r",
        "Parse Progress: [##################################################] 100%"
       ]
      },
      {
       "output_type": "stream",
       "stream": "stdout",
       "text": [
        "\n",
        "Imported  /Users/ece/0xdata/h2o-dev/smalldata/airlines/AirlinesTrain.csv.zip . Parsed 24,421 rows and 12 cols\n"
       ]
      }
     ],
     "prompt_number": 3
    },
    {
     "cell_type": "code",
     "collapsed": false,
     "input": [
      "# Constructing validation and train sets by sampling (20/80)\n",
      "# creating a column as tall as air.nrow()\n",
      "r = air[0].runif()\n",
      "air_train = air[r < 0.8]\n",
      "air_valid = air[r >= 0.8]\n",
      "\n",
      "myX = [\"Origin\", \"Dest\", \"Distance\", \"UniqueCarrier\", \"fMonth\", \"fDayofMonth\", \"fDayOfWeek\"]\n",
      "myY = \"IsDepDelayed\""
     ],
     "language": "python",
     "metadata": {},
     "outputs": [],
     "prompt_number": 4
    },
    {
     "cell_type": "code",
     "collapsed": false,
     "input": [
      "#gbm\n",
      "gbm = h2o.gbm(x=air_train[myX], \n",
      "              y=air_train[myY], \n",
      "              validation_x=air_valid[myX],\n",
      "              validation_y=air_valid[myY],\n",
      "              distribution=\"bernoulli\", \n",
      "              ntrees=100, \n",
      "              max_depth=3, \n",
      "              learn_rate=0.01)\n",
      "gbm.show()"
     ],
     "language": "python",
     "metadata": {},
     "outputs": [
      {
       "output_type": "stream",
       "stream": "stdout",
       "text": [
        "\n",
        "\r",
        "gbm Model Build Progress: [                                                  ] 00%"
       ]
      },
      {
       "output_type": "stream",
       "stream": "stdout",
       "text": [
        "\r",
        "gbm Model Build Progress: [                                                  ] 00%"
       ]
      },
      {
       "output_type": "stream",
       "stream": "stdout",
       "text": [
        "\r",
        "gbm Model Build Progress: [                                                  ] 01%"
       ]
      },
      {
       "output_type": "stream",
       "stream": "stdout",
       "text": [
        "\r",
        "gbm Model Build Progress: [#####                                             ] 10%"
       ]
      },
      {
       "output_type": "stream",
       "stream": "stdout",
       "text": [
        "\r",
        "gbm Model Build Progress: [###########                                       ] 23%"
       ]
      },
      {
       "output_type": "stream",
       "stream": "stdout",
       "text": [
        "\r",
        "gbm Model Build Progress: [##################                                ] 36%"
       ]
      },
      {
       "output_type": "stream",
       "stream": "stdout",
       "text": [
        "\r",
        "gbm Model Build Progress: [########################                          ] 49%"
       ]
      },
      {
       "output_type": "stream",
       "stream": "stdout",
       "text": [
        "\r",
        "gbm Model Build Progress: [##############################                    ] 60%"
       ]
      },
      {
       "output_type": "stream",
       "stream": "stdout",
       "text": [
        "\r",
        "gbm Model Build Progress: [####################################              ] 72%"
       ]
      },
      {
       "output_type": "stream",
       "stream": "stdout",
       "text": [
        "\r",
        "gbm Model Build Progress: [##################################################] 100%"
       ]
      },
      {
       "output_type": "stream",
       "stream": "stdout",
       "text": [
        "\n",
        "Model Details"
       ]
      },
      {
       "output_type": "stream",
       "stream": "stdout",
       "text": [
        "\n",
        "=============\n",
        "H2OBinomialModel :  Gradient Boosting Machine\n",
        "Model Key:  GBMModel__a9f9e295e41fa1df7f4b26a1143e451f\n",
        "\n",
        "Model Summary:\n",
        "\n"
       ]
      },
      {
       "html": [
        "<div style=\"overflow:auto\"><table style=\"width:50%\"><tr><td></td>\n",
        "<td>number_of_trees</td>\n",
        "<td>model_size_in_bytes</td>\n",
        "<td>min_depth</td>\n",
        "<td>max_depth</td>\n",
        "<td>mean_depth</td>\n",
        "<td>min_leaves</td>\n",
        "<td>max_leaves</td>\n",
        "<td>mean_leaves</td></tr>\n",
        "<tr><td></td>\n",
        "<td>100.0</td>\n",
        "<td>1144377.0</td>\n",
        "<td>3.0</td>\n",
        "<td>3.0</td>\n",
        "<td>3.0</td>\n",
        "<td>8.0</td>\n",
        "<td>8.0</td>\n",
        "<td>8.0</td></tr></table></div>"
       ],
       "metadata": {},
       "output_type": "display_data",
       "text": [
        "    number_of_trees    model_size_in_bytes    min_depth    max_depth    mean_depth    min_leaves    max_leaves    mean_leaves\n",
        "--  -----------------  ---------------------  -----------  -----------  ------------  ------------  ------------  -------------\n",
        "    100                1.14438e+06            3            3            3             8             8             8"
       ]
      },
      {
       "output_type": "stream",
       "stream": "stdout",
       "text": [
        "\n",
        "\n",
        "ModelMetricsBinomial: gbm\n",
        "** Reported on train data. **\n",
        "\n",
        "MSE: 0.225901795121\n",
        "R^2: 0.0885210074958\n",
        "LogLoss: 0.643851810927\n",
        "AUC: 0.697480535136\n",
        "Gini: 0.394961070271\n",
        "\n",
        "Confusion Matrix (Act/Pred) for max f1 @ threshold = 0.448895673462:\n",
        "\n"
       ]
      },
      {
       "html": [
        "<div style=\"overflow:auto\"><table style=\"width:50%\"><tr><td></td>\n",
        "<td>NO</td>\n",
        "<td>YES</td>\n",
        "<td>Error</td>\n",
        "<td>Rate</td></tr>\n",
        "<tr><td>NO</td>\n",
        "<td>2308.0</td>\n",
        "<td>6565.0</td>\n",
        "<td>0.7399</td>\n",
        "<td> (6565.0/8873.0)</td></tr>\n",
        "<tr><td>YES</td>\n",
        "<td>909.0</td>\n",
        "<td>9788.0</td>\n",
        "<td>0.085</td>\n",
        "<td> (909.0/10697.0)</td></tr>\n",
        "<tr><td>Total</td>\n",
        "<td>3217.0</td>\n",
        "<td>16353.0</td>\n",
        "<td>0.8249</td>\n",
        "<td> (0.8249/19570.0)</td></tr></table></div>"
       ],
       "metadata": {},
       "output_type": "display_data",
       "text": [
        "       NO    YES    Error    Rate\n",
        "-----  ----  -----  -------  ----------------\n",
        "NO     2308  6565   0.7399   (6565.0/8873.0)\n",
        "YES    909   9788   0.085    (909.0/10697.0)\n",
        "Total  3217  16353  0.8249   (0.8249/19570.0)"
       ]
      },
      {
       "output_type": "stream",
       "stream": "stdout",
       "text": [
        "\n",
        "Maximum Metrics:\n",
        "\n"
       ]
      },
      {
       "html": [
        "<div style=\"overflow:auto\"><table style=\"width:50%\"><tr><td>metric</td>\n",
        "<td>threshold</td>\n",
        "<td>value</td>\n",
        "<td>idx</td></tr>\n",
        "<tr><td>f1</td>\n",
        "<td>0.448895673462</td>\n",
        "<td>0.723696857671</td>\n",
        "<td>354.0</td></tr>\n",
        "<tr><td>f2</td>\n",
        "<td>0.387820874452</td>\n",
        "<td>0.858320295489</td>\n",
        "<td>393.0</td></tr>\n",
        "<tr><td>f0point5</td>\n",
        "<td>0.554338706753</td>\n",
        "<td>0.681512309253</td>\n",
        "<td>210.0</td></tr>\n",
        "<tr><td>accuracy</td>\n",
        "<td>0.535943115334</td>\n",
        "<td>0.653244762391</td>\n",
        "<td>244.0</td></tr>\n",
        "<tr><td>precision</td>\n",
        "<td>0.686460559008</td>\n",
        "<td>0.911392405063</td>\n",
        "<td>3.0</td></tr>\n",
        "<tr><td>absolute_MCC</td>\n",
        "<td>0.537671451161</td>\n",
        "<td>0.297631297909</td>\n",
        "<td>241.0</td></tr>\n",
        "<tr><td>min_per_class_accuracy</td>\n",
        "<td>0.545228871874</td>\n",
        "<td>0.645441226192</td>\n",
        "<td>228.0</td></tr>\n",
        "<tr><td>tns</td>\n",
        "<td>0.6883641729</td>\n",
        "<td>8856.0</td>\n",
        "<td>0.0</td></tr>\n",
        "<tr><td>fns</td>\n",
        "<td>0.6883641729</td>\n",
        "<td>10546.0</td>\n",
        "<td>0.0</td></tr>\n",
        "<tr><td>fps</td>\n",
        "<td>0.381860756773</td>\n",
        "<td>8873.0</td>\n",
        "<td>399.0</td></tr>\n",
        "<tr><td>tps</td>\n",
        "<td>0.381860756773</td>\n",
        "<td>10697.0</td>\n",
        "<td>399.0</td></tr>\n",
        "<tr><td>tnr</td>\n",
        "<td>0.6883641729</td>\n",
        "<td>0.998084075285</td>\n",
        "<td>0.0</td></tr>\n",
        "<tr><td>fnr</td>\n",
        "<td>0.6883641729</td>\n",
        "<td>0.98588389268</td>\n",
        "<td>0.0</td></tr>\n",
        "<tr><td>fpr</td>\n",
        "<td>0.381860756773</td>\n",
        "<td>1.0</td>\n",
        "<td>399.0</td></tr>\n",
        "<tr><td>tpr</td>\n",
        "<td>0.381860756773</td>\n",
        "<td>1.0</td>\n",
        "<td>399.0</td></tr></table></div>"
       ],
       "metadata": {},
       "output_type": "display_data",
       "text": [
        "metric                  threshold    value     idx\n",
        "----------------------  -----------  --------  -----\n",
        "f1                      0.448896     0.723697  354\n",
        "f2                      0.387821     0.85832   393\n",
        "f0point5                0.554339     0.681512  210\n",
        "accuracy                0.535943     0.653245  244\n",
        "precision               0.686461     0.911392  3\n",
        "absolute_MCC            0.537671     0.297631  241\n",
        "min_per_class_accuracy  0.545229     0.645441  228\n",
        "tns                     0.688364     8856      0\n",
        "fns                     0.688364     10546     0\n",
        "fps                     0.381861     8873      399\n",
        "tps                     0.381861     10697     399\n",
        "tnr                     0.688364     0.998084  0\n",
        "fnr                     0.688364     0.985884  0\n",
        "fpr                     0.381861     1         399\n",
        "tpr                     0.381861     1         399"
       ]
      },
      {
       "output_type": "stream",
       "stream": "stdout",
       "text": [
        "\n",
        "ModelMetricsBinomial: gbm\n",
        "** Reported on validation data. **\n",
        "\n",
        "MSE: 0.226146849348\n",
        "R^2: 0.0872119484068\n",
        "LogLoss: 0.644372387246\n",
        "AUC: 0.694383713553\n",
        "Gini: 0.388767427107\n",
        "\n",
        "Confusion Matrix (Act/Pred) for max f1 @ threshold = 0.443636602835:\n",
        "\n"
       ]
      },
      {
       "html": [
        "<div style=\"overflow:auto\"><table style=\"width:50%\"><tr><td></td>\n",
        "<td>NO</td>\n",
        "<td>YES</td>\n",
        "<td>Error</td>\n",
        "<td>Rate</td></tr>\n",
        "<tr><td>NO</td>\n",
        "<td>546.0</td>\n",
        "<td>1647.0</td>\n",
        "<td>0.751</td>\n",
        "<td> (1647.0/2193.0)</td></tr>\n",
        "<tr><td>YES</td>\n",
        "<td>207.0</td>\n",
        "<td>2451.0</td>\n",
        "<td>0.0779</td>\n",
        "<td> (207.0/2658.0)</td></tr>\n",
        "<tr><td>Total</td>\n",
        "<td>753.0</td>\n",
        "<td>4098.0</td>\n",
        "<td>0.8289</td>\n",
        "<td> (0.8289/4851.0)</td></tr></table></div>"
       ],
       "metadata": {},
       "output_type": "display_data",
       "text": [
        "       NO    YES    Error    Rate\n",
        "-----  ----  -----  -------  ---------------\n",
        "NO     546   1647   0.751    (1647.0/2193.0)\n",
        "YES    207   2451   0.0779   (207.0/2658.0)\n",
        "Total  753   4098   0.8289   (0.8289/4851.0)"
       ]
      },
      {
       "output_type": "stream",
       "stream": "stdout",
       "text": [
        "\n",
        "Maximum Metrics:\n",
        "\n"
       ]
      },
      {
       "html": [
        "<div style=\"overflow:auto\"><table style=\"width:50%\"><tr><td>metric</td>\n",
        "<td>threshold</td>\n",
        "<td>value</td>\n",
        "<td>idx</td></tr>\n",
        "<tr><td>f1</td>\n",
        "<td>0.443636602835</td>\n",
        "<td>0.725577264654</td>\n",
        "<td>357.0</td></tr>\n",
        "<tr><td>f2</td>\n",
        "<td>0.387810866129</td>\n",
        "<td>0.8593699253</td>\n",
        "<td>393.0</td></tr>\n",
        "<tr><td>f0point5</td>\n",
        "<td>0.522615332784</td>\n",
        "<td>0.681308673112</td>\n",
        "<td>264.0</td></tr>\n",
        "<tr><td>accuracy</td>\n",
        "<td>0.522615332784</td>\n",
        "<td>0.655328798186</td>\n",
        "<td>264.0</td></tr>\n",
        "<tr><td>precision</td>\n",
        "<td>0.675362305303</td>\n",
        "<td>0.848249027237</td>\n",
        "<td>17.0</td></tr>\n",
        "<tr><td>absolute_MCC</td>\n",
        "<td>0.522615332784</td>\n",
        "<td>0.298972372543</td>\n",
        "<td>264.0</td></tr>\n",
        "<tr><td>min_per_class_accuracy</td>\n",
        "<td>0.542920470893</td>\n",
        "<td>0.639306885545</td>\n",
        "<td>231.0</td></tr>\n",
        "<tr><td>tns</td>\n",
        "<td>0.688364162319</td>\n",
        "<td>2186.0</td>\n",
        "<td>0.0</td></tr>\n",
        "<tr><td>fns</td>\n",
        "<td>0.688364162319</td>\n",
        "<td>2627.0</td>\n",
        "<td>0.0</td></tr>\n",
        "<tr><td>fps</td>\n",
        "<td>0.381860762332</td>\n",
        "<td>2193.0</td>\n",
        "<td>399.0</td></tr>\n",
        "<tr><td>tps</td>\n",
        "<td>0.381860762332</td>\n",
        "<td>2658.0</td>\n",
        "<td>399.0</td></tr>\n",
        "<tr><td>tnr</td>\n",
        "<td>0.688364162319</td>\n",
        "<td>0.996808025536</td>\n",
        "<td>0.0</td></tr>\n",
        "<tr><td>fnr</td>\n",
        "<td>0.688364162319</td>\n",
        "<td>0.988337095561</td>\n",
        "<td>0.0</td></tr>\n",
        "<tr><td>fpr</td>\n",
        "<td>0.381860762332</td>\n",
        "<td>1.0</td>\n",
        "<td>399.0</td></tr>\n",
        "<tr><td>tpr</td>\n",
        "<td>0.381860762332</td>\n",
        "<td>1.0</td>\n",
        "<td>399.0</td></tr></table></div>"
       ],
       "metadata": {},
       "output_type": "display_data",
       "text": [
        "metric                  threshold    value     idx\n",
        "----------------------  -----------  --------  -----\n",
        "f1                      0.443637     0.725577  357\n",
        "f2                      0.387811     0.85937   393\n",
        "f0point5                0.522615     0.681309  264\n",
        "accuracy                0.522615     0.655329  264\n",
        "precision               0.675362     0.848249  17\n",
        "absolute_MCC            0.522615     0.298972  264\n",
        "min_per_class_accuracy  0.54292      0.639307  231\n",
        "tns                     0.688364     2186      0\n",
        "fns                     0.688364     2627      0\n",
        "fps                     0.381861     2193      399\n",
        "tps                     0.381861     2658      399\n",
        "tnr                     0.688364     0.996808  0\n",
        "fnr                     0.688364     0.988337  0\n",
        "fpr                     0.381861     1         399\n",
        "tpr                     0.381861     1         399"
       ]
      },
      {
       "output_type": "stream",
       "stream": "stdout",
       "text": [
        "\n",
        "Scoring History:\n",
        "\n"
       ]
      },
      {
       "html": [
        "<div style=\"overflow:auto\"><table style=\"width:50%\"><tr><td></td>\n",
        "<td>timestamp</td>\n",
        "<td>duration</td>\n",
        "<td>number_of_trees</td>\n",
        "<td>training_MSE</td>\n",
        "<td>validation_MSE</td></tr>\n",
        "<tr><td></td>\n",
        "<td>2015-05-15 12:19:01</td>\n",
        "<td> 0.334 sec</td>\n",
        "<td>1.0</td>\n",
        "<td>0.247409731</td>\n",
        "<td>0.247276637285</td></tr>\n",
        "<tr><td></td>\n",
        "<td>2015-05-15 12:19:01</td>\n",
        "<td> 0.432 sec</td>\n",
        "<td>2.0</td>\n",
        "<td>0.247008833835</td>\n",
        "<td>0.246869044288</td></tr>\n",
        "<tr><td></td>\n",
        "<td>2015-05-15 12:19:01</td>\n",
        "<td> 0.485 sec</td>\n",
        "<td>3.0</td>\n",
        "<td>0.246602361985</td>\n",
        "<td>0.246453688905</td></tr>\n",
        "<tr><td></td>\n",
        "<td>2015-05-15 12:19:01</td>\n",
        "<td> 0.517 sec</td>\n",
        "<td>4.0</td>\n",
        "<td>0.246212274765</td>\n",
        "<td>0.24605442081</td></tr>\n",
        "<tr><td></td>\n",
        "<td>2015-05-15 12:19:01</td>\n",
        "<td> 0.548 sec</td>\n",
        "<td>5.0</td>\n",
        "<td>0.245843605533</td>\n",
        "<td>0.245680977316</td></tr>\n",
        "<tr><td>---</td>\n",
        "<td>---</td>\n",
        "<td>---</td>\n",
        "<td>---</td>\n",
        "<td>---</td>\n",
        "<td>---</td></tr>\n",
        "<tr><td></td>\n",
        "<td>2015-05-15 12:19:05</td>\n",
        "<td> 4.307 sec</td>\n",
        "<td>96.0</td>\n",
        "<td>nan</td>\n",
        "<td>nan</td></tr>\n",
        "<tr><td></td>\n",
        "<td>2015-05-15 12:19:05</td>\n",
        "<td> 4.316 sec</td>\n",
        "<td>97.0</td>\n",
        "<td>nan</td>\n",
        "<td>nan</td></tr>\n",
        "<tr><td></td>\n",
        "<td>2015-05-15 12:19:05</td>\n",
        "<td> 4.326 sec</td>\n",
        "<td>98.0</td>\n",
        "<td>nan</td>\n",
        "<td>nan</td></tr>\n",
        "<tr><td></td>\n",
        "<td>2015-05-15 12:19:05</td>\n",
        "<td> 4.335 sec</td>\n",
        "<td>99.0</td>\n",
        "<td>nan</td>\n",
        "<td>nan</td></tr>\n",
        "<tr><td></td>\n",
        "<td>2015-05-15 12:19:05</td>\n",
        "<td> 4.345 sec</td>\n",
        "<td>100.0</td>\n",
        "<td>0.225901795121</td>\n",
        "<td>0.226146849348</td></tr></table></div>"
       ],
       "metadata": {},
       "output_type": "display_data",
       "text": [
        "     timestamp            duration    number_of_trees    training_MSE    validation_MSE\n",
        "---  -------------------  ----------  -----------------  --------------  ----------------\n",
        "     2015-05-15 12:19:01  0.334 sec   1.0                0.247409731     0.247276637285\n",
        "     2015-05-15 12:19:01  0.432 sec   2.0                0.247008833835  0.246869044288\n",
        "     2015-05-15 12:19:01  0.485 sec   3.0                0.246602361985  0.246453688905\n",
        "     2015-05-15 12:19:01  0.517 sec   4.0                0.246212274765  0.24605442081\n",
        "     2015-05-15 12:19:01  0.548 sec   5.0                0.245843605533  0.245680977316\n",
        "---  ---                  ---         ---                ---             ---\n",
        "     2015-05-15 12:19:05  4.307 sec   96.0               nan             nan\n",
        "     2015-05-15 12:19:05  4.316 sec   97.0               nan             nan\n",
        "     2015-05-15 12:19:05  4.326 sec   98.0               nan             nan\n",
        "     2015-05-15 12:19:05  4.335 sec   99.0               nan             nan\n",
        "     2015-05-15 12:19:05  4.345 sec   100.0              0.225901795121  0.226146849348"
       ]
      },
      {
       "output_type": "stream",
       "stream": "stdout",
       "text": [
        "\n",
        "Variable Importances:\n",
        "\n"
       ]
      },
      {
       "html": [
        "<div style=\"overflow:auto\"><table style=\"width:50%\"><tr><td>variable</td>\n",
        "<td>relative_importance</td>\n",
        "<td>scaled_importance</td>\n",
        "<td>percentage</td></tr>\n",
        "<tr><td>Origin</td>\n",
        "<td>17064.8144531</td>\n",
        "<td>1.0</td>\n",
        "<td>0.696660489717</td></tr>\n",
        "<tr><td>Dest</td>\n",
        "<td>4773.95458984</td>\n",
        "<td>0.279754262958</td>\n",
        "<td>0.194893741832</td></tr>\n",
        "<tr><td>UniqueCarrier</td>\n",
        "<td>1467.09020996</td>\n",
        "<td>0.0859716473326</td>\n",
        "<td>0.0598930499325</td></tr>\n",
        "<tr><td>fDayofMonth</td>\n",
        "<td>1101.00085449</td>\n",
        "<td>0.0645187709199</td>\n",
        "<td>0.044947678545</td></tr>\n",
        "<tr><td>fMonth</td>\n",
        "<td>88.3060531616</td>\n",
        "<td>0.00517474440781</td>\n",
        "<td>0.0036050399733</td></tr>\n",
        "<tr><td>Distance</td>\n",
        "<td>0.0</td>\n",
        "<td>0.0</td>\n",
        "<td>0.0</td></tr>\n",
        "<tr><td>fDayOfWeek</td>\n",
        "<td>0.0</td>\n",
        "<td>0.0</td>\n",
        "<td>0.0</td></tr></table></div>"
       ],
       "metadata": {},
       "output_type": "display_data",
       "text": [
        "variable       relative_importance    scaled_importance    percentage\n",
        "-------------  ---------------------  -------------------  ------------\n",
        "Origin         17064.8                1                    0.69666\n",
        "Dest           4773.95                0.279754             0.194894\n",
        "UniqueCarrier  1467.09                0.0859716            0.059893\n",
        "fDayofMonth    1101                   0.0645188            0.0449477\n",
        "fMonth         88.3061                0.00517474           0.00360504\n",
        "Distance       0                      0                    0\n",
        "fDayOfWeek     0                      0                    0"
       ]
      }
     ],
     "prompt_number": 5
    },
    {
     "cell_type": "code",
     "collapsed": false,
     "input": [
      "#glm\n",
      "glm = h2o.glm(x=air_train[myX], \n",
      "              y=air_train[myY],\n",
      "              validation_x=air_valid[myX],\n",
      "              validation_y=air_valid[myY],\n",
      "              family = \"binomial\", \n",
      "              solver=\"L_BFGS\")\n",
      "glm.pprint_coef()\n",
      "    "
     ],
     "language": "python",
     "metadata": {},
     "outputs": [
      {
       "output_type": "stream",
       "stream": "stdout",
       "text": [
        "\n",
        "\r",
        "glm Model Build Progress: [                                                  ] 00%"
       ]
      },
      {
       "output_type": "stream",
       "stream": "stdout",
       "text": [
        "\r",
        "glm Model Build Progress: [                                                  ] 00%"
       ]
      },
      {
       "output_type": "stream",
       "stream": "stdout",
       "text": [
        "\r",
        "glm Model Build Progress: [######                                            ] 12%"
       ]
      },
      {
       "output_type": "stream",
       "stream": "stdout",
       "text": [
        "\r",
        "glm Model Build Progress: [##################################################] 100%"
       ]
      },
      {
       "output_type": "stream",
       "stream": "stdout",
       "text": [
        "\n",
        "\n"
       ]
      },
      {
       "output_type": "stream",
       "stream": "stdout",
       "text": [
        "Coefficients:\n",
        "\n"
       ]
      },
      {
       "html": [
        "<div style=\"overflow:auto\"><table style=\"width:50%\"><tr><td>names</td>\n",
        "<td>coefficients</td>\n",
        "<td>standardized_coefficients</td></tr>\n",
        "<tr><td>Intercept</td>\n",
        "<td>0.00810196382328</td>\n",
        "<td>0.17469195795</td></tr>\n",
        "<tr><td>Origin.ABE</td>\n",
        "<td>-0.0147077653025</td>\n",
        "<td>-0.0147077653025</td></tr>\n",
        "<tr><td>Origin.ABQ</td>\n",
        "<td>-0.0647411613859</td>\n",
        "<td>-0.0647411613859</td></tr>\n",
        "<tr><td>Origin.ACY</td>\n",
        "<td>-0.139401942188</td>\n",
        "<td>-0.139401942188</td></tr>\n",
        "<tr><td>Origin.ALB</td>\n",
        "<td>0.0620667709906</td>\n",
        "<td>0.0620667709906</td></tr>\n",
        "<tr><td>---</td>\n",
        "<td>---</td>\n",
        "<td>---</td></tr>\n",
        "<tr><td>fDayOfWeek.f6</td>\n",
        "<td>-0.130146307046</td>\n",
        "<td>-0.130146307046</td></tr>\n",
        "<tr><td>fDayOfWeek.f7</td>\n",
        "<td>0.00317705938412</td>\n",
        "<td>0.00317705938412</td></tr>\n",
        "<tr><td>fMonth.f1</td>\n",
        "<td>-0.233736326071</td>\n",
        "<td>-0.233736326071</td></tr>\n",
        "<tr><td>fMonth.f10</td>\n",
        "<td>0.215462379947</td>\n",
        "<td>0.215462379947</td></tr>\n",
        "<tr><td>Distance</td>\n",
        "<td>0.000220919942698</td>\n",
        "<td>0.138475460323</td></tr></table></div>"
       ],
       "metadata": {},
       "output_type": "display_data",
       "text": [
        "names          coefficients       standardized_coefficients\n",
        "-------------  -----------------  ---------------------------\n",
        "Intercept      0.00810196382328   0.17469195795\n",
        "Origin.ABE     -0.0147077653025   -0.0147077653025\n",
        "Origin.ABQ     -0.0647411613859   -0.0647411613859\n",
        "Origin.ACY     -0.139401942188    -0.139401942188\n",
        "Origin.ALB     0.0620667709906    0.0620667709906\n",
        "---            ---                ---\n",
        "fDayOfWeek.f6  -0.130146307046    -0.130146307046\n",
        "fDayOfWeek.f7  0.00317705938412   0.00317705938412\n",
        "fMonth.f1      -0.233736326071    -0.233736326071\n",
        "fMonth.f10     0.215462379947     0.215462379947\n",
        "Distance       0.000220919942698  0.138475460323"
       ]
      },
      {
       "output_type": "stream",
       "stream": "stdout",
       "text": [
        "\n"
       ]
      }
     ],
     "prompt_number": 6
    },
    {
     "cell_type": "code",
     "collapsed": false,
     "input": [
      "#uploading test file to h2o\n",
      "air_test = h2o.import_frame(path=h2o.locate(\"smalldata/airlines/AirlinesTest.csv.zip\"))"
     ],
     "language": "python",
     "metadata": {},
     "outputs": [
      {
       "output_type": "stream",
       "stream": "stdout",
       "text": [
        "\n",
        "\r",
        "Parse Progress: [                                                  ] 00%"
       ]
      },
      {
       "output_type": "stream",
       "stream": "stdout",
       "text": [
        "\r",
        "Parse Progress: [##################################################] 100%"
       ]
      },
      {
       "output_type": "stream",
       "stream": "stdout",
       "text": [
        "\n",
        "Imported  /Users/ece/0xdata/h2o-dev/smalldata/airlines/AirlinesTest.csv.zip . Parsed 2,691 rows and 12 cols\n"
       ]
      }
     ],
     "prompt_number": 7
    },
    {
     "cell_type": "code",
     "collapsed": false,
     "input": [
      "# predicting & performance on test file\n",
      "gbm_pred = gbm.predict(air_test)\n",
      "print \"GBM predictions: \"\n",
      "gbm_pred.head()\n",
      "\n",
      "gbm_perf = gbm.model_performance(air_test)\n",
      "print \"GBM performance: \"\n",
      "gbm_perf.show()\n",
      "\n",
      "glm_pred = glm.predict(air_test)\n",
      "print \"GLM predictions: \"\n",
      "glm_pred.head()\n",
      "\n",
      "glm_perf = glm.model_performance(air_test)\n",
      "print \"GLM performance: \"\n",
      "glm_perf.show()"
     ],
     "language": "python",
     "metadata": {},
     "outputs": [
      {
       "output_type": "stream",
       "stream": "stdout",
       "text": [
        "GBM predictions: \n",
        "First 10 rows and first 3 columns: \n"
       ]
      },
      {
       "html": [
        "<div style=\"overflow:auto\"><table style=\"width:50%\"><tr><td>Row ID</td>\n",
        "<td>predict</td>\n",
        "<td>NO</td>\n",
        "<td>YES</td></tr>\n",
        "<tr><td>1</td>\n",
        "<td>YES</td>\n",
        "<td>0.4611594081612176</td>\n",
        "<td>0.5388405918387824</td></tr>\n",
        "<tr><td>2</td>\n",
        "<td>YES</td>\n",
        "<td>0.46311764811484357</td>\n",
        "<td>0.5368823518851564</td></tr>\n",
        "<tr><td>3</td>\n",
        "<td>YES</td>\n",
        "<td>0.46311764811484357</td>\n",
        "<td>0.5368823518851564</td></tr>\n",
        "<tr><td>4</td>\n",
        "<td>YES</td>\n",
        "<td>0.4294559998165911</td>\n",
        "<td>0.5705440001834089</td></tr>\n",
        "<tr><td>5</td>\n",
        "<td>YES</td>\n",
        "<td>0.5302960340269943</td>\n",
        "<td>0.4697039659730057</td></tr>\n",
        "<tr><td>6</td>\n",
        "<td>YES</td>\n",
        "<td>0.5302960340269943</td>\n",
        "<td>0.4697039659730057</td></tr>\n",
        "<tr><td>7</td>\n",
        "<td>NO</td>\n",
        "<td>0.5609385272870304</td>\n",
        "<td>0.4390614727129696</td></tr>\n",
        "<tr><td>8</td>\n",
        "<td>NO</td>\n",
        "<td>0.5609385272870304</td>\n",
        "<td>0.4390614727129696</td></tr>\n",
        "<tr><td>9</td>\n",
        "<td>NO</td>\n",
        "<td>0.5609385272870304</td>\n",
        "<td>0.4390614727129696</td></tr>\n",
        "<tr><td>10</td>\n",
        "<td>NO</td>\n",
        "<td>0.5609385272870304</td>\n",
        "<td>0.4390614727129696</td></tr></table></div>"
       ],
       "metadata": {},
       "output_type": "display_data",
       "text": [
        "  Row ID  predict          NO       YES\n",
        "--------  ---------  --------  --------\n",
        "       1  YES        0.461159  0.538841\n",
        "       2  YES        0.463118  0.536882\n",
        "       3  YES        0.463118  0.536882\n",
        "       4  YES        0.429456  0.570544\n",
        "       5  YES        0.530296  0.469704\n",
        "       6  YES        0.530296  0.469704\n",
        "       7  NO         0.560939  0.439061\n",
        "       8  NO         0.560939  0.439061\n",
        "       9  NO         0.560939  0.439061\n",
        "      10  NO         0.560939  0.439061"
       ]
      },
      {
       "output_type": "stream",
       "stream": "stdout",
       "text": [
        "GBM performance: \n",
        "\n",
        "ModelMetricsBinomial: gbm\n",
        "** Reported on test data. **\n",
        "\n",
        "MSE: 0.227054350715\n",
        "R^2: 0.0837631722156\n",
        "LogLoss: 0.646236638043\n",
        "AUC: 0.689932257737\n",
        "Gini: 0.379864515474\n",
        "\n",
        "Confusion Matrix (Act/Pred) for max f1 @ threshold = 0.47097731049:\n",
        "\n"
       ]
      },
      {
       "html": [
        "<div style=\"overflow:auto\"><table style=\"width:50%\"><tr><td></td>\n",
        "<td>NO</td>\n",
        "<td>YES</td>\n",
        "<td>Error</td>\n",
        "<td>Rate</td></tr>\n",
        "<tr><td>NO</td>\n",
        "<td>435.0</td>\n",
        "<td>782.0</td>\n",
        "<td>0.6426</td>\n",
        "<td> (782.0/1217.0)</td></tr>\n",
        "<tr><td>YES</td>\n",
        "<td>209.0</td>\n",
        "<td>1265.0</td>\n",
        "<td>0.1418</td>\n",
        "<td> (209.0/1474.0)</td></tr>\n",
        "<tr><td>Total</td>\n",
        "<td>644.0</td>\n",
        "<td>2047.0</td>\n",
        "<td>0.7844</td>\n",
        "<td> (0.7844/2691.0)</td></tr></table></div>"
       ],
       "metadata": {},
       "output_type": "display_data",
       "text": [
        "       NO    YES    Error    Rate\n",
        "-----  ----  -----  -------  ---------------\n",
        "NO     435   782    0.6426   (782.0/1217.0)\n",
        "YES    209   1265   0.1418   (209.0/1474.0)\n",
        "Total  644   2047   0.7844   (0.7844/2691.0)"
       ]
      },
      {
       "output_type": "stream",
       "stream": "stdout",
       "text": [
        "\n",
        "Maximum Metrics:\n",
        "\n"
       ]
      },
      {
       "html": [
        "<div style=\"overflow:auto\"><table style=\"width:50%\"><tr><td>metric</td>\n",
        "<td>threshold</td>\n",
        "<td>value</td>\n",
        "<td>idx</td></tr>\n",
        "<tr><td>f1</td>\n",
        "<td>0.47097731049</td>\n",
        "<td>0.718545867651</td>\n",
        "<td>329.0</td></tr>\n",
        "<tr><td>f2</td>\n",
        "<td>0.387806033077</td>\n",
        "<td>0.8597682313</td>\n",
        "<td>393.0</td></tr>\n",
        "<tr><td>f0point5</td>\n",
        "<td>0.533988701041</td>\n",
        "<td>0.680544945251</td>\n",
        "<td>253.0</td></tr>\n",
        "<tr><td>accuracy</td>\n",
        "<td>0.533988701041</td>\n",
        "<td>0.65403195838</td>\n",
        "<td>253.0</td></tr>\n",
        "<tr><td>precision</td>\n",
        "<td>0.688364162319</td>\n",
        "<td>0.875</td>\n",
        "<td>0.0</td></tr>\n",
        "<tr><td>absolute_MCC</td>\n",
        "<td>0.533988701041</td>\n",
        "<td>0.296835740449</td>\n",
        "<td>253.0</td></tr>\n",
        "<tr><td>min_per_class_accuracy</td>\n",
        "<td>0.54673161612</td>\n",
        "<td>0.631881676253</td>\n",
        "<td>226.0</td></tr>\n",
        "<tr><td>tns</td>\n",
        "<td>0.688364162319</td>\n",
        "<td>1215.0</td>\n",
        "<td>0.0</td></tr>\n",
        "<tr><td>fns</td>\n",
        "<td>0.688364162319</td>\n",
        "<td>1460.0</td>\n",
        "<td>0.0</td></tr>\n",
        "<tr><td>fps</td>\n",
        "<td>0.381860762332</td>\n",
        "<td>1217.0</td>\n",
        "<td>399.0</td></tr>\n",
        "<tr><td>tps</td>\n",
        "<td>0.381860762332</td>\n",
        "<td>1474.0</td>\n",
        "<td>399.0</td></tr>\n",
        "<tr><td>tnr</td>\n",
        "<td>0.688364162319</td>\n",
        "<td>0.998356614626</td>\n",
        "<td>0.0</td></tr>\n",
        "<tr><td>fnr</td>\n",
        "<td>0.688364162319</td>\n",
        "<td>0.990502035278</td>\n",
        "<td>0.0</td></tr>\n",
        "<tr><td>fpr</td>\n",
        "<td>0.381860762332</td>\n",
        "<td>1.0</td>\n",
        "<td>399.0</td></tr>\n",
        "<tr><td>tpr</td>\n",
        "<td>0.381860762332</td>\n",
        "<td>1.0</td>\n",
        "<td>399.0</td></tr></table></div>"
       ],
       "metadata": {},
       "output_type": "display_data",
       "text": [
        "metric                  threshold    value     idx\n",
        "----------------------  -----------  --------  -----\n",
        "f1                      0.470977     0.718546  329\n",
        "f2                      0.387806     0.859768  393\n",
        "f0point5                0.533989     0.680545  253\n",
        "accuracy                0.533989     0.654032  253\n",
        "precision               0.688364     0.875     0\n",
        "absolute_MCC            0.533989     0.296836  253\n",
        "min_per_class_accuracy  0.546732     0.631882  226\n",
        "tns                     0.688364     1215      0\n",
        "fns                     0.688364     1460      0\n",
        "fps                     0.381861     1217      399\n",
        "tps                     0.381861     1474      399\n",
        "tnr                     0.688364     0.998357  0\n",
        "fnr                     0.688364     0.990502  0\n",
        "fpr                     0.381861     1         399\n",
        "tpr                     0.381861     1         399"
       ]
      },
      {
       "output_type": "stream",
       "stream": "stdout",
       "text": [
        "GLM predictions: \n",
        "First 10 rows and first 3 columns: \n"
       ]
      },
      {
       "html": [
        "<div style=\"overflow:auto\"><table style=\"width:50%\"><tr><td>Row ID</td>\n",
        "<td>predict</td>\n",
        "<td>p0</td>\n",
        "<td>p1</td></tr>\n",
        "<tr><td>1</td>\n",
        "<td>YES</td>\n",
        "<td>0.35670148495023</td>\n",
        "<td>0.64329851504977</td></tr>\n",
        "<tr><td>2</td>\n",
        "<td>YES</td>\n",
        "<td>0.3896318260682371</td>\n",
        "<td>0.6103681739317629</td></tr>\n",
        "<tr><td>3</td>\n",
        "<td>YES</td>\n",
        "<td>0.3694602174677637</td>\n",
        "<td>0.6305397825322363</td></tr>\n",
        "<tr><td>4</td>\n",
        "<td>YES</td>\n",
        "<td>0.4205468347104032</td>\n",
        "<td>0.5794531652895968</td></tr>\n",
        "<tr><td>5</td>\n",
        "<td>YES</td>\n",
        "<td>0.514411870263378</td>\n",
        "<td>0.485588129736622</td></tr>\n",
        "<tr><td>6</td>\n",
        "<td>YES</td>\n",
        "<td>0.5492693320369051</td>\n",
        "<td>0.45073066796309497</td></tr>\n",
        "<tr><td>7</td>\n",
        "<td>YES</td>\n",
        "<td>0.487299809352136</td>\n",
        "<td>0.512700190647864</td></tr>\n",
        "<tr><td>8</td>\n",
        "<td>YES</td>\n",
        "<td>0.44443397869401</td>\n",
        "<td>0.55556602130599</td></tr>\n",
        "<tr><td>9</td>\n",
        "<td>YES</td>\n",
        "<td>0.563218724715564</td>\n",
        "<td>0.43678127528443594</td></tr>\n",
        "<tr><td>10</td>\n",
        "<td>YES</td>\n",
        "<td>0.5571349682712625</td>\n",
        "<td>0.4428650317287375</td></tr></table></div>"
       ],
       "metadata": {},
       "output_type": "display_data",
       "text": [
        "  Row ID  predict          p0        p1\n",
        "--------  ---------  --------  --------\n",
        "       1  YES        0.356701  0.643299\n",
        "       2  YES        0.389632  0.610368\n",
        "       3  YES        0.36946   0.63054\n",
        "       4  YES        0.420547  0.579453\n",
        "       5  YES        0.514412  0.485588\n",
        "       6  YES        0.549269  0.450731\n",
        "       7  YES        0.4873    0.5127\n",
        "       8  YES        0.444434  0.555566\n",
        "       9  YES        0.563219  0.436781\n",
        "      10  YES        0.557135  0.442865"
       ]
      },
      {
       "output_type": "stream",
       "stream": "stdout",
       "text": [
        "GLM performance: \n",
        "\n",
        "ModelMetricsBinomialGLM: glm\n",
        "** Reported on test data. **\n",
        "\n",
        "MSE: 0.220965372562\n",
        "R^2: 0.108334143924\n",
        "LogLoss: 0.632322200607\n",
        "Null degrees of freedom: 2690\n",
        "Residual degrees of freedom: 2438\n",
        "Null deviance: 3705.95062822\n",
        "Residual deviance: 3403.15808367\n",
        "AIC: 3909.15808367\n",
        "AUC: 0.694561107958\n",
        "Gini: 0.389122215917\n",
        "\n",
        "Confusion Matrix (Act/Pred) for max f1 @ threshold = 0.440861374145:\n",
        "\n"
       ]
      },
      {
       "html": [
        "<div style=\"overflow:auto\"><table style=\"width:50%\"><tr><td></td>\n",
        "<td>NO</td>\n",
        "<td>YES</td>\n",
        "<td>Error</td>\n",
        "<td>Rate</td></tr>\n",
        "<tr><td>NO</td>\n",
        "<td>370.0</td>\n",
        "<td>847.0</td>\n",
        "<td>0.696</td>\n",
        "<td> (847.0/1217.0)</td></tr>\n",
        "<tr><td>YES</td>\n",
        "<td>146.0</td>\n",
        "<td>1328.0</td>\n",
        "<td>0.0991</td>\n",
        "<td> (146.0/1474.0)</td></tr>\n",
        "<tr><td>Total</td>\n",
        "<td>516.0</td>\n",
        "<td>2175.0</td>\n",
        "<td>0.7951</td>\n",
        "<td> (0.7951/2691.0)</td></tr></table></div>"
       ],
       "metadata": {},
       "output_type": "display_data",
       "text": [
        "       NO    YES    Error    Rate\n",
        "-----  ----  -----  -------  ---------------\n",
        "NO     370   847    0.696    (847.0/1217.0)\n",
        "YES    146   1328   0.0991   (146.0/1474.0)\n",
        "Total  516   2175   0.7951   (0.7951/2691.0)"
       ]
      },
      {
       "output_type": "stream",
       "stream": "stdout",
       "text": [
        "\n",
        "Maximum Metrics:\n",
        "\n"
       ]
      },
      {
       "html": [
        "<div style=\"overflow:auto\"><table style=\"width:50%\"><tr><td>metric</td>\n",
        "<td>threshold</td>\n",
        "<td>value</td>\n",
        "<td>idx</td></tr>\n",
        "<tr><td>f1</td>\n",
        "<td>0.440861374145</td>\n",
        "<td>0.727870649493</td>\n",
        "<td>284.0</td></tr>\n",
        "<tr><td>f2</td>\n",
        "<td>0.238340536857</td>\n",
        "<td>0.859712650391</td>\n",
        "<td>386.0</td></tr>\n",
        "<tr><td>f0point5</td>\n",
        "<td>0.553949375679</td>\n",
        "<td>0.677706651823</td>\n",
        "<td>190.0</td></tr>\n",
        "<tr><td>accuracy</td>\n",
        "<td>0.538846954935</td>\n",
        "<td>0.648086213304</td>\n",
        "<td>205.0</td></tr>\n",
        "<tr><td>precision</td>\n",
        "<td>0.878824513371</td>\n",
        "<td>1.0</td>\n",
        "<td>0.0</td></tr>\n",
        "<tr><td>absolute_MCC</td>\n",
        "<td>0.553949375679</td>\n",
        "<td>0.286963207928</td>\n",
        "<td>190.0</td></tr>\n",
        "<tr><td>min_per_class_accuracy</td>\n",
        "<td>0.560443542223</td>\n",
        "<td>0.641791044776</td>\n",
        "<td>185.0</td></tr>\n",
        "<tr><td>tns</td>\n",
        "<td>0.878824513371</td>\n",
        "<td>1217.0</td>\n",
        "<td>0.0</td></tr>\n",
        "<tr><td>fns</td>\n",
        "<td>0.878824513371</td>\n",
        "<td>1473.0</td>\n",
        "<td>0.0</td></tr>\n",
        "<tr><td>fps</td>\n",
        "<td>0.186945995799</td>\n",
        "<td>1217.0</td>\n",
        "<td>399.0</td></tr>\n",
        "<tr><td>tps</td>\n",
        "<td>0.221302858129</td>\n",
        "<td>1474.0</td>\n",
        "<td>393.0</td></tr>\n",
        "<tr><td>tnr</td>\n",
        "<td>0.878824513371</td>\n",
        "<td>1.0</td>\n",
        "<td>0.0</td></tr>\n",
        "<tr><td>fnr</td>\n",
        "<td>0.878824513371</td>\n",
        "<td>0.999321573948</td>\n",
        "<td>0.0</td></tr>\n",
        "<tr><td>fpr</td>\n",
        "<td>0.186945995799</td>\n",
        "<td>1.0</td>\n",
        "<td>399.0</td></tr>\n",
        "<tr><td>tpr</td>\n",
        "<td>0.221302858129</td>\n",
        "<td>1.0</td>\n",
        "<td>393.0</td></tr></table></div>"
       ],
       "metadata": {},
       "output_type": "display_data",
       "text": [
        "metric                  threshold    value     idx\n",
        "----------------------  -----------  --------  -----\n",
        "f1                      0.440861     0.727871  284\n",
        "f2                      0.238341     0.859713  386\n",
        "f0point5                0.553949     0.677707  190\n",
        "accuracy                0.538847     0.648086  205\n",
        "precision               0.878825     1         0\n",
        "absolute_MCC            0.553949     0.286963  190\n",
        "min_per_class_accuracy  0.560444     0.641791  185\n",
        "tns                     0.878825     1217      0\n",
        "fns                     0.878825     1473      0\n",
        "fps                     0.186946     1217      399\n",
        "tps                     0.221303     1474      393\n",
        "tnr                     0.878825     1         0\n",
        "fnr                     0.878825     0.999322  0\n",
        "fpr                     0.186946     1         399\n",
        "tpr                     0.221303     1         393"
       ]
      }
     ],
     "prompt_number": 8
    },
    {
     "cell_type": "code",
     "collapsed": false,
     "input": [
      "# Building confusion matrix for test set\n",
      "gbm_CM = gbm_perf.confusion_matrix()\n",
      "print(gbm_CM)\n",
      "print\n",
      "\n",
      "glm_CM = glm_perf.confusion_matrix()\n",
      "print(glm_CM)"
     ],
     "language": "python",
     "metadata": {},
     "outputs": [
      {
       "output_type": "stream",
       "stream": "stdout",
       "text": [
        "\n",
        "Confusion Matrix (Act/Pred) for max f1 @ threshold = 0.47097731049:\n",
        "\n"
       ]
      },
      {
       "html": [
        "<div style=\"overflow:auto\"><table style=\"width:50%\"><tr><td></td>\n",
        "<td>NO</td>\n",
        "<td>YES</td>\n",
        "<td>Error</td>\n",
        "<td>Rate</td></tr>\n",
        "<tr><td>NO</td>\n",
        "<td>435.0</td>\n",
        "<td>782.0</td>\n",
        "<td>0.6426</td>\n",
        "<td> (782.0/1217.0)</td></tr>\n",
        "<tr><td>YES</td>\n",
        "<td>209.0</td>\n",
        "<td>1265.0</td>\n",
        "<td>0.1418</td>\n",
        "<td> (209.0/1474.0)</td></tr>\n",
        "<tr><td>Total</td>\n",
        "<td>644.0</td>\n",
        "<td>2047.0</td>\n",
        "<td>0.7844</td>\n",
        "<td> (0.7844/2691.0)</td></tr></table></div>"
       ],
       "metadata": {},
       "output_type": "display_data",
       "text": [
        "       NO    YES    Error    Rate\n",
        "-----  ----  -----  -------  ---------------\n",
        "NO     435   782    0.6426   (782.0/1217.0)\n",
        "YES    209   1265   0.1418   (209.0/1474.0)\n",
        "Total  644   2047   0.7844   (0.7844/2691.0)"
       ]
      },
      {
       "output_type": "stream",
       "stream": "stdout",
       "text": [
        "\n",
        "\n",
        "\n",
        "Confusion Matrix (Act/Pred) for max f1 @ threshold = 0.440861374145:\n",
        "\n"
       ]
      },
      {
       "html": [
        "<div style=\"overflow:auto\"><table style=\"width:50%\"><tr><td></td>\n",
        "<td>NO</td>\n",
        "<td>YES</td>\n",
        "<td>Error</td>\n",
        "<td>Rate</td></tr>\n",
        "<tr><td>NO</td>\n",
        "<td>370.0</td>\n",
        "<td>847.0</td>\n",
        "<td>0.696</td>\n",
        "<td> (847.0/1217.0)</td></tr>\n",
        "<tr><td>YES</td>\n",
        "<td>146.0</td>\n",
        "<td>1328.0</td>\n",
        "<td>0.0991</td>\n",
        "<td> (146.0/1474.0)</td></tr>\n",
        "<tr><td>Total</td>\n",
        "<td>516.0</td>\n",
        "<td>2175.0</td>\n",
        "<td>0.7951</td>\n",
        "<td> (0.7951/2691.0)</td></tr></table></div>"
       ],
       "metadata": {},
       "output_type": "display_data",
       "text": [
        "       NO    YES    Error    Rate\n",
        "-----  ----  -----  -------  ---------------\n",
        "NO     370   847    0.696    (847.0/1217.0)\n",
        "YES    146   1328   0.0991   (146.0/1474.0)\n",
        "Total  516   2175   0.7951   (0.7951/2691.0)"
       ]
      },
      {
       "output_type": "stream",
       "stream": "stdout",
       "text": [
        "\n"
       ]
      }
     ],
     "prompt_number": 9
    },
    {
     "cell_type": "code",
     "collapsed": false,
     "input": [
      "# ROC for test set\n",
      "print('GBM Precision: {0}'.format(gbm_perf.precision()))\n",
      "print('GBM Accuracy: {0}'.format(gbm_perf.accuracy()))\n",
      "print('GBM AUC: {0}'.format(gbm_perf.auc()))\n",
      "print\n",
      "print('GLM Precision: {0}'.format(glm_perf.precision()))\n",
      "print('GLM Accuracy: {0}'.format(glm_perf.accuracy()))\n",
      "print('GLM AUC: {0}'.format(glm_perf.auc()))"
     ],
     "language": "python",
     "metadata": {},
     "outputs": [
      {
       "output_type": "stream",
       "stream": "stdout",
       "text": [
        "GBM Precision: [[0.6883641623190884, 0.875]]\n",
        "GBM Accuracy: [[0.5339887010412175, 0.6540319583797845]]\n",
        "GBM AUC: 0.689932257737\n",
        "\n",
        "GLM Precision: [[0.8788245133708795, 1.0]]\n",
        "GLM Accuracy: [[0.538846954934635, 0.6480862133036046]]\n",
        "GLM AUC: 0.694561107958\n"
       ]
      }
     ],
     "prompt_number": 10
    }
   ],
   "metadata": {}
  }
 ]
}