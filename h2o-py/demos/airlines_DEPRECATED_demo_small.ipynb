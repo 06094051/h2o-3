{
 "cells": [
  {
   "cell_type": "code",
   "execution_count": 1,
   "metadata": {
    "collapsed": true
   },
   "outputs": [],
   "source": [
    "import h2o\n",
    "import pandas\n",
    "import pprint\n",
    "import operator\n",
    "import matplotlib\n",
    "from tabulate import tabulate"
   ]
  },
  {
   "cell_type": "code",
   "execution_count": 2,
   "metadata": {
    "collapsed": false
   },
   "outputs": [
    {
     "name": "stdout",
     "output_type": "stream",
     "text": [
      "Warning: Version mismatch. H2O is version 3.5.0.99999, but the python package is version UNKNOWN.\n"
     ]
    },
    {
     "data": {
      "text/html": [
       "<div style=\"overflow:auto\"><table style=\"width:50%\"><tr><td>H2O cluster uptime: </td>\n",
       "<td>18 minutes 14 seconds 382 milliseconds </td></tr>\n",
       "<tr><td>H2O cluster version: </td>\n",
       "<td>3.5.0.99999</td></tr>\n",
       "<tr><td>H2O cluster name: </td>\n",
       "<td>ludirehak</td></tr>\n",
       "<tr><td>H2O cluster total nodes: </td>\n",
       "<td>1</td></tr>\n",
       "<tr><td>H2O cluster total memory: </td>\n",
       "<td>3.56 GB</td></tr>\n",
       "<tr><td>H2O cluster total cores: </td>\n",
       "<td>8</td></tr>\n",
       "<tr><td>H2O cluster allowed cores: </td>\n",
       "<td>8</td></tr>\n",
       "<tr><td>H2O cluster healthy: </td>\n",
       "<td>True</td></tr>\n",
       "<tr><td>H2O Connection ip: </td>\n",
       "<td>127.0.0.1</td></tr>\n",
       "<tr><td>H2O Connection port: </td>\n",
       "<td>54321</td></tr></table></div>"
      ],
      "text/plain": [
       "--------------------------  --------------------------------------\n",
       "H2O cluster uptime:         18 minutes 14 seconds 382 milliseconds\n",
       "H2O cluster version:        3.5.0.99999\n",
       "H2O cluster name:           ludirehak\n",
       "H2O cluster total nodes:    1\n",
       "H2O cluster total memory:   3.56 GB\n",
       "H2O cluster total cores:    8\n",
       "H2O cluster allowed cores:  8\n",
       "H2O cluster healthy:        True\n",
       "H2O Connection ip:          127.0.0.1\n",
       "H2O Connection port:        54321\n",
       "--------------------------  --------------------------------------"
      ]
     },
     "metadata": {},
     "output_type": "display_data"
    }
   ],
   "source": [
    "# Connect to a cluster\n",
    "h2o.init()"
   ]
  },
  {
   "cell_type": "code",
   "execution_count": 3,
   "metadata": {
    "collapsed": true
   },
   "outputs": [],
   "source": [
    "# set this to True if interactive (matplotlib) plots are desired\n",
    "interactive = False\n",
    "if not interactive: matplotlib.use('Agg', warn=False)\n",
    "import matplotlib.pyplot as plt"
   ]
  },
  {
   "cell_type": "code",
   "execution_count": 4,
   "metadata": {
    "collapsed": false
   },
   "outputs": [
    {
     "name": "stdout",
     "output_type": "stream",
     "text": [
      "Import and Parse airlines data\n",
      "\n",
      "Parse Progress: [##################################################] 100%\n",
      "\n",
      "Parsed 43,978 rows and 31 cols:\n",
      "\n"
     ]
    },
    {
     "data": {
      "text/html": [
       "<div style=\"overflow:auto\"><table style=\"width:50%\"><tr><td>File1</td>\n",
       "<td>/Users/ludirehak/h2o-3/smalldata/airlines/allyears2k_headers.zip</td></tr></table></div>"
      ],
      "text/plain": [
       "-----  ----------------------------------------------------------------\n",
       "File1  /Users/ludirehak/h2o-3/smalldata/airlines/allyears2k_headers.zip\n",
       "-----  ----------------------------------------------------------------"
      ]
     },
     "metadata": {},
     "output_type": "display_data"
    },
    {
     "name": "stdout",
     "output_type": "stream",
     "text": [
      "Rows:43,978 Cols:31\n",
      "\n",
      "Chunk compression summary:\n"
     ]
    },
    {
     "data": {
      "text/html": [
       "<div style=\"overflow:auto\"><table style=\"width:50%\"><tr><td><b>chunk_type</b></td>\n",
       "<td><b>chunk_name</b></td>\n",
       "<td><b>count</b></td>\n",
       "<td><b>count_percentage</b></td>\n",
       "<td><b>size</b></td>\n",
       "<td><b>size_percentage</b></td></tr>\n",
       "<tr><td>C0L</td>\n",
       "<td>Constant Integers</td>\n",
       "<td>10</td>\n",
       "<td>5.376344</td>\n",
       "<td>    800  B</td>\n",
       "<td>0.1</td></tr>\n",
       "<tr><td>C0D</td>\n",
       "<td>Constant Reals</td>\n",
       "<td>23</td>\n",
       "<td>12.365591</td>\n",
       "<td>    1.8 KB</td>\n",
       "<td>0.1</td></tr>\n",
       "<tr><td>CBS</td>\n",
       "<td>Bits</td>\n",
       "<td>2</td>\n",
       "<td>1.0752689</td>\n",
       "<td>    2.0 KB</td>\n",
       "<td>0.1</td></tr>\n",
       "<tr><td>CX0</td>\n",
       "<td>Sparse Bits</td>\n",
       "<td>10</td>\n",
       "<td>5.376344</td>\n",
       "<td>    1.9 KB</td>\n",
       "<td>0.1</td></tr>\n",
       "<tr><td>C1</td>\n",
       "<td>1-Byte Integers</td>\n",
       "<td>40</td>\n",
       "<td>21.505377</td>\n",
       "<td>  287.8 KB</td>\n",
       "<td>18.564957</td></tr>\n",
       "<tr><td>C1N</td>\n",
       "<td>1-Byte Integers (w/o NAs)</td>\n",
       "<td>19</td>\n",
       "<td>10.215054</td>\n",
       "<td>  133.1 KB</td>\n",
       "<td>8.58617</td></tr>\n",
       "<tr><td>C1S</td>\n",
       "<td>1-Byte Fractions</td>\n",
       "<td>6</td>\n",
       "<td>3.2258065</td>\n",
       "<td>   43.4 KB</td>\n",
       "<td>2.8024976</td></tr>\n",
       "<tr><td>C2</td>\n",
       "<td>2-Byte Integers</td>\n",
       "<td>76</td>\n",
       "<td>40.860214</td>\n",
       "<td>    1.1 MB</td>\n",
       "<td>69.628105</td></tr></table></div>"
      ],
      "text/plain": [
       "chunk_type    chunk_name                 count    count_percentage    size      size_percentage\n",
       "------------  -------------------------  -------  ------------------  --------  -----------------\n",
       "C0L           Constant Integers          10       5.37634             800  B    0.0504024\n",
       "C0D           Constant Reals             23       12.3656             1.8 KB    0.115925\n",
       "CBS           Bits                       2        1.07527             2.0 KB    0.127203\n",
       "CX0           Sparse Bits                10       5.37634             1.9 KB    0.124746\n",
       "C1            1-Byte Integers            40       21.5054             287.8 KB  18.565\n",
       "C1N           1-Byte Integers (w/o NAs)  19       10.2151             133.1 KB  8.58617\n",
       "C1S           1-Byte Fractions           6        3.22581             43.4 KB   2.8025\n",
       "C2            2-Byte Integers            76       40.8602             1.1 MB    69.6281"
      ]
     },
     "metadata": {},
     "output_type": "display_data"
    },
    {
     "name": "stdout",
     "output_type": "stream",
     "text": [
      "\n",
      "Frame distribution summary:\n"
     ]
    },
    {
     "data": {
      "text/html": [
       "<div style=\"overflow:auto\"><table style=\"width:50%\"><tr><td><b></b></td>\n",
       "<td><b>size</b></td>\n",
       "<td><b>number_of_rows</b></td>\n",
       "<td><b>number_of_chunks_per_column</b></td>\n",
       "<td><b>number_of_chunks</b></td></tr>\n",
       "<tr><td>172.16.2.38:54321</td>\n",
       "<td>    1.5 MB</td>\n",
       "<td>43978.0</td>\n",
       "<td>6.0</td>\n",
       "<td>186.0</td></tr>\n",
       "<tr><td>mean</td>\n",
       "<td>    1.5 MB</td>\n",
       "<td>43978.0</td>\n",
       "<td>6.0</td>\n",
       "<td>186.0</td></tr>\n",
       "<tr><td>min</td>\n",
       "<td>    1.5 MB</td>\n",
       "<td>43978.0</td>\n",
       "<td>6.0</td>\n",
       "<td>186.0</td></tr>\n",
       "<tr><td>max</td>\n",
       "<td>    1.5 MB</td>\n",
       "<td>43978.0</td>\n",
       "<td>6.0</td>\n",
       "<td>186.0</td></tr>\n",
       "<tr><td>stddev</td>\n",
       "<td>      0  B</td>\n",
       "<td>0.0</td>\n",
       "<td>0.0</td>\n",
       "<td>0.0</td></tr>\n",
       "<tr><td>total</td>\n",
       "<td>    1.5 MB</td>\n",
       "<td>43978.0</td>\n",
       "<td>6.0</td>\n",
       "<td>186.0</td></tr></table></div>"
      ],
      "text/plain": [
       "                   size    number_of_rows    number_of_chunks_per_column    number_of_chunks\n",
       "-----------------  ------  ----------------  -----------------------------  ------------------\n",
       "172.16.2.38:54321  1.5 MB  43978             6                              186\n",
       "mean               1.5 MB  43978             6                              186\n",
       "min                1.5 MB  43978             6                              186\n",
       "max                1.5 MB  43978             6                              186\n",
       "stddev             0  B    0                 0                              0\n",
       "total              1.5 MB  43978             6                              186"
      ]
     },
     "metadata": {},
     "output_type": "display_data"
    },
    {
     "name": "stdout",
     "output_type": "stream",
     "text": [
      "\n",
      "\n"
     ]
    },
    {
     "data": {
      "text/html": [
       "<table>\n",
       "<tr><th>       </th><th>Year         </th><th>Month        </th><th>DayofMonth   </th><th>DayOfWeek    </th><th>DepTime      </th><th>CRSDepTime   </th><th>ArrTime      </th><th>CRSArrTime   </th><th>UniqueCarrier  </th><th>FlightNum    </th><th>TailNum  </th><th>ActualElapsedTime  </th><th>CRSElapsedTime  </th><th>AirTime      </th><th>ArrDelay     </th><th>DepDelay     </th><th>Origin  </th><th>Dest  </th><th>Distance     </th><th>TaxiIn       </th><th>TaxiOut      </th><th>Cancelled      </th><th>CancellationCode  </th><th>Diverted        </th><th>CarrierDelay  </th><th>WeatherDelay  </th><th>NASDelay     </th><th>SecurityDelay  </th><th>LateAircraftDelay  </th><th>IsArrDelayed  </th><th>IsDepDelayed  </th></tr>\n",
       "<tr><td>type   </td><td>int          </td><td>int          </td><td>int          </td><td>int          </td><td>int          </td><td>int          </td><td>int          </td><td>int          </td><td>enum           </td><td>int          </td><td>enum     </td><td>int                </td><td>int             </td><td>int          </td><td>int          </td><td>int          </td><td>enum    </td><td>enum  </td><td>int          </td><td>int          </td><td>int          </td><td>int            </td><td>enum              </td><td>int             </td><td>int           </td><td>int           </td><td>int          </td><td>int            </td><td>int                </td><td>enum          </td><td>enum          </td></tr>\n",
       "<tr><td>mins   </td><td>1987.0       </td><td>1.0          </td><td>1.0          </td><td>1.0          </td><td>1.0          </td><td>0.0          </td><td>1.0          </td><td>0.0          </td><td>0.0            </td><td>1.0          </td><td>0.0      </td><td>16.0               </td><td>17.0            </td><td>14.0         </td><td>-63.0        </td><td>-16.0        </td><td>0.0     </td><td>0.0   </td><td>11.0         </td><td>0.0          </td><td>0.0          </td><td>0.0            </td><td>0.0               </td><td>0.0             </td><td>0.0           </td><td>0.0           </td><td>0.0          </td><td>0.0            </td><td>0.0                </td><td>0.0           </td><td>0.0           </td></tr>\n",
       "<tr><td>mean   </td><td>1997.5       </td><td>1.40909090909</td><td>14.6010732639</td><td>3.82061485288</td><td>1345.84666138</td><td>1313.22286143</td><td>1504.63413038</td><td>1485.28916731</td><td>NaN            </td><td>818.842989677</td><td>NaN      </td><td>124.814529135      </td><td>125.021562607   </td><td>114.316111091</td><td>9.31711193698</td><td>10.0073906556</td><td>NaN     </td><td>NaN   </td><td>730.182190565</td><td>5.38136805953</td><td>14.1686341847</td><td>0.0246941652645</td><td>NaN               </td><td>0.00247851198326</td><td>4.04780029106 </td><td>0.289376469271</td><td>4.85503190418</td><td>0.0170155602821</td><td>7.62006045002      </td><td>0.555755150302</td><td>0.525057983537</td></tr>\n",
       "<tr><td>maxs   </td><td>2008.0       </td><td>10.0         </td><td>31.0         </td><td>7.0          </td><td>2400.0       </td><td>2359.0       </td><td>2400.0       </td><td>2359.0       </td><td>9.0            </td><td>3949.0       </td><td>3500.0   </td><td>475.0              </td><td>437.0           </td><td>402.0        </td><td>475.0        </td><td>473.0        </td><td>131.0   </td><td>133.0 </td><td>3365.0       </td><td>128.0        </td><td>254.0        </td><td>1.0            </td><td>3.0               </td><td>1.0             </td><td>369.0         </td><td>201.0         </td><td>323.0        </td><td>14.0           </td><td>373.0              </td><td>1.0           </td><td>1.0           </td></tr>\n",
       "<tr><td>sigma  </td><td>6.34436090171</td><td>1.87471137134</td><td>9.17579042586</td><td>1.90501311913</td><td>465.340899124</td><td>476.251139993</td><td>484.347487904</td><td>492.750434123</td><td>NaN            </td><td>777.404369164</td><td>NaN      </td><td>73.9744416606      </td><td>73.40159463     </td><td>69.6363295151</td><td>29.8402219624</td><td>26.4388090429</td><td>NaN     </td><td>NaN   </td><td>578.43800823 </td><td>4.20197993986</td><td>9.9050857472 </td><td>0.155193141358 </td><td>NaN               </td><td>0.0497234872189 </td><td>16.2057299045 </td><td>4.41677989873 </td><td>18.6197762215</td><td>0.403940182102 </td><td>23.4875658741      </td><td>0.496887288343</td><td>0.499377380318</td></tr>\n",
       "<tr><td>zeros  </td><td>0            </td><td>0            </td><td>0            </td><td>0            </td><td>0            </td><td>569          </td><td>0            </td><td>569          </td><td>724            </td><td>0            </td><td>2        </td><td>0                  </td><td>0               </td><td>-8878        </td><td>1514         </td><td>6393         </td><td>59      </td><td>172   </td><td>0            </td><td>-8255        </td><td>-8321        </td><td>42892          </td><td>81                </td><td>43869           </td><td>-23296        </td><td>-21800        </td><td>-23252       </td><td>-21726         </td><td>-23500             </td><td>19537         </td><td>20887         </td></tr>\n",
       "<tr><td>missing</td><td>0            </td><td>0            </td><td>0            </td><td>0            </td><td>1086         </td><td>0            </td><td>1195         </td><td>0            </td><td>0              </td><td>0            </td><td>32       </td><td>1195               </td><td>13              </td><td>16649        </td><td>1195         </td><td>1086         </td><td>0       </td><td>0     </td><td>35           </td><td>16026        </td><td>16024        </td><td>0              </td><td>9774              </td><td>0               </td><td>35045         </td><td>35045         </td><td>35045        </td><td>35045          </td><td>35045              </td><td>0             </td><td>0             </td></tr>\n",
       "<tr><td>0      </td><td>1987.0       </td><td>10.0         </td><td>14.0         </td><td>3.0          </td><td>741.0        </td><td>730.0        </td><td>912.0        </td><td>849.0        </td><td>PS             </td><td>1451.0       </td><td>NA       </td><td>91.0               </td><td>79.0            </td><td>nan          </td><td>23.0         </td><td>11.0         </td><td>SAN     </td><td>SFO   </td><td>447.0        </td><td>nan          </td><td>nan          </td><td>0.0            </td><td>NA                </td><td>0.0             </td><td>nan           </td><td>nan           </td><td>nan          </td><td>nan            </td><td>nan                </td><td>YES           </td><td>YES           </td></tr>\n",
       "<tr><td>1      </td><td>1987.0       </td><td>10.0         </td><td>15.0         </td><td>4.0          </td><td>729.0        </td><td>730.0        </td><td>903.0        </td><td>849.0        </td><td>PS             </td><td>1451.0       </td><td>NA       </td><td>94.0               </td><td>79.0            </td><td>nan          </td><td>14.0         </td><td>-1.0         </td><td>SAN     </td><td>SFO   </td><td>447.0        </td><td>nan          </td><td>nan          </td><td>0.0            </td><td>NA                </td><td>0.0             </td><td>nan           </td><td>nan           </td><td>nan          </td><td>nan            </td><td>nan                </td><td>YES           </td><td>NO            </td></tr>\n",
       "<tr><td>2      </td><td>1987.0       </td><td>10.0         </td><td>17.0         </td><td>6.0          </td><td>741.0        </td><td>730.0        </td><td>918.0        </td><td>849.0        </td><td>PS             </td><td>1451.0       </td><td>NA       </td><td>97.0               </td><td>79.0            </td><td>nan          </td><td>29.0         </td><td>11.0         </td><td>SAN     </td><td>SFO   </td><td>447.0        </td><td>nan          </td><td>nan          </td><td>0.0            </td><td>NA                </td><td>0.0             </td><td>nan           </td><td>nan           </td><td>nan          </td><td>nan            </td><td>nan                </td><td>YES           </td><td>YES           </td></tr>\n",
       "<tr><td>3      </td><td>1987.0       </td><td>10.0         </td><td>18.0         </td><td>7.0          </td><td>729.0        </td><td>730.0        </td><td>847.0        </td><td>849.0        </td><td>PS             </td><td>1451.0       </td><td>NA       </td><td>78.0               </td><td>79.0            </td><td>nan          </td><td>-2.0         </td><td>-1.0         </td><td>SAN     </td><td>SFO   </td><td>447.0        </td><td>nan          </td><td>nan          </td><td>0.0            </td><td>NA                </td><td>0.0             </td><td>nan           </td><td>nan           </td><td>nan          </td><td>nan            </td><td>nan                </td><td>NO            </td><td>NO            </td></tr>\n",
       "<tr><td>4      </td><td>1987.0       </td><td>10.0         </td><td>19.0         </td><td>1.0          </td><td>749.0        </td><td>730.0        </td><td>922.0        </td><td>849.0        </td><td>PS             </td><td>1451.0       </td><td>NA       </td><td>93.0               </td><td>79.0            </td><td>nan          </td><td>33.0         </td><td>19.0         </td><td>SAN     </td><td>SFO   </td><td>447.0        </td><td>nan          </td><td>nan          </td><td>0.0            </td><td>NA                </td><td>0.0             </td><td>nan           </td><td>nan           </td><td>nan          </td><td>nan            </td><td>nan                </td><td>YES           </td><td>YES           </td></tr>\n",
       "<tr><td>5      </td><td>1987.0       </td><td>10.0         </td><td>21.0         </td><td>3.0          </td><td>728.0        </td><td>730.0        </td><td>848.0        </td><td>849.0        </td><td>PS             </td><td>1451.0       </td><td>NA       </td><td>80.0               </td><td>79.0            </td><td>nan          </td><td>-1.0         </td><td>-2.0         </td><td>SAN     </td><td>SFO   </td><td>447.0        </td><td>nan          </td><td>nan          </td><td>0.0            </td><td>NA                </td><td>0.0             </td><td>nan           </td><td>nan           </td><td>nan          </td><td>nan            </td><td>nan                </td><td>NO            </td><td>NO            </td></tr>\n",
       "<tr><td>6      </td><td>1987.0       </td><td>10.0         </td><td>22.0         </td><td>4.0          </td><td>728.0        </td><td>730.0        </td><td>852.0        </td><td>849.0        </td><td>PS             </td><td>1451.0       </td><td>NA       </td><td>84.0               </td><td>79.0            </td><td>nan          </td><td>3.0          </td><td>-2.0         </td><td>SAN     </td><td>SFO   </td><td>447.0        </td><td>nan          </td><td>nan          </td><td>0.0            </td><td>NA                </td><td>0.0             </td><td>nan           </td><td>nan           </td><td>nan          </td><td>nan            </td><td>nan                </td><td>YES           </td><td>NO            </td></tr>\n",
       "<tr><td>7      </td><td>1987.0       </td><td>10.0         </td><td>23.0         </td><td>5.0          </td><td>731.0        </td><td>730.0        </td><td>902.0        </td><td>849.0        </td><td>PS             </td><td>1451.0       </td><td>NA       </td><td>91.0               </td><td>79.0            </td><td>nan          </td><td>13.0         </td><td>1.0          </td><td>SAN     </td><td>SFO   </td><td>447.0        </td><td>nan          </td><td>nan          </td><td>0.0            </td><td>NA                </td><td>0.0             </td><td>nan           </td><td>nan           </td><td>nan          </td><td>nan            </td><td>nan                </td><td>YES           </td><td>YES           </td></tr>\n",
       "<tr><td>8      </td><td>1987.0       </td><td>10.0         </td><td>24.0         </td><td>6.0          </td><td>744.0        </td><td>730.0        </td><td>908.0        </td><td>849.0        </td><td>PS             </td><td>1451.0       </td><td>NA       </td><td>84.0               </td><td>79.0            </td><td>nan          </td><td>19.0         </td><td>14.0         </td><td>SAN     </td><td>SFO   </td><td>447.0        </td><td>nan          </td><td>nan          </td><td>0.0            </td><td>NA                </td><td>0.0             </td><td>nan           </td><td>nan           </td><td>nan          </td><td>nan            </td><td>nan                </td><td>YES           </td><td>YES           </td></tr>\n",
       "<tr><td>9      </td><td>1987.0       </td><td>10.0         </td><td>25.0         </td><td>7.0          </td><td>729.0        </td><td>730.0        </td><td>851.0        </td><td>849.0        </td><td>PS             </td><td>1451.0       </td><td>NA       </td><td>82.0               </td><td>79.0            </td><td>nan          </td><td>2.0          </td><td>-1.0         </td><td>SAN     </td><td>SFO   </td><td>447.0        </td><td>nan          </td><td>nan          </td><td>0.0            </td><td>NA                </td><td>0.0             </td><td>nan           </td><td>nan           </td><td>nan          </td><td>nan            </td><td>nan                </td><td>YES           </td><td>NO            </td></tr>\n",
       "</table>"
      ]
     },
     "metadata": {},
     "output_type": "display_data"
    }
   ],
   "source": [
    "from h2o.h2o import _locate # private function. used to find files within h2o git project directory.\n",
    "# air_path = [_locate(\"bigdata/laptop/airlines_all.05p.csv\")]\n",
    "# air_path = [_locate(\"bigdata/laptop/flights-nyc/flights14.csv.zip\")]\n",
    "air_path = [_locate(\"smalldata/airlines/allyears2k_headers.zip\")]\n",
    "\n",
    "# ----------\n",
    "\n",
    "# 1- Load data - 1 row per flight.  Has columns showing the origin,\n",
    "# destination, departure and arrival time, carrier information, and\n",
    "# whether the flight was delayed.\n",
    "print \"Import and Parse airlines data\"\n",
    "data = h2o.import_file(path=air_path)\n",
    "data.describe()"
   ]
  },
  {
   "cell_type": "code",
   "execution_count": 5,
   "metadata": {
    "collapsed": false
   },
   "outputs": [
    {
     "name": "stdout",
     "output_type": "stream",
     "text": [
      "\n",
      "glm Model Build Progress: [##################################################] 100%\n"
     ]
    },
    {
     "name": "stderr",
     "output_type": "stream",
     "text": [
      "/Library/Python/2.7/site-packages/ipykernel/__main__.py:9: DeprecationWarning: `h2o.glm` is deprecated. Use the estimators sub module to build an H2OGeneralizedLinearEstimator.\n"
     ]
    }
   ],
   "source": [
    "# ----------\n",
    "\n",
    "# 2- Data exploration and munging. Generate scatter plots \n",
    "# of various columns and plot fitted GLM model.\n",
    "\n",
    "# Function to fit a GLM model and plot the fitted (x,y) values\n",
    "def scatter_plot(data, x, y, max_points = 1000, fit = True):\n",
    "    if(fit):\n",
    "        lr = h2o.glm(x = data[[x]], y = data[y], family = \"gaussian\")\n",
    "        coeff = lr.coef()\n",
    "    df = data[[x,y]]\n",
    "    runif = df[y].runif()\n",
    "    df_subset = df[runif < float(max_points)/data.nrow]\n",
    "    df_py = h2o.as_list(df_subset)\n",
    "    \n",
    "    if(fit): h2o.remove(lr._id)\n",
    "\n",
    "    # If x variable is string, generate box-and-whisker plot\n",
    "    if(df_py[x].dtype == \"object\"):\n",
    "        if interactive: df_py.boxplot(column = y, by = x)\n",
    "    # Otherwise, generate a scatter plot\n",
    "    else:\n",
    "        if interactive: df_py.plot(x = x, y = y, kind = \"scatter\")\n",
    "    \n",
    "    if(fit):\n",
    "        x_min = min(df_py[x])\n",
    "        x_max = max(df_py[x])\n",
    "        y_min = coeff[\"Intercept\"] + coeff[x]*x_min\n",
    "        y_max = coeff[\"Intercept\"] + coeff[x]*x_max\n",
    "        plt.plot([x_min, x_max], [y_min, y_max], \"k-\")\n",
    "    if interactive: plt.show()\n",
    "\n",
    "scatter_plot(data, \"Distance\", \"AirTime\", fit = True)\n",
    "scatter_plot(data, \"UniqueCarrier\", \"ArrDelay\", max_points = 5000, fit = False)"
   ]
  },
  {
   "cell_type": "code",
   "execution_count": 6,
   "metadata": {
    "collapsed": false
   },
   "outputs": [
    {
     "data": {
      "text/html": [
       "<table>\n",
       "<tr><th style=\"text-align: right;\">  Month</th><th style=\"text-align: right;\">  sum_Cancelled</th><th style=\"text-align: right;\">  nrow_Year</th></tr>\n",
       "<tr><td style=\"text-align: right;\">     10</td><td style=\"text-align: right;\">             19</td><td style=\"text-align: right;\">       1999</td></tr>\n",
       "<tr><td style=\"text-align: right;\">      1</td><td style=\"text-align: right;\">           1067</td><td style=\"text-align: right;\">      41979</td></tr>\n",
       "</table>"
      ]
     },
     "metadata": {},
     "output_type": "display_data"
    },
    {
     "name": "stdout",
     "output_type": "stream",
     "text": [
      "Rows:2 Cols:3\n",
      "\n",
      "Chunk compression summary:\n"
     ]
    },
    {
     "data": {
      "text/html": [
       "<div style=\"overflow:auto\"><table style=\"width:50%\"><tr><td><b>chunk_type</b></td>\n",
       "<td><b>chunk_name</b></td>\n",
       "<td><b>count</b></td>\n",
       "<td><b>count_percentage</b></td>\n",
       "<td><b>size</b></td>\n",
       "<td><b>size_percentage</b></td></tr>\n",
       "<tr><td>C1N</td>\n",
       "<td>1-Byte Integers (w/o NAs)</td>\n",
       "<td>1</td>\n",
       "<td>33.333336</td>\n",
       "<td>     70  B</td>\n",
       "<td>30.434782</td></tr>\n",
       "<tr><td>C2</td>\n",
       "<td>2-Byte Integers</td>\n",
       "<td>1</td>\n",
       "<td>33.333336</td>\n",
       "<td>     72  B</td>\n",
       "<td>31.304348</td></tr>\n",
       "<tr><td>C2S</td>\n",
       "<td>2-Byte Fractions</td>\n",
       "<td>1</td>\n",
       "<td>33.333336</td>\n",
       "<td>     88  B</td>\n",
       "<td>38.260868</td></tr></table></div>"
      ],
      "text/plain": [
       "chunk_type    chunk_name                 count    count_percentage    size    size_percentage\n",
       "------------  -------------------------  -------  ------------------  ------  -----------------\n",
       "C1N           1-Byte Integers (w/o NAs)  1        33.3333             70  B   30.4348\n",
       "C2            2-Byte Integers            1        33.3333             72  B   31.3043\n",
       "C2S           2-Byte Fractions           1        33.3333             88  B   38.2609"
      ]
     },
     "metadata": {},
     "output_type": "display_data"
    },
    {
     "name": "stdout",
     "output_type": "stream",
     "text": [
      "\n",
      "Frame distribution summary:\n"
     ]
    },
    {
     "data": {
      "text/html": [
       "<div style=\"overflow:auto\"><table style=\"width:50%\"><tr><td><b></b></td>\n",
       "<td><b>size</b></td>\n",
       "<td><b>number_of_rows</b></td>\n",
       "<td><b>number_of_chunks_per_column</b></td>\n",
       "<td><b>number_of_chunks</b></td></tr>\n",
       "<tr><td>172.16.2.38:54321</td>\n",
       "<td>    230  B</td>\n",
       "<td>2.0</td>\n",
       "<td>1.0</td>\n",
       "<td>3.0</td></tr>\n",
       "<tr><td>mean</td>\n",
       "<td>    230  B</td>\n",
       "<td>2.0</td>\n",
       "<td>1.0</td>\n",
       "<td>3.0</td></tr>\n",
       "<tr><td>min</td>\n",
       "<td>    230  B</td>\n",
       "<td>2.0</td>\n",
       "<td>1.0</td>\n",
       "<td>3.0</td></tr>\n",
       "<tr><td>max</td>\n",
       "<td>    230  B</td>\n",
       "<td>2.0</td>\n",
       "<td>1.0</td>\n",
       "<td>3.0</td></tr>\n",
       "<tr><td>stddev</td>\n",
       "<td>      0  B</td>\n",
       "<td>0.0</td>\n",
       "<td>0.0</td>\n",
       "<td>0.0</td></tr>\n",
       "<tr><td>total</td>\n",
       "<td>    230  B</td>\n",
       "<td>2.0</td>\n",
       "<td>1.0</td>\n",
       "<td>3.0</td></tr></table></div>"
      ],
      "text/plain": [
       "                   size    number_of_rows    number_of_chunks_per_column    number_of_chunks\n",
       "-----------------  ------  ----------------  -----------------------------  ------------------\n",
       "172.16.2.38:54321  230  B  2                 1                              3\n",
       "mean               230  B  2                 1                              3\n",
       "min                230  B  2                 1                              3\n",
       "max                230  B  2                 1                              3\n",
       "stddev             0  B    0                 0                              0\n",
       "total              230  B  2                 1                              3"
      ]
     },
     "metadata": {},
     "output_type": "display_data"
    },
    {
     "name": "stdout",
     "output_type": "stream",
     "text": [
      "\n",
      "\n"
     ]
    },
    {
     "data": {
      "text/html": [
       "<table>\n",
       "<tr><th>       </th><th>Month        </th><th>sum_Cancelled  </th><th>nrow_Year    </th></tr>\n",
       "<tr><td>type   </td><td>int          </td><td>int            </td><td>int          </td></tr>\n",
       "<tr><td>mins   </td><td>1.0          </td><td>19.0           </td><td>1999.0       </td></tr>\n",
       "<tr><td>mean   </td><td>5.5          </td><td>543.0          </td><td>21989.0      </td></tr>\n",
       "<tr><td>maxs   </td><td>10.0         </td><td>1067.0         </td><td>41979.0      </td></tr>\n",
       "<tr><td>sigma  </td><td>6.36396103068</td><td>741.047906684  </td><td>28270.1291118</td></tr>\n",
       "<tr><td>zeros  </td><td>0            </td><td>0              </td><td>0            </td></tr>\n",
       "<tr><td>missing</td><td>0            </td><td>0              </td><td>0            </td></tr>\n",
       "<tr><td>0      </td><td>10.0         </td><td>19.0           </td><td>1999.0       </td></tr>\n",
       "<tr><td>1      </td><td>1.0          </td><td>1067.0         </td><td>41979.0      </td></tr>\n",
       "</table>"
      ]
     },
     "metadata": {},
     "output_type": "display_data"
    }
   ],
   "source": [
    "# Group flights by month\n",
    "grouped = data.group_by(\"Month\")\n",
    "bpd = grouped.count().sum(\"Cancelled\").frame\n",
    "bpd.show()\n",
    "bpd.describe()\n",
    "bpd.dim\n",
    "\n",
    "# Convert columns to factors\n",
    "data[\"Year\"]      = data[\"Year\"]     .asfactor()\n",
    "data[\"Month\"]     = data[\"Month\"]    .asfactor()\n",
    "data[\"DayOfWeek\"] = data[\"DayOfWeek\"].asfactor()\n",
    "data[\"Cancelled\"] = data[\"Cancelled\"].asfactor()"
   ]
  },
  {
   "cell_type": "code",
   "execution_count": 7,
   "metadata": {
    "collapsed": false
   },
   "outputs": [
    {
     "name": "stdout",
     "output_type": "stream",
     "text": [
      "\n",
      "Parse Progress: [##################################################] 100%\n",
      "Imported /var/folders/ct/mv0lk53d5lq6bkvm_2snjgm00000gn/T/tmpkPItUP.csv. Parsed 43,978 rows and 1 cols\n",
      "\n",
      "glm Model Build Progress: [##################################################] 100%\n"
     ]
    },
    {
     "name": "stderr",
     "output_type": "stream",
     "text": [
      "/Library/Python/2.7/site-packages/ipykernel/__main__.py:9: DeprecationWarning: `h2o.glm` is deprecated. Use the estimators sub module to build an H2OGeneralizedLinearEstimator.\n"
     ]
    }
   ],
   "source": [
    "# Calculate and plot travel time\n",
    "hour1 = data[\"CRSArrTime\"] / 100\n",
    "mins1 = data[\"CRSArrTime\"] % 100\n",
    "arrTime = hour1*60 + mins1\n",
    "\n",
    "hour2 = data[\"CRSDepTime\"] / 100\n",
    "mins2 = data[\"CRSDepTime\"] % 100\n",
    "depTime = hour2*60 + mins2\n",
    "\n",
    "# TODO: Replace this once list comprehension is supported. See PUBDEV-1286.\n",
    "# data[\"TravelTime\"] = [x if x > 0 else None for x in (arrTime - depTime)]\n",
    "data[\"TravelTime\"] = (arrTime-depTime > 0).ifelse((arrTime-depTime), h2o.H2OFrame.fromPython([[None] * data.nrow]))\n",
    "scatter_plot(data, \"Distance\", \"TravelTime\")"
   ]
  },
  {
   "cell_type": "code",
   "execution_count": 8,
   "metadata": {
    "collapsed": false
   },
   "outputs": [
    {
     "name": "stdout",
     "output_type": "stream",
     "text": [
      "\n",
      "glm Model Build Progress: [##################################################] 100%\n"
     ]
    },
    {
     "name": "stderr",
     "output_type": "stream",
     "text": [
      "/Library/Python/2.7/site-packages/ipykernel/__main__.py:9: DeprecationWarning: `h2o.glm` is deprecated. Use the estimators sub module to build an H2OGeneralizedLinearEstimator.\n"
     ]
    }
   ],
   "source": [
    "# Impute missing travel times and re-plot\n",
    "data.impute(column = \"Distance\", by = [\"Origin\", \"Dest\"])\n",
    "scatter_plot(data, \"Distance\", \"TravelTime\")"
   ]
  },
  {
   "cell_type": "code",
   "execution_count": 9,
   "metadata": {
    "collapsed": false
   },
   "outputs": [
    {
     "name": "stdout",
     "output_type": "stream",
     "text": [
      "\n",
      "glm Model Build Progress: [##################################################] 100%"
     ]
    },
    {
     "name": "stderr",
     "output_type": "stream",
     "text": [
      "/Library/Python/2.7/site-packages/ipykernel/__main__.py:19: DeprecationWarning: `h2o.glm` is deprecated. Use the estimators sub module to build an H2OGeneralizedLinearEstimator.\n",
      "/Library/Python/2.7/site-packages/ipykernel/__main__.py:31: DeprecationWarning: `h2o.gbm` is deprecated. Use the estimators sub module to build an H2OGradientBoostedEstimator.\n"
     ]
    },
    {
     "name": "stdout",
     "output_type": "stream",
     "text": [
      "\n",
      "\n",
      "gbm Model Build Progress: [##################################################] 100%\n",
      "\n",
      "gbm Model Build Progress: [##################################################] 100%"
     ]
    },
    {
     "name": "stderr",
     "output_type": "stream",
     "text": [
      "/Library/Python/2.7/site-packages/ipykernel/__main__.py:43: DeprecationWarning: `h2o.gbm` is deprecated. Use the estimators sub module to build an H2OGradientBoostedEstimator.\n",
      "/Library/Python/2.7/site-packages/ipykernel/__main__.py:52: DeprecationWarning: `h2o.random_forest` is deprecated. Use the estimators sub module to build an H2ORandomForestEstimator.\n"
     ]
    },
    {
     "name": "stdout",
     "output_type": "stream",
     "text": [
      "\n",
      "\n",
      "drf Model Build Progress: [##################################################] 100%\n",
      "\n",
      "drf Model Build Progress: [##################################################] 100%"
     ]
    },
    {
     "name": "stderr",
     "output_type": "stream",
     "text": [
      "/Library/Python/2.7/site-packages/ipykernel/__main__.py:61: DeprecationWarning: `h2o.random_forest` is deprecated. Use the estimators sub module to build an H2ORandomForestEstimator.\n",
      "/Library/Python/2.7/site-packages/ipykernel/__main__.py:72: DeprecationWarning: `h2o.deeplearning` is deprecated. Use the estimators sub module to build an H2ODeepLearningEstimator.\n"
     ]
    },
    {
     "name": "stdout",
     "output_type": "stream",
     "text": [
      "\n",
      "\n",
      "deeplearning Model Build Progress: [##################################################] 100%\n"
     ]
    }
   ],
   "source": [
    "# ----------\n",
    "# 3- Fit a model on train; using test as validation\n",
    "\n",
    "# Create test/train split\n",
    "s = data[\"Year\"].runif()\n",
    "train = data[s <= 0.75]\n",
    "test  = data[s > 0.75]\n",
    "\n",
    "# Set predictor and response variables\n",
    "myY = \"IsDepDelayed\"\n",
    "myX = [\"Origin\", \"Dest\", \"Year\", \"UniqueCarrier\", \"DayOfWeek\", \"Month\", \"Distance\", \"FlightNum\"]\n",
    "\n",
    "# Simple GLM - Predict Delays\n",
    "data_glm = h2o.glm(x           =train[myX],\n",
    "                   y           =train[myY],\n",
    "                   validation_x=test [myX],\n",
    "                   validation_y=test [myY],\n",
    "                   family      =\"binomial\",\n",
    "                   standardize =True)\n",
    "\n",
    "# Simple GBM\n",
    "data_gbm = h2o.gbm(x              =train[myX],\n",
    "                   y              =train[myY],\n",
    "                   validation_x   =test [myX],\n",
    "                   validation_y   =test [myY],\n",
    "                   balance_classes=True,\n",
    "                   ntrees         =3,\n",
    "                   max_depth      =1,\n",
    "                   distribution   =\"bernoulli\",\n",
    "                   learn_rate     =0.1,\n",
    "                   min_rows       =2)\n",
    "\n",
    "# Complex GBM\n",
    "data_gbm2 = h2o.gbm(x              =train[myX],\n",
    "                    y              =train[myY],\n",
    "                    validation_x   =test [myX],\n",
    "                    validation_y   =test [myY],\n",
    "                    balance_classes=True,\n",
    "                    ntrees         =50,\n",
    "                    max_depth      =5,\n",
    "                    distribution   =\"bernoulli\",\n",
    "                    learn_rate     =0.1,\n",
    "                    min_rows       =2)\n",
    "\n",
    "# Simple Random Forest\n",
    "data_rf = h2o.random_forest(x              =train[myX],\n",
    "                            y              =train[myY],\n",
    "                            validation_x   =test [myX],\n",
    "                            validation_y   =test [myY],\n",
    "                            ntrees         =5,\n",
    "                            max_depth      =2,\n",
    "                            balance_classes=True)\n",
    "\n",
    "# Complex Random Forest\n",
    "data_rf2 = h2o.random_forest(x              =train[myX], \n",
    "                             y              =train[myY],\n",
    "                             validation_x   =test [myX],\n",
    "                             validation_y   =test [myY],\n",
    "                             ntrees         =10,\n",
    "                             max_depth      =5,\n",
    "                             balance_classes=True)\n",
    "\n",
    "# Deep Learning with 5 epochs\n",
    "data_dl = h2o.deeplearning(x                   =train[myX],\n",
    "                           y                   =train[myY],\n",
    "                           validation_x        =test [myX],\n",
    "                           validation_y        =test [myY],\n",
    "                           hidden              =[10,10],\n",
    "                           epochs              =5,\n",
    "                           variable_importances=True,\n",
    "                           balance_classes     =True,\n",
    "                           loss                =\"Automatic\")"
   ]
  },
  {
   "cell_type": "code",
   "execution_count": 10,
   "metadata": {
    "collapsed": false
   },
   "outputs": [
    {
     "name": "stdout",
     "output_type": "stream",
     "text": [
      "Variable Importances:\n",
      "\n",
      "| Predictor        |   Normalized Coefficient |\n",
      "|------------------+--------------------------|\n",
      "| Year.2008        |              2.26382     |\n",
      "| Year.2007        |              1.46615     |\n",
      "| Origin.LIH       |              1.44626     |\n",
      "| Origin.MDW       |              1.43581     |\n",
      "| Year.2003        |              1.41451     |\n",
      "| Dest.LYH         |              1.36528     |\n",
      "| Origin.LEX       |              1.20744     |\n",
      "| UniqueCarrier.HP |              1.17847     |\n",
      "| Origin.HPN       |              1.17174     |\n",
      "| Origin.LBB       |              1.13899     |\n",
      "| Origin.STX       |              1.11065     |\n",
      "| Origin.TLH       |              1.06459     |\n",
      "| Origin.GRR       |              1.06118     |\n",
      "| Origin.HNL       |              1.05481     |\n",
      "| Year.2001        |              1.02332     |\n",
      "| Origin.MYR       |              0.990842    |\n",
      "| Year.2002        |              0.979771    |\n",
      "| UniqueCarrier.TW |              0.978249    |\n",
      "| Dest.DAY         |              0.963962    |\n",
      "| Dest.HTS         |              0.954301    |\n",
      "| Origin.PSP       |              0.929768    |\n",
      "| Origin.CAE       |              0.924862    |\n",
      "| Origin.SRQ       |              0.897405    |\n",
      "| Origin.BTV       |              0.897235    |\n",
      "| Origin.ALB       |              0.889691    |\n",
      "| Origin.CHO       |              0.864442    |\n",
      "| Origin.ATL       |              0.854848    |\n",
      "| Origin.PBI       |              0.843844    |\n",
      "| Origin.ORD       |              0.84142     |\n",
      "| Origin.JAX       |              0.820465    |\n",
      "| Year.1994        |              0.79587     |\n",
      "| Year.2006        |              0.768515    |\n",
      "| Dest.CRP         |              0.762022    |\n",
      "| Dest.PBI         |              0.757247    |\n",
      "| Origin.IAH       |              0.742129    |\n",
      "| Year.2004        |              0.738765    |\n",
      "| Origin.OGG       |              0.735083    |\n",
      "| Origin.SLC       |              0.727334    |\n",
      "| Origin.TUL       |              0.72689     |\n",
      "| Origin.EYW       |              0.703642    |\n",
      "| Origin.MAF       |              0.690181    |\n",
      "| Origin.CMH       |              0.688309    |\n",
      "| Origin.ERI       |              0.676452    |\n",
      "| Origin.MSY       |              0.648828    |\n",
      "| Origin.TRI       |              0.639521    |\n",
      "| Dest.FAY         |              0.630594    |\n",
      "| Dest.GEG         |              0.629851    |\n",
      "| Origin.STL       |              0.627653    |\n",
      "| Dest.BHM         |              0.625237    |\n",
      "| Dest.FLL         |              0.623876    |\n",
      "| Origin.SDF       |              0.621006    |\n",
      "| Dest.GSO         |              0.618508    |\n",
      "| Year.1996        |              0.606294    |\n",
      "| Year.1990        |              0.604246    |\n",
      "| Origin.PWM       |              0.600282    |\n",
      "| Origin.CRP       |              0.598723    |\n",
      "| Origin.MLB       |              0.597629    |\n",
      "| Origin.ACY       |              0.589545    |\n",
      "| Origin.PIT       |              0.584134    |\n",
      "| Dest.LIH         |              0.577754    |\n",
      "| Origin.SYR       |              0.56172     |\n",
      "| Origin.TYS       |              0.558459    |\n",
      "| Origin.FLL       |              0.557574    |\n",
      "| Origin.ROA       |              0.553227    |\n",
      "| Origin.AUS       |              0.549907    |\n",
      "| Dest.CHO         |              0.546887    |\n",
      "| Origin.LYH       |              0.546887    |\n",
      "| Dest.PSP         |              0.536848    |\n",
      "| Origin.LAX       |              0.536163    |\n",
      "| Year.1997        |              0.52976     |\n",
      "| UniqueCarrier.WN |              0.512213    |\n",
      "| Origin.OKC       |              0.494217    |\n",
      "| Dest.TOL         |              0.493307    |\n",
      "| Dest.ICT         |              0.491129    |\n",
      "| Dest.JAX         |              0.490693    |\n",
      "| Dest.IND         |              0.490613    |\n",
      "| Dest.ISP         |              0.48892     |\n",
      "| Dest.CAK         |              0.482034    |\n",
      "| Origin.MIA       |              0.475826    |\n",
      "| Origin.OMA       |              0.474766    |\n",
      "| Dest.TPA         |              0.472313    |\n",
      "| Dest.LBB         |              0.465463    |\n",
      "| Dest.BTV         |              0.45801     |\n",
      "| Origin.MCO       |              0.457333    |\n",
      "| Dest.IAH         |              0.453229    |\n",
      "| Dest.SFO         |              0.446167    |\n",
      "| Origin.CRW       |              0.444861    |\n",
      "| Dest.CAE         |              0.442002    |\n",
      "| UniqueCarrier.PI |              0.42913     |\n",
      "| Origin.PHL       |              0.418073    |\n",
      "| Dest.PWM         |              0.412298    |\n",
      "| Dest.CLE         |              0.410022    |\n",
      "| Origin.SAV       |              0.407669    |\n",
      "| Dest.BUF         |              0.39175     |\n",
      "| UniqueCarrier.CO |              0.390757    |\n",
      "| Origin.IAD       |              0.384127    |\n",
      "| Origin.BOI       |              0.382671    |\n",
      "| Dest.PNS         |              0.378719    |\n",
      "| Dest.OGG         |              0.3745      |\n",
      "| Dest.CHS         |              0.37061     |\n",
      "| Origin.IND       |              0.368054    |\n",
      "| Year.1995        |              0.367534    |\n",
      "| Origin.LGA       |              0.364965    |\n",
      "| Origin.ROC       |              0.357681    |\n",
      "| Origin.GSO       |              0.348502    |\n",
      "| Dest.CMH         |              0.347063    |\n",
      "| Year.2005        |              0.345426    |\n",
      "| Dest.SLC         |              0.339992    |\n",
      "| Dest.MDT         |              0.333883    |\n",
      "| Origin.TUS       |              0.333388    |\n",
      "| Origin.MCI       |              0.332397    |\n",
      "| Origin.DFW       |              0.331013    |\n",
      "| Origin.TPA       |              0.329743    |\n",
      "| Origin.CLE       |              0.31615     |\n",
      "| Origin.BUF       |              0.315682    |\n",
      "| UniqueCarrier.US |              0.315263    |\n",
      "| Origin.ABE       |              0.311846    |\n",
      "| Origin.BWI       |              0.309295    |\n",
      "| Origin.DAY       |              0.307197    |\n",
      "| Origin.OAK       |              0.305954    |\n",
      "| Dest.BUR         |              0.305578    |\n",
      "| Dest.SAT         |              0.304674    |\n",
      "| Dest.KOA         |              0.30231     |\n",
      "| Dest.COS         |              0.301235    |\n",
      "| Origin.MRY       |              0.300103    |\n",
      "| Year.1992        |              0.297602    |\n",
      "| Origin.CLT       |              0.297023    |\n",
      "| Dest.ABQ         |              0.292634    |\n",
      "| Origin.SAN       |              0.292565    |\n",
      "| Origin.ICT       |              0.289504    |\n",
      "| Origin.EGE       |              0.289319    |\n",
      "| Origin.RNO       |              0.287706    |\n",
      "| Dest.PVD         |              0.284074    |\n",
      "| DayOfWeek.5      |              0.268077    |\n",
      "| Origin.MDT       |              0.26679     |\n",
      "| Dest.SDF         |              0.266345    |\n",
      "| Origin.DEN       |              0.264175    |\n",
      "| Dest.OMA         |              0.262283    |\n",
      "| Dest.CLT         |              0.25875     |\n",
      "| Dest.ALB         |              0.252298    |\n",
      "| Year.1991        |              0.249964    |\n",
      "| Origin.JFK       |              0.24756     |\n",
      "| Origin.PHF       |              0.245362    |\n",
      "| Dest.BDL         |              0.243665    |\n",
      "| Year.1993        |              0.234981    |\n",
      "| Dest.HRL         |              0.231106    |\n",
      "| Dest.CVG         |              0.227098    |\n",
      "| Dest.ROC         |              0.226931    |\n",
      "| Year.1999        |              0.226755    |\n",
      "| Dest.MCO         |              0.224247    |\n",
      "| Dest.SEA         |              0.222863    |\n",
      "| Dest.EYW         |              0.222099    |\n",
      "| Origin.BOS       |              0.221555    |\n",
      "| Dest.GRR         |              0.212722    |\n",
      "| Dest.OAK         |              0.210732    |\n",
      "| Month.10         |              0.209435    |\n",
      "| Year.1987        |              0.209435    |\n",
      "| Dest.UCA         |              0.209306    |\n",
      "| Dest.FNT         |              0.208195    |\n",
      "| Origin.BDL       |              0.198674    |\n",
      "| Dest.PHL         |              0.1935      |\n",
      "| Dest.MSP         |              0.192814    |\n",
      "| Origin.BUR       |              0.189615    |\n",
      "| DayOfWeek.2      |              0.189023    |\n",
      "| Dest.IAD         |              0.187675    |\n",
      "| Dest.RSW         |              0.181613    |\n",
      "| Dest.BGM         |              0.180626    |\n",
      "| Origin.UCA       |              0.179554    |\n",
      "| Origin.BGM       |              0.177799    |\n",
      "| DayOfWeek.4      |              0.176262    |\n",
      "| Dest.STL         |              0.175615    |\n",
      "| Distance         |              0.166201    |\n",
      "| Dest.LAX         |              0.16094     |\n",
      "| Dest.PDX         |              0.159991    |\n",
      "| Dest.ABE         |              0.156908    |\n",
      "| Dest.SAN         |              0.156202    |\n",
      "| Origin.PHX       |              0.154553    |\n",
      "| Origin.SFO       |              0.15379     |\n",
      "| Origin.COS       |              0.148503    |\n",
      "| Origin.ORF       |              0.145815    |\n",
      "| Dest.PHX         |              0.143668    |\n",
      "| Dest.MIA         |              0.1405      |\n",
      "| Origin.MKE       |              0.138536    |\n",
      "| Origin.RDU       |              0.138345    |\n",
      "| Dest.SNA         |              0.136499    |\n",
      "| Origin.SMF       |              0.136125    |\n",
      "| Dest.GSP         |              0.136035    |\n",
      "| Origin.PVD       |              0.134678    |\n",
      "| Year.2000        |              0.134082    |\n",
      "| Dest.OAJ         |              0.132273    |\n",
      "| Dest.ROA         |              0.131452    |\n",
      "| DayOfWeek.6      |              0.131248    |\n",
      "| Origin.SBN       |              0.130751    |\n",
      "| Origin.SJC       |              0.128287    |\n",
      "| Dest.LAS         |              0.127356    |\n",
      "| Dest.FAT         |              0.119473    |\n",
      "| Origin.BNA       |              0.116087    |\n",
      "| Dest.ORD         |              0.109302    |\n",
      "| Origin.RSW       |              0.109189    |\n",
      "| Dest.ORH         |              0.107169    |\n",
      "| Month.1          |              0.102309    |\n",
      "| Dest.ORF         |              0.101769    |\n",
      "| Dest.ATL         |              0.099953    |\n",
      "| Year.1998        |              0.0979117   |\n",
      "| Dest.DTW         |              0.0963987   |\n",
      "| Origin.MFR       |              0.0959994   |\n",
      "| Dest.HPN         |              0.0935004   |\n",
      "| Origin.SJU       |              0.0929884   |\n",
      "| Origin.ELP       |              0.0913919   |\n",
      "| Dest.DFW         |              0.087475    |\n",
      "| Dest.BNA         |              0.0860448   |\n",
      "| Year.1988        |              0.0841753   |\n",
      "| Origin.LIT       |              0.0752965   |\n",
      "| Dest.MKE         |              0.0735808   |\n",
      "| Origin.SCK       |              0.0731443   |\n",
      "| Origin.DSM       |              0.0713102   |\n",
      "| UniqueCarrier.AA |              0.0689971   |\n",
      "| Dest.HOU         |              0.0683532   |\n",
      "| Intercept        |              0.0659087   |\n",
      "| Dest.MCI         |              0.0655716   |\n",
      "| Dest.SYR         |              0.0598833   |\n",
      "| Origin.DAL       |              0.0584044   |\n",
      "| Dest.LGA         |              0.0570085   |\n",
      "| Dest.RIC         |              0.0567488   |\n",
      "| Origin.EWR       |              0.0536282   |\n",
      "| Origin.SAT       |              0.053301    |\n",
      "| DayOfWeek.7      |              0.0529741   |\n",
      "| Origin.MEM       |              0.0505592   |\n",
      "| UniqueCarrier.PS |              0.0487203   |\n",
      "| Origin.ABQ       |              0.0462837   |\n",
      "| UniqueCarrier.DL |              0.0452386   |\n",
      "| Dest.AVP         |              0.0448356   |\n",
      "| Origin.RIC       |              0.0415045   |\n",
      "| FlightNum        |              0.0408321   |\n",
      "| Origin.MSP       |              0.0408116   |\n",
      "| Dest.HNL         |              0.0407048   |\n",
      "| Dest.SJC         |              0.0389489   |\n",
      "| Dest.ILM         |              0.0375657   |\n",
      "| Dest.JAN         |              0.0355678   |\n",
      "| Dest.DCA         |              0.0327057   |\n",
      "| Dest.JFK         |              0.0319036   |\n",
      "| Origin.SEA       |              0.0308764   |\n",
      "| Dest.SWF         |              0.0281132   |\n",
      "| Origin.HRL       |              0.0267507   |\n",
      "| Dest.BOS         |              0.0247533   |\n",
      "| DayOfWeek.3      |              0.0218347   |\n",
      "| Origin.AMA       |              0.0211869   |\n",
      "| Dest.DEN         |              0.0189484   |\n",
      "| UniqueCarrier.UA |              0.0162325   |\n",
      "| Origin.ISP       |              0.0151111   |\n",
      "| Dest.PIT         |              0.0144445   |\n",
      "| Origin.AVP       |              0.0134446   |\n",
      "| Origin.PDX       |              0.0120189   |\n",
      "| Dest.TUL         |              0.0114244   |\n",
      "| Origin.ONT       |              0.0109478   |\n",
      "| Dest.OKC         |              0.0109239   |\n",
      "| Dest.EUG         |              0.00971726  |\n",
      "| Dest.MSY         |              0.00846252  |\n",
      "| Dest.DAL         |              0.00787456  |\n",
      "| Origin.DCA       |              0.00638346  |\n",
      "| Dest.ONT         |              0.0028426   |\n",
      "| Dest.BWI         |              0.00243753  |\n",
      "| Dest.ELM         |              0.00212991  |\n",
      "| Origin.CVG       |              0.0020374   |\n",
      "| Dest.MDW         |              0.000481366 |\n",
      "| Origin.MHT       |              0.00026217  |\n",
      "| Dest.LIT         |              0           |\n",
      "| Dest.RNO         |              0           |\n",
      "| Origin.ANC       |              0           |\n",
      "| Dest.SRQ         |              0           |\n",
      "| Dest.MRY         |              0           |\n",
      "| Dest.SBN         |              0           |\n",
      "| Dest.SJU         |              0           |\n",
      "| Origin.SNA       |              0           |\n",
      "| Dest.DSM         |              0           |\n",
      "| Origin.LAS       |              0           |\n",
      "| Origin.LAN       |              0           |\n",
      "| Dest.AUS         |              0           |\n",
      "| Origin.KOA       |              0           |\n",
      "| Origin.HOU       |              0           |\n",
      "| Dest.ERI         |              0           |\n",
      "| Dest.ACY         |              0           |\n",
      "| Origin.DTW       |              0           |\n",
      "| Origin.CHS       |              0           |\n",
      "| Dest.TUS         |              0           |\n",
      "| Origin.STT       |              0           |\n",
      "| Dest.EWR         |              0           |\n",
      "| Dest.ELP         |              0           |\n",
      "| Dest.CHA         |              0           |\n",
      "| Year.1989        |              0           |\n",
      "| Origin.GNV       |              0           |\n",
      "| Dest.AMA         |              0           |\n",
      "| Dest.LEX         |              0           |\n",
      "| Origin.JAN       |              0           |\n",
      "| Dest.BOI         |              0           |\n",
      "| Dest.AVL         |              0           |\n",
      "| Dest.MAF         |              0           |\n",
      "| Dest.PHF         |              0           |\n",
      "| Dest.ANC         |              0           |\n",
      "| Dest.RDU         |              0           |\n",
      "| DayOfWeek.1      |              0           |\n",
      "| Dest.STT         |              0           |\n",
      "| Dest.MHT         |              0           |\n",
      "| Origin.SWF       |              0           |\n",
      "| Dest.SMF         |              0           |\n",
      "| Origin.GEG       |              0           |\n",
      "| Origin.BHM       |              0           |\n",
      "| Dest.MYR         |              0           |\n",
      "| Dest.SCK         |              0           |\n",
      "| Origin.BIL       |              0           |\n",
      "\n",
      "Variable Importances:\n"
     ]
    },
    {
     "data": {
      "text/html": [
       "<div style=\"overflow:auto\"><table style=\"width:50%\"><tr><td><b>variable</b></td>\n",
       "<td><b>relative_importance</b></td>\n",
       "<td><b>scaled_importance</b></td>\n",
       "<td><b>percentage</b></td></tr>\n",
       "<tr><td>Year</td>\n",
       "<td>1225.8</td>\n",
       "<td>1.0</td>\n",
       "<td>1.0</td></tr>\n",
       "<tr><td>Origin</td>\n",
       "<td>0.0</td>\n",
       "<td>0.0</td>\n",
       "<td>0.0</td></tr>\n",
       "<tr><td>Dest</td>\n",
       "<td>0.0</td>\n",
       "<td>0.0</td>\n",
       "<td>0.0</td></tr>\n",
       "<tr><td>UniqueCarrier</td>\n",
       "<td>0.0</td>\n",
       "<td>0.0</td>\n",
       "<td>0.0</td></tr>\n",
       "<tr><td>DayOfWeek</td>\n",
       "<td>0.0</td>\n",
       "<td>0.0</td>\n",
       "<td>0.0</td></tr>\n",
       "<tr><td>Month</td>\n",
       "<td>0.0</td>\n",
       "<td>0.0</td>\n",
       "<td>0.0</td></tr>\n",
       "<tr><td>Distance</td>\n",
       "<td>0.0</td>\n",
       "<td>0.0</td>\n",
       "<td>0.0</td></tr>\n",
       "<tr><td>FlightNum</td>\n",
       "<td>0.0</td>\n",
       "<td>0.0</td>\n",
       "<td>0.0</td></tr></table></div>"
      ],
      "text/plain": [
       "variable       relative_importance    scaled_importance    percentage\n",
       "-------------  ---------------------  -------------------  ------------\n",
       "Year           1225.77                1                    1\n",
       "Origin         0                      0                    0\n",
       "Dest           0                      0                    0\n",
       "UniqueCarrier  0                      0                    0\n",
       "DayOfWeek      0                      0                    0\n",
       "Month          0                      0                    0\n",
       "Distance       0                      0                    0\n",
       "FlightNum      0                      0                    0"
      ]
     },
     "metadata": {},
     "output_type": "display_data"
    },
    {
     "name": "stdout",
     "output_type": "stream",
     "text": [
      "\n",
      "Variable Importances:\n"
     ]
    },
    {
     "data": {
      "text/html": [
       "<div style=\"overflow:auto\"><table style=\"width:50%\"><tr><td><b>variable</b></td>\n",
       "<td><b>relative_importance</b></td>\n",
       "<td><b>scaled_importance</b></td>\n",
       "<td><b>percentage</b></td></tr>\n",
       "<tr><td>Origin</td>\n",
       "<td>776.9</td>\n",
       "<td>1.0</td>\n",
       "<td>0.4</td></tr>\n",
       "<tr><td>Year</td>\n",
       "<td>394.0</td>\n",
       "<td>0.5</td>\n",
       "<td>0.2</td></tr>\n",
       "<tr><td>UniqueCarrier</td>\n",
       "<td>281.1</td>\n",
       "<td>0.4</td>\n",
       "<td>0.2</td></tr>\n",
       "<tr><td>Dest</td>\n",
       "<td>252.8</td>\n",
       "<td>0.3</td>\n",
       "<td>0.1</td></tr>\n",
       "<tr><td>FlightNum</td>\n",
       "<td>105.5</td>\n",
       "<td>0.1</td>\n",
       "<td>0.1</td></tr>\n",
       "<tr><td>DayOfWeek</td>\n",
       "<td>61.6</td>\n",
       "<td>0.1</td>\n",
       "<td>0.0</td></tr>\n",
       "<tr><td>Month</td>\n",
       "<td>0.0</td>\n",
       "<td>0.0</td>\n",
       "<td>0.0</td></tr>\n",
       "<tr><td>Distance</td>\n",
       "<td>0.0</td>\n",
       "<td>0.0</td>\n",
       "<td>0.0</td></tr></table></div>"
      ],
      "text/plain": [
       "variable       relative_importance    scaled_importance    percentage\n",
       "-------------  ---------------------  -------------------  ------------\n",
       "Origin         776.858                1                    0.415014\n",
       "Year           394.016                0.507192             0.210492\n",
       "UniqueCarrier  281.143                0.361898             0.150193\n",
       "Dest           252.775                0.325381             0.135038\n",
       "FlightNum      105.488                0.135788             0.056354\n",
       "DayOfWeek      61.6016                0.0792959            0.0329089\n",
       "Month          0                      0                    0\n",
       "Distance       0                      0                    0"
      ]
     },
     "metadata": {},
     "output_type": "display_data"
    }
   ],
   "source": [
    "# Variable importances from each algorithm\n",
    "# Calculate magnitude of normalized GLM coefficients\n",
    "glm_varimp = data_glm.coef_norm()\n",
    "for k,v in glm_varimp.iteritems():\n",
    "    glm_varimp[k] = abs(glm_varimp[k])\n",
    "    \n",
    "# Sort in descending order by magnitude\n",
    "glm_sorted = sorted(glm_varimp.items(), key = operator.itemgetter(1), reverse = True)\n",
    "table = tabulate(glm_sorted, headers = [\"Predictor\", \"Normalized Coefficient\"], tablefmt = \"orgtbl\")\n",
    "print \"Variable Importances:\\n\\n\" + table\n",
    "\n",
    "data_gbm.varimp()\n",
    "data_rf.varimp()"
   ]
  },
  {
   "cell_type": "code",
   "execution_count": 11,
   "metadata": {
    "collapsed": false
   },
   "outputs": [
    {
     "name": "stdout",
     "output_type": "stream",
     "text": [
      "\n",
      "ModelMetricsBinomial: gbm\n",
      "** Reported on test data. **\n",
      "\n",
      "MSE: 0.207560578082\n",
      "R^2: 0.167238078964\n",
      "LogLoss: 0.601741033683\n",
      "AUC: 0.735620149989\n",
      "Gini: 0.471240299977\n",
      "\n",
      "Confusion Matrix (Act/Pred) for max f1 @ threshold = 0.381028800734:\n"
     ]
    },
    {
     "data": {
      "text/html": [
       "<div style=\"overflow:auto\"><table style=\"width:50%\"><tr><td><b></b></td>\n",
       "<td><b>NO</b></td>\n",
       "<td><b>YES</b></td>\n",
       "<td><b>Error</b></td>\n",
       "<td><b>Rate</b></td></tr>\n",
       "<tr><td>NO</td>\n",
       "<td>2166.0</td>\n",
       "<td>2988.0</td>\n",
       "<td>0.5797</td>\n",
       "<td> (2988.0/5154.0)</td></tr>\n",
       "<tr><td>YES</td>\n",
       "<td>849.0</td>\n",
       "<td>4905.0</td>\n",
       "<td>0.1475</td>\n",
       "<td> (849.0/5754.0)</td></tr>\n",
       "<tr><td>Total</td>\n",
       "<td>3015.0</td>\n",
       "<td>7893.0</td>\n",
       "<td>0.3518</td>\n",
       "<td> (3837.0/10908.0)</td></tr></table></div>"
      ],
      "text/plain": [
       "       NO    YES    Error    Rate\n",
       "-----  ----  -----  -------  ----------------\n",
       "NO     2166  2988   0.5797   (2988.0/5154.0)\n",
       "YES    849   4905   0.1475   (849.0/5754.0)\n",
       "Total  3015  7893   0.3518   (3837.0/10908.0)"
      ]
     },
     "metadata": {},
     "output_type": "display_data"
    },
    {
     "name": "stdout",
     "output_type": "stream",
     "text": [
      "\n",
      "Maximum Metrics: Maximum metrics at their respective thresholds\n",
      "\n"
     ]
    },
    {
     "data": {
      "text/html": [
       "<div style=\"overflow:auto\"><table style=\"width:50%\"><tr><td><b>metric</b></td>\n",
       "<td><b>threshold</b></td>\n",
       "<td><b>value</b></td>\n",
       "<td><b>idx</b></td></tr>\n",
       "<tr><td>max f1</td>\n",
       "<td>0.4</td>\n",
       "<td>0.7</td>\n",
       "<td>281.0</td></tr>\n",
       "<tr><td>max f2</td>\n",
       "<td>0.2</td>\n",
       "<td>0.9</td>\n",
       "<td>376.0</td></tr>\n",
       "<tr><td>max f0point5</td>\n",
       "<td>0.5</td>\n",
       "<td>0.7</td>\n",
       "<td>187.0</td></tr>\n",
       "<tr><td>max accuracy</td>\n",
       "<td>0.5</td>\n",
       "<td>0.7</td>\n",
       "<td>220.0</td></tr>\n",
       "<tr><td>max precision</td>\n",
       "<td>1.0</td>\n",
       "<td>1.0</td>\n",
       "<td>0.0</td></tr>\n",
       "<tr><td>max absolute_MCC</td>\n",
       "<td>0.5</td>\n",
       "<td>0.4</td>\n",
       "<td>187.0</td></tr>\n",
       "<tr><td>max min_per_class_accuracy</td>\n",
       "<td>0.5</td>\n",
       "<td>0.7</td>\n",
       "<td>209.0</td></tr></table></div>"
      ],
      "text/plain": [
       "metric                      threshold    value     idx\n",
       "--------------------------  -----------  --------  -----\n",
       "max f1                      0.381029     0.718839  281\n",
       "max f2                      0.187038     0.850025  376\n",
       "max f0point5                0.549031     0.7006    187\n",
       "max accuracy                0.487375     0.679043  220\n",
       "max precision               0.961425     1         0\n",
       "max absolute_MCC            0.549031     0.357243  187\n",
       "max min_per_class_accuracy  0.506444     0.677963  209"
      ]
     },
     "metadata": {},
     "output_type": "display_data"
    },
    {
     "data": {
      "text/plain": []
     },
     "execution_count": 11,
     "metadata": {},
     "output_type": "execute_result"
    }
   ],
   "source": [
    "# Model performance of GBM model on test data\n",
    "data_gbm2.model_performance(test)"
   ]
  }
 ],
 "metadata": {
  "kernelspec": {
   "display_name": "Python 2",
   "language": "python",
   "name": "python2"
  },
  "language_info": {
   "codemirror_mode": {
    "name": "ipython",
    "version": 2
   },
   "file_extension": ".py",
   "mimetype": "text/x-python",
   "name": "python",
   "nbconvert_exporter": "python",
   "pygments_lexer": "ipython2",
   "version": "2.7.5"
  }
 },
 "nbformat": 4,
 "nbformat_minor": 0
}
