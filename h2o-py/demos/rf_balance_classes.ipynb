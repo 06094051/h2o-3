{
 "metadata": {
  "name": "",
  "signature": "sha256:abdf96bf45c63e5d40852322a2117b0bc31d1223ec8087cd40a6fe05e82fc6a4"
 },
 "nbformat": 3,
 "nbformat_minor": 0,
 "worksheets": [
  {
   "cells": [
    {
     "cell_type": "code",
     "collapsed": false,
     "input": [
      "# This is a demo of H2O's GLM function\n",
      "# It imports a data set, parses it, and prints a summary\n",
      "# Then, it runs GLM with a binomial link function\n",
      "import h2o"
     ],
     "language": "python",
     "metadata": {},
     "outputs": [],
     "prompt_number": 1
    },
    {
     "cell_type": "code",
     "collapsed": false,
     "input": [
      "h2o.init()"
     ],
     "language": "python",
     "metadata": {},
     "outputs": [
      {
       "html": [
        "<div style=\"overflow:auto\"><table style=\"width:50%\"><tr><td>H2O cluster uptime: </td>\n",
        "<td>51 seconds 877 milliseconds </td></tr>\n",
        "<tr><td>H2O cluster version: </td>\n",
        "<td>0.3.0.99999</td></tr>\n",
        "<tr><td>H2O cluster name: </td>\n",
        "<td>ece</td></tr>\n",
        "<tr><td>H2O cluster total nodes: </td>\n",
        "<td>1</td></tr>\n",
        "<tr><td>H2O cluster total memory: </td>\n",
        "<td>3.56 GB</td></tr>\n",
        "<tr><td>H2O cluster total cores: </td>\n",
        "<td>8</td></tr>\n",
        "<tr><td>H2O cluster allowed cores: </td>\n",
        "<td>8</td></tr>\n",
        "<tr><td>H2O cluster healthy: </td>\n",
        "<td>True</td></tr>\n",
        "<tr><td>H2O Connection ip: </td>\n",
        "<td>127.0.0.1</td></tr>\n",
        "<tr><td>H2O Connection port: </td>\n",
        "<td>54321</td></tr></table></div>"
       ],
       "metadata": {},
       "output_type": "display_data",
       "text": [
        "--------------------------  ---------------------------\n",
        "H2O cluster uptime:         51 seconds 877 milliseconds\n",
        "H2O cluster version:        0.3.0.99999\n",
        "H2O cluster name:           ece\n",
        "H2O cluster total nodes:    1\n",
        "H2O cluster total memory:   3.56 GB\n",
        "H2O cluster total cores:    8\n",
        "H2O cluster allowed cores:  8\n",
        "H2O cluster healthy:        True\n",
        "H2O Connection ip:          127.0.0.1\n",
        "H2O Connection port:        54321\n",
        "--------------------------  ---------------------------"
       ]
      }
     ],
     "prompt_number": 2
    },
    {
     "cell_type": "code",
     "collapsed": false,
     "input": [
      "air = h2o.upload_file(path=h2o.locate(\"smalldata/airlines/AirlinesTrain.csv.zip\"))"
     ],
     "language": "python",
     "metadata": {},
     "outputs": [
      {
       "output_type": "stream",
       "stream": "stdout",
       "text": [
        "\n",
        "\r",
        "Parse Progress: [                                                  ] 00%"
       ]
      },
      {
       "output_type": "stream",
       "stream": "stdout",
       "text": [
        "\r",
        "Parse Progress: [##################################################] 100%"
       ]
      },
      {
       "output_type": "stream",
       "stream": "stdout",
       "text": [
        "\n",
        "Uploaded py9794c79a-e9be-452c-bef9-a970d581538c into cluster with 24421 rows and 12 cols\n"
       ]
      }
     ],
     "prompt_number": 3
    },
    {
     "cell_type": "code",
     "collapsed": false,
     "input": [
      "r = air[0].runif()\n",
      "air_train = air[r < 0.8]\n",
      "air_valid = air[r >= 0.8]"
     ],
     "language": "python",
     "metadata": {},
     "outputs": [],
     "prompt_number": 4
    },
    {
     "cell_type": "code",
     "collapsed": false,
     "input": [
      "myX = [\"Origin\", \"Dest\", \"Distance\", \"UniqueCarrier\", \"fMonth\", \"fDayofMonth\", \"fDayOfWeek\"]\n",
      "myY = \"IsDepDelayed\""
     ],
     "language": "python",
     "metadata": {},
     "outputs": [],
     "prompt_number": 5
    },
    {
     "cell_type": "code",
     "collapsed": false,
     "input": [
      "rf_no_bal = h2o.random_forest(x=air_train[myX], y=air_train[myY], validation_x= air_valid[myX],\n",
      "                              validation_y=air_valid[myY], seed=12, ntrees=10, max_depth=20, balance_classes=False)\n",
      "rf_no_bal.show()"
     ],
     "language": "python",
     "metadata": {},
     "outputs": [
      {
       "output_type": "stream",
       "stream": "stdout",
       "text": [
        "\n",
        "\r",
        "drf Model Build Progress: [                                                  ] 00%"
       ]
      },
      {
       "output_type": "stream",
       "stream": "stdout",
       "text": [
        "\r",
        "drf Model Build Progress: [                                                  ] 00%"
       ]
      },
      {
       "output_type": "stream",
       "stream": "stdout",
       "text": [
        "\r",
        "drf Model Build Progress: [                                                  ] 00%"
       ]
      },
      {
       "output_type": "stream",
       "stream": "stdout",
       "text": [
        "\r",
        "drf Model Build Progress: [##########                                        ] 20%"
       ]
      },
      {
       "output_type": "stream",
       "stream": "stdout",
       "text": [
        "\r",
        "drf Model Build Progress: [##############################                    ] 60%"
       ]
      },
      {
       "output_type": "stream",
       "stream": "stdout",
       "text": [
        "\r",
        "drf Model Build Progress: [#############################################     ] 90%"
       ]
      },
      {
       "output_type": "stream",
       "stream": "stdout",
       "text": [
        "\r",
        "drf Model Build Progress: [##################################################] 100%"
       ]
      },
      {
       "output_type": "stream",
       "stream": "stdout",
       "text": [
        "\n",
        "Model Details"
       ]
      },
      {
       "output_type": "stream",
       "stream": "stdout",
       "text": [
        "\n",
        "=============\n",
        "H2OBinomialModel :  Distributed RF\n",
        "Model Key:  DRFModel__bc0741403625b24c101864f3ebd4ebb\n",
        "\n",
        "Model Summary:\n",
        "\n"
       ]
      },
      {
       "html": [
        "<div style=\"overflow:auto\"><table style=\"width:50%\"><tr><td></td>\n",
        "<td>number_of_trees</td>\n",
        "<td>model_size_in_bytes</td>\n",
        "<td>min_depth</td>\n",
        "<td>max_depth</td>\n",
        "<td>mean_depth</td>\n",
        "<td>min_leaves</td>\n",
        "<td>max_leaves</td>\n",
        "<td>mean_leaves</td></tr>\n",
        "<tr><td></td>\n",
        "<td>20.0</td>\n",
        "<td>2327420.0</td>\n",
        "<td>20.0</td>\n",
        "<td>20.0</td>\n",
        "<td>20.0</td>\n",
        "<td>651.0</td>\n",
        "<td>1067.0</td>\n",
        "<td>875.8</td></tr></table></div>"
       ],
       "metadata": {},
       "output_type": "display_data",
       "text": [
        "    number_of_trees    model_size_in_bytes    min_depth    max_depth    mean_depth    min_leaves    max_leaves    mean_leaves\n",
        "--  -----------------  ---------------------  -----------  -----------  ------------  ------------  ------------  -------------\n",
        "    20                 2.32742e+06            20           20           20            651           1067          875.8"
       ]
      },
      {
       "output_type": "stream",
       "stream": "stdout",
       "text": [
        "\n",
        "\n",
        "ModelMetricsBinomial: drf\n",
        "** Reported on train data. **\n",
        "\n",
        "MSE: 0.236331618587\n",
        "R^2: 0.0462546058316\n",
        "LogLoss: 1.27471062126\n",
        "AUC: 0.680553522377\n",
        "Gini: 0.361107044753\n",
        "\n",
        "Confusion Matrix (Act/Pred) for max f1 @ threshold = 0.322864511157:\n",
        "\n"
       ]
      },
      {
       "html": [
        "<div style=\"overflow:auto\"><table style=\"width:50%\"><tr><td></td>\n",
        "<td>NO</td>\n",
        "<td>YES</td>\n",
        "<td>Error</td>\n",
        "<td>Rate</td></tr>\n",
        "<tr><td>NO</td>\n",
        "<td>2047.0</td>\n",
        "<td>6826.0</td>\n",
        "<td>0.7693</td>\n",
        "<td> (6826.0/8873.0)</td></tr>\n",
        "<tr><td>YES</td>\n",
        "<td>944.0</td>\n",
        "<td>9775.0</td>\n",
        "<td>0.0881</td>\n",
        "<td> (944.0/10719.0)</td></tr>\n",
        "<tr><td>Total</td>\n",
        "<td>2991.0</td>\n",
        "<td>16601.0</td>\n",
        "<td>0.8574</td>\n",
        "<td> (0.8574/19592.0)</td></tr></table></div>"
       ],
       "metadata": {},
       "output_type": "display_data",
       "text": [
        "       NO    YES    Error    Rate\n",
        "-----  ----  -----  -------  ----------------\n",
        "NO     2047  6826   0.7693   (6826.0/8873.0)\n",
        "YES    944   9775   0.0881   (944.0/10719.0)\n",
        "Total  2991  16601  0.8574   (0.8574/19592.0)"
       ]
      },
      {
       "output_type": "stream",
       "stream": "stdout",
       "text": [
        "\n",
        "Maximum Metrics:\n",
        "\n"
       ]
      },
      {
       "html": [
        "<div style=\"overflow:auto\"><table style=\"width:50%\"><tr><td>metric</td>\n",
        "<td>threshold</td>\n",
        "<td>value</td>\n",
        "<td>idx</td></tr>\n",
        "<tr><td>f1</td>\n",
        "<td>0.322864511157</td>\n",
        "<td>0.715592972182</td>\n",
        "<td>322.0</td></tr>\n",
        "<tr><td>f2</td>\n",
        "<td>0.0</td>\n",
        "<td>0.857959275149</td>\n",
        "<td>399.0</td></tr>\n",
        "<tr><td>f0point5</td>\n",
        "<td>0.545594975994</td>\n",
        "<td>0.671309300118</td>\n",
        "<td>200.0</td></tr>\n",
        "<tr><td>accuracy</td>\n",
        "<td>0.524766628238</td>\n",
        "<td>0.639750918742</td>\n",
        "<td>212.0</td></tr>\n",
        "<tr><td>precision</td>\n",
        "<td>0.90912517983</td>\n",
        "<td>0.85111662531</td>\n",
        "<td>19.0</td></tr>\n",
        "<tr><td>absolute_MCC</td>\n",
        "<td>0.545594975994</td>\n",
        "<td>0.274297356182</td>\n",
        "<td>200.0</td></tr>\n",
        "<tr><td>min_per_class_accuracy</td>\n",
        "<td>0.550566436906</td>\n",
        "<td>0.636719843269</td>\n",
        "<td>197.0</td></tr>\n",
        "<tr><td>tns</td>\n",
        "<td>1.0</td>\n",
        "<td>8857.0</td>\n",
        "<td>0.0</td></tr>\n",
        "<tr><td>fns</td>\n",
        "<td>1.0</td>\n",
        "<td>10667.0</td>\n",
        "<td>0.0</td></tr>\n",
        "<tr><td>fps</td>\n",
        "<td>0.0</td>\n",
        "<td>8873.0</td>\n",
        "<td>399.0</td></tr>\n",
        "<tr><td>tps</td>\n",
        "<td>0.0</td>\n",
        "<td>10719.0</td>\n",
        "<td>399.0</td></tr>\n",
        "<tr><td>tnr</td>\n",
        "<td>1.0</td>\n",
        "<td>0.998196776738</td>\n",
        "<td>0.0</td></tr>\n",
        "<tr><td>fnr</td>\n",
        "<td>1.0</td>\n",
        "<td>0.995148801194</td>\n",
        "<td>0.0</td></tr>\n",
        "<tr><td>fpr</td>\n",
        "<td>0.0</td>\n",
        "<td>1.0</td>\n",
        "<td>399.0</td></tr>\n",
        "<tr><td>tpr</td>\n",
        "<td>0.0</td>\n",
        "<td>1.0</td>\n",
        "<td>399.0</td></tr></table></div>"
       ],
       "metadata": {},
       "output_type": "display_data",
       "text": [
        "metric                  threshold    value     idx\n",
        "----------------------  -----------  --------  -----\n",
        "f1                      0.322865     0.715593  322\n",
        "f2                      0            0.857959  399\n",
        "f0point5                0.545595     0.671309  200\n",
        "accuracy                0.524767     0.639751  212\n",
        "precision               0.909125     0.851117  19\n",
        "absolute_MCC            0.545595     0.274297  200\n",
        "min_per_class_accuracy  0.550566     0.63672   197\n",
        "tns                     1            8857      0\n",
        "fns                     1            10667     0\n",
        "fps                     0            8873      399\n",
        "tps                     0            10719     399\n",
        "tnr                     1            0.998197  0\n",
        "fnr                     1            0.995149  0\n",
        "fpr                     0            1         399\n",
        "tpr                     0            1         399"
       ]
      },
      {
       "output_type": "stream",
       "stream": "stdout",
       "text": [
        "\n",
        "ModelMetricsBinomial: drf\n",
        "** Reported on validation data. **\n",
        "\n",
        "MSE: 0.217352596207\n",
        "R^2: 0.123392340014\n",
        "LogLoss: 0.624015906337\n",
        "AUC: 0.701825438507\n",
        "Gini: 0.403650877015\n",
        "\n",
        "Confusion Matrix (Act/Pred) for max f1 @ threshold = 0.368656634423:\n",
        "\n"
       ]
      },
      {
       "html": [
        "<div style=\"overflow:auto\"><table style=\"width:50%\"><tr><td></td>\n",
        "<td>NO</td>\n",
        "<td>YES</td>\n",
        "<td>Error</td>\n",
        "<td>Rate</td></tr>\n",
        "<tr><td>NO</td>\n",
        "<td>604.0</td>\n",
        "<td>1589.0</td>\n",
        "<td>0.7246</td>\n",
        "<td> (1589.0/2193.0)</td></tr>\n",
        "<tr><td>YES</td>\n",
        "<td>227.0</td>\n",
        "<td>2409.0</td>\n",
        "<td>0.0861</td>\n",
        "<td> (227.0/2636.0)</td></tr>\n",
        "<tr><td>Total</td>\n",
        "<td>831.0</td>\n",
        "<td>3998.0</td>\n",
        "<td>0.8107</td>\n",
        "<td> (0.8107/4829.0)</td></tr></table></div>"
       ],
       "metadata": {},
       "output_type": "display_data",
       "text": [
        "       NO    YES    Error    Rate\n",
        "-----  ----  -----  -------  ---------------\n",
        "NO     604   1589   0.7246   (1589.0/2193.0)\n",
        "YES    227   2409   0.0861   (227.0/2636.0)\n",
        "Total  831   3998   0.8107   (0.8107/4829.0)"
       ]
      },
      {
       "output_type": "stream",
       "stream": "stdout",
       "text": [
        "\n",
        "Maximum Metrics:\n",
        "\n"
       ]
      },
      {
       "html": [
        "<div style=\"overflow:auto\"><table style=\"width:50%\"><tr><td>metric</td>\n",
        "<td>threshold</td>\n",
        "<td>value</td>\n",
        "<td>idx</td></tr>\n",
        "<tr><td>f1</td>\n",
        "<td>0.368656634423</td>\n",
        "<td>0.726258667471</td>\n",
        "<td>311.0</td></tr>\n",
        "<tr><td>f2</td>\n",
        "<td>0.109605431429</td>\n",
        "<td>0.857682045943</td>\n",
        "<td>396.0</td></tr>\n",
        "<tr><td>f0point5</td>\n",
        "<td>0.533332830725</td>\n",
        "<td>0.681985294118</td>\n",
        "<td>219.0</td></tr>\n",
        "<tr><td>accuracy</td>\n",
        "<td>0.512688808321</td>\n",
        "<td>0.656450610893</td>\n",
        "<td>231.0</td></tr>\n",
        "<tr><td>precision</td>\n",
        "<td>0.950242710293</td>\n",
        "<td>1.0</td>\n",
        "<td>0.0</td></tr>\n",
        "<tr><td>absolute_MCC</td>\n",
        "<td>0.512688808321</td>\n",
        "<td>0.30188013553</td>\n",
        "<td>231.0</td></tr>\n",
        "<tr><td>min_per_class_accuracy</td>\n",
        "<td>0.55856723101</td>\n",
        "<td>0.644322845417</td>\n",
        "<td>200.0</td></tr>\n",
        "<tr><td>tns</td>\n",
        "<td>0.950242710293</td>\n",
        "<td>2193.0</td>\n",
        "<td>0.0</td></tr>\n",
        "<tr><td>fns</td>\n",
        "<td>0.950242710293</td>\n",
        "<td>2634.0</td>\n",
        "<td>0.0</td></tr>\n",
        "<tr><td>fps</td>\n",
        "<td>0.0932385928409</td>\n",
        "<td>2193.0</td>\n",
        "<td>399.0</td></tr>\n",
        "<tr><td>tps</td>\n",
        "<td>0.109605431429</td>\n",
        "<td>2636.0</td>\n",
        "<td>396.0</td></tr>\n",
        "<tr><td>tnr</td>\n",
        "<td>0.950242710293</td>\n",
        "<td>1.0</td>\n",
        "<td>0.0</td></tr>\n",
        "<tr><td>fnr</td>\n",
        "<td>0.950242710293</td>\n",
        "<td>0.999241274659</td>\n",
        "<td>0.0</td></tr>\n",
        "<tr><td>fpr</td>\n",
        "<td>0.0932385928409</td>\n",
        "<td>1.0</td>\n",
        "<td>399.0</td></tr>\n",
        "<tr><td>tpr</td>\n",
        "<td>0.109605431429</td>\n",
        "<td>1.0</td>\n",
        "<td>396.0</td></tr></table></div>"
       ],
       "metadata": {},
       "output_type": "display_data",
       "text": [
        "metric                  threshold    value     idx\n",
        "----------------------  -----------  --------  -----\n",
        "f1                      0.368657     0.726259  311\n",
        "f2                      0.109605     0.857682  396\n",
        "f0point5                0.533333     0.681985  219\n",
        "accuracy                0.512689     0.656451  231\n",
        "precision               0.950243     1         0\n",
        "absolute_MCC            0.512689     0.30188   231\n",
        "min_per_class_accuracy  0.558567     0.644323  200\n",
        "tns                     0.950243     2193      0\n",
        "fns                     0.950243     2634      0\n",
        "fps                     0.0932386    2193      399\n",
        "tps                     0.109605     2636      396\n",
        "tnr                     0.950243     1         0\n",
        "fnr                     0.950243     0.999241  0\n",
        "fpr                     0.0932386    1         399\n",
        "tpr                     0.109605     1         396"
       ]
      },
      {
       "output_type": "stream",
       "stream": "stdout",
       "text": [
        "\n",
        "Scoring History:\n",
        "\n"
       ]
      },
      {
       "html": [
        "<div style=\"overflow:auto\"><table style=\"width:50%\"><tr><td></td>\n",
        "<td>timestamp</td>\n",
        "<td>duration</td>\n",
        "<td>number_of_trees</td>\n",
        "<td>training_MSE</td>\n",
        "<td>validation_MSE</td></tr>\n",
        "<tr><td></td>\n",
        "<td>2015-05-15 12:23:26</td>\n",
        "<td> 0.388 sec</td>\n",
        "<td>1.0</td>\n",
        "<td>0.748255228641</td>\n",
        "<td>0.241380840879</td></tr>\n",
        "<tr><td></td>\n",
        "<td>2015-05-15 12:23:26</td>\n",
        "<td> 0.574 sec</td>\n",
        "<td>2.0</td>\n",
        "<td>0.576112651464</td>\n",
        "<td>0.225397936895</td></tr>\n",
        "<tr><td></td>\n",
        "<td>2015-05-15 12:23:26</td>\n",
        "<td> 0.696 sec</td>\n",
        "<td>3.0</td>\n",
        "<td>0.461046124523</td>\n",
        "<td>0.221066395506</td></tr>\n",
        "<tr><td></td>\n",
        "<td>2015-05-15 12:23:26</td>\n",
        "<td> 0.815 sec</td>\n",
        "<td>4.0</td>\n",
        "<td>0.381109605965</td>\n",
        "<td>0.219360168345</td></tr>\n",
        "<tr><td></td>\n",
        "<td>2015-05-15 12:23:26</td>\n",
        "<td> 0.933 sec</td>\n",
        "<td>5.0</td>\n",
        "<td>0.331161993769</td>\n",
        "<td>0.218266155049</td></tr>\n",
        "<tr><td></td>\n",
        "<td>2015-05-15 12:23:26</td>\n",
        "<td> 1.048 sec</td>\n",
        "<td>6.0</td>\n",
        "<td>0.297388320073</td>\n",
        "<td>0.218134134536</td></tr>\n",
        "<tr><td></td>\n",
        "<td>2015-05-15 12:23:26</td>\n",
        "<td> 1.192 sec</td>\n",
        "<td>7.0</td>\n",
        "<td>0.272631363456</td>\n",
        "<td>0.217568409503</td></tr>\n",
        "<tr><td></td>\n",
        "<td>2015-05-15 12:23:26</td>\n",
        "<td> 1.328 sec</td>\n",
        "<td>8.0</td>\n",
        "<td>0.255481475964</td>\n",
        "<td>0.217432782228</td></tr>\n",
        "<tr><td></td>\n",
        "<td>2015-05-15 12:23:27</td>\n",
        "<td> 1.472 sec</td>\n",
        "<td>9.0</td>\n",
        "<td>0.243412407312</td>\n",
        "<td>0.217488778852</td></tr>\n",
        "<tr><td></td>\n",
        "<td>2015-05-15 12:23:27</td>\n",
        "<td> 1.629 sec</td>\n",
        "<td>10.0</td>\n",
        "<td>0.236331618587</td>\n",
        "<td>0.217352596207</td></tr></table></div>"
       ],
       "metadata": {},
       "output_type": "display_data",
       "text": [
        "    timestamp            duration    number_of_trees    training_MSE    validation_MSE\n",
        "--  -------------------  ----------  -----------------  --------------  ----------------\n",
        "    2015-05-15 12:23:26  0.388 sec   1                  0.748255        0.241381\n",
        "    2015-05-15 12:23:26  0.574 sec   2                  0.576113        0.225398\n",
        "    2015-05-15 12:23:26  0.696 sec   3                  0.461046        0.221066\n",
        "    2015-05-15 12:23:26  0.815 sec   4                  0.38111         0.21936\n",
        "    2015-05-15 12:23:26  0.933 sec   5                  0.331162        0.218266\n",
        "    2015-05-15 12:23:26  1.048 sec   6                  0.297388        0.218134\n",
        "    2015-05-15 12:23:26  1.192 sec   7                  0.272631        0.217568\n",
        "    2015-05-15 12:23:26  1.328 sec   8                  0.255481        0.217433\n",
        "    2015-05-15 12:23:27  1.472 sec   9                  0.243412        0.217489\n",
        "    2015-05-15 12:23:27  1.629 sec   10                 0.236332        0.217353"
       ]
      },
      {
       "output_type": "stream",
       "stream": "stdout",
       "text": [
        "\n",
        "Variable Importances:\n",
        "\n"
       ]
      },
      {
       "html": [
        "<div style=\"overflow:auto\"><table style=\"width:50%\"><tr><td>variable</td>\n",
        "<td>relative_importance</td>\n",
        "<td>scaled_importance</td>\n",
        "<td>percentage</td></tr>\n",
        "<tr><td>fDayofMonth</td>\n",
        "<td>5402.38916016</td>\n",
        "<td>1.0</td>\n",
        "<td>0.251309921762</td></tr>\n",
        "<tr><td>Origin</td>\n",
        "<td>5243.54394531</td>\n",
        "<td>0.970597228349</td>\n",
        "<td>0.243920713519</td></tr>\n",
        "<tr><td>Distance</td>\n",
        "<td>3596.98828125</td>\n",
        "<td>0.66581436002</td>\n",
        "<td>0.167325754725</td></tr>\n",
        "<tr><td>Dest</td>\n",
        "<td>3301.38134766</td>\n",
        "<td>0.61109654447</td>\n",
        "<td>0.15357462478</td></tr>\n",
        "<tr><td>UniqueCarrier</td>\n",
        "<td>2248.83300781</td>\n",
        "<td>0.416266385324</td>\n",
        "<td>0.104611872728</td></tr>\n",
        "<tr><td>fDayOfWeek</td>\n",
        "<td>1514.39550781</td>\n",
        "<td>0.280319588781</td>\n",
        "<td>0.0704470939251</td></tr>\n",
        "<tr><td>fMonth</td>\n",
        "<td>189.388259888</td>\n",
        "<td>0.035056389733</td>\n",
        "<td>0.00881001856106</td></tr></table></div>"
       ],
       "metadata": {},
       "output_type": "display_data",
       "text": [
        "variable       relative_importance    scaled_importance    percentage\n",
        "-------------  ---------------------  -------------------  ------------\n",
        "fDayofMonth    5402.39                1                    0.25131\n",
        "Origin         5243.54                0.970597             0.243921\n",
        "Distance       3596.99                0.665814             0.167326\n",
        "Dest           3301.38                0.611097             0.153575\n",
        "UniqueCarrier  2248.83                0.416266             0.104612\n",
        "fDayOfWeek     1514.4                 0.28032              0.0704471\n",
        "fMonth         189.388                0.0350564            0.00881002"
       ]
      }
     ],
     "prompt_number": 6
    },
    {
     "cell_type": "code",
     "collapsed": false,
     "input": [
      "rf_bal = h2o.random_forest(x=air_train[myX], y=air_train[myY], validation_x= air_valid[myX],\n",
      "                               validation_y=air_valid[myY], seed=12, ntrees=10, max_depth=20, balance_classes=True)\n",
      "rf_bal.show()"
     ],
     "language": "python",
     "metadata": {},
     "outputs": [
      {
       "output_type": "stream",
       "stream": "stdout",
       "text": [
        "\n",
        "\r",
        "drf Model Build Progress: [                                                  ] 00%"
       ]
      },
      {
       "output_type": "stream",
       "stream": "stdout",
       "text": [
        "\r",
        "drf Model Build Progress: [                                                  ] 00%"
       ]
      },
      {
       "output_type": "stream",
       "stream": "stdout",
       "text": [
        "\r",
        "drf Model Build Progress: [##########                                        ] 20%"
       ]
      },
      {
       "output_type": "stream",
       "stream": "stdout",
       "text": [
        "\r",
        "drf Model Build Progress: [#########################                         ] 50%"
       ]
      },
      {
       "output_type": "stream",
       "stream": "stdout",
       "text": [
        "\r",
        "drf Model Build Progress: [########################################          ] 80%"
       ]
      },
      {
       "output_type": "stream",
       "stream": "stdout",
       "text": [
        "\r",
        "drf Model Build Progress: [##################################################] 100%"
       ]
      },
      {
       "output_type": "stream",
       "stream": "stdout",
       "text": [
        "\n",
        "Model Details"
       ]
      },
      {
       "output_type": "stream",
       "stream": "stdout",
       "text": [
        "\n",
        "=============\n",
        "H2OBinomialModel :  Distributed RF\n",
        "Model Key:  DRFModel__97d1127f0a365e956ab49bb0214248a3\n",
        "\n",
        "Model Summary:\n",
        "\n"
       ]
      },
      {
       "html": [
        "<div style=\"overflow:auto\"><table style=\"width:50%\"><tr><td></td>\n",
        "<td>number_of_trees</td>\n",
        "<td>model_size_in_bytes</td>\n",
        "<td>min_depth</td>\n",
        "<td>max_depth</td>\n",
        "<td>mean_depth</td>\n",
        "<td>min_leaves</td>\n",
        "<td>max_leaves</td>\n",
        "<td>mean_leaves</td></tr>\n",
        "<tr><td></td>\n",
        "<td>20.0</td>\n",
        "<td>2475145.0</td>\n",
        "<td>20.0</td>\n",
        "<td>20.0</td>\n",
        "<td>20.0</td>\n",
        "<td>626.0</td>\n",
        "<td>1042.0</td>\n",
        "<td>904.7</td></tr></table></div>"
       ],
       "metadata": {},
       "output_type": "display_data",
       "text": [
        "    number_of_trees    model_size_in_bytes    min_depth    max_depth    mean_depth    min_leaves    max_leaves    mean_leaves\n",
        "--  -----------------  ---------------------  -----------  -----------  ------------  ------------  ------------  -------------\n",
        "    20                 2.47514e+06            20           20           20            626           1042          904.7"
       ]
      },
      {
       "output_type": "stream",
       "stream": "stdout",
       "text": [
        "\n",
        "\n",
        "ModelMetricsBinomial: drf\n",
        "** Reported on train data. **\n",
        "\n",
        "MSE: 0.235358394958\n",
        "R^2: 0.050182169817\n",
        "LogLoss: 1.27584916141\n",
        "AUC: 0.694478033421\n",
        "Gini: 0.388956066841\n",
        "\n",
        "Confusion Matrix (Act/Pred) for max f1 @ threshold = 0.414338864632:\n",
        "\n"
       ]
      },
      {
       "html": [
        "<div style=\"overflow:auto\"><table style=\"width:50%\"><tr><td></td>\n",
        "<td>NO</td>\n",
        "<td>YES</td>\n",
        "<td>Error</td>\n",
        "<td>Rate</td></tr>\n",
        "<tr><td>NO</td>\n",
        "<td>4243.0</td>\n",
        "<td>6444.0</td>\n",
        "<td>0.603</td>\n",
        "<td> (6444.0/10687.0)</td></tr>\n",
        "<tr><td>YES</td>\n",
        "<td>1718.0</td>\n",
        "<td>9001.0</td>\n",
        "<td>0.1603</td>\n",
        "<td> (1718.0/10719.0)</td></tr>\n",
        "<tr><td>Total</td>\n",
        "<td>5961.0</td>\n",
        "<td>15445.0</td>\n",
        "<td>0.7633</td>\n",
        "<td> (0.7633/21406.0)</td></tr></table></div>"
       ],
       "metadata": {},
       "output_type": "display_data",
       "text": [
        "       NO    YES    Error    Rate\n",
        "-----  ----  -----  -------  ----------------\n",
        "NO     4243  6444   0.603    (6444.0/10687.0)\n",
        "YES    1718  9001   0.1603   (1718.0/10719.0)\n",
        "Total  5961  15445  0.7633   (0.7633/21406.0)"
       ]
      },
      {
       "output_type": "stream",
       "stream": "stdout",
       "text": [
        "\n",
        "Maximum Metrics:\n",
        "\n"
       ]
      },
      {
       "html": [
        "<div style=\"overflow:auto\"><table style=\"width:50%\"><tr><td>metric</td>\n",
        "<td>threshold</td>\n",
        "<td>value</td>\n",
        "<td>idx</td></tr>\n",
        "<tr><td>f1</td>\n",
        "<td>0.414338864632</td>\n",
        "<td>0.688044641492</td>\n",
        "<td>262.0</td></tr>\n",
        "<tr><td>f2</td>\n",
        "<td>0.0</td>\n",
        "<td>0.833748172117</td>\n",
        "<td>399.0</td></tr>\n",
        "<tr><td>f0point5</td>\n",
        "<td>0.557172317081</td>\n",
        "<td>0.644505804344</td>\n",
        "<td>185.0</td></tr>\n",
        "<tr><td>accuracy</td>\n",
        "<td>0.545337714341</td>\n",
        "<td>0.643557880968</td>\n",
        "<td>191.0</td></tr>\n",
        "<tr><td>precision</td>\n",
        "<td>0.897239111087</td>\n",
        "<td>0.865800865801</td>\n",
        "<td>20.0</td></tr>\n",
        "<tr><td>absolute_MCC</td>\n",
        "<td>0.545337714341</td>\n",
        "<td>0.287117604792</td>\n",
        "<td>191.0</td></tr>\n",
        "<tr><td>min_per_class_accuracy</td>\n",
        "<td>0.545337714341</td>\n",
        "<td>0.642877134061</td>\n",
        "<td>191.0</td></tr>\n",
        "<tr><td>tns</td>\n",
        "<td>1.0</td>\n",
        "<td>10667.0</td>\n",
        "<td>0.0</td></tr>\n",
        "<tr><td>fns</td>\n",
        "<td>1.0</td>\n",
        "<td>10657.0</td>\n",
        "<td>0.0</td></tr>\n",
        "<tr><td>fps</td>\n",
        "<td>0.0</td>\n",
        "<td>10687.0</td>\n",
        "<td>399.0</td></tr>\n",
        "<tr><td>tps</td>\n",
        "<td>0.0</td>\n",
        "<td>10719.0</td>\n",
        "<td>399.0</td></tr>\n",
        "<tr><td>tnr</td>\n",
        "<td>1.0</td>\n",
        "<td>0.998128567418</td>\n",
        "<td>0.0</td></tr>\n",
        "<tr><td>fnr</td>\n",
        "<td>1.0</td>\n",
        "<td>0.994215878347</td>\n",
        "<td>0.0</td></tr>\n",
        "<tr><td>fpr</td>\n",
        "<td>0.0</td>\n",
        "<td>1.0</td>\n",
        "<td>399.0</td></tr>\n",
        "<tr><td>tpr</td>\n",
        "<td>0.0</td>\n",
        "<td>1.0</td>\n",
        "<td>399.0</td></tr></table></div>"
       ],
       "metadata": {},
       "output_type": "display_data",
       "text": [
        "metric                  threshold    value     idx\n",
        "----------------------  -----------  --------  -----\n",
        "f1                      0.414339     0.688045  262\n",
        "f2                      0            0.833748  399\n",
        "f0point5                0.557172     0.644506  185\n",
        "accuracy                0.545338     0.643558  191\n",
        "precision               0.897239     0.865801  20\n",
        "absolute_MCC            0.545338     0.287118  191\n",
        "min_per_class_accuracy  0.545338     0.642877  191\n",
        "tns                     1            10667     0\n",
        "fns                     1            10657     0\n",
        "fps                     0            10687     399\n",
        "tps                     0            10719     399\n",
        "tnr                     1            0.998129  0\n",
        "fnr                     1            0.994216  0\n",
        "fpr                     0            1         399\n",
        "tpr                     0            1         399"
       ]
      },
      {
       "output_type": "stream",
       "stream": "stdout",
       "text": [
        "\n",
        "ModelMetricsBinomial: drf\n",
        "** Reported on validation data. **\n",
        "\n",
        "MSE: 0.216313987008\n",
        "R^2: 0.127581168655\n",
        "LogLoss: 0.622108263759\n",
        "AUC: 0.708288702431\n",
        "Gini: 0.416577404862\n",
        "\n",
        "Confusion Matrix (Act/Pred) for max f1 @ threshold = 0.406066104863:\n",
        "\n"
       ]
      },
      {
       "html": [
        "<div style=\"overflow:auto\"><table style=\"width:50%\"><tr><td></td>\n",
        "<td>NO</td>\n",
        "<td>YES</td>\n",
        "<td>Error</td>\n",
        "<td>Rate</td></tr>\n",
        "<tr><td>NO</td>\n",
        "<td>726.0</td>\n",
        "<td>1467.0</td>\n",
        "<td>0.6689</td>\n",
        "<td> (1467.0/2193.0)</td></tr>\n",
        "<tr><td>YES</td>\n",
        "<td>296.0</td>\n",
        "<td>2340.0</td>\n",
        "<td>0.1123</td>\n",
        "<td> (296.0/2636.0)</td></tr>\n",
        "<tr><td>Total</td>\n",
        "<td>1022.0</td>\n",
        "<td>3807.0</td>\n",
        "<td>0.7812</td>\n",
        "<td> (0.7812/4829.0)</td></tr></table></div>"
       ],
       "metadata": {},
       "output_type": "display_data",
       "text": [
        "       NO    YES    Error    Rate\n",
        "-----  ----  -----  -------  ---------------\n",
        "NO     726   1467   0.6689   (1467.0/2193.0)\n",
        "YES    296   2340   0.1123   (296.0/2636.0)\n",
        "Total  1022  3807   0.7812   (0.7812/4829.0)"
       ]
      },
      {
       "output_type": "stream",
       "stream": "stdout",
       "text": [
        "\n",
        "Maximum Metrics:\n",
        "\n"
       ]
      },
      {
       "html": [
        "<div style=\"overflow:auto\"><table style=\"width:50%\"><tr><td>metric</td>\n",
        "<td>threshold</td>\n",
        "<td>value</td>\n",
        "<td>idx</td></tr>\n",
        "<tr><td>f1</td>\n",
        "<td>0.406066104863</td>\n",
        "<td>0.726369703554</td>\n",
        "<td>291.0</td></tr>\n",
        "<tr><td>f2</td>\n",
        "<td>0.121901997682</td>\n",
        "<td>0.857579899759</td>\n",
        "<td>395.0</td></tr>\n",
        "<tr><td>f0point5</td>\n",
        "<td>0.588360354745</td>\n",
        "<td>0.690167949615</td>\n",
        "<td>182.0</td></tr>\n",
        "<tr><td>accuracy</td>\n",
        "<td>0.535027508801</td>\n",
        "<td>0.66121350176</td>\n",
        "<td>215.0</td></tr>\n",
        "<tr><td>precision</td>\n",
        "<td>0.962685954215</td>\n",
        "<td>1.0</td>\n",
        "<td>0.0</td></tr>\n",
        "<tr><td>absolute_MCC</td>\n",
        "<td>0.588360354745</td>\n",
        "<td>0.315389041667</td>\n",
        "<td>182.0</td></tr>\n",
        "<tr><td>min_per_class_accuracy</td>\n",
        "<td>0.558301594253</td>\n",
        "<td>0.649848254932</td>\n",
        "<td>200.0</td></tr>\n",
        "<tr><td>tns</td>\n",
        "<td>0.962685954215</td>\n",
        "<td>2193.0</td>\n",
        "<td>0.0</td></tr>\n",
        "<tr><td>fns</td>\n",
        "<td>0.962685954215</td>\n",
        "<td>2635.0</td>\n",
        "<td>0.0</td></tr>\n",
        "<tr><td>fps</td>\n",
        "<td>0.0593914919162</td>\n",
        "<td>2193.0</td>\n",
        "<td>399.0</td></tr>\n",
        "<tr><td>tps</td>\n",
        "<td>0.10475206534</td>\n",
        "<td>2636.0</td>\n",
        "<td>398.0</td></tr>\n",
        "<tr><td>tnr</td>\n",
        "<td>0.962685954215</td>\n",
        "<td>1.0</td>\n",
        "<td>0.0</td></tr>\n",
        "<tr><td>fnr</td>\n",
        "<td>0.962685954215</td>\n",
        "<td>0.999620637329</td>\n",
        "<td>0.0</td></tr>\n",
        "<tr><td>fpr</td>\n",
        "<td>0.0593914919162</td>\n",
        "<td>1.0</td>\n",
        "<td>399.0</td></tr>\n",
        "<tr><td>tpr</td>\n",
        "<td>0.10475206534</td>\n",
        "<td>1.0</td>\n",
        "<td>398.0</td></tr></table></div>"
       ],
       "metadata": {},
       "output_type": "display_data",
       "text": [
        "metric                  threshold    value     idx\n",
        "----------------------  -----------  --------  -----\n",
        "f1                      0.406066     0.72637   291\n",
        "f2                      0.121902     0.85758   395\n",
        "f0point5                0.58836      0.690168  182\n",
        "accuracy                0.535028     0.661214  215\n",
        "precision               0.962686     1         0\n",
        "absolute_MCC            0.58836      0.315389  182\n",
        "min_per_class_accuracy  0.558302     0.649848  200\n",
        "tns                     0.962686     2193      0\n",
        "fns                     0.962686     2635      0\n",
        "fps                     0.0593915    2193      399\n",
        "tps                     0.104752     2636      398\n",
        "tnr                     0.962686     1         0\n",
        "fnr                     0.962686     0.999621  0\n",
        "fpr                     0.0593915    1         399\n",
        "tpr                     0.104752     1         398"
       ]
      },
      {
       "output_type": "stream",
       "stream": "stdout",
       "text": [
        "\n",
        "Scoring History:\n",
        "\n"
       ]
      },
      {
       "html": [
        "<div style=\"overflow:auto\"><table style=\"width:50%\"><tr><td></td>\n",
        "<td>timestamp</td>\n",
        "<td>duration</td>\n",
        "<td>number_of_trees</td>\n",
        "<td>training_MSE</td>\n",
        "<td>validation_MSE</td></tr>\n",
        "<tr><td></td>\n",
        "<td>2015-05-15 12:23:28</td>\n",
        "<td> 0.175 sec</td>\n",
        "<td>1.0</td>\n",
        "<td>0.74744376382</td>\n",
        "<td>0.237038154385</td></tr>\n",
        "<tr><td></td>\n",
        "<td>2015-05-15 12:23:28</td>\n",
        "<td> 0.261 sec</td>\n",
        "<td>2.0</td>\n",
        "<td>0.576569816359</td>\n",
        "<td>0.225551972185</td></tr>\n",
        "<tr><td></td>\n",
        "<td>2015-05-15 12:23:28</td>\n",
        "<td> 0.367 sec</td>\n",
        "<td>3.0</td>\n",
        "<td>0.459841778729</td>\n",
        "<td>0.220960574548</td></tr>\n",
        "<tr><td></td>\n",
        "<td>2015-05-15 12:23:28</td>\n",
        "<td> 0.480 sec</td>\n",
        "<td>4.0</td>\n",
        "<td>0.38203875366</td>\n",
        "<td>0.219811478803</td></tr>\n",
        "<tr><td></td>\n",
        "<td>2015-05-15 12:23:28</td>\n",
        "<td> 0.598 sec</td>\n",
        "<td>5.0</td>\n",
        "<td>0.331505863546</td>\n",
        "<td>0.218777519145</td></tr>\n",
        "<tr><td></td>\n",
        "<td>2015-05-15 12:23:28</td>\n",
        "<td> 0.732 sec</td>\n",
        "<td>6.0</td>\n",
        "<td>0.296011978206</td>\n",
        "<td>0.217918068397</td></tr>\n",
        "<tr><td></td>\n",
        "<td>2015-05-15 12:23:28</td>\n",
        "<td> 0.865 sec</td>\n",
        "<td>7.0</td>\n",
        "<td>0.272066589431</td>\n",
        "<td>0.216970858233</td></tr>\n",
        "<tr><td></td>\n",
        "<td>2015-05-15 12:23:29</td>\n",
        "<td> 1.005 sec</td>\n",
        "<td>8.0</td>\n",
        "<td>0.254880288398</td>\n",
        "<td>0.216829914014</td></tr>\n",
        "<tr><td></td>\n",
        "<td>2015-05-15 12:23:29</td>\n",
        "<td> 1.153 sec</td>\n",
        "<td>9.0</td>\n",
        "<td>0.24271548809</td>\n",
        "<td>0.216613530571</td></tr>\n",
        "<tr><td></td>\n",
        "<td>2015-05-15 12:23:29</td>\n",
        "<td> 1.306 sec</td>\n",
        "<td>10.0</td>\n",
        "<td>0.235358394958</td>\n",
        "<td>0.216313987008</td></tr></table></div>"
       ],
       "metadata": {},
       "output_type": "display_data",
       "text": [
        "    timestamp            duration    number_of_trees    training_MSE    validation_MSE\n",
        "--  -------------------  ----------  -----------------  --------------  ----------------\n",
        "    2015-05-15 12:23:28  0.175 sec   1                  0.747444        0.237038\n",
        "    2015-05-15 12:23:28  0.261 sec   2                  0.57657         0.225552\n",
        "    2015-05-15 12:23:28  0.367 sec   3                  0.459842        0.220961\n",
        "    2015-05-15 12:23:28  0.480 sec   4                  0.382039        0.219811\n",
        "    2015-05-15 12:23:28  0.598 sec   5                  0.331506        0.218778\n",
        "    2015-05-15 12:23:28  0.732 sec   6                  0.296012        0.217918\n",
        "    2015-05-15 12:23:28  0.865 sec   7                  0.272067        0.216971\n",
        "    2015-05-15 12:23:29  1.005 sec   8                  0.25488         0.21683\n",
        "    2015-05-15 12:23:29  1.153 sec   9                  0.242715        0.216614\n",
        "    2015-05-15 12:23:29  1.306 sec   10                 0.235358        0.216314"
       ]
      },
      {
       "output_type": "stream",
       "stream": "stdout",
       "text": [
        "\n",
        "Variable Importances:\n",
        "\n"
       ]
      },
      {
       "html": [
        "<div style=\"overflow:auto\"><table style=\"width:50%\"><tr><td>variable</td>\n",
        "<td>relative_importance</td>\n",
        "<td>scaled_importance</td>\n",
        "<td>percentage</td></tr>\n",
        "<tr><td>fDayofMonth</td>\n",
        "<td>5952.93115234</td>\n",
        "<td>1.0</td>\n",
        "<td>0.249564027715</td></tr>\n",
        "<tr><td>Origin</td>\n",
        "<td>5771.09667969</td>\n",
        "<td>0.969454632012</td>\n",
        "<td>0.241941002652</td></tr>\n",
        "<tr><td>Distance</td>\n",
        "<td>4022.96435547</td>\n",
        "<td>0.675795545508</td>\n",
        "<td>0.168654258249</td></tr>\n",
        "<tr><td>Dest</td>\n",
        "<td>3618.79052734</td>\n",
        "<td>0.607900618155</td>\n",
        "<td>0.151710126717</td></tr>\n",
        "<tr><td>UniqueCarrier</td>\n",
        "<td>2499.06469727</td>\n",
        "<td>0.419804065142</td>\n",
        "<td>0.104767993348</td></tr>\n",
        "<tr><td>fDayOfWeek</td>\n",
        "<td>1775.17578125</td>\n",
        "<td>0.29820196737</td>\n",
        "<td>0.0744204840496</td></tr>\n",
        "<tr><td>fMonth</td>\n",
        "<td>213.298965454</td>\n",
        "<td>0.0358309142161</td>\n",
        "<td>0.0089421072685</td></tr></table></div>"
       ],
       "metadata": {},
       "output_type": "display_data",
       "text": [
        "variable       relative_importance    scaled_importance    percentage\n",
        "-------------  ---------------------  -------------------  ------------\n",
        "fDayofMonth    5952.93                1                    0.249564\n",
        "Origin         5771.1                 0.969455             0.241941\n",
        "Distance       4022.96                0.675796             0.168654\n",
        "Dest           3618.79                0.607901             0.15171\n",
        "UniqueCarrier  2499.06                0.419804             0.104768\n",
        "fDayOfWeek     1775.18                0.298202             0.0744205\n",
        "fMonth         213.299                0.0358309            0.00894211"
       ]
      }
     ],
     "prompt_number": 7
    },
    {
     "cell_type": "code",
     "collapsed": false,
     "input": [
      "air_test = h2o.import_frame(path=h2o.locate(\"smalldata/airlines/AirlinesTest.csv.zip\"))"
     ],
     "language": "python",
     "metadata": {},
     "outputs": [
      {
       "output_type": "stream",
       "stream": "stdout",
       "text": [
        "\n",
        "\r",
        "Parse Progress: [                                                  ] 00%"
       ]
      },
      {
       "output_type": "stream",
       "stream": "stdout",
       "text": [
        "\r",
        "Parse Progress: [##################################################] 100%"
       ]
      },
      {
       "output_type": "stream",
       "stream": "stdout",
       "text": [
        "\n",
        "Imported  /Users/ece/0xdata/h2o-dev/smalldata/airlines/AirlinesTest.csv.zip . Parsed 2,691 rows and 12 cols\n"
       ]
      }
     ],
     "prompt_number": 8
    },
    {
     "cell_type": "code",
     "collapsed": false,
     "input": [
      "def model(model_object, test):\n",
      "        #predicting on test file\n",
      "        pred = model_object.predict(test)\n",
      "        pred.head()\n",
      "        #Building confusion matrix for test set\n",
      "        perf = model_object.model_performance(test)\n",
      "        perf.show()\n",
      "        print(perf.confusion_matrix())\n",
      "        print(perf.precision())\n",
      "        print(perf.accuracy())\n",
      "        print(perf.auc())"
     ],
     "language": "python",
     "metadata": {},
     "outputs": [],
     "prompt_number": 9
    },
    {
     "cell_type": "code",
     "collapsed": false,
     "input": [
      "print(\"\\n\\nWITHOUT CLASS BALANCING\\n\")\n",
      "model(rf_no_bal, air_test)"
     ],
     "language": "python",
     "metadata": {},
     "outputs": [
      {
       "output_type": "stream",
       "stream": "stdout",
       "text": [
        "\n",
        "\n",
        "WITHOUT CLASS BALANCING\n",
        "\n",
        "First"
       ]
      },
      {
       "output_type": "stream",
       "stream": "stdout",
       "text": [
        " 10 rows and first 3 columns: \n"
       ]
      },
      {
       "html": [
        "<div style=\"overflow:auto\"><table style=\"width:50%\"><tr><td>Row ID</td>\n",
        "<td>predict</td>\n",
        "<td>NO</td>\n",
        "<td>YES</td></tr>\n",
        "<tr><td>1</td>\n",
        "<td>YES</td>\n",
        "<td>0.39033028731472896</td>\n",
        "<td>0.609669712685271</td></tr>\n",
        "<tr><td>2</td>\n",
        "<td>NO</td>\n",
        "<td>0.6333424808508735</td>\n",
        "<td>0.3666575191491265</td></tr>\n",
        "<tr><td>3</td>\n",
        "<td>YES</td>\n",
        "<td>0.33900084582296725</td>\n",
        "<td>0.6609991541770327</td></tr>\n",
        "<tr><td>4</td>\n",
        "<td>YES</td>\n",
        "<td>0.4147566479900222</td>\n",
        "<td>0.5852433520099778</td></tr>\n",
        "<tr><td>5</td>\n",
        "<td>YES</td>\n",
        "<td>0.5116315681644248</td>\n",
        "<td>0.4883684318355752</td></tr>\n",
        "<tr><td>6</td>\n",
        "<td>YES</td>\n",
        "<td>0.532413671859345</td>\n",
        "<td>0.4675863281406551</td></tr>\n",
        "<tr><td>7</td>\n",
        "<td>YES</td>\n",
        "<td>0.6222275221163933</td>\n",
        "<td>0.37777247788360674</td></tr>\n",
        "<tr><td>8</td>\n",
        "<td>YES</td>\n",
        "<td>0.48970837219327723</td>\n",
        "<td>0.5102916278067228</td></tr>\n",
        "<tr><td>9</td>\n",
        "<td>YES</td>\n",
        "<td>0.4748545318151948</td>\n",
        "<td>0.5251454681848052</td></tr>\n",
        "<tr><td>10</td>\n",
        "<td>YES</td>\n",
        "<td>0.5739564637929644</td>\n",
        "<td>0.42604353620703567</td></tr></table></div>"
       ],
       "metadata": {},
       "output_type": "display_data",
       "text": [
        "  Row ID  predict          NO       YES\n",
        "--------  ---------  --------  --------\n",
        "       1  YES        0.39033   0.60967\n",
        "       2  NO         0.633342  0.366658\n",
        "       3  YES        0.339001  0.660999\n",
        "       4  YES        0.414757  0.585243\n",
        "       5  YES        0.511632  0.488368\n",
        "       6  YES        0.532414  0.467586\n",
        "       7  YES        0.622228  0.377772\n",
        "       8  YES        0.489708  0.510292\n",
        "       9  YES        0.474855  0.525145\n",
        "      10  YES        0.573956  0.426044"
       ]
      },
      {
       "output_type": "stream",
       "stream": "stdout",
       "text": [
        "\n",
        "ModelMetricsBinomial: drf\n",
        "** Reported on test data. **\n",
        "\n",
        "MSE: 0.216102365193\n",
        "R^2: 0.127957931936\n",
        "LogLoss: 0.621304188207\n",
        "AUC: 0.706787828245\n",
        "Gini: 0.41357565649\n",
        "\n",
        "Confusion Matrix (Act/Pred) for max f1 @ threshold = 0.328367898862:\n",
        "\n"
       ]
      },
      {
       "html": [
        "<div style=\"overflow:auto\"><table style=\"width:50%\"><tr><td></td>\n",
        "<td>NO</td>\n",
        "<td>YES</td>\n",
        "<td>Error</td>\n",
        "<td>Rate</td></tr>\n",
        "<tr><td>NO</td>\n",
        "<td>236.0</td>\n",
        "<td>981.0</td>\n",
        "<td>0.8061</td>\n",
        "<td> (981.0/1217.0)</td></tr>\n",
        "<tr><td>YES</td>\n",
        "<td>68.0</td>\n",
        "<td>1406.0</td>\n",
        "<td>0.0461</td>\n",
        "<td> (68.0/1474.0)</td></tr>\n",
        "<tr><td>Total</td>\n",
        "<td>304.0</td>\n",
        "<td>2387.0</td>\n",
        "<td>0.8522</td>\n",
        "<td> (0.8522/2691.0)</td></tr></table></div>"
       ],
       "metadata": {},
       "output_type": "display_data",
       "text": [
        "       NO    YES    Error    Rate\n",
        "-----  ----  -----  -------  ---------------\n",
        "NO     236   981    0.8061   (981.0/1217.0)\n",
        "YES    68    1406   0.0461   (68.0/1474.0)\n",
        "Total  304   2387   0.8522   (0.8522/2691.0)"
       ]
      },
      {
       "output_type": "stream",
       "stream": "stdout",
       "text": [
        "\n",
        "Maximum Metrics:\n",
        "\n"
       ]
      },
      {
       "html": [
        "<div style=\"overflow:auto\"><table style=\"width:50%\"><tr><td>metric</td>\n",
        "<td>threshold</td>\n",
        "<td>value</td>\n",
        "<td>idx</td></tr>\n",
        "<tr><td>f1</td>\n",
        "<td>0.328367898862</td>\n",
        "<td>0.728308728309</td>\n",
        "<td>321.0</td></tr>\n",
        "<tr><td>f2</td>\n",
        "<td>0.215152298279</td>\n",
        "<td>0.858906525573</td>\n",
        "<td>366.0</td></tr>\n",
        "<tr><td>f0point5</td>\n",
        "<td>0.591024611526</td>\n",
        "<td>0.693236714976</td>\n",
        "<td>171.0</td></tr>\n",
        "<tr><td>accuracy</td>\n",
        "<td>0.506823972227</td>\n",
        "<td>0.660349312523</td>\n",
        "<td>224.0</td></tr>\n",
        "<tr><td>precision</td>\n",
        "<td>0.955816665402</td>\n",
        "<td>1.0</td>\n",
        "<td>0.0</td></tr>\n",
        "<tr><td>absolute_MCC</td>\n",
        "<td>0.591024611526</td>\n",
        "<td>0.31957166919</td>\n",
        "<td>171.0</td></tr>\n",
        "<tr><td>min_per_class_accuracy</td>\n",
        "<td>0.560886666188</td>\n",
        "<td>0.649932157395</td>\n",
        "<td>191.0</td></tr>\n",
        "<tr><td>tns</td>\n",
        "<td>0.955816665402</td>\n",
        "<td>1217.0</td>\n",
        "<td>0.0</td></tr>\n",
        "<tr><td>fns</td>\n",
        "<td>0.955816665402</td>\n",
        "<td>1473.0</td>\n",
        "<td>0.0</td></tr>\n",
        "<tr><td>fps</td>\n",
        "<td>0.0946024011526</td>\n",
        "<td>1217.0</td>\n",
        "<td>399.0</td></tr>\n",
        "<tr><td>tps</td>\n",
        "<td>0.111004080118</td>\n",
        "<td>1474.0</td>\n",
        "<td>395.0</td></tr>\n",
        "<tr><td>tnr</td>\n",
        "<td>0.955816665402</td>\n",
        "<td>1.0</td>\n",
        "<td>0.0</td></tr>\n",
        "<tr><td>fnr</td>\n",
        "<td>0.955816665402</td>\n",
        "<td>0.999321573948</td>\n",
        "<td>0.0</td></tr>\n",
        "<tr><td>fpr</td>\n",
        "<td>0.0946024011526</td>\n",
        "<td>1.0</td>\n",
        "<td>399.0</td></tr>\n",
        "<tr><td>tpr</td>\n",
        "<td>0.111004080118</td>\n",
        "<td>1.0</td>\n",
        "<td>395.0</td></tr></table></div>"
       ],
       "metadata": {},
       "output_type": "display_data",
       "text": [
        "metric                  threshold    value     idx\n",
        "----------------------  -----------  --------  -----\n",
        "f1                      0.328368     0.728309  321\n",
        "f2                      0.215152     0.858907  366\n",
        "f0point5                0.591025     0.693237  171\n",
        "accuracy                0.506824     0.660349  224\n",
        "precision               0.955817     1         0\n",
        "absolute_MCC            0.591025     0.319572  171\n",
        "min_per_class_accuracy  0.560887     0.649932  191\n",
        "tns                     0.955817     1217      0\n",
        "fns                     0.955817     1473      0\n",
        "fps                     0.0946024    1217      399\n",
        "tps                     0.111004     1474      395\n",
        "tnr                     0.955817     1         0\n",
        "fnr                     0.955817     0.999322  0\n",
        "fpr                     0.0946024    1         399\n",
        "tpr                     0.111004     1         395"
       ]
      },
      {
       "output_type": "stream",
       "stream": "stdout",
       "text": [
        "\n",
        "Confusion Matrix (Act/Pred) for max f1 @ threshold = 0.328367898862:\n",
        "\n"
       ]
      },
      {
       "html": [
        "<div style=\"overflow:auto\"><table style=\"width:50%\"><tr><td></td>\n",
        "<td>NO</td>\n",
        "<td>YES</td>\n",
        "<td>Error</td>\n",
        "<td>Rate</td></tr>\n",
        "<tr><td>NO</td>\n",
        "<td>236.0</td>\n",
        "<td>981.0</td>\n",
        "<td>0.8061</td>\n",
        "<td> (981.0/1217.0)</td></tr>\n",
        "<tr><td>YES</td>\n",
        "<td>68.0</td>\n",
        "<td>1406.0</td>\n",
        "<td>0.0461</td>\n",
        "<td> (68.0/1474.0)</td></tr>\n",
        "<tr><td>Total</td>\n",
        "<td>304.0</td>\n",
        "<td>2387.0</td>\n",
        "<td>0.8522</td>\n",
        "<td> (0.8522/2691.0)</td></tr></table></div>"
       ],
       "metadata": {},
       "output_type": "display_data",
       "text": [
        "       NO    YES    Error    Rate\n",
        "-----  ----  -----  -------  ---------------\n",
        "NO     236   981    0.8061   (981.0/1217.0)\n",
        "YES    68    1406   0.0461   (68.0/1474.0)\n",
        "Total  304   2387   0.8522   (0.8522/2691.0)"
       ]
      },
      {
       "output_type": "stream",
       "stream": "stdout",
       "text": [
        "\n",
        "[[0.95581666540203, 1.0]]\n",
        "[[0.5068239722270036, 0.6603493125232256]]\n",
        "0.706787828245\n"
       ]
      }
     ],
     "prompt_number": 10
    },
    {
     "cell_type": "code",
     "collapsed": false,
     "input": [
      "print(\"\\n\\nWITH CLASS BALANCING\\n\")\n",
      "model(rf_bal, air_test)"
     ],
     "language": "python",
     "metadata": {},
     "outputs": [
      {
       "output_type": "stream",
       "stream": "stdout",
       "text": [
        "\n",
        "\n",
        "WITH CLASS BALANCING\n",
        "\n",
        "First"
       ]
      },
      {
       "output_type": "stream",
       "stream": "stdout",
       "text": [
        " 10 rows and first 3 columns: \n"
       ]
      },
      {
       "html": [
        "<div style=\"overflow:auto\"><table style=\"width:50%\"><tr><td>Row ID</td>\n",
        "<td>predict</td>\n",
        "<td>NO</td>\n",
        "<td>YES</td></tr>\n",
        "<tr><td>1</td>\n",
        "<td>YES</td>\n",
        "<td>0.36479000781458215</td>\n",
        "<td>0.6352099921854177</td></tr>\n",
        "<tr><td>2</td>\n",
        "<td>NO</td>\n",
        "<td>0.6274142063491489</td>\n",
        "<td>0.37258579365085115</td></tr>\n",
        "<tr><td>3</td>\n",
        "<td>YES</td>\n",
        "<td>0.35460714508230884</td>\n",
        "<td>0.645392854917691</td></tr>\n",
        "<tr><td>4</td>\n",
        "<td>YES</td>\n",
        "<td>0.354918939437714</td>\n",
        "<td>0.6450810605622859</td></tr>\n",
        "<tr><td>5</td>\n",
        "<td>YES</td>\n",
        "<td>0.5355229299678891</td>\n",
        "<td>0.4644770700321108</td></tr>\n",
        "<tr><td>6</td>\n",
        "<td>NO</td>\n",
        "<td>0.602915654791081</td>\n",
        "<td>0.397084345208919</td></tr>\n",
        "<tr><td>7</td>\n",
        "<td>NO</td>\n",
        "<td>0.6050321628638194</td>\n",
        "<td>0.3949678371361806</td></tr>\n",
        "<tr><td>8</td>\n",
        "<td>YES</td>\n",
        "<td>0.39754698231476476</td>\n",
        "<td>0.6024530176852353</td></tr>\n",
        "<tr><td>9</td>\n",
        "<td>YES</td>\n",
        "<td>0.5480914868749879</td>\n",
        "<td>0.4519085131250121</td></tr>\n",
        "<tr><td>10</td>\n",
        "<td>YES</td>\n",
        "<td>0.5641437627586362</td>\n",
        "<td>0.4358562372413637</td></tr></table></div>"
       ],
       "metadata": {},
       "output_type": "display_data",
       "text": [
        "  Row ID  predict          NO       YES\n",
        "--------  ---------  --------  --------\n",
        "       1  YES        0.36479   0.63521\n",
        "       2  NO         0.627414  0.372586\n",
        "       3  YES        0.354607  0.645393\n",
        "       4  YES        0.354919  0.645081\n",
        "       5  YES        0.535523  0.464477\n",
        "       6  NO         0.602916  0.397084\n",
        "       7  NO         0.605032  0.394968\n",
        "       8  YES        0.397547  0.602453\n",
        "       9  YES        0.548091  0.451909\n",
        "      10  YES        0.564144  0.435856"
       ]
      },
      {
       "output_type": "stream",
       "stream": "stdout",
       "text": [
        "\n",
        "ModelMetricsBinomial: drf\n",
        "** Reported on test data. **\n",
        "\n",
        "MSE: 0.216337046001\n",
        "R^2: 0.127010919915\n",
        "LogLoss: 0.621678530546\n",
        "AUC: 0.70712732\n",
        "Gini: 0.414254639999\n",
        "\n",
        "Confusion Matrix (Act/Pred) for max f1 @ threshold = 0.326189664696:\n",
        "\n"
       ]
      },
      {
       "html": [
        "<div style=\"overflow:auto\"><table style=\"width:50%\"><tr><td></td>\n",
        "<td>NO</td>\n",
        "<td>YES</td>\n",
        "<td>Error</td>\n",
        "<td>Rate</td></tr>\n",
        "<tr><td>NO</td>\n",
        "<td>228.0</td>\n",
        "<td>989.0</td>\n",
        "<td>0.8127</td>\n",
        "<td> (989.0/1217.0)</td></tr>\n",
        "<tr><td>YES</td>\n",
        "<td>74.0</td>\n",
        "<td>1400.0</td>\n",
        "<td>0.0502</td>\n",
        "<td> (74.0/1474.0)</td></tr>\n",
        "<tr><td>Total</td>\n",
        "<td>302.0</td>\n",
        "<td>2389.0</td>\n",
        "<td>0.8629</td>\n",
        "<td> (0.8629/2691.0)</td></tr></table></div>"
       ],
       "metadata": {},
       "output_type": "display_data",
       "text": [
        "       NO    YES    Error    Rate\n",
        "-----  ----  -----  -------  ---------------\n",
        "NO     228   989    0.8127   (989.0/1217.0)\n",
        "YES    74    1400   0.0502   (74.0/1474.0)\n",
        "Total  302   2389   0.8629   (0.8629/2691.0)"
       ]
      },
      {
       "output_type": "stream",
       "stream": "stdout",
       "text": [
        "\n",
        "Maximum Metrics:\n",
        "\n"
       ]
      },
      {
       "html": [
        "<div style=\"overflow:auto\"><table style=\"width:50%\"><tr><td>metric</td>\n",
        "<td>threshold</td>\n",
        "<td>value</td>\n",
        "<td>idx</td></tr>\n",
        "<tr><td>f1</td>\n",
        "<td>0.326189664696</td>\n",
        "<td>0.724825265338</td>\n",
        "<td>332.0</td></tr>\n",
        "<tr><td>f2</td>\n",
        "<td>0.255491397608</td>\n",
        "<td>0.860563878731</td>\n",
        "<td>362.0</td></tr>\n",
        "<tr><td>f0point5</td>\n",
        "<td>0.589071051055</td>\n",
        "<td>0.695270905105</td>\n",
        "<td>177.0</td></tr>\n",
        "<tr><td>accuracy</td>\n",
        "<td>0.551953237372</td>\n",
        "<td>0.661092530658</td>\n",
        "<td>200.0</td></tr>\n",
        "<tr><td>precision</td>\n",
        "<td>0.985327377718</td>\n",
        "<td>1.0</td>\n",
        "<td>0.0</td></tr>\n",
        "<tr><td>absolute_MCC</td>\n",
        "<td>0.589071051055</td>\n",
        "<td>0.322823425544</td>\n",
        "<td>177.0</td></tr>\n",
        "<tr><td>min_per_class_accuracy</td>\n",
        "<td>0.559885266108</td>\n",
        "<td>0.65671641791</td>\n",
        "<td>195.0</td></tr>\n",
        "<tr><td>tns</td>\n",
        "<td>0.985327377718</td>\n",
        "<td>1217.0</td>\n",
        "<td>0.0</td></tr>\n",
        "<tr><td>fns</td>\n",
        "<td>0.985327377718</td>\n",
        "<td>1472.0</td>\n",
        "<td>0.0</td></tr>\n",
        "<tr><td>fps</td>\n",
        "<td>0.119602404514</td>\n",
        "<td>1217.0</td>\n",
        "<td>398.0</td></tr>\n",
        "<tr><td>tps</td>\n",
        "<td>0.0975596990681</td>\n",
        "<td>1474.0</td>\n",
        "<td>399.0</td></tr>\n",
        "<tr><td>tnr</td>\n",
        "<td>0.985327377718</td>\n",
        "<td>1.0</td>\n",
        "<td>0.0</td></tr>\n",
        "<tr><td>fnr</td>\n",
        "<td>0.985327377718</td>\n",
        "<td>0.998643147897</td>\n",
        "<td>0.0</td></tr>\n",
        "<tr><td>fpr</td>\n",
        "<td>0.119602404514</td>\n",
        "<td>1.0</td>\n",
        "<td>398.0</td></tr>\n",
        "<tr><td>tpr</td>\n",
        "<td>0.0975596990681</td>\n",
        "<td>1.0</td>\n",
        "<td>399.0</td></tr></table></div>"
       ],
       "metadata": {},
       "output_type": "display_data",
       "text": [
        "metric                  threshold    value     idx\n",
        "----------------------  -----------  --------  -----\n",
        "f1                      0.32619      0.724825  332\n",
        "f2                      0.255491     0.860564  362\n",
        "f0point5                0.589071     0.695271  177\n",
        "accuracy                0.551953     0.661093  200\n",
        "precision               0.985327     1         0\n",
        "absolute_MCC            0.589071     0.322823  177\n",
        "min_per_class_accuracy  0.559885     0.656716  195\n",
        "tns                     0.985327     1217      0\n",
        "fns                     0.985327     1472      0\n",
        "fps                     0.119602     1217      398\n",
        "tps                     0.0975597    1474      399\n",
        "tnr                     0.985327     1         0\n",
        "fnr                     0.985327     0.998643  0\n",
        "fpr                     0.119602     1         398\n",
        "tpr                     0.0975597    1         399"
       ]
      },
      {
       "output_type": "stream",
       "stream": "stdout",
       "text": [
        "\n",
        "Confusion Matrix (Act/Pred) for max f1 @ threshold = 0.326189664696:\n",
        "\n"
       ]
      },
      {
       "html": [
        "<div style=\"overflow:auto\"><table style=\"width:50%\"><tr><td></td>\n",
        "<td>NO</td>\n",
        "<td>YES</td>\n",
        "<td>Error</td>\n",
        "<td>Rate</td></tr>\n",
        "<tr><td>NO</td>\n",
        "<td>228.0</td>\n",
        "<td>989.0</td>\n",
        "<td>0.8127</td>\n",
        "<td> (989.0/1217.0)</td></tr>\n",
        "<tr><td>YES</td>\n",
        "<td>74.0</td>\n",
        "<td>1400.0</td>\n",
        "<td>0.0502</td>\n",
        "<td> (74.0/1474.0)</td></tr>\n",
        "<tr><td>Total</td>\n",
        "<td>302.0</td>\n",
        "<td>2389.0</td>\n",
        "<td>0.8629</td>\n",
        "<td> (0.8629/2691.0)</td></tr></table></div>"
       ],
       "metadata": {},
       "output_type": "display_data",
       "text": [
        "       NO    YES    Error    Rate\n",
        "-----  ----  -----  -------  ---------------\n",
        "NO     228   989    0.8127   (989.0/1217.0)\n",
        "YES    74    1400   0.0502   (74.0/1474.0)\n",
        "Total  302   2389   0.8629   (0.8629/2691.0)"
       ]
      },
      {
       "output_type": "stream",
       "stream": "stdout",
       "text": [
        "\n",
        "[[0.9853273777175688, 1.0]]\n",
        "[[0.5519532373721363, 0.661092530657748]]\n",
        "0.70712732\n"
       ]
      }
     ],
     "prompt_number": 11
    }
   ],
   "metadata": {}
  }
 ]
}