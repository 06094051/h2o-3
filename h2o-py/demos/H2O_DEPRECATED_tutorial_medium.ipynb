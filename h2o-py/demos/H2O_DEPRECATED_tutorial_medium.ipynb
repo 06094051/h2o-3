{
 "cells": [
  {
   "cell_type": "raw",
   "metadata": {},
   "source": [
    "# H2O Tutorial\n",
    "\n",
    "Author: Spencer Aiello\n",
    "\n",
    "Contact: spencer@h2oai.com\n",
    "\n",
    "This tutorial steps through a quick introduction to H2O's Python API. The goal of this tutorial is to introduce through a complete example H2O's capabilities from Python. Also, to help those that are accustomed to Scikit Learn and Pandas, the demo will be specific call outs for differences between H2O and those packages; this is intended to help anyone that needs to do machine learning on really Big Data make the transition. It is not meant to be a tutorial on machine learning or algorithms.\n",
    "\n",
    "Detailed documentation about H2O's and the Python API is available at http://docs.h2o.ai."
   ]
  },
  {
   "cell_type": "markdown",
   "metadata": {},
   "source": [
    "## Setting up your system for this demo"
   ]
  },
  {
   "cell_type": "markdown",
   "metadata": {},
   "source": [
    "The following code creates two csv files using data from the [Boston Housing dataset](https://archive.ics.uci.edu/ml/datasets/Housing) which is built into scikit-learn and adds them to the local directory"
   ]
  },
  {
   "cell_type": "code",
   "execution_count": 1,
   "metadata": {
    "collapsed": false
   },
   "outputs": [
    {
     "data": {
      "text/html": [
       "<div style=\"overflow:auto\"><table style=\"width:50%\"><tr><td>H2O cluster uptime: </td>\n",
       "<td>2 minutes 19 seconds 314 milliseconds </td></tr>\n",
       "<tr><td>H2O cluster version: </td>\n",
       "<td>3.7.0.99999</td></tr>\n",
       "<tr><td>H2O cluster name: </td>\n",
       "<td>spIdea</td></tr>\n",
       "<tr><td>H2O cluster total nodes: </td>\n",
       "<td>1</td></tr>\n",
       "<tr><td>H2O cluster total free memory: </td>\n",
       "<td>12.44 GB</td></tr>\n",
       "<tr><td>H2O cluster total cores: </td>\n",
       "<td>8</td></tr>\n",
       "<tr><td>H2O cluster allowed cores: </td>\n",
       "<td>8</td></tr>\n",
       "<tr><td>H2O cluster healthy: </td>\n",
       "<td>True</td></tr>\n",
       "<tr><td>H2O Connection ip: </td>\n",
       "<td>127.0.0.1</td></tr>\n",
       "<tr><td>H2O Connection port: </td>\n",
       "<td>54321</td></tr>\n",
       "<tr><td>H2O Connection proxy: </td>\n",
       "<td>None</td></tr>\n",
       "<tr><td>Python Version: </td>\n",
       "<td>3.5.0</td></tr></table></div>"
      ],
      "text/plain": [
       "------------------------------  -------------------------------------\n",
       "H2O cluster uptime:             2 minutes 19 seconds 314 milliseconds\n",
       "H2O cluster version:            3.7.0.99999\n",
       "H2O cluster name:               spIdea\n",
       "H2O cluster total nodes:        1\n",
       "H2O cluster total free memory:  12.44 GB\n",
       "H2O cluster total cores:        8\n",
       "H2O cluster allowed cores:      8\n",
       "H2O cluster healthy:            True\n",
       "H2O Connection ip:              127.0.0.1\n",
       "H2O Connection port:            54321\n",
       "H2O Connection proxy:\n",
       "Python Version:                 3.5.0\n",
       "------------------------------  -------------------------------------"
      ]
     },
     "metadata": {},
     "output_type": "display_data"
    }
   ],
   "source": [
    "import pandas as pd\n",
    "import numpy\n",
    "from numpy.random import choice\n",
    "from sklearn.datasets import load_boston\n",
    "\n",
    "import h2o\n",
    "h2o.init()"
   ]
  },
  {
   "cell_type": "code",
   "execution_count": 2,
   "metadata": {
    "collapsed": false
   },
   "outputs": [
    {
     "name": "stdout",
     "output_type": "stream",
     "text": [
      "\n",
      "Parse Progress: [##################################################] 100%\n"
     ]
    }
   ],
   "source": [
    "# transfer the boston data from pandas to H2O\n",
    "boston_data = load_boston()\n",
    "X = pd.DataFrame(data=boston_data.data, columns=boston_data.feature_names)\n",
    "X[\"Median_value\"] = boston_data.target\n",
    "X = h2o.H2OFrame.from_python(X.to_dict(\"list\"))"
   ]
  },
  {
   "cell_type": "code",
   "execution_count": 3,
   "metadata": {
    "collapsed": false
   },
   "outputs": [
    {
     "name": "stdout",
     "output_type": "stream",
     "text": [
      "\n",
      "Export File Progress: [##################################################] 100%\n",
      "\n",
      "Export File Progress: [##################################################] 100%\n"
     ]
    }
   ],
   "source": [
    "# select 10% for valdation\n",
    "r = X.runif(seed=123456789)\n",
    "train = X[r < 0.9,:]\n",
    "valid = X[r >= 0.9,:]\n",
    "\n",
    "h2o.export_file(train, \"Boston_housing_train.csv\", force=True)\n",
    "h2o.export_file(valid, \"Boston_housing_test.csv\", force=True)"
   ]
  },
  {
   "cell_type": "markdown",
   "metadata": {},
   "source": [
    "Enable inline plotting in the Jupyter Notebook"
   ]
  },
  {
   "cell_type": "code",
   "execution_count": 4,
   "metadata": {
    "collapsed": true
   },
   "outputs": [],
   "source": [
    "%matplotlib inline\n",
    "import matplotlib.pyplot as plt"
   ]
  },
  {
   "cell_type": "markdown",
   "metadata": {},
   "source": [
    "## Intro to H2O Data Munging"
   ]
  },
  {
   "cell_type": "markdown",
   "metadata": {},
   "source": [
    "Read csv data into H2O. This loads the data into the H2O column compressed, in-memory, key-value store."
   ]
  },
  {
   "cell_type": "code",
   "execution_count": 5,
   "metadata": {
    "collapsed": false
   },
   "outputs": [
    {
     "name": "stdout",
     "output_type": "stream",
     "text": [
      "\n",
      "Parse Progress: [##################################################] 100%\n"
     ]
    }
   ],
   "source": [
    "fr = h2o.import_file(\"Boston_housing_train.csv\")"
   ]
  },
  {
   "cell_type": "markdown",
   "metadata": {},
   "source": [
    "View the top of the H2O frame."
   ]
  },
  {
   "cell_type": "code",
   "execution_count": 6,
   "metadata": {
    "collapsed": false
   },
   "outputs": [
    {
     "data": {
      "text/html": [
       "<table>\n",
       "<tr><th style=\"text-align: right;\">   RM</th><th style=\"text-align: right;\">  ZN</th><th style=\"text-align: right;\">  Median_value</th><th style=\"text-align: right;\">  TAX</th><th style=\"text-align: right;\">   CRIM</th><th style=\"text-align: right;\">  NOX</th><th style=\"text-align: right;\">  INDUS</th><th style=\"text-align: right;\">  LSTAT</th><th style=\"text-align: right;\">  RAD</th><th style=\"text-align: right;\">  AGE</th><th style=\"text-align: right;\">  PTRATIO</th><th style=\"text-align: right;\">  CHAS</th><th style=\"text-align: right;\">     B</th><th style=\"text-align: right;\">   DIS</th></tr>\n",
       "<tr><td style=\"text-align: right;\">6.575</td><td style=\"text-align: right;\">18  </td><td style=\"text-align: right;\">          24  </td><td style=\"text-align: right;\">  296</td><td style=\"text-align: right;\">0.00632</td><td style=\"text-align: right;\">0.538</td><td style=\"text-align: right;\">   2.31</td><td style=\"text-align: right;\">   4.98</td><td style=\"text-align: right;\">    1</td><td style=\"text-align: right;\"> 65.2</td><td style=\"text-align: right;\">     15.3</td><td style=\"text-align: right;\">     0</td><td style=\"text-align: right;\">396.9 </td><td style=\"text-align: right;\">4.09  </td></tr>\n",
       "<tr><td style=\"text-align: right;\">6.421</td><td style=\"text-align: right;\"> 0  </td><td style=\"text-align: right;\">          21.6</td><td style=\"text-align: right;\">  242</td><td style=\"text-align: right;\">0.02731</td><td style=\"text-align: right;\">0.469</td><td style=\"text-align: right;\">   7.07</td><td style=\"text-align: right;\">   9.14</td><td style=\"text-align: right;\">    2</td><td style=\"text-align: right;\"> 78.9</td><td style=\"text-align: right;\">     17.8</td><td style=\"text-align: right;\">     0</td><td style=\"text-align: right;\">396.9 </td><td style=\"text-align: right;\">4.9671</td></tr>\n",
       "<tr><td style=\"text-align: right;\">7.185</td><td style=\"text-align: right;\"> 0  </td><td style=\"text-align: right;\">          34.7</td><td style=\"text-align: right;\">  242</td><td style=\"text-align: right;\">0.02729</td><td style=\"text-align: right;\">0.469</td><td style=\"text-align: right;\">   7.07</td><td style=\"text-align: right;\">   4.03</td><td style=\"text-align: right;\">    2</td><td style=\"text-align: right;\"> 61.1</td><td style=\"text-align: right;\">     17.8</td><td style=\"text-align: right;\">     0</td><td style=\"text-align: right;\">392.83</td><td style=\"text-align: right;\">4.9671</td></tr>\n",
       "<tr><td style=\"text-align: right;\">6.998</td><td style=\"text-align: right;\"> 0  </td><td style=\"text-align: right;\">          33.4</td><td style=\"text-align: right;\">  222</td><td style=\"text-align: right;\">0.03237</td><td style=\"text-align: right;\">0.458</td><td style=\"text-align: right;\">   2.18</td><td style=\"text-align: right;\">   2.94</td><td style=\"text-align: right;\">    3</td><td style=\"text-align: right;\"> 45.8</td><td style=\"text-align: right;\">     18.7</td><td style=\"text-align: right;\">     0</td><td style=\"text-align: right;\">394.63</td><td style=\"text-align: right;\">6.0622</td></tr>\n",
       "<tr><td style=\"text-align: right;\">7.147</td><td style=\"text-align: right;\"> 0  </td><td style=\"text-align: right;\">          36.2</td><td style=\"text-align: right;\">  222</td><td style=\"text-align: right;\">0.06905</td><td style=\"text-align: right;\">0.458</td><td style=\"text-align: right;\">   2.18</td><td style=\"text-align: right;\">   5.33</td><td style=\"text-align: right;\">    3</td><td style=\"text-align: right;\"> 54.2</td><td style=\"text-align: right;\">     18.7</td><td style=\"text-align: right;\">     0</td><td style=\"text-align: right;\">396.9 </td><td style=\"text-align: right;\">6.0622</td></tr>\n",
       "<tr><td style=\"text-align: right;\">6.43 </td><td style=\"text-align: right;\"> 0  </td><td style=\"text-align: right;\">          28.7</td><td style=\"text-align: right;\">  222</td><td style=\"text-align: right;\">0.02985</td><td style=\"text-align: right;\">0.458</td><td style=\"text-align: right;\">   2.18</td><td style=\"text-align: right;\">   5.21</td><td style=\"text-align: right;\">    3</td><td style=\"text-align: right;\"> 58.7</td><td style=\"text-align: right;\">     18.7</td><td style=\"text-align: right;\">     0</td><td style=\"text-align: right;\">394.12</td><td style=\"text-align: right;\">6.0622</td></tr>\n",
       "<tr><td style=\"text-align: right;\">6.012</td><td style=\"text-align: right;\">12.5</td><td style=\"text-align: right;\">          22.9</td><td style=\"text-align: right;\">  311</td><td style=\"text-align: right;\">0.08829</td><td style=\"text-align: right;\">0.524</td><td style=\"text-align: right;\">   7.87</td><td style=\"text-align: right;\">  12.43</td><td style=\"text-align: right;\">    5</td><td style=\"text-align: right;\"> 66.6</td><td style=\"text-align: right;\">     15.2</td><td style=\"text-align: right;\">     0</td><td style=\"text-align: right;\">395.6 </td><td style=\"text-align: right;\">5.5605</td></tr>\n",
       "<tr><td style=\"text-align: right;\">6.172</td><td style=\"text-align: right;\">12.5</td><td style=\"text-align: right;\">          27.1</td><td style=\"text-align: right;\">  311</td><td style=\"text-align: right;\">0.14455</td><td style=\"text-align: right;\">0.524</td><td style=\"text-align: right;\">   7.87</td><td style=\"text-align: right;\">  19.15</td><td style=\"text-align: right;\">    5</td><td style=\"text-align: right;\"> 96.1</td><td style=\"text-align: right;\">     15.2</td><td style=\"text-align: right;\">     0</td><td style=\"text-align: right;\">396.9 </td><td style=\"text-align: right;\">5.9505</td></tr>\n",
       "<tr><td style=\"text-align: right;\">5.631</td><td style=\"text-align: right;\">12.5</td><td style=\"text-align: right;\">          16.5</td><td style=\"text-align: right;\">  311</td><td style=\"text-align: right;\">0.21124</td><td style=\"text-align: right;\">0.524</td><td style=\"text-align: right;\">   7.87</td><td style=\"text-align: right;\">  29.93</td><td style=\"text-align: right;\">    5</td><td style=\"text-align: right;\">100  </td><td style=\"text-align: right;\">     15.2</td><td style=\"text-align: right;\">     0</td><td style=\"text-align: right;\">386.63</td><td style=\"text-align: right;\">6.0821</td></tr>\n",
       "<tr><td style=\"text-align: right;\">6.004</td><td style=\"text-align: right;\">12.5</td><td style=\"text-align: right;\">          18.9</td><td style=\"text-align: right;\">  311</td><td style=\"text-align: right;\">0.17004</td><td style=\"text-align: right;\">0.524</td><td style=\"text-align: right;\">   7.87</td><td style=\"text-align: right;\">  17.1 </td><td style=\"text-align: right;\">    5</td><td style=\"text-align: right;\"> 85.9</td><td style=\"text-align: right;\">     15.2</td><td style=\"text-align: right;\">     0</td><td style=\"text-align: right;\">386.71</td><td style=\"text-align: right;\">6.5921</td></tr>\n",
       "</table>"
      ]
     },
     "metadata": {},
     "output_type": "display_data"
    },
    {
     "data": {
      "text/plain": []
     },
     "execution_count": 6,
     "metadata": {},
     "output_type": "execute_result"
    }
   ],
   "source": [
    "fr.head()"
   ]
  },
  {
   "cell_type": "markdown",
   "metadata": {},
   "source": [
    "View the bottom of the H2O Frame"
   ]
  },
  {
   "cell_type": "code",
   "execution_count": 7,
   "metadata": {
    "collapsed": false
   },
   "outputs": [
    {
     "data": {
      "text/html": [
       "<table>\n",
       "<tr><th style=\"text-align: right;\">   RM</th><th style=\"text-align: right;\">  ZN</th><th style=\"text-align: right;\">  Median_value</th><th style=\"text-align: right;\">  TAX</th><th style=\"text-align: right;\">   CRIM</th><th style=\"text-align: right;\">  NOX</th><th style=\"text-align: right;\">  INDUS</th><th style=\"text-align: right;\">  LSTAT</th><th style=\"text-align: right;\">  RAD</th><th style=\"text-align: right;\">  AGE</th><th style=\"text-align: right;\">  PTRATIO</th><th style=\"text-align: right;\">  CHAS</th><th style=\"text-align: right;\">     B</th><th style=\"text-align: right;\">   DIS</th></tr>\n",
       "<tr><td style=\"text-align: right;\">5.926</td><td style=\"text-align: right;\">   0</td><td style=\"text-align: right;\">          24.5</td><td style=\"text-align: right;\">  391</td><td style=\"text-align: right;\">0.27957</td><td style=\"text-align: right;\">0.585</td><td style=\"text-align: right;\">   9.69</td><td style=\"text-align: right;\">  13.59</td><td style=\"text-align: right;\">    6</td><td style=\"text-align: right;\"> 42.6</td><td style=\"text-align: right;\">     19.2</td><td style=\"text-align: right;\">     0</td><td style=\"text-align: right;\">396.9 </td><td style=\"text-align: right;\">2.3817</td></tr>\n",
       "<tr><td style=\"text-align: right;\">5.67 </td><td style=\"text-align: right;\">   0</td><td style=\"text-align: right;\">          23.1</td><td style=\"text-align: right;\">  391</td><td style=\"text-align: right;\">0.17899</td><td style=\"text-align: right;\">0.585</td><td style=\"text-align: right;\">   9.69</td><td style=\"text-align: right;\">  17.6 </td><td style=\"text-align: right;\">    6</td><td style=\"text-align: right;\"> 28.8</td><td style=\"text-align: right;\">     19.2</td><td style=\"text-align: right;\">     0</td><td style=\"text-align: right;\">393.29</td><td style=\"text-align: right;\">2.7986</td></tr>\n",
       "<tr><td style=\"text-align: right;\">5.794</td><td style=\"text-align: right;\">   0</td><td style=\"text-align: right;\">          18.3</td><td style=\"text-align: right;\">  391</td><td style=\"text-align: right;\">0.26838</td><td style=\"text-align: right;\">0.585</td><td style=\"text-align: right;\">   9.69</td><td style=\"text-align: right;\">  14.1 </td><td style=\"text-align: right;\">    6</td><td style=\"text-align: right;\"> 70.6</td><td style=\"text-align: right;\">     19.2</td><td style=\"text-align: right;\">     0</td><td style=\"text-align: right;\">396.9 </td><td style=\"text-align: right;\">2.8927</td></tr>\n",
       "<tr><td style=\"text-align: right;\">6.019</td><td style=\"text-align: right;\">   0</td><td style=\"text-align: right;\">          21.2</td><td style=\"text-align: right;\">  391</td><td style=\"text-align: right;\">0.23912</td><td style=\"text-align: right;\">0.585</td><td style=\"text-align: right;\">   9.69</td><td style=\"text-align: right;\">  12.92</td><td style=\"text-align: right;\">    6</td><td style=\"text-align: right;\"> 65.3</td><td style=\"text-align: right;\">     19.2</td><td style=\"text-align: right;\">     0</td><td style=\"text-align: right;\">396.9 </td><td style=\"text-align: right;\">2.4091</td></tr>\n",
       "<tr><td style=\"text-align: right;\">5.569</td><td style=\"text-align: right;\">   0</td><td style=\"text-align: right;\">          17.5</td><td style=\"text-align: right;\">  391</td><td style=\"text-align: right;\">0.17783</td><td style=\"text-align: right;\">0.585</td><td style=\"text-align: right;\">   9.69</td><td style=\"text-align: right;\">  15.1 </td><td style=\"text-align: right;\">    6</td><td style=\"text-align: right;\"> 73.5</td><td style=\"text-align: right;\">     19.2</td><td style=\"text-align: right;\">     0</td><td style=\"text-align: right;\">395.77</td><td style=\"text-align: right;\">2.3999</td></tr>\n",
       "<tr><td style=\"text-align: right;\">6.027</td><td style=\"text-align: right;\">   0</td><td style=\"text-align: right;\">          16.8</td><td style=\"text-align: right;\">  391</td><td style=\"text-align: right;\">0.22438</td><td style=\"text-align: right;\">0.585</td><td style=\"text-align: right;\">   9.69</td><td style=\"text-align: right;\">  14.33</td><td style=\"text-align: right;\">    6</td><td style=\"text-align: right;\"> 79.7</td><td style=\"text-align: right;\">     19.2</td><td style=\"text-align: right;\">     0</td><td style=\"text-align: right;\">396.9 </td><td style=\"text-align: right;\">2.4982</td></tr>\n",
       "<tr><td style=\"text-align: right;\">6.593</td><td style=\"text-align: right;\">   0</td><td style=\"text-align: right;\">          22.4</td><td style=\"text-align: right;\">  273</td><td style=\"text-align: right;\">0.06263</td><td style=\"text-align: right;\">0.573</td><td style=\"text-align: right;\">  11.93</td><td style=\"text-align: right;\">   9.67</td><td style=\"text-align: right;\">    1</td><td style=\"text-align: right;\"> 69.1</td><td style=\"text-align: right;\">     21  </td><td style=\"text-align: right;\">     0</td><td style=\"text-align: right;\">391.99</td><td style=\"text-align: right;\">2.4786</td></tr>\n",
       "<tr><td style=\"text-align: right;\">6.12 </td><td style=\"text-align: right;\">   0</td><td style=\"text-align: right;\">          20.6</td><td style=\"text-align: right;\">  273</td><td style=\"text-align: right;\">0.04527</td><td style=\"text-align: right;\">0.573</td><td style=\"text-align: right;\">  11.93</td><td style=\"text-align: right;\">   9.08</td><td style=\"text-align: right;\">    1</td><td style=\"text-align: right;\"> 76.7</td><td style=\"text-align: right;\">     21  </td><td style=\"text-align: right;\">     0</td><td style=\"text-align: right;\">396.9 </td><td style=\"text-align: right;\">2.2875</td></tr>\n",
       "<tr><td style=\"text-align: right;\">6.794</td><td style=\"text-align: right;\">   0</td><td style=\"text-align: right;\">          22  </td><td style=\"text-align: right;\">  273</td><td style=\"text-align: right;\">0.10959</td><td style=\"text-align: right;\">0.573</td><td style=\"text-align: right;\">  11.93</td><td style=\"text-align: right;\">   6.48</td><td style=\"text-align: right;\">    1</td><td style=\"text-align: right;\"> 89.3</td><td style=\"text-align: right;\">     21  </td><td style=\"text-align: right;\">     0</td><td style=\"text-align: right;\">393.45</td><td style=\"text-align: right;\">2.3889</td></tr>\n",
       "<tr><td style=\"text-align: right;\">6.03 </td><td style=\"text-align: right;\">   0</td><td style=\"text-align: right;\">          11.9</td><td style=\"text-align: right;\">  273</td><td style=\"text-align: right;\">0.04741</td><td style=\"text-align: right;\">0.573</td><td style=\"text-align: right;\">  11.93</td><td style=\"text-align: right;\">   7.88</td><td style=\"text-align: right;\">    1</td><td style=\"text-align: right;\"> 80.8</td><td style=\"text-align: right;\">     21  </td><td style=\"text-align: right;\">     0</td><td style=\"text-align: right;\">396.9 </td><td style=\"text-align: right;\">2.505 </td></tr>\n",
       "</table>"
      ]
     },
     "metadata": {},
     "output_type": "display_data"
    },
    {
     "data": {
      "text/plain": []
     },
     "execution_count": 7,
     "metadata": {},
     "output_type": "execute_result"
    }
   ],
   "source": [
    "fr.tail()"
   ]
  },
  {
   "cell_type": "markdown",
   "metadata": {},
   "source": [
    "Select a column\n",
    "\n",
    "fr[\"VAR_NAME\"]"
   ]
  },
  {
   "cell_type": "code",
   "execution_count": 8,
   "metadata": {
    "collapsed": false
   },
   "outputs": [
    {
     "data": {
      "text/html": [
       "<table>\n",
       "<tr><th style=\"text-align: right;\">   CRIM</th></tr>\n",
       "<tr><td style=\"text-align: right;\">0.00632</td></tr>\n",
       "<tr><td style=\"text-align: right;\">0.02731</td></tr>\n",
       "<tr><td style=\"text-align: right;\">0.02729</td></tr>\n",
       "<tr><td style=\"text-align: right;\">0.03237</td></tr>\n",
       "<tr><td style=\"text-align: right;\">0.06905</td></tr>\n",
       "<tr><td style=\"text-align: right;\">0.02985</td></tr>\n",
       "<tr><td style=\"text-align: right;\">0.08829</td></tr>\n",
       "<tr><td style=\"text-align: right;\">0.14455</td></tr>\n",
       "<tr><td style=\"text-align: right;\">0.21124</td></tr>\n",
       "<tr><td style=\"text-align: right;\">0.17004</td></tr>\n",
       "</table>"
      ]
     },
     "metadata": {},
     "output_type": "display_data"
    },
    {
     "data": {
      "text/plain": []
     },
     "execution_count": 8,
     "metadata": {},
     "output_type": "execute_result"
    }
   ],
   "source": [
    "fr[\"CRIM\"].head() # Tab completes"
   ]
  },
  {
   "cell_type": "markdown",
   "metadata": {},
   "source": [
    "Select a few columns"
   ]
  },
  {
   "cell_type": "code",
   "execution_count": 9,
   "metadata": {
    "collapsed": false
   },
   "outputs": [
    {
     "data": {
      "text/html": [
       "<table>\n",
       "<tr><th style=\"text-align: right;\">   CRIM</th><th style=\"text-align: right;\">   RM</th><th style=\"text-align: right;\">  RAD</th></tr>\n",
       "<tr><td style=\"text-align: right;\">0.00632</td><td style=\"text-align: right;\">6.575</td><td style=\"text-align: right;\">    1</td></tr>\n",
       "<tr><td style=\"text-align: right;\">0.02731</td><td style=\"text-align: right;\">6.421</td><td style=\"text-align: right;\">    2</td></tr>\n",
       "<tr><td style=\"text-align: right;\">0.02729</td><td style=\"text-align: right;\">7.185</td><td style=\"text-align: right;\">    2</td></tr>\n",
       "<tr><td style=\"text-align: right;\">0.03237</td><td style=\"text-align: right;\">6.998</td><td style=\"text-align: right;\">    3</td></tr>\n",
       "<tr><td style=\"text-align: right;\">0.06905</td><td style=\"text-align: right;\">7.147</td><td style=\"text-align: right;\">    3</td></tr>\n",
       "<tr><td style=\"text-align: right;\">0.02985</td><td style=\"text-align: right;\">6.43 </td><td style=\"text-align: right;\">    3</td></tr>\n",
       "<tr><td style=\"text-align: right;\">0.08829</td><td style=\"text-align: right;\">6.012</td><td style=\"text-align: right;\">    5</td></tr>\n",
       "<tr><td style=\"text-align: right;\">0.14455</td><td style=\"text-align: right;\">6.172</td><td style=\"text-align: right;\">    5</td></tr>\n",
       "<tr><td style=\"text-align: right;\">0.21124</td><td style=\"text-align: right;\">5.631</td><td style=\"text-align: right;\">    5</td></tr>\n",
       "<tr><td style=\"text-align: right;\">0.17004</td><td style=\"text-align: right;\">6.004</td><td style=\"text-align: right;\">    5</td></tr>\n",
       "</table>"
      ]
     },
     "metadata": {},
     "output_type": "display_data"
    },
    {
     "data": {
      "text/plain": []
     },
     "execution_count": 9,
     "metadata": {},
     "output_type": "execute_result"
    }
   ],
   "source": [
    "columns = [\"CRIM\", \"RM\", \"RAD\"]\n",
    "fr[columns].head()"
   ]
  },
  {
   "cell_type": "markdown",
   "metadata": {},
   "source": [
    "Select a subset of rows\n",
    "\n",
    "Unlike in Pandas, columns may be identified by index or column name. **Therefore, when subsetting by rows, you must also pass the column selection.**"
   ]
  },
  {
   "cell_type": "code",
   "execution_count": 10,
   "metadata": {
    "collapsed": false
   },
   "outputs": [
    {
     "data": {
      "text/html": [
       "<table>\n",
       "<tr><th style=\"text-align: right;\">   RM</th><th style=\"text-align: right;\">  ZN</th><th style=\"text-align: right;\">  Median_value</th><th style=\"text-align: right;\">  TAX</th><th style=\"text-align: right;\">   CRIM</th><th style=\"text-align: right;\">  NOX</th><th style=\"text-align: right;\">  INDUS</th><th style=\"text-align: right;\">  LSTAT</th><th style=\"text-align: right;\">  RAD</th><th style=\"text-align: right;\">  AGE</th><th style=\"text-align: right;\">  PTRATIO</th><th style=\"text-align: right;\">  CHAS</th><th style=\"text-align: right;\">     B</th><th style=\"text-align: right;\">   DIS</th></tr>\n",
       "<tr><td style=\"text-align: right;\">7.185</td><td style=\"text-align: right;\"> 0  </td><td style=\"text-align: right;\">          34.7</td><td style=\"text-align: right;\">  242</td><td style=\"text-align: right;\">0.02729</td><td style=\"text-align: right;\">0.469</td><td style=\"text-align: right;\">   7.07</td><td style=\"text-align: right;\">   4.03</td><td style=\"text-align: right;\">    2</td><td style=\"text-align: right;\"> 61.1</td><td style=\"text-align: right;\">     17.8</td><td style=\"text-align: right;\">     0</td><td style=\"text-align: right;\">392.83</td><td style=\"text-align: right;\">4.9671</td></tr>\n",
       "<tr><td style=\"text-align: right;\">6.998</td><td style=\"text-align: right;\"> 0  </td><td style=\"text-align: right;\">          33.4</td><td style=\"text-align: right;\">  222</td><td style=\"text-align: right;\">0.03237</td><td style=\"text-align: right;\">0.458</td><td style=\"text-align: right;\">   2.18</td><td style=\"text-align: right;\">   2.94</td><td style=\"text-align: right;\">    3</td><td style=\"text-align: right;\"> 45.8</td><td style=\"text-align: right;\">     18.7</td><td style=\"text-align: right;\">     0</td><td style=\"text-align: right;\">394.63</td><td style=\"text-align: right;\">6.0622</td></tr>\n",
       "<tr><td style=\"text-align: right;\">7.147</td><td style=\"text-align: right;\"> 0  </td><td style=\"text-align: right;\">          36.2</td><td style=\"text-align: right;\">  222</td><td style=\"text-align: right;\">0.06905</td><td style=\"text-align: right;\">0.458</td><td style=\"text-align: right;\">   2.18</td><td style=\"text-align: right;\">   5.33</td><td style=\"text-align: right;\">    3</td><td style=\"text-align: right;\"> 54.2</td><td style=\"text-align: right;\">     18.7</td><td style=\"text-align: right;\">     0</td><td style=\"text-align: right;\">396.9 </td><td style=\"text-align: right;\">6.0622</td></tr>\n",
       "<tr><td style=\"text-align: right;\">6.43 </td><td style=\"text-align: right;\"> 0  </td><td style=\"text-align: right;\">          28.7</td><td style=\"text-align: right;\">  222</td><td style=\"text-align: right;\">0.02985</td><td style=\"text-align: right;\">0.458</td><td style=\"text-align: right;\">   2.18</td><td style=\"text-align: right;\">   5.21</td><td style=\"text-align: right;\">    3</td><td style=\"text-align: right;\"> 58.7</td><td style=\"text-align: right;\">     18.7</td><td style=\"text-align: right;\">     0</td><td style=\"text-align: right;\">394.12</td><td style=\"text-align: right;\">6.0622</td></tr>\n",
       "<tr><td style=\"text-align: right;\">6.012</td><td style=\"text-align: right;\">12.5</td><td style=\"text-align: right;\">          22.9</td><td style=\"text-align: right;\">  311</td><td style=\"text-align: right;\">0.08829</td><td style=\"text-align: right;\">0.524</td><td style=\"text-align: right;\">   7.87</td><td style=\"text-align: right;\">  12.43</td><td style=\"text-align: right;\">    5</td><td style=\"text-align: right;\"> 66.6</td><td style=\"text-align: right;\">     15.2</td><td style=\"text-align: right;\">     0</td><td style=\"text-align: right;\">395.6 </td><td style=\"text-align: right;\">5.5605</td></tr>\n",
       "</table>"
      ]
     },
     "metadata": {},
     "output_type": "display_data"
    },
    {
     "data": {
      "text/plain": []
     },
     "execution_count": 10,
     "metadata": {},
     "output_type": "execute_result"
    }
   ],
   "source": [
    "fr[2:7,:]  # explicitly select all columns with :"
   ]
  },
  {
   "cell_type": "markdown",
   "metadata": {},
   "source": [
    "Key attributes:\n",
    "      * columns, names, col_names\n",
    "      * len, shape, dim, nrow, ncol\n",
    "      * types\n",
    "      \n",
    "Note: \n",
    "\n",
    "Since the data is _not_ in local python memory\n",
    "there is no \"values\" attribute. If you want to \n",
    "pull all of the data into the local python memory\n",
    "then do so explicitly with h2o.export_file and\n",
    "reading the data into python memory from disk."
   ]
  },
  {
   "cell_type": "code",
   "execution_count": 12,
   "metadata": {
    "collapsed": false
   },
   "outputs": [
    {
     "name": "stdout",
     "output_type": "stream",
     "text": [
      "Columns:['RM', 'ZN', 'Median_value', 'TAX', 'CRIM', 'NOX', 'INDUS', 'LSTAT', 'RAD', 'AGE', 'PTRATIO', 'CHAS', 'B', 'DIS']\n",
      "\n",
      "Columns:['RM', 'ZN', 'Median_value', 'TAX', 'CRIM', 'NOX', 'INDUS', 'LSTAT', 'RAD', 'AGE', 'PTRATIO', 'CHAS', 'B', 'DIS']\n",
      "\n",
      "Columns:['RM', 'ZN', 'Median_value', 'TAX', 'CRIM', 'NOX', 'INDUS', 'LSTAT', 'RAD', 'AGE', 'PTRATIO', 'CHAS', 'B', 'DIS']\n",
      "\n",
      "length:453\n",
      "\n",
      "shape:(453, 14)\n",
      "\n",
      "dim:[453, 14]\n",
      "\n",
      "nrow:453\n",
      "\n",
      "ncol:14\n",
      "\n",
      "types:{'RM': 'real', 'ZN': 'real', 'Median_value': 'real', 'TAX': 'int', 'CRIM': 'real', 'RAD': 'int', 'NOX': 'real', 'INDUS': 'real', 'LSTAT': 'real', 'AGE': 'real', 'PTRATIO': 'real', 'CHAS': 'int', 'B': 'real', 'DIS': 'real'}\n",
      "\n"
     ]
    }
   ],
   "source": [
    "# The columns attribute is exactly like Pandas\n",
    "print(\"Columns:\" + str(fr.columns) + \"\\n\")\n",
    "print(\"Columns:\" + str(fr.names) + \"\\n\")\n",
    "print(\"Columns:\" + str(fr.col_names) + \"\\n\")\n",
    "\n",
    "# There are a number of attributes to get at the shape\n",
    "print(\"length:\" + str( len(fr) ) + \"\\n\")\n",
    "print(\"shape:\" + str(fr.shape) + \"\\n\")\n",
    "print(\"dim:\" + str(fr.dim) + \"\\n\")\n",
    "print(\"nrow:\" + str(fr.nrow) + \"\\n\")\n",
    "print(\"ncol:\" + str(fr.ncol) + \"\\n\")\n",
    "\n",
    "# Use the \"types\" attribute to list the column types\n",
    "print(\"types:\" + str(fr.types) + \"\\n\")"
   ]
  },
  {
   "cell_type": "markdown",
   "metadata": {},
   "source": [
    "Select rows based on value"
   ]
  },
  {
   "cell_type": "code",
   "execution_count": 13,
   "metadata": {
    "collapsed": false
   },
   "outputs": [
    {
     "data": {
      "text/plain": [
       "(453, 14)"
      ]
     },
     "execution_count": 13,
     "metadata": {},
     "output_type": "execute_result"
    }
   ],
   "source": [
    "fr.shape"
   ]
  },
  {
   "cell_type": "markdown",
   "metadata": {},
   "source": [
    "Boolean masks can be used to subselect rows based on a criteria."
   ]
  },
  {
   "cell_type": "code",
   "execution_count": 14,
   "metadata": {
    "collapsed": false
   },
   "outputs": [
    {
     "data": {
      "text/plain": [
       "(149, 14)"
      ]
     },
     "execution_count": 14,
     "metadata": {},
     "output_type": "execute_result"
    }
   ],
   "source": [
    "mask = fr[\"CRIM\"]>1\n",
    "fr[mask,:].shape"
   ]
  },
  {
   "cell_type": "markdown",
   "metadata": {},
   "source": [
    "Get summary statistics of the data and additional data distribution information."
   ]
  },
  {
   "cell_type": "code",
   "execution_count": 15,
   "metadata": {
    "collapsed": false
   },
   "outputs": [
    {
     "name": "stdout",
     "output_type": "stream",
     "text": [
      "Rows:453 Cols:14\n",
      "\n",
      "Chunk compression summary: \n"
     ]
    },
    {
     "data": {
      "text/html": [
       "<div style=\"overflow:auto\"><table style=\"width:50%\"><tr><td><b>chunk_type</b></td>\n",
       "<td><b>chunk_name</b></td>\n",
       "<td><b>count</b></td>\n",
       "<td><b>count_percentage</b></td>\n",
       "<td><b>size</b></td>\n",
       "<td><b>size_percentage</b></td></tr>\n",
       "<tr><td>CBS</td>\n",
       "<td>Bits</td>\n",
       "<td>1</td>\n",
       "<td>7.1428576</td>\n",
       "<td>    127  B</td>\n",
       "<td>0.3965280</td></tr>\n",
       "<tr><td>C1N</td>\n",
       "<td>1-Byte Integers (w/o NAs)</td>\n",
       "<td>1</td>\n",
       "<td>7.1428576</td>\n",
       "<td>    521  B</td>\n",
       "<td>1.6267016</td></tr>\n",
       "<tr><td>C2</td>\n",
       "<td>2-Byte Integers</td>\n",
       "<td>1</td>\n",
       "<td>7.1428576</td>\n",
       "<td>    974  B</td>\n",
       "<td>3.041089</td></tr>\n",
       "<tr><td>C2S</td>\n",
       "<td>2-Byte Fractions</td>\n",
       "<td>1</td>\n",
       "<td>7.1428576</td>\n",
       "<td>    990  B</td>\n",
       "<td>3.0910454</td></tr>\n",
       "<tr><td>CUD</td>\n",
       "<td>Unique Reals</td>\n",
       "<td>4</td>\n",
       "<td>28.57143</td>\n",
       "<td>    7.1 KB</td>\n",
       "<td>22.680155</td></tr>\n",
       "<tr><td>C8D</td>\n",
       "<td>64-bit Reals</td>\n",
       "<td>6</td>\n",
       "<td>42.857143</td>\n",
       "<td>   21.6 KB</td>\n",
       "<td>69.16448</td></tr></table></div>"
      ],
      "text/plain": [
       "chunk_type    chunk_name                 count    count_percentage    size     size_percentage\n",
       "------------  -------------------------  -------  ------------------  -------  -----------------\n",
       "CBS           Bits                       1        7.14286             127  B   0.396528\n",
       "C1N           1-Byte Integers (w/o NAs)  1        7.14286             521  B   1.6267\n",
       "C2            2-Byte Integers            1        7.14286             974  B   3.04109\n",
       "C2S           2-Byte Fractions           1        7.14286             990  B   3.09105\n",
       "CUD           Unique Reals               4        28.5714             7.1 KB   22.6802\n",
       "C8D           64-bit Reals               6        42.8571             21.6 KB  69.1645"
      ]
     },
     "metadata": {},
     "output_type": "display_data"
    },
    {
     "name": "stdout",
     "output_type": "stream",
     "text": [
      "\n",
      "Frame distribution summary: \n"
     ]
    },
    {
     "data": {
      "text/html": [
       "<div style=\"overflow:auto\"><table style=\"width:50%\"><tr><td><b></b></td>\n",
       "<td><b>size</b></td>\n",
       "<td><b>number_of_rows</b></td>\n",
       "<td><b>number_of_chunks_per_column</b></td>\n",
       "<td><b>number_of_chunks</b></td></tr>\n",
       "<tr><td>172.16.2.84:54321</td>\n",
       "<td>   31.3 KB</td>\n",
       "<td>453.0</td>\n",
       "<td>1.0</td>\n",
       "<td>14.0</td></tr>\n",
       "<tr><td>mean</td>\n",
       "<td>   31.3 KB</td>\n",
       "<td>453.0</td>\n",
       "<td>1.0</td>\n",
       "<td>14.0</td></tr>\n",
       "<tr><td>min</td>\n",
       "<td>   31.3 KB</td>\n",
       "<td>453.0</td>\n",
       "<td>1.0</td>\n",
       "<td>14.0</td></tr>\n",
       "<tr><td>max</td>\n",
       "<td>   31.3 KB</td>\n",
       "<td>453.0</td>\n",
       "<td>1.0</td>\n",
       "<td>14.0</td></tr>\n",
       "<tr><td>stddev</td>\n",
       "<td>      0  B</td>\n",
       "<td>0.0</td>\n",
       "<td>0.0</td>\n",
       "<td>0.0</td></tr>\n",
       "<tr><td>total</td>\n",
       "<td>   31.3 KB</td>\n",
       "<td>453.0</td>\n",
       "<td>1.0</td>\n",
       "<td>14.0</td></tr></table></div>"
      ],
      "text/plain": [
       "                   size     number_of_rows    number_of_chunks_per_column    number_of_chunks\n",
       "-----------------  -------  ----------------  -----------------------------  ------------------\n",
       "172.16.2.84:54321  31.3 KB  453               1                              14\n",
       "mean               31.3 KB  453               1                              14\n",
       "min                31.3 KB  453               1                              14\n",
       "max                31.3 KB  453               1                              14\n",
       "stddev             0  B     0                 0                              0\n",
       "total              31.3 KB  453               1                              14"
      ]
     },
     "metadata": {},
     "output_type": "display_data"
    },
    {
     "name": "stdout",
     "output_type": "stream",
     "text": [
      "\n",
      "\n"
     ]
    },
    {
     "data": {
      "text/html": [
       "<table>\n",
       "<tr><th>       </th><th>RM                </th><th>ZN                </th><th>Median_value      </th><th>TAX               </th><th>CRIM                </th><th>NOX                </th><th>INDUS             </th><th>LSTAT             </th><th>RAD              </th><th>AGE               </th><th>PTRATIO           </th><th>CHAS               </th><th>B                </th><th>DIS               </th></tr>\n",
       "<tr><td>type   </td><td>real              </td><td>real              </td><td>real              </td><td>int               </td><td>real                </td><td>real               </td><td>real              </td><td>real              </td><td>int              </td><td>real              </td><td>real              </td><td>int                </td><td>real             </td><td>real              </td></tr>\n",
       "<tr><td>mins   </td><td>3.561             </td><td>0.0               </td><td>5.0               </td><td>187.0             </td><td>0.00632             </td><td>0.385              </td><td>0.46              </td><td>1.73              </td><td>1.0              </td><td>2.9000000000000004</td><td>12.600000000000001</td><td>0.0                </td><td>0.32             </td><td>1.1296000000000002</td></tr>\n",
       "<tr><td>mean   </td><td>6.272730684326713 </td><td>11.539735099337754</td><td>22.528918322295826</td><td>402.22737306843294</td><td>3.290260088300221   </td><td>0.5533324503311261 </td><td>10.931258278145691</td><td>12.51885209713025 </td><td>9.275938189845471</td><td>67.77792494481236 </td><td>18.408830022075065</td><td>0.0640176600441501 </td><td>356.7393818984548</td><td>3.839994260485648 </td></tr>\n",
       "<tr><td>maxs   </td><td>8.78              </td><td>100.0             </td><td>50.0              </td><td>711.0             </td><td>73.53410000000001   </td><td>0.871              </td><td>27.740000000000002</td><td>37.97             </td><td>24.0             </td><td>100.0             </td><td>22.0              </td><td>1.0                </td><td>396.9            </td><td>12.1265           </td></tr>\n",
       "<tr><td>sigma  </td><td>0.7085357660227043</td><td>23.31499786818323 </td><td>9.083731832478104 </td><td>166.33136494922283</td><td>7.830928086015703   </td><td>0.11725492435439215</td><td>6.824765577156836 </td><td>7.00633158705198  </td><td>8.563209498577333</td><td>27.902760166122622</td><td>2.1837820768329164</td><td>0.24505502298300838</td><td>91.57740504437409</td><td>2.095813694508859 </td></tr>\n",
       "<tr><td>zeros  </td><td>0                 </td><td>330               </td><td>0                 </td><td>0                 </td><td>0                   </td><td>0                  </td><td>0                 </td><td>0                 </td><td>0                </td><td>0                 </td><td>0                 </td><td>424                </td><td>0                </td><td>0                 </td></tr>\n",
       "<tr><td>missing</td><td>0                 </td><td>0                 </td><td>0                 </td><td>0                 </td><td>0                   </td><td>0                  </td><td>0                 </td><td>0                 </td><td>0                </td><td>0                 </td><td>0                 </td><td>0                  </td><td>0                </td><td>0                 </td></tr>\n",
       "<tr><td>0      </td><td>6.575             </td><td>18.0              </td><td>24.0              </td><td>296.0             </td><td>0.00632             </td><td>0.538              </td><td>2.31              </td><td>4.98              </td><td>1.0              </td><td>65.2              </td><td>15.3              </td><td>0.0                </td><td>396.9            </td><td>4.09              </td></tr>\n",
       "<tr><td>1      </td><td>6.421             </td><td>0.0               </td><td>21.6              </td><td>242.0             </td><td>0.02731             </td><td>0.46900000000000003</td><td>7.07              </td><td>9.14              </td><td>2.0              </td><td>78.9              </td><td>17.8              </td><td>0.0                </td><td>396.9            </td><td>4.9671            </td></tr>\n",
       "<tr><td>2      </td><td>7.1850000000000005</td><td>0.0               </td><td>34.7              </td><td>242.0             </td><td>0.027290000000000002</td><td>0.46900000000000003</td><td>7.07              </td><td>4.03              </td><td>2.0              </td><td>61.1              </td><td>17.8              </td><td>0.0                </td><td>392.83           </td><td>4.9671            </td></tr>\n",
       "<tr><td>3      </td><td>6.998             </td><td>0.0               </td><td>33.4              </td><td>222.0             </td><td>0.03237             </td><td>0.458              </td><td>2.18              </td><td>2.94              </td><td>3.0              </td><td>45.800000000000004</td><td>18.7              </td><td>0.0                </td><td>394.63           </td><td>6.062200000000002 </td></tr>\n",
       "<tr><td>4      </td><td>7.147             </td><td>0.0               </td><td>36.2              </td><td>222.0             </td><td>0.06905             </td><td>0.458              </td><td>2.18              </td><td>5.33              </td><td>3.0              </td><td>54.2              </td><td>18.7              </td><td>0.0                </td><td>396.9            </td><td>6.062200000000002 </td></tr>\n",
       "<tr><td>5      </td><td>6.43              </td><td>0.0               </td><td>28.700000000000006</td><td>222.0             </td><td>0.02985             </td><td>0.458              </td><td>2.18              </td><td>5.21              </td><td>3.0              </td><td>58.7              </td><td>18.7              </td><td>0.0                </td><td>394.12           </td><td>6.062200000000002 </td></tr>\n",
       "<tr><td>6      </td><td>6.0120000000000005</td><td>12.5              </td><td>22.900000000000002</td><td>311.0             </td><td>0.08829000000000002 </td><td>0.524              </td><td>7.87              </td><td>12.43             </td><td>5.0              </td><td>66.60000000000001 </td><td>15.200000000000001</td><td>0.0                </td><td>395.6            </td><td>5.5605            </td></tr>\n",
       "<tr><td>7      </td><td>6.172             </td><td>12.5              </td><td>27.1              </td><td>311.0             </td><td>0.14455             </td><td>0.524              </td><td>7.87              </td><td>19.150000000000002</td><td>5.0              </td><td>96.1              </td><td>15.200000000000001</td><td>0.0                </td><td>396.9            </td><td>5.9505            </td></tr>\n",
       "<tr><td>8      </td><td>5.631             </td><td>12.5              </td><td>16.5              </td><td>311.0             </td><td>0.21124             </td><td>0.524              </td><td>7.87              </td><td>29.93             </td><td>5.0              </td><td>100.0             </td><td>15.200000000000001</td><td>0.0                </td><td>386.63           </td><td>6.0821000000000005</td></tr>\n",
       "<tr><td>9      </td><td>6.004             </td><td>12.5              </td><td>18.900000000000002</td><td>311.0             </td><td>0.17004000000000002 </td><td>0.524              </td><td>7.87              </td><td>17.1              </td><td>5.0              </td><td>85.9              </td><td>15.200000000000001</td><td>0.0                </td><td>386.71           </td><td>6.5921            </td></tr>\n",
       "</table>"
      ]
     },
     "metadata": {},
     "output_type": "display_data"
    }
   ],
   "source": [
    "fr.describe()"
   ]
  },
  {
   "cell_type": "markdown",
   "metadata": {},
   "source": [
    "Set up the predictor and response column names\n",
    "\n",
    "Using H2O algorithms, it's easier to reference predictor and response columns\n",
    "by name in a single frame (i.e., don't split up X and y)"
   ]
  },
  {
   "cell_type": "code",
   "execution_count": null,
   "metadata": {
    "collapsed": true
   },
   "outputs": [],
   "source": [
    "x = fr.names[:]\n",
    "y=\"Median_value\"\n",
    "x.remove(y)"
   ]
  },
  {
   "cell_type": "markdown",
   "metadata": {},
   "source": [
    "## Machine Learning With H2O"
   ]
  },
  {
   "cell_type": "markdown",
   "metadata": {},
   "source": [
    "H2O is a machine learning library built in Java with interfaces in Python, R, Scala, and Javascript. It is [open source](http://github.com/h2oai) and [well-documented](http://docs.h2o.ai).\n",
    "\n",
    "Unlike Scikit-learn, H2O allows for categorical and missing data.\n",
    "\n",
    "The basic work flow is as follows:\n",
    "* Fit the training data with a machine learning algorithm\n",
    "* Predict on the testing data"
   ]
  },
  {
   "cell_type": "markdown",
   "metadata": {},
   "source": [
    "### Simple model"
   ]
  },
  {
   "cell_type": "code",
   "execution_count": null,
   "metadata": {
    "collapsed": false
   },
   "outputs": [],
   "source": [
    "model = h2o.random_forest(x=fr[:400,x],y=fr[:400,y],seed=42) # Define and fit first 400 points"
   ]
  },
  {
   "cell_type": "code",
   "execution_count": null,
   "metadata": {
    "collapsed": false
   },
   "outputs": [],
   "source": [
    "model.predict(fr[400:fr.nrow,:])        # Predict the rest"
   ]
  },
  {
   "cell_type": "markdown",
   "metadata": {},
   "source": [
    "The performance of the model can be checked using the holdout dataset"
   ]
  },
  {
   "cell_type": "code",
   "execution_count": null,
   "metadata": {
    "collapsed": false
   },
   "outputs": [],
   "source": [
    "perf = model.model_performance(fr[400:fr.nrow,:])\n",
    "perf.r2()      # get the r2 on the holdout data\n",
    "perf.mse()     # get the mse on the holdout data\n",
    "perf           # display the performance object"
   ]
  },
  {
   "cell_type": "markdown",
   "metadata": {},
   "source": [
    "### Train-Test Split"
   ]
  },
  {
   "cell_type": "markdown",
   "metadata": {},
   "source": [
    "Instead of taking the first 400 observations for training, we can use H2O to create a random test train split of the data."
   ]
  },
  {
   "cell_type": "code",
   "execution_count": null,
   "metadata": {
    "collapsed": false
   },
   "outputs": [],
   "source": [
    "r = fr.runif(seed=12345)   # build random uniform column over [0,1]\n",
    "train= fr[r<0.75,:]     # perform a 75-25 split\n",
    "test = fr[r>=0.75,:]\n",
    "\n",
    "model = h2o.random_forest(x=train[x],y=train[y],seed=42)\n",
    "\n",
    "perf = model.model_performance(test)\n",
    "perf.r2()"
   ]
  },
  {
   "cell_type": "markdown",
   "metadata": {},
   "source": [
    "There was a massive jump in the R^2 value. This is because the original data is not shuffled."
   ]
  },
  {
   "cell_type": "markdown",
   "metadata": {},
   "source": [
    "### Cross validation"
   ]
  },
  {
   "cell_type": "markdown",
   "metadata": {},
   "source": [
    "H2O's machine learning algorithms take an optional parameter **nfolds** to specify the number of cross-validation folds to build. H2O's cross-validation uses an internal weight vector to build the folds in an efficient manner (instead of physically building the splits)."
   ]
  },
  {
   "cell_type": "markdown",
   "metadata": {},
   "source": [
    "In conjunction with the **nfolds** parameter, a user may specify the way in which observations are assigned to each fold with the **fold_assignment** parameter, which can be set to either:\n",
    "        * AUTO:  Perform random assignment\n",
    "        * Random: Each row has a equal (1/nfolds) chance of being in any fold.\n",
    "        * Modulo: Observations are in/out of the fold based by modding on nfolds"
   ]
  },
  {
   "cell_type": "code",
   "execution_count": null,
   "metadata": {
    "collapsed": false
   },
   "outputs": [],
   "source": [
    "model = h2o.random_forest(x=fr[x],y=fr[y], nfolds=10) # build a 10-fold cross-validated model"
   ]
  },
  {
   "cell_type": "code",
   "execution_count": null,
   "metadata": {
    "collapsed": false
   },
   "outputs": [],
   "source": [
    "scores = numpy.array([m.r2() for m in model.xvals]) # iterate over the xval models using the xvals attribute\n",
    "print(\"Expected R^2: %.2f +/- %.2f \\n\" % (scores.mean(), scores.std()*1.96))\n",
    "print(\"Scores:\" + scores.round(2))"
   ]
  },
  {
   "cell_type": "markdown",
   "metadata": {},
   "source": [
    "However, you can still make use of the cross_val_score from Scikit-Learn"
   ]
  },
  {
   "cell_type": "markdown",
   "metadata": {},
   "source": [
    "### Cross validation: H2O and Scikit-Learn"
   ]
  },
  {
   "cell_type": "code",
   "execution_count": null,
   "metadata": {
    "collapsed": true
   },
   "outputs": [],
   "source": [
    "from sklearn.cross_validation import cross_val_score\n",
    "from h2o.cross_validation import H2OKFold\n",
    "from h2o.estimators.random_forest import H2ORandomForestEstimator\n",
    "from h2o.model.regression import h2o_r2_score\n",
    "from sklearn.metrics.scorer import make_scorer"
   ]
  },
  {
   "cell_type": "markdown",
   "metadata": {},
   "source": [
    "You still must use H2O to make the folds. Currently, there is no H2OStratifiedKFold. Additionally, the H2ORandomForestEstimator is analgous to the scikit-learn RandomForestRegressor object with its own ``fit`` method"
   ]
  },
  {
   "cell_type": "code",
   "execution_count": null,
   "metadata": {
    "collapsed": true
   },
   "outputs": [],
   "source": [
    "model = H2ORandomForestEstimator(seed=42)"
   ]
  },
  {
   "cell_type": "code",
   "execution_count": null,
   "metadata": {
    "collapsed": false
   },
   "outputs": [],
   "source": [
    "scorer = make_scorer(h2o_r2_score)   # make h2o_r2_score into a scikit_learn scorer\n",
    "custom_cv = H2OKFold(fr, n_folds=10, seed=42) # make a cv \n",
    "scores = cross_val_score(model, fr[x], fr[y], scoring=scorer, cv=custom_cv)\n",
    "\n",
    "print(\"Expected R^2: %.2f +/- %.2f \\n\" % (scores.mean(), scores.std()*1.96))\n",
    "print(\"Scores:\", scores.round(2))"
   ]
  },
  {
   "cell_type": "markdown",
   "metadata": {},
   "source": [
    "There isn't much difference in the R^2 value since the fold strategy is exactly the same. However, there was a major difference in terms of computation time and memory usage."
   ]
  },
  {
   "cell_type": "markdown",
   "metadata": {},
   "source": [
    "Since the progress bar print out gets annoying let's disable that"
   ]
  },
  {
   "cell_type": "code",
   "execution_count": null,
   "metadata": {
    "collapsed": true
   },
   "outputs": [],
   "source": [
    "h2o.__PROGRESS_BAR__=False\n",
    "h2o.no_progress()"
   ]
  },
  {
   "cell_type": "markdown",
   "metadata": {},
   "source": [
    "### Grid Search"
   ]
  },
  {
   "cell_type": "markdown",
   "metadata": {},
   "source": [
    "Grid search in H2O is still under active development and it will be available very soon. However, it is possible to make use of Scikit's grid search infrastructure (with some performance penalties)"
   ]
  },
  {
   "cell_type": "markdown",
   "metadata": {},
   "source": [
    "### Randomized grid search: H2O and Scikit-Learn"
   ]
  },
  {
   "cell_type": "code",
   "execution_count": null,
   "metadata": {
    "collapsed": false
   },
   "outputs": [],
   "source": [
    "from sklearn import __version__\n",
    "sklearn_version = __version__\n",
    "print sklearn_version"
   ]
  },
  {
   "cell_type": "markdown",
   "metadata": {},
   "source": [
    "If you have 0.16.1, then your system can't handle complex randomized grid searches (it works in every other version of sklearn, including the soon to be released 0.16.2 and the older versions).\n",
    "\n",
    "The steps to perform a randomized grid search:\n",
    "1. Import model and RandomizedSearchCV\n",
    "2. Define model\n",
    "3. Specify parameters to test\n",
    "4. Define grid search object\n",
    "5. Fit data to grid search object\n",
    "6. Collect scores\n",
    "\n",
    "All the steps will be repeated from above.\n",
    "\n",
    "Because 0.16.1 is installed, we use scipy to define specific distributions"
   ]
  },
  {
   "cell_type": "markdown",
   "metadata": {},
   "source": [
    "ADVANCED TIP:\n",
    "\n",
    "Turn off reference counting for spawning jobs in parallel (n_jobs=-1, or n_jobs > 1).\n",
    "We'll turn it back on again in the aftermath of a Parallel job.\n",
    "\n",
    "If you don't want to run jobs in parallel, don't turn off the reference counting.\n",
    "\n",
    "Pattern is:\n",
    "         >>> h2o.turn_off_ref_cnts()\n",
    "         >>> .... parallel job ....\n",
    "         >>> h2o.turn_on_ref_cnts()"
   ]
  },
  {
   "cell_type": "code",
   "execution_count": null,
   "metadata": {
    "collapsed": false
   },
   "outputs": [],
   "source": [
    "%%time\n",
    "from h2o.estimators.random_forest import H2ORandomForestEstimator  # Import model\n",
    "from sklearn.grid_search import RandomizedSearchCV  # Import grid search\n",
    "from scipy.stats import randint, uniform\n",
    "\n",
    "model = H2ORandomForestEstimator(seed=42)        # Define model\n",
    "\n",
    "params = {\"ntrees\": randint(20,50),\n",
    "          \"max_depth\": randint(1,10),\n",
    "          \"min_rows\": randint(1,10),    # scikit's  min_samples_leaf\n",
    "          \"mtries\": randint(2,fr[x].shape[1]),} # Specify parameters to test\n",
    "\n",
    "scorer = make_scorer(h2o_r2_score)   # make h2o_r2_score into a scikit_learn scorer\n",
    "custom_cv = H2OKFold(fr, n_folds=10, seed=42) # make a cv \n",
    "random_search = RandomizedSearchCV(model, params, \n",
    "                                   n_iter=30, \n",
    "                                   scoring=scorer, \n",
    "                                   cv=custom_cv, \n",
    "                                   random_state=42,\n",
    "                                   n_jobs=1)       # Define grid search object\n",
    "\n",
    "random_search.fit(fr[x], fr[y])\n",
    "\n",
    "print(\"Best R^2:\" + random_search.best_score_ + \"\\n\")\n",
    "print(\"Best params:\" + random_search.best_params_)"
   ]
  },
  {
   "cell_type": "markdown",
   "metadata": {},
   "source": [
    "We might be tempted to think that we just had a large improvement; however we must be cautious. The function below creates a more detailed report."
   ]
  },
  {
   "cell_type": "code",
   "execution_count": null,
   "metadata": {
    "collapsed": true
   },
   "outputs": [],
   "source": [
    "def report_grid_score_detail(random_search, charts=True):\n",
    "    \"\"\"Input fit grid search estimator. Returns df of scores with details\"\"\"\n",
    "    df_list = []\n",
    "\n",
    "    for line in random_search.grid_scores_:\n",
    "        results_dict = dict(line.parameters)\n",
    "        results_dict[\"score\"] = line.mean_validation_score\n",
    "        results_dict[\"std\"] = line.cv_validation_scores.std()*1.96\n",
    "        df_list.append(results_dict)\n",
    "\n",
    "    result_df = pd.DataFrame(df_list)\n",
    "    result_df = result_df.sort(\"score\", ascending=False)\n",
    "    \n",
    "    if charts:\n",
    "        for col in get_numeric(result_df):\n",
    "            if col not in [\"score\", \"std\"]:\n",
    "                plt.scatter(result_df[col], result_df.score)\n",
    "                plt.title(col)\n",
    "                plt.show()\n",
    "\n",
    "        for col in list(result_df.columns[result_df.dtypes == \"object\"]):\n",
    "            cat_plot = result_df.score.groupby(result_df[col]).mean()[0]\n",
    "            cat_plot.sort()\n",
    "            cat_plot.plot(kind=\"barh\", xlim=(.5, None), figsize=(7, cat_plot.shape[0]/2))\n",
    "            plt.show()\n",
    "    return result_df\n",
    "\n",
    "def get_numeric(X):\n",
    "    \"\"\"Return list of numeric dtypes variables\"\"\"\n",
    "    return X.dtypes[X.dtypes.apply(lambda x: str(x).startswith((\"float\", \"int\", \"bool\")))].index.tolist()"
   ]
  },
  {
   "cell_type": "code",
   "execution_count": null,
   "metadata": {
    "collapsed": false
   },
   "outputs": [],
   "source": [
    "report_grid_score_detail(random_search).head()"
   ]
  },
  {
   "cell_type": "markdown",
   "metadata": {},
   "source": [
    "Based on the grid search report, we can narrow the parameters to search and rerun the analysis. The parameters below were chosen after a few runs:"
   ]
  },
  {
   "cell_type": "code",
   "execution_count": null,
   "metadata": {
    "collapsed": false
   },
   "outputs": [],
   "source": [
    "%%time\n",
    "\n",
    "params = {\"ntrees\": randint(30,40),\n",
    "          \"max_depth\": randint(4,10),\n",
    "          \"mtries\": randint(4,10),}\n",
    "\n",
    "custom_cv = H2OKFold(fr, n_folds=5, seed=42)           # In small datasets, the fold size can have a big\n",
    "                                                       # impact on the std of the resulting scores. More\n",
    "random_search = RandomizedSearchCV(model, params,      # folds --> Less examples per fold --> higher \n",
    "                                   n_iter=10,          # variation per sample\n",
    "                                   scoring=scorer, \n",
    "                                   cv=custom_cv, \n",
    "                                   random_state=43, \n",
    "                                   n_jobs=1)       \n",
    "\n",
    "random_search.fit(fr[x], fr[y])\n",
    "\n",
    "print(\"Best R^2:\" + random_search.best_score_ + \"\\n\")\n",
    "print(\"Best params:\" + random_search.best_params_)\n",
    "\n",
    "report_grid_score_detail(random_search)"
   ]
  },
  {
   "cell_type": "markdown",
   "metadata": {},
   "source": [
    "### Transformations"
   ]
  },
  {
   "cell_type": "markdown",
   "metadata": {},
   "source": [
    "Rule of machine learning: Don't use your testing data to inform your training data. Unfortunately, this happens all the time when preparing a dataset for the final model. But on smaller datasets, you must be especially careful."
   ]
  },
  {
   "cell_type": "markdown",
   "metadata": {},
   "source": [
    "At the moment, there are no classes for managing data transformations. On the one hand, this requires the user to tote around some extra state, but on the other, it allows the user to be more explicit about transforming H2OFrames.\n",
    "\n",
    "Basic steps:\n",
    "\n",
    "0. Remove the response variable from transformations.\n",
    "1. Import transformer\n",
    "2. Define transformer\n",
    "3. Fit train data to transformer\n",
    "4. Transform test and train data\n",
    "5. Re-attach the response variable."
   ]
  },
  {
   "cell_type": "markdown",
   "metadata": {},
   "source": [
    "First let's normalize the data using the means and standard deviations of the training data.\n",
    "Then let's perform a principal component analysis on the training data and select the top 5 components.\n",
    "Using these components, let's use them to reduce the train and test design matrices."
   ]
  },
  {
   "cell_type": "code",
   "execution_count": null,
   "metadata": {
    "collapsed": true
   },
   "outputs": [],
   "source": [
    "from h2o.transforms.preprocessing import H2OScaler\n",
    "from h2o.transforms.decomposition import H2OPCA"
   ]
  },
  {
   "cell_type": "markdown",
   "metadata": {},
   "source": [
    "#### Normalize Data: Use the means and standard deviations from the training data."
   ]
  },
  {
   "cell_type": "code",
   "execution_count": null,
   "metadata": {
    "collapsed": true
   },
   "outputs": [],
   "source": [
    "y_train = train.pop(\"Median_value\")\n",
    "y_test  = test.pop(\"Median_value\")"
   ]
  },
  {
   "cell_type": "code",
   "execution_count": null,
   "metadata": {
    "collapsed": true
   },
   "outputs": [],
   "source": [
    "norm = H2OScaler()\n",
    "norm.fit(train)\n",
    "X_train_norm = norm.transform(train)\n",
    "X_test_norm  = norm.transform(test)"
   ]
  },
  {
   "cell_type": "code",
   "execution_count": null,
   "metadata": {
    "collapsed": false
   },
   "outputs": [],
   "source": [
    "print(X_test_norm.shape)\n",
    "X_test_norm"
   ]
  },
  {
   "cell_type": "markdown",
   "metadata": {},
   "source": [
    "Then, we can apply PCA and keep the top 5 components."
   ]
  },
  {
   "cell_type": "code",
   "execution_count": null,
   "metadata": {
    "collapsed": true
   },
   "outputs": [],
   "source": [
    "pca = H2OPCA(k=5)\n",
    "pca.fit(X_train_norm)\n",
    "X_train_norm_pca = pca.transform(X_train_norm)\n",
    "X_test_norm_pca  = pca.transform(X_test_norm)"
   ]
  },
  {
   "cell_type": "code",
   "execution_count": null,
   "metadata": {
    "collapsed": true
   },
   "outputs": [],
   "source": [
    "# prop of variance explained by top 5 components?"
   ]
  },
  {
   "cell_type": "code",
   "execution_count": null,
   "metadata": {
    "collapsed": false
   },
   "outputs": [],
   "source": [
    "print(X_test_norm_pca.shape)\n",
    "X_test_norm_pca[:5]"
   ]
  },
  {
   "cell_type": "code",
   "execution_count": null,
   "metadata": {
    "collapsed": false
   },
   "outputs": [],
   "source": [
    "model = H2ORandomForestEstimator(seed=42)\n",
    "model.fit(X_train_norm_pca,y_train)\n",
    "y_hat  = model.predict(X_test_norm_pca)"
   ]
  },
  {
   "cell_type": "code",
   "execution_count": null,
   "metadata": {
    "collapsed": false
   },
   "outputs": [],
   "source": [
    "h2o_r2_score(y_test,y_hat)"
   ]
  },
  {
   "cell_type": "markdown",
   "metadata": {},
   "source": [
    "Although this is MUCH simpler than keeping track of all of these transformations manually, it gets to be somewhat of a burden when you want to chain together multiple transformers."
   ]
  },
  {
   "cell_type": "markdown",
   "metadata": {},
   "source": [
    "### Pipelines"
   ]
  },
  {
   "cell_type": "markdown",
   "metadata": {},
   "source": [
    "\"Tranformers unite!\"\n",
    "\n",
    "If your raw data is a mess and you have to perform several transformations before using it, use a pipeline to keep things simple.\n",
    "\n",
    "Steps:\n",
    "\n",
    "1. Import Pipeline, transformers, and model\n",
    "2. Define pipeline. The first and only argument is a *list* of *tuples* where the first element of each tuple is a name you give the step and the second element is a defined transformer. The last step is optionally an estimator class (like a RandomForest).\n",
    "3. Fit the training data to pipeline\n",
    "4. Either transform or predict the testing data"
   ]
  },
  {
   "cell_type": "code",
   "execution_count": null,
   "metadata": {
    "collapsed": true
   },
   "outputs": [],
   "source": [
    "from h2o.transforms.preprocessing import H2OScaler\n",
    "from h2o.transforms.decomposition import H2OPCA\n",
    "from h2o.estimators.random_forest import H2ORandomForestEstimator"
   ]
  },
  {
   "cell_type": "code",
   "execution_count": null,
   "metadata": {
    "collapsed": false
   },
   "outputs": [],
   "source": [
    "from sklearn.pipeline import Pipeline                # Import Pipeline <other imports not shown>\n",
    "model = H2ORandomForestEstimator(seed=42)\n",
    "pipe = Pipeline([(\"standardize\", H2OScaler()),       # Define pipeline as a series of steps\n",
    "                 (\"pca\", H2OPCA(k=5)),\n",
    "                 (\"rf\", model)])                     # Notice the last step is an estimator\n",
    "\n",
    "pipe.fit(train, y_train)                             # Fit training data\n",
    "y_hat = pipe.predict(test)                           # Predict testing data (due to last step being an estimator)\n",
    "h2o_r2_score(y_test, y_hat)                          # Notice the final score is identical to before"
   ]
  },
  {
   "cell_type": "markdown",
   "metadata": {},
   "source": [
    "This is so much easier!!!"
   ]
  },
  {
   "cell_type": "markdown",
   "metadata": {},
   "source": [
    "But, wait a second, we did worse after applying these transformations! We might wonder how different hyperparameters for the transformations impact the final score."
   ]
  },
  {
   "cell_type": "markdown",
   "metadata": {},
   "source": [
    "### Combining randomized grid search and pipelines\n",
    "\"Yo dawg, I heard you like models, so I put models in your models to model models.\"\n",
    "\n",
    "Steps:\n",
    "\n",
    "1. Import Pipeline, grid search, transformers, and estimators <Not shown below>\n",
    "2. Define pipeline\n",
    "3. Define parameters to test in the form: \"(Step name)__(argument name)\" A double underscore separates the two words.\n",
    "4. Define grid search\n",
    "5. Fit to grid search"
   ]
  },
  {
   "cell_type": "code",
   "execution_count": null,
   "metadata": {
    "collapsed": false
   },
   "outputs": [],
   "source": [
    "pipe = Pipeline([(\"standardize\", H2OScaler()),\n",
    "                 (\"pca\", H2OPCA()),\n",
    "                 (\"rf\", H2ORandomForestEstimator(seed=42))])\n",
    "\n",
    "params = {\"standardize__center\":    [True, False],           # Parameters to test\n",
    "          \"standardize__scale\":     [True, False],\n",
    "          \"pca__k\":                 randint(2, 6),\n",
    "          \"rf__ntrees\":             randint(50,80),\n",
    "          \"rf__max_depth\":          randint(4,10),\n",
    "          \"rf__min_rows\":           randint(5,10), }\n",
    "#           \"rf__mtries\":             randint(1,4),}           # gridding over mtries is \n",
    "                                                               # problematic with pca grid over \n",
    "                                                               # k above \n",
    "\n",
    "from sklearn.grid_search import RandomizedSearchCV\n",
    "from h2o.cross_validation import H2OKFold\n",
    "from h2o.model.regression import h2o_r2_score\n",
    "from sklearn.metrics.scorer import make_scorer\n",
    "\n",
    "custom_cv = H2OKFold(fr, n_folds=5, seed=42)\n",
    "random_search = RandomizedSearchCV(pipe, params,\n",
    "                                   n_iter=30,\n",
    "                                   scoring=make_scorer(h2o_r2_score),\n",
    "                                   cv=custom_cv,\n",
    "                                   random_state=42,\n",
    "                                   n_jobs=1)\n",
    "\n",
    "\n",
    "random_search.fit(fr[x],fr[y])\n",
    "results = report_grid_score_detail(random_search)\n",
    "results.head()"
   ]
  },
  {
   "cell_type": "markdown",
   "metadata": {},
   "source": [
    "Currently Under Development (drop-in scikit-learn pieces):\n",
    "    * Richer set of transforms (only PCA and Scale are implemented)\n",
    "    * Richer set of estimators (only RandomForest is available)\n",
    "    * Full H2O Grid Search"
   ]
  },
  {
   "cell_type": "markdown",
   "metadata": {},
   "source": [
    "### Other Tips: Model Save/Load"
   ]
  },
  {
   "cell_type": "markdown",
   "metadata": {},
   "source": [
    "It is useful to save constructed models to disk and reload them between H2O sessions. Here's how:"
   ]
  },
  {
   "cell_type": "code",
   "execution_count": null,
   "metadata": {
    "collapsed": true
   },
   "outputs": [],
   "source": [
    "best_estimator = random_search.best_estimator_                        # fetch the pipeline from the grid search\n",
    "h2o_model      = h2o.get_model(best_estimator._final_estimator._id)    # fetch the model from the pipeline"
   ]
  },
  {
   "cell_type": "code",
   "execution_count": null,
   "metadata": {
    "collapsed": false
   },
   "outputs": [],
   "source": [
    "save_path = h2o.save_model(h2o_model, path=\".\", force=True)\n",
    "print(save_path)"
   ]
  },
  {
   "cell_type": "code",
   "execution_count": null,
   "metadata": {
    "collapsed": true
   },
   "outputs": [],
   "source": [
    "# assumes new session\n",
    "my_model = h2o.load_model(path=save_path)"
   ]
  },
  {
   "cell_type": "code",
   "execution_count": null,
   "metadata": {
    "collapsed": false
   },
   "outputs": [],
   "source": [
    "my_model.predict(X_test_norm_pca)"
   ]
  }
 ],
 "metadata": {
  "kernelspec": {
   "display_name": "Python 3",
   "language": "python",
   "name": "python3"
  },
  "language_info": {
   "codemirror_mode": {
    "name": "ipython",
    "version": 3
   },
   "file_extension": ".py",
   "mimetype": "text/x-python",
   "name": "python",
   "nbconvert_exporter": "python",
   "pygments_lexer": "ipython3",
   "version": "3.5.0"
  }
 },
 "nbformat": 4,
 "nbformat_minor": 0
}
