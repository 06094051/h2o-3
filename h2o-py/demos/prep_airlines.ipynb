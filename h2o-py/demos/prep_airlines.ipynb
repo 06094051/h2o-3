{
 "metadata": {
  "name": "",
  "signature": "sha256:b23a817b5607b086e1f6cb1d26ab0bae18e73bbfd0dfa947a74f33c753565141"
 },
 "nbformat": 3,
 "nbformat_minor": 0,
 "worksheets": [
  {
   "cells": [
    {
     "cell_type": "code",
     "collapsed": false,
     "input": [
      "#----------------------------------------------------------------------\n",
      "# Purpose:  Condition an Airline dataset by filtering out NAs where the\n",
      "#           departure delay in the input dataset is unknown.\n",
      "#\n",
      "#           Then treat anything longer than minutesOfDelayWeTolerate\n",
      "#           as delayed.\n",
      "#----------------------------------------------------------------------"
     ],
     "language": "python",
     "metadata": {},
     "outputs": [],
     "prompt_number": 1
    },
    {
     "cell_type": "code",
     "collapsed": false,
     "input": [
      "import h2o"
     ],
     "language": "python",
     "metadata": {},
     "outputs": [],
     "prompt_number": 2
    },
    {
     "cell_type": "code",
     "collapsed": false,
     "input": [
      "h2o.init()"
     ],
     "language": "python",
     "metadata": {},
     "outputs": [
      {
       "html": [
        "<div style=\"overflow:auto\"><table style=\"width:50%\"><tr><td>H2O cluster uptime: </td>\n",
        "<td>4 minutes 25 seconds 487 milliseconds </td></tr>\n",
        "<tr><td>H2O cluster version: </td>\n",
        "<td>3.1.0.99999</td></tr>\n",
        "<tr><td>H2O cluster name: </td>\n",
        "<td>ece</td></tr>\n",
        "<tr><td>H2O cluster total nodes: </td>\n",
        "<td>1</td></tr>\n",
        "<tr><td>H2O cluster total memory: </td>\n",
        "<td>4.44 GB</td></tr>\n",
        "<tr><td>H2O cluster total cores: </td>\n",
        "<td>8</td></tr>\n",
        "<tr><td>H2O cluster allowed cores: </td>\n",
        "<td>8</td></tr>\n",
        "<tr><td>H2O cluster healthy: </td>\n",
        "<td>True</td></tr>\n",
        "<tr><td>H2O Connection ip: </td>\n",
        "<td>127.0.0.1</td></tr>\n",
        "<tr><td>H2O Connection port: </td>\n",
        "<td>54321</td></tr></table></div>"
       ],
       "metadata": {},
       "output_type": "display_data",
       "text": [
        "--------------------------  -------------------------------------\n",
        "H2O cluster uptime:         4 minutes 25 seconds 487 milliseconds\n",
        "H2O cluster version:        3.1.0.99999\n",
        "H2O cluster name:           ece\n",
        "H2O cluster total nodes:    1\n",
        "H2O cluster total memory:   4.44 GB\n",
        "H2O cluster total cores:    8\n",
        "H2O cluster allowed cores:  8\n",
        "H2O cluster healthy:        True\n",
        "H2O Connection ip:          127.0.0.1\n",
        "H2O Connection port:        54321\n",
        "--------------------------  -------------------------------------"
       ]
      }
     ],
     "prompt_number": 3
    },
    {
     "cell_type": "code",
     "collapsed": false,
     "input": [
      "air = h2o.import_frame(h2o.locate(\"smalldata/airlines/allyears2k_headers.zip\"))"
     ],
     "language": "python",
     "metadata": {},
     "outputs": [
      {
       "output_type": "stream",
       "stream": "stdout",
       "text": [
        "\n",
        "\r",
        "Parse Progress: [                                                  ] 00%"
       ]
      },
      {
       "output_type": "stream",
       "stream": "stdout",
       "text": [
        "\r",
        "Parse Progress: [##################################################] 100%"
       ]
      },
      {
       "output_type": "stream",
       "stream": "stdout",
       "text": [
        "\n",
        "Imported  /Users/ece/0xdata/h2o-dev/smalldata/airlines/allyears2k_headers.zip . Parsed 43,978 rows and 31 cols\n"
       ]
      }
     ],
     "prompt_number": 4
    },
    {
     "cell_type": "code",
     "collapsed": false,
     "input": [
      "numRows, numCols = air.dim()\n",
      "print \"Original dataset rows: {0}, columns: {1}\".format(numRows, numCols)\n",
      "\n",
      "x_cols = [\"Month\", \"DayofMonth\", \"DayOfWeek\", \"CRSDepTime\", \"CRSArrTime\", \"UniqueCarrier\", \"CRSElapsedTime\", \"Origin\", \"Dest\", \"Distance\"]\n",
      "y_col = \"SynthDepDelayed\"\n",
      "\n",
      "noDepDelayedNAs = air[air[\"DepDelay\"].isna() == 0]\n",
      "rows, cols = noDepDelayedNAs.dim()\n",
      "print \"New dataset rows: {0}, columns: {1}\".format(rows, cols)"
     ],
     "language": "python",
     "metadata": {},
     "outputs": [
      {
       "output_type": "stream",
       "stream": "stdout",
       "text": [
        "Original dataset rows: 43978, columns: 31\n",
        "New dataset rows: 42892, columns: 31"
       ]
      },
      {
       "output_type": "stream",
       "stream": "stdout",
       "text": [
        "\n"
       ]
      }
     ],
     "prompt_number": 5
    },
    {
     "cell_type": "code",
     "collapsed": false,
     "input": [
      "minutesOfDelayWeTolerate = 15\n",
      "noDepDelayedNAs.cbind(noDepDelayedNAs[\"DepDelay\"] > minutesOfDelayWeTolerate)\n",
      "noDepDelayedNAs[numCols] = noDepDelayedNAs[numCols].asfactor()\n",
      "noDepDelayedNAs._vecs[numCols].setName(y_col)"
     ],
     "language": "python",
     "metadata": {},
     "outputs": [],
     "prompt_number": 6
    },
    {
     "cell_type": "code",
     "collapsed": false,
     "input": [
      "gbm = h2o.gbm(x=noDepDelayedNAs[x_cols], y=noDepDelayedNAs[y_col], distribution=\"bernoulli\")\n",
      "gbm.show()"
     ],
     "language": "python",
     "metadata": {},
     "outputs": [
      {
       "output_type": "stream",
       "stream": "stdout",
       "text": [
        "\n",
        "\r",
        "gbm Model Build Progress: [                                                  ] 00%"
       ]
      },
      {
       "output_type": "stream",
       "stream": "stdout",
       "text": [
        "\r",
        "gbm Model Build Progress: [                                                  ] 00%"
       ]
      },
      {
       "output_type": "stream",
       "stream": "stdout",
       "text": [
        "\r",
        "gbm Model Build Progress: [##                                                ] 04%"
       ]
      },
      {
       "output_type": "stream",
       "stream": "stdout",
       "text": [
        "\r",
        "gbm Model Build Progress: [#########                                         ] 18%"
       ]
      },
      {
       "output_type": "stream",
       "stream": "stdout",
       "text": [
        "\r",
        "gbm Model Build Progress: [#################                                 ] 34%"
       ]
      },
      {
       "output_type": "stream",
       "stream": "stdout",
       "text": [
        "\r",
        "gbm Model Build Progress: [###########################                       ] 54%"
       ]
      },
      {
       "output_type": "stream",
       "stream": "stdout",
       "text": [
        "\r",
        "gbm Model Build Progress: [#######################################           ] 78%"
       ]
      },
      {
       "output_type": "stream",
       "stream": "stdout",
       "text": [
        "\r",
        "gbm Model Build Progress: [##################################################] 100%"
       ]
      },
      {
       "output_type": "stream",
       "stream": "stdout",
       "text": [
        "\n",
        "Model Details\n",
        "=============\n",
        "H2OBinomialModel :  Gradient Boosting Machine\n",
        "Model Key:  GBMModel__94c94291c76be48714e2cd011a484fa3\n",
        "\n",
        "Model Summary:\n",
        "\n"
       ]
      },
      {
       "html": [
        "<div style=\"overflow:auto\"><table style=\"width:50%\"><tr><td></td>\n",
        "<td>number_of_trees</td>\n",
        "<td>model_size_in_bytes</td>\n",
        "<td>min_depth</td>\n",
        "<td>max_depth</td>\n",
        "<td>mean_depth</td>\n",
        "<td>min_leaves</td>\n",
        "<td>max_leaves</td>\n",
        "<td>mean_leaves</td></tr>\n",
        "<tr><td></td>\n",
        "<td>50.0</td>\n",
        "<td>33599.0</td>\n",
        "<td>5.0</td>\n",
        "<td>5.0</td>\n",
        "<td>5.0</td>\n",
        "<td>17.0</td>\n",
        "<td>32.0</td>\n",
        "<td>28.5</td></tr></table></div>"
       ],
       "metadata": {},
       "output_type": "display_data",
       "text": [
        "    number_of_trees    model_size_in_bytes    min_depth    max_depth    mean_depth    min_leaves    max_leaves    mean_leaves\n",
        "--  -----------------  ---------------------  -----------  -----------  ------------  ------------  ------------  -------------\n",
        "    50                 33599                  5            5            5             17            32            28.5"
       ]
      },
      {
       "output_type": "stream",
       "stream": "stdout",
       "text": [
        "\n",
        "\n",
        "ModelMetricsBinomial: gbm\n",
        "** Reported on train data. **\n",
        "\n",
        "MSE: 0.122362417083\n",
        "R^2: 0.216321403349\n",
        "LogLoss: 0.394043929865\n",
        "AUC: 0.802670615351\n",
        "Gini: 0.605341230702\n",
        "\n",
        "Confusion Matrix (Act/Pred) for max f1 @ threshold = 0.240610548208:\n",
        "\n"
       ]
      },
      {
       "html": [
        "<div style=\"overflow:auto\"><table style=\"width:50%\"><tr><td></td>\n",
        "<td>0</td>\n",
        "<td>1</td>\n",
        "<td>Error</td>\n",
        "<td>Rate</td></tr>\n",
        "<tr><td>0</td>\n",
        "<td>28720.0</td>\n",
        "<td>5867.0</td>\n",
        "<td>0.1696</td>\n",
        "<td> (5867.0/34587.0)</td></tr>\n",
        "<tr><td>1</td>\n",
        "<td>3348.0</td>\n",
        "<td>4957.0</td>\n",
        "<td>0.4031</td>\n",
        "<td> (3348.0/8305.0)</td></tr>\n",
        "<tr><td>Total</td>\n",
        "<td>32068.0</td>\n",
        "<td>10824.0</td>\n",
        "<td>0.5727</td>\n",
        "<td> (0.5727/42892.0)</td></tr></table></div>"
       ],
       "metadata": {},
       "output_type": "display_data",
       "text": [
        "       0      1      Error    Rate\n",
        "-----  -----  -----  -------  ----------------\n",
        "0      28720  5867   0.1696   (5867.0/34587.0)\n",
        "1      3348   4957   0.4031   (3348.0/8305.0)\n",
        "Total  32068  10824  0.5727   (0.5727/42892.0)"
       ]
      },
      {
       "output_type": "stream",
       "stream": "stdout",
       "text": [
        "\n",
        "Maximum Metrics:\n",
        "\n"
       ]
      },
      {
       "html": [
        "<div style=\"overflow:auto\"><table style=\"width:50%\"><tr><td>metric</td>\n",
        "<td>threshold</td>\n",
        "<td>value</td>\n",
        "<td>idx</td></tr>\n",
        "<tr><td>f1</td>\n",
        "<td>0.240610548208</td>\n",
        "<td>0.518270688483</td>\n",
        "<td>227.0</td></tr>\n",
        "<tr><td>f2</td>\n",
        "<td>0.147177563337</td>\n",
        "<td>0.635801803744</td>\n",
        "<td>296.0</td></tr>\n",
        "<tr><td>f0point5</td>\n",
        "<td>0.380100498788</td>\n",
        "<td>0.546263987486</td>\n",
        "<td>153.0</td></tr>\n",
        "<tr><td>accuracy</td>\n",
        "<td>0.408885812139</td>\n",
        "<td>0.837522148652</td>\n",
        "<td>140.0</td></tr>\n",
        "<tr><td>precision</td>\n",
        "<td>0.923159582815</td>\n",
        "<td>1.0</td>\n",
        "<td>0.0</td></tr>\n",
        "<tr><td>absolute_MCC</td>\n",
        "<td>0.306552403265</td>\n",
        "<td>0.395402698604</td>\n",
        "<td>186.0</td></tr>\n",
        "<tr><td>min_per_class_accuracy</td>\n",
        "<td>0.195449804145</td>\n",
        "<td>0.721252257676</td>\n",
        "<td>259.0</td></tr>\n",
        "<tr><td>tns</td>\n",
        "<td>0.923159582815</td>\n",
        "<td>34587.0</td>\n",
        "<td>0.0</td></tr>\n",
        "<tr><td>fns</td>\n",
        "<td>0.923159582815</td>\n",
        "<td>8304.0</td>\n",
        "<td>0.0</td></tr>\n",
        "<tr><td>fps</td>\n",
        "<td>0.0249514433085</td>\n",
        "<td>34587.0</td>\n",
        "<td>399.0</td></tr>\n",
        "<tr><td>tps</td>\n",
        "<td>0.0396926954388</td>\n",
        "<td>8305.0</td>\n",
        "<td>393.0</td></tr>\n",
        "<tr><td>tnr</td>\n",
        "<td>0.923159582815</td>\n",
        "<td>1.0</td>\n",
        "<td>0.0</td></tr>\n",
        "<tr><td>fnr</td>\n",
        "<td>0.923159582815</td>\n",
        "<td>0.999879590608</td>\n",
        "<td>0.0</td></tr>\n",
        "<tr><td>fpr</td>\n",
        "<td>0.0249514433085</td>\n",
        "<td>1.0</td>\n",
        "<td>399.0</td></tr>\n",
        "<tr><td>tpr</td>\n",
        "<td>0.0396926954388</td>\n",
        "<td>1.0</td>\n",
        "<td>393.0</td></tr></table></div>"
       ],
       "metadata": {},
       "output_type": "display_data",
       "text": [
        "metric                  threshold    value     idx\n",
        "----------------------  -----------  --------  -----\n",
        "f1                      0.240611     0.518271  227\n",
        "f2                      0.147178     0.635802  296\n",
        "f0point5                0.3801       0.546264  153\n",
        "accuracy                0.408886     0.837522  140\n",
        "precision               0.92316      1         0\n",
        "absolute_MCC            0.306552     0.395403  186\n",
        "min_per_class_accuracy  0.19545      0.721252  259\n",
        "tns                     0.92316      34587     0\n",
        "fns                     0.92316      8304      0\n",
        "fps                     0.0249514    34587     399\n",
        "tps                     0.0396927    8305      393\n",
        "tnr                     0.92316      1         0\n",
        "fnr                     0.92316      0.99988   0\n",
        "fpr                     0.0249514    1         399\n",
        "tpr                     0.0396927    1         393"
       ]
      },
      {
       "output_type": "stream",
       "stream": "stdout",
       "text": [
        "\n",
        "Scoring History:\n",
        "\n"
       ]
      },
      {
       "html": [
        "<div style=\"overflow:auto\"><table style=\"width:50%\"><tr><td></td>\n",
        "<td>timestamp</td>\n",
        "<td>duration</td>\n",
        "<td>number_of_trees</td>\n",
        "<td>training_MSE</td>\n",
        "<td>training_logloss</td>\n",
        "<td>training_AUC</td>\n",
        "<td>training_classification_error</td></tr>\n",
        "<tr><td></td>\n",
        "<td>2015-05-22 13:25:37</td>\n",
        "<td> 0.267 sec</td>\n",
        "<td>1.0</td>\n",
        "<td>0.152174603373</td>\n",
        "<td>0.479491286771</td>\n",
        "<td>0.716628705175</td>\n",
        "<td>0.291522894712</td></tr>\n",
        "<tr><td></td>\n",
        "<td>2015-05-22 13:25:37</td>\n",
        "<td> 0.320 sec</td>\n",
        "<td>2.0</td>\n",
        "<td>0.149164747918</td>\n",
        "<td>0.471000824969</td>\n",
        "<td>0.726733551722</td>\n",
        "<td>0.292245640213</td></tr>\n",
        "<tr><td></td>\n",
        "<td>2015-05-22 13:25:37</td>\n",
        "<td> 0.356 sec</td>\n",
        "<td>3.0</td>\n",
        "<td>0.146507491755</td>\n",
        "<td>0.463808207251</td>\n",
        "<td>0.736210101943</td>\n",
        "<td>0.250442973049</td></tr>\n",
        "<tr><td></td>\n",
        "<td>2015-05-22 13:25:37</td>\n",
        "<td> 0.434 sec</td>\n",
        "<td>4.0</td>\n",
        "<td>0.144339914335</td>\n",
        "<td>0.457964290487</td>\n",
        "<td>0.737523437089</td>\n",
        "<td>0.273920544624</td></tr>\n",
        "<tr><td></td>\n",
        "<td>2015-05-22 13:25:37</td>\n",
        "<td> 0.470 sec</td>\n",
        "<td>5.0</td>\n",
        "<td>0.142297787654</td>\n",
        "<td>0.452297478331</td>\n",
        "<td>0.746640903645</td>\n",
        "<td>0.264594796232</td></tr>\n",
        "<tr><td>---</td>\n",
        "<td>---</td>\n",
        "<td>---</td>\n",
        "<td>---</td>\n",
        "<td>---</td>\n",
        "<td>---</td>\n",
        "<td>---</td>\n",
        "<td>---</td></tr>\n",
        "<tr><td></td>\n",
        "<td>2015-05-22 13:25:39</td>\n",
        "<td> 2.472 sec</td>\n",
        "<td>46.0</td>\n",
        "<td>0.123093530889</td>\n",
        "<td>0.39621498272</td>\n",
        "<td>0.799696565687</td>\n",
        "<td>0.212673692064</td></tr>\n",
        "<tr><td></td>\n",
        "<td>2015-05-22 13:25:39</td>\n",
        "<td> 2.520 sec</td>\n",
        "<td>47.0</td>\n",
        "<td>0.122972999554</td>\n",
        "<td>0.395808291024</td>\n",
        "<td>0.800319530327</td>\n",
        "<td>0.215727874662</td></tr>\n",
        "<tr><td></td>\n",
        "<td>2015-05-22 13:25:39</td>\n",
        "<td> 2.572 sec</td>\n",
        "<td>48.0</td>\n",
        "<td>0.122821101905</td>\n",
        "<td>0.395346238174</td>\n",
        "<td>0.800975496408</td>\n",
        "<td>0.212883521403</td></tr>\n",
        "<tr><td></td>\n",
        "<td>2015-05-22 13:25:39</td>\n",
        "<td> 2.624 sec</td>\n",
        "<td>49.0</td>\n",
        "<td>0.122547134382</td>\n",
        "<td>0.394550572459</td>\n",
        "<td>0.802109075619</td>\n",
        "<td>0.211717802854</td></tr>\n",
        "<tr><td></td>\n",
        "<td>2015-05-22 13:25:39</td>\n",
        "<td> 2.671 sec</td>\n",
        "<td>50.0</td>\n",
        "<td>0.122362417083</td>\n",
        "<td>0.394043929865</td>\n",
        "<td>0.802670615351</td>\n",
        "<td>0.214841928565</td></tr></table></div>"
       ],
       "metadata": {},
       "output_type": "display_data",
       "text": [
        "     timestamp            duration    number_of_trees    training_MSE    training_logloss    training_AUC    training_classification_error\n",
        "---  -------------------  ----------  -----------------  --------------  ------------------  --------------  -------------------------------\n",
        "     2015-05-22 13:25:37  0.267 sec   1.0                0.152174603373  0.479491286771      0.716628705175  0.291522894712\n",
        "     2015-05-22 13:25:37  0.320 sec   2.0                0.149164747918  0.471000824969      0.726733551722  0.292245640213\n",
        "     2015-05-22 13:25:37  0.356 sec   3.0                0.146507491755  0.463808207251      0.736210101943  0.250442973049\n",
        "     2015-05-22 13:25:37  0.434 sec   4.0                0.144339914335  0.457964290487      0.737523437089  0.273920544624\n",
        "     2015-05-22 13:25:37  0.470 sec   5.0                0.142297787654  0.452297478331      0.746640903645  0.264594796232\n",
        "---  ---                  ---         ---                ---             ---                 ---             ---\n",
        "     2015-05-22 13:25:39  2.472 sec   46.0               0.123093530889  0.39621498272       0.799696565687  0.212673692064\n",
        "     2015-05-22 13:25:39  2.520 sec   47.0               0.122972999554  0.395808291024      0.800319530327  0.215727874662\n",
        "     2015-05-22 13:25:39  2.572 sec   48.0               0.122821101905  0.395346238174      0.800975496408  0.212883521403\n",
        "     2015-05-22 13:25:39  2.624 sec   49.0               0.122547134382  0.394550572459      0.802109075619  0.211717802854\n",
        "     2015-05-22 13:25:39  2.671 sec   50.0               0.122362417083  0.394043929865      0.802670615351  0.214841928565"
       ]
      },
      {
       "output_type": "stream",
       "stream": "stdout",
       "text": [
        "\n",
        "Variable Importances:\n",
        "\n"
       ]
      },
      {
       "html": [
        "<div style=\"overflow:auto\"><table style=\"width:50%\"><tr><td>variable</td>\n",
        "<td>relative_importance</td>\n",
        "<td>scaled_importance</td>\n",
        "<td>percentage</td></tr>\n",
        "<tr><td>Origin</td>\n",
        "<td>2595.0559082</td>\n",
        "<td>1.0</td>\n",
        "<td>0.313096554861</td></tr>\n",
        "<tr><td>Dest</td>\n",
        "<td>2046.15063477</td>\n",
        "<td>0.788480366954</td>\n",
        "<td>0.246870486469</td></tr>\n",
        "<tr><td>DayofMonth</td>\n",
        "<td>1619.80151367</td>\n",
        "<td>0.624187520797</td>\n",
        "<td>0.195430962349</td></tr>\n",
        "<tr><td>CRSDepTime</td>\n",
        "<td>840.42364502</td>\n",
        "<td>0.323855698971</td>\n",
        "<td>0.10139810362</td></tr>\n",
        "<tr><td>CRSArrTime</td>\n",
        "<td>573.659606934</td>\n",
        "<td>0.221058669727</td>\n",
        "<td>0.0692127079135</td></tr>\n",
        "<tr><td>UniqueCarrier</td>\n",
        "<td>259.301513672</td>\n",
        "<td>0.0999213592479</td>\n",
        "<td>0.0312850333375</td></tr>\n",
        "<tr><td>DayOfWeek</td>\n",
        "<td>238.713516235</td>\n",
        "<td>0.0919878124709</td>\n",
        "<td>0.0288010671738</td></tr>\n",
        "<tr><td>CRSElapsedTime</td>\n",
        "<td>49.7895240784</td>\n",
        "<td>0.0191863011201</td>\n",
        "<td>0.00600716478123</td></tr>\n",
        "<tr><td>Distance</td>\n",
        "<td>32.7535209656</td>\n",
        "<td>0.0126215087937</td>\n",
        "<td>0.00395175092046</td></tr>\n",
        "<tr><td>Month</td>\n",
        "<td>32.7072525024</td>\n",
        "<td>0.0126036793269</td>\n",
        "<td>0.00394616857583</td></tr></table></div>"
       ],
       "metadata": {},
       "output_type": "display_data",
       "text": [
        "variable        relative_importance    scaled_importance    percentage\n",
        "--------------  ---------------------  -------------------  ------------\n",
        "Origin          2595.06                1                    0.313097\n",
        "Dest            2046.15                0.78848              0.24687\n",
        "DayofMonth      1619.8                 0.624188             0.195431\n",
        "CRSDepTime      840.424                0.323856             0.101398\n",
        "CRSArrTime      573.66                 0.221059             0.0692127\n",
        "UniqueCarrier   259.302                0.0999214            0.031285\n",
        "DayOfWeek       238.714                0.0919878            0.0288011\n",
        "CRSElapsedTime  49.7895                0.0191863            0.00600716\n",
        "Distance        32.7535                0.0126215            0.00395175\n",
        "Month           32.7073                0.0126037            0.00394617"
       ]
      }
     ],
     "prompt_number": 7
    }
   ],
   "metadata": {}
  }
 ]
}