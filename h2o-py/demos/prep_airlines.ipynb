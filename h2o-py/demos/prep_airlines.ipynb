{
<<<<<<< HEAD
 "metadata": {
  "kernelspec": {
   "display_name": "Python 2",
   "language": "python",
   "name": "python2"
=======
 "cells": [
  {
   "cell_type": "code",
   "execution_count": 1,
   "metadata": {
    "collapsed": false
   },
   "outputs": [],
   "source": [
    "#----------------------------------------------------------------------\n",
    "# Purpose:  Condition an Airline dataset by filtering out NAs where the\n",
    "#           departure delay in the input dataset is unknown.\n",
    "#\n",
    "#           Then treat anything longer than minutesOfDelayWeTolerate\n",
    "#           as delayed.\n",
    "#----------------------------------------------------------------------"
   ]
  },
  {
   "cell_type": "code",
   "execution_count": 2,
   "metadata": {
    "collapsed": false
   },
   "outputs": [],
   "source": [
    "import h2o"
   ]
  },
  {
   "cell_type": "code",
   "execution_count": 3,
   "metadata": {
    "collapsed": false
   },
   "outputs": [
    {
     "data": {
      "text/html": [
       "<div style=\"overflow:auto\"><table style=\"width:50%\"><tr><td>H2O cluster uptime: </td>\n",
       "<td>8 seconds 719 milliseconds </td></tr>\n",
       "<tr><td>H2O cluster version: </td>\n",
       "<td>3.1.0.99999</td></tr>\n",
       "<tr><td>H2O cluster name: </td>\n",
       "<td>spencer</td></tr>\n",
       "<tr><td>H2O cluster total nodes: </td>\n",
       "<td>1</td></tr>\n",
       "<tr><td>H2O cluster total memory: </td>\n",
       "<td>14.22 GB</td></tr>\n",
       "<tr><td>H2O cluster total cores: </td>\n",
       "<td>8</td></tr>\n",
       "<tr><td>H2O cluster allowed cores: </td>\n",
       "<td>8</td></tr>\n",
       "<tr><td>H2O cluster healthy: </td>\n",
       "<td>True</td></tr>\n",
       "<tr><td>H2O Connection ip: </td>\n",
       "<td>127.0.0.1</td></tr>\n",
       "<tr><td>H2O Connection port: </td>\n",
       "<td>54321</td></tr></table></div>"
      ],
      "text/plain": [
       "--------------------------  --------------------------\n",
       "H2O cluster uptime:         8 seconds 719 milliseconds\n",
       "H2O cluster version:        3.1.0.99999\n",
       "H2O cluster name:           spencer\n",
       "H2O cluster total nodes:    1\n",
       "H2O cluster total memory:   14.22 GB\n",
       "H2O cluster total cores:    8\n",
       "H2O cluster allowed cores:  8\n",
       "H2O cluster healthy:        True\n",
       "H2O Connection ip:          127.0.0.1\n",
       "H2O Connection port:        54321\n",
       "--------------------------  --------------------------"
      ]
     },
     "metadata": {},
     "output_type": "display_data"
    }
   ],
   "source": [
    "h2o.init()"
   ]
  },
  {
   "cell_type": "code",
   "execution_count": 4,
   "metadata": {
    "collapsed": false
   },
   "outputs": [
    {
     "name": "stdout",
     "output_type": "stream",
     "text": [
      "\n",
      "Parse Progress: [##################################################] 100%\n",
      "Imported /Users/spencer/0xdata/h2o-dev/smalldata/airlines/allyears2k_headers.zip. Parsed 43,978 rows and 31 cols\n"
     ]
    }
   ],
   "source": [
    "air = h2o.import_file(h2o.locate(\"smalldata/airlines/allyears2k_headers.zip\"))"
   ]
>>>>>>> master
  },
  "language_info": {
   "codemirror_mode": {
    "name": "ipython",
    "version": 2
   },
<<<<<<< HEAD
   "file_extension": ".py",
   "mimetype": "text/x-python",
   "name": "python",
   "nbconvert_exporter": "python",
   "pygments_lexer": "ipython2",
   "version": "2.7.9"
=======
   "outputs": [
    {
     "name": "stdout",
     "output_type": "stream",
     "text": [
      "Original dataset rows: 43978, columns: 31\n",
      "New dataset rows: 42892, columns: 31\n"
     ]
    }
   ],
   "source": [
    "numRows, numCols = air.dim\n",
    "print \"Original dataset rows: {0}, columns: {1}\".format(numRows, numCols)\n",
    "\n",
    "x_cols = [\"Month\", \"DayofMonth\", \"DayOfWeek\", \"CRSDepTime\", \"CRSArrTime\", \"UniqueCarrier\", \"CRSElapsedTime\", \"Origin\", \"Dest\", \"Distance\"]\n",
    "y_col = \"SynthDepDelayed\"\n",
    "\n",
    "noDepDelayedNAs = air[air[\"DepDelay\"].isna() == 0]\n",
    "rows, cols = noDepDelayedNAs.dim\n",
    "print \"New dataset rows: {0}, columns: {1}\".format(rows, cols)"
   ]
>>>>>>> master
  },
  "name": "",
  "signature": "sha256:f873798f919cf736fde32ea7797dde02cbbeb6192f6f1e4c05f2b04f09b0a332"
 },
 "nbformat": 3,
 "nbformat_minor": 0,
 "worksheets": [
  {
   "cells": [
    {
     "cell_type": "code",
     "collapsed": false,
     "input": [
      "#----------------------------------------------------------------------\n",
      "# Purpose:  Condition an Airline dataset by filtering out NAs where the\n",
      "#           departure delay in the input dataset is unknown.\n",
      "#\n",
      "#           Then treat anything longer than minutesOfDelayWeTolerate\n",
      "#           as delayed.\n",
      "#----------------------------------------------------------------------"
     ],
     "language": "python",
     "metadata": {},
     "outputs": [],
     "prompt_number": 1
    },
    {
     "cell_type": "code",
     "collapsed": false,
     "input": [
      "import h2o"
     ],
     "language": "python",
     "metadata": {},
     "outputs": [],
     "prompt_number": 2
    },
    {
     "cell_type": "code",
     "collapsed": false,
     "input": [
      "h2o.init()"
     ],
     "language": "python",
     "metadata": {},
     "outputs": [
      {
       "html": [
        "<div style=\"overflow:auto\"><table style=\"width:50%\"><tr><td>H2O cluster uptime: </td>\n",
        "<td>22 minutes 55 seconds 960 milliseconds </td></tr>\n",
        "<tr><td>H2O cluster version: </td>\n",
        "<td>3.1.0.99999</td></tr>\n",
        "<tr><td>H2O cluster name: </td>\n",
        "<td>ece</td></tr>\n",
        "<tr><td>H2O cluster total nodes: </td>\n",
        "<td>1</td></tr>\n",
        "<tr><td>H2O cluster total memory: </td>\n",
        "<td>3.56 GB</td></tr>\n",
        "<tr><td>H2O cluster total cores: </td>\n",
        "<td>8</td></tr>\n",
        "<tr><td>H2O cluster allowed cores: </td>\n",
        "<td>8</td></tr>\n",
        "<tr><td>H2O cluster healthy: </td>\n",
        "<td>True</td></tr>\n",
        "<tr><td>H2O Connection ip: </td>\n",
        "<td>127.0.0.1</td></tr>\n",
        "<tr><td>H2O Connection port: </td>\n",
        "<td>54321</td></tr></table></div>"
       ],
       "metadata": {},
       "output_type": "display_data",
       "text": [
        "--------------------------  --------------------------------------\n",
        "H2O cluster uptime:         22 minutes 55 seconds 960 milliseconds\n",
        "H2O cluster version:        3.1.0.99999\n",
        "H2O cluster name:           ece\n",
        "H2O cluster total nodes:    1\n",
        "H2O cluster total memory:   3.56 GB\n",
        "H2O cluster total cores:    8\n",
        "H2O cluster allowed cores:  8\n",
        "H2O cluster healthy:        True\n",
        "H2O Connection ip:          127.0.0.1\n",
        "H2O Connection port:        54321\n",
        "--------------------------  --------------------------------------"
       ]
      }
     ],
     "prompt_number": 3
    },
    {
     "cell_type": "code",
     "collapsed": false,
     "input": [
      "air = h2o.import_file(h2o.locate(\"smalldata/airlines/allyears2k_headers.zip\"))"
     ],
     "language": "python",
     "metadata": {},
     "outputs": [
      {
       "output_type": "stream",
       "stream": "stdout",
       "text": [
        "\n",
        "\r",
        "Parse Progress: [                                                  ] 00%"
       ]
      },
      {
       "output_type": "stream",
       "stream": "stdout",
       "text": [
        "\r",
        "Parse Progress: [##################################################] 100%"
       ]
      },
      {
       "output_type": "stream",
       "stream": "stdout",
       "text": [
        "\n",
        "Imported /Users/ece/0xdata/h2o-dev/smalldata/airlines/allyears2k_headers.zip. Parsed 43,978 rows and 31 cols\n"
       ]
      }
     ],
     "prompt_number": 4
    },
    {
     "cell_type": "code",
     "collapsed": false,
     "input": [
      "numRows, numCols = air.dim\n",
      "print \"Original dataset rows: {0}, columns: {1}\".format(numRows, numCols)\n",
      "\n",
      "x_cols = [\"Month\", \"DayofMonth\", \"DayOfWeek\", \"CRSDepTime\", \"CRSArrTime\", \"UniqueCarrier\", \"CRSElapsedTime\", \"Origin\", \"Dest\", \"Distance\"]\n",
      "y_col = \"SynthDepDelayed\"\n",
      "\n",
      "noDepDelayedNAs = air[air[\"DepDelay\"].isna() == 0]\n",
      "rows, cols = noDepDelayedNAs.dim\n",
      "print \"New dataset rows: {0}, columns: {1}\".format(rows, cols)"
     ],
     "language": "python",
     "metadata": {},
     "outputs": [
      {
       "output_type": "stream",
       "stream": "stdout",
       "text": [
        "Original dataset rows: 43978, columns: 31\n",
        "New dataset rows: 42892, columns: 31"
       ]
      },
      {
       "output_type": "stream",
       "stream": "stdout",
       "text": [
        "\n"
       ]
      }
     ],
     "prompt_number": 5
    },
    {
     "cell_type": "code",
     "collapsed": false,
     "input": [
      "minutesOfDelayWeTolerate = 15\n",
      "noDepDelayedNAs.cbind(noDepDelayedNAs[\"DepDelay\"] > minutesOfDelayWeTolerate)\n",
      "noDepDelayedNAs[numCols] = noDepDelayedNAs[numCols-1].asfactor()\n",
      "noDepDelayedNAs.set_name(numCols,y_col)"
     ],
     "language": "python",
     "metadata": {},
     "outputs": [
      {
       "output_type": "stream",
       "stream": "stdout",
       "text": [
        "H2OFrame with 42892 rows and 32 columns: \n",
        "   Year  Month  DayofMonth  DayOfWeek  DepTime  CRSDepTime  ArrTime  \\\n",
        "1  1987     10          15          4      729         730      903   \n",
        "2  1987     10          17          6      741         730      918   \n",
        "3  1987     10          18          7      729         730      847   \n",
        "4  1987     10          19          1      749         730      922   \n",
        "5  1987     10          21          3      728         730      848   \n",
        "6  1987     10          22          4      728         730      852   \n",
        "7  1987     10          23          5      731         730      902   \n",
        "8  1987     10          24          6      744         730      908   \n",
        "9  1987     10          25          7      729         730      851   \n",
        "\n",
        "   CRSArrTime UniqueCarrier  FlightNum       ...         CancellationCode  \\\n",
        "1         849            PS       1451       ...                      NaN   \n",
        "2         849            PS       1451       ...                      NaN   \n",
        "3         849            PS       1451       ...                      NaN   \n",
        "4         849            PS       1451       ...                      NaN   \n",
        "5         849            PS       1451       ...                      NaN   \n",
        "6         849            PS       1451       ...                      NaN   \n",
        "7         849            PS       1451       ...                      NaN   \n",
        "8         849            PS       1451       ...                      NaN   \n",
        "9         849            PS       1451       ...                      NaN   \n",
        "\n",
        "   Diverted  CarrierDelay  WeatherDelay  NASDelay  SecurityDelay  \\\n",
        "1         0           NaN           NaN       NaN            NaN   \n",
        "2         0           NaN           NaN       NaN            NaN   \n",
        "3         0           NaN           NaN       NaN            NaN   \n",
        "4         0           NaN           NaN       NaN            NaN   \n",
        "5         0           NaN           NaN       NaN            NaN   \n",
        "6         0           NaN           NaN       NaN            NaN   \n",
        "7         0           NaN           NaN       NaN            NaN   \n",
        "8         0           NaN           NaN       NaN            NaN   \n",
        "9         0           NaN           NaN       NaN            NaN   \n",
        "\n",
        "  LateAircraftDelay IsArrDelayed  IsDepDelayed  SynthDepDelayed  \n",
        "1               NaN          YES            NO               NO  \n",
        "2               NaN          YES           YES              YES  \n",
        "3               NaN           NO            NO               NO  \n",
        "4               NaN          YES           YES              YES  \n",
        "5               NaN           NO            NO               NO  \n",
        "6               NaN          YES            NO               NO  \n",
        "7               NaN          YES           YES              YES  \n",
        "8               NaN          YES           YES              YES  \n",
        "9               NaN          YES            NO               NO  \n",
        "\n",
        "[9 rows x 32 columns]\n"
       ]
      },
      {
       "metadata": {},
       "output_type": "pyout",
       "prompt_number": 6,
       "text": []
      }
     ],
     "prompt_number": 6
    },
    {
     "cell_type": "code",
     "collapsed": false,
     "input": [
      "gbm = h2o.gbm(x=noDepDelayedNAs[x_cols], y=noDepDelayedNAs[y_col], distribution=\"bernoulli\")\n",
      "gbm.show()"
     ],
     "language": "python",
     "metadata": {},
     "outputs": [
      {
       "output_type": "stream",
       "stream": "stdout",
       "text": [
        "\n",
        "\r",
        "gbm Model Build Progress: [                                                  ] 00%"
       ]
      },
      {
       "output_type": "stream",
       "stream": "stdout",
       "text": [
        "\r",
        "gbm Model Build Progress: [###                                               ] 06%"
       ]
      },
      {
       "output_type": "stream",
       "stream": "stdout",
       "text": [
        "\r",
        "gbm Model Build Progress: [#########                                         ] 18%"
       ]
      },
      {
       "output_type": "stream",
       "stream": "stdout",
       "text": [
        "\r",
        "gbm Model Build Progress: [#################                                 ] 34%"
       ]
      },
      {
       "output_type": "stream",
       "stream": "stdout",
       "text": [
        "\r",
        "gbm Model Build Progress: [##########################                        ] 52%"
       ]
      },
      {
       "output_type": "stream",
       "stream": "stdout",
       "text": [
        "\r",
        "gbm Model Build Progress: [#####################################             ] 74%"
       ]
      },
      {
       "output_type": "stream",
       "stream": "stdout",
       "text": [
        "\r",
        "gbm Model Build Progress: [################################################# ] 98%"
       ]
      },
      {
       "output_type": "stream",
       "stream": "stdout",
       "text": [
        "\r",
        "gbm Model Build Progress: [##################################################] 100%"
       ]
      },
      {
       "output_type": "stream",
       "stream": "stdout",
       "text": [
        "\n",
        "Model Details\n",
        "=============\n",
        "H2OBinomialModel :  Gradient Boosting Machine\n",
        "Model Key:  GBM_model_python_1441149066080_24\n",
        "     number_of_trees  model_size_in_bytes  min_depth  max_depth  mean_depth  \\\n",
        "0                 50                34069          5          5           5   \n",
        "\n",
        "   min_leaves  max_leaves  mean_leaves  \n",
        "0          17          32        28.48  \n",
        "\n",
        "\n",
        "ModelMetricsBinomial: gbm\n",
        "** Reported on train data. **\n",
        "\n",
        "MSE: 0.191492548248\n",
        "R^2: 0.233509046495\n",
        "LogLoss: 0.565323113971\n",
        "AUC: 0.786048238035\n",
        "Gini: 0.572096476069\n",
        "             NO    YES   Error                Rate\n",
        "0     NO  11844   9043  0.4329    (9043.0/20887.0)\n",
        "1    YES   3770  18235  0.1713    (3770.0/22005.0)\n",
        "2  Total  15614  27278  0.2987   (12813.0/42892.0)\n",
        "                       metric  threshold     value  idx\n",
        "0                      max f1   0.427399  0.740012  248\n",
        "1                      max f2   0.239319  0.848514  348\n",
        "2                max f0point5   0.558319  0.727199  177\n",
        "3                max accuracy   0.512736  0.712580  201\n",
        "4               max precision   0.953815  1.000000    0\n",
        "5            max absolute_MCC   0.512736  0.425353  201\n",
        "6  max min_per_class_accuracy   0.509792  0.711611  203\n",
        "                 timestamp    duration  number_of_trees  training_MSE  \\\n",
        "0      2015-09-01 16:34:03   0.039 sec                1      0.244363   \n",
        "1      2015-09-01 16:34:03   0.068 sec                2      0.239917   \n",
        "2      2015-09-01 16:34:03   0.092 sec                3      0.235501   \n",
        "3      2015-09-01 16:34:03   0.122 sec                4      0.231805   \n",
        "4      2015-09-01 16:34:03   0.152 sec                5      0.228801   \n",
        "5      2015-09-01 16:34:03   0.185 sec                6      0.225983   \n",
        "6      2015-09-01 16:34:03   0.217 sec                7      0.223199   \n",
        "7      2015-09-01 16:34:03   0.259 sec                8      0.220967   \n",
        "8      2015-09-01 16:34:03   0.292 sec                9      0.219217   \n",
        "9      2015-09-01 16:34:03   0.334 sec               10      0.217478   \n",
        ".. ..                  ...         ...              ...           ...   \n",
        "40     2015-09-01 16:34:05   1.726 sec               41      0.194356   \n",
        "41     2015-09-01 16:34:05   1.775 sec               42      0.193955   \n",
        "42     2015-09-01 16:34:05   1.828 sec               43      0.193569   \n",
        "43     2015-09-01 16:34:05   1.874 sec               44      0.193336   \n",
        "44     2015-09-01 16:34:05   1.919 sec               45      0.193086   \n",
        "45     2015-09-01 16:34:05   1.963 sec               46      0.192503   \n",
        "46     2015-09-01 16:34:05   2.011 sec               47      0.192248   \n",
        "47     2015-09-01 16:34:05   2.061 sec               48      0.191944   \n",
        "48     2015-09-01 16:34:05   2.111 sec               49      0.191734   \n",
        "49     2015-09-01 16:34:05   2.161 sec               50      0.191493   \n",
        "\n",
        "    training_logloss  training_AUC  training_classification_error  \n",
        "0           0.681856      0.692503                       0.413434  \n",
        "1           0.672916      0.700447                       0.410846  \n",
        "2           0.663968      0.712158                       0.391052  \n",
        "3           0.656396      0.717626                       0.387158  \n",
        "4           0.650232      0.725321                       0.377040  \n",
        "5           0.644334      0.727336                       0.380700  \n",
        "6           0.638456      0.731203                       0.360813  \n",
        "7           0.633646      0.732408                       0.368624  \n",
        "8           0.629926      0.735560                       0.357223  \n",
        "9           0.626118      0.736715                       0.358878  \n",
        "..               ...           ...                            ...  \n",
        "40          0.572245      0.779627                       0.305325  \n",
        "41          0.571265      0.780571                       0.305651  \n",
        "42          0.570342      0.781442                       0.304369  \n",
        "43          0.569773      0.781913                       0.302737  \n",
        "44          0.569172      0.782373                       0.304952  \n",
        "45          0.567797      0.783837                       0.304719  \n",
        "46          0.567168      0.784414                       0.304742  \n",
        "47          0.566439      0.785127                       0.300266  \n",
        "48          0.565919      0.785513                       0.300079  \n",
        "49          0.565323      0.786048                       0.298727  \n",
        "\n",
        "[50 rows x 8 columns]\n",
        "         variable  relative_importance  scaled_importance  percentage\n",
        "0          Origin          6844.184570           1.000000    0.410407\n",
        "1            Dest          4512.987305           0.659390    0.270618\n",
        "2      DayofMonth          2035.742554           0.297441    0.122072\n",
        "3   UniqueCarrier          1270.370361           0.185613    0.076177\n",
        "4      CRSArrTime           713.215393           0.104208    0.042767\n",
        "5      CRSDepTime           667.397400           0.097513    0.040020\n",
        "6       DayOfWeek           394.564667           0.057650    0.023660\n",
        "7  CRSElapsedTime           128.990921           0.018847    0.007735\n",
        "8           Month            75.135887           0.010978    0.004505\n",
        "9        Distance            33.992172           0.004967    0.002038"
       ]
      },
      {
       "output_type": "stream",
       "stream": "stdout",
       "text": [
        "\n"
       ]
      }
     ],
     "prompt_number": 7
    }
   ],
   "metadata": {}
  }
 ]
}
