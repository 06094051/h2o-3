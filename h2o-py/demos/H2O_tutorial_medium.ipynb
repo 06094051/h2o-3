{
 "cells": [
  {
   "cell_type": "markdown",
   "metadata": {},
   "source": [
    "# H2O Tutorial\n",
    "\n",
    "Author: Spencer Aiello\n",
    "\n",
    "Contact: spencer@h2oai.com\n",
    "\n",
    "This tutorial steps through a quick introduction to H2O's Python API. The goal of this tutorial is to introduce through a complete example H2O's capabilities from Python. Also, to help those that are accustomed to Scikit Learn and Pandas, the demo will be specific call outs for differences between H2O and those packages; this is intended to help anyone that needs to do machine learning on really Big Data make the transition. It is not meant to be a tutorial on machine learning or algorithms.\n",
    "\n",
    "Detailed documentation about H2O's and the Python API is available at http://docs.h2o.ai."
   ]
  },
  {
   "cell_type": "markdown",
   "metadata": {},
   "source": [
    "## Setting up your system for this demo"
   ]
  },
  {
   "cell_type": "markdown",
   "metadata": {},
   "source": [
    "The following code creates two csv files using data from the [Boston Housing dataset](https://archive.ics.uci.edu/ml/datasets/Housing) which is built into scikit-learn and adds them to the local directory"
   ]
  },
  {
   "cell_type": "code",
   "execution_count": 1,
   "metadata": {
    "collapsed": false
   },
   "outputs": [
    {
     "name": "stdout",
     "output_type": "stream",
     "text": [
      "Warning: Version mismatch. H2O is version 3.5.0.99999, but the python package is version UNKNOWN.\n"
     ]
    },
    {
     "data": {
      "text/html": [
       "<div style=\"overflow:auto\"><table style=\"width:50%\"><tr><td>H2O cluster uptime: </td>\n",
       "<td>14 minutes 39 seconds 914 milliseconds </td></tr>\n",
       "<tr><td>H2O cluster version: </td>\n",
       "<td>3.5.0.99999</td></tr>\n",
       "<tr><td>H2O cluster name: </td>\n",
       "<td>ludirehak</td></tr>\n",
       "<tr><td>H2O cluster total nodes: </td>\n",
       "<td>1</td></tr>\n",
       "<tr><td>H2O cluster total memory: </td>\n",
       "<td>3.56 GB</td></tr>\n",
       "<tr><td>H2O cluster total cores: </td>\n",
       "<td>8</td></tr>\n",
       "<tr><td>H2O cluster allowed cores: </td>\n",
       "<td>8</td></tr>\n",
       "<tr><td>H2O cluster healthy: </td>\n",
       "<td>True</td></tr>\n",
       "<tr><td>H2O Connection ip: </td>\n",
       "<td>127.0.0.1</td></tr>\n",
       "<tr><td>H2O Connection port: </td>\n",
       "<td>54321</td></tr></table></div>"
      ],
      "text/plain": [
       "--------------------------  --------------------------------------\n",
       "H2O cluster uptime:         14 minutes 39 seconds 914 milliseconds\n",
       "H2O cluster version:        3.5.0.99999\n",
       "H2O cluster name:           ludirehak\n",
       "H2O cluster total nodes:    1\n",
       "H2O cluster total memory:   3.56 GB\n",
       "H2O cluster total cores:    8\n",
       "H2O cluster allowed cores:  8\n",
       "H2O cluster healthy:        True\n",
       "H2O Connection ip:          127.0.0.1\n",
       "H2O Connection port:        54321\n",
       "--------------------------  --------------------------------------"
      ]
     },
     "metadata": {},
     "output_type": "display_data"
    }
   ],
   "source": [
    "import pandas as pd\n",
    "import numpy\n",
    "from numpy.random import choice\n",
    "from sklearn.datasets import load_boston\n",
    "from h2o.estimators.random_forest import H2ORandomForestEstimator\n",
    "\n",
    "\n",
    "import h2o\n",
    "h2o.init()"
   ]
  },
  {
   "cell_type": "code",
   "execution_count": 2,
   "metadata": {
    "collapsed": false
   },
   "outputs": [
    {
     "name": "stdout",
     "output_type": "stream",
     "text": [
      "\n",
      "Parse Progress: [##################################################] 100%\n",
      "Uploaded pyb34ffe50-362a-4887-9ce7-3f672e6d1249 into cluster with 506 rows and 14 cols\n"
     ]
    }
   ],
   "source": [
    "# transfer the boston data from pandas to H2O\n",
    "boston_data = load_boston()\n",
    "X = pd.DataFrame(data=boston_data.data, columns=boston_data.feature_names)\n",
    "X[\"Median_value\"] = boston_data.target\n",
    "X = h2o.H2OFrame(python_obj=X.to_dict(\"list\"))"
   ]
  },
  {
   "cell_type": "code",
   "execution_count": 3,
   "metadata": {
    "collapsed": false
   },
   "outputs": [
    {
     "name": "stdout",
     "output_type": "stream",
     "text": [
      "\n",
      "Export File Progress: [##################################################] 100%\n",
      "\n",
      "Export File Progress: [##################################################] 100%\n"
     ]
    }
   ],
   "source": [
    "# select 10% for valdation\n",
    "r = X.runif(seed=123456789)\n",
    "train = X[r < 0.9,:]\n",
    "valid = X[r >= 0.9,:]\n",
    "\n",
    "h2o.export_file(train, \"Boston_housing_train.csv\", force=True)\n",
    "h2o.export_file(valid, \"Boston_housing_test.csv\", force=True)"
   ]
  },
  {
   "cell_type": "markdown",
   "metadata": {},
   "source": [
    "Enable inline plotting in the Jupyter Notebook"
   ]
  },
  {
   "cell_type": "code",
   "execution_count": 4,
   "metadata": {
    "collapsed": true
   },
   "outputs": [],
   "source": [
    "%matplotlib inline\n",
    "import matplotlib.pyplot as plt"
   ]
  },
  {
   "cell_type": "markdown",
   "metadata": {},
   "source": [
    "## Intro to H2O Data Munging"
   ]
  },
  {
   "cell_type": "markdown",
   "metadata": {},
   "source": [
    "Read csv data into H2O. This loads the data into the H2O column compressed, in-memory, key-value store."
   ]
  },
  {
   "cell_type": "code",
   "execution_count": 5,
   "metadata": {
    "collapsed": false
   },
   "outputs": [
    {
     "name": "stdout",
     "output_type": "stream",
     "text": [
      "\n",
      "Parse Progress: [##################################################] 100%\n",
      "Imported Boston_housing_train.csv. Parsed 462 rows and 14 cols\n"
     ]
    }
   ],
   "source": [
    "fr = h2o.import_file(\"Boston_housing_train.csv\")"
   ]
  },
  {
   "cell_type": "markdown",
   "metadata": {},
   "source": [
    "View the top of the H2O frame."
   ]
  },
  {
   "cell_type": "code",
   "execution_count": 6,
   "metadata": {
    "collapsed": false
   },
   "outputs": [
    {
     "name": "stdout",
     "output_type": "stream",
     "text": [
      "H2OFrame with 462 rows and 14 columns: \n"
     ]
    },
    {
     "data": {
      "text/html": [
       "<div style=\"overflow:auto\"><table style=\"width:50%\"><tr><td><b>CRIM</b></td>\n",
       "<td><b>0.00632</b></td>\n",
       "<td><b>0.0</b></td>\n",
       "<td><b>0.03237</b></td>\n",
       "<td><b>0.06905</b></td>\n",
       "<td><b>0.02985</b></td>\n",
       "<td><b>0.1</b></td>\n",
       "<td><b>0.14455</b></td>\n",
       "<td><b>0.21124</b></td>\n",
       "<td><b>0.2</b></td>\n",
       "<td><b>0.22489</b></td></tr>\n",
       "<tr><td>ZN</td>\n",
       "<td>18.0</td>\n",
       "<td>0.0</td>\n",
       "<td>0.0</td>\n",
       "<td>0.0</td>\n",
       "<td>0.0</td>\n",
       "<td>12.5</td>\n",
       "<td>12.5</td>\n",
       "<td>12.5</td>\n",
       "<td>12.5</td>\n",
       "<td>12.5</td></tr>\n",
       "<tr><td>B</td>\n",
       "<td>396.9</td>\n",
       "<td>392.83</td>\n",
       "<td>394.63</td>\n",
       "<td>396.9</td>\n",
       "<td>394.12</td>\n",
       "<td>395.6</td>\n",
       "<td>396.9</td>\n",
       "<td>386.63</td>\n",
       "<td>386.7</td>\n",
       "<td>392.52</td></tr>\n",
       "<tr><td>LSTAT</td>\n",
       "<td>5.0</td>\n",
       "<td>4.03</td>\n",
       "<td>2.94</td>\n",
       "<td>5.33</td>\n",
       "<td>5.21</td>\n",
       "<td>12.43</td>\n",
       "<td>19.2</td>\n",
       "<td>29.93</td>\n",
       "<td>17.1</td>\n",
       "<td>20.5</td></tr>\n",
       "<tr><td>Median_value</td>\n",
       "<td>24.0</td>\n",
       "<td>34.7</td>\n",
       "<td>33.4</td>\n",
       "<td>36.2</td>\n",
       "<td>28.7</td>\n",
       "<td>22.9</td>\n",
       "<td>27.1</td>\n",
       "<td>16.5</td>\n",
       "<td>18.9</td>\n",
       "<td>15.0</td></tr>\n",
       "<tr><td>AGE</td>\n",
       "<td>65.2</td>\n",
       "<td>61.1</td>\n",
       "<td>45.8</td>\n",
       "<td>54.2</td>\n",
       "<td>58.7</td>\n",
       "<td>66.6</td>\n",
       "<td>96.1</td>\n",
       "<td>100.0</td>\n",
       "<td>85.9</td>\n",
       "<td>94.3</td></tr>\n",
       "<tr><td>TAX</td>\n",
       "<td>296</td>\n",
       "<td>242</td>\n",
       "<td>222</td>\n",
       "<td>222</td>\n",
       "<td>222</td>\n",
       "<td>311</td>\n",
       "<td>311</td>\n",
       "<td>311</td>\n",
       "<td>311</td>\n",
       "<td>311</td></tr>\n",
       "<tr><td>RAD</td>\n",
       "<td>1</td>\n",
       "<td>2</td>\n",
       "<td>3</td>\n",
       "<td>3</td>\n",
       "<td>3</td>\n",
       "<td>5</td>\n",
       "<td>5</td>\n",
       "<td>5</td>\n",
       "<td>5</td>\n",
       "<td>5</td></tr>\n",
       "<tr><td>CHAS</td>\n",
       "<td>0</td>\n",
       "<td>0</td>\n",
       "<td>0</td>\n",
       "<td>0</td>\n",
       "<td>0</td>\n",
       "<td>0</td>\n",
       "<td>0</td>\n",
       "<td>0</td>\n",
       "<td>0</td>\n",
       "<td>0</td></tr>\n",
       "<tr><td>NOX</td>\n",
       "<td>0.538</td>\n",
       "<td>0.5</td>\n",
       "<td>0.458</td>\n",
       "<td>0.458</td>\n",
       "<td>0.458</td>\n",
       "<td>0.524</td>\n",
       "<td>0.524</td>\n",
       "<td>0.524</td>\n",
       "<td>0.524</td>\n",
       "<td>0.524</td></tr>\n",
       "<tr><td>RM</td>\n",
       "<td>6.575</td>\n",
       "<td>7.2</td>\n",
       "<td>6.998</td>\n",
       "<td>7.147</td>\n",
       "<td>6.43</td>\n",
       "<td>6.0</td>\n",
       "<td>6.172</td>\n",
       "<td>5.631</td>\n",
       "<td>6.0</td>\n",
       "<td>6.377</td></tr>\n",
       "<tr><td>INDUS</td>\n",
       "<td>2.31</td>\n",
       "<td>7.07</td>\n",
       "<td>2.18</td>\n",
       "<td>2.18</td>\n",
       "<td>2.18</td>\n",
       "<td>7.87</td>\n",
       "<td>7.87</td>\n",
       "<td>7.87</td>\n",
       "<td>7.87</td>\n",
       "<td>7.87</td></tr>\n",
       "<tr><td>PTRATIO</td>\n",
       "<td>15.3</td>\n",
       "<td>17.8</td>\n",
       "<td>18.7</td>\n",
       "<td>18.7</td>\n",
       "<td>18.7</td>\n",
       "<td>15.2</td>\n",
       "<td>15.2</td>\n",
       "<td>15.2</td>\n",
       "<td>15.2</td>\n",
       "<td>15.2</td></tr>\n",
       "<tr><td>DIS</td>\n",
       "<td>4.09</td>\n",
       "<td>4.9671</td>\n",
       "<td>6.1</td>\n",
       "<td>6.1</td>\n",
       "<td>6.1</td>\n",
       "<td>5.5605</td>\n",
       "<td>5.9505</td>\n",
       "<td>6.1</td>\n",
       "<td>6.5921</td>\n",
       "<td>6.3467</td></tr></table></div>"
      ],
      "text/plain": [
       "CRIM            0.00632    0.027290000000000002    0.03237    0.06905    0.02985    0.08829000000000002    0.14455    0.21124    0.17004000000000002    0.22489\n",
       "------------  ---------  ----------------------  ---------  ---------  ---------  ---------------------  ---------  ---------  ---------------------  ---------\n",
       "ZN               18                      0          0          0          0                     12.5       12.5       12.5                   12.5       12.5\n",
       "B               396.9                  392.83     394.63     396.9      394.12                 395.6      396.9      386.63                 386.71     392.52\n",
       "LSTAT             4.98                   4.03       2.94       5.33       5.21                  12.43      19.15      29.93                  17.1       20.45\n",
       "Median_value     24                     34.7       33.4       36.2       28.7                   22.9       27.1       16.5                   18.9       15\n",
       "AGE              65.2                   61.1       45.8       54.2       58.7                   66.6       96.1      100                     85.9       94.3\n",
       "TAX             296                    242        222        222        222                    311        311        311                    311        311\n",
       "RAD               1                      2          3          3          3                      5          5          5                      5          5\n",
       "CHAS              0                      0          0          0          0                      0          0          0                      0          0\n",
       "NOX               0.538                  0.469      0.458      0.458      0.458                  0.524      0.524      0.524                  0.524      0.524\n",
       "RM                6.575                  7.185      6.998      7.147      6.43                   6.012      6.172      5.631                  6.004      6.377\n",
       "INDUS             2.31                   7.07       2.18       2.18       2.18                   7.87       7.87       7.87                   7.87       7.87\n",
       "PTRATIO          15.3                   17.8       18.7       18.7       18.7                   15.2       15.2       15.2                   15.2       15.2\n",
       "DIS               4.09                   4.9671     6.0622     6.0622     6.0622                 5.5605     5.9505     6.0821                 6.5921     6.3467"
      ]
     },
     "metadata": {},
     "output_type": "display_data"
    }
   ],
   "source": [
    "fr.head()"
   ]
  },
  {
   "cell_type": "markdown",
   "metadata": {},
   "source": [
    "View the bottom of the H2O Frame"
   ]
  },
  {
   "cell_type": "code",
   "execution_count": 7,
   "metadata": {
    "collapsed": false
   },
   "outputs": [
    {
     "name": "stdout",
     "output_type": "stream",
     "text": [
      "H2OFrame with 462 rows and 14 columns: \n"
     ]
    },
    {
     "data": {
      "text/html": [
       "<div style=\"overflow:auto\"><table style=\"width:50%\"><tr><td><b>CRIM</b></td>\n",
       "<td><b>0.2896</b></td>\n",
       "<td><b>0.26838</b></td>\n",
       "<td><b>0.2</b></td>\n",
       "<td><b>0.2</b></td>\n",
       "<td><b>0.2</b></td>\n",
       "<td><b>0.1</b></td>\n",
       "<td><b>0.0</b></td>\n",
       "<td><b>0.06076</b></td>\n",
       "<td><b>0.10959</b></td>\n",
       "<td><b>0.04741</b></td></tr>\n",
       "<tr><td>ZN</td>\n",
       "<td>0</td>\n",
       "<td>0</td>\n",
       "<td>0</td>\n",
       "<td>0</td>\n",
       "<td>0</td>\n",
       "<td>0</td>\n",
       "<td>0</td>\n",
       "<td>0</td>\n",
       "<td>0</td>\n",
       "<td>0</td></tr>\n",
       "<tr><td>B</td>\n",
       "<td>396.9</td>\n",
       "<td>396.9</td>\n",
       "<td>396.9</td>\n",
       "<td>395.77</td>\n",
       "<td>396.9</td>\n",
       "<td>391.99</td>\n",
       "<td>396.9</td>\n",
       "<td>396.9</td>\n",
       "<td>393.45</td>\n",
       "<td>396.9</td></tr>\n",
       "<tr><td>LSTAT</td>\n",
       "<td>21.14</td>\n",
       "<td>14.1</td>\n",
       "<td>12.92</td>\n",
       "<td>15.1</td>\n",
       "<td>14.33</td>\n",
       "<td>9.67</td>\n",
       "<td>9.08</td>\n",
       "<td>5.64</td>\n",
       "<td>6.5</td>\n",
       "<td>7.88</td></tr>\n",
       "<tr><td>Median_value</td>\n",
       "<td>19.7</td>\n",
       "<td>18.3</td>\n",
       "<td>21.2</td>\n",
       "<td>17.5</td>\n",
       "<td>16.8</td>\n",
       "<td>22.4</td>\n",
       "<td>20.6</td>\n",
       "<td>23.9</td>\n",
       "<td>22.0</td>\n",
       "<td>11.9</td></tr>\n",
       "<tr><td>AGE</td>\n",
       "<td>72.9</td>\n",
       "<td>70.6</td>\n",
       "<td>65.3</td>\n",
       "<td>73.5</td>\n",
       "<td>79.7</td>\n",
       "<td>69.1</td>\n",
       "<td>76.7</td>\n",
       "<td>91.0</td>\n",
       "<td>89.3</td>\n",
       "<td>80.8</td></tr>\n",
       "<tr><td>TAX</td>\n",
       "<td>391</td>\n",
       "<td>391</td>\n",
       "<td>391</td>\n",
       "<td>391</td>\n",
       "<td>391</td>\n",
       "<td>273</td>\n",
       "<td>273</td>\n",
       "<td>273</td>\n",
       "<td>273</td>\n",
       "<td>273</td></tr>\n",
       "<tr><td>RAD</td>\n",
       "<td>6</td>\n",
       "<td>6</td>\n",
       "<td>6</td>\n",
       "<td>6</td>\n",
       "<td>6</td>\n",
       "<td>1</td>\n",
       "<td>1</td>\n",
       "<td>1</td>\n",
       "<td>1</td>\n",
       "<td>1</td></tr>\n",
       "<tr><td>CHAS</td>\n",
       "<td>0</td>\n",
       "<td>0</td>\n",
       "<td>0</td>\n",
       "<td>0</td>\n",
       "<td>0</td>\n",
       "<td>0</td>\n",
       "<td>0</td>\n",
       "<td>0</td>\n",
       "<td>0</td>\n",
       "<td>0</td></tr>\n",
       "<tr><td>NOX</td>\n",
       "<td>0.6</td>\n",
       "<td>0.6</td>\n",
       "<td>0.6</td>\n",
       "<td>0.6</td>\n",
       "<td>0.6</td>\n",
       "<td>0.6</td>\n",
       "<td>0.6</td>\n",
       "<td>0.6</td>\n",
       "<td>0.6</td>\n",
       "<td>0.6</td></tr>\n",
       "<tr><td>RM</td>\n",
       "<td>5.39</td>\n",
       "<td>5.8</td>\n",
       "<td>6.019</td>\n",
       "<td>5.569</td>\n",
       "<td>6.027</td>\n",
       "<td>6.593</td>\n",
       "<td>6.12</td>\n",
       "<td>6.976</td>\n",
       "<td>6.8</td>\n",
       "<td>6.03</td></tr>\n",
       "<tr><td>INDUS</td>\n",
       "<td>9.69</td>\n",
       "<td>9.69</td>\n",
       "<td>9.69</td>\n",
       "<td>9.69</td>\n",
       "<td>9.69</td>\n",
       "<td>11.93</td>\n",
       "<td>11.93</td>\n",
       "<td>11.93</td>\n",
       "<td>11.93</td>\n",
       "<td>11.93</td></tr>\n",
       "<tr><td>PTRATIO</td>\n",
       "<td>19.2</td>\n",
       "<td>19.2</td>\n",
       "<td>19.2</td>\n",
       "<td>19.2</td>\n",
       "<td>19.2</td>\n",
       "<td>21.0</td>\n",
       "<td>21.0</td>\n",
       "<td>21.0</td>\n",
       "<td>21.0</td>\n",
       "<td>21.0</td></tr>\n",
       "<tr><td>DIS</td>\n",
       "<td>2.7986</td>\n",
       "<td>2.8927</td>\n",
       "<td>2.4091</td>\n",
       "<td>2.3999</td>\n",
       "<td>2.5</td>\n",
       "<td>2.4786</td>\n",
       "<td>2.2875</td>\n",
       "<td>2.1675</td>\n",
       "<td>2.3889</td>\n",
       "<td>2.505</td></tr></table></div>"
      ],
      "text/plain": [
       "CRIM            0.2896    0.26838    0.23912000000000005    0.17783000000000004    0.22438000000000002    0.06263000000000002    0.04527000000000001    0.06076    0.10959    0.04741\n",
       "------------  --------  ---------  ---------------------  ---------------------  ---------------------  ---------------------  ---------------------  ---------  ---------  ---------\n",
       "ZN              0          0                      0                      0                      0                      0                      0          0          0           0\n",
       "B             396.9      396.9                  396.9                  395.77                 396.9                  391.99                 396.9      396.9      393.45      396.9\n",
       "LSTAT          21.14      14.1                   12.92                  15.1                   14.33                   9.67                   9.08       5.64       6.48        7.88\n",
       "Median_value   19.7       18.3                   21.2                   17.5                   16.8                   22.4                   20.6       23.9       22          11.9\n",
       "AGE            72.9       70.6                   65.3                   73.5                   79.7                   69.1                   76.7       91         89.3        80.8\n",
       "TAX           391        391                    391                    391                    391                    273                    273        273        273         273\n",
       "RAD             6          6                      6                      6                      6                      1                      1          1          1           1\n",
       "CHAS            0          0                      0                      0                      0                      0                      0          0          0           0\n",
       "NOX             0.585      0.585                  0.585                  0.585                  0.585                  0.573                  0.573      0.573      0.573       0.573\n",
       "RM              5.39       5.794                  6.019                  5.569                  6.027                  6.593                  6.12       6.976      6.794       6.03\n",
       "INDUS           9.69       9.69                   9.69                   9.69                   9.69                  11.93                  11.93      11.93      11.93       11.93\n",
       "PTRATIO        19.2       19.2                   19.2                   19.2                   19.2                   21                     21         21         21          21\n",
       "DIS             2.7986     2.8927                 2.4091                 2.3999                 2.4982                 2.4786                 2.2875     2.1675     2.3889      2.505"
      ]
     },
     "metadata": {},
     "output_type": "display_data"
    }
   ],
   "source": [
    "fr.tail()"
   ]
  },
  {
   "cell_type": "markdown",
   "metadata": {},
   "source": [
    "Select a column\n",
    "\n",
    "fr[\"VAR_NAME\"]"
   ]
  },
  {
   "cell_type": "code",
   "execution_count": 8,
   "metadata": {
    "collapsed": false,
    "scrolled": true
   },
   "outputs": [
    {
     "name": "stdout",
     "output_type": "stream",
     "text": [
      "H2OFrame with 462 rows and 1 columns: \n"
     ]
    },
    {
     "data": {
      "text/html": [
       "<div style=\"overflow:auto\"><table style=\"width:50%\"><tr><td><b>CRIM</b></td>\n",
       "<td><b>0.00632</b></td>\n",
       "<td><b>0.0</b></td>\n",
       "<td><b>0.03237</b></td>\n",
       "<td><b>0.06905</b></td>\n",
       "<td><b>0.02985</b></td>\n",
       "<td><b>0.1</b></td>\n",
       "<td><b>0.14455</b></td>\n",
       "<td><b>0.21124</b></td>\n",
       "<td><b>0.2</b></td>\n",
       "<td><b>0.22489</b></td></tr></table></div>"
      ],
      "text/plain": [
       "CRIM    0.00632    0.027290000000000002    0.03237    0.06905    0.02985    0.08829000000000002    0.14455    0.21124    0.17004000000000002    0.22489\n",
       "------  ---------  ----------------------  ---------  ---------  ---------  ---------------------  ---------  ---------  ---------------------  ---------"
      ]
     },
     "metadata": {},
     "output_type": "display_data"
    }
   ],
   "source": [
    "fr[\"CRIM\"].head() # Tab completes"
   ]
  },
  {
   "cell_type": "markdown",
   "metadata": {},
   "source": [
    "Select a few columns"
   ]
  },
  {
   "cell_type": "code",
   "execution_count": 9,
   "metadata": {
    "collapsed": false
   },
   "outputs": [
    {
     "name": "stdout",
     "output_type": "stream",
     "text": [
      "H2OFrame with 462 rows and 3 columns: \n"
     ]
    },
    {
     "data": {
      "text/html": [
       "<div style=\"overflow:auto\"><table style=\"width:50%\"><tr><td><b>CRIM</b></td>\n",
       "<td><b>0.00632</b></td>\n",
       "<td><b>0.0</b></td>\n",
       "<td><b>0.03237</b></td>\n",
       "<td><b>0.06905</b></td>\n",
       "<td><b>0.02985</b></td>\n",
       "<td><b>0.1</b></td>\n",
       "<td><b>0.14455</b></td>\n",
       "<td><b>0.21124</b></td>\n",
       "<td><b>0.2</b></td>\n",
       "<td><b>0.22489</b></td></tr>\n",
       "<tr><td>RM</td>\n",
       "<td>6.575</td>\n",
       "<td>7.2</td>\n",
       "<td>6.998</td>\n",
       "<td>7.147</td>\n",
       "<td>6.43</td>\n",
       "<td>6.0</td>\n",
       "<td>6.172</td>\n",
       "<td>5.631</td>\n",
       "<td>6.0</td>\n",
       "<td>6.377</td></tr>\n",
       "<tr><td>RAD</td>\n",
       "<td>1</td>\n",
       "<td>2</td>\n",
       "<td>3</td>\n",
       "<td>3</td>\n",
       "<td>3</td>\n",
       "<td>5</td>\n",
       "<td>5</td>\n",
       "<td>5</td>\n",
       "<td>5</td>\n",
       "<td>5</td></tr></table></div>"
      ],
      "text/plain": [
       "CRIM      0.00632    0.027290000000000002    0.03237    0.06905    0.02985    0.08829000000000002    0.14455    0.21124    0.17004000000000002    0.22489\n",
       "------  ---------  ----------------------  ---------  ---------  ---------  ---------------------  ---------  ---------  ---------------------  ---------\n",
       "RM          6.575                   7.185      6.998      7.147       6.43                  6.012      6.172      5.631                  6.004      6.377\n",
       "RAD         1                       2          3          3           3                     5          5          5                      5          5"
      ]
     },
     "metadata": {},
     "output_type": "display_data"
    }
   ],
   "source": [
    "columns = [\"CRIM\", \"RM\", \"RAD\"]\n",
    "fr[columns].head()"
   ]
  },
  {
   "cell_type": "markdown",
   "metadata": {},
   "source": [
    "Select a subset of rows\n",
    "\n",
    "Unlike in Pandas, columns may be identified by index or column name. **Therefore, when subsetting by rows, you must also pass the column selection.**"
   ]
  },
  {
   "cell_type": "code",
   "execution_count": 10,
   "metadata": {
    "collapsed": false
   },
   "outputs": [
    {
     "name": "stdout",
     "output_type": "stream",
     "text": [
      "H2OFrame with 5 rows and 14 columns: \n"
     ]
    },
    {
     "data": {
      "text/html": [
       "<div>\n",
       "<table border=\"1\" class=\"dataframe\">\n",
       "  <thead>\n",
       "    <tr style=\"text-align: right;\">\n",
       "      <th></th>\n",
       "      <th>CRIM</th>\n",
       "      <th>ZN</th>\n",
       "      <th>B</th>\n",
       "      <th>LSTAT</th>\n",
       "      <th>Median_value</th>\n",
       "      <th>AGE</th>\n",
       "      <th>TAX</th>\n",
       "      <th>RAD</th>\n",
       "      <th>CHAS</th>\n",
       "      <th>NOX</th>\n",
       "      <th>RM</th>\n",
       "      <th>INDUS</th>\n",
       "      <th>PTRATIO</th>\n",
       "      <th>DIS</th>\n",
       "    </tr>\n",
       "  </thead>\n",
       "  <tbody>\n",
       "    <tr>\n",
       "      <th>0</th>\n",
       "      <td>0.03237</td>\n",
       "      <td>0.0</td>\n",
       "      <td>394.63</td>\n",
       "      <td>2.94</td>\n",
       "      <td>33.4</td>\n",
       "      <td>45.8</td>\n",
       "      <td>222</td>\n",
       "      <td>3</td>\n",
       "      <td>0</td>\n",
       "      <td>0.458</td>\n",
       "      <td>6.998</td>\n",
       "      <td>2.18</td>\n",
       "      <td>18.7</td>\n",
       "      <td>6.0622</td>\n",
       "    </tr>\n",
       "    <tr>\n",
       "      <th>1</th>\n",
       "      <td>0.06905</td>\n",
       "      <td>0.0</td>\n",
       "      <td>396.90</td>\n",
       "      <td>5.33</td>\n",
       "      <td>36.2</td>\n",
       "      <td>54.2</td>\n",
       "      <td>222</td>\n",
       "      <td>3</td>\n",
       "      <td>0</td>\n",
       "      <td>0.458</td>\n",
       "      <td>7.147</td>\n",
       "      <td>2.18</td>\n",
       "      <td>18.7</td>\n",
       "      <td>6.0622</td>\n",
       "    </tr>\n",
       "    <tr>\n",
       "      <th>2</th>\n",
       "      <td>0.02985</td>\n",
       "      <td>0.0</td>\n",
       "      <td>394.12</td>\n",
       "      <td>5.21</td>\n",
       "      <td>28.7</td>\n",
       "      <td>58.7</td>\n",
       "      <td>222</td>\n",
       "      <td>3</td>\n",
       "      <td>0</td>\n",
       "      <td>0.458</td>\n",
       "      <td>6.430</td>\n",
       "      <td>2.18</td>\n",
       "      <td>18.7</td>\n",
       "      <td>6.0622</td>\n",
       "    </tr>\n",
       "    <tr>\n",
       "      <th>3</th>\n",
       "      <td>0.08829</td>\n",
       "      <td>12.5</td>\n",
       "      <td>395.60</td>\n",
       "      <td>12.43</td>\n",
       "      <td>22.9</td>\n",
       "      <td>66.6</td>\n",
       "      <td>311</td>\n",
       "      <td>5</td>\n",
       "      <td>0</td>\n",
       "      <td>0.524</td>\n",
       "      <td>6.012</td>\n",
       "      <td>7.87</td>\n",
       "      <td>15.2</td>\n",
       "      <td>5.5605</td>\n",
       "    </tr>\n",
       "    <tr>\n",
       "      <th>4</th>\n",
       "      <td>0.14455</td>\n",
       "      <td>12.5</td>\n",
       "      <td>396.90</td>\n",
       "      <td>19.15</td>\n",
       "      <td>27.1</td>\n",
       "      <td>96.1</td>\n",
       "      <td>311</td>\n",
       "      <td>5</td>\n",
       "      <td>0</td>\n",
       "      <td>0.524</td>\n",
       "      <td>6.172</td>\n",
       "      <td>7.87</td>\n",
       "      <td>15.2</td>\n",
       "      <td>5.9505</td>\n",
       "    </tr>\n",
       "  </tbody>\n",
       "</table>\n",
       "</div>"
      ],
      "text/plain": [
       "      CRIM    ZN       B  LSTAT  Median_value   AGE  TAX  RAD  CHAS    NOX  \\\n",
       "0  0.03237   0.0  394.63   2.94          33.4  45.8  222    3     0  0.458   \n",
       "1  0.06905   0.0  396.90   5.33          36.2  54.2  222    3     0  0.458   \n",
       "2  0.02985   0.0  394.12   5.21          28.7  58.7  222    3     0  0.458   \n",
       "3  0.08829  12.5  395.60  12.43          22.9  66.6  311    5     0  0.524   \n",
       "4  0.14455  12.5  396.90  19.15          27.1  96.1  311    5     0  0.524   \n",
       "\n",
       "      RM  INDUS  PTRATIO     DIS  \n",
       "0  6.998   2.18     18.7  6.0622  \n",
       "1  7.147   2.18     18.7  6.0622  \n",
       "2  6.430   2.18     18.7  6.0622  \n",
       "3  6.012   7.87     15.2  5.5605  \n",
       "4  6.172   7.87     15.2  5.9505  "
      ]
     },
     "metadata": {},
     "output_type": "display_data"
    },
    {
     "data": {
      "text/plain": []
     },
     "execution_count": 10,
     "metadata": {},
     "output_type": "execute_result"
    }
   ],
   "source": [
    "fr[2:7,:]  # explicitly select all columns with :"
   ]
  },
  {
   "cell_type": "markdown",
   "metadata": {},
   "source": [
    "Key attributes:\n",
    "      * columns, names, col_names\n",
    "      * len, shape, dim, nrow, ncol\n",
    "      * types\n",
    "      \n",
    "Note: \n",
    "\n",
    "Since the data is _not_ in local python memory\n",
    "there is no \"values\" attribute. If you want to \n",
    "pull all of the data into the local python memory\n",
    "then do so explicitly with h2o.export_file and\n",
    "reading the data into python memory from disk."
   ]
  },
  {
   "cell_type": "code",
   "execution_count": 11,
   "metadata": {
    "collapsed": false
   },
   "outputs": [
    {
     "name": "stdout",
     "output_type": "stream",
     "text": [
      "Columns: [u'CRIM', u'ZN', u'B', u'LSTAT', u'Median_value', u'AGE', u'TAX', u'RAD', u'CHAS', u'NOX', u'RM', u'INDUS', u'PTRATIO', u'DIS'] \n",
      "\n",
      "Columns: [u'CRIM', u'ZN', u'B', u'LSTAT', u'Median_value', u'AGE', u'TAX', u'RAD', u'CHAS', u'NOX', u'RM', u'INDUS', u'PTRATIO', u'DIS'] \n",
      "\n",
      "Columns: [u'CRIM', u'ZN', u'B', u'LSTAT', u'Median_value', u'AGE', u'TAX', u'RAD', u'CHAS', u'NOX', u'RM', u'INDUS', u'PTRATIO', u'DIS'] \n",
      "\n",
      "length: 462 \n",
      "\n",
      "shape: (462, 14) \n",
      "\n",
      "dim: [462, 14] \n",
      "\n",
      "nrow: 462 \n",
      "\n",
      "ncol: 14 \n",
      "\n",
      "types: {u'CRIM': u'Numeric', u'ZN': u'Numeric', u'B': u'Numeric', u'LSTAT': u'Numeric', u'Median_value': u'Numeric', u'AGE': u'Numeric', u'TAX': u'Numeric', u'RAD': u'Numeric', u'CHAS': u'Numeric', u'NOX': u'Numeric', u'RM': u'Numeric', u'INDUS': u'Numeric', u'PTRATIO': u'Numeric', u'DIS': u'Numeric'} \n",
      "\n"
     ]
    }
   ],
   "source": [
    "# The columns attribute is exactly like Pandas\n",
    "print \"Columns:\", fr.columns, \"\\n\"\n",
    "print \"Columns:\", fr.names, \"\\n\"\n",
    "print \"Columns:\", fr.col_names, \"\\n\"\n",
    "\n",
    "# There are a number of attributes to get at the shape\n",
    "print \"length:\", str( len(fr) ), \"\\n\"\n",
    "print \"shape:\", fr.shape, \"\\n\"\n",
    "print \"dim:\", fr.dim, \"\\n\"\n",
    "print \"nrow:\", fr.nrow, \"\\n\"\n",
    "print \"ncol:\", fr.ncol, \"\\n\"\n",
    "\n",
    "# Use the \"types\" attribute to list the column types\n",
    "print \"types:\", fr.types, \"\\n\""
   ]
  },
  {
   "cell_type": "markdown",
   "metadata": {},
   "source": [
    "Select rows based on value"
   ]
  },
  {
   "cell_type": "code",
   "execution_count": 12,
   "metadata": {
    "collapsed": false
   },
   "outputs": [
    {
     "data": {
      "text/plain": [
       "(462, 14)"
      ]
     },
     "execution_count": 12,
     "metadata": {},
     "output_type": "execute_result"
    }
   ],
   "source": [
    "fr.shape"
   ]
  },
  {
   "cell_type": "markdown",
   "metadata": {},
   "source": [
    "Boolean masks can be used to subselect rows based on a criteria."
   ]
  },
  {
   "cell_type": "code",
   "execution_count": 13,
   "metadata": {
    "collapsed": false
   },
   "outputs": [
    {
     "data": {
      "text/plain": [
       "(155, 14)"
      ]
     },
     "execution_count": 13,
     "metadata": {},
     "output_type": "execute_result"
    }
   ],
   "source": [
    "mask = fr[\"CRIM\"]>1\n",
    "fr[mask,:].shape"
   ]
  },
  {
   "cell_type": "markdown",
   "metadata": {},
   "source": [
    "Get summary statistics of the data and additional data distribution information."
   ]
  },
  {
   "cell_type": "code",
   "execution_count": 14,
   "metadata": {
    "collapsed": false
   },
   "outputs": [
    {
     "name": "stdout",
     "output_type": "stream",
     "text": [
      "Rows: 462 Cols: 14\n",
      "\n",
      "Chunk compression summary:\n"
     ]
    },
    {
     "data": {
      "text/html": [
       "<div style=\"overflow:auto\"><table style=\"width:50%\"><tr><td><b>chunk_type</b></td>\n",
       "<td><b>chunk_name</b></td>\n",
       "<td><b>count</b></td>\n",
       "<td><b>count_percentage</b></td>\n",
       "<td><b>size</b></td>\n",
       "<td><b>size_percentage</b></td></tr>\n",
       "<tr><td>CBS</td>\n",
       "<td>Bits</td>\n",
       "<td>1</td>\n",
       "<td>7.1428576</td>\n",
       "<td>    128  B</td>\n",
       "<td>0.4</td></tr>\n",
       "<tr><td>C1N</td>\n",
       "<td>1-Byte Integers (w/o NAs)</td>\n",
       "<td>1</td>\n",
       "<td>7.1428576</td>\n",
       "<td>    530  B</td>\n",
       "<td>1.6260661</td></tr>\n",
       "<tr><td>C2</td>\n",
       "<td>2-Byte Integers</td>\n",
       "<td>1</td>\n",
       "<td>7.1428576</td>\n",
       "<td>    992  B</td>\n",
       "<td>3.043505</td></tr>\n",
       "<tr><td>C2S</td>\n",
       "<td>2-Byte Fractions</td>\n",
       "<td>1</td>\n",
       "<td>7.1428576</td>\n",
       "<td>   1008  B</td>\n",
       "<td>3.0925937</td></tr>\n",
       "<tr><td>CUD</td>\n",
       "<td>Unique Reals</td>\n",
       "<td>4</td>\n",
       "<td>28.57143</td>\n",
       "<td>    7.2 KB</td>\n",
       "<td>22.5563</td></tr>\n",
       "<tr><td>C8D</td>\n",
       "<td>64-bit Reals</td>\n",
       "<td>6</td>\n",
       "<td>42.857143</td>\n",
       "<td>   22.1 KB</td>\n",
       "<td>69.288826</td></tr></table></div>"
      ],
      "text/plain": [
       "chunk_type    chunk_name                 count    count_percentage    size     size_percentage\n",
       "------------  -------------------------  -------  ------------------  -------  -----------------\n",
       "CBS           Bits                       1        7.14286             128  B   0.39271\n",
       "C1N           1-Byte Integers (w/o NAs)  1        7.14286             530  B   1.62607\n",
       "C2            2-Byte Integers            1        7.14286             992  B   3.04351\n",
       "C2S           2-Byte Fractions           1        7.14286             1008  B  3.09259\n",
       "CUD           Unique Reals               4        28.5714             7.2 KB   22.5563\n",
       "C8D           64-bit Reals               6        42.8571             22.1 KB  69.2888"
      ]
     },
     "metadata": {},
     "output_type": "display_data"
    },
    {
     "name": "stdout",
     "output_type": "stream",
     "text": [
      "\n",
      "Frame distribution summary:\n"
     ]
    },
    {
     "data": {
      "text/html": [
       "<div style=\"overflow:auto\"><table style=\"width:50%\"><tr><td><b></b></td>\n",
       "<td><b>size</b></td>\n",
       "<td><b>number_of_rows</b></td>\n",
       "<td><b>number_of_chunks_per_column</b></td>\n",
       "<td><b>number_of_chunks</b></td></tr>\n",
       "<tr><td>172.16.2.38:54321</td>\n",
       "<td>   31.8 KB</td>\n",
       "<td>462.0</td>\n",
       "<td>1.0</td>\n",
       "<td>14.0</td></tr>\n",
       "<tr><td>mean</td>\n",
       "<td>   31.8 KB</td>\n",
       "<td>462.0</td>\n",
       "<td>1.0</td>\n",
       "<td>14.0</td></tr>\n",
       "<tr><td>min</td>\n",
       "<td>   31.8 KB</td>\n",
       "<td>462.0</td>\n",
       "<td>1.0</td>\n",
       "<td>14.0</td></tr>\n",
       "<tr><td>max</td>\n",
       "<td>   31.8 KB</td>\n",
       "<td>462.0</td>\n",
       "<td>1.0</td>\n",
       "<td>14.0</td></tr>\n",
       "<tr><td>stddev</td>\n",
       "<td>      0  B</td>\n",
       "<td>0.0</td>\n",
       "<td>0.0</td>\n",
       "<td>0.0</td></tr>\n",
       "<tr><td>total</td>\n",
       "<td>   31.8 KB</td>\n",
       "<td>462.0</td>\n",
       "<td>1.0</td>\n",
       "<td>14.0</td></tr></table></div>"
      ],
      "text/plain": [
       "                   size     number_of_rows    number_of_chunks_per_column    number_of_chunks\n",
       "-----------------  -------  ----------------  -----------------------------  ------------------\n",
       "172.16.2.38:54321  31.8 KB  462               1                              14\n",
       "mean               31.8 KB  462               1                              14\n",
       "min                31.8 KB  462               1                              14\n",
       "max                31.8 KB  462               1                              14\n",
       "stddev             0  B     0                 0                              0\n",
       "total              31.8 KB  462               1                              14"
      ]
     },
     "metadata": {},
     "output_type": "display_data"
    },
    {
     "name": "stdout",
     "output_type": "stream",
     "text": [
      "\n",
      "Column-by-Column Summary:\n",
      "\n"
     ]
    },
    {
     "data": {
      "text/html": [
       "<div style=\"overflow:auto\"><table style=\"width:50%\"><tr><td><b></b></td>\n",
       "<td><b>CRIM</b></td>\n",
       "<td><b>ZN</b></td>\n",
       "<td><b>B</b></td>\n",
       "<td><b>LSTAT</b></td>\n",
       "<td><b>Median_value</b></td>\n",
       "<td><b>AGE</b></td>\n",
       "<td><b>TAX</b></td>\n",
       "<td><b>RAD</b></td>\n",
       "<td><b>CHAS</b></td>\n",
       "<td><b>NOX</b></td>\n",
       "<td><b>RM</b></td>\n",
       "<td><b>INDUS</b></td>\n",
       "<td><b>PTRATIO</b></td>\n",
       "<td><b>DIS</b></td></tr>\n",
       "<tr><td>type</td>\n",
       "<td>real</td>\n",
       "<td>real</td>\n",
       "<td>real</td>\n",
       "<td>real</td>\n",
       "<td>real</td>\n",
       "<td>real</td>\n",
       "<td>int</td>\n",
       "<td>int</td>\n",
       "<td>int</td>\n",
       "<td>real</td>\n",
       "<td>real</td>\n",
       "<td>real</td>\n",
       "<td>real</td>\n",
       "<td>real</td></tr>\n",
       "<tr><td>mins</td>\n",
       "<td>0.00632</td>\n",
       "<td>0.0</td>\n",
       "<td>0.32</td>\n",
       "<td>1.73</td>\n",
       "<td>5.0</td>\n",
       "<td>6.0</td>\n",
       "<td>187.0</td>\n",
       "<td>1.0</td>\n",
       "<td>0.0</td>\n",
       "<td>0.385</td>\n",
       "<td>3.561</td>\n",
       "<td>0.46</td>\n",
       "<td>12.6</td>\n",
       "<td>1.1296</td></tr>\n",
       "<tr><td>maxs</td>\n",
       "<td>88.9762</td>\n",
       "<td>100.0</td>\n",
       "<td>396.9</td>\n",
       "<td>37.97</td>\n",
       "<td>50.0</td>\n",
       "<td>100.0</td>\n",
       "<td>711.0</td>\n",
       "<td>24.0</td>\n",
       "<td>1.0</td>\n",
       "<td>0.871</td>\n",
       "<td>8.78</td>\n",
       "<td>27.74</td>\n",
       "<td>22.0</td>\n",
       "<td>12.1265</td></tr>\n",
       "<tr><td>mean</td>\n",
       "<td>3.6</td>\n",
       "<td>11.1</td>\n",
       "<td>357.2</td>\n",
       "<td>12.7</td>\n",
       "<td>22.6</td>\n",
       "<td>68.9</td>\n",
       "<td>407.6</td>\n",
       "<td>9.4</td>\n",
       "<td>0.1</td>\n",
       "<td>0.6</td>\n",
       "<td>6.3</td>\n",
       "<td>11.1</td>\n",
       "<td>18.5</td>\n",
       "<td>3.8</td></tr>\n",
       "<tr><td>sigma</td>\n",
       "<td>8.7</td>\n",
       "<td>23.2</td>\n",
       "<td>90.8</td>\n",
       "<td>7.1</td>\n",
       "<td>9.2</td>\n",
       "<td>28.0</td>\n",
       "<td>167.5</td>\n",
       "<td>8.6</td>\n",
       "<td>0.2</td>\n",
       "<td>0.1</td>\n",
       "<td>0.7</td>\n",
       "<td>6.9</td>\n",
       "<td>2.2</td>\n",
       "<td>2.1</td></tr>\n",
       "<tr><td>zero_count</td>\n",
       "<td>0</td>\n",
       "<td>343</td>\n",
       "<td>0</td>\n",
       "<td>0</td>\n",
       "<td>0</td>\n",
       "<td>0</td>\n",
       "<td>0</td>\n",
       "<td>0</td>\n",
       "<td>433</td>\n",
       "<td>0</td>\n",
       "<td>0</td>\n",
       "<td>0</td>\n",
       "<td>0</td>\n",
       "<td>0</td></tr>\n",
       "<tr><td>missing_count</td>\n",
       "<td>0</td>\n",
       "<td>0</td>\n",
       "<td>0</td>\n",
       "<td>0</td>\n",
       "<td>0</td>\n",
       "<td>0</td>\n",
       "<td>0</td>\n",
       "<td>0</td>\n",
       "<td>0</td>\n",
       "<td>0</td>\n",
       "<td>0</td>\n",
       "<td>0</td>\n",
       "<td>0</td>\n",
       "<td>0</td></tr></table></div>"
      ],
      "text/plain": [
       "               CRIM           ZN             B              LSTAT          Median_value    AGE            TAX            RAD            CHAS             NOX             RM              INDUS          PTRATIO        DIS\n",
       "-------------  -------------  -------------  -------------  -------------  --------------  -------------  -------------  -------------  ---------------  --------------  --------------  -------------  -------------  -------------\n",
       "type           real           real           real           real           real            real           int            int            int              real            real            real           real           real\n",
       "mins           0.00632        0.0            0.32           1.73           5.0             6.0            187.0          1.0            0.0              0.385           3.561           0.46           12.6           1.1296\n",
       "maxs           88.9762        100.0          396.9          37.97          50.0            100.0          711.0          24.0           1.0              0.871           8.78            27.74          22.0           12.1265\n",
       "mean           3.56810333333  11.0865800866  357.205194805  12.6678787879  22.6028138528   68.911038961   407.554112554  9.44155844156  0.0627705627706  0.555068831169  6.28235930736   11.1380519481  18.45995671    3.79056731602\n",
       "sigma          8.68268014543  23.2086423052  90.7500779002  7.1419482934   9.21258527358   27.9631409743  167.460295078  8.64357146773  0.242812755044   0.115349440715  0.707139172922  6.85982058776  2.16522966932  2.11032018051\n",
       "zero_count     0              343            0              0              0               0              0              0              433              0               0               0              0              0\n",
       "missing_count  0              0              0              0              0               0              0              0              0                0               0               0              0              0"
      ]
     },
     "metadata": {},
     "output_type": "display_data"
    }
   ],
   "source": [
    "fr.describe()"
   ]
  },
  {
   "cell_type": "markdown",
   "metadata": {},
   "source": [
    "Set up the predictor and response column names\n",
    "\n",
    "Using H2O algorithms, it's easier to reference predictor and response columns\n",
    "by name in a single frame (i.e., don't split up X and y)"
   ]
  },
  {
   "cell_type": "code",
   "execution_count": 15,
   "metadata": {
    "collapsed": false
   },
   "outputs": [],
   "source": [
    "x = fr.names\n",
    "y=\"Median_value\"\n",
    "x.remove(y)"
   ]
  },
  {
   "cell_type": "markdown",
   "metadata": {},
   "source": [
    "## Machine Learning With H2O"
   ]
  },
  {
   "cell_type": "markdown",
   "metadata": {},
   "source": [
    "H2O is a machine learning library built in Java with interfaces in Python, R, Scala, and Javascript. It is [open source](http://github.com/h2oai) and [well-documented](http://docs.h2o.ai).\n",
    "\n",
    "Unlike Scikit-learn, H2O allows for categorical and missing data.\n",
    "\n",
    "The basic work flow is as follows:\n",
    "* Fit the training data with a machine learning algorithm\n",
    "* Predict on the testing data"
   ]
  },
  {
   "cell_type": "markdown",
   "metadata": {},
   "source": [
    "### Simple model"
   ]
  },
  {
   "cell_type": "code",
   "execution_count": 16,
   "metadata": {
    "collapsed": false
   },
   "outputs": [
    {
     "name": "stdout",
     "output_type": "stream",
     "text": [
      "\n",
      "drf Model Build Progress: [##################################################] 100%\n"
     ]
    }
   ],
   "source": [
    "# Define and fit first 400 points\n",
    "model = H2ORandomForestEstimator(seed=42)\n",
    "model.train(x=x, y=y, training_frame=fr[:400,:])"
   ]
  },
  {
   "cell_type": "code",
   "execution_count": 17,
   "metadata": {
    "collapsed": false
   },
   "outputs": [
    {
     "name": "stdout",
     "output_type": "stream",
     "text": [
      "H2OFrame with 62 rows and 1 columns: \n"
     ]
    },
    {
     "data": {
      "text/html": [
       "<div>\n",
       "<table border=\"1\" class=\"dataframe\">\n",
       "  <thead>\n",
       "    <tr style=\"text-align: right;\">\n",
       "      <th></th>\n",
       "      <th>predict</th>\n",
       "    </tr>\n",
       "  </thead>\n",
       "  <tbody>\n",
       "    <tr>\n",
       "      <th>0</th>\n",
       "      <td>12.736</td>\n",
       "    </tr>\n",
       "    <tr>\n",
       "      <th>1</th>\n",
       "      <td>10.100</td>\n",
       "    </tr>\n",
       "    <tr>\n",
       "      <th>2</th>\n",
       "      <td>10.048</td>\n",
       "    </tr>\n",
       "    <tr>\n",
       "      <th>3</th>\n",
       "      <td>12.742</td>\n",
       "    </tr>\n",
       "    <tr>\n",
       "      <th>4</th>\n",
       "      <td>10.498</td>\n",
       "    </tr>\n",
       "    <tr>\n",
       "      <th>5</th>\n",
       "      <td>14.902</td>\n",
       "    </tr>\n",
       "    <tr>\n",
       "      <th>6</th>\n",
       "      <td>17.218</td>\n",
       "    </tr>\n",
       "    <tr>\n",
       "      <th>7</th>\n",
       "      <td>15.148</td>\n",
       "    </tr>\n",
       "    <tr>\n",
       "      <th>8</th>\n",
       "      <td>14.738</td>\n",
       "    </tr>\n",
       "    <tr>\n",
       "      <th>9</th>\n",
       "      <td>16.491</td>\n",
       "    </tr>\n",
       "  </tbody>\n",
       "</table>\n",
       "</div>"
      ],
      "text/plain": [
       "   predict\n",
       "0   12.736\n",
       "1   10.100\n",
       "2   10.048\n",
       "3   12.742\n",
       "4   10.498\n",
       "5   14.902\n",
       "6   17.218\n",
       "7   15.148\n",
       "8   14.738\n",
       "9   16.491"
      ]
     },
     "metadata": {},
     "output_type": "display_data"
    },
    {
     "data": {
      "text/plain": []
     },
     "execution_count": 17,
     "metadata": {},
     "output_type": "execute_result"
    }
   ],
   "source": [
    "model.predict(fr[400:fr.nrow,:])        # Predict the rest"
   ]
  },
  {
   "cell_type": "markdown",
   "metadata": {},
   "source": [
    "The performance of the model can be checked using the holdout dataset"
   ]
  },
  {
   "cell_type": "code",
   "execution_count": 18,
   "metadata": {
    "collapsed": false
   },
   "outputs": [
    {
     "name": "stdout",
     "output_type": "stream",
     "text": [
      "\n",
      "ModelMetricsRegression: drf\n",
      "** Reported on test data. **\n",
      "\n",
      "MSE: 13.4756382476\n",
      "R^2: 0.405996106866\n",
      "Mean Residual Deviance: 13.4756382476\n"
     ]
    },
    {
     "data": {
      "text/plain": []
     },
     "execution_count": 18,
     "metadata": {},
     "output_type": "execute_result"
    }
   ],
   "source": [
    "perf = model.model_performance(fr[400:fr.nrow,:])\n",
    "perf.r2()      # get the r2 on the holdout data\n",
    "perf.mse()     # get the mse on the holdout data\n",
    "perf           # display the performance object"
   ]
  },
  {
   "cell_type": "markdown",
   "metadata": {},
   "source": [
    "### Train-Test Split"
   ]
  },
  {
   "cell_type": "markdown",
   "metadata": {},
   "source": [
    "Instead of taking the first 400 observations for training, we can use H2O to create a random test train split of the data."
   ]
  },
  {
   "cell_type": "code",
   "execution_count": 19,
   "metadata": {
    "collapsed": false
   },
   "outputs": [
    {
     "name": "stdout",
     "output_type": "stream",
     "text": [
      "\n",
      "drf Model Build Progress: [##################################################] 100%\n"
     ]
    },
    {
     "data": {
      "text/plain": [
       "0.8530416308371256"
      ]
     },
     "execution_count": 19,
     "metadata": {},
     "output_type": "execute_result"
    }
   ],
   "source": [
    "r = fr.runif(seed=12345)   # build random uniform column over [0,1]\n",
    "train= fr[r<0.75,:]     # perform a 75-25 split\n",
    "test = fr[r>=0.75,:]\n",
    "\n",
    "model = H2ORandomForestEstimator(seed=42)\n",
    "model.train(x=x, y=y, training_frame=train, validation_frame=test)\n",
    "\n",
    "perf = model.model_performance(test)\n",
    "perf.r2()"
   ]
  },
  {
   "cell_type": "markdown",
   "metadata": {},
   "source": [
    "There was a massive jump in the R^2 value. This is because the original data is not shuffled."
   ]
  },
  {
   "cell_type": "markdown",
   "metadata": {},
   "source": [
    "### Cross validation"
   ]
  },
  {
   "cell_type": "markdown",
   "metadata": {},
   "source": [
    "H2O's machine learning algorithms take an optional parameter **nfolds** to specify the number of cross-validation folds to build. H2O's cross-validation uses an internal weight vector to build the folds in an efficient manner (instead of physically building the splits)."
   ]
  },
  {
   "cell_type": "markdown",
   "metadata": {},
   "source": [
    "In conjunction with the **nfolds** parameter, a user may specify the way in which observations are assigned to each fold with the **fold_assignment** parameter, which can be set to either:\n",
    "        * AUTO:  Perform random assignment\n",
    "        * Random: Each row has a equal (1/nfolds) chance of being in any fold.\n",
    "        * Modulo: Observations are in/out of the fold based by modding on nfolds"
   ]
  },
  {
   "cell_type": "code",
   "execution_count": 20,
   "metadata": {
    "collapsed": false
   },
   "outputs": [
    {
     "name": "stdout",
     "output_type": "stream",
     "text": [
      "\n",
      "drf Model Build Progress: [##################################################] 100%\n"
     ]
    }
   ],
   "source": [
    "model = H2ORandomForestEstimator(nfolds=10) # build a 10-fold cross-validated model\n",
    "model.train(x=x, y=y, training_frame=fr)"
   ]
  },
  {
   "cell_type": "code",
   "execution_count": 21,
   "metadata": {
    "collapsed": false
   },
   "outputs": [
    {
     "name": "stdout",
     "output_type": "stream",
     "text": [
      "Expected R^2: 0.87 +/- 0.01 \n",
      "\n",
      "Scores: [ 0.87  0.87  0.87  0.88  0.87  0.86  0.87  0.87  0.87  0.88]\n"
     ]
    }
   ],
   "source": [
    "scores = numpy.array([m.r2() for m in model.xvals]) # iterate over the xval models using the xvals attribute\n",
    "print \"Expected R^2: %.2f +/- %.2f \\n\" % (scores.mean(), scores.std()*1.96)\n",
    "print \"Scores:\", scores.round(2)"
   ]
  },
  {
   "cell_type": "markdown",
   "metadata": {},
   "source": [
    "However, you can still make use of the cross_val_score from Scikit-Learn"
   ]
  },
  {
   "cell_type": "markdown",
   "metadata": {},
   "source": [
    "### Cross validation: H2O and Scikit-Learn"
   ]
  },
  {
   "cell_type": "code",
   "execution_count": 22,
   "metadata": {
    "collapsed": false
   },
   "outputs": [],
   "source": [
    "from sklearn.cross_validation import cross_val_score\n",
    "from h2o.cross_validation import H2OKFold\n",
    "from h2o.model.regression import h2o_r2_score\n",
    "from sklearn.metrics.scorer import make_scorer"
   ]
  },
  {
   "cell_type": "markdown",
   "metadata": {},
   "source": [
    "You still must use H2O to make the folds. Currently, there is no H2OStratifiedKFold. Additionally, the H2ORandomForestEstimator is similar to the scikit-learn RandomForestRegressor object with its own ``train`` method."
   ]
  },
  {
   "cell_type": "code",
   "execution_count": 23,
   "metadata": {
    "collapsed": true
   },
   "outputs": [],
   "source": [
    "model = H2ORandomForestEstimator(seed=42)"
   ]
  },
  {
   "cell_type": "code",
   "execution_count": 24,
   "metadata": {
    "collapsed": false
   },
   "outputs": [
    {
     "name": "stdout",
     "output_type": "stream",
     "text": [
      "\n",
      "drf Model Build Progress: [##################################################] 100%\n",
      "\n",
      "drf Model Build Progress: [##################################################] 100%\n",
      "\n",
      "drf Model Build Progress: [##################################################] 100%\n",
      "\n",
      "drf Model Build Progress: [##################################################] 100%\n",
      "\n",
      "drf Model Build Progress: [##################################################] 100%\n",
      "\n",
      "drf Model Build Progress: [##################################################] 100%\n",
      "\n",
      "drf Model Build Progress: [##################################################] 100%\n",
      "\n",
      "drf Model Build Progress: [##################################################] 100%\n",
      "\n",
      "drf Model Build Progress: [##################################################] 100%\n",
      "\n",
      "drf Model Build Progress: [##################################################] 100%\n",
      "Expected R^2: 0.87 +/- 0.10 \n",
      "\n",
      "Scores: [ 0.83  0.86  0.87  0.95  0.79  0.78  0.89  0.92  0.91  0.91]\n"
     ]
    }
   ],
   "source": [
    "scorer = make_scorer(h2o_r2_score)   # make h2o_r2_score into a scikit_learn scorer\n",
    "custom_cv = H2OKFold(fr, n_folds=10, seed=42) # make a cv \n",
    "scores = cross_val_score(model, fr[x], fr[y], scoring=scorer, cv=custom_cv)\n",
    "\n",
    "print \"Expected R^2: %.2f +/- %.2f \\n\" % (scores.mean(), scores.std()*1.96)\n",
    "print \"Scores:\", scores.round(2)"
   ]
  },
  {
   "cell_type": "markdown",
   "metadata": {},
   "source": [
    "There isn't much difference in the R^2 value since the fold strategy is exactly the same. However, there was a major difference in terms of computation time and memory usage."
   ]
  },
  {
   "cell_type": "markdown",
   "metadata": {},
   "source": [
    "Since the progress bar print out gets annoying let's disable that"
   ]
  },
  {
   "cell_type": "code",
   "execution_count": 25,
   "metadata": {
    "collapsed": false
   },
   "outputs": [],
   "source": [
    "h2o.__PROGRESS_BAR__=False\n",
    "h2o.no_progress()"
   ]
  },
  {
   "cell_type": "markdown",
   "metadata": {},
   "source": [
    "### Grid Search"
   ]
  },
  {
   "cell_type": "markdown",
   "metadata": {},
   "source": [
    "Grid search in H2O is still under active development and it will be available very soon. However, it is possible to make use of Scikit's grid search infrastructure (with some performance penalties)"
   ]
  },
  {
   "cell_type": "markdown",
   "metadata": {},
   "source": [
    "### Randomized grid search: H2O and Scikit-Learn"
   ]
  },
  {
   "cell_type": "code",
   "execution_count": 26,
   "metadata": {
    "collapsed": false
   },
   "outputs": [
    {
     "name": "stdout",
     "output_type": "stream",
     "text": [
      "0.16.1\n"
     ]
    }
   ],
   "source": [
    "from sklearn import __version__\n",
    "sklearn_version = __version__\n",
    "print sklearn_version"
   ]
  },
  {
   "cell_type": "markdown",
   "metadata": {},
   "source": [
    "If you have 0.16.1, then your system can't handle complex randomized grid searches (it works in every other version of sklearn, including the soon to be released 0.16.2 and the older versions).\n",
    "\n",
    "The steps to perform a randomized grid search:\n",
    "1. Import model and RandomizedSearchCV\n",
    "2. Define model\n",
    "3. Specify parameters to test\n",
    "4. Define grid search object\n",
    "5. Fit data to grid search object\n",
    "6. Collect scores\n",
    "\n",
    "All the steps will be repeated from above.\n",
    "\n",
    "Because 0.16.1 is installed, we use scipy to define specific distributions"
   ]
  },
  {
   "cell_type": "markdown",
   "metadata": {},
   "source": [
    "ADVANCED TIP:\n",
    "\n",
    "Turn off reference counting for spawning jobs in parallel (n_jobs=-1, or n_jobs > 1).\n",
    "We'll turn it back on again in the aftermath of a Parallel job.\n",
    "\n",
    "If you don't want to run jobs in parallel, don't turn off the reference counting.\n",
    "\n",
    "Pattern is:\n",
    "         >>> h2o.turn_off_ref_cnts()\n",
    "         >>> .... parallel job ....\n",
    "         >>> h2o.turn_on_ref_cnts()"
   ]
  },
  {
   "cell_type": "code",
   "execution_count": 27,
   "metadata": {
    "collapsed": false
   },
   "outputs": [
    {
     "name": "stdout",
     "output_type": "stream",
     "text": [
      "Best R^2: 0.84110882468 \n",
      "\n",
      "Best params: {'mtries': 3, 'ntrees': 21, 'min_rows': 2, 'max_depth': 8}\n",
      "CPU times: user 40.1 s, sys: 3.78 s, total: 43.9 s\n",
      "Wall time: 1min 35s\n"
     ]
    }
   ],
   "source": [
    "%%time\n",
    "from sklearn.grid_search import RandomizedSearchCV  # Import grid search\n",
    "from scipy.stats import randint, uniform\n",
    "\n",
    "model = H2ORandomForestEstimator(seed=42)        # Define model\n",
    "\n",
    "params = {\"ntrees\": randint(20,50),\n",
    "          \"max_depth\": randint(1,10),\n",
    "          \"min_rows\": randint(1,10),    # scikit's  min_samples_leaf\n",
    "          \"mtries\": randint(2,fr[x].shape[1]),} # Specify parameters to test\n",
    "\n",
    "scorer = make_scorer(h2o_r2_score)   # make h2o_r2_score into a scikit_learn scorer\n",
    "custom_cv = H2OKFold(fr, n_folds=10, seed=42) # make a cv \n",
    "random_search = RandomizedSearchCV(model, params, \n",
    "                                   n_iter=30, \n",
    "                                   scoring=scorer, \n",
    "                                   cv=custom_cv, \n",
    "                                   random_state=42,\n",
    "                                   n_jobs=1)       # Define grid search object\n",
    "\n",
    "random_search.fit(fr[x], fr[y])\n",
    "\n",
    "print \"Best R^2:\", random_search.best_score_, \"\\n\"\n",
    "print \"Best params:\", random_search.best_params_"
   ]
  },
  {
   "cell_type": "markdown",
   "metadata": {},
   "source": [
    "We might be tempted to think that we just had a large improvement; however we must be cautious. The function below creates a more detailed report."
   ]
  },
  {
   "cell_type": "code",
   "execution_count": 28,
   "metadata": {
    "collapsed": true
   },
   "outputs": [],
   "source": [
    "def report_grid_score_detail(random_search, charts=True):\n",
    "    \"\"\"Input fit grid search estimator. Returns df of scores with details\"\"\"\n",
    "    df_list = []\n",
    "\n",
    "    for line in random_search.grid_scores_:\n",
    "        results_dict = dict(line.parameters)\n",
    "        results_dict[\"score\"] = line.mean_validation_score\n",
    "        results_dict[\"std\"] = line.cv_validation_scores.std()*1.96\n",
    "        df_list.append(results_dict)\n",
    "\n",
    "    result_df = pd.DataFrame(df_list)\n",
    "    result_df = result_df.sort(\"score\", ascending=False)\n",
    "    \n",
    "    if charts:\n",
    "        for col in get_numeric(result_df):\n",
    "            if col not in [\"score\", \"std\"]:\n",
    "                plt.scatter(result_df[col], result_df.score)\n",
    "                plt.title(col)\n",
    "                plt.show()\n",
    "\n",
    "        for col in list(result_df.columns[result_df.dtypes == \"object\"]):\n",
    "            cat_plot = result_df.score.groupby(result_df[col]).mean()\n",
    "            cat_plot.sort()\n",
    "            cat_plot.plot(kind=\"barh\", xlim=(.5, None), figsize=(7, cat_plot.shape[0]/2))\n",
    "            plt.show()\n",
    "    return result_df\n",
    "\n",
    "def get_numeric(X):\n",
    "    \"\"\"Return list of numeric dtypes variables\"\"\"\n",
    "    return X.dtypes[X.dtypes.apply(lambda x: str(x).startswith((\"float\", \"int\", \"bool\")))].index.tolist()"
   ]
  },
  {
   "cell_type": "code",
   "execution_count": 29,
   "metadata": {
    "collapsed": false,
    "scrolled": true
   },
   "outputs": [
    {
     "data": {
      "image/png": "[encoded data removed]",
      "text/plain": [
       "<matplotlib.figure.Figure at 0x11461f090>"
      ]
     },
     "metadata": {},
     "output_type": "display_data"
    },
    {
     "data": {
      "image/png": "[encoded data removed]",
      "text/plain": [
       "<matplotlib.figure.Figure at 0x113c3a8d0>"
      ]
     },
     "metadata": {},
     "output_type": "display_data"
    },
    {
     "data": {
      "image/png": "[encoded data removed]",
      "text/plain": [
       "<matplotlib.figure.Figure at 0x10e8aaa10>"
      ]
     },
     "metadata": {},
     "output_type": "display_data"
    },
    {
     "data": {
      "image/png": "[encoded data removed]",
      "text/plain": [
       "<matplotlib.figure.Figure at 0x11437c210>"
      ]
     },
     "metadata": {},
     "output_type": "display_data"
    },
    {
     "data": {
      "text/html": [
       "<div>\n",
       "<table border=\"1\" class=\"dataframe\">\n",
       "  <thead>\n",
       "    <tr style=\"text-align: right;\">\n",
       "      <th></th>\n",
       "      <th>max_depth</th>\n",
       "      <th>min_rows</th>\n",
       "      <th>mtries</th>\n",
       "      <th>ntrees</th>\n",
       "      <th>score</th>\n",
       "      <th>std</th>\n",
       "    </tr>\n",
       "  </thead>\n",
       "  <tbody>\n",
       "    <tr>\n",
       "      <th>13</th>\n",
       "      <td>8</td>\n",
       "      <td>2</td>\n",
       "      <td>3</td>\n",
       "      <td>21</td>\n",
       "      <td>0.841109</td>\n",
       "      <td>0.141148</td>\n",
       "    </tr>\n",
       "    <tr>\n",
       "      <th>23</th>\n",
       "      <td>9</td>\n",
       "      <td>4</td>\n",
       "      <td>4</td>\n",
       "      <td>31</td>\n",
       "      <td>0.835138</td>\n",
       "      <td>0.116733</td>\n",
       "    </tr>\n",
       "    <tr>\n",
       "      <th>1</th>\n",
       "      <td>7</td>\n",
       "      <td>4</td>\n",
       "      <td>4</td>\n",
       "      <td>46</td>\n",
       "      <td>0.833804</td>\n",
       "      <td>0.149032</td>\n",
       "    </tr>\n",
       "    <tr>\n",
       "      <th>14</th>\n",
       "      <td>7</td>\n",
       "      <td>2</td>\n",
       "      <td>9</td>\n",
       "      <td>35</td>\n",
       "      <td>0.829966</td>\n",
       "      <td>0.152863</td>\n",
       "    </tr>\n",
       "    <tr>\n",
       "      <th>27</th>\n",
       "      <td>6</td>\n",
       "      <td>3</td>\n",
       "      <td>4</td>\n",
       "      <td>47</td>\n",
       "      <td>0.822536</td>\n",
       "      <td>0.165389</td>\n",
       "    </tr>\n",
       "  </tbody>\n",
       "</table>\n",
       "</div>"
      ],
      "text/plain": [
       "    max_depth  min_rows  mtries  ntrees     score       std\n",
       "13          8         2       3      21  0.841109  0.141148\n",
       "23          9         4       4      31  0.835138  0.116733\n",
       "1           7         4       4      46  0.833804  0.149032\n",
       "14          7         2       9      35  0.829966  0.152863\n",
       "27          6         3       4      47  0.822536  0.165389"
      ]
     },
     "execution_count": 29,
     "metadata": {},
     "output_type": "execute_result"
    }
   ],
   "source": [
    "report_grid_score_detail(random_search).head()"
   ]
  },
  {
   "cell_type": "markdown",
   "metadata": {},
   "source": [
    "Based on the grid search report, we can narrow the parameters to search and rerun the analysis. The parameters below were chosen after a few runs:"
   ]
  },
  {
   "cell_type": "code",
   "execution_count": 30,
   "metadata": {
    "collapsed": false,
    "scrolled": true
   },
   "outputs": [
    {
     "name": "stdout",
     "output_type": "stream",
     "text": [
      "Best R^2: 0.858211324241 \n",
      "\n",
      "Best params: {'mtries': 8, 'ntrees': 33, 'max_depth': 9}\n"
     ]
    },
    {
     "data": {
      "image/png": "[encoded data removed]",
      "text/plain": [
       "<matplotlib.figure.Figure at 0x111b92490>"
      ]
     },
     "metadata": {},
     "output_type": "display_data"
    },
    {
     "data": {
      "image/png": "[encoded data removed]",
      "text/plain": [
       "<matplotlib.figure.Figure at 0x11437cc90>"
      ]
     },
     "metadata": {},
     "output_type": "display_data"
    },
    {
     "data": {
      "image/png": "[encoded data removed]",
      "text/plain": [
       "<matplotlib.figure.Figure at 0x11428c490>"
      ]
     },
     "metadata": {},
     "output_type": "display_data"
    },
    {
     "name": "stdout",
     "output_type": "stream",
     "text": [
      "CPU times: user 7.35 s, sys: 649 ms, total: 8 s\n",
      "Wall time: 17.6 s\n"
     ]
    }
   ],
   "source": [
    "%%time\n",
    "\n",
    "params = {\"ntrees\": randint(30,40),\n",
    "          \"max_depth\": randint(4,10),\n",
    "          \"mtries\": randint(4,10),}\n",
    "\n",
    "custom_cv = H2OKFold(fr, n_folds=5, seed=42)           # In small datasets, the fold size can have a big\n",
    "                                                       # impact on the std of the resulting scores. More\n",
    "random_search = RandomizedSearchCV(model, params,      # folds --> Less examples per fold --> higher \n",
    "                                   n_iter=10,          # variation per sample\n",
    "                                   scoring=scorer, \n",
    "                                   cv=custom_cv, \n",
    "                                   random_state=43, \n",
    "                                   n_jobs=1)       \n",
    "\n",
    "random_search.fit(fr[x], fr[y])\n",
    "\n",
    "print \"Best R^2:\", random_search.best_score_, \"\\n\"\n",
    "print \"Best params:\", random_search.best_params_\n",
    "\n",
    "report_grid_score_detail(random_search)"
   ]
  },
  {
   "cell_type": "markdown",
   "metadata": {},
   "source": [
    "### Transformations"
   ]
  },
  {
   "cell_type": "markdown",
   "metadata": {},
   "source": [
    "Rule of machine learning: Don't use your testing data to inform your training data. Unfortunately, this happens all the time when preparing a dataset for the final model. But on smaller datasets, you must be especially careful."
   ]
  },
  {
   "cell_type": "markdown",
   "metadata": {},
   "source": [
    "At the moment, there are no classes for managing data transformations. On the one hand, this requires the user to tote around some extra state, but on the other, it allows the user to be more explicit about transforming H2OFrames.\n",
    "\n",
    "Basic steps:\n",
    "\n",
    "0. Remove the response variable from transformations.\n",
    "1. Import transformer\n",
    "2. Define transformer\n",
    "3. Fit train data to transformer\n",
    "4. Transform test and train data\n",
    "5. Re-attach the response variable."
   ]
  },
  {
   "cell_type": "markdown",
   "metadata": {},
   "source": [
    "First let's normalize the data using the means and standard deviations of the training data.\n",
    "Then let's perform a principal component analysis on the training data and select the top 5 components.\n",
    "Using these components, let's use them to reduce the train and test design matrices."
   ]
  },
  {
   "cell_type": "code",
   "execution_count": 31,
   "metadata": {
    "collapsed": false
   },
   "outputs": [],
   "source": [
    "from h2o.transforms.preprocessing import H2OScaler\n",
    "from h2o.transforms.decomposition import H2OPCA"
   ]
  },
  {
   "cell_type": "markdown",
   "metadata": {},
   "source": [
    "#### Normalize Data: Use the means and standard deviations from the training data."
   ]
  },
  {
   "cell_type": "code",
   "execution_count": 32,
   "metadata": {
    "collapsed": true
   },
   "outputs": [],
   "source": [
    "y_train = train.pop(\"Median_value\")\n",
    "y_test  = test.pop(\"Median_value\")"
   ]
  },
  {
   "cell_type": "code",
   "execution_count": 33,
   "metadata": {
    "collapsed": true
   },
   "outputs": [],
   "source": [
    "norm = H2OScaler()\n",
    "norm.fit(train)\n",
    "X_train_norm = norm.transform(train)\n",
    "X_test_norm  = norm.transform(test)"
   ]
  },
  {
   "cell_type": "code",
   "execution_count": 34,
   "metadata": {
    "collapsed": false
   },
   "outputs": [
    {
     "name": "stdout",
     "output_type": "stream",
     "text": [
      "(122, 13)\n",
      "H2OFrame with 122 rows and 13 columns: \n"
     ]
    },
    {
     "data": {
      "text/html": [
       "<div>\n",
       "<table border=\"1\" class=\"dataframe\">\n",
       "  <thead>\n",
       "    <tr style=\"text-align: right;\">\n",
       "      <th></th>\n",
       "      <th>CRIM</th>\n",
       "      <th>ZN</th>\n",
       "      <th>B</th>\n",
       "      <th>LSTAT</th>\n",
       "      <th>AGE</th>\n",
       "      <th>TAX</th>\n",
       "      <th>RAD</th>\n",
       "      <th>CHAS</th>\n",
       "      <th>NOX</th>\n",
       "      <th>RM</th>\n",
       "      <th>INDUS</th>\n",
       "      <th>PTRATIO</th>\n",
       "      <th>DIS</th>\n",
       "    </tr>\n",
       "  </thead>\n",
       "  <tbody>\n",
       "    <tr>\n",
       "      <th>0</th>\n",
       "      <td>-24.736214</td>\n",
       "      <td>-246.063411</td>\n",
       "      <td>3478.064487</td>\n",
       "      <td>-52.441200</td>\n",
       "      <td>-413.735371</td>\n",
       "      <td>-30080.217069</td>\n",
       "      <td>-51.962844</td>\n",
       "      <td>-0.01489</td>\n",
       "      <td>-0.011189</td>\n",
       "      <td>0.630504</td>\n",
       "      <td>-63.773819</td>\n",
       "      <td>0.684709</td>\n",
       "      <td>4.823702</td>\n",
       "    </tr>\n",
       "    <tr>\n",
       "      <th>1</th>\n",
       "      <td>-23.659575</td>\n",
       "      <td>36.576994</td>\n",
       "      <td>2566.038932</td>\n",
       "      <td>126.336348</td>\n",
       "      <td>883.754751</td>\n",
       "      <td>-15288.430659</td>\n",
       "      <td>-34.909401</td>\n",
       "      <td>-0.01489</td>\n",
       "      <td>-0.003593</td>\n",
       "      <td>-0.476113</td>\n",
       "      <td>-23.687122</td>\n",
       "      <td>-7.112459</td>\n",
       "      <td>4.865433</td>\n",
       "    </tr>\n",
       "    <tr>\n",
       "      <th>2</th>\n",
       "      <td>-24.369586</td>\n",
       "      <td>36.576994</td>\n",
       "      <td>3478.064487</td>\n",
       "      <td>5.261797</td>\n",
       "      <td>399.320666</td>\n",
       "      <td>-15288.430659</td>\n",
       "      <td>-34.909401</td>\n",
       "      <td>-0.01489</td>\n",
       "      <td>-0.003593</td>\n",
       "      <td>-0.200189</td>\n",
       "      <td>-23.687122</td>\n",
       "      <td>-7.112459</td>\n",
       "      <td>5.168671</td>\n",
       "    </tr>\n",
       "    <tr>\n",
       "      <th>3</th>\n",
       "      <td>-24.548962</td>\n",
       "      <td>36.576994</td>\n",
       "      <td>2909.713605</td>\n",
       "      <td>22.994204</td>\n",
       "      <td>-844.343447</td>\n",
       "      <td>-15288.430659</td>\n",
       "      <td>-34.909401</td>\n",
       "      <td>-0.01489</td>\n",
       "      <td>-0.003593</td>\n",
       "      <td>-0.287784</td>\n",
       "      <td>-23.687122</td>\n",
       "      <td>-7.112459</td>\n",
       "      <td>3.541759</td>\n",
       "    </tr>\n",
       "    <tr>\n",
       "      <th>4</th>\n",
       "      <td>-20.490610</td>\n",
       "      <td>-246.063411</td>\n",
       "      <td>3478.064487</td>\n",
       "      <td>-31.147777</td>\n",
       "      <td>-198.431334</td>\n",
       "      <td>-15953.230048</td>\n",
       "      <td>-43.436123</td>\n",
       "      <td>-0.01489</td>\n",
       "      <td>-0.001981</td>\n",
       "      <td>-0.243987</td>\n",
       "      <td>-21.784942</td>\n",
       "      <td>5.808563</td>\n",
       "      <td>1.982793</td>\n",
       "    </tr>\n",
       "    <tr>\n",
       "      <th>5</th>\n",
       "      <td>-15.926989</td>\n",
       "      <td>-246.063411</td>\n",
       "      <td>3478.064487</td>\n",
       "      <td>44.869018</td>\n",
       "      <td>648.620078</td>\n",
       "      <td>-15953.230048</td>\n",
       "      <td>-43.436123</td>\n",
       "      <td>-0.01489</td>\n",
       "      <td>-0.001981</td>\n",
       "      <td>-0.103105</td>\n",
       "      <td>-21.784942</td>\n",
       "      <td>5.808563</td>\n",
       "      <td>0.450669</td>\n",
       "    </tr>\n",
       "    <tr>\n",
       "      <th>6</th>\n",
       "      <td>-19.578204</td>\n",
       "      <td>-246.063411</td>\n",
       "      <td>3249.836086</td>\n",
       "      <td>27.281958</td>\n",
       "      <td>716.610827</td>\n",
       "      <td>-15953.230048</td>\n",
       "      <td>-43.436123</td>\n",
       "      <td>-0.01489</td>\n",
       "      <td>-0.001981</td>\n",
       "      <td>-0.262235</td>\n",
       "      <td>-21.784942</td>\n",
       "      <td>5.808563</td>\n",
       "      <td>1.337103</td>\n",
       "    </tr>\n",
       "    <tr>\n",
       "      <th>7</th>\n",
       "      <td>-19.406096</td>\n",
       "      <td>-246.063411</td>\n",
       "      <td>2682.373253</td>\n",
       "      <td>1.846128</td>\n",
       "      <td>725.109671</td>\n",
       "      <td>-15953.230048</td>\n",
       "      <td>-43.436123</td>\n",
       "      <td>-0.01489</td>\n",
       "      <td>-0.001981</td>\n",
       "      <td>0.154571</td>\n",
       "      <td>-21.784942</td>\n",
       "      <td>5.808563</td>\n",
       "      <td>1.452652</td>\n",
       "    </tr>\n",
       "    <tr>\n",
       "      <th>8</th>\n",
       "      <td>-13.047041</td>\n",
       "      <td>-246.063411</td>\n",
       "      <td>-9717.444492</td>\n",
       "      <td>56.642174</td>\n",
       "      <td>795.933367</td>\n",
       "      <td>-15953.230048</td>\n",
       "      <td>-43.436123</td>\n",
       "      <td>-0.01489</td>\n",
       "      <td>-0.001981</td>\n",
       "      <td>-0.136683</td>\n",
       "      <td>-21.784942</td>\n",
       "      <td>5.808563</td>\n",
       "      <td>-0.004606</td>\n",
       "    </tr>\n",
       "    <tr>\n",
       "      <th>9</th>\n",
       "      <td>-23.933599</td>\n",
       "      <td>-246.063411</td>\n",
       "      <td>3169.911743</td>\n",
       "      <td>-17.557776</td>\n",
       "      <td>-1093.642859</td>\n",
       "      <td>-20606.825773</td>\n",
       "      <td>-34.909401</td>\n",
       "      <td>-0.01489</td>\n",
       "      <td>-0.006470</td>\n",
       "      <td>-0.231577</td>\n",
       "      <td>-37.143289</td>\n",
       "      <td>1.798590</td>\n",
       "      <td>0.178888</td>\n",
       "    </tr>\n",
       "  </tbody>\n",
       "</table>\n",
       "</div>"
      ],
      "text/plain": [
       "        CRIM          ZN            B       LSTAT          AGE           TAX  \\\n",
       "0 -24.736214 -246.063411  3478.064487  -52.441200  -413.735371 -30080.217069   \n",
       "1 -23.659575   36.576994  2566.038932  126.336348   883.754751 -15288.430659   \n",
       "2 -24.369586   36.576994  3478.064487    5.261797   399.320666 -15288.430659   \n",
       "3 -24.548962   36.576994  2909.713605   22.994204  -844.343447 -15288.430659   \n",
       "4 -20.490610 -246.063411  3478.064487  -31.147777  -198.431334 -15953.230048   \n",
       "5 -15.926989 -246.063411  3478.064487   44.869018   648.620078 -15953.230048   \n",
       "6 -19.578204 -246.063411  3249.836086   27.281958   716.610827 -15953.230048   \n",
       "7 -19.406096 -246.063411  2682.373253    1.846128   725.109671 -15953.230048   \n",
       "8 -13.047041 -246.063411 -9717.444492   56.642174   795.933367 -15953.230048   \n",
       "9 -23.933599 -246.063411  3169.911743  -17.557776 -1093.642859 -20606.825773   \n",
       "\n",
       "         RAD     CHAS       NOX        RM      INDUS   PTRATIO       DIS  \n",
       "0 -51.962844 -0.01489 -0.011189  0.630504 -63.773819  0.684709  4.823702  \n",
       "1 -34.909401 -0.01489 -0.003593 -0.476113 -23.687122 -7.112459  4.865433  \n",
       "2 -34.909401 -0.01489 -0.003593 -0.200189 -23.687122 -7.112459  5.168671  \n",
       "3 -34.909401 -0.01489 -0.003593 -0.287784 -23.687122 -7.112459  3.541759  \n",
       "4 -43.436123 -0.01489 -0.001981 -0.243987 -21.784942  5.808563  1.982793  \n",
       "5 -43.436123 -0.01489 -0.001981 -0.103105 -21.784942  5.808563  0.450669  \n",
       "6 -43.436123 -0.01489 -0.001981 -0.262235 -21.784942  5.808563  1.337103  \n",
       "7 -43.436123 -0.01489 -0.001981  0.154571 -21.784942  5.808563  1.452652  \n",
       "8 -43.436123 -0.01489 -0.001981 -0.136683 -21.784942  5.808563 -0.004606  \n",
       "9 -34.909401 -0.01489 -0.006470 -0.231577 -37.143289  1.798590  0.178888  "
      ]
     },
     "metadata": {},
     "output_type": "display_data"
    },
    {
     "data": {
      "text/plain": []
     },
     "execution_count": 34,
     "metadata": {},
     "output_type": "execute_result"
    }
   ],
   "source": [
    "print X_test_norm.shape\n",
    "X_test_norm"
   ]
  },
  {
   "cell_type": "markdown",
   "metadata": {},
   "source": [
    "Then, we can apply PCA and keep the top 5 components. A user warning is expected here."
   ]
  },
  {
   "cell_type": "code",
   "execution_count": 54,
   "metadata": {
    "collapsed": false
   },
   "outputs": [],
   "source": [
    "pca = H2OPCA(k=5)\n",
    "pca.fit(X_train_norm)\n",
    "X_train_norm_pca = pca.transform(X_train_norm)\n",
    "X_test_norm_pca  = pca.transform(X_test_norm)"
   ]
  },
  {
   "cell_type": "code",
   "execution_count": 55,
   "metadata": {
    "collapsed": true
   },
   "outputs": [],
   "source": [
    "# prop of variance explained by top 5 components?"
   ]
  },
  {
   "cell_type": "code",
   "execution_count": 56,
   "metadata": {
    "collapsed": false,
    "scrolled": true
   },
   "outputs": [
    {
     "name": "stdout",
     "output_type": "stream",
     "text": [
      "(122, 5)\n",
      "H2OFrame with 122 rows and 5 columns: \n"
     ]
    },
    {
     "data": {
      "text/html": [
       "<div>\n",
       "<table border=\"1\" class=\"dataframe\">\n",
       "  <thead>\n",
       "    <tr style=\"text-align: right;\">\n",
       "      <th></th>\n",
       "      <th>PC1</th>\n",
       "      <th>PC2</th>\n",
       "      <th>PC3</th>\n",
       "      <th>PC4</th>\n",
       "      <th>PC5</th>\n",
       "    </tr>\n",
       "  </thead>\n",
       "  <tbody>\n",
       "    <tr>\n",
       "      <th>0</th>\n",
       "      <td>-30275.268227</td>\n",
       "      <td>-625.603879</td>\n",
       "      <td>190.440193</td>\n",
       "      <td>369.210711</td>\n",
       "      <td>12.389230</td>\n",
       "    </tr>\n",
       "    <tr>\n",
       "      <th>1</th>\n",
       "      <td>-15481.014400</td>\n",
       "      <td>465.946145</td>\n",
       "      <td>1014.829847</td>\n",
       "      <td>-446.059456</td>\n",
       "      <td>38.351308</td>\n",
       "    </tr>\n",
       "    <tr>\n",
       "      <th>2</th>\n",
       "      <td>-15611.350493</td>\n",
       "      <td>1372.839872</td>\n",
       "      <td>586.131836</td>\n",
       "      <td>-231.060297</td>\n",
       "      <td>-0.387572</td>\n",
       "    </tr>\n",
       "    <tr>\n",
       "      <th>3</th>\n",
       "      <td>-15551.885105</td>\n",
       "      <td>817.877766</td>\n",
       "      <td>-530.932422</td>\n",
       "      <td>323.576391</td>\n",
       "      <td>21.281381</td>\n",
       "    </tr>\n",
       "    <tr>\n",
       "      <th>4</th>\n",
       "      <td>-16276.796219</td>\n",
       "      <td>1286.235678</td>\n",
       "      <td>185.614799</td>\n",
       "      <td>287.705163</td>\n",
       "      <td>-4.813496</td>\n",
       "    </tr>\n",
       "    <tr>\n",
       "      <th>5</th>\n",
       "      <td>-16264.821892</td>\n",
       "      <td>1280.602054</td>\n",
       "      <td>945.464828</td>\n",
       "      <td>-89.920838</td>\n",
       "      <td>17.023511</td>\n",
       "    </tr>\n",
       "    <tr>\n",
       "      <th>6</th>\n",
       "      <td>-16233.006802</td>\n",
       "      <td>1054.058236</td>\n",
       "      <td>1003.812227</td>\n",
       "      <td>-119.775113</td>\n",
       "      <td>5.928040</td>\n",
       "    </tr>\n",
       "    <tr>\n",
       "      <th>7</th>\n",
       "      <td>-16156.125715</td>\n",
       "      <td>491.806467</td>\n",
       "      <td>1005.791501</td>\n",
       "      <td>-122.633986</td>\n",
       "      <td>-4.737604</td>\n",
       "    </tr>\n",
       "    <tr>\n",
       "      <th>8</th>\n",
       "      <td>-14477.165840</td>\n",
       "      <td>-11793.980470</td>\n",
       "      <td>962.696650</td>\n",
       "      <td>-136.697963</td>\n",
       "      <td>-1.805725</td>\n",
       "    </tr>\n",
       "    <tr>\n",
       "      <th>9</th>\n",
       "      <td>-20857.888689</td>\n",
       "      <td>356.531393</td>\n",
       "      <td>-552.379748</td>\n",
       "      <td>682.064306</td>\n",
       "      <td>21.077590</td>\n",
       "    </tr>\n",
       "  </tbody>\n",
       "</table>\n",
       "</div>"
      ],
      "text/plain": [
       "            PC1           PC2          PC3         PC4        PC5\n",
       "0 -30275.268227   -625.603879   190.440193  369.210711  12.389230\n",
       "1 -15481.014400    465.946145  1014.829847 -446.059456  38.351308\n",
       "2 -15611.350493   1372.839872   586.131836 -231.060297  -0.387572\n",
       "3 -15551.885105    817.877766  -530.932422  323.576391  21.281381\n",
       "4 -16276.796219   1286.235678   185.614799  287.705163  -4.813496\n",
       "5 -16264.821892   1280.602054   945.464828  -89.920838  17.023511\n",
       "6 -16233.006802   1054.058236  1003.812227 -119.775113   5.928040\n",
       "7 -16156.125715    491.806467  1005.791501 -122.633986  -4.737604\n",
       "8 -14477.165840 -11793.980470   962.696650 -136.697963  -1.805725\n",
       "9 -20857.888689    356.531393  -552.379748  682.064306  21.077590"
      ]
     },
     "metadata": {},
     "output_type": "display_data"
    },
    {
     "data": {
      "text/plain": []
     },
     "execution_count": 56,
     "metadata": {},
     "output_type": "execute_result"
    }
   ],
   "source": [
    "print X_test_norm_pca.shape\n",
    "X_test_norm_pca[:5]"
   ]
  },
  {
   "cell_type": "code",
   "execution_count": 57,
   "metadata": {
    "collapsed": false,
    "scrolled": true
   },
   "outputs": [],
   "source": [
    "model = H2ORandomForestEstimator(seed=42)\n",
    "model.train(x=X_train_norm_pca.names, y=y_train.names, training_frame=X_train_norm_pca.cbind(y_train))\n",
    "y_hat  = model.predict(X_test_norm_pca)"
   ]
  },
  {
   "cell_type": "code",
   "execution_count": 58,
   "metadata": {
    "collapsed": false
   },
   "outputs": [
    {
     "data": {
      "text/plain": [
       "0.5344823408872756"
      ]
     },
     "execution_count": 58,
     "metadata": {},
     "output_type": "execute_result"
    }
   ],
   "source": [
    "h2o_r2_score(y_test,y_hat)"
   ]
  },
  {
   "cell_type": "markdown",
   "metadata": {},
   "source": [
    "Although this is MUCH simpler than keeping track of all of these transformations manually, it gets to be somewhat of a burden when you want to chain together multiple transformers."
   ]
  },
  {
   "cell_type": "markdown",
   "metadata": {},
   "source": [
    "### Pipelines"
   ]
  },
  {
   "cell_type": "markdown",
   "metadata": {},
   "source": [
    "\"Tranformers unite!\"\n",
    "\n",
    "If your raw data is a mess and you have to perform several transformations before using it, use a pipeline to keep things simple.\n",
    "\n",
    "Steps:\n",
    "\n",
    "1. Import Pipeline, transformers, and model\n",
    "2. Define pipeline. The first and only argument is a *list* of *tuples* where the first element of each tuple is a name you give the step and the second element is a defined transformer. The last step is optionally an estimator class (like a RandomForest).\n",
    "3. Fit the training data to pipeline\n",
    "4. Either transform or predict the testing data"
   ]
  },
  {
   "cell_type": "code",
   "execution_count": 59,
   "metadata": {
    "collapsed": true
   },
   "outputs": [],
   "source": [
    "from h2o.transforms.preprocessing import H2OScaler\n",
    "from h2o.transforms.decomposition import H2OPCA"
   ]
  },
  {
   "cell_type": "code",
   "execution_count": 60,
   "metadata": {
    "collapsed": false
   },
   "outputs": [
    {
     "data": {
      "text/plain": [
       "0.5091520528378605"
      ]
     },
     "execution_count": 60,
     "metadata": {},
     "output_type": "execute_result"
    }
   ],
   "source": [
    "from sklearn.pipeline import Pipeline                # Import Pipeline <other imports not shown>\n",
    "model = H2ORandomForestEstimator(seed=42)\n",
    "pipe = Pipeline([(\"standardize\", H2OScaler()),       # Define pipeline as a series of steps\n",
    "                 (\"pca\", H2OPCA(k=5)),\n",
    "                 (\"rf\", model)])                     # Notice the last step is an estimator\n",
    "\n",
    "pipe.fit(train, y_train)                             # Fit training data\n",
    "y_hat = pipe.predict(test)                           # Predict testing data (due to last step being an estimator)\n",
    "h2o_r2_score(y_test, y_hat)                          # Notice the final score is identical to before"
   ]
  },
  {
   "cell_type": "markdown",
   "metadata": {
    "collapsed": true
   },
   "source": [
    "This is so much easier!!!"
   ]
  },
  {
   "cell_type": "markdown",
   "metadata": {},
   "source": [
    "But, wait a second, we did worse after applying these transformations! We might wonder how different hyperparameters for the transformations impact the final score."
   ]
  },
  {
   "cell_type": "markdown",
   "metadata": {},
   "source": [
    "### Combining randomized grid search and pipelines\n",
    "\"Yo dawg, I heard you like models, so I put models in your models to model models.\"\n",
    "\n",
    "Steps:\n",
    "\n",
    "1. Import Pipeline, grid search, transformers, and estimators <Not shown below>\n",
    "2. Define pipeline\n",
    "3. Define parameters to test in the form: \"(Step name)__(argument name)\" A double underscore separates the two words.\n",
    "4. Define grid search\n",
    "5. Fit to grid search"
   ]
  },
  {
   "cell_type": "code",
   "execution_count": 61,
   "metadata": {
    "collapsed": false,
    "scrolled": true
   },
   "outputs": [
    {
     "data": {
      "image/png": "[encoded data removed]",
      "text/plain": [
       "<matplotlib.figure.Figure at 0x11434d150>"
      ]
     },
     "metadata": {},
     "output_type": "display_data"
    },
    {
     "data": {
      "image/png": "[encoded data removed]",
      "text/plain": [
       "<matplotlib.figure.Figure at 0x114a66590>"
      ]
     },
     "metadata": {},
     "output_type": "display_data"
    },
    {
     "data": {
      "image/png": "[encoded data removed]",
      "text/plain": [
       "<matplotlib.figure.Figure at 0x10fb8a5d0>"
      ]
     },
     "metadata": {},
     "output_type": "display_data"
    },
    {
     "data": {
      "image/png": "[encoded data removed]",
      "text/plain": [
       "<matplotlib.figure.Figure at 0x11431c390>"
      ]
     },
     "metadata": {},
     "output_type": "display_data"
    },
    {
     "data": {
      "image/png": "[encoded data removed]",
      "text/plain": [
       "<matplotlib.figure.Figure at 0x11427f410>"
      ]
     },
     "metadata": {},
     "output_type": "display_data"
    },
    {
     "data": {
      "image/png": "[encoded data removed]",
      "text/plain": [
       "<matplotlib.figure.Figure at 0x11431c150>"
      ]
     },
     "metadata": {},
     "output_type": "display_data"
    },
    {
     "data": {
      "text/html": [
       "<div>\n",
       "<table border=\"1\" class=\"dataframe\">\n",
       "  <thead>\n",
       "    <tr style=\"text-align: right;\">\n",
       "      <th></th>\n",
       "      <th>pca__k</th>\n",
       "      <th>rf__max_depth</th>\n",
       "      <th>rf__min_rows</th>\n",
       "      <th>rf__ntrees</th>\n",
       "      <th>score</th>\n",
       "      <th>standardize__center</th>\n",
       "      <th>standardize__scale</th>\n",
       "      <th>std</th>\n",
       "    </tr>\n",
       "  </thead>\n",
       "  <tbody>\n",
       "    <tr>\n",
       "      <th>0</th>\n",
       "      <td>5</td>\n",
       "      <td>8</td>\n",
       "      <td>5</td>\n",
       "      <td>79</td>\n",
       "      <td>0.373792</td>\n",
       "      <td>True</td>\n",
       "      <td>False</td>\n",
       "      <td>0.109543</td>\n",
       "    </tr>\n",
       "    <tr>\n",
       "      <th>9</th>\n",
       "      <td>5</td>\n",
       "      <td>6</td>\n",
       "      <td>5</td>\n",
       "      <td>69</td>\n",
       "      <td>0.367386</td>\n",
       "      <td>False</td>\n",
       "      <td>True</td>\n",
       "      <td>0.092738</td>\n",
       "    </tr>\n",
       "    <tr>\n",
       "      <th>12</th>\n",
       "      <td>5</td>\n",
       "      <td>7</td>\n",
       "      <td>6</td>\n",
       "      <td>74</td>\n",
       "      <td>0.364720</td>\n",
       "      <td>False</td>\n",
       "      <td>False</td>\n",
       "      <td>0.089120</td>\n",
       "    </tr>\n",
       "    <tr>\n",
       "      <th>21</th>\n",
       "      <td>3</td>\n",
       "      <td>6</td>\n",
       "      <td>5</td>\n",
       "      <td>61</td>\n",
       "      <td>0.341235</td>\n",
       "      <td>False</td>\n",
       "      <td>False</td>\n",
       "      <td>0.095376</td>\n",
       "    </tr>\n",
       "    <tr>\n",
       "      <th>23</th>\n",
       "      <td>3</td>\n",
       "      <td>6</td>\n",
       "      <td>9</td>\n",
       "      <td>65</td>\n",
       "      <td>0.332632</td>\n",
       "      <td>False</td>\n",
       "      <td>True</td>\n",
       "      <td>0.106529</td>\n",
       "    </tr>\n",
       "  </tbody>\n",
       "</table>\n",
       "</div>"
      ],
      "text/plain": [
       "    pca__k  rf__max_depth  rf__min_rows  rf__ntrees     score  \\\n",
       "0        5              8             5          79  0.373792   \n",
       "9        5              6             5          69  0.367386   \n",
       "12       5              7             6          74  0.364720   \n",
       "21       3              6             5          61  0.341235   \n",
       "23       3              6             9          65  0.332632   \n",
       "\n",
       "   standardize__center standardize__scale       std  \n",
       "0                 True              False  0.109543  \n",
       "9                False               True  0.092738  \n",
       "12               False              False  0.089120  \n",
       "21               False              False  0.095376  \n",
       "23               False               True  0.106529  "
      ]
     },
     "execution_count": 61,
     "metadata": {},
     "output_type": "execute_result"
    }
   ],
   "source": [
    "pipe = Pipeline([(\"standardize\", H2OScaler()),\n",
    "                 (\"pca\", H2OPCA()),\n",
    "                 (\"rf\", H2ORandomForestEstimator(seed=42))])\n",
    "\n",
    "params = {\"standardize__center\":    [True, False],           # Parameters to test\n",
    "          \"standardize__scale\":     [True, False],\n",
    "          \"pca__k\":                 randint(2, 6),\n",
    "          \"rf__ntrees\":             randint(50,80),\n",
    "          \"rf__max_depth\":          randint(4,10),\n",
    "          \"rf__min_rows\":           randint(5,10), }\n",
    "#           \"rf__mtries\":             randint(1,4),}           # gridding over mtries is \n",
    "                                                               # problematic with pca grid over \n",
    "                                                               # k above \n",
    "\n",
    "from sklearn.grid_search import RandomizedSearchCV\n",
    "from h2o.cross_validation import H2OKFold\n",
    "from h2o.model.regression import h2o_r2_score\n",
    "from sklearn.metrics.scorer import make_scorer\n",
    "\n",
    "custom_cv = H2OKFold(fr, n_folds=5, seed=42)\n",
    "random_search = RandomizedSearchCV(pipe, params,\n",
    "                                   n_iter=30,\n",
    "                                   scoring=make_scorer(h2o_r2_score),\n",
    "                                   cv=custom_cv,\n",
    "                                   random_state=42,\n",
    "                                   n_jobs=1)\n",
    "\n",
    "\n",
    "random_search.fit(fr[x],fr[y])\n",
    "results = report_grid_score_detail(random_search)\n",
    "results.head()"
   ]
  },
  {
   "cell_type": "markdown",
   "metadata": {},
   "source": [
    "Currently Under Development (drop-in scikit-learn pieces):\n",
    "    * Richer set of transforms (only PCA and Scale are implemented)\n",
    "    * Richer set of estimators (only RandomForest is available)\n",
    "    * Full H2O Grid Search"
   ]
  },
  {
   "cell_type": "markdown",
   "metadata": {},
   "source": [
    "### Other Tips: Model Save/Load"
   ]
  },
  {
   "cell_type": "markdown",
   "metadata": {},
   "source": [
    "It is useful to save constructed models to disk and reload them between H2O sessions. Here's how:"
   ]
  },
  {
   "cell_type": "code",
   "execution_count": 62,
   "metadata": {
    "collapsed": false
   },
   "outputs": [],
   "source": [
    "best_estimator = random_search.best_estimator_                        # fetch the pipeline from the grid search\n",
    "h2o_model      = h2o.get_model(best_estimator._final_estimator._id)    # fetch the model from the pipeline"
   ]
  },
  {
   "cell_type": "code",
   "execution_count": 63,
   "metadata": {
    "collapsed": false
   },
   "outputs": [
    {
     "name": "stdout",
     "output_type": "stream",
     "text": [
      "/Users/ludirehak/h2o-3/DRF_model_python_1445557087082_2736\n"
     ]
    }
   ],
   "source": [
    "save_path = h2o.save_model(h2o_model, path=\".\", force=True)\n",
    "print save_path"
   ]
  },
  {
   "cell_type": "code",
   "execution_count": 64,
   "metadata": {
    "collapsed": false
   },
   "outputs": [],
   "source": [
    "# assumes new session\n",
    "my_model = h2o.load_model(path=save_path)"
   ]
  },
  {
   "cell_type": "code",
   "execution_count": 65,
   "metadata": {
    "collapsed": false,
    "scrolled": false
   },
   "outputs": [
    {
     "name": "stdout",
     "output_type": "stream",
     "text": [
      "H2OFrame with 462 rows and 1 columns: \n"
     ]
    },
    {
     "data": {
      "text/html": [
       "<div>\n",
       "<table border=\"1\" class=\"dataframe\">\n",
       "  <thead>\n",
       "    <tr style=\"text-align: right;\">\n",
       "      <th></th>\n",
       "      <th>predict</th>\n",
       "    </tr>\n",
       "  </thead>\n",
       "  <tbody>\n",
       "    <tr>\n",
       "      <th>0</th>\n",
       "      <td>29.843769</td>\n",
       "    </tr>\n",
       "    <tr>\n",
       "      <th>1</th>\n",
       "      <td>29.843769</td>\n",
       "    </tr>\n",
       "    <tr>\n",
       "      <th>2</th>\n",
       "      <td>29.843769</td>\n",
       "    </tr>\n",
       "    <tr>\n",
       "      <th>3</th>\n",
       "      <td>29.843769</td>\n",
       "    </tr>\n",
       "    <tr>\n",
       "      <th>4</th>\n",
       "      <td>29.843769</td>\n",
       "    </tr>\n",
       "    <tr>\n",
       "      <th>5</th>\n",
       "      <td>29.843769</td>\n",
       "    </tr>\n",
       "    <tr>\n",
       "      <th>6</th>\n",
       "      <td>29.843769</td>\n",
       "    </tr>\n",
       "    <tr>\n",
       "      <th>7</th>\n",
       "      <td>29.843769</td>\n",
       "    </tr>\n",
       "    <tr>\n",
       "      <th>8</th>\n",
       "      <td>29.843769</td>\n",
       "    </tr>\n",
       "    <tr>\n",
       "      <th>9</th>\n",
       "      <td>29.843769</td>\n",
       "    </tr>\n",
       "  </tbody>\n",
       "</table>\n",
       "</div>"
      ],
      "text/plain": [
       "     predict\n",
       "0  29.843769\n",
       "1  29.843769\n",
       "2  29.843769\n",
       "3  29.843769\n",
       "4  29.843769\n",
       "5  29.843769\n",
       "6  29.843769\n",
       "7  29.843769\n",
       "8  29.843769\n",
       "9  29.843769"
      ]
     },
     "metadata": {},
     "output_type": "display_data"
    },
    {
     "data": {
      "text/plain": []
     },
     "execution_count": 65,
     "metadata": {},
     "output_type": "execute_result"
    }
   ],
   "source": [
    "my_model.predict(fr)"
   ]
  },
  {
   "cell_type": "code",
   "execution_count": null,
   "metadata": {
    "collapsed": true
   },
   "outputs": [],
   "source": []
  }
 ],
 "metadata": {
  "kernelspec": {
   "display_name": "Python 2",
   "language": "python",
   "name": "python2"
  },
  "language_info": {
   "codemirror_mode": {
    "name": "ipython",
    "version": 2
   },
   "file_extension": ".py",
   "mimetype": "text/x-python",
   "name": "python",
   "nbconvert_exporter": "python",
   "pygments_lexer": "ipython2",
   "version": "2.7.5"
  }
 },
 "nbformat": 4,
 "nbformat_minor": 0
}
