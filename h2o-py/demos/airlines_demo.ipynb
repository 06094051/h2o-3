{
 "cells": [
  {
   "cell_type": "code",
   "execution_count": 66,
   "metadata": {
    "collapsed": false
   },
   "outputs": [],
   "source": [
    "import h2o\n",
    "import pandas\n",
    "import matplotlib.pyplot as plt"
   ]
  },
  {
   "cell_type": "code",
   "execution_count": 67,
   "metadata": {
    "collapsed": false
   },
   "outputs": [
    {
     "name": "stdout",
     "output_type": "stream",
     "text": [
      "Warning: Version mismatch. H2O is version 3.1.0.99999, but the python package is version 3.0.0.2.\n"
     ]
    },
    {
     "data": {
      "text/html": [
       "<div style=\"overflow:auto\"><table style=\"width:50%\"><tr><td>H2O cluster uptime: </td>\n",
       "<td>5 seconds 520 milliseconds </td></tr>\n",
       "<tr><td>H2O cluster version: </td>\n",
       "<td>3.1.0.99999</td></tr>\n",
       "<tr><td>H2O cluster name: </td>\n",
       "<td>anqi_fu</td></tr>\n",
       "<tr><td>H2O cluster total nodes: </td>\n",
       "<td>1</td></tr>\n",
       "<tr><td>H2O cluster total memory: </td>\n",
       "<td>3.56 GB</td></tr>\n",
       "<tr><td>H2O cluster total cores: </td>\n",
       "<td>8</td></tr>\n",
       "<tr><td>H2O cluster allowed cores: </td>\n",
       "<td>8</td></tr>\n",
       "<tr><td>H2O cluster healthy: </td>\n",
       "<td>True</td></tr>\n",
       "<tr><td>H2O Connection ip: </td>\n",
       "<td>127.0.0.1</td></tr>\n",
       "<tr><td>H2O Connection port: </td>\n",
       "<td>54321</td></tr></table></div>"
      ],
      "text/plain": [
       "--------------------------  --------------------------\n",
       "H2O cluster uptime:         5 seconds 520 milliseconds\n",
       "H2O cluster version:        3.1.0.99999\n",
       "H2O cluster name:           anqi_fu\n",
       "H2O cluster total nodes:    1\n",
       "H2O cluster total memory:   3.56 GB\n",
       "H2O cluster total cores:    8\n",
       "H2O cluster allowed cores:  8\n",
       "H2O cluster healthy:        True\n",
       "H2O Connection ip:          127.0.0.1\n",
       "H2O Connection port:        54321\n",
       "--------------------------  --------------------------"
      ]
     },
     "metadata": {},
     "output_type": "display_data"
    }
   ],
   "source": [
    "# Connect to a cluster\n",
    "h2o.init()"
   ]
  },
  {
   "cell_type": "code",
   "execution_count": 69,
   "metadata": {
    "collapsed": false
   },
   "outputs": [
    {
     "name": "stdout",
     "output_type": "stream",
     "text": [
      "Import and Parse airlines data\n",
      "\n",
      "Parse Progress: [##################################################] 100%\n",
      "\n",
      "Parsed 43,978 rows and 31 cols:\n",
      "\n"
     ]
    },
    {
     "data": {
      "text/html": [
       "<div style=\"overflow:auto\"><table style=\"width:50%\"><tr><td>File1</td>\n",
       "<td>/Users/anqi_fu/Documents/workspace/h2o-dev/smalldata/airlines/allyears2k_headers.csv</td></tr></table></div>"
      ],
      "text/plain": [
       "-----  ------------------------------------------------------------------------------------\n",
       "File1  /Users/anqi_fu/Documents/workspace/h2o-dev/smalldata/airlines/allyears2k_headers.csv\n",
       "-----  ------------------------------------------------------------------------------------"
      ]
     },
     "metadata": {},
     "output_type": "display_data"
    },
    {
     "name": "stdout",
     "output_type": "stream",
     "text": [
      "Rows: 43,978 Cols: 31\n",
      "\n",
      "Chunk compression summary:\n",
      "\n"
     ]
    },
    {
     "data": {
      "text/html": [
       "<div style=\"overflow:auto\"><table style=\"width:50%\"><tr><td>chunk_type</td>\n",
       "<td>chunk_name</td>\n",
       "<td>count</td>\n",
       "<td>count_percentage</td>\n",
       "<td>size</td>\n",
       "<td>size_percentage</td></tr>\n",
       "<tr><td>C0L</td>\n",
       "<td>Constant Integers</td>\n",
       "<td>116</td>\n",
       "<td>11.0056925</td>\n",
       "<td>    9.1 KB</td>\n",
       "<td>0.65225154</td></tr>\n",
       "<tr><td>C0D</td>\n",
       "<td>Constant Reals</td>\n",
       "<td>171</td>\n",
       "<td>16.22391</td>\n",
       "<td>   13.4 KB</td>\n",
       "<td>0.9615087</td></tr>\n",
       "<tr><td>CBS</td>\n",
       "<td>Bits</td>\n",
       "<td>10</td>\n",
       "<td>0.94876665</td>\n",
       "<td>    2.2 KB</td>\n",
       "<td>0.1600406</td></tr>\n",
       "<tr><td>CX0</td>\n",
       "<td>Sparse Bits</td>\n",
       "<td>53</td>\n",
       "<td>5.0284634</td>\n",
       "<td>    5.0 KB</td>\n",
       "<td>0.35733265</td></tr>\n",
       "<tr><td>CXI</td>\n",
       "<td>Sparse Integers</td>\n",
       "<td>6</td>\n",
       "<td>0.56926</td>\n",
       "<td>    752  B</td>\n",
       "<td>0.052854866</td></tr>\n",
       "<tr><td>C1</td>\n",
       "<td>1-Byte Integers</td>\n",
       "<td>174</td>\n",
       "<td>16.50854</td>\n",
       "<td>  237.4 KB</td>\n",
       "<td>17.087515</td></tr>\n",
       "<tr><td>C1N</td>\n",
       "<td>1-Byte Integers (w/o NAs)</td>\n",
       "<td>131</td>\n",
       "<td>12.428843</td>\n",
       "<td>  172.1 KB</td>\n",
       "<td>12.389265</td></tr>\n",
       "<tr><td>C1S</td>\n",
       "<td>1-Byte Fractions</td>\n",
       "<td>63</td>\n",
       "<td>5.9772296</td>\n",
       "<td>   83.7 KB</td>\n",
       "<td>6.02686</td></tr>\n",
       "<tr><td>C2</td>\n",
       "<td>2-Byte Integers</td>\n",
       "<td>330</td>\n",
       "<td>31.309298</td>\n",
       "<td>  865.8 KB</td>\n",
       "<td>62.31237</td></tr></table></div>"
      ],
      "text/plain": [
       "chunk_type    chunk_name                 count    count_percentage    size      size_percentage\n",
       "------------  -------------------------  -------  ------------------  --------  -----------------\n",
       "C0L           Constant Integers          116      11.0057             9.1 KB    0.652252\n",
       "C0D           Constant Reals             171      16.2239             13.4 KB   0.961509\n",
       "CBS           Bits                       10       0.948767            2.2 KB    0.160041\n",
       "CX0           Sparse Bits                53       5.02846             5.0 KB    0.357333\n",
       "CXI           Sparse Integers            6        0.56926             752  B    0.0528549\n",
       "C1            1-Byte Integers            174      16.5085             237.4 KB  17.0875\n",
       "C1N           1-Byte Integers (w/o NAs)  131      12.4288             172.1 KB  12.3893\n",
       "C1S           1-Byte Fractions           63       5.97723             83.7 KB   6.02686\n",
       "C2            2-Byte Integers            330      31.3093             865.8 KB  62.3124"
      ]
     },
     "metadata": {},
     "output_type": "display_data"
    },
    {
     "name": "stdout",
     "output_type": "stream",
     "text": [
      "\n",
      "Frame distribution summary:\n",
      "\n"
     ]
    },
    {
     "data": {
      "text/html": [
       "<div style=\"overflow:auto\"><table style=\"width:50%\"><tr><td></td>\n",
       "<td>size</td>\n",
       "<td>number_of_rows</td>\n",
       "<td>number_of_chunks_per_column</td>\n",
       "<td>number_of_chunks</td></tr>\n",
       "<tr><td>172.16.2.16:54321</td>\n",
       "<td>    1.4 MB</td>\n",
       "<td>43978.0</td>\n",
       "<td>34.0</td>\n",
       "<td>1054.0</td></tr>\n",
       "<tr><td>mean</td>\n",
       "<td>    1.4 MB</td>\n",
       "<td>43978.0</td>\n",
       "<td>34.0</td>\n",
       "<td>1054.0</td></tr>\n",
       "<tr><td>min</td>\n",
       "<td>    1.4 MB</td>\n",
       "<td>43978.0</td>\n",
       "<td>34.0</td>\n",
       "<td>1054.0</td></tr>\n",
       "<tr><td>max</td>\n",
       "<td>    1.4 MB</td>\n",
       "<td>43978.0</td>\n",
       "<td>34.0</td>\n",
       "<td>1054.0</td></tr>\n",
       "<tr><td>stddev</td>\n",
       "<td>      0  B</td>\n",
       "<td>0.0</td>\n",
       "<td>0.0</td>\n",
       "<td>0.0</td></tr>\n",
       "<tr><td>total</td>\n",
       "<td>    1.4 MB</td>\n",
       "<td>43978.0</td>\n",
       "<td>34.0</td>\n",
       "<td>1054.0</td></tr></table></div>"
      ],
      "text/plain": [
       "                   size    number_of_rows    number_of_chunks_per_column    number_of_chunks\n",
       "-----------------  ------  ----------------  -----------------------------  ------------------\n",
       "172.16.2.16:54321  1.4 MB  43978             34                             1054\n",
       "mean               1.4 MB  43978             34                             1054\n",
       "min                1.4 MB  43978             34                             1054\n",
       "max                1.4 MB  43978             34                             1054\n",
       "stddev             0  B    0                 0                              0\n",
       "total              1.4 MB  43978             34                             1054"
      ]
     },
     "metadata": {},
     "output_type": "display_data"
    },
    {
     "name": "stdout",
     "output_type": "stream",
     "text": [
      "\n",
      "Column-by-Column Summary:\n",
      "\n"
     ]
    },
    {
     "data": {
      "text/html": [
       "<div style=\"overflow:auto\"><table style=\"width:50%\"><tr><td></td>\n",
       "<td>Year</td>\n",
       "<td>Month</td>\n",
       "<td>DayofMonth</td>\n",
       "<td>DayOfWeek</td>\n",
       "<td>DepTime</td>\n",
       "<td>CRSDepTime</td>\n",
       "<td>ArrTime</td>\n",
       "<td>CRSArrTime</td>\n",
       "<td>UniqueCarrier</td>\n",
       "<td>FlightNum</td>\n",
       "<td>TailNum</td>\n",
       "<td>ActualElapsedTime</td>\n",
       "<td>CRSElapsedTime</td>\n",
       "<td>AirTime</td>\n",
       "<td>ArrDelay</td>\n",
       "<td>DepDelay</td>\n",
       "<td>Origin</td>\n",
       "<td>Dest</td>\n",
       "<td>Distance</td>\n",
       "<td>TaxiIn</td>\n",
       "<td>TaxiOut</td>\n",
       "<td>Cancelled</td>\n",
       "<td>CancellationCode</td>\n",
       "<td>Diverted</td>\n",
       "<td>CarrierDelay</td>\n",
       "<td>WeatherDelay</td>\n",
       "<td>NASDelay</td>\n",
       "<td>SecurityDelay</td>\n",
       "<td>LateAircraftDelay</td>\n",
       "<td>IsArrDelayed</td>\n",
       "<td>IsDepDelayed</td></tr>\n",
       "<tr><td>type</td>\n",
       "<td>int</td>\n",
       "<td>int</td>\n",
       "<td>int</td>\n",
       "<td>int</td>\n",
       "<td>int</td>\n",
       "<td>int</td>\n",
       "<td>int</td>\n",
       "<td>int</td>\n",
       "<td>enum</td>\n",
       "<td>int</td>\n",
       "<td>enum</td>\n",
       "<td>int</td>\n",
       "<td>int</td>\n",
       "<td>int</td>\n",
       "<td>int</td>\n",
       "<td>int</td>\n",
       "<td>enum</td>\n",
       "<td>enum</td>\n",
       "<td>int</td>\n",
       "<td>int</td>\n",
       "<td>int</td>\n",
       "<td>int</td>\n",
       "<td>enum</td>\n",
       "<td>int</td>\n",
       "<td>int</td>\n",
       "<td>int</td>\n",
       "<td>int</td>\n",
       "<td>int</td>\n",
       "<td>int</td>\n",
       "<td>enum</td>\n",
       "<td>enum</td></tr>\n",
       "<tr><td>mins</td>\n",
       "<td>1987.0</td>\n",
       "<td>1.0</td>\n",
       "<td>1.0</td>\n",
       "<td>1.0</td>\n",
       "<td>1.0</td>\n",
       "<td>0.0</td>\n",
       "<td>1.0</td>\n",
       "<td>0.0</td>\n",
       "<td>0.0</td>\n",
       "<td>1.0</td>\n",
       "<td>0.0</td>\n",
       "<td>16.0</td>\n",
       "<td>17.0</td>\n",
       "<td>14.0</td>\n",
       "<td>-63.0</td>\n",
       "<td>-16.0</td>\n",
       "<td>0.0</td>\n",
       "<td>0.0</td>\n",
       "<td>11.0</td>\n",
       "<td>0.0</td>\n",
       "<td>0.0</td>\n",
       "<td>0.0</td>\n",
       "<td>0.0</td>\n",
       "<td>0.0</td>\n",
       "<td>0.0</td>\n",
       "<td>0.0</td>\n",
       "<td>0.0</td>\n",
       "<td>0.0</td>\n",
       "<td>0.0</td>\n",
       "<td>0.0</td>\n",
       "<td>0.0</td></tr>\n",
       "<tr><td>mean</td>\n",
       "<td>1997.5</td>\n",
       "<td>1.40909090909</td>\n",
       "<td>14.6010732639</td>\n",
       "<td>3.82061485288</td>\n",
       "<td>1345.84666138</td>\n",
       "<td>1313.22286143</td>\n",
       "<td>1504.63413038</td>\n",
       "<td>1485.28916731</td>\n",
       "<td>6.93549047251</td>\n",
       "<td>818.842989677</td>\n",
       "<td>2376.09750603</td>\n",
       "<td>124.814529135</td>\n",
       "<td>125.021562607</td>\n",
       "<td>114.316111091</td>\n",
       "<td>9.31711193698</td>\n",
       "<td>10.0073906556</td>\n",
       "<td>61.1830005912</td>\n",
       "<td>78.5525944791</td>\n",
       "<td>730.182190565</td>\n",
       "<td>5.38136805953</td>\n",
       "<td>14.1686341847</td>\n",
       "<td>0.0246941652645</td>\n",
       "<td>2.98608349901</td>\n",
       "<td>0.00247851198326</td>\n",
       "<td>4.04780029106</td>\n",
       "<td>0.289376469271</td>\n",
       "<td>4.85503190418</td>\n",
       "<td>0.0170155602821</td>\n",
       "<td>7.62006045002</td>\n",
       "<td>0.555755150302</td>\n",
       "<td>0.525057983537</td></tr>\n",
       "<tr><td>maxs</td>\n",
       "<td>2008.0</td>\n",
       "<td>10.0</td>\n",
       "<td>31.0</td>\n",
       "<td>7.0</td>\n",
       "<td>2400.0</td>\n",
       "<td>2359.0</td>\n",
       "<td>2400.0</td>\n",
       "<td>2359.0</td>\n",
       "<td>9.0</td>\n",
       "<td>3949.0</td>\n",
       "<td>3500.0</td>\n",
       "<td>475.0</td>\n",
       "<td>437.0</td>\n",
       "<td>402.0</td>\n",
       "<td>475.0</td>\n",
       "<td>473.0</td>\n",
       "<td>131.0</td>\n",
       "<td>133.0</td>\n",
       "<td>3365.0</td>\n",
       "<td>128.0</td>\n",
       "<td>254.0</td>\n",
       "<td>1.0</td>\n",
       "<td>3.0</td>\n",
       "<td>1.0</td>\n",
       "<td>369.0</td>\n",
       "<td>201.0</td>\n",
       "<td>323.0</td>\n",
       "<td>14.0</td>\n",
       "<td>373.0</td>\n",
       "<td>1.0</td>\n",
       "<td>1.0</td></tr>\n",
       "<tr><td>sigma</td>\n",
       "<td>6.34436090171</td>\n",
       "<td>1.87471137134</td>\n",
       "<td>9.17579042586</td>\n",
       "<td>1.90501311913</td>\n",
       "<td>465.340899124</td>\n",
       "<td>476.251139993</td>\n",
       "<td>484.347487904</td>\n",
       "<td>492.750434123</td>\n",
       "<td>2.05121227084</td>\n",
       "<td>777.404369164</td>\n",
       "<td>1168.75931155</td>\n",
       "<td>73.9744416606</td>\n",
       "<td>73.40159463</td>\n",
       "<td>69.6363295151</td>\n",
       "<td>29.8402219624</td>\n",
       "<td>26.4388090429</td>\n",
       "<td>37.64411521</td>\n",
       "<td>33.930070329</td>\n",
       "<td>578.43800823</td>\n",
       "<td>4.20197993986</td>\n",
       "<td>9.9050857472</td>\n",
       "<td>0.155193141358</td>\n",
       "<td>0.182676305421</td>\n",
       "<td>0.0497234872189</td>\n",
       "<td>16.2057299045</td>\n",
       "<td>4.41677989873</td>\n",
       "<td>18.6197762215</td>\n",
       "<td>0.403940182102</td>\n",
       "<td>23.4875658741</td>\n",
       "<td>0.496887288343</td>\n",
       "<td>0.499377380318</td></tr>\n",
       "<tr><td>zero_count</td>\n",
       "<td>0</td>\n",
       "<td>0</td>\n",
       "<td>0</td>\n",
       "<td>0</td>\n",
       "<td>0</td>\n",
       "<td>569</td>\n",
       "<td>0</td>\n",
       "<td>569</td>\n",
       "<td>724</td>\n",
       "<td>0</td>\n",
       "<td>2</td>\n",
       "<td>0</td>\n",
       "<td>0</td>\n",
       "<td>0</td>\n",
       "<td>1514</td>\n",
       "<td>6393</td>\n",
       "<td>59</td>\n",
       "<td>172</td>\n",
       "<td>0</td>\n",
       "<td>623</td>\n",
       "<td>557</td>\n",
       "<td>42892</td>\n",
       "<td>81</td>\n",
       "<td>43869</td>\n",
       "<td>7344</td>\n",
       "<td>8840</td>\n",
       "<td>7388</td>\n",
       "<td>8914</td>\n",
       "<td>7140</td>\n",
       "<td>19537</td>\n",
       "<td>20887</td></tr>\n",
       "<tr><td>missing_count</td>\n",
       "<td>0</td>\n",
       "<td>0</td>\n",
       "<td>0</td>\n",
       "<td>0</td>\n",
       "<td>1086</td>\n",
       "<td>0</td>\n",
       "<td>1195</td>\n",
       "<td>0</td>\n",
       "<td>0</td>\n",
       "<td>0</td>\n",
       "<td>32</td>\n",
       "<td>1195</td>\n",
       "<td>13</td>\n",
       "<td>16649</td>\n",
       "<td>1195</td>\n",
       "<td>1086</td>\n",
       "<td>0</td>\n",
       "<td>0</td>\n",
       "<td>35</td>\n",
       "<td>16026</td>\n",
       "<td>16024</td>\n",
       "<td>0</td>\n",
       "<td>9774</td>\n",
       "<td>0</td>\n",
       "<td>35045</td>\n",
       "<td>35045</td>\n",
       "<td>35045</td>\n",
       "<td>35045</td>\n",
       "<td>35045</td>\n",
       "<td>0</td>\n",
       "<td>0</td></tr></table></div>"
      ],
      "text/plain": [
       "               Year           Month          DayofMonth     DayOfWeek      DepTime        CRSDepTime     ArrTime        CRSArrTime     UniqueCarrier    FlightNum      TailNum        ActualElapsedTime    CRSElapsedTime    AirTime        ArrDelay       DepDelay       Origin         Dest           Distance       TaxiIn         TaxiOut        Cancelled        CancellationCode    Diverted          CarrierDelay    WeatherDelay    NASDelay       SecurityDelay    LateAircraftDelay    IsArrDelayed    IsDepDelayed\n",
       "-------------  -------------  -------------  -------------  -------------  -------------  -------------  -------------  -------------  ---------------  -------------  -------------  -------------------  ----------------  -------------  -------------  -------------  -------------  -------------  -------------  -------------  -------------  ---------------  ------------------  ----------------  --------------  --------------  -------------  ---------------  -------------------  --------------  --------------\n",
       "type           int            int            int            int            int            int            int            int            enum             int            enum           int                  int               int            int            int            enum           enum           int            int            int            int              enum                int               int             int             int            int              int                  enum            enum\n",
       "mins           1987.0         1.0            1.0            1.0            1.0            0.0            1.0            0.0            0.0              1.0            0.0            16.0                 17.0              14.0           -63.0          -16.0          0.0            0.0            11.0           0.0            0.0            0.0              0.0                 0.0               0.0             0.0             0.0            0.0              0.0                  0.0             0.0\n",
       "mean           1997.5         1.40909090909  14.6010732639  3.82061485288  1345.84666138  1313.22286143  1504.63413038  1485.28916731  6.93549047251    818.842989677  2376.09750603  124.814529135        125.021562607     114.316111091  9.31711193698  10.0073906556  61.1830005912  78.5525944791  730.182190565  5.38136805953  14.1686341847  0.0246941652645  2.98608349901       0.00247851198326  4.04780029106   0.289376469271  4.85503190418  0.0170155602821  7.62006045002        0.555755150302  0.525057983537\n",
       "maxs           2008.0         10.0           31.0           7.0            2400.0         2359.0         2400.0         2359.0         9.0              3949.0         3500.0         475.0                437.0             402.0          475.0          473.0          131.0          133.0          3365.0         128.0          254.0          1.0              3.0                 1.0               369.0           201.0           323.0          14.0             373.0                1.0             1.0\n",
       "sigma          6.34436090171  1.87471137134  9.17579042586  1.90501311913  465.340899124  476.251139993  484.347487904  492.750434123  2.05121227084    777.404369164  1168.75931155  73.9744416606        73.40159463       69.6363295151  29.8402219624  26.4388090429  37.64411521    33.930070329   578.43800823   4.20197993986  9.9050857472   0.155193141358   0.182676305421      0.0497234872189   16.2057299045   4.41677989873   18.6197762215  0.403940182102   23.4875658741        0.496887288343  0.499377380318\n",
       "zero_count     0              0              0              0              0              569            0              569            724              0              2              0                    0                 0              1514           6393           59             172            0              623            557            42892            81                  43869             7344            8840            7388           8914             7140                 19537           20887\n",
       "missing_count  0              0              0              0              1086           0              1195           0              0                0              32             1195                 13                16649          1195           1086           0              0              35             16026          16024          0                9774                0                 35045           35045           35045          35045            35045                0               0"
      ]
     },
     "metadata": {},
     "output_type": "display_data"
    }
   ],
   "source": [
    "# air_path = [h2o.locate(\"bigdata/laptop/airlines_all.05p.csv\")]\n",
    "# air_path = [h2o.locate(\"bigdata/laptop/flights-nyc/flights14.csv.zip\")]\n",
    "air_path = [h2o.locate(\"smalldata/airlines/allyears2k_headers.csv\")]\n",
    "\n",
    "# ----------\n",
    "\n",
    "# 1- Load data - 1 row per flight.  Has columns showing the origin,\n",
    "# destination, departure and arrival time, carrier information, and\n",
    "# whether the flight was delayed.\n",
    "print \"Import and Parse airlines data\"\n",
    "data = h2o.import_frame(path=air_path)\n",
    "data.describe()"
   ]
  },
  {
   "cell_type": "code",
   "execution_count": 70,
   "metadata": {
    "collapsed": false
   },
   "outputs": [
    {
     "name": "stdout",
     "output_type": "stream",
     "text": [
      "\n",
      "glm Model Build Progress: [##################################################] 100%\n"
     ]
    }
   ],
   "source": [
    "# ----------\n",
    "\n",
    "# 2- Data exploration and munging. Generate scatter plots \n",
    "# of various columns and plot fitted GLM model.\n",
    "\n",
    "# Function to fit a GLM model and plot the fitted (x,y) values\n",
    "def scatter_plot(data, x, y, max_points = 1000, fit = True):\n",
    "    if(fit):\n",
    "        lr = h2o.glm(x = data[[x]], y = data[y], family = \"gaussian\")\n",
    "        coeff = lr.coef()\n",
    "    df = data[[x,y]]\n",
    "    runif = df[y].runif()\n",
    "    df_subset = df[runif < float(max_points)/data.nrow()]\n",
    "    df_py = h2o.as_list(df_subset)\n",
    "    df_py = zip(*df_py)    # Convert list of rows into list of columns\n",
    "    \n",
    "    if(fit): h2o.remove(lr._key)\n",
    "    \n",
    "    plt.plot(df_py[0], df_py[1], \"yo\")\n",
    "    plt.xlabel(x)\n",
    "    plt.ylabel(y)\n",
    "    \n",
    "    if(fit):\n",
    "        x_min = min(df_py[0])\n",
    "        x_max = max(df_py[0])\n",
    "        y_min = coeff[\"Intercept\"] + coeff[x]*x_min\n",
    "        y_max = coeff[\"Intercept\"] + coeff[x]*x_max\n",
    "        plt.plot([x_min, x_max], [y_min, y_max], \"k-\")\n",
    "    plt.show()\n",
    "\n",
    "scatter_plot(data, \"Distance\", \"AirTime\", fit = True)\n",
    "scatter_plot(data, \"UniqueCarrier\", \"ArrDelay\", max_points = 5000, fit = False)"
   ]
  },
  {
   "cell_type": "code",
   "execution_count": 55,
   "metadata": {
    "collapsed": false
   },
   "outputs": [
    {
     "ename": "EnvironmentError",
     "evalue": "h2o-py got an unexpected HTTP status code:\n 412 Precondition Failed (method = POST; url = http://localhost:54321/3/Rapids). \ndetailed error messages: java.lang.NullPointerException",
     "output_type": "error",
     "traceback": [
      "\u001b[0;31m---------------------------------------------------------------------------\u001b[0m",
      "\u001b[0;31mEnvironmentError\u001b[0m                          Traceback (most recent call last)",
      "\u001b[0;32m<ipython-input-55-5f6e574d2807>\u001b[0m in \u001b[0;36m<module>\u001b[0;34m()\u001b[0m\n\u001b[1;32m      1\u001b[0m \u001b[0;31m# Group flights by month\u001b[0m\u001b[0;34m\u001b[0m\u001b[0;34m\u001b[0m\u001b[0m\n\u001b[1;32m      2\u001b[0m \u001b[0maggregates\u001b[0m \u001b[0;34m=\u001b[0m \u001b[0;34m{\u001b[0m\u001b[0;34m\"Month\"\u001b[0m\u001b[0;34m:\u001b[0m \u001b[0;34m[\u001b[0m\u001b[0;34m\"nrow\"\u001b[0m\u001b[0;34m,\u001b[0m \u001b[0;36m1\u001b[0m\u001b[0;34m,\u001b[0m \u001b[0;34m\"all\"\u001b[0m\u001b[0;34m]\u001b[0m\u001b[0;34m,\u001b[0m \u001b[0;34m\"Cancelled\"\u001b[0m\u001b[0;34m:\u001b[0m \u001b[0;34m[\u001b[0m\u001b[0;34m\"sum\"\u001b[0m\u001b[0;34m,\u001b[0m \u001b[0;36m2\u001b[0m\u001b[0;34m,\u001b[0m \u001b[0;34m\"all\"\u001b[0m\u001b[0;34m]\u001b[0m\u001b[0;34m}\u001b[0m\u001b[0;34m\u001b[0m\u001b[0m\n\u001b[0;32m----> 3\u001b[0;31m \u001b[0mbpd\u001b[0m \u001b[0;34m=\u001b[0m \u001b[0mh2o\u001b[0m\u001b[0;34m.\u001b[0m\u001b[0mgroup_by\u001b[0m\u001b[0;34m(\u001b[0m\u001b[0mdata\u001b[0m\u001b[0;34m,\u001b[0m \u001b[0mcols\u001b[0m\u001b[0;34m=\u001b[0m\u001b[0;34m[\u001b[0m\u001b[0;34m\"Month\"\u001b[0m\u001b[0;34m]\u001b[0m\u001b[0;34m,\u001b[0m \u001b[0maggregates\u001b[0m\u001b[0;34m=\u001b[0m\u001b[0maggregates\u001b[0m\u001b[0;34m)\u001b[0m\u001b[0;34m\u001b[0m\u001b[0m\n\u001b[0m\u001b[1;32m      4\u001b[0m \u001b[0mbpd\u001b[0m\u001b[0;34m.\u001b[0m\u001b[0mshow\u001b[0m\u001b[0;34m(\u001b[0m\u001b[0;34m)\u001b[0m\u001b[0;34m\u001b[0m\u001b[0m\n\u001b[1;32m      5\u001b[0m \u001b[0mbpd\u001b[0m\u001b[0;34m.\u001b[0m\u001b[0mdescribe\u001b[0m\u001b[0;34m(\u001b[0m\u001b[0;34m)\u001b[0m\u001b[0;34m\u001b[0m\u001b[0m\n",
      "\u001b[0;32m/Library/Python/2.7/site-packages/h2o/h2o.pyc\u001b[0m in \u001b[0;36mgroup_by\u001b[0;34m(frame, cols, aggregates)\u001b[0m\n\u001b[1;32m    528\u001b[0m \u001b[0;34m\u001b[0m\u001b[0m\n\u001b[1;32m    529\u001b[0m \u001b[0;32mdef\u001b[0m \u001b[0mgroup_by\u001b[0m\u001b[0;34m(\u001b[0m\u001b[0mframe\u001b[0m\u001b[0;34m,\u001b[0m\u001b[0mcols\u001b[0m\u001b[0;34m,\u001b[0m\u001b[0maggregates\u001b[0m\u001b[0;34m)\u001b[0m\u001b[0;34m:\u001b[0m\u001b[0;34m\u001b[0m\u001b[0m\n\u001b[0;32m--> 530\u001b[0;31m   \u001b[0;32mreturn\u001b[0m \u001b[0mframe\u001b[0m\u001b[0;34m.\u001b[0m\u001b[0mgroup_by\u001b[0m\u001b[0;34m(\u001b[0m\u001b[0mcols\u001b[0m\u001b[0;34m,\u001b[0m\u001b[0maggregates\u001b[0m\u001b[0;34m)\u001b[0m\u001b[0;34m\u001b[0m\u001b[0m\n\u001b[0m\u001b[1;32m    531\u001b[0m \u001b[0;34m\u001b[0m\u001b[0m\n\u001b[1;32m    532\u001b[0m \u001b[0;32mdef\u001b[0m \u001b[0mnetwork_test\u001b[0m\u001b[0;34m(\u001b[0m\u001b[0;34m)\u001b[0m\u001b[0;34m:\u001b[0m\u001b[0;34m\u001b[0m\u001b[0m\n",
      "\u001b[0;32m/Library/Python/2.7/site-packages/h2o/frame.pyc\u001b[0m in \u001b[0;36mgroup_by\u001b[0;34m(self, cols, a)\u001b[0m\n\u001b[1;32m    797\u001b[0m     \u001b[0mrapids_series\u001b[0m \u001b[0;34m=\u001b[0m \u001b[0;34m\"(llist #\"\u001b[0m\u001b[0;34m+\u001b[0m\u001b[0;34m\" #\"\u001b[0m\u001b[0;34m.\u001b[0m\u001b[0mjoin\u001b[0m\u001b[0;34m(\u001b[0m\u001b[0;34m[\u001b[0m\u001b[0mstr\u001b[0m\u001b[0;34m(\u001b[0m\u001b[0mself\u001b[0m\u001b[0;34m.\u001b[0m\u001b[0m_find_idx\u001b[0m\u001b[0;34m(\u001b[0m\u001b[0mname\u001b[0m\u001b[0;34m)\u001b[0m\u001b[0;34m)\u001b[0m \u001b[0;32mfor\u001b[0m \u001b[0mname\u001b[0m \u001b[0;32min\u001b[0m \u001b[0mcols\u001b[0m\u001b[0;34m]\u001b[0m\u001b[0;34m)\u001b[0m\u001b[0;34m+\u001b[0m\u001b[0;34m\")\"\u001b[0m\u001b[0;34m\u001b[0m\u001b[0m\n\u001b[1;32m    798\u001b[0m     \u001b[0maggregates\u001b[0m \u001b[0;34m=\u001b[0m \u001b[0mcopy\u001b[0m\u001b[0;34m.\u001b[0m\u001b[0mdeepcopy\u001b[0m\u001b[0;34m(\u001b[0m\u001b[0ma\u001b[0m\u001b[0;34m)\u001b[0m\u001b[0;34m\u001b[0m\u001b[0m\n\u001b[0;32m--> 799\u001b[0;31m     \u001b[0mkey\u001b[0m \u001b[0;34m=\u001b[0m \u001b[0mself\u001b[0m\u001b[0;34m.\u001b[0m\u001b[0msend_frame\u001b[0m\u001b[0;34m(\u001b[0m\u001b[0;34m)\u001b[0m\u001b[0;34m\u001b[0m\u001b[0m\n\u001b[0m\u001b[1;32m    800\u001b[0m     \u001b[0mtmp_key\u001b[0m \u001b[0;34m=\u001b[0m \u001b[0mH2OFrame\u001b[0m\u001b[0;34m.\u001b[0m\u001b[0mpy_tmp_key\u001b[0m\u001b[0;34m(\u001b[0m\u001b[0;34m)\u001b[0m\u001b[0;34m\u001b[0m\u001b[0m\n\u001b[1;32m    801\u001b[0m \u001b[0;34m\u001b[0m\u001b[0m\n",
      "\u001b[0;32m/Library/Python/2.7/site-packages/h2o/frame.pyc\u001b[0m in \u001b[0;36msend_frame\u001b[0;34m(self)\u001b[0m\n\u001b[1;32m    613\u001b[0m     \u001b[0mcolnames\u001b[0m \u001b[0;34m+=\u001b[0m \u001b[0mcnames\u001b[0m\u001b[0;34m\u001b[0m\u001b[0m\n\u001b[1;32m    614\u001b[0m     \u001b[0mrapids_call\u001b[0m \u001b[0;34m+=\u001b[0m \u001b[0mcolnames\u001b[0m\u001b[0;34m\u001b[0m\u001b[0m\n\u001b[0;32m--> 615\u001b[0;31m     \u001b[0mh2o\u001b[0m\u001b[0;34m.\u001b[0m\u001b[0mrapids\u001b[0m\u001b[0;34m(\u001b[0m\u001b[0mrapids_call\u001b[0m\u001b[0;34m)\u001b[0m\u001b[0;34m\u001b[0m\u001b[0m\n\u001b[0m\u001b[1;32m    616\u001b[0m     \u001b[0;32mreturn\u001b[0m \u001b[0mfr\u001b[0m\u001b[0;34m\u001b[0m\u001b[0m\n\u001b[1;32m    617\u001b[0m \u001b[0;34m\u001b[0m\u001b[0m\n",
      "\u001b[0;32m/Library/Python/2.7/site-packages/h2o/h2o.pyc\u001b[0m in \u001b[0;36mrapids\u001b[0;34m(expr)\u001b[0m\n\u001b[1;32m    343\u001b[0m   \u001b[0;34m:\u001b[0m\u001b[0;32mreturn\u001b[0m\u001b[0;34m:\u001b[0m \u001b[0mThe\u001b[0m \u001b[0mJSON\u001b[0m \u001b[0mresponse\u001b[0m \u001b[0mof\u001b[0m \u001b[0mthe\u001b[0m \u001b[0mRapids\u001b[0m \u001b[0mexecution\u001b[0m\u001b[0;34m\u001b[0m\u001b[0m\n\u001b[1;32m    344\u001b[0m   \"\"\"\n\u001b[0;32m--> 345\u001b[0;31m   \u001b[0mresult\u001b[0m \u001b[0;34m=\u001b[0m \u001b[0mH2OConnection\u001b[0m\u001b[0;34m.\u001b[0m\u001b[0mpost_json\u001b[0m\u001b[0;34m(\u001b[0m\u001b[0;34m\"Rapids\"\u001b[0m\u001b[0;34m,\u001b[0m \u001b[0mast\u001b[0m\u001b[0;34m=\u001b[0m\u001b[0murllib\u001b[0m\u001b[0;34m.\u001b[0m\u001b[0mquote\u001b[0m\u001b[0;34m(\u001b[0m\u001b[0mexpr\u001b[0m\u001b[0;34m)\u001b[0m\u001b[0;34m)\u001b[0m\u001b[0;34m\u001b[0m\u001b[0m\n\u001b[0m\u001b[1;32m    346\u001b[0m   \u001b[0;32mif\u001b[0m \u001b[0mresult\u001b[0m\u001b[0;34m[\u001b[0m\u001b[0;34m'error'\u001b[0m\u001b[0;34m]\u001b[0m \u001b[0;32mis\u001b[0m \u001b[0;32mnot\u001b[0m \u001b[0mNone\u001b[0m\u001b[0;34m:\u001b[0m\u001b[0;34m\u001b[0m\u001b[0m\n\u001b[1;32m    347\u001b[0m     \u001b[0;32mraise\u001b[0m \u001b[0mEnvironmentError\u001b[0m\u001b[0;34m(\u001b[0m\u001b[0;34m\"rapids expression not evaluated: {0}\"\u001b[0m\u001b[0;34m.\u001b[0m\u001b[0mformat\u001b[0m\u001b[0;34m(\u001b[0m\u001b[0mstr\u001b[0m\u001b[0;34m(\u001b[0m\u001b[0mresult\u001b[0m\u001b[0;34m[\u001b[0m\u001b[0;34m'error'\u001b[0m\u001b[0;34m]\u001b[0m\u001b[0;34m)\u001b[0m\u001b[0;34m)\u001b[0m\u001b[0;34m)\u001b[0m\u001b[0;34m\u001b[0m\u001b[0m\n",
      "\u001b[0;32m/Library/Python/2.7/site-packages/h2o/connection.pyc\u001b[0m in \u001b[0;36mpost_json\u001b[0;34m(url_suffix, file_upload_info, **kwargs)\u001b[0m\n\u001b[1;32m    356\u001b[0m     \u001b[0;32mif\u001b[0m \u001b[0m__H2OCONN__\u001b[0m \u001b[0;32mis\u001b[0m \u001b[0mNone\u001b[0m\u001b[0;34m:\u001b[0m\u001b[0;34m\u001b[0m\u001b[0m\n\u001b[1;32m    357\u001b[0m       \u001b[0;32mraise\u001b[0m \u001b[0mValueError\u001b[0m\u001b[0;34m(\u001b[0m\u001b[0;34m\"No h2o connection. Did you run `h2o.init()` ?\"\u001b[0m\u001b[0;34m)\u001b[0m\u001b[0;34m\u001b[0m\u001b[0m\n\u001b[0;32m--> 358\u001b[0;31m     \u001b[0;32mreturn\u001b[0m \u001b[0m__H2OCONN__\u001b[0m\u001b[0;34m.\u001b[0m\u001b[0m_rest_json\u001b[0m\u001b[0;34m(\u001b[0m\u001b[0murl_suffix\u001b[0m\u001b[0;34m,\u001b[0m \u001b[0;34m\"POST\"\u001b[0m\u001b[0;34m,\u001b[0m \u001b[0mfile_upload_info\u001b[0m\u001b[0;34m,\u001b[0m \u001b[0;34m**\u001b[0m\u001b[0mkwargs\u001b[0m\u001b[0;34m)\u001b[0m\u001b[0;34m\u001b[0m\u001b[0m\n\u001b[0m\u001b[1;32m    359\u001b[0m \u001b[0;34m\u001b[0m\u001b[0m\n\u001b[1;32m    360\u001b[0m   \u001b[0;32mdef\u001b[0m \u001b[0m_rest_json\u001b[0m\u001b[0;34m(\u001b[0m\u001b[0mself\u001b[0m\u001b[0;34m,\u001b[0m \u001b[0murl_suffix\u001b[0m\u001b[0;34m,\u001b[0m \u001b[0mmethod\u001b[0m\u001b[0;34m,\u001b[0m \u001b[0mfile_upload_info\u001b[0m\u001b[0;34m,\u001b[0m \u001b[0;34m**\u001b[0m\u001b[0mkwargs\u001b[0m\u001b[0;34m)\u001b[0m\u001b[0;34m:\u001b[0m\u001b[0;34m\u001b[0m\u001b[0m\n",
      "\u001b[0;32m/Library/Python/2.7/site-packages/h2o/connection.pyc\u001b[0m in \u001b[0;36m_rest_json\u001b[0;34m(self, url_suffix, method, file_upload_info, **kwargs)\u001b[0m\n\u001b[1;32m    359\u001b[0m \u001b[0;34m\u001b[0m\u001b[0m\n\u001b[1;32m    360\u001b[0m   \u001b[0;32mdef\u001b[0m \u001b[0m_rest_json\u001b[0m\u001b[0;34m(\u001b[0m\u001b[0mself\u001b[0m\u001b[0;34m,\u001b[0m \u001b[0murl_suffix\u001b[0m\u001b[0;34m,\u001b[0m \u001b[0mmethod\u001b[0m\u001b[0;34m,\u001b[0m \u001b[0mfile_upload_info\u001b[0m\u001b[0;34m,\u001b[0m \u001b[0;34m**\u001b[0m\u001b[0mkwargs\u001b[0m\u001b[0;34m)\u001b[0m\u001b[0;34m:\u001b[0m\u001b[0;34m\u001b[0m\u001b[0m\n\u001b[0;32m--> 361\u001b[0;31m     \u001b[0mraw_txt\u001b[0m \u001b[0;34m=\u001b[0m \u001b[0mself\u001b[0m\u001b[0;34m.\u001b[0m\u001b[0m_do_raw_rest\u001b[0m\u001b[0;34m(\u001b[0m\u001b[0murl_suffix\u001b[0m\u001b[0;34m,\u001b[0m \u001b[0mmethod\u001b[0m\u001b[0;34m,\u001b[0m \u001b[0mfile_upload_info\u001b[0m\u001b[0;34m,\u001b[0m \u001b[0;34m**\u001b[0m\u001b[0mkwargs\u001b[0m\u001b[0;34m)\u001b[0m\u001b[0;34m\u001b[0m\u001b[0m\n\u001b[0m\u001b[1;32m    362\u001b[0m     \u001b[0;32mreturn\u001b[0m \u001b[0mself\u001b[0m\u001b[0;34m.\u001b[0m\u001b[0m_process_tables\u001b[0m\u001b[0;34m(\u001b[0m\u001b[0mraw_txt\u001b[0m\u001b[0;34m.\u001b[0m\u001b[0mjson\u001b[0m\u001b[0;34m(\u001b[0m\u001b[0;34m)\u001b[0m\u001b[0;34m)\u001b[0m\u001b[0;34m\u001b[0m\u001b[0m\n\u001b[1;32m    363\u001b[0m \u001b[0;34m\u001b[0m\u001b[0m\n",
      "\u001b[0;32m/Library/Python/2.7/site-packages/h2o/connection.pyc\u001b[0m in \u001b[0;36m_do_raw_rest\u001b[0;34m(self, url_suffix, method, file_upload_info, **kwargs)\u001b[0m\n\u001b[1;32m    409\u001b[0m       raise EnvironmentError((\"h2o-py got an unexpected HTTP status code:\\n {} {} (method = {}; url = {}). \\n\"+ \\\n\u001b[1;32m    410\u001b[0m                               \"detailed error messages: {}\")\n\u001b[0;32m--> 411\u001b[0;31m                              .format(http_result.status_code,http_result.reason,method,url,detailed_error_msgs))\n\u001b[0m\u001b[1;32m    412\u001b[0m \u001b[0;34m\u001b[0m\u001b[0m\n\u001b[1;32m    413\u001b[0m     \u001b[0;31m# TODO: is.logging? -> write to logs\u001b[0m\u001b[0;34m\u001b[0m\u001b[0;34m\u001b[0m\u001b[0m\n",
      "\u001b[0;31mEnvironmentError\u001b[0m: h2o-py got an unexpected HTTP status code:\n 412 Precondition Failed (method = POST; url = http://localhost:54321/3/Rapids). \ndetailed error messages: java.lang.NullPointerException"
     ]
    }
   ],
   "source": [
    "# Group flights by month\n",
    "aggregates = {\"Month\": [\"nrow\", 0, \"all\"], \"Cancelled\": [\"sum\", 1, \"all\"]}\n",
    "bpd = h2o.group_by(data, cols=[\"Month\"], aggregates=aggregates)\n",
    "bpd.show()\n",
    "bpd.describe()\n",
    "bpd.dim()\n",
    "\n",
    "# Convert columns to factors\n",
    "data[\"Year\"]      = data[\"Year\"]     .asfactor()\n",
    "data[\"Month\"]     = data[\"Month\"]    .asfactor()\n",
    "data[\"DayOfWeek\"] = data[\"DayOfWeek\"].asfactor()\n",
    "data[\"Cancelled\"] = data[\"Cancelled\"].asfactor()"
   ]
  },
  {
   "cell_type": "code",
   "execution_count": 62,
   "metadata": {
    "collapsed": false
   },
   "outputs": [
    {
     "ename": "TypeError",
     "evalue": "unsupported operand type(s) for %: 'instance' and 'int'",
     "output_type": "error",
     "traceback": [
      "\u001b[0;31m---------------------------------------------------------------------------\u001b[0m",
      "\u001b[0;31mTypeError\u001b[0m                                 Traceback (most recent call last)",
      "\u001b[0;32m<ipython-input-62-f70010bfb47f>\u001b[0m in \u001b[0;36m<module>\u001b[0;34m()\u001b[0m\n\u001b[1;32m      1\u001b[0m \u001b[0;31m# Calculate and plot travel time\u001b[0m\u001b[0;34m\u001b[0m\u001b[0;34m\u001b[0m\u001b[0m\n\u001b[1;32m      2\u001b[0m \u001b[0mhour1\u001b[0m \u001b[0;34m=\u001b[0m \u001b[0mdata\u001b[0m\u001b[0;34m[\u001b[0m\u001b[0;34m\"CRSArrTime\"\u001b[0m\u001b[0;34m]\u001b[0m \u001b[0;34m/\u001b[0m \u001b[0;36m100\u001b[0m\u001b[0;34m\u001b[0m\u001b[0m\n\u001b[0;32m----> 3\u001b[0;31m \u001b[0mmins1\u001b[0m \u001b[0;34m=\u001b[0m \u001b[0mdata\u001b[0m\u001b[0;34m[\u001b[0m\u001b[0;34m\"CRSArrTime\"\u001b[0m\u001b[0;34m]\u001b[0m \u001b[0;34m%\u001b[0m \u001b[0;36m100\u001b[0m\u001b[0;34m\u001b[0m\u001b[0m\n\u001b[0m\u001b[1;32m      4\u001b[0m \u001b[0marrTime\u001b[0m \u001b[0;34m=\u001b[0m \u001b[0mhour1\u001b[0m\u001b[0;34m*\u001b[0m\u001b[0;36m60\u001b[0m \u001b[0;34m+\u001b[0m \u001b[0mmins1\u001b[0m\u001b[0;34m\u001b[0m\u001b[0m\n\u001b[1;32m      5\u001b[0m \u001b[0;34m\u001b[0m\u001b[0m\n",
      "\u001b[0;31mTypeError\u001b[0m: unsupported operand type(s) for %: 'instance' and 'int'"
     ]
    }
   ],
   "source": [
    "# Calculate and plot travel time\n",
    "hour1 = data[\"CRSArrTime\"] / 100\n",
    "mins1 = data[\"CRSArrTime\"] % 100\n",
    "arrTime = hour1*60 + mins1\n",
    "\n",
    "hour2 = data[\"CRSDepTime\"] / 100\n",
    "mins2 = data[\"CRSDepTime\"] % 100\n",
    "depTime = hour2*60 + mins2\n",
    "\n",
    "# TODO: If-else method does not work in Python\n",
    "travelTime = [x if x > 0 else None for x in (arrTime - depTime)]\n",
    "data[\"TravelTime\"] = travelTime\n",
    "scatter_plot(data, \"Distance\", \"TravelTime\")"
   ]
  },
  {
   "cell_type": "code",
   "execution_count": 71,
   "metadata": {
    "collapsed": false
   },
   "outputs": [
    {
     "ename": "ValueError",
     "evalue": "Name TravelTime not in Frame",
     "output_type": "error",
     "traceback": [
      "\u001b[0;31m---------------------------------------------------------------------------\u001b[0m",
      "\u001b[0;31mValueError\u001b[0m                                Traceback (most recent call last)",
      "\u001b[0;32m<ipython-input-71-72a6c8aa73fe>\u001b[0m in \u001b[0;36m<module>\u001b[0;34m()\u001b[0m\n\u001b[1;32m      1\u001b[0m \u001b[0;31m# Impute missing travel times and re-plot\u001b[0m\u001b[0;34m\u001b[0m\u001b[0;34m\u001b[0m\u001b[0m\n\u001b[1;32m      2\u001b[0m \u001b[0mh2o\u001b[0m\u001b[0;34m.\u001b[0m\u001b[0mimpute\u001b[0m\u001b[0;34m(\u001b[0m\u001b[0mdata\u001b[0m \u001b[0;34m=\u001b[0m \u001b[0mdata\u001b[0m\u001b[0;34m,\u001b[0m \u001b[0mcolumn\u001b[0m \u001b[0;34m=\u001b[0m \u001b[0;34m\"Distance\"\u001b[0m\u001b[0;34m,\u001b[0m \u001b[0mby\u001b[0m \u001b[0;34m=\u001b[0m \u001b[0;34m[\u001b[0m\u001b[0;34m\"Origin\"\u001b[0m\u001b[0;34m,\u001b[0m \u001b[0;34m\"Dest\"\u001b[0m\u001b[0;34m]\u001b[0m\u001b[0;34m)\u001b[0m\u001b[0;34m\u001b[0m\u001b[0m\n\u001b[0;32m----> 3\u001b[0;31m \u001b[0mscatter_plot\u001b[0m\u001b[0;34m(\u001b[0m\u001b[0mdata\u001b[0m\u001b[0;34m,\u001b[0m \u001b[0;34m\"Distance\"\u001b[0m\u001b[0;34m,\u001b[0m \u001b[0;34m\"TravelTime\"\u001b[0m\u001b[0;34m)\u001b[0m\u001b[0;34m\u001b[0m\u001b[0m\n\u001b[0m",
      "\u001b[0;32m<ipython-input-70-fa28228aed76>\u001b[0m in \u001b[0;36mscatter_plot\u001b[0;34m(data, x, y, max_points, fit)\u001b[0m\n\u001b[1;32m      7\u001b[0m \u001b[0;32mdef\u001b[0m \u001b[0mscatter_plot\u001b[0m\u001b[0;34m(\u001b[0m\u001b[0mdata\u001b[0m\u001b[0;34m,\u001b[0m \u001b[0mx\u001b[0m\u001b[0;34m,\u001b[0m \u001b[0my\u001b[0m\u001b[0;34m,\u001b[0m \u001b[0mmax_points\u001b[0m \u001b[0;34m=\u001b[0m \u001b[0;36m1000\u001b[0m\u001b[0;34m,\u001b[0m \u001b[0mfit\u001b[0m \u001b[0;34m=\u001b[0m \u001b[0mTrue\u001b[0m\u001b[0;34m)\u001b[0m\u001b[0;34m:\u001b[0m\u001b[0;34m\u001b[0m\u001b[0m\n\u001b[1;32m      8\u001b[0m     \u001b[0;32mif\u001b[0m\u001b[0;34m(\u001b[0m\u001b[0mfit\u001b[0m\u001b[0;34m)\u001b[0m\u001b[0;34m:\u001b[0m\u001b[0;34m\u001b[0m\u001b[0m\n\u001b[0;32m----> 9\u001b[0;31m         \u001b[0mlr\u001b[0m \u001b[0;34m=\u001b[0m \u001b[0mh2o\u001b[0m\u001b[0;34m.\u001b[0m\u001b[0mglm\u001b[0m\u001b[0;34m(\u001b[0m\u001b[0mx\u001b[0m \u001b[0;34m=\u001b[0m \u001b[0mdata\u001b[0m\u001b[0;34m[\u001b[0m\u001b[0;34m[\u001b[0m\u001b[0mx\u001b[0m\u001b[0;34m]\u001b[0m\u001b[0;34m]\u001b[0m\u001b[0;34m,\u001b[0m \u001b[0my\u001b[0m \u001b[0;34m=\u001b[0m \u001b[0mdata\u001b[0m\u001b[0;34m[\u001b[0m\u001b[0my\u001b[0m\u001b[0;34m]\u001b[0m\u001b[0;34m,\u001b[0m \u001b[0mfamily\u001b[0m \u001b[0;34m=\u001b[0m \u001b[0;34m\"gaussian\"\u001b[0m\u001b[0;34m)\u001b[0m\u001b[0;34m\u001b[0m\u001b[0m\n\u001b[0m\u001b[1;32m     10\u001b[0m         \u001b[0mcoeff\u001b[0m \u001b[0;34m=\u001b[0m \u001b[0mlr\u001b[0m\u001b[0;34m.\u001b[0m\u001b[0mcoef\u001b[0m\u001b[0;34m(\u001b[0m\u001b[0;34m)\u001b[0m\u001b[0;34m\u001b[0m\u001b[0m\n\u001b[1;32m     11\u001b[0m     \u001b[0mdf\u001b[0m \u001b[0;34m=\u001b[0m \u001b[0mdata\u001b[0m\u001b[0;34m[\u001b[0m\u001b[0;34m[\u001b[0m\u001b[0mx\u001b[0m\u001b[0;34m,\u001b[0m\u001b[0my\u001b[0m\u001b[0;34m]\u001b[0m\u001b[0;34m]\u001b[0m\u001b[0;34m\u001b[0m\u001b[0m\n",
      "\u001b[0;32m/Library/Python/2.7/site-packages/h2o/frame.pyc\u001b[0m in \u001b[0;36m__getitem__\u001b[0;34m(self, i)\u001b[0m\n\u001b[1;32m    424\u001b[0m       \u001b[0;32mraise\u001b[0m \u001b[0mValueError\u001b[0m\u001b[0;34m(\u001b[0m\u001b[0;34m\"Frame Removed\"\u001b[0m\u001b[0;34m)\u001b[0m\u001b[0;34m\u001b[0m\u001b[0m\n\u001b[1;32m    425\u001b[0m     \u001b[0;32mif\u001b[0m \u001b[0misinstance\u001b[0m\u001b[0;34m(\u001b[0m\u001b[0mi\u001b[0m\u001b[0;34m,\u001b[0m \u001b[0mint\u001b[0m\u001b[0;34m)\u001b[0m\u001b[0;34m:\u001b[0m   \u001b[0;32mreturn\u001b[0m \u001b[0mself\u001b[0m\u001b[0;34m.\u001b[0m\u001b[0m_vecs\u001b[0m\u001b[0;34m[\u001b[0m\u001b[0mi\u001b[0m\u001b[0;34m]\u001b[0m\u001b[0;34m\u001b[0m\u001b[0m\n\u001b[0;32m--> 426\u001b[0;31m     \u001b[0;32mif\u001b[0m \u001b[0misinstance\u001b[0m\u001b[0;34m(\u001b[0m\u001b[0mi\u001b[0m\u001b[0;34m,\u001b[0m \u001b[0mstr\u001b[0m\u001b[0;34m)\u001b[0m\u001b[0;34m:\u001b[0m   \u001b[0;32mreturn\u001b[0m \u001b[0mself\u001b[0m\u001b[0;34m.\u001b[0m\u001b[0m_find\u001b[0m\u001b[0;34m(\u001b[0m\u001b[0mi\u001b[0m\u001b[0;34m)\u001b[0m\u001b[0;34m\u001b[0m\u001b[0m\n\u001b[0m\u001b[1;32m    427\u001b[0m     \u001b[0;31m# Slice; return a Frame not a Vec\u001b[0m\u001b[0;34m\u001b[0m\u001b[0;34m\u001b[0m\u001b[0m\n\u001b[1;32m    428\u001b[0m     \u001b[0;32mif\u001b[0m \u001b[0misinstance\u001b[0m\u001b[0;34m(\u001b[0m\u001b[0mi\u001b[0m\u001b[0;34m,\u001b[0m \u001b[0mslice\u001b[0m\u001b[0;34m)\u001b[0m\u001b[0;34m:\u001b[0m \u001b[0;32mreturn\u001b[0m \u001b[0mH2OFrame\u001b[0m\u001b[0;34m(\u001b[0m\u001b[0mvecs\u001b[0m\u001b[0;34m=\u001b[0m\u001b[0mself\u001b[0m\u001b[0;34m.\u001b[0m\u001b[0m_vecs\u001b[0m\u001b[0;34m[\u001b[0m\u001b[0mi\u001b[0m\u001b[0;34m]\u001b[0m\u001b[0;34m)\u001b[0m\u001b[0;34m\u001b[0m\u001b[0m\n",
      "\u001b[0;32m/Library/Python/2.7/site-packages/h2o/frame.pyc\u001b[0m in \u001b[0;36m_find\u001b[0;34m(self, name)\u001b[0m\n\u001b[1;32m    401\u001b[0m   \u001b[0;31m# Find a named H2OVec and return it.  Error is name is missing\u001b[0m\u001b[0;34m\u001b[0m\u001b[0;34m\u001b[0m\u001b[0m\n\u001b[1;32m    402\u001b[0m   \u001b[0;32mdef\u001b[0m \u001b[0m_find\u001b[0m\u001b[0;34m(\u001b[0m\u001b[0mself\u001b[0m\u001b[0;34m,\u001b[0m\u001b[0mname\u001b[0m\u001b[0;34m)\u001b[0m\u001b[0;34m:\u001b[0m\u001b[0;34m\u001b[0m\u001b[0m\n\u001b[0;32m--> 403\u001b[0;31m     \u001b[0;32mreturn\u001b[0m \u001b[0mself\u001b[0m\u001b[0;34m.\u001b[0m\u001b[0m_vecs\u001b[0m\u001b[0;34m[\u001b[0m\u001b[0mself\u001b[0m\u001b[0;34m.\u001b[0m\u001b[0m_find_idx\u001b[0m\u001b[0;34m(\u001b[0m\u001b[0mname\u001b[0m\u001b[0;34m)\u001b[0m\u001b[0;34m]\u001b[0m\u001b[0;34m;\u001b[0m\u001b[0;34m\u001b[0m\u001b[0m\n\u001b[0m\u001b[1;32m    404\u001b[0m \u001b[0;34m\u001b[0m\u001b[0m\n\u001b[1;32m    405\u001b[0m   \u001b[0;31m# Find a named H2OVec and return the zero-based index for it.  Error is name is missing\u001b[0m\u001b[0;34m\u001b[0m\u001b[0;34m\u001b[0m\u001b[0m\n",
      "\u001b[0;32m/Library/Python/2.7/site-packages/h2o/frame.pyc\u001b[0m in \u001b[0;36m_find_idx\u001b[0;34m(self, name)\u001b[0m\n\u001b[1;32m    408\u001b[0m       \u001b[0;32mif\u001b[0m \u001b[0mname\u001b[0m \u001b[0;34m==\u001b[0m \u001b[0mv\u001b[0m\u001b[0;34m.\u001b[0m\u001b[0m_name\u001b[0m\u001b[0;34m:\u001b[0m\u001b[0;34m\u001b[0m\u001b[0m\n\u001b[1;32m    409\u001b[0m         \u001b[0;32mreturn\u001b[0m \u001b[0mi\u001b[0m\u001b[0;34m\u001b[0m\u001b[0m\n\u001b[0;32m--> 410\u001b[0;31m     \u001b[0;32mraise\u001b[0m \u001b[0mValueError\u001b[0m\u001b[0;34m(\u001b[0m\u001b[0;34m\"Name \"\u001b[0m \u001b[0;34m+\u001b[0m \u001b[0mname\u001b[0m \u001b[0;34m+\u001b[0m \u001b[0;34m\" not in Frame\"\u001b[0m\u001b[0;34m)\u001b[0m\u001b[0;34m\u001b[0m\u001b[0m\n\u001b[0m\u001b[1;32m    411\u001b[0m \u001b[0;34m\u001b[0m\u001b[0m\n\u001b[1;32m    412\u001b[0m   \u001b[0;31m# Column selection via integer, string (name) returns a Vec\u001b[0m\u001b[0;34m\u001b[0m\u001b[0;34m\u001b[0m\u001b[0m\n",
      "\u001b[0;31mValueError\u001b[0m: Name TravelTime not in Frame"
     ]
    }
   ],
   "source": [
    "# Impute missing travel times and re-plot\n",
    "h2o.impute(data = data, column = \"Distance\", by = [\"Origin\", \"Dest\"])\n",
    "scatter_plot(data, \"Distance\", \"TravelTime\")"
   ]
  },
  {
   "cell_type": "code",
   "execution_count": 72,
   "metadata": {
    "collapsed": false
   },
   "outputs": [
    {
     "ename": "EnvironmentError",
     "evalue": "h2o-py got an unexpected HTTP status code:\n 404 Not Found (method = GET; url = http://localhost:54321/3/Frames/py559f0dcf-2cbf-4b14-953a-f5c30eb13b49_part0). \ndetailed error messages: Object 'py559f0dcf-2cbf-4b14-953a-f5c30eb13b49_part0' not found for argument: key",
     "output_type": "error",
     "traceback": [
      "\u001b[0;31m---------------------------------------------------------------------------\u001b[0m",
      "\u001b[0;31mEnvironmentError\u001b[0m                          Traceback (most recent call last)",
      "\u001b[0;32m<ipython-input-72-137e30cff1a8>\u001b[0m in \u001b[0;36m<module>\u001b[0;34m()\u001b[0m\n\u001b[1;32m      3\u001b[0m \u001b[0;34m\u001b[0m\u001b[0m\n\u001b[1;32m      4\u001b[0m \u001b[0;31m# Create test/train split\u001b[0m\u001b[0;34m\u001b[0m\u001b[0;34m\u001b[0m\u001b[0m\n\u001b[0;32m----> 5\u001b[0;31m \u001b[0mdata_split\u001b[0m \u001b[0;34m=\u001b[0m \u001b[0mh2o\u001b[0m\u001b[0;34m.\u001b[0m\u001b[0msplit_frame\u001b[0m\u001b[0;34m(\u001b[0m\u001b[0mdata\u001b[0m\u001b[0;34m,\u001b[0m \u001b[0mratios\u001b[0m \u001b[0;34m=\u001b[0m \u001b[0;34m[\u001b[0m\u001b[0;36m0.75\u001b[0m\u001b[0;34m,\u001b[0m\u001b[0;36m0.25\u001b[0m\u001b[0;34m]\u001b[0m\u001b[0;34m)\u001b[0m\u001b[0;34m\u001b[0m\u001b[0m\n\u001b[0m\u001b[1;32m      6\u001b[0m \u001b[0mtrain\u001b[0m \u001b[0;34m=\u001b[0m \u001b[0mdata_split\u001b[0m\u001b[0;34m[\u001b[0m\u001b[0;36m1\u001b[0m\u001b[0;34m]\u001b[0m\u001b[0;34m\u001b[0m\u001b[0m\n\u001b[1;32m      7\u001b[0m \u001b[0mtest\u001b[0m  \u001b[0;34m=\u001b[0m \u001b[0mdata_split\u001b[0m\u001b[0;34m[\u001b[0m\u001b[0;36m2\u001b[0m\u001b[0;34m]\u001b[0m\u001b[0;34m\u001b[0m\u001b[0m\n",
      "\u001b[0;32m/Library/Python/2.7/site-packages/h2o/h2o.pyc\u001b[0m in \u001b[0;36msplit_frame\u001b[0;34m(data, ratios, destination_frames)\u001b[0m\n\u001b[1;32m    158\u001b[0m   \u001b[0msplits\u001b[0m \u001b[0;34m=\u001b[0m \u001b[0;34m[\u001b[0m\u001b[0;34m]\u001b[0m\u001b[0;34m\u001b[0m\u001b[0m\n\u001b[1;32m    159\u001b[0m   \u001b[0;32mfor\u001b[0m \u001b[0mi\u001b[0m \u001b[0;32min\u001b[0m \u001b[0mj\u001b[0m\u001b[0;34m[\u001b[0m\u001b[0;34m\"destination_frames\"\u001b[0m\u001b[0;34m]\u001b[0m\u001b[0;34m:\u001b[0m\u001b[0;34m\u001b[0m\u001b[0m\n\u001b[0;32m--> 160\u001b[0;31m     \u001b[0msplits\u001b[0m \u001b[0;34m+=\u001b[0m \u001b[0;34m[\u001b[0m\u001b[0mget_frame\u001b[0m\u001b[0;34m(\u001b[0m\u001b[0mi\u001b[0m\u001b[0;34m[\u001b[0m\u001b[0;34m\"name\"\u001b[0m\u001b[0;34m]\u001b[0m\u001b[0;34m)\u001b[0m\u001b[0;34m]\u001b[0m\u001b[0;34m\u001b[0m\u001b[0m\n\u001b[0m\u001b[1;32m    161\u001b[0m     \u001b[0mremoveFrameShallow\u001b[0m\u001b[0;34m(\u001b[0m\u001b[0mi\u001b[0m\u001b[0;34m[\u001b[0m\u001b[0;34m\"name\"\u001b[0m\u001b[0;34m]\u001b[0m\u001b[0;34m)\u001b[0m\u001b[0;34m\u001b[0m\u001b[0m\n\u001b[1;32m    162\u001b[0m   \u001b[0mremoveFrameShallow\u001b[0m\u001b[0;34m(\u001b[0m\u001b[0mfr\u001b[0m\u001b[0;34m)\u001b[0m\u001b[0;34m\u001b[0m\u001b[0m\n",
      "\u001b[0;32m/Library/Python/2.7/site-packages/h2o/h2o.pyc\u001b[0m in \u001b[0;36mget_frame\u001b[0;34m(frame_id)\u001b[0m\n\u001b[1;32m    167\u001b[0m   \u001b[0;32mif\u001b[0m \u001b[0mframe_id\u001b[0m \u001b[0;32mis\u001b[0m \u001b[0mNone\u001b[0m\u001b[0;34m:\u001b[0m\u001b[0;34m\u001b[0m\u001b[0m\n\u001b[1;32m    168\u001b[0m     \u001b[0;32mraise\u001b[0m \u001b[0mValueError\u001b[0m\u001b[0;34m(\u001b[0m\u001b[0;34m\"frame_id must not be None\"\u001b[0m\u001b[0;34m)\u001b[0m\u001b[0;34m\u001b[0m\u001b[0m\n\u001b[0;32m--> 169\u001b[0;31m   \u001b[0mres\u001b[0m \u001b[0;34m=\u001b[0m \u001b[0mH2OConnection\u001b[0m\u001b[0;34m.\u001b[0m\u001b[0mget_json\u001b[0m\u001b[0;34m(\u001b[0m\u001b[0;34m\"Frames/\"\u001b[0m\u001b[0;34m+\u001b[0m\u001b[0mframe_id\u001b[0m\u001b[0;34m)\u001b[0m\u001b[0;34m\u001b[0m\u001b[0m\n\u001b[0m\u001b[1;32m    170\u001b[0m   \u001b[0mres\u001b[0m \u001b[0;34m=\u001b[0m \u001b[0mres\u001b[0m\u001b[0;34m[\u001b[0m\u001b[0;34m\"frames\"\u001b[0m\u001b[0;34m]\u001b[0m\u001b[0;34m[\u001b[0m\u001b[0;36m0\u001b[0m\u001b[0;34m]\u001b[0m\u001b[0;34m\u001b[0m\u001b[0m\n\u001b[1;32m    171\u001b[0m   \u001b[0mcolnames\u001b[0m \u001b[0;34m=\u001b[0m \u001b[0;34m[\u001b[0m\u001b[0mv\u001b[0m\u001b[0;34m[\u001b[0m\u001b[0;34m\"label\"\u001b[0m\u001b[0;34m]\u001b[0m \u001b[0;32mfor\u001b[0m \u001b[0mv\u001b[0m \u001b[0;32min\u001b[0m \u001b[0mres\u001b[0m\u001b[0;34m[\u001b[0m\u001b[0;34m\"columns\"\u001b[0m\u001b[0;34m]\u001b[0m\u001b[0;34m]\u001b[0m\u001b[0;34m\u001b[0m\u001b[0m\n",
      "\u001b[0;32m/Library/Python/2.7/site-packages/h2o/connection.pyc\u001b[0m in \u001b[0;36mget_json\u001b[0;34m(url_suffix, **kwargs)\u001b[0m\n\u001b[1;32m    350\u001b[0m     \u001b[0;32mif\u001b[0m \u001b[0m__H2OCONN__\u001b[0m \u001b[0;32mis\u001b[0m \u001b[0mNone\u001b[0m\u001b[0;34m:\u001b[0m\u001b[0;34m\u001b[0m\u001b[0m\n\u001b[1;32m    351\u001b[0m       \u001b[0;32mraise\u001b[0m \u001b[0mValueError\u001b[0m\u001b[0;34m(\u001b[0m\u001b[0;34m\"No h2o connection. Did you run `h2o.init()` ?\"\u001b[0m\u001b[0;34m)\u001b[0m\u001b[0;34m\u001b[0m\u001b[0m\n\u001b[0;32m--> 352\u001b[0;31m     \u001b[0;32mreturn\u001b[0m \u001b[0m__H2OCONN__\u001b[0m\u001b[0;34m.\u001b[0m\u001b[0m_rest_json\u001b[0m\u001b[0;34m(\u001b[0m\u001b[0murl_suffix\u001b[0m\u001b[0;34m,\u001b[0m \u001b[0;34m\"GET\"\u001b[0m\u001b[0;34m,\u001b[0m \u001b[0mNone\u001b[0m\u001b[0;34m,\u001b[0m \u001b[0;34m**\u001b[0m\u001b[0mkwargs\u001b[0m\u001b[0;34m)\u001b[0m\u001b[0;34m\u001b[0m\u001b[0m\n\u001b[0m\u001b[1;32m    353\u001b[0m \u001b[0;34m\u001b[0m\u001b[0m\n\u001b[1;32m    354\u001b[0m   \u001b[0;34m@\u001b[0m\u001b[0mstaticmethod\u001b[0m\u001b[0;34m\u001b[0m\u001b[0m\n",
      "\u001b[0;32m/Library/Python/2.7/site-packages/h2o/connection.pyc\u001b[0m in \u001b[0;36m_rest_json\u001b[0;34m(self, url_suffix, method, file_upload_info, **kwargs)\u001b[0m\n\u001b[1;32m    359\u001b[0m \u001b[0;34m\u001b[0m\u001b[0m\n\u001b[1;32m    360\u001b[0m   \u001b[0;32mdef\u001b[0m \u001b[0m_rest_json\u001b[0m\u001b[0;34m(\u001b[0m\u001b[0mself\u001b[0m\u001b[0;34m,\u001b[0m \u001b[0murl_suffix\u001b[0m\u001b[0;34m,\u001b[0m \u001b[0mmethod\u001b[0m\u001b[0;34m,\u001b[0m \u001b[0mfile_upload_info\u001b[0m\u001b[0;34m,\u001b[0m \u001b[0;34m**\u001b[0m\u001b[0mkwargs\u001b[0m\u001b[0;34m)\u001b[0m\u001b[0;34m:\u001b[0m\u001b[0;34m\u001b[0m\u001b[0m\n\u001b[0;32m--> 361\u001b[0;31m     \u001b[0mraw_txt\u001b[0m \u001b[0;34m=\u001b[0m \u001b[0mself\u001b[0m\u001b[0;34m.\u001b[0m\u001b[0m_do_raw_rest\u001b[0m\u001b[0;34m(\u001b[0m\u001b[0murl_suffix\u001b[0m\u001b[0;34m,\u001b[0m \u001b[0mmethod\u001b[0m\u001b[0;34m,\u001b[0m \u001b[0mfile_upload_info\u001b[0m\u001b[0;34m,\u001b[0m \u001b[0;34m**\u001b[0m\u001b[0mkwargs\u001b[0m\u001b[0;34m)\u001b[0m\u001b[0;34m\u001b[0m\u001b[0m\n\u001b[0m\u001b[1;32m    362\u001b[0m     \u001b[0;32mreturn\u001b[0m \u001b[0mself\u001b[0m\u001b[0;34m.\u001b[0m\u001b[0m_process_tables\u001b[0m\u001b[0;34m(\u001b[0m\u001b[0mraw_txt\u001b[0m\u001b[0;34m.\u001b[0m\u001b[0mjson\u001b[0m\u001b[0;34m(\u001b[0m\u001b[0;34m)\u001b[0m\u001b[0;34m)\u001b[0m\u001b[0;34m\u001b[0m\u001b[0m\n\u001b[1;32m    363\u001b[0m \u001b[0;34m\u001b[0m\u001b[0m\n",
      "\u001b[0;32m/Library/Python/2.7/site-packages/h2o/connection.pyc\u001b[0m in \u001b[0;36m_do_raw_rest\u001b[0;34m(self, url_suffix, method, file_upload_info, **kwargs)\u001b[0m\n\u001b[1;32m    409\u001b[0m       raise EnvironmentError((\"h2o-py got an unexpected HTTP status code:\\n {} {} (method = {}; url = {}). \\n\"+ \\\n\u001b[1;32m    410\u001b[0m                               \"detailed error messages: {}\")\n\u001b[0;32m--> 411\u001b[0;31m                              .format(http_result.status_code,http_result.reason,method,url,detailed_error_msgs))\n\u001b[0m\u001b[1;32m    412\u001b[0m \u001b[0;34m\u001b[0m\u001b[0m\n\u001b[1;32m    413\u001b[0m     \u001b[0;31m# TODO: is.logging? -> write to logs\u001b[0m\u001b[0;34m\u001b[0m\u001b[0;34m\u001b[0m\u001b[0m\n",
      "\u001b[0;31mEnvironmentError\u001b[0m: h2o-py got an unexpected HTTP status code:\n 404 Not Found (method = GET; url = http://localhost:54321/3/Frames/py559f0dcf-2cbf-4b14-953a-f5c30eb13b49_part0). \ndetailed error messages: Object 'py559f0dcf-2cbf-4b14-953a-f5c30eb13b49_part0' not found for argument: key"
     ]
    }
   ],
   "source": [
    "# ----------\n",
    "# 3- Fit a model on train; using test as validation\n",
    "\n",
    "# Create test/train split\n",
    "data_split = h2o.split_frame(data, ratios = [0.75,0.25])\n",
    "train = data_split[1]\n",
    "test  = data_split[2]\n",
    "\n",
    "# Set predictor and response variables\n",
    "myY = \"IsDepDelayed\"\n",
    "myX = [\"Origin\", \"Dest\", \"Year\", \"UniqueCarrier\", \"DayOfWeek\", \"Month\", \"Distance\", \"FlightNum\"]\n",
    "\n",
    "# Simple GLM - Predict Delays\n",
    "data_glm = h2o.glm(x           =train[myX],\n",
    "                   y           =train[myY],\n",
    "                   validation_x=test [myX],\n",
    "                   validation_y=test [myY],\n",
    "                   family      =\"binomial\",\n",
    "                   standardize =True)\n",
    "\n",
    "# Simple GBM\n",
    "data_gbm = h2o.gbm(x              =train[myX],\n",
    "                   y              =train[myY],\n",
    "                   validation_x   =test [myX],\n",
    "                   validation_y   =test [myY],\n",
    "                   balance_classes=True,\n",
    "                   ntrees         =3,\n",
    "                   max_depth      =1,\n",
    "                   distribution   =\"bernoulli\",\n",
    "                   learn_rate     =0.1,\n",
    "                   min_rows       =2)\n",
    "\n",
    "# Complex GBM\n",
    "data_gbm2 = h2o.gbm(x              =train[myX],\n",
    "                    y              =train[myY],\n",
    "                    validation_x   =test [myX],\n",
    "                    validation_y   =test [myY],\n",
    "                    balance_classes=True,\n",
    "                    ntrees         =50,\n",
    "                    max_depth      =5,\n",
    "                    distribution   =\"bernoulli\",\n",
    "                    learn_rate     =0.1,\n",
    "                    min_rows       =2)\n",
    "\n",
    "# Simple Random Forest\n",
    "data_rf = h2o.random_forest(x              =train[myX],\n",
    "                            y              =train[myY],\n",
    "                            validation_x   =test [myX],\n",
    "                            validation_y   =test [myY],\n",
    "                            ntrees         =5,\n",
    "                            max_depth      =2,\n",
    "                            balance_classes=True)\n",
    "\n",
    "# Complex Random Forest\n",
    "data_rf2 = h2o.random_forest(x              =train[myX], \n",
    "                             y              =train[myY],\n",
    "                             validation_x   =test [myX],\n",
    "                             validation_y   =test [myY],\n",
    "                             ntrees         =10,\n",
    "                             max_depth      =5,\n",
    "                             balance_classes=True)\n",
    "\n",
    "# Deep Learning with 5 epochs\n",
    "data_dl = h2o.deeplearning(x                   =train[myX],\n",
    "                           y                   =train[myY],\n",
    "                           validation_x        =test [myX],\n",
    "                           validation_y        =test [myY],\n",
    "                           hidden              =[10,10],\n",
    "                           epochs              =5,\n",
    "                           variable_importances=True,\n",
    "                           balance_classes     =True,\n",
    "                           loss                =\"Automatic\")"
   ]
  },
  {
   "cell_type": "code",
   "execution_count": 65,
   "metadata": {
    "collapsed": false,
    "scrolled": true
   },
   "outputs": [
    {
     "ename": "NameError",
     "evalue": "name 'data_glm' is not defined",
     "output_type": "error",
     "traceback": [
      "\u001b[0;31m---------------------------------------------------------------------------\u001b[0m",
      "\u001b[0;31mNameError\u001b[0m                                 Traceback (most recent call last)",
      "\u001b[0;32m<ipython-input-65-bd986eeea24f>\u001b[0m in \u001b[0;36m<module>\u001b[0;34m()\u001b[0m\n\u001b[1;32m      1\u001b[0m \u001b[0;31m# Variable importances from each algorithm\u001b[0m\u001b[0;34m\u001b[0m\u001b[0;34m\u001b[0m\u001b[0m\n\u001b[0;32m----> 2\u001b[0;31m \u001b[0mabs\u001b[0m\u001b[0;34m(\u001b[0m\u001b[0mdata_glm\u001b[0m\u001b[0;34m.\u001b[0m\u001b[0mcoef_norm\u001b[0m\u001b[0;34m(\u001b[0m\u001b[0;34m)\u001b[0m\u001b[0;34m)\u001b[0m   \u001b[0;31m# Magnitude of normalized coefficients\u001b[0m\u001b[0;34m\u001b[0m\u001b[0m\n\u001b[0m\u001b[1;32m      3\u001b[0m \u001b[0mdata_gbm\u001b[0m\u001b[0;34m.\u001b[0m\u001b[0mvarimp\u001b[0m\u001b[0;34m(\u001b[0m\u001b[0;34m)\u001b[0m\u001b[0;34m\u001b[0m\u001b[0m\n\u001b[1;32m      4\u001b[0m \u001b[0mdata_rf\u001b[0m\u001b[0;34m.\u001b[0m\u001b[0mvarimp\u001b[0m\u001b[0;34m(\u001b[0m\u001b[0;34m)\u001b[0m\u001b[0;34m\u001b[0m\u001b[0m\n",
      "\u001b[0;31mNameError\u001b[0m: name 'data_glm' is not defined"
     ]
    }
   ],
   "source": [
    "# Variable importances from each algorithm\n",
    "abs(data_glm.coef_norm())   # Magnitude of normalized coefficients\n",
    "data_gbm.varimp()\n",
    "data_rf.varimp()"
   ]
  },
  {
   "cell_type": "code",
   "execution_count": 17,
   "metadata": {
    "collapsed": false,
    "scrolled": false
   },
   "outputs": [
    {
     "ename": "NameError",
     "evalue": "name 'predict' is not defined",
     "output_type": "error",
     "traceback": [
      "\u001b[0;31m---------------------------------------------------------------------------\u001b[0m",
      "\u001b[0;31mNameError\u001b[0m                                 Traceback (most recent call last)",
      "\u001b[0;32m<ipython-input-17-9ae6427a7a88>\u001b[0m in \u001b[0;36m<module>\u001b[0;34m()\u001b[0m\n\u001b[1;32m      1\u001b[0m \u001b[0;31m# Predict on test dataset with GBM model\u001b[0m\u001b[0;34m\u001b[0m\u001b[0;34m\u001b[0m\u001b[0m\n\u001b[0;32m----> 2\u001b[0;31m \u001b[0mbest_pred\u001b[0m \u001b[0;34m=\u001b[0m \u001b[0mpredict\u001b[0m\u001b[0;34m(\u001b[0m\u001b[0mdata_gbm2\u001b[0m\u001b[0;34m,\u001b[0m \u001b[0mtest\u001b[0m\u001b[0;34m)\u001b[0m\u001b[0;34m\u001b[0m\u001b[0m\n\u001b[0m",
      "\u001b[0;31mNameError\u001b[0m: name 'predict' is not defined"
     ]
    }
   ],
   "source": [
    "# Predict on test dataset with GBM model\n",
    "best_pred = predict(data_gbm2, test)"
   ]
  },
  {
   "cell_type": "code",
   "execution_count": null,
   "metadata": {
    "collapsed": true
   },
   "outputs": [],
   "source": []
  }
 ],
 "metadata": {
  "kernelspec": {
   "display_name": "Python 2",
   "language": "python",
   "name": "python2"
  },
  "language_info": {
   "codemirror_mode": {
    "name": "ipython",
    "version": 2
   },
   "file_extension": ".py",
   "mimetype": "text/x-python",
   "name": "python",
   "nbconvert_exporter": "python",
   "pygments_lexer": "ipython2",
   "version": "2.7.6"
  }
 },
 "nbformat": 4,
 "nbformat_minor": 0
}
