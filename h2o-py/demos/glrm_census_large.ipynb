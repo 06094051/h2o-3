{
 "cells": [
  {
   "cell_type": "code",
   "execution_count": 1,
   "metadata": {
    "collapsed": true
   },
   "outputs": [],
   "source": [
    "import h2o\n",
    "import csv\n",
    "import time\n",
    "import numpy as np\n",
    "import matplotlib.pyplot as plt\n",
    "from h2o.estimators.glrm import H2OGeneralizedLowRankEstimator\n",
    "from h2o.estimators.deeplearning import H2ODeepLearningEstimator"
   ]
  },
  {
   "cell_type": "code",
   "execution_count": 2,
   "metadata": {
    "collapsed": false
   },
   "outputs": [
    {
     "name": "stdout",
     "output_type": "stream",
     "text": [
      "Warning: Version mismatch. H2O is version 3.5.0.99999, but the python package is version UNKNOWN.\n"
     ]
    },
    {
     "data": {
      "text/html": [
       "<div style=\"overflow:auto\"><table style=\"width:50%\"><tr><td>H2O cluster uptime: </td>\n",
       "<td>1 minutes 18 milliseconds </td></tr>\n",
       "<tr><td>H2O cluster version: </td>\n",
       "<td>3.5.0.99999</td></tr>\n",
       "<tr><td>H2O cluster name: </td>\n",
       "<td>ludirehak</td></tr>\n",
       "<tr><td>H2O cluster total nodes: </td>\n",
       "<td>1</td></tr>\n",
       "<tr><td>H2O cluster total memory: </td>\n",
       "<td>4.44 GB</td></tr>\n",
       "<tr><td>H2O cluster total cores: </td>\n",
       "<td>8</td></tr>\n",
       "<tr><td>H2O cluster allowed cores: </td>\n",
       "<td>8</td></tr>\n",
       "<tr><td>H2O cluster healthy: </td>\n",
       "<td>True</td></tr>\n",
       "<tr><td>H2O Connection ip: </td>\n",
       "<td>127.0.0.1</td></tr>\n",
       "<tr><td>H2O Connection port: </td>\n",
       "<td>54321</td></tr></table></div>"
      ],
      "text/plain": [
       "--------------------------  -------------------------\n",
       "H2O cluster uptime:         1 minutes 18 milliseconds\n",
       "H2O cluster version:        3.5.0.99999\n",
       "H2O cluster name:           ludirehak\n",
       "H2O cluster total nodes:    1\n",
       "H2O cluster total memory:   4.44 GB\n",
       "H2O cluster total cores:    8\n",
       "H2O cluster allowed cores:  8\n",
       "H2O cluster healthy:        True\n",
       "H2O Connection ip:          127.0.0.1\n",
       "H2O Connection port:        54321\n",
       "--------------------------  -------------------------"
      ]
     },
     "metadata": {},
     "output_type": "display_data"
    }
   ],
   "source": [
    "h2o.init()"
   ]
  },
  {
   "cell_type": "code",
   "execution_count": 3,
   "metadata": {
    "collapsed": false
   },
   "outputs": [
    {
     "ename": "ValueError",
     "evalue": "File not found: bigdata/laptop/census/ACS_13_5YR_DP02_cleaned.zip",
     "output_type": "error",
     "traceback": [
      "\u001b[0;31m---------------------------------------------------------------------------\u001b[0m",
      "\u001b[0;31mValueError\u001b[0m                                Traceback (most recent call last)",
      "\u001b[0;32m<ipython-input-3-1ca909c2f5ad>\u001b[0m in \u001b[0;36m<module>\u001b[0;34m()\u001b[0m\n\u001b[1;32m      2\u001b[0m \u001b[0;34m\u001b[0m\u001b[0m\n\u001b[1;32m      3\u001b[0m \u001b[0;31m# Import and parse ACS 2013 5-year DP02 demographic data\u001b[0m\u001b[0;34m\u001b[0m\u001b[0;34m\u001b[0m\u001b[0m\n\u001b[0;32m----> 4\u001b[0;31m \u001b[0macs_orig\u001b[0m \u001b[0;34m=\u001b[0m \u001b[0mh2o\u001b[0m\u001b[0;34m.\u001b[0m\u001b[0mupload_file\u001b[0m\u001b[0;34m(\u001b[0m\u001b[0mpath\u001b[0m\u001b[0;34m=\u001b[0m\u001b[0m_locate\u001b[0m\u001b[0;34m(\u001b[0m\u001b[0;34m\"bigdata/laptop/census/ACS_13_5YR_DP02_cleaned.zip\"\u001b[0m\u001b[0;34m)\u001b[0m\u001b[0;34m,\u001b[0m \u001b[0mcol_types\u001b[0m \u001b[0;34m=\u001b[0m \u001b[0;34m(\u001b[0m\u001b[0;34m[\u001b[0m\u001b[0;34m\"enum\"\u001b[0m\u001b[0;34m]\u001b[0m \u001b[0;34m+\u001b[0m \u001b[0;34m[\u001b[0m\u001b[0;34m\"numeric\"\u001b[0m\u001b[0;34m]\u001b[0m\u001b[0;34m*\u001b[0m\u001b[0;36m149\u001b[0m\u001b[0;34m)\u001b[0m\u001b[0;34m)\u001b[0m\u001b[0;34m\u001b[0m\u001b[0m\n\u001b[0m\u001b[1;32m      5\u001b[0m \u001b[0macs_orig\u001b[0m\u001b[0;34m.\u001b[0m\u001b[0mdescribe\u001b[0m\u001b[0;34m(\u001b[0m\u001b[0;34m)\u001b[0m\u001b[0;34m\u001b[0m\u001b[0m\n\u001b[1;32m      6\u001b[0m \u001b[0;34m\u001b[0m\u001b[0m\n",
      "\u001b[0;32m/Library/Python/2.7/site-packages/h2o/h2o.pyc\u001b[0m in \u001b[0;36m_locate\u001b[0;34m(path)\u001b[0m\n\u001b[1;32m   1832\u001b[0m     \u001b[0mnext_tmp_dir\u001b[0m \u001b[0;34m=\u001b[0m \u001b[0mos\u001b[0m\u001b[0;34m.\u001b[0m\u001b[0mpath\u001b[0m\u001b[0;34m.\u001b[0m\u001b[0mdirname\u001b[0m\u001b[0;34m(\u001b[0m\u001b[0mtmp_dir\u001b[0m\u001b[0;34m)\u001b[0m\u001b[0;34m\u001b[0m\u001b[0m\n\u001b[1;32m   1833\u001b[0m     \u001b[0;32mif\u001b[0m \u001b[0mnext_tmp_dir\u001b[0m \u001b[0;34m==\u001b[0m \u001b[0mtmp_dir\u001b[0m\u001b[0;34m:\u001b[0m\u001b[0;34m\u001b[0m\u001b[0m\n\u001b[0;32m-> 1834\u001b[0;31m       \u001b[0;32mraise\u001b[0m \u001b[0mValueError\u001b[0m\u001b[0;34m(\u001b[0m\u001b[0;34m\"File not found: \"\u001b[0m \u001b[0;34m+\u001b[0m \u001b[0mpath\u001b[0m\u001b[0;34m)\u001b[0m\u001b[0;34m\u001b[0m\u001b[0m\n\u001b[0m\u001b[1;32m   1835\u001b[0m \u001b[0;34m\u001b[0m\u001b[0m\n\u001b[1;32m   1836\u001b[0m     \u001b[0mtmp_dir\u001b[0m \u001b[0;34m=\u001b[0m \u001b[0mnext_tmp_dir\u001b[0m\u001b[0;34m\u001b[0m\u001b[0m\n",
      "\u001b[0;31mValueError\u001b[0m: File not found: bigdata/laptop/census/ACS_13_5YR_DP02_cleaned.zip"
     ]
    }
   ],
   "source": [
    "from h2o.h2o import _locate # private function. used to find files within h2o git project directory.\n",
    "\n",
    "# Import and parse ACS 2013 5-year DP02 demographic data\n",
    "acs_orig = h2o.upload_file(path=_locate(\"bigdata/laptop/census/ACS_13_5YR_DP02_cleaned.zip\"), col_types = ([\"enum\"] + [\"numeric\"]*149))\n",
    "acs_orig.describe()\n",
    "\n",
    "acs_zcta_col = acs_orig[\"ZCTA5\"].asfactor()\n",
    "acs_full = acs_orig.drop(\"ZCTA5\")"
   ]
  },
  {
   "cell_type": "code",
   "execution_count": null,
   "metadata": {
    "collapsed": false
   },
   "outputs": [],
   "source": [
    "# Import and parse WHD 2014-2015 labor violations data\n",
    "whd_zcta = h2o.upload_file(path=_locate(\"bigdata/laptop/census/whd_zcta_cleaned.zip\"), col_types = ([\"enum\"]*7 + [\"numeric\"]*97))\n",
    "whd_zcta[\"zcta5_cd\"] = whd_zcta[\"zcta5_cd\"].asfactor()\n",
    "whd_zcta.describe()"
   ]
  },
  {
   "cell_type": "code",
   "execution_count": null,
   "metadata": {
    "collapsed": false
   },
   "outputs": [],
   "source": [
    "# Run GLRM to reduce ZCTA demographics to 10 archetypes\n",
    "acs_model = H2OGeneralizedLowRankEstimator(k = 10,\n",
    "                                           transform = \"STANDARDIZE\",\n",
    "                                           loss = \"Quadratic\",\n",
    "                                           regularization_x = \"Quadratic\",\n",
    "                                           regularization_y = \"L1\",\n",
    "                                           gamma_x = 0.25,\n",
    "                                           gamma_y = 0.5,\n",
    "                                           max_iterations = 100)\n",
    "acs_model.train(x = acs_full.names, training_frame= acs_full)\n",
    "print acs_model"
   ]
  },
  {
   "cell_type": "code",
   "execution_count": null,
   "metadata": {
    "collapsed": false
   },
   "outputs": [],
   "source": [
    "# Plot objective function value each iteration\n",
    "acs_model_score = acs_model.score_history()\n",
    "plt.xlabel(\"Iteration\")\n",
    "plt.ylabel(\"Objective\")\n",
    "plt.title(\"Objective Function Value per Iteration\")\n",
    "plt.plot(acs_model_score[\"iteration\"], acs_model_score[\"objective\"])\n",
    "plt.show()"
   ]
  },
  {
   "cell_type": "code",
   "execution_count": null,
   "metadata": {
    "collapsed": false
   },
   "outputs": [],
   "source": [
    "# Embedding of ZCTAs into archetypes (X)\n",
    "zcta_arch_x = h2o.get_frame(acs_model._model_json[\"output\"][\"representation_name\"])\n",
    "zcta_arch_x.head()"
   ]
  },
  {
   "cell_type": "code",
   "execution_count": null,
   "metadata": {
    "collapsed": false
   },
   "outputs": [],
   "source": [
    "# BUG: The or command isn't working, idx only contains indicator of \"10065\"\n",
    "# Plot a few ZCTAs on the first two archetypes\n",
    "idx = ((acs_zcta_col == \"10065\") |   # Manhattan, NY (Upper East Side)\n",
    "       (acs_zcta_col == \"11219\") |   # Manhattan, NY (East Harlem)\n",
    "       (acs_zcta_col == \"66753\") |   # McCune, KS\n",
    "       (acs_zcta_col == \"84104\") |   # Salt Lake City, UT\n",
    "       (acs_zcta_col == \"94086\") |   # Sunnyvale, CA\n",
    "       (acs_zcta_col == \"95014\"))    # Cupertino, CA\n",
    "\n",
    "city_arch = np.array(h2o.as_list(zcta_arch_x[idx,[0,1]]))\n",
    "plt.xlabel(\"First Archetype\")\n",
    "plt.ylabel(\"Second Archetype\")\n",
    "plt.title(\"Archetype Representation of Zip Code Tabulation Areas\")\n",
    "plt.plot(city_arch[:,0], city_arch[:,1], \"o\")\n",
    "\n",
    "# Label city names corresponding to ZCTAs\n",
    "city_names = [\"Upper East Side\", \"East Harlem\", \"McCune\", \"Salt Lake City\", \"Sunnyvale\", \"Cupertino\"]\n",
    "for i, txt in enumerate(city_names):\n",
    "   plt.annotate(txt, (city_arch[i,0], city_arch[i,1]))\n",
    "plt.show()"
   ]
  },
  {
   "cell_type": "code",
   "execution_count": null,
   "metadata": {
    "collapsed": false
   },
   "outputs": [],
   "source": [
    "# Archetypes to full feature mapping (Y)\n",
    "arch_feat_y = acs_model._model_json[\"output\"][\"archetypes\"]\n",
    "print arch_feat_y"
   ]
  },
  {
   "cell_type": "code",
   "execution_count": null,
   "metadata": {
    "collapsed": false
   },
   "outputs": [],
   "source": [
    "# Split WHD data into test/train with 20/80 ratio\n",
    "split = whd_zcta[\"flsa_repeat_violator\"].runif()\n",
    "train = whd_zcta[split <= 0.8]\n",
    "test = whd_zcta[split > 0.8]\n",
    "\n",
    "# Build a DL model to predict repeat violators and score\n",
    "s = time.time()\n",
    "dl_orig = H2ODeepLearningEstimator(epochs = 0.1, hidden = [50,50,50], distribution = \"multinomial\")\n",
    "idx_x = range(4,150)\n",
    "idx_x.remove(train.names.index(\"flsa_repeat_violator\"))\n",
    "\n",
    "dl_orig.train(x               =idx_x,\n",
    "              y               =\"flsa_repeat_violator\",\n",
    "              training_frame  =train,\n",
    "              validation_frame=test)\n",
    "orig_elapsed = time.time() - s"
   ]
  },
  {
   "cell_type": "code",
   "execution_count": null,
   "metadata": {
    "collapsed": false
   },
   "outputs": [],
   "source": [
    "# Replace zcta5_cd column in WHD data with GLRM archetypes\n",
    "zcta_arch_x[\"zcta5_cd\"] = acs_zcta_col\n",
    "whd_arch = whd_zcta.merge(zcta_arch_x, allLeft = True, allRite = False)\n",
    "whd_arch = whd_arch.drop(\"zcta5_cd\")\n",
    "whd_arch.describe()"
   ]
  },
  {
   "cell_type": "code",
   "execution_count": null,
   "metadata": {
    "collapsed": false
   },
   "outputs": [],
   "source": [
    "# Split WHD data into test/train with 20/80 ratio\n",
    "train_mod = whd_arch[split <= 0.8]\n",
    "test_mod = whd_arch[split > 0.8]\n",
    "\n",
    "# Build a GBM model to predict repeat violators and score\n",
    "s = time.time()\n",
    "dl_mod = H2ODeepLearningEstimator(epochs = 0.1, hidden = [50,50,50], distribution = \"multinomial\")\n",
    "\n",
    "dl_mod.train(x               =idx_x,\n",
    "             y               =\"flsa_repeat_violator\",\n",
    "             training_frame  =train,\n",
    "             validation_frame=test)\n",
    "\n",
    "mod_elapsed = time.time() - s"
   ]
  },
  {
   "cell_type": "code",
   "execution_count": null,
   "metadata": {
    "collapsed": false
   },
   "outputs": [],
   "source": [
    "# Model performance comparison\n",
    "train_ll_orig = dl_orig.model_performance(train).logloss()\n",
    "test_ll_orig  = dl_orig.model_performance(test ).logloss()\n",
    "train_ll_mod  = dl_mod .model_performance(train).logloss()\n",
    "test_ll_mod   = dl_mod .model_performance(test ).logloss()\n",
    "\n",
    "# Print results in pretty HTML table\n",
    "header = [\"Metric\"   , \"Original\"    , \"Reduced\"    ]\n",
    "table = [\n",
    "         [\"Runtime\"  , orig_elapsed  , mod_elapsed  ],\n",
    "         [\"Train LogLoss\", train_ll_orig, train_ll_mod],\n",
    "         [\"Test LogLoss\" , test_ll_orig , test_ll_mod ],\n",
    "        ]\n",
    "h2o.H2ODisplay(table,header)"
   ]
  },
  {
   "cell_type": "code",
   "execution_count": null,
   "metadata": {
    "collapsed": true
   },
   "outputs": [],
   "source": []
  }
 ],
 "metadata": {
  "kernelspec": {
   "display_name": "Python 2",
   "language": "python",
   "name": "python2"
  },
  "language_info": {
   "codemirror_mode": {
    "name": "ipython",
    "version": 2
   },
   "file_extension": ".py",
   "mimetype": "text/x-python",
   "name": "python",
   "nbconvert_exporter": "python",
   "pygments_lexer": "ipython2",
   "version": "2.7.5"
  }
 },
 "nbformat": 4,
 "nbformat_minor": 0
}
