{
 "metadata": {
  "name": ""
 },
 "nbformat": 3,
 "nbformat_minor": 0,
 "worksheets": [
  {
   "cells": [
    {
     "cell_type": "code",
     "collapsed": false,
     "input": [
      "from h2o import H2OConnection\n",
      "from h2o import H2OFrame\n",
      "from h2o import H2OGBM\n"
     ],
     "language": "python",
     "metadata": {},
     "outputs": [],
     "prompt_number": 1
    },
    {
     "cell_type": "code",
     "collapsed": false,
     "input": [
      "# Connect to a pre-existing cluster\n",
      "cluster = H2OConnection()\n"
     ],
     "language": "python",
     "metadata": {},
     "outputs": [],
     "prompt_number": 2
    },
    {
     "cell_type": "code",
     "collapsed": false,
     "input": [
      "# Read in data\n",
      "df = H2OFrame(remote_fname=\"smalldata/logreg/prostate.csv\")\n",
      "print df.describe()\n"
     ],
     "language": "python",
     "metadata": {},
     "outputs": [],
     "prompt_number": 3
    },
    {
     "cell_type": "code",
     "collapsed": false,
     "input": [
      "# Remove ID from training frame\n",
      "train = df.drop(\"ID\")\n"
     ],
     "language": "python",
     "metadata": {},
     "outputs": [],
     "prompt_number": 4
    },
    {
     "cell_type": "code",
     "collapsed": false,
     "input": [
      "# For VOL & GLEASON, a zero really means \"missing\"\n",
      "vol = train['VOL']\n",
      "vol[vol==0] = None\n",
      "gle = train['GLEASON']\n",
      "gle[gle==0] = None\n"
     ],
     "language": "python",
     "metadata": {},
     "outputs": [],
     "prompt_number": 5
    },
    {
     "cell_type": "code",
     "collapsed": false,
     "input": [
      "# Convert CAPSULE to a logical factor\n",
      "train['CAPSULE'] = train['CAPSULE'].asfactor()\n"
     ],
     "language": "python",
     "metadata": {},
     "outputs": [],
     "prompt_number": 6
    },
    {
     "cell_type": "code",
     "collapsed": false,
     "input": [
      "# See that the data is ready\n",
      "print train.describe()\n"
     ],
     "language": "python",
     "metadata": {},
     "outputs": [],
     "prompt_number": 7
    },
    {
     "cell_type": "code",
     "collapsed": false,
     "input": [
      "# Run GBM\n",
      "gbm = H2OGBM(dataset=train,x=\"CAPSULE\",ntrees=50,shrinkage=0.1)\n",
      "print gbm._model\n"
     ],
     "language": "python",
     "metadata": {},
     "outputs": [],
     "prompt_number": 8
    }
   ],
   "metadata": {}
  }
 ]
}