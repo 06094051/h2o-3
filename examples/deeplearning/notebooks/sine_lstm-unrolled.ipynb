{
 "cells": [
  {
   "cell_type": "code",
   "execution_count": 1,
   "metadata": {
    "collapsed": false
   },
   "outputs": [
    {
     "name": "stdout",
     "output_type": "stream",
     "text": [
      "Checking whether there is an H2O instance running at http://localhost:54321. connected.\n"
     ]
    },
    {
     "data": {
      "text/html": [
       "<div style=\"overflow:auto\"><table style=\"width:50%\"><tr><td>H2O cluster uptime:</td>\n",
       "<td>19 secs</td></tr>\n",
       "<tr><td>H2O cluster version:</td>\n",
       "<td>3.11.0.99999</td></tr>\n",
       "<tr><td>H2O cluster version age:</td>\n",
       "<td>1 month and 11 days </td></tr>\n",
       "<tr><td>H2O cluster name:</td>\n",
       "<td>ubuntu</td></tr>\n",
       "<tr><td>H2O cluster total nodes:</td>\n",
       "<td>1</td></tr>\n",
       "<tr><td>H2O cluster free memory:</td>\n",
       "<td>8.89 Gb</td></tr>\n",
       "<tr><td>H2O cluster total cores:</td>\n",
       "<td>8</td></tr>\n",
       "<tr><td>H2O cluster allowed cores:</td>\n",
       "<td>8</td></tr>\n",
       "<tr><td>H2O cluster status:</td>\n",
       "<td>accepting new members, healthy</td></tr>\n",
       "<tr><td>H2O connection url:</td>\n",
       "<td>http://localhost:54321</td></tr>\n",
       "<tr><td>H2O connection proxy:</td>\n",
       "<td>None</td></tr>\n",
       "<tr><td>Python version:</td>\n",
       "<td>2.7.12 final</td></tr></table></div>"
      ],
      "text/plain": [
       "--------------------------  ------------------------------\n",
       "H2O cluster uptime:         19 secs\n",
       "H2O cluster version:        3.11.0.99999\n",
       "H2O cluster version age:    1 month and 11 days\n",
       "H2O cluster name:           ubuntu\n",
       "H2O cluster total nodes:    1\n",
       "H2O cluster free memory:    8.89 Gb\n",
       "H2O cluster total cores:    8\n",
       "H2O cluster allowed cores:  8\n",
       "H2O cluster status:         accepting new members, healthy\n",
       "H2O connection url:         http://localhost:54321\n",
       "H2O connection proxy:\n",
       "Python version:             2.7.12 final\n",
       "--------------------------  ------------------------------"
      ]
     },
     "metadata": {},
     "output_type": "display_data"
    }
   ],
   "source": [
    "import h2o\n",
    "h2o.init()"
   ]
  },
  {
   "cell_type": "code",
   "execution_count": 2,
   "metadata": {
    "collapsed": true
   },
   "outputs": [],
   "source": [
    "import numpy as np\n",
    "import mxnet as mx\n",
    "from collections import namedtuple"
   ]
  },
  {
   "cell_type": "code",
   "execution_count": 3,
   "metadata": {
    "collapsed": true
   },
   "outputs": [],
   "source": [
    "f = open('/home/ubuntu/h2o-3/bigdata/laptop/lstm/sinwave.csv', 'rb').read()\n",
    "data = f.split('\\r\\n')"
   ]
  },
  {
   "cell_type": "code",
   "execution_count": 4,
   "metadata": {
    "collapsed": false
   },
   "outputs": [],
   "source": [
    "sequence_length = 50\n",
    "result = []\n",
    "for index in range(len(data) - sequence_length):\n",
    "    result.append(data[index: index + sequence_length])\n",
    "\n",
    "result = np.array(result)\n",
    "row = int(0.9 * result.shape[0])"
   ]
  },
  {
   "cell_type": "code",
   "execution_count": 5,
   "metadata": {
    "collapsed": false
   },
   "outputs": [],
   "source": [
    "train = result[:row, :]\n",
    "# np.random.shuffle(train)\n",
    "test = result[row:, ]"
   ]
  },
  {
   "cell_type": "code",
   "execution_count": 6,
   "metadata": {
    "collapsed": false
   },
   "outputs": [
    {
     "name": "stdout",
     "output_type": "stream",
     "text": [
      "Parse progress: |█████████████████████████████████████████████████████████| 100%\n"
     ]
    },
    {
     "data": {
      "text/plain": [
       "[4455, 50]"
      ]
     },
     "execution_count": 6,
     "metadata": {},
     "output_type": "execute_result"
    }
   ],
   "source": [
    "train_df = h2o.H2OFrame(python_obj=train)\n",
    "train_df.dim"
   ]
  },
  {
   "cell_type": "code",
   "execution_count": 7,
   "metadata": {
    "collapsed": false
   },
   "outputs": [
    {
     "name": "stdout",
     "output_type": "stream",
     "text": [
      "Parse progress: |█████████████████████████████████████████████████████████| 100%\n"
     ]
    },
    {
     "data": {
      "text/plain": [
       "[496, 50]"
      ]
     },
     "execution_count": 7,
     "metadata": {},
     "output_type": "execute_result"
    }
   ],
   "source": [
    "test_df = h2o.H2OFrame(python_obj=test)\n",
    "test_df.dim"
   ]
  },
  {
   "cell_type": "code",
   "execution_count": 8,
   "metadata": {
    "collapsed": false
   },
   "outputs": [
    {
     "data": {
      "text/html": [
       "<table>\n",
       "<thead>\n",
       "<tr><th style=\"text-align: right;\">      C1</th><th style=\"text-align: right;\">      C2</th><th style=\"text-align: right;\">      C3</th><th style=\"text-align: right;\">      C4</th><th style=\"text-align: right;\">      C5</th><th style=\"text-align: right;\">      C6</th><th style=\"text-align: right;\">      C7</th><th style=\"text-align: right;\">      C8</th><th style=\"text-align: right;\">      C9</th><th style=\"text-align: right;\">     C10</th><th style=\"text-align: right;\">     C11</th><th style=\"text-align: right;\">     C12</th><th style=\"text-align: right;\">     C13</th><th style=\"text-align: right;\">     C14</th><th style=\"text-align: right;\">     C15</th><th style=\"text-align: right;\">     C16</th><th style=\"text-align: right;\">     C17</th><th style=\"text-align: right;\">     C18</th><th style=\"text-align: right;\">     C19</th><th style=\"text-align: right;\">     C20</th><th style=\"text-align: right;\">     C21</th><th style=\"text-align: right;\">     C22</th><th style=\"text-align: right;\">     C23</th><th style=\"text-align: right;\">     C24</th><th style=\"text-align: right;\">      C25</th><th style=\"text-align: right;\">       C26</th><th style=\"text-align: right;\">        C27</th><th style=\"text-align: right;\">        C28</th><th style=\"text-align: right;\">        C29</th><th style=\"text-align: right;\">        C30</th><th style=\"text-align: right;\">        C31</th><th style=\"text-align: right;\">        C32</th><th style=\"text-align: right;\">        C33</th><th style=\"text-align: right;\">        C34</th><th style=\"text-align: right;\">        C35</th><th style=\"text-align: right;\">       C36</th><th style=\"text-align: right;\">      C37</th><th style=\"text-align: right;\">      C38</th><th style=\"text-align: right;\">      C39</th><th style=\"text-align: right;\">      C40</th><th style=\"text-align: right;\">      C41</th><th style=\"text-align: right;\">      C42</th><th style=\"text-align: right;\">      C43</th><th style=\"text-align: right;\">      C44</th><th style=\"text-align: right;\">      C45</th><th style=\"text-align: right;\">      C46</th><th style=\"text-align: right;\">      C47</th><th style=\"text-align: right;\">      C48</th><th style=\"text-align: right;\">      C49</th><th style=\"text-align: right;\">      C50</th></tr>\n",
       "</thead>\n",
       "<tbody>\n",
       "<tr><td style=\"text-align: right;\">0.841471</td><td style=\"text-align: right;\">0.873736</td><td style=\"text-align: right;\">0.902554</td><td style=\"text-align: right;\">0.927809</td><td style=\"text-align: right;\">0.949402</td><td style=\"text-align: right;\">0.967249</td><td style=\"text-align: right;\">0.981278</td><td style=\"text-align: right;\">0.991435</td><td style=\"text-align: right;\">0.997679</td><td style=\"text-align: right;\">0.999986</td><td style=\"text-align: right;\">0.998346</td><td style=\"text-align: right;\">0.992766</td><td style=\"text-align: right;\">0.983268</td><td style=\"text-align: right;\">0.96989 </td><td style=\"text-align: right;\">0.952684</td><td style=\"text-align: right;\">0.931718</td><td style=\"text-align: right;\">0.907075</td><td style=\"text-align: right;\">0.878852</td><td style=\"text-align: right;\">0.847161</td><td style=\"text-align: right;\">0.812127</td><td style=\"text-align: right;\">0.773887</td><td style=\"text-align: right;\">0.732593</td><td style=\"text-align: right;\">0.688408</td><td style=\"text-align: right;\">0.641506</td><td style=\"text-align: right;\">0.592073 </td><td style=\"text-align: right;\">0.540302  </td><td style=\"text-align: right;\"> 0.4864    </td><td style=\"text-align: right;\"> 0.430578  </td><td style=\"text-align: right;\"> 0.373056  </td><td style=\"text-align: right;\"> 0.314062  </td><td style=\"text-align: right;\"> 0.253829  </td><td style=\"text-align: right;\"> 0.192594  </td><td style=\"text-align: right;\"> 0.130599  </td><td style=\"text-align: right;\"> 0.0680888 </td><td style=\"text-align: right;\"> 0.00530962</td><td style=\"text-align: right;\">-0.0574905</td><td style=\"text-align: right;\">-0.120064</td><td style=\"text-align: right;\">-0.182163</td><td style=\"text-align: right;\">-0.243544</td><td style=\"text-align: right;\">-0.303963</td><td style=\"text-align: right;\">-0.363183</td><td style=\"text-align: right;\">-0.420969</td><td style=\"text-align: right;\">-0.477094</td><td style=\"text-align: right;\">-0.531336</td><td style=\"text-align: right;\">-0.583481</td><td style=\"text-align: right;\">-0.633324</td><td style=\"text-align: right;\">-0.680667</td><td style=\"text-align: right;\">-0.725324</td><td style=\"text-align: right;\">-0.767118</td><td style=\"text-align: right;\">-0.805885</td></tr>\n",
       "<tr><td style=\"text-align: right;\">0.873736</td><td style=\"text-align: right;\">0.902554</td><td style=\"text-align: right;\">0.927809</td><td style=\"text-align: right;\">0.949402</td><td style=\"text-align: right;\">0.967249</td><td style=\"text-align: right;\">0.981278</td><td style=\"text-align: right;\">0.991435</td><td style=\"text-align: right;\">0.997679</td><td style=\"text-align: right;\">0.999986</td><td style=\"text-align: right;\">0.998346</td><td style=\"text-align: right;\">0.992766</td><td style=\"text-align: right;\">0.983268</td><td style=\"text-align: right;\">0.96989 </td><td style=\"text-align: right;\">0.952684</td><td style=\"text-align: right;\">0.931718</td><td style=\"text-align: right;\">0.907075</td><td style=\"text-align: right;\">0.878852</td><td style=\"text-align: right;\">0.847161</td><td style=\"text-align: right;\">0.812127</td><td style=\"text-align: right;\">0.773887</td><td style=\"text-align: right;\">0.732593</td><td style=\"text-align: right;\">0.688408</td><td style=\"text-align: right;\">0.641506</td><td style=\"text-align: right;\">0.592073</td><td style=\"text-align: right;\">0.540302 </td><td style=\"text-align: right;\">0.4864    </td><td style=\"text-align: right;\"> 0.430578  </td><td style=\"text-align: right;\"> 0.373056  </td><td style=\"text-align: right;\"> 0.314062  </td><td style=\"text-align: right;\"> 0.253829  </td><td style=\"text-align: right;\"> 0.192594  </td><td style=\"text-align: right;\"> 0.130599  </td><td style=\"text-align: right;\"> 0.0680888 </td><td style=\"text-align: right;\"> 0.00530962</td><td style=\"text-align: right;\">-0.0574905 </td><td style=\"text-align: right;\">-0.120064 </td><td style=\"text-align: right;\">-0.182163</td><td style=\"text-align: right;\">-0.243544</td><td style=\"text-align: right;\">-0.303963</td><td style=\"text-align: right;\">-0.363183</td><td style=\"text-align: right;\">-0.420969</td><td style=\"text-align: right;\">-0.477094</td><td style=\"text-align: right;\">-0.531336</td><td style=\"text-align: right;\">-0.583481</td><td style=\"text-align: right;\">-0.633324</td><td style=\"text-align: right;\">-0.680667</td><td style=\"text-align: right;\">-0.725324</td><td style=\"text-align: right;\">-0.767118</td><td style=\"text-align: right;\">-0.805885</td><td style=\"text-align: right;\">-0.841471</td></tr>\n",
       "<tr><td style=\"text-align: right;\">0.902554</td><td style=\"text-align: right;\">0.927809</td><td style=\"text-align: right;\">0.949402</td><td style=\"text-align: right;\">0.967249</td><td style=\"text-align: right;\">0.981278</td><td style=\"text-align: right;\">0.991435</td><td style=\"text-align: right;\">0.997679</td><td style=\"text-align: right;\">0.999986</td><td style=\"text-align: right;\">0.998346</td><td style=\"text-align: right;\">0.992766</td><td style=\"text-align: right;\">0.983268</td><td style=\"text-align: right;\">0.96989 </td><td style=\"text-align: right;\">0.952684</td><td style=\"text-align: right;\">0.931718</td><td style=\"text-align: right;\">0.907075</td><td style=\"text-align: right;\">0.878852</td><td style=\"text-align: right;\">0.847161</td><td style=\"text-align: right;\">0.812127</td><td style=\"text-align: right;\">0.773887</td><td style=\"text-align: right;\">0.732593</td><td style=\"text-align: right;\">0.688408</td><td style=\"text-align: right;\">0.641506</td><td style=\"text-align: right;\">0.592073</td><td style=\"text-align: right;\">0.540302</td><td style=\"text-align: right;\">0.4864   </td><td style=\"text-align: right;\">0.430578  </td><td style=\"text-align: right;\"> 0.373056  </td><td style=\"text-align: right;\"> 0.314062  </td><td style=\"text-align: right;\"> 0.253829  </td><td style=\"text-align: right;\"> 0.192594  </td><td style=\"text-align: right;\"> 0.130599  </td><td style=\"text-align: right;\"> 0.0680888 </td><td style=\"text-align: right;\"> 0.00530962</td><td style=\"text-align: right;\">-0.0574905 </td><td style=\"text-align: right;\">-0.120064  </td><td style=\"text-align: right;\">-0.182163 </td><td style=\"text-align: right;\">-0.243544</td><td style=\"text-align: right;\">-0.303963</td><td style=\"text-align: right;\">-0.363183</td><td style=\"text-align: right;\">-0.420969</td><td style=\"text-align: right;\">-0.477094</td><td style=\"text-align: right;\">-0.531336</td><td style=\"text-align: right;\">-0.583481</td><td style=\"text-align: right;\">-0.633324</td><td style=\"text-align: right;\">-0.680667</td><td style=\"text-align: right;\">-0.725324</td><td style=\"text-align: right;\">-0.767118</td><td style=\"text-align: right;\">-0.805885</td><td style=\"text-align: right;\">-0.841471</td><td style=\"text-align: right;\">-0.873736</td></tr>\n",
       "<tr><td style=\"text-align: right;\">0.927809</td><td style=\"text-align: right;\">0.949402</td><td style=\"text-align: right;\">0.967249</td><td style=\"text-align: right;\">0.981278</td><td style=\"text-align: right;\">0.991435</td><td style=\"text-align: right;\">0.997679</td><td style=\"text-align: right;\">0.999986</td><td style=\"text-align: right;\">0.998346</td><td style=\"text-align: right;\">0.992766</td><td style=\"text-align: right;\">0.983268</td><td style=\"text-align: right;\">0.96989 </td><td style=\"text-align: right;\">0.952684</td><td style=\"text-align: right;\">0.931718</td><td style=\"text-align: right;\">0.907075</td><td style=\"text-align: right;\">0.878852</td><td style=\"text-align: right;\">0.847161</td><td style=\"text-align: right;\">0.812127</td><td style=\"text-align: right;\">0.773887</td><td style=\"text-align: right;\">0.732593</td><td style=\"text-align: right;\">0.688408</td><td style=\"text-align: right;\">0.641506</td><td style=\"text-align: right;\">0.592073</td><td style=\"text-align: right;\">0.540302</td><td style=\"text-align: right;\">0.4864  </td><td style=\"text-align: right;\">0.430578 </td><td style=\"text-align: right;\">0.373056  </td><td style=\"text-align: right;\"> 0.314062  </td><td style=\"text-align: right;\"> 0.253829  </td><td style=\"text-align: right;\"> 0.192594  </td><td style=\"text-align: right;\"> 0.130599  </td><td style=\"text-align: right;\"> 0.0680888 </td><td style=\"text-align: right;\"> 0.00530962</td><td style=\"text-align: right;\">-0.0574905 </td><td style=\"text-align: right;\">-0.120064  </td><td style=\"text-align: right;\">-0.182163  </td><td style=\"text-align: right;\">-0.243544 </td><td style=\"text-align: right;\">-0.303963</td><td style=\"text-align: right;\">-0.363183</td><td style=\"text-align: right;\">-0.420969</td><td style=\"text-align: right;\">-0.477094</td><td style=\"text-align: right;\">-0.531336</td><td style=\"text-align: right;\">-0.583481</td><td style=\"text-align: right;\">-0.633324</td><td style=\"text-align: right;\">-0.680667</td><td style=\"text-align: right;\">-0.725324</td><td style=\"text-align: right;\">-0.767118</td><td style=\"text-align: right;\">-0.805885</td><td style=\"text-align: right;\">-0.841471</td><td style=\"text-align: right;\">-0.873736</td><td style=\"text-align: right;\">-0.902554</td></tr>\n",
       "<tr><td style=\"text-align: right;\">0.949402</td><td style=\"text-align: right;\">0.967249</td><td style=\"text-align: right;\">0.981278</td><td style=\"text-align: right;\">0.991435</td><td style=\"text-align: right;\">0.997679</td><td style=\"text-align: right;\">0.999986</td><td style=\"text-align: right;\">0.998346</td><td style=\"text-align: right;\">0.992766</td><td style=\"text-align: right;\">0.983268</td><td style=\"text-align: right;\">0.96989 </td><td style=\"text-align: right;\">0.952684</td><td style=\"text-align: right;\">0.931718</td><td style=\"text-align: right;\">0.907075</td><td style=\"text-align: right;\">0.878852</td><td style=\"text-align: right;\">0.847161</td><td style=\"text-align: right;\">0.812127</td><td style=\"text-align: right;\">0.773887</td><td style=\"text-align: right;\">0.732593</td><td style=\"text-align: right;\">0.688408</td><td style=\"text-align: right;\">0.641506</td><td style=\"text-align: right;\">0.592073</td><td style=\"text-align: right;\">0.540302</td><td style=\"text-align: right;\">0.4864  </td><td style=\"text-align: right;\">0.430578</td><td style=\"text-align: right;\">0.373056 </td><td style=\"text-align: right;\">0.314062  </td><td style=\"text-align: right;\"> 0.253829  </td><td style=\"text-align: right;\"> 0.192594  </td><td style=\"text-align: right;\"> 0.130599  </td><td style=\"text-align: right;\"> 0.0680888 </td><td style=\"text-align: right;\"> 0.00530962</td><td style=\"text-align: right;\">-0.0574905 </td><td style=\"text-align: right;\">-0.120064  </td><td style=\"text-align: right;\">-0.182163  </td><td style=\"text-align: right;\">-0.243544  </td><td style=\"text-align: right;\">-0.303963 </td><td style=\"text-align: right;\">-0.363183</td><td style=\"text-align: right;\">-0.420969</td><td style=\"text-align: right;\">-0.477094</td><td style=\"text-align: right;\">-0.531336</td><td style=\"text-align: right;\">-0.583481</td><td style=\"text-align: right;\">-0.633324</td><td style=\"text-align: right;\">-0.680667</td><td style=\"text-align: right;\">-0.725324</td><td style=\"text-align: right;\">-0.767118</td><td style=\"text-align: right;\">-0.805885</td><td style=\"text-align: right;\">-0.841471</td><td style=\"text-align: right;\">-0.873736</td><td style=\"text-align: right;\">-0.902554</td><td style=\"text-align: right;\">-0.927809</td></tr>\n",
       "<tr><td style=\"text-align: right;\">0.967249</td><td style=\"text-align: right;\">0.981278</td><td style=\"text-align: right;\">0.991435</td><td style=\"text-align: right;\">0.997679</td><td style=\"text-align: right;\">0.999986</td><td style=\"text-align: right;\">0.998346</td><td style=\"text-align: right;\">0.992766</td><td style=\"text-align: right;\">0.983268</td><td style=\"text-align: right;\">0.96989 </td><td style=\"text-align: right;\">0.952684</td><td style=\"text-align: right;\">0.931718</td><td style=\"text-align: right;\">0.907075</td><td style=\"text-align: right;\">0.878852</td><td style=\"text-align: right;\">0.847161</td><td style=\"text-align: right;\">0.812127</td><td style=\"text-align: right;\">0.773887</td><td style=\"text-align: right;\">0.732593</td><td style=\"text-align: right;\">0.688408</td><td style=\"text-align: right;\">0.641506</td><td style=\"text-align: right;\">0.592073</td><td style=\"text-align: right;\">0.540302</td><td style=\"text-align: right;\">0.4864  </td><td style=\"text-align: right;\">0.430578</td><td style=\"text-align: right;\">0.373056</td><td style=\"text-align: right;\">0.314062 </td><td style=\"text-align: right;\">0.253829  </td><td style=\"text-align: right;\"> 0.192594  </td><td style=\"text-align: right;\"> 0.130599  </td><td style=\"text-align: right;\"> 0.0680888 </td><td style=\"text-align: right;\"> 0.00530962</td><td style=\"text-align: right;\">-0.0574905 </td><td style=\"text-align: right;\">-0.120064  </td><td style=\"text-align: right;\">-0.182163  </td><td style=\"text-align: right;\">-0.243544  </td><td style=\"text-align: right;\">-0.303963  </td><td style=\"text-align: right;\">-0.363183 </td><td style=\"text-align: right;\">-0.420969</td><td style=\"text-align: right;\">-0.477094</td><td style=\"text-align: right;\">-0.531336</td><td style=\"text-align: right;\">-0.583481</td><td style=\"text-align: right;\">-0.633324</td><td style=\"text-align: right;\">-0.680667</td><td style=\"text-align: right;\">-0.725324</td><td style=\"text-align: right;\">-0.767118</td><td style=\"text-align: right;\">-0.805885</td><td style=\"text-align: right;\">-0.841471</td><td style=\"text-align: right;\">-0.873736</td><td style=\"text-align: right;\">-0.902554</td><td style=\"text-align: right;\">-0.927809</td><td style=\"text-align: right;\">-0.949402</td></tr>\n",
       "<tr><td style=\"text-align: right;\">0.981278</td><td style=\"text-align: right;\">0.991435</td><td style=\"text-align: right;\">0.997679</td><td style=\"text-align: right;\">0.999986</td><td style=\"text-align: right;\">0.998346</td><td style=\"text-align: right;\">0.992766</td><td style=\"text-align: right;\">0.983268</td><td style=\"text-align: right;\">0.96989 </td><td style=\"text-align: right;\">0.952684</td><td style=\"text-align: right;\">0.931718</td><td style=\"text-align: right;\">0.907075</td><td style=\"text-align: right;\">0.878852</td><td style=\"text-align: right;\">0.847161</td><td style=\"text-align: right;\">0.812127</td><td style=\"text-align: right;\">0.773887</td><td style=\"text-align: right;\">0.732593</td><td style=\"text-align: right;\">0.688408</td><td style=\"text-align: right;\">0.641506</td><td style=\"text-align: right;\">0.592073</td><td style=\"text-align: right;\">0.540302</td><td style=\"text-align: right;\">0.4864  </td><td style=\"text-align: right;\">0.430578</td><td style=\"text-align: right;\">0.373056</td><td style=\"text-align: right;\">0.314062</td><td style=\"text-align: right;\">0.253829 </td><td style=\"text-align: right;\">0.192594  </td><td style=\"text-align: right;\"> 0.130599  </td><td style=\"text-align: right;\"> 0.0680888 </td><td style=\"text-align: right;\"> 0.00530962</td><td style=\"text-align: right;\">-0.0574905 </td><td style=\"text-align: right;\">-0.120064  </td><td style=\"text-align: right;\">-0.182163  </td><td style=\"text-align: right;\">-0.243544  </td><td style=\"text-align: right;\">-0.303963  </td><td style=\"text-align: right;\">-0.363183  </td><td style=\"text-align: right;\">-0.420969 </td><td style=\"text-align: right;\">-0.477094</td><td style=\"text-align: right;\">-0.531336</td><td style=\"text-align: right;\">-0.583481</td><td style=\"text-align: right;\">-0.633324</td><td style=\"text-align: right;\">-0.680667</td><td style=\"text-align: right;\">-0.725324</td><td style=\"text-align: right;\">-0.767118</td><td style=\"text-align: right;\">-0.805885</td><td style=\"text-align: right;\">-0.841471</td><td style=\"text-align: right;\">-0.873736</td><td style=\"text-align: right;\">-0.902554</td><td style=\"text-align: right;\">-0.927809</td><td style=\"text-align: right;\">-0.949402</td><td style=\"text-align: right;\">-0.967249</td></tr>\n",
       "<tr><td style=\"text-align: right;\">0.991435</td><td style=\"text-align: right;\">0.997679</td><td style=\"text-align: right;\">0.999986</td><td style=\"text-align: right;\">0.998346</td><td style=\"text-align: right;\">0.992766</td><td style=\"text-align: right;\">0.983268</td><td style=\"text-align: right;\">0.96989 </td><td style=\"text-align: right;\">0.952684</td><td style=\"text-align: right;\">0.931718</td><td style=\"text-align: right;\">0.907075</td><td style=\"text-align: right;\">0.878852</td><td style=\"text-align: right;\">0.847161</td><td style=\"text-align: right;\">0.812127</td><td style=\"text-align: right;\">0.773887</td><td style=\"text-align: right;\">0.732593</td><td style=\"text-align: right;\">0.688408</td><td style=\"text-align: right;\">0.641506</td><td style=\"text-align: right;\">0.592073</td><td style=\"text-align: right;\">0.540302</td><td style=\"text-align: right;\">0.4864  </td><td style=\"text-align: right;\">0.430578</td><td style=\"text-align: right;\">0.373056</td><td style=\"text-align: right;\">0.314062</td><td style=\"text-align: right;\">0.253829</td><td style=\"text-align: right;\">0.192594 </td><td style=\"text-align: right;\">0.130599  </td><td style=\"text-align: right;\"> 0.0680888 </td><td style=\"text-align: right;\"> 0.00530962</td><td style=\"text-align: right;\">-0.0574905 </td><td style=\"text-align: right;\">-0.120064  </td><td style=\"text-align: right;\">-0.182163  </td><td style=\"text-align: right;\">-0.243544  </td><td style=\"text-align: right;\">-0.303963  </td><td style=\"text-align: right;\">-0.363183  </td><td style=\"text-align: right;\">-0.420969  </td><td style=\"text-align: right;\">-0.477094 </td><td style=\"text-align: right;\">-0.531336</td><td style=\"text-align: right;\">-0.583481</td><td style=\"text-align: right;\">-0.633324</td><td style=\"text-align: right;\">-0.680667</td><td style=\"text-align: right;\">-0.725324</td><td style=\"text-align: right;\">-0.767118</td><td style=\"text-align: right;\">-0.805885</td><td style=\"text-align: right;\">-0.841471</td><td style=\"text-align: right;\">-0.873736</td><td style=\"text-align: right;\">-0.902554</td><td style=\"text-align: right;\">-0.927809</td><td style=\"text-align: right;\">-0.949402</td><td style=\"text-align: right;\">-0.967249</td><td style=\"text-align: right;\">-0.981278</td></tr>\n",
       "<tr><td style=\"text-align: right;\">0.997679</td><td style=\"text-align: right;\">0.999986</td><td style=\"text-align: right;\">0.998346</td><td style=\"text-align: right;\">0.992766</td><td style=\"text-align: right;\">0.983268</td><td style=\"text-align: right;\">0.96989 </td><td style=\"text-align: right;\">0.952684</td><td style=\"text-align: right;\">0.931718</td><td style=\"text-align: right;\">0.907075</td><td style=\"text-align: right;\">0.878852</td><td style=\"text-align: right;\">0.847161</td><td style=\"text-align: right;\">0.812127</td><td style=\"text-align: right;\">0.773887</td><td style=\"text-align: right;\">0.732593</td><td style=\"text-align: right;\">0.688408</td><td style=\"text-align: right;\">0.641506</td><td style=\"text-align: right;\">0.592073</td><td style=\"text-align: right;\">0.540302</td><td style=\"text-align: right;\">0.4864  </td><td style=\"text-align: right;\">0.430578</td><td style=\"text-align: right;\">0.373056</td><td style=\"text-align: right;\">0.314062</td><td style=\"text-align: right;\">0.253829</td><td style=\"text-align: right;\">0.192594</td><td style=\"text-align: right;\">0.130599 </td><td style=\"text-align: right;\">0.0680888 </td><td style=\"text-align: right;\"> 0.00530962</td><td style=\"text-align: right;\">-0.0574905 </td><td style=\"text-align: right;\">-0.120064  </td><td style=\"text-align: right;\">-0.182163  </td><td style=\"text-align: right;\">-0.243544  </td><td style=\"text-align: right;\">-0.303963  </td><td style=\"text-align: right;\">-0.363183  </td><td style=\"text-align: right;\">-0.420969  </td><td style=\"text-align: right;\">-0.477094  </td><td style=\"text-align: right;\">-0.531336 </td><td style=\"text-align: right;\">-0.583481</td><td style=\"text-align: right;\">-0.633324</td><td style=\"text-align: right;\">-0.680667</td><td style=\"text-align: right;\">-0.725324</td><td style=\"text-align: right;\">-0.767118</td><td style=\"text-align: right;\">-0.805885</td><td style=\"text-align: right;\">-0.841471</td><td style=\"text-align: right;\">-0.873736</td><td style=\"text-align: right;\">-0.902554</td><td style=\"text-align: right;\">-0.927809</td><td style=\"text-align: right;\">-0.949402</td><td style=\"text-align: right;\">-0.967249</td><td style=\"text-align: right;\">-0.981278</td><td style=\"text-align: right;\">-0.991435</td></tr>\n",
       "<tr><td style=\"text-align: right;\">0.999986</td><td style=\"text-align: right;\">0.998346</td><td style=\"text-align: right;\">0.992766</td><td style=\"text-align: right;\">0.983268</td><td style=\"text-align: right;\">0.96989 </td><td style=\"text-align: right;\">0.952684</td><td style=\"text-align: right;\">0.931718</td><td style=\"text-align: right;\">0.907075</td><td style=\"text-align: right;\">0.878852</td><td style=\"text-align: right;\">0.847161</td><td style=\"text-align: right;\">0.812127</td><td style=\"text-align: right;\">0.773887</td><td style=\"text-align: right;\">0.732593</td><td style=\"text-align: right;\">0.688408</td><td style=\"text-align: right;\">0.641506</td><td style=\"text-align: right;\">0.592073</td><td style=\"text-align: right;\">0.540302</td><td style=\"text-align: right;\">0.4864  </td><td style=\"text-align: right;\">0.430578</td><td style=\"text-align: right;\">0.373056</td><td style=\"text-align: right;\">0.314062</td><td style=\"text-align: right;\">0.253829</td><td style=\"text-align: right;\">0.192594</td><td style=\"text-align: right;\">0.130599</td><td style=\"text-align: right;\">0.0680888</td><td style=\"text-align: right;\">0.00530962</td><td style=\"text-align: right;\">-0.0574905 </td><td style=\"text-align: right;\">-0.120064  </td><td style=\"text-align: right;\">-0.182163  </td><td style=\"text-align: right;\">-0.243544  </td><td style=\"text-align: right;\">-0.303963  </td><td style=\"text-align: right;\">-0.363183  </td><td style=\"text-align: right;\">-0.420969  </td><td style=\"text-align: right;\">-0.477094  </td><td style=\"text-align: right;\">-0.531336  </td><td style=\"text-align: right;\">-0.583481 </td><td style=\"text-align: right;\">-0.633324</td><td style=\"text-align: right;\">-0.680667</td><td style=\"text-align: right;\">-0.725324</td><td style=\"text-align: right;\">-0.767118</td><td style=\"text-align: right;\">-0.805885</td><td style=\"text-align: right;\">-0.841471</td><td style=\"text-align: right;\">-0.873736</td><td style=\"text-align: right;\">-0.902554</td><td style=\"text-align: right;\">-0.927809</td><td style=\"text-align: right;\">-0.949402</td><td style=\"text-align: right;\">-0.967249</td><td style=\"text-align: right;\">-0.981278</td><td style=\"text-align: right;\">-0.991435</td><td style=\"text-align: right;\">-0.997679</td></tr>\n",
       "</tbody>\n",
       "</table>"
      ]
     },
     "metadata": {},
     "output_type": "display_data"
    },
    {
     "data": {
      "text/plain": []
     },
     "execution_count": 8,
     "metadata": {},
     "output_type": "execute_result"
    }
   ],
   "source": [
    "train_df"
   ]
  },
  {
   "cell_type": "code",
   "execution_count": 9,
   "metadata": {
    "collapsed": false
   },
   "outputs": [
    {
     "data": {
      "text/html": [
       "<table>\n",
       "<thead>\n",
       "<tr><th style=\"text-align: right;\">       C1</th><th style=\"text-align: right;\">       C2</th><th style=\"text-align: right;\">       C3</th><th style=\"text-align: right;\">       C4</th><th style=\"text-align: right;\">       C5</th><th style=\"text-align: right;\">       C6</th><th style=\"text-align: right;\">       C7</th><th style=\"text-align: right;\">       C8</th><th style=\"text-align: right;\">       C9</th><th style=\"text-align: right;\">      C10</th><th style=\"text-align: right;\">      C11</th><th style=\"text-align: right;\">      C12</th><th style=\"text-align: right;\">      C13</th><th style=\"text-align: right;\">      C14</th><th style=\"text-align: right;\">      C15</th><th style=\"text-align: right;\">      C16</th><th style=\"text-align: right;\">      C17</th><th style=\"text-align: right;\">      C18</th><th style=\"text-align: right;\">      C19</th><th style=\"text-align: right;\">       C20</th><th style=\"text-align: right;\">        C21</th><th style=\"text-align: right;\">        C22</th><th style=\"text-align: right;\">        C23</th><th style=\"text-align: right;\">        C24</th><th style=\"text-align: right;\">        C25</th><th style=\"text-align: right;\">        C26</th><th style=\"text-align: right;\">        C27</th><th style=\"text-align: right;\">        C28</th><th style=\"text-align: right;\">        C29</th><th style=\"text-align: right;\">        C30</th><th style=\"text-align: right;\">      C31</th><th style=\"text-align: right;\">     C32</th><th style=\"text-align: right;\">     C33</th><th style=\"text-align: right;\">     C34</th><th style=\"text-align: right;\">     C35</th><th style=\"text-align: right;\">     C36</th><th style=\"text-align: right;\">     C37</th><th style=\"text-align: right;\">     C38</th><th style=\"text-align: right;\">     C39</th><th style=\"text-align: right;\">     C40</th><th style=\"text-align: right;\">     C41</th><th style=\"text-align: right;\">     C42</th><th style=\"text-align: right;\">     C43</th><th style=\"text-align: right;\">     C44</th><th style=\"text-align: right;\">     C45</th><th style=\"text-align: right;\">     C46</th><th style=\"text-align: right;\">     C47</th><th style=\"text-align: right;\">     C48</th><th style=\"text-align: right;\">     C49</th><th style=\"text-align: right;\">     C50</th></tr>\n",
       "</thead>\n",
       "<tbody>\n",
       "<tr><td style=\"text-align: right;\">-0.967249</td><td style=\"text-align: right;\">-0.981278</td><td style=\"text-align: right;\">-0.991435</td><td style=\"text-align: right;\">-0.997679</td><td style=\"text-align: right;\">-0.999986</td><td style=\"text-align: right;\">-0.998346</td><td style=\"text-align: right;\">-0.992766</td><td style=\"text-align: right;\">-0.983268</td><td style=\"text-align: right;\">-0.96989 </td><td style=\"text-align: right;\">-0.952684</td><td style=\"text-align: right;\">-0.931718</td><td style=\"text-align: right;\">-0.907075</td><td style=\"text-align: right;\">-0.878852</td><td style=\"text-align: right;\">-0.847161</td><td style=\"text-align: right;\">-0.812127</td><td style=\"text-align: right;\">-0.773887</td><td style=\"text-align: right;\">-0.732593</td><td style=\"text-align: right;\">-0.688408</td><td style=\"text-align: right;\">-0.641506</td><td style=\"text-align: right;\">-0.592073 </td><td style=\"text-align: right;\">-0.540302  </td><td style=\"text-align: right;\">-0.4864    </td><td style=\"text-align: right;\">-0.430578  </td><td style=\"text-align: right;\">-0.373056  </td><td style=\"text-align: right;\">-0.314062  </td><td style=\"text-align: right;\">-0.253829  </td><td style=\"text-align: right;\">-0.192594  </td><td style=\"text-align: right;\">-0.130599  </td><td style=\"text-align: right;\">-0.0680888 </td><td style=\"text-align: right;\">-0.00530962</td><td style=\"text-align: right;\">0.0574905</td><td style=\"text-align: right;\">0.120064</td><td style=\"text-align: right;\">0.182163</td><td style=\"text-align: right;\">0.243544</td><td style=\"text-align: right;\">0.303963</td><td style=\"text-align: right;\">0.363183</td><td style=\"text-align: right;\">0.420969</td><td style=\"text-align: right;\">0.477094</td><td style=\"text-align: right;\">0.531336</td><td style=\"text-align: right;\">0.583481</td><td style=\"text-align: right;\">0.633324</td><td style=\"text-align: right;\">0.680667</td><td style=\"text-align: right;\">0.725324</td><td style=\"text-align: right;\">0.767118</td><td style=\"text-align: right;\">0.805885</td><td style=\"text-align: right;\">0.841471</td><td style=\"text-align: right;\">0.873736</td><td style=\"text-align: right;\">0.902554</td><td style=\"text-align: right;\">0.927809</td><td style=\"text-align: right;\">0.949402</td></tr>\n",
       "<tr><td style=\"text-align: right;\">-0.981278</td><td style=\"text-align: right;\">-0.991435</td><td style=\"text-align: right;\">-0.997679</td><td style=\"text-align: right;\">-0.999986</td><td style=\"text-align: right;\">-0.998346</td><td style=\"text-align: right;\">-0.992766</td><td style=\"text-align: right;\">-0.983268</td><td style=\"text-align: right;\">-0.96989 </td><td style=\"text-align: right;\">-0.952684</td><td style=\"text-align: right;\">-0.931718</td><td style=\"text-align: right;\">-0.907075</td><td style=\"text-align: right;\">-0.878852</td><td style=\"text-align: right;\">-0.847161</td><td style=\"text-align: right;\">-0.812127</td><td style=\"text-align: right;\">-0.773887</td><td style=\"text-align: right;\">-0.732593</td><td style=\"text-align: right;\">-0.688408</td><td style=\"text-align: right;\">-0.641506</td><td style=\"text-align: right;\">-0.592073</td><td style=\"text-align: right;\">-0.540302 </td><td style=\"text-align: right;\">-0.4864    </td><td style=\"text-align: right;\">-0.430578  </td><td style=\"text-align: right;\">-0.373056  </td><td style=\"text-align: right;\">-0.314062  </td><td style=\"text-align: right;\">-0.253829  </td><td style=\"text-align: right;\">-0.192594  </td><td style=\"text-align: right;\">-0.130599  </td><td style=\"text-align: right;\">-0.0680888 </td><td style=\"text-align: right;\">-0.00530962</td><td style=\"text-align: right;\"> 0.0574905 </td><td style=\"text-align: right;\">0.120064 </td><td style=\"text-align: right;\">0.182163</td><td style=\"text-align: right;\">0.243544</td><td style=\"text-align: right;\">0.303963</td><td style=\"text-align: right;\">0.363183</td><td style=\"text-align: right;\">0.420969</td><td style=\"text-align: right;\">0.477094</td><td style=\"text-align: right;\">0.531336</td><td style=\"text-align: right;\">0.583481</td><td style=\"text-align: right;\">0.633324</td><td style=\"text-align: right;\">0.680667</td><td style=\"text-align: right;\">0.725324</td><td style=\"text-align: right;\">0.767118</td><td style=\"text-align: right;\">0.805885</td><td style=\"text-align: right;\">0.841471</td><td style=\"text-align: right;\">0.873736</td><td style=\"text-align: right;\">0.902554</td><td style=\"text-align: right;\">0.927809</td><td style=\"text-align: right;\">0.949402</td><td style=\"text-align: right;\">0.967249</td></tr>\n",
       "<tr><td style=\"text-align: right;\">-0.991435</td><td style=\"text-align: right;\">-0.997679</td><td style=\"text-align: right;\">-0.999986</td><td style=\"text-align: right;\">-0.998346</td><td style=\"text-align: right;\">-0.992766</td><td style=\"text-align: right;\">-0.983268</td><td style=\"text-align: right;\">-0.96989 </td><td style=\"text-align: right;\">-0.952684</td><td style=\"text-align: right;\">-0.931718</td><td style=\"text-align: right;\">-0.907075</td><td style=\"text-align: right;\">-0.878852</td><td style=\"text-align: right;\">-0.847161</td><td style=\"text-align: right;\">-0.812127</td><td style=\"text-align: right;\">-0.773887</td><td style=\"text-align: right;\">-0.732593</td><td style=\"text-align: right;\">-0.688408</td><td style=\"text-align: right;\">-0.641506</td><td style=\"text-align: right;\">-0.592073</td><td style=\"text-align: right;\">-0.540302</td><td style=\"text-align: right;\">-0.4864   </td><td style=\"text-align: right;\">-0.430578  </td><td style=\"text-align: right;\">-0.373056  </td><td style=\"text-align: right;\">-0.314062  </td><td style=\"text-align: right;\">-0.253829  </td><td style=\"text-align: right;\">-0.192594  </td><td style=\"text-align: right;\">-0.130599  </td><td style=\"text-align: right;\">-0.0680888 </td><td style=\"text-align: right;\">-0.00530962</td><td style=\"text-align: right;\"> 0.0574905 </td><td style=\"text-align: right;\"> 0.120064  </td><td style=\"text-align: right;\">0.182163 </td><td style=\"text-align: right;\">0.243544</td><td style=\"text-align: right;\">0.303963</td><td style=\"text-align: right;\">0.363183</td><td style=\"text-align: right;\">0.420969</td><td style=\"text-align: right;\">0.477094</td><td style=\"text-align: right;\">0.531336</td><td style=\"text-align: right;\">0.583481</td><td style=\"text-align: right;\">0.633324</td><td style=\"text-align: right;\">0.680667</td><td style=\"text-align: right;\">0.725324</td><td style=\"text-align: right;\">0.767118</td><td style=\"text-align: right;\">0.805885</td><td style=\"text-align: right;\">0.841471</td><td style=\"text-align: right;\">0.873736</td><td style=\"text-align: right;\">0.902554</td><td style=\"text-align: right;\">0.927809</td><td style=\"text-align: right;\">0.949402</td><td style=\"text-align: right;\">0.967249</td><td style=\"text-align: right;\">0.981278</td></tr>\n",
       "<tr><td style=\"text-align: right;\">-0.997679</td><td style=\"text-align: right;\">-0.999986</td><td style=\"text-align: right;\">-0.998346</td><td style=\"text-align: right;\">-0.992766</td><td style=\"text-align: right;\">-0.983268</td><td style=\"text-align: right;\">-0.96989 </td><td style=\"text-align: right;\">-0.952684</td><td style=\"text-align: right;\">-0.931718</td><td style=\"text-align: right;\">-0.907075</td><td style=\"text-align: right;\">-0.878852</td><td style=\"text-align: right;\">-0.847161</td><td style=\"text-align: right;\">-0.812127</td><td style=\"text-align: right;\">-0.773887</td><td style=\"text-align: right;\">-0.732593</td><td style=\"text-align: right;\">-0.688408</td><td style=\"text-align: right;\">-0.641506</td><td style=\"text-align: right;\">-0.592073</td><td style=\"text-align: right;\">-0.540302</td><td style=\"text-align: right;\">-0.4864  </td><td style=\"text-align: right;\">-0.430578 </td><td style=\"text-align: right;\">-0.373056  </td><td style=\"text-align: right;\">-0.314062  </td><td style=\"text-align: right;\">-0.253829  </td><td style=\"text-align: right;\">-0.192594  </td><td style=\"text-align: right;\">-0.130599  </td><td style=\"text-align: right;\">-0.0680888 </td><td style=\"text-align: right;\">-0.00530962</td><td style=\"text-align: right;\"> 0.0574905 </td><td style=\"text-align: right;\"> 0.120064  </td><td style=\"text-align: right;\"> 0.182163  </td><td style=\"text-align: right;\">0.243544 </td><td style=\"text-align: right;\">0.303963</td><td style=\"text-align: right;\">0.363183</td><td style=\"text-align: right;\">0.420969</td><td style=\"text-align: right;\">0.477094</td><td style=\"text-align: right;\">0.531336</td><td style=\"text-align: right;\">0.583481</td><td style=\"text-align: right;\">0.633324</td><td style=\"text-align: right;\">0.680667</td><td style=\"text-align: right;\">0.725324</td><td style=\"text-align: right;\">0.767118</td><td style=\"text-align: right;\">0.805885</td><td style=\"text-align: right;\">0.841471</td><td style=\"text-align: right;\">0.873736</td><td style=\"text-align: right;\">0.902554</td><td style=\"text-align: right;\">0.927809</td><td style=\"text-align: right;\">0.949402</td><td style=\"text-align: right;\">0.967249</td><td style=\"text-align: right;\">0.981278</td><td style=\"text-align: right;\">0.991435</td></tr>\n",
       "<tr><td style=\"text-align: right;\">-0.999986</td><td style=\"text-align: right;\">-0.998346</td><td style=\"text-align: right;\">-0.992766</td><td style=\"text-align: right;\">-0.983268</td><td style=\"text-align: right;\">-0.96989 </td><td style=\"text-align: right;\">-0.952684</td><td style=\"text-align: right;\">-0.931718</td><td style=\"text-align: right;\">-0.907075</td><td style=\"text-align: right;\">-0.878852</td><td style=\"text-align: right;\">-0.847161</td><td style=\"text-align: right;\">-0.812127</td><td style=\"text-align: right;\">-0.773887</td><td style=\"text-align: right;\">-0.732593</td><td style=\"text-align: right;\">-0.688408</td><td style=\"text-align: right;\">-0.641506</td><td style=\"text-align: right;\">-0.592073</td><td style=\"text-align: right;\">-0.540302</td><td style=\"text-align: right;\">-0.4864  </td><td style=\"text-align: right;\">-0.430578</td><td style=\"text-align: right;\">-0.373056 </td><td style=\"text-align: right;\">-0.314062  </td><td style=\"text-align: right;\">-0.253829  </td><td style=\"text-align: right;\">-0.192594  </td><td style=\"text-align: right;\">-0.130599  </td><td style=\"text-align: right;\">-0.0680888 </td><td style=\"text-align: right;\">-0.00530962</td><td style=\"text-align: right;\"> 0.0574905 </td><td style=\"text-align: right;\"> 0.120064  </td><td style=\"text-align: right;\"> 0.182163  </td><td style=\"text-align: right;\"> 0.243544  </td><td style=\"text-align: right;\">0.303963 </td><td style=\"text-align: right;\">0.363183</td><td style=\"text-align: right;\">0.420969</td><td style=\"text-align: right;\">0.477094</td><td style=\"text-align: right;\">0.531336</td><td style=\"text-align: right;\">0.583481</td><td style=\"text-align: right;\">0.633324</td><td style=\"text-align: right;\">0.680667</td><td style=\"text-align: right;\">0.725324</td><td style=\"text-align: right;\">0.767118</td><td style=\"text-align: right;\">0.805885</td><td style=\"text-align: right;\">0.841471</td><td style=\"text-align: right;\">0.873736</td><td style=\"text-align: right;\">0.902554</td><td style=\"text-align: right;\">0.927809</td><td style=\"text-align: right;\">0.949402</td><td style=\"text-align: right;\">0.967249</td><td style=\"text-align: right;\">0.981278</td><td style=\"text-align: right;\">0.991435</td><td style=\"text-align: right;\">0.997679</td></tr>\n",
       "<tr><td style=\"text-align: right;\">-0.998346</td><td style=\"text-align: right;\">-0.992766</td><td style=\"text-align: right;\">-0.983268</td><td style=\"text-align: right;\">-0.96989 </td><td style=\"text-align: right;\">-0.952684</td><td style=\"text-align: right;\">-0.931718</td><td style=\"text-align: right;\">-0.907075</td><td style=\"text-align: right;\">-0.878852</td><td style=\"text-align: right;\">-0.847161</td><td style=\"text-align: right;\">-0.812127</td><td style=\"text-align: right;\">-0.773887</td><td style=\"text-align: right;\">-0.732593</td><td style=\"text-align: right;\">-0.688408</td><td style=\"text-align: right;\">-0.641506</td><td style=\"text-align: right;\">-0.592073</td><td style=\"text-align: right;\">-0.540302</td><td style=\"text-align: right;\">-0.4864  </td><td style=\"text-align: right;\">-0.430578</td><td style=\"text-align: right;\">-0.373056</td><td style=\"text-align: right;\">-0.314062 </td><td style=\"text-align: right;\">-0.253829  </td><td style=\"text-align: right;\">-0.192594  </td><td style=\"text-align: right;\">-0.130599  </td><td style=\"text-align: right;\">-0.0680888 </td><td style=\"text-align: right;\">-0.00530962</td><td style=\"text-align: right;\"> 0.0574905 </td><td style=\"text-align: right;\"> 0.120064  </td><td style=\"text-align: right;\"> 0.182163  </td><td style=\"text-align: right;\"> 0.243544  </td><td style=\"text-align: right;\"> 0.303963  </td><td style=\"text-align: right;\">0.363183 </td><td style=\"text-align: right;\">0.420969</td><td style=\"text-align: right;\">0.477094</td><td style=\"text-align: right;\">0.531336</td><td style=\"text-align: right;\">0.583481</td><td style=\"text-align: right;\">0.633324</td><td style=\"text-align: right;\">0.680667</td><td style=\"text-align: right;\">0.725324</td><td style=\"text-align: right;\">0.767118</td><td style=\"text-align: right;\">0.805885</td><td style=\"text-align: right;\">0.841471</td><td style=\"text-align: right;\">0.873736</td><td style=\"text-align: right;\">0.902554</td><td style=\"text-align: right;\">0.927809</td><td style=\"text-align: right;\">0.949402</td><td style=\"text-align: right;\">0.967249</td><td style=\"text-align: right;\">0.981278</td><td style=\"text-align: right;\">0.991435</td><td style=\"text-align: right;\">0.997679</td><td style=\"text-align: right;\">0.999986</td></tr>\n",
       "<tr><td style=\"text-align: right;\">-0.992766</td><td style=\"text-align: right;\">-0.983268</td><td style=\"text-align: right;\">-0.96989 </td><td style=\"text-align: right;\">-0.952684</td><td style=\"text-align: right;\">-0.931718</td><td style=\"text-align: right;\">-0.907075</td><td style=\"text-align: right;\">-0.878852</td><td style=\"text-align: right;\">-0.847161</td><td style=\"text-align: right;\">-0.812127</td><td style=\"text-align: right;\">-0.773887</td><td style=\"text-align: right;\">-0.732593</td><td style=\"text-align: right;\">-0.688408</td><td style=\"text-align: right;\">-0.641506</td><td style=\"text-align: right;\">-0.592073</td><td style=\"text-align: right;\">-0.540302</td><td style=\"text-align: right;\">-0.4864  </td><td style=\"text-align: right;\">-0.430578</td><td style=\"text-align: right;\">-0.373056</td><td style=\"text-align: right;\">-0.314062</td><td style=\"text-align: right;\">-0.253829 </td><td style=\"text-align: right;\">-0.192594  </td><td style=\"text-align: right;\">-0.130599  </td><td style=\"text-align: right;\">-0.0680888 </td><td style=\"text-align: right;\">-0.00530962</td><td style=\"text-align: right;\"> 0.0574905 </td><td style=\"text-align: right;\"> 0.120064  </td><td style=\"text-align: right;\"> 0.182163  </td><td style=\"text-align: right;\"> 0.243544  </td><td style=\"text-align: right;\"> 0.303963  </td><td style=\"text-align: right;\"> 0.363183  </td><td style=\"text-align: right;\">0.420969 </td><td style=\"text-align: right;\">0.477094</td><td style=\"text-align: right;\">0.531336</td><td style=\"text-align: right;\">0.583481</td><td style=\"text-align: right;\">0.633324</td><td style=\"text-align: right;\">0.680667</td><td style=\"text-align: right;\">0.725324</td><td style=\"text-align: right;\">0.767118</td><td style=\"text-align: right;\">0.805885</td><td style=\"text-align: right;\">0.841471</td><td style=\"text-align: right;\">0.873736</td><td style=\"text-align: right;\">0.902554</td><td style=\"text-align: right;\">0.927809</td><td style=\"text-align: right;\">0.949402</td><td style=\"text-align: right;\">0.967249</td><td style=\"text-align: right;\">0.981278</td><td style=\"text-align: right;\">0.991435</td><td style=\"text-align: right;\">0.997679</td><td style=\"text-align: right;\">0.999986</td><td style=\"text-align: right;\">0.998346</td></tr>\n",
       "<tr><td style=\"text-align: right;\">-0.983268</td><td style=\"text-align: right;\">-0.96989 </td><td style=\"text-align: right;\">-0.952684</td><td style=\"text-align: right;\">-0.931718</td><td style=\"text-align: right;\">-0.907075</td><td style=\"text-align: right;\">-0.878852</td><td style=\"text-align: right;\">-0.847161</td><td style=\"text-align: right;\">-0.812127</td><td style=\"text-align: right;\">-0.773887</td><td style=\"text-align: right;\">-0.732593</td><td style=\"text-align: right;\">-0.688408</td><td style=\"text-align: right;\">-0.641506</td><td style=\"text-align: right;\">-0.592073</td><td style=\"text-align: right;\">-0.540302</td><td style=\"text-align: right;\">-0.4864  </td><td style=\"text-align: right;\">-0.430578</td><td style=\"text-align: right;\">-0.373056</td><td style=\"text-align: right;\">-0.314062</td><td style=\"text-align: right;\">-0.253829</td><td style=\"text-align: right;\">-0.192594 </td><td style=\"text-align: right;\">-0.130599  </td><td style=\"text-align: right;\">-0.0680888 </td><td style=\"text-align: right;\">-0.00530962</td><td style=\"text-align: right;\"> 0.0574905 </td><td style=\"text-align: right;\"> 0.120064  </td><td style=\"text-align: right;\"> 0.182163  </td><td style=\"text-align: right;\"> 0.243544  </td><td style=\"text-align: right;\"> 0.303963  </td><td style=\"text-align: right;\"> 0.363183  </td><td style=\"text-align: right;\"> 0.420969  </td><td style=\"text-align: right;\">0.477094 </td><td style=\"text-align: right;\">0.531336</td><td style=\"text-align: right;\">0.583481</td><td style=\"text-align: right;\">0.633324</td><td style=\"text-align: right;\">0.680667</td><td style=\"text-align: right;\">0.725324</td><td style=\"text-align: right;\">0.767118</td><td style=\"text-align: right;\">0.805885</td><td style=\"text-align: right;\">0.841471</td><td style=\"text-align: right;\">0.873736</td><td style=\"text-align: right;\">0.902554</td><td style=\"text-align: right;\">0.927809</td><td style=\"text-align: right;\">0.949402</td><td style=\"text-align: right;\">0.967249</td><td style=\"text-align: right;\">0.981278</td><td style=\"text-align: right;\">0.991435</td><td style=\"text-align: right;\">0.997679</td><td style=\"text-align: right;\">0.999986</td><td style=\"text-align: right;\">0.998346</td><td style=\"text-align: right;\">0.992766</td></tr>\n",
       "<tr><td style=\"text-align: right;\">-0.96989 </td><td style=\"text-align: right;\">-0.952684</td><td style=\"text-align: right;\">-0.931718</td><td style=\"text-align: right;\">-0.907075</td><td style=\"text-align: right;\">-0.878852</td><td style=\"text-align: right;\">-0.847161</td><td style=\"text-align: right;\">-0.812127</td><td style=\"text-align: right;\">-0.773887</td><td style=\"text-align: right;\">-0.732593</td><td style=\"text-align: right;\">-0.688408</td><td style=\"text-align: right;\">-0.641506</td><td style=\"text-align: right;\">-0.592073</td><td style=\"text-align: right;\">-0.540302</td><td style=\"text-align: right;\">-0.4864  </td><td style=\"text-align: right;\">-0.430578</td><td style=\"text-align: right;\">-0.373056</td><td style=\"text-align: right;\">-0.314062</td><td style=\"text-align: right;\">-0.253829</td><td style=\"text-align: right;\">-0.192594</td><td style=\"text-align: right;\">-0.130599 </td><td style=\"text-align: right;\">-0.0680888 </td><td style=\"text-align: right;\">-0.00530962</td><td style=\"text-align: right;\"> 0.0574905 </td><td style=\"text-align: right;\"> 0.120064  </td><td style=\"text-align: right;\"> 0.182163  </td><td style=\"text-align: right;\"> 0.243544  </td><td style=\"text-align: right;\"> 0.303963  </td><td style=\"text-align: right;\"> 0.363183  </td><td style=\"text-align: right;\"> 0.420969  </td><td style=\"text-align: right;\"> 0.477094  </td><td style=\"text-align: right;\">0.531336 </td><td style=\"text-align: right;\">0.583481</td><td style=\"text-align: right;\">0.633324</td><td style=\"text-align: right;\">0.680667</td><td style=\"text-align: right;\">0.725324</td><td style=\"text-align: right;\">0.767118</td><td style=\"text-align: right;\">0.805885</td><td style=\"text-align: right;\">0.841471</td><td style=\"text-align: right;\">0.873736</td><td style=\"text-align: right;\">0.902554</td><td style=\"text-align: right;\">0.927809</td><td style=\"text-align: right;\">0.949402</td><td style=\"text-align: right;\">0.967249</td><td style=\"text-align: right;\">0.981278</td><td style=\"text-align: right;\">0.991435</td><td style=\"text-align: right;\">0.997679</td><td style=\"text-align: right;\">0.999986</td><td style=\"text-align: right;\">0.998346</td><td style=\"text-align: right;\">0.992766</td><td style=\"text-align: right;\">0.983268</td></tr>\n",
       "<tr><td style=\"text-align: right;\">-0.952684</td><td style=\"text-align: right;\">-0.931718</td><td style=\"text-align: right;\">-0.907075</td><td style=\"text-align: right;\">-0.878852</td><td style=\"text-align: right;\">-0.847161</td><td style=\"text-align: right;\">-0.812127</td><td style=\"text-align: right;\">-0.773887</td><td style=\"text-align: right;\">-0.732593</td><td style=\"text-align: right;\">-0.688408</td><td style=\"text-align: right;\">-0.641506</td><td style=\"text-align: right;\">-0.592073</td><td style=\"text-align: right;\">-0.540302</td><td style=\"text-align: right;\">-0.4864  </td><td style=\"text-align: right;\">-0.430578</td><td style=\"text-align: right;\">-0.373056</td><td style=\"text-align: right;\">-0.314062</td><td style=\"text-align: right;\">-0.253829</td><td style=\"text-align: right;\">-0.192594</td><td style=\"text-align: right;\">-0.130599</td><td style=\"text-align: right;\">-0.0680888</td><td style=\"text-align: right;\">-0.00530962</td><td style=\"text-align: right;\"> 0.0574905 </td><td style=\"text-align: right;\"> 0.120064  </td><td style=\"text-align: right;\"> 0.182163  </td><td style=\"text-align: right;\"> 0.243544  </td><td style=\"text-align: right;\"> 0.303963  </td><td style=\"text-align: right;\"> 0.363183  </td><td style=\"text-align: right;\"> 0.420969  </td><td style=\"text-align: right;\"> 0.477094  </td><td style=\"text-align: right;\"> 0.531336  </td><td style=\"text-align: right;\">0.583481 </td><td style=\"text-align: right;\">0.633324</td><td style=\"text-align: right;\">0.680667</td><td style=\"text-align: right;\">0.725324</td><td style=\"text-align: right;\">0.767118</td><td style=\"text-align: right;\">0.805885</td><td style=\"text-align: right;\">0.841471</td><td style=\"text-align: right;\">0.873736</td><td style=\"text-align: right;\">0.902554</td><td style=\"text-align: right;\">0.927809</td><td style=\"text-align: right;\">0.949402</td><td style=\"text-align: right;\">0.967249</td><td style=\"text-align: right;\">0.981278</td><td style=\"text-align: right;\">0.991435</td><td style=\"text-align: right;\">0.997679</td><td style=\"text-align: right;\">0.999986</td><td style=\"text-align: right;\">0.998346</td><td style=\"text-align: right;\">0.992766</td><td style=\"text-align: right;\">0.983268</td><td style=\"text-align: right;\">0.96989 </td></tr>\n",
       "</tbody>\n",
       "</table>"
      ]
     },
     "metadata": {},
     "output_type": "display_data"
    },
    {
     "data": {
      "text/plain": []
     },
     "execution_count": 9,
     "metadata": {},
     "output_type": "execute_result"
    }
   ],
   "source": [
    "test_df"
   ]
  },
  {
   "cell_type": "code",
   "execution_count": 10,
   "metadata": {
    "collapsed": true
   },
   "outputs": [],
   "source": [
    "# The batch size for training\n",
    "batch_size = 128\n",
    "# We can support various length input\n",
    "# For this problem, we cut each input sentence to length of 129\n",
    "# So we only need fix length bucket\n",
    "buckets = [50]\n",
    "# hidden unit in LSTM cell\n",
    "num_hidden = 512\n",
    "# embedding dimension, which is, map a char to a 256 dim vector\n",
    "num_embed = 256\n",
    "# number of lstm layer\n",
    "num_lstm_layer = 3"
   ]
  },
  {
   "cell_type": "code",
   "execution_count": 11,
   "metadata": {
    "collapsed": true
   },
   "outputs": [],
   "source": [
    "# we will show a quick demo in 2 epoch\n",
    "# and we will see result by training 75 epoch\n",
    "num_epoch = 2\n",
    "# learning rate \n",
    "learning_rate = 0.01\n",
    "# we will use pure sgd without momentum\n",
    "momentum = 0.0"
   ]
  },
  {
   "cell_type": "code",
   "execution_count": 12,
   "metadata": {
    "collapsed": true
   },
   "outputs": [],
   "source": [
    "# we can select multi-gpu for training\n",
    "# for this demo we only use one\n",
    "devs = [mx.context.gpu(i) for i in range(1)]"
   ]
  },
  {
   "cell_type": "code",
   "execution_count": 13,
   "metadata": {
    "collapsed": false
   },
   "outputs": [],
   "source": [
    "LSTMState = namedtuple(\"LSTMState\", [\"c\", \"h\"])\n",
    "LSTMParam = namedtuple(\"LSTMParam\", [\"i2h_weight\", \"i2h_bias\",\n",
    "                                     \"h2h_weight\", \"h2h_bias\"])"
   ]
  },
  {
   "cell_type": "code",
   "execution_count": 14,
   "metadata": {
    "collapsed": true
   },
   "outputs": [],
   "source": [
    "def lstm(num_hidden, indata, prev_state, param, seqidx, layeridx, dropout=0.):\n",
    "    \"\"\"LSTM Cell symbol\"\"\"\n",
    "    if dropout > 0.:\n",
    "        indata = mx.sym.Dropout(data=indata, p=dropout)\n",
    "    i2h = mx.sym.FullyConnected(data=indata,\n",
    "                                weight=param.i2h_weight,\n",
    "                                bias=param.i2h_bias,\n",
    "                                num_hidden=num_hidden * 4,\n",
    "                                name=\"t%d_l%d_i2h\" % (seqidx, layeridx))\n",
    "    h2h = mx.sym.FullyConnected(data=prev_state.h,\n",
    "                                weight=param.h2h_weight,\n",
    "                                bias=param.h2h_bias,\n",
    "                                num_hidden=num_hidden * 4,\n",
    "                                name=\"t%d_l%d_h2h\" % (seqidx, layeridx))\n",
    "    gates = i2h + h2h\n",
    "    slice_gates = mx.sym.SliceChannel(gates, num_outputs=4,\n",
    "                                      name=\"t%d_l%d_slice\" % (seqidx, layeridx))\n",
    "    in_gate = mx.sym.Activation(slice_gates[0], act_type=\"sigmoid\")\n",
    "    in_transform = mx.sym.Activation(slice_gates[1], act_type=\"tanh\")\n",
    "    forget_gate = mx.sym.Activation(slice_gates[2], act_type=\"sigmoid\")\n",
    "    out_gate = mx.sym.Activation(slice_gates[3], act_type=\"sigmoid\")\n",
    "    next_c = (forget_gate * prev_state.c) + (in_gate * in_transform)\n",
    "    next_h = out_gate * mx.sym.Activation(next_c, act_type=\"tanh\")\n",
    "    return LSTMState(c=next_c, h=next_h)"
   ]
  },
  {
   "cell_type": "code",
   "execution_count": 15,
   "metadata": {
    "collapsed": true
   },
   "outputs": [],
   "source": [
    "def lstm_unroll(num_lstm_layer, seq_len, input_size,\n",
    "                num_hidden, num_embed, num_label, dropout=0.):\n",
    "\n",
    "    embed_weight = mx.sym.Variable(\"embed_weight\")\n",
    "    cls_weight = mx.sym.Variable(\"cls_weight\")\n",
    "    cls_bias = mx.sym.Variable(\"cls_bias\")\n",
    "    param_cells = []\n",
    "    last_states = []\n",
    "    for i in range(num_lstm_layer):\n",
    "        param_cells.append(LSTMParam(i2h_weight=mx.sym.Variable(\"l%d_i2h_weight\" % i),\n",
    "                                     i2h_bias=mx.sym.Variable(\"l%d_i2h_bias\" % i),\n",
    "                                     h2h_weight=mx.sym.Variable(\"l%d_h2h_weight\" % i),\n",
    "                                     h2h_bias=mx.sym.Variable(\"l%d_h2h_bias\" % i)))\n",
    "        state = LSTMState(c=mx.sym.Variable(\"l%d_init_c\" % i),\n",
    "                          h=mx.sym.Variable(\"l%d_init_h\" % i))\n",
    "        last_states.append(state)\n",
    "    assert(len(last_states) == num_lstm_layer)\n",
    "\n",
    "    # embeding layer\n",
    "    data = mx.sym.Variable('data')\n",
    "    label = mx.sym.Variable('softmax_label')\n",
    "    embed = mx.sym.Embedding(data=data, input_dim=input_size,\n",
    "                             weight=embed_weight, output_dim=num_embed, name='embed')\n",
    "    wordvec = mx.sym.SliceChannel(data=embed, num_outputs=seq_len, squeeze_axis=1)\n",
    "\n",
    "    hidden_all = []\n",
    "    for seqidx in range(seq_len):\n",
    "        hidden = wordvec[seqidx]\n",
    "\n",
    "        # stack LSTM\n",
    "        for i in range(num_lstm_layer):\n",
    "            if i == 0:\n",
    "                dp_ratio = 0.\n",
    "            else:\n",
    "                dp_ratio = dropout\n",
    "            next_state = lstm(num_hidden, indata=hidden,\n",
    "                              prev_state=last_states[i],\n",
    "                              param=param_cells[i],\n",
    "                              seqidx=seqidx, layeridx=i, dropout=dp_ratio)\n",
    "            hidden = next_state.h\n",
    "            last_states[i] = next_state\n",
    "        # decoder\n",
    "        if dropout > 0.:\n",
    "            hidden = mx.sym.Dropout(data=hidden, p=dropout)\n",
    "        hidden_all.append(hidden)\n",
    "\n",
    "    hidden_concat = mx.sym.Concat(*hidden_all, dim=0)\n",
    "    pred = mx.sym.FullyConnected(data=hidden_concat, num_hidden=num_label,\n",
    "                                 weight=cls_weight, bias=cls_bias, name='pred')\n",
    "\n",
    "    ################################################################################\n",
    "    # Make label the same shape as our produced data path\n",
    "    # I did not observe big speed difference between the following two ways\n",
    "\n",
    "    label = mx.sym.transpose(data=label)\n",
    "    label = mx.sym.Reshape(data=label, target_shape=(0,))\n",
    "\n",
    "    #label_slice = mx.sym.SliceChannel(data=label, num_outputs=seq_len)\n",
    "    #label = [label_slice[t] for t in range(seq_len)]\n",
    "    #label = mx.sym.Concat(*label, dim=0)\n",
    "    #label = mx.sym.Reshape(data=label, target_shape=(0,))\n",
    "    ################################################################################\n",
    "\n",
    "    sm = mx.sym.SoftmaxOutput(data=pred, label=label, name='softmax')\n",
    "\n",
    "    return sm"
   ]
  },
  {
   "cell_type": "code",
   "execution_count": 16,
   "metadata": {
    "collapsed": false
   },
   "outputs": [],
   "source": [
    "mxnet_lstm = lstm_unroll(num_lstm_layer, 49, 49,\n",
    "                       num_hidden=num_hidden, num_embed=num_embed,\n",
    "                       num_label=51, dropout=0.2)"
   ]
  },
  {
   "cell_type": "code",
   "execution_count": 17,
   "metadata": {
    "collapsed": true
   },
   "outputs": [],
   "source": [
    "mxnet_lstm.save(\"/tmp/symbol-sine-lstm-py.json\")"
   ]
  },
  {
   "cell_type": "code",
   "execution_count": 18,
   "metadata": {
    "collapsed": false
   },
   "outputs": [],
   "source": [
    "predictors = list(set(train_df.names) - set(['C50']))"
   ]
  },
  {
   "cell_type": "code",
   "execution_count": 19,
   "metadata": {
    "collapsed": true
   },
   "outputs": [],
   "source": [
    "from h2o.estimators.deepwater import H2ODeepWaterEstimator"
   ]
  },
  {
   "cell_type": "code",
   "execution_count": 20,
   "metadata": {
    "collapsed": true
   },
   "outputs": [],
   "source": [
    "model = H2ODeepWaterEstimator(\n",
    "    epochs=20, \n",
    "    learning_rate=1e-3, \n",
    "    mini_batch_size=64,\n",
    "    network_definition_file=\"/tmp/symbol-sine-lstm-py.json\",\n",
    "    channels=1,\n",
    "    ignore_const_cols=False    ## We need to keep all 28x28=784 pixel values, even if some are always 0\n",
    ")"
   ]
  },
  {
   "cell_type": "code",
   "execution_count": 21,
   "metadata": {
    "collapsed": false,
    "scrolled": false
   },
   "outputs": [
    {
     "name": "stdout",
     "output_type": "stream",
     "text": [
      "deepwater Model Build progress: |"
     ]
    },
    {
     "ename": "H2OConnectionError",
     "evalue": "Unexpected HTTP error: HTTPConnectionPool(host='localhost', port=54321): Max retries exceeded with url: /3/Jobs/$03010a0bb98d32d4ffffffff$_9e647689d84d9d8256a8992728d14bbf (Caused by NewConnectionError('<requests.packages.urllib3.connection.HTTPConnection object at 0x7ff6b92f06d0>: Failed to establish a new connection: [Errno 111] Connection refused',))",
     "output_type": "error",
     "traceback": [
      "\u001b[0;31m\u001b[0m",
      "\u001b[0;31mH2OConnectionError\u001b[0mTraceback (most recent call last)",
      "\u001b[0;32m<ipython-input-21-2b40421eb402>\u001b[0m in \u001b[0;36m<module>\u001b[0;34m()\u001b[0m\n\u001b[0;32m----> 1\u001b[0;31m \u001b[0mmodel\u001b[0m\u001b[0;34m.\u001b[0m\u001b[0mtrain\u001b[0m\u001b[0;34m(\u001b[0m\u001b[0mx\u001b[0m\u001b[0;34m=\u001b[0m\u001b[0mpredictors\u001b[0m\u001b[0;34m,\u001b[0m \u001b[0my\u001b[0m\u001b[0;34m=\u001b[0m\u001b[0;34m'C50'\u001b[0m\u001b[0;34m,\u001b[0m \u001b[0mtraining_frame\u001b[0m\u001b[0;34m=\u001b[0m\u001b[0mtrain_df\u001b[0m\u001b[0;34m)\u001b[0m\u001b[0;34m\u001b[0m\u001b[0m\n\u001b[0m",
      "\u001b[0;32m/usr/local/lib/python2.7/dist-packages/h2o/estimators/estimator_base.pyc\u001b[0m in \u001b[0;36mtrain\u001b[0;34m(self, x, y, training_frame, offset_column, fold_column, weights_column, validation_frame, max_runtime_secs, ignored_columns)\u001b[0m\n\u001b[1;32m    227\u001b[0m             \u001b[0;32mreturn\u001b[0m\u001b[0;34m\u001b[0m\u001b[0m\n\u001b[1;32m    228\u001b[0m \u001b[0;34m\u001b[0m\u001b[0m\n\u001b[0;32m--> 229\u001b[0;31m         \u001b[0mmodel\u001b[0m\u001b[0;34m.\u001b[0m\u001b[0mpoll\u001b[0m\u001b[0;34m(\u001b[0m\u001b[0;34m)\u001b[0m\u001b[0;34m\u001b[0m\u001b[0m\n\u001b[0m\u001b[1;32m    230\u001b[0m         \u001b[0mmodel_json\u001b[0m \u001b[0;34m=\u001b[0m \u001b[0mh2o\u001b[0m\u001b[0;34m.\u001b[0m\u001b[0mapi\u001b[0m\u001b[0;34m(\u001b[0m\u001b[0;34m\"GET /%d/Models/%s\"\u001b[0m \u001b[0;34m%\u001b[0m \u001b[0;34m(\u001b[0m\u001b[0mrest_ver\u001b[0m\u001b[0;34m,\u001b[0m \u001b[0mmodel\u001b[0m\u001b[0;34m.\u001b[0m\u001b[0mdest_key\u001b[0m\u001b[0;34m)\u001b[0m\u001b[0;34m)\u001b[0m\u001b[0;34m[\u001b[0m\u001b[0;34m\"models\"\u001b[0m\u001b[0;34m]\u001b[0m\u001b[0;34m[\u001b[0m\u001b[0;36m0\u001b[0m\u001b[0;34m]\u001b[0m\u001b[0;34m\u001b[0m\u001b[0m\n\u001b[1;32m    231\u001b[0m         \u001b[0mself\u001b[0m\u001b[0;34m.\u001b[0m\u001b[0m_resolve_model\u001b[0m\u001b[0;34m(\u001b[0m\u001b[0mmodel\u001b[0m\u001b[0;34m.\u001b[0m\u001b[0mdest_key\u001b[0m\u001b[0;34m,\u001b[0m \u001b[0mmodel_json\u001b[0m\u001b[0;34m)\u001b[0m\u001b[0;34m\u001b[0m\u001b[0m\n",
      "\u001b[0;32m/usr/local/lib/python2.7/dist-packages/h2o/job.pyc\u001b[0m in \u001b[0;36mpoll\u001b[0;34m(self)\u001b[0m\n\u001b[1;32m     55\u001b[0m             \u001b[0mhidden\u001b[0m \u001b[0;34m=\u001b[0m \u001b[0;32mnot\u001b[0m \u001b[0mH2OJob\u001b[0m\u001b[0;34m.\u001b[0m\u001b[0m__PROGRESS_BAR__\u001b[0m\u001b[0;34m\u001b[0m\u001b[0m\n\u001b[1;32m     56\u001b[0m             \u001b[0mpb\u001b[0m \u001b[0;34m=\u001b[0m \u001b[0mProgressBar\u001b[0m\u001b[0;34m(\u001b[0m\u001b[0mtitle\u001b[0m\u001b[0;34m=\u001b[0m\u001b[0mself\u001b[0m\u001b[0;34m.\u001b[0m\u001b[0m_job_type\u001b[0m \u001b[0;34m+\u001b[0m \u001b[0;34m\" progress\"\u001b[0m\u001b[0;34m,\u001b[0m \u001b[0mhidden\u001b[0m\u001b[0;34m=\u001b[0m\u001b[0mhidden\u001b[0m\u001b[0;34m)\u001b[0m\u001b[0;34m\u001b[0m\u001b[0m\n\u001b[0;32m---> 57\u001b[0;31m             \u001b[0mpb\u001b[0m\u001b[0;34m.\u001b[0m\u001b[0mexecute\u001b[0m\u001b[0;34m(\u001b[0m\u001b[0mself\u001b[0m\u001b[0;34m.\u001b[0m\u001b[0m_refresh_job_status\u001b[0m\u001b[0;34m)\u001b[0m\u001b[0;34m\u001b[0m\u001b[0m\n\u001b[0m\u001b[1;32m     58\u001b[0m         \u001b[0;32mexcept\u001b[0m \u001b[0mStopIteration\u001b[0m \u001b[0;32mas\u001b[0m \u001b[0me\u001b[0m\u001b[0;34m:\u001b[0m\u001b[0;34m\u001b[0m\u001b[0m\n\u001b[1;32m     59\u001b[0m             \u001b[0;32mif\u001b[0m \u001b[0mstr\u001b[0m\u001b[0;34m(\u001b[0m\u001b[0me\u001b[0m\u001b[0;34m)\u001b[0m \u001b[0;34m==\u001b[0m \u001b[0;34m\"cancelled\"\u001b[0m\u001b[0;34m:\u001b[0m\u001b[0;34m\u001b[0m\u001b[0m\n",
      "\u001b[0;32m/usr/local/lib/python2.7/dist-packages/h2o/utils/progressbar.pyc\u001b[0m in \u001b[0;36mexecute\u001b[0;34m(self, progress_fn)\u001b[0m\n\u001b[1;32m    158\u001b[0m                 \u001b[0;31m# Query the progress level, but only if it's time already\u001b[0m\u001b[0;34m\u001b[0m\u001b[0;34m\u001b[0m\u001b[0m\n\u001b[1;32m    159\u001b[0m                 \u001b[0;32mif\u001b[0m \u001b[0mself\u001b[0m\u001b[0;34m.\u001b[0m\u001b[0m_next_poll_time\u001b[0m \u001b[0;34m<=\u001b[0m \u001b[0mnow\u001b[0m\u001b[0;34m:\u001b[0m\u001b[0;34m\u001b[0m\u001b[0m\n\u001b[0;32m--> 160\u001b[0;31m                     \u001b[0mres\u001b[0m \u001b[0;34m=\u001b[0m \u001b[0mprogress_fn\u001b[0m\u001b[0;34m(\u001b[0m\u001b[0;34m)\u001b[0m  \u001b[0;31m# may raise StopIteration\u001b[0m\u001b[0;34m\u001b[0m\u001b[0m\n\u001b[0m\u001b[1;32m    161\u001b[0m                     \u001b[0massert_is_type\u001b[0m\u001b[0;34m(\u001b[0m\u001b[0mres\u001b[0m\u001b[0;34m,\u001b[0m \u001b[0;34m(\u001b[0m\u001b[0mnumeric\u001b[0m\u001b[0;34m,\u001b[0m \u001b[0mnumeric\u001b[0m\u001b[0;34m)\u001b[0m\u001b[0;34m,\u001b[0m \u001b[0mnumeric\u001b[0m\u001b[0;34m)\u001b[0m\u001b[0;34m\u001b[0m\u001b[0m\n\u001b[1;32m    162\u001b[0m                     \u001b[0;32mif\u001b[0m \u001b[0;32mnot\u001b[0m \u001b[0misinstance\u001b[0m\u001b[0;34m(\u001b[0m\u001b[0mres\u001b[0m\u001b[0;34m,\u001b[0m \u001b[0mtuple\u001b[0m\u001b[0;34m)\u001b[0m\u001b[0;34m:\u001b[0m\u001b[0;34m\u001b[0m\u001b[0m\n",
      "\u001b[0;32m/usr/local/lib/python2.7/dist-packages/h2o/job.pyc\u001b[0m in \u001b[0;36m_refresh_job_status\u001b[0;34m(self)\u001b[0m\n\u001b[1;32m     90\u001b[0m     \u001b[0;32mdef\u001b[0m \u001b[0m_refresh_job_status\u001b[0m\u001b[0;34m(\u001b[0m\u001b[0mself\u001b[0m\u001b[0;34m)\u001b[0m\u001b[0;34m:\u001b[0m\u001b[0;34m\u001b[0m\u001b[0m\n\u001b[1;32m     91\u001b[0m         \u001b[0;32mif\u001b[0m \u001b[0mself\u001b[0m\u001b[0;34m.\u001b[0m\u001b[0m_poll_count\u001b[0m \u001b[0;34m<=\u001b[0m \u001b[0;36m0\u001b[0m\u001b[0;34m:\u001b[0m \u001b[0;32mraise\u001b[0m \u001b[0mStopIteration\u001b[0m\u001b[0;34m(\u001b[0m\u001b[0;34m\"\"\u001b[0m\u001b[0;34m)\u001b[0m\u001b[0;34m\u001b[0m\u001b[0m\n\u001b[0;32m---> 92\u001b[0;31m         \u001b[0mjobs\u001b[0m \u001b[0;34m=\u001b[0m \u001b[0mh2o\u001b[0m\u001b[0;34m.\u001b[0m\u001b[0mapi\u001b[0m\u001b[0;34m(\u001b[0m\u001b[0;34m\"GET /3/Jobs/%s\"\u001b[0m \u001b[0;34m%\u001b[0m \u001b[0mself\u001b[0m\u001b[0;34m.\u001b[0m\u001b[0mjob_key\u001b[0m\u001b[0;34m)\u001b[0m\u001b[0;34m\u001b[0m\u001b[0m\n\u001b[0m\u001b[1;32m     93\u001b[0m         \u001b[0mself\u001b[0m\u001b[0;34m.\u001b[0m\u001b[0mjob\u001b[0m \u001b[0;34m=\u001b[0m \u001b[0mjobs\u001b[0m\u001b[0;34m[\u001b[0m\u001b[0;34m\"jobs\"\u001b[0m\u001b[0;34m]\u001b[0m\u001b[0;34m[\u001b[0m\u001b[0;36m0\u001b[0m\u001b[0;34m]\u001b[0m \u001b[0;32mif\u001b[0m \u001b[0;34m\"jobs\"\u001b[0m \u001b[0;32min\u001b[0m \u001b[0mjobs\u001b[0m \u001b[0;32melse\u001b[0m \u001b[0mjobs\u001b[0m\u001b[0;34m[\u001b[0m\u001b[0;34m\"job\"\u001b[0m\u001b[0;34m]\u001b[0m\u001b[0;34m[\u001b[0m\u001b[0;36m0\u001b[0m\u001b[0;34m]\u001b[0m\u001b[0;34m\u001b[0m\u001b[0m\n\u001b[1;32m     94\u001b[0m         \u001b[0mself\u001b[0m\u001b[0;34m.\u001b[0m\u001b[0mstatus\u001b[0m \u001b[0;34m=\u001b[0m \u001b[0mself\u001b[0m\u001b[0;34m.\u001b[0m\u001b[0mjob\u001b[0m\u001b[0;34m[\u001b[0m\u001b[0;34m\"status\"\u001b[0m\u001b[0;34m]\u001b[0m\u001b[0;34m\u001b[0m\u001b[0m\n",
      "\u001b[0;32m/usr/local/lib/python2.7/dist-packages/h2o/h2o.pyc\u001b[0m in \u001b[0;36mapi\u001b[0;34m(endpoint, data, json, filename, save_to)\u001b[0m\n\u001b[1;32m     82\u001b[0m     \u001b[0;31m# type checks are performed in H2OConnection class\u001b[0m\u001b[0;34m\u001b[0m\u001b[0;34m\u001b[0m\u001b[0m\n\u001b[1;32m     83\u001b[0m     \u001b[0m_check_connection\u001b[0m\u001b[0;34m(\u001b[0m\u001b[0;34m)\u001b[0m\u001b[0;34m\u001b[0m\u001b[0m\n\u001b[0;32m---> 84\u001b[0;31m     \u001b[0;32mreturn\u001b[0m \u001b[0mh2oconn\u001b[0m\u001b[0;34m.\u001b[0m\u001b[0mrequest\u001b[0m\u001b[0;34m(\u001b[0m\u001b[0mendpoint\u001b[0m\u001b[0;34m,\u001b[0m \u001b[0mdata\u001b[0m\u001b[0;34m=\u001b[0m\u001b[0mdata\u001b[0m\u001b[0;34m,\u001b[0m \u001b[0mjson\u001b[0m\u001b[0;34m=\u001b[0m\u001b[0mjson\u001b[0m\u001b[0;34m,\u001b[0m \u001b[0mfilename\u001b[0m\u001b[0;34m=\u001b[0m\u001b[0mfilename\u001b[0m\u001b[0;34m,\u001b[0m \u001b[0msave_to\u001b[0m\u001b[0;34m=\u001b[0m\u001b[0msave_to\u001b[0m\u001b[0;34m)\u001b[0m\u001b[0;34m\u001b[0m\u001b[0m\n\u001b[0m\u001b[1;32m     85\u001b[0m \u001b[0;34m\u001b[0m\u001b[0m\n\u001b[1;32m     86\u001b[0m \u001b[0;34m\u001b[0m\u001b[0m\n",
      "\u001b[0;32m/usr/local/lib/python2.7/dist-packages/h2o/backend/connection.pyc\u001b[0m in \u001b[0;36mrequest\u001b[0;34m(self, endpoint, data, json, filename, save_to)\u001b[0m\n\u001b[1;32m    269\u001b[0m             \u001b[0;32melse\u001b[0m\u001b[0;34m:\u001b[0m\u001b[0;34m\u001b[0m\u001b[0m\n\u001b[1;32m    270\u001b[0m                 \u001b[0mself\u001b[0m\u001b[0;34m.\u001b[0m\u001b[0m_log_end_exception\u001b[0m\u001b[0;34m(\u001b[0m\u001b[0me\u001b[0m\u001b[0;34m)\u001b[0m\u001b[0;34m\u001b[0m\u001b[0m\n\u001b[0;32m--> 271\u001b[0;31m                 \u001b[0;32mraise\u001b[0m \u001b[0mH2OConnectionError\u001b[0m\u001b[0;34m(\u001b[0m\u001b[0;34m\"Unexpected HTTP error: %s\"\u001b[0m \u001b[0;34m%\u001b[0m \u001b[0me\u001b[0m\u001b[0;34m)\u001b[0m\u001b[0;34m\u001b[0m\u001b[0m\n\u001b[0m\u001b[1;32m    272\u001b[0m         \u001b[0;32mexcept\u001b[0m \u001b[0mrequests\u001b[0m\u001b[0;34m.\u001b[0m\u001b[0mexceptions\u001b[0m\u001b[0;34m.\u001b[0m\u001b[0mTimeout\u001b[0m \u001b[0;32mas\u001b[0m \u001b[0me\u001b[0m\u001b[0;34m:\u001b[0m\u001b[0;34m\u001b[0m\u001b[0m\n\u001b[1;32m    273\u001b[0m             \u001b[0mself\u001b[0m\u001b[0;34m.\u001b[0m\u001b[0m_log_end_exception\u001b[0m\u001b[0;34m(\u001b[0m\u001b[0me\u001b[0m\u001b[0;34m)\u001b[0m\u001b[0;34m\u001b[0m\u001b[0m\n",
      "\u001b[0;31mH2OConnectionError\u001b[0m: Unexpected HTTP error: HTTPConnectionPool(host='localhost', port=54321): Max retries exceeded with url: /3/Jobs/$03010a0bb98d32d4ffffffff$_9e647689d84d9d8256a8992728d14bbf (Caused by NewConnectionError('<requests.packages.urllib3.connection.HTTPConnection object at 0x7ff6b92f06d0>: Failed to establish a new connection: [Errno 111] Connection refused',))"
     ]
    }
   ],
   "source": [
    "model.train(x=predictors, y='C50', training_frame=train_df)"
   ]
  },
  {
   "cell_type": "markdown",
   "metadata": {},
   "source": [
    "# H2O Log Stack Trace:"
   ]
  },
  {
   "cell_type": "raw",
   "metadata": {},
   "source": [
    "01-04 18:55:22.584 10.11.185.141:54321   21223  FJ-1-11   INFO: Setting the optimizer and initializing the first and last layer.\n",
    "Loading H2O mxnet bindings.\n",
    "Found CUDA_PATH environment variable, trying to connect to GPU devices.\n",
    "Loading CUDA library.\n",
    "Loading mxnet library.\n",
    "Loading H2O mxnet bindings.\n",
    "Done loading H2O mxnet bindings.\n",
    "Constructing model.\n",
    "Done constructing model.\n",
    "Building network.\n",
    "Loading the model.\n",
    "Done loading the model.\n",
    "mxnet data input shape: (64,49)\n",
    "#\n",
    "# A fatal error has been detected by the Java Runtime Environment:\n",
    "#\n",
    "#  SIGSEGV (0xb) at pc=0x00007faf5e3b8fb4, pid=21223, tid=0x00007faf75482700\n",
    "#\n",
    "# JRE version: Java(TM) SE Runtime Environment (8.0_101-b13) (build 1.8.0_101-b13)\n",
    "# Java VM: Java HotSpot(TM) 64-Bit Server VM (25.101-b13 mixed mode linux-amd64 compressed oops)\n",
    "# Problematic frame:\n",
    "# C  [libmxnet.so+0x9a8fb4]  mxnet::GraphExecutor::AssignContext(mxnet::Context, std::map<std::string, mxnet::Context, std::less<std::string>, std::allocator<std::pair<std::string const, mxnet::Context> > > const&, std::vector<mxnet::NDArray, std::allocator<mxnet::NDArray> > const&, std::vector<mxnet::NDArray, std::allocator<mxnet::NDArray> > const&, std::vector<mxnet::OpReqType, std::allocator<mxnet::OpReqType> > const&, std::vector<mxnet::Context, std::allocator<mxnet::Context> >*)+0x144\n",
    "#\n",
    "# Failed to write core dump. Core dumps have been disabled. To enable core dumping, try \"ulimit -c unlimited\" before starting Java again\n",
    "#\n",
    "# An error report file with more information is saved as:\n",
    "# /home/ubuntu/h2o-3/hs_err_pid21223.log\n",
    "#\n",
    "# If you would like to submit a bug report, please visit:\n",
    "#   http://bugreport.java.com/bugreport/crash.jsp\n",
    "# The crash happened outside the Java Virtual Machine in native code.\n",
    "# See problematic frame for where to report the bug.\n",
    "#\n",
    "Aborted (core dumped)\n"
   ]
  }
 ],
 "metadata": {
  "kernelspec": {
   "display_name": "Python 2",
   "language": "python",
   "name": "python2"
  },
  "language_info": {
   "codemirror_mode": {
    "name": "ipython",
    "version": 2
   },
   "file_extension": ".py",
   "mimetype": "text/x-python",
   "name": "python",
   "nbconvert_exporter": "python",
   "pygments_lexer": "ipython2",
   "version": "2.7.12"
  }
 },
 "nbformat": 4,
 "nbformat_minor": 1
}
