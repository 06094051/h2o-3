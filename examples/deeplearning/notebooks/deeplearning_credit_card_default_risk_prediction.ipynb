{
 "cells": [
  {
   "cell_type": "code",
   "execution_count": 67,
   "metadata": {
    "collapsed": false
   },
   "outputs": [
    {
     "name": "stdout",
     "output_type": "stream",
     "text": [
      "Checking whether there is an H2O instance running at http://localhost:54321. connected.\n"
     ]
    },
    {
     "data": {
      "text/html": [
       "<div style=\"overflow:auto\"><table style=\"width:50%\"><tr><td>H2O cluster uptime:</td>\n",
       "<td>02 secs</td></tr>\n",
       "<tr><td>H2O cluster version:</td>\n",
       "<td>3.11.0.99999</td></tr>\n",
       "<tr><td>H2O cluster version age:</td>\n",
       "<td>7 hours and 6 minutes </td></tr>\n",
       "<tr><td>H2O cluster name:</td>\n",
       "<td>arno</td></tr>\n",
       "<tr><td>H2O cluster total nodes:</td>\n",
       "<td>1</td></tr>\n",
       "<tr><td>H2O cluster free memory:</td>\n",
       "<td>13.96 Gb</td></tr>\n",
       "<tr><td>H2O cluster total cores:</td>\n",
       "<td>12</td></tr>\n",
       "<tr><td>H2O cluster allowed cores:</td>\n",
       "<td>12</td></tr>\n",
       "<tr><td>H2O cluster status:</td>\n",
       "<td>accepting new members, healthy</td></tr>\n",
       "<tr><td>H2O connection url:</td>\n",
       "<td>http://localhost:54321</td></tr>\n",
       "<tr><td>H2O connection proxy:</td>\n",
       "<td>None</td></tr>\n",
       "<tr><td>Python version:</td>\n",
       "<td>2.7.12 final</td></tr></table></div>"
      ],
      "text/plain": [
       "--------------------------  ------------------------------\n",
       "H2O cluster uptime:         02 secs\n",
       "H2O cluster version:        3.11.0.99999\n",
       "H2O cluster version age:    7 hours and 6 minutes\n",
       "H2O cluster name:           arno\n",
       "H2O cluster total nodes:    1\n",
       "H2O cluster free memory:    13.96 Gb\n",
       "H2O cluster total cores:    12\n",
       "H2O cluster allowed cores:  12\n",
       "H2O cluster status:         accepting new members, healthy\n",
       "H2O connection url:         http://localhost:54321\n",
       "H2O connection proxy:\n",
       "Python version:             2.7.12 final\n",
       "--------------------------  ------------------------------"
      ]
     },
     "metadata": {},
     "output_type": "display_data"
    }
   ],
   "source": [
    "import h2o\n",
    "from h2o.estimators.deepwater import H2ODeepWaterEstimator\n",
    "from h2o.estimators.gbm import H2OGradientBoostingEstimator\n",
    "from h2o.estimators.random_forest import H2ORandomForestEstimator\n",
    "\n",
    "import os.path\n",
    "\n",
    "PATH=os.path.expanduser(\"~/CC_default/\")\n",
    "\n",
    "h2o.init(nthreads=-1)\n",
    "if not H2ODeepWaterEstimator.available(): exit"
   ]
  },
  {
   "cell_type": "code",
   "execution_count": 68,
   "metadata": {
    "collapsed": false
   },
   "outputs": [
    {
     "name": "stdout",
     "output_type": "stream",
     "text": [
      "Parse progress: |█████████████████████████████████████████████████████████████████████████████| 100%\n"
     ]
    },
    {
     "data": {
      "text/html": [
       "<table>\n",
       "<tr><th style=\"text-align: right;\">  ID</th><th style=\"text-align: right;\">  LIMIT_BAL</th><th style=\"text-align: right;\">  SEX</th><th style=\"text-align: right;\">  EDUCATION</th><th style=\"text-align: right;\">  MARRIAGE</th><th style=\"text-align: right;\">  AGE</th><th style=\"text-align: right;\">  PAY_0</th><th style=\"text-align: right;\">  PAY_2</th><th style=\"text-align: right;\">  PAY_3</th><th style=\"text-align: right;\">  PAY_4</th><th style=\"text-align: right;\">  PAY_5</th><th style=\"text-align: right;\">  PAY_6</th><th style=\"text-align: right;\">  BILL_AMT1</th><th style=\"text-align: right;\">  BILL_AMT2</th><th style=\"text-align: right;\">  BILL_AMT3</th><th style=\"text-align: right;\">  BILL_AMT4</th><th style=\"text-align: right;\">  BILL_AMT5</th><th style=\"text-align: right;\">  BILL_AMT6</th><th style=\"text-align: right;\">  PAY_AMT1</th><th style=\"text-align: right;\">  PAY_AMT2</th><th style=\"text-align: right;\">  PAY_AMT3</th><th style=\"text-align: right;\">  PAY_AMT4</th><th style=\"text-align: right;\">  PAY_AMT5</th><th style=\"text-align: right;\">  PAY_AMT6</th><th style=\"text-align: right;\">  default payment next month</th></tr>\n",
       "<tr><td style=\"text-align: right;\">   1</td><td style=\"text-align: right;\">      20000</td><td style=\"text-align: right;\">    2</td><td style=\"text-align: right;\">          2</td><td style=\"text-align: right;\">         1</td><td style=\"text-align: right;\">   24</td><td style=\"text-align: right;\">      2</td><td style=\"text-align: right;\">      2</td><td style=\"text-align: right;\">     -1</td><td style=\"text-align: right;\">     -1</td><td style=\"text-align: right;\">     -2</td><td style=\"text-align: right;\">     -2</td><td style=\"text-align: right;\">       3913</td><td style=\"text-align: right;\">       3102</td><td style=\"text-align: right;\">        689</td><td style=\"text-align: right;\">          0</td><td style=\"text-align: right;\">          0</td><td style=\"text-align: right;\">          0</td><td style=\"text-align: right;\">         0</td><td style=\"text-align: right;\">       689</td><td style=\"text-align: right;\">         0</td><td style=\"text-align: right;\">         0</td><td style=\"text-align: right;\">         0</td><td style=\"text-align: right;\">         0</td><td style=\"text-align: right;\">                           1</td></tr>\n",
       "<tr><td style=\"text-align: right;\">   2</td><td style=\"text-align: right;\">     120000</td><td style=\"text-align: right;\">    2</td><td style=\"text-align: right;\">          2</td><td style=\"text-align: right;\">         2</td><td style=\"text-align: right;\">   26</td><td style=\"text-align: right;\">     -1</td><td style=\"text-align: right;\">      2</td><td style=\"text-align: right;\">      0</td><td style=\"text-align: right;\">      0</td><td style=\"text-align: right;\">      0</td><td style=\"text-align: right;\">      2</td><td style=\"text-align: right;\">       2682</td><td style=\"text-align: right;\">       1725</td><td style=\"text-align: right;\">       2682</td><td style=\"text-align: right;\">       3272</td><td style=\"text-align: right;\">       3455</td><td style=\"text-align: right;\">       3261</td><td style=\"text-align: right;\">         0</td><td style=\"text-align: right;\">      1000</td><td style=\"text-align: right;\">      1000</td><td style=\"text-align: right;\">      1000</td><td style=\"text-align: right;\">         0</td><td style=\"text-align: right;\">      2000</td><td style=\"text-align: right;\">                           1</td></tr>\n",
       "<tr><td style=\"text-align: right;\">   3</td><td style=\"text-align: right;\">      90000</td><td style=\"text-align: right;\">    2</td><td style=\"text-align: right;\">          2</td><td style=\"text-align: right;\">         2</td><td style=\"text-align: right;\">   34</td><td style=\"text-align: right;\">      0</td><td style=\"text-align: right;\">      0</td><td style=\"text-align: right;\">      0</td><td style=\"text-align: right;\">      0</td><td style=\"text-align: right;\">      0</td><td style=\"text-align: right;\">      0</td><td style=\"text-align: right;\">      29239</td><td style=\"text-align: right;\">      14027</td><td style=\"text-align: right;\">      13559</td><td style=\"text-align: right;\">      14331</td><td style=\"text-align: right;\">      14948</td><td style=\"text-align: right;\">      15549</td><td style=\"text-align: right;\">      1518</td><td style=\"text-align: right;\">      1500</td><td style=\"text-align: right;\">      1000</td><td style=\"text-align: right;\">      1000</td><td style=\"text-align: right;\">      1000</td><td style=\"text-align: right;\">      5000</td><td style=\"text-align: right;\">                           0</td></tr>\n",
       "<tr><td style=\"text-align: right;\">   4</td><td style=\"text-align: right;\">      50000</td><td style=\"text-align: right;\">    2</td><td style=\"text-align: right;\">          2</td><td style=\"text-align: right;\">         1</td><td style=\"text-align: right;\">   37</td><td style=\"text-align: right;\">      0</td><td style=\"text-align: right;\">      0</td><td style=\"text-align: right;\">      0</td><td style=\"text-align: right;\">      0</td><td style=\"text-align: right;\">      0</td><td style=\"text-align: right;\">      0</td><td style=\"text-align: right;\">      46990</td><td style=\"text-align: right;\">      48233</td><td style=\"text-align: right;\">      49291</td><td style=\"text-align: right;\">      28314</td><td style=\"text-align: right;\">      28959</td><td style=\"text-align: right;\">      29547</td><td style=\"text-align: right;\">      2000</td><td style=\"text-align: right;\">      2019</td><td style=\"text-align: right;\">      1200</td><td style=\"text-align: right;\">      1100</td><td style=\"text-align: right;\">      1069</td><td style=\"text-align: right;\">      1000</td><td style=\"text-align: right;\">                           0</td></tr>\n",
       "<tr><td style=\"text-align: right;\">   5</td><td style=\"text-align: right;\">      50000</td><td style=\"text-align: right;\">    1</td><td style=\"text-align: right;\">          2</td><td style=\"text-align: right;\">         1</td><td style=\"text-align: right;\">   57</td><td style=\"text-align: right;\">     -1</td><td style=\"text-align: right;\">      0</td><td style=\"text-align: right;\">     -1</td><td style=\"text-align: right;\">      0</td><td style=\"text-align: right;\">      0</td><td style=\"text-align: right;\">      0</td><td style=\"text-align: right;\">       8617</td><td style=\"text-align: right;\">       5670</td><td style=\"text-align: right;\">      35835</td><td style=\"text-align: right;\">      20940</td><td style=\"text-align: right;\">      19146</td><td style=\"text-align: right;\">      19131</td><td style=\"text-align: right;\">      2000</td><td style=\"text-align: right;\">     36681</td><td style=\"text-align: right;\">     10000</td><td style=\"text-align: right;\">      9000</td><td style=\"text-align: right;\">       689</td><td style=\"text-align: right;\">       679</td><td style=\"text-align: right;\">                           0</td></tr>\n",
       "<tr><td style=\"text-align: right;\">   6</td><td style=\"text-align: right;\">      50000</td><td style=\"text-align: right;\">    1</td><td style=\"text-align: right;\">          1</td><td style=\"text-align: right;\">         2</td><td style=\"text-align: right;\">   37</td><td style=\"text-align: right;\">      0</td><td style=\"text-align: right;\">      0</td><td style=\"text-align: right;\">      0</td><td style=\"text-align: right;\">      0</td><td style=\"text-align: right;\">      0</td><td style=\"text-align: right;\">      0</td><td style=\"text-align: right;\">      64400</td><td style=\"text-align: right;\">      57069</td><td style=\"text-align: right;\">      57608</td><td style=\"text-align: right;\">      19394</td><td style=\"text-align: right;\">      19619</td><td style=\"text-align: right;\">      20024</td><td style=\"text-align: right;\">      2500</td><td style=\"text-align: right;\">      1815</td><td style=\"text-align: right;\">       657</td><td style=\"text-align: right;\">      1000</td><td style=\"text-align: right;\">      1000</td><td style=\"text-align: right;\">       800</td><td style=\"text-align: right;\">                           0</td></tr>\n",
       "<tr><td style=\"text-align: right;\">   7</td><td style=\"text-align: right;\">     500000</td><td style=\"text-align: right;\">    1</td><td style=\"text-align: right;\">          1</td><td style=\"text-align: right;\">         2</td><td style=\"text-align: right;\">   29</td><td style=\"text-align: right;\">      0</td><td style=\"text-align: right;\">      0</td><td style=\"text-align: right;\">      0</td><td style=\"text-align: right;\">      0</td><td style=\"text-align: right;\">      0</td><td style=\"text-align: right;\">      0</td><td style=\"text-align: right;\">     367965</td><td style=\"text-align: right;\">     412023</td><td style=\"text-align: right;\">     445007</td><td style=\"text-align: right;\">     542653</td><td style=\"text-align: right;\">     483003</td><td style=\"text-align: right;\">     473944</td><td style=\"text-align: right;\">     55000</td><td style=\"text-align: right;\">     40000</td><td style=\"text-align: right;\">     38000</td><td style=\"text-align: right;\">     20239</td><td style=\"text-align: right;\">     13750</td><td style=\"text-align: right;\">     13770</td><td style=\"text-align: right;\">                           0</td></tr>\n",
       "<tr><td style=\"text-align: right;\">   8</td><td style=\"text-align: right;\">     100000</td><td style=\"text-align: right;\">    2</td><td style=\"text-align: right;\">          2</td><td style=\"text-align: right;\">         2</td><td style=\"text-align: right;\">   23</td><td style=\"text-align: right;\">      0</td><td style=\"text-align: right;\">     -1</td><td style=\"text-align: right;\">     -1</td><td style=\"text-align: right;\">      0</td><td style=\"text-align: right;\">      0</td><td style=\"text-align: right;\">     -1</td><td style=\"text-align: right;\">      11876</td><td style=\"text-align: right;\">        380</td><td style=\"text-align: right;\">        601</td><td style=\"text-align: right;\">        221</td><td style=\"text-align: right;\">       -159</td><td style=\"text-align: right;\">        567</td><td style=\"text-align: right;\">       380</td><td style=\"text-align: right;\">       601</td><td style=\"text-align: right;\">         0</td><td style=\"text-align: right;\">       581</td><td style=\"text-align: right;\">      1687</td><td style=\"text-align: right;\">      1542</td><td style=\"text-align: right;\">                           0</td></tr>\n",
       "<tr><td style=\"text-align: right;\">   9</td><td style=\"text-align: right;\">     140000</td><td style=\"text-align: right;\">    2</td><td style=\"text-align: right;\">          3</td><td style=\"text-align: right;\">         1</td><td style=\"text-align: right;\">   28</td><td style=\"text-align: right;\">      0</td><td style=\"text-align: right;\">      0</td><td style=\"text-align: right;\">      2</td><td style=\"text-align: right;\">      0</td><td style=\"text-align: right;\">      0</td><td style=\"text-align: right;\">      0</td><td style=\"text-align: right;\">      11285</td><td style=\"text-align: right;\">      14096</td><td style=\"text-align: right;\">      12108</td><td style=\"text-align: right;\">      12211</td><td style=\"text-align: right;\">      11793</td><td style=\"text-align: right;\">       3719</td><td style=\"text-align: right;\">      3329</td><td style=\"text-align: right;\">         0</td><td style=\"text-align: right;\">       432</td><td style=\"text-align: right;\">      1000</td><td style=\"text-align: right;\">      1000</td><td style=\"text-align: right;\">      1000</td><td style=\"text-align: right;\">                           0</td></tr>\n",
       "<tr><td style=\"text-align: right;\">  10</td><td style=\"text-align: right;\">      20000</td><td style=\"text-align: right;\">    1</td><td style=\"text-align: right;\">          3</td><td style=\"text-align: right;\">         2</td><td style=\"text-align: right;\">   35</td><td style=\"text-align: right;\">     -2</td><td style=\"text-align: right;\">     -2</td><td style=\"text-align: right;\">     -2</td><td style=\"text-align: right;\">     -2</td><td style=\"text-align: right;\">     -1</td><td style=\"text-align: right;\">     -1</td><td style=\"text-align: right;\">          0</td><td style=\"text-align: right;\">          0</td><td style=\"text-align: right;\">          0</td><td style=\"text-align: right;\">          0</td><td style=\"text-align: right;\">      13007</td><td style=\"text-align: right;\">      13912</td><td style=\"text-align: right;\">         0</td><td style=\"text-align: right;\">         0</td><td style=\"text-align: right;\">         0</td><td style=\"text-align: right;\">     13007</td><td style=\"text-align: right;\">      1122</td><td style=\"text-align: right;\">         0</td><td style=\"text-align: right;\">                           0</td></tr>\n",
       "</table>"
      ]
     },
     "metadata": {},
     "output_type": "display_data"
    },
    {
     "data": {
      "text/plain": [
       "[30000, 25]"
      ]
     },
     "execution_count": 68,
     "metadata": {},
     "output_type": "execute_result"
    }
   ],
   "source": [
    "df = h2o.import_file(PATH+\"default of credit card clients.csv\")\n",
    "df.show()\n",
    "df.dim"
   ]
  },
  {
   "cell_type": "code",
   "execution_count": 75,
   "metadata": {
    "collapsed": false
   },
   "outputs": [],
   "source": [
    "response = \"default payment next month\"\n",
    "for i in ['SEX','EDUCATION','MARRIAGE',response]: \n",
    "    df[i] = df[i].asfactor() \n",
    "predictors = list(set(df.names) - set([response, 'ID']))"
   ]
  },
  {
   "cell_type": "code",
   "execution_count": 189,
   "metadata": {
    "collapsed": false
   },
   "outputs": [
    {
     "name": "stdout",
     "output_type": "stream",
     "text": [
      "[24087, 25]\n",
      "[2871, 25]\n",
      "[3042, 25]\n"
     ]
    }
   ],
   "source": [
    "r = df.runif(seed=42)\n",
    "train = df[r  < 0.8]                 ## 80% for training\n",
    "valid = df[(r >= 0.8) & (r < 0.9)]   ## 10% for early stopping (only enabled by default for Deep Water)\n",
    "test  = df[r  >= 0.9]                ## 10% for final testing\n",
    "print(train.dim)\n",
    "print(valid.dim)\n",
    "print(test .dim)"
   ]
  },
  {
   "cell_type": "code",
   "execution_count": 190,
   "metadata": {
    "collapsed": false
   },
   "outputs": [
    {
     "name": "stdout",
     "output_type": "stream",
     "text": [
      "deepwater Model Build progress: |█████████████████████████████████████████████████████████████| 100%\n"
     ]
    },
    {
     "data": {
      "text/plain": [
       "0.7046546156950931"
      ]
     },
     "execution_count": 190,
     "metadata": {},
     "output_type": "execute_result"
    }
   ],
   "source": [
    "deepwater = H2ODeepWaterEstimator()\n",
    "deepwater.train(x=predictors, y=response, training_frame=train, validation_frame=valid)\n",
    "deepwater.model_performance(valid=True).auc()"
   ]
  },
  {
   "cell_type": "code",
   "execution_count": 191,
   "metadata": {
    "collapsed": false
   },
   "outputs": [
    {
     "name": "stdout",
     "output_type": "stream",
     "text": [
      "gbm Model Build progress: |███████████████████████████████████████████████████████████████████| 100%\n"
     ]
    },
    {
     "data": {
      "text/plain": [
       "0.7792643285475408"
      ]
     },
     "execution_count": 191,
     "metadata": {},
     "output_type": "execute_result"
    }
   ],
   "source": [
    "gbm = H2OGradientBoostingEstimator()\n",
    "gbm.train(x=predictors, y=response, training_frame=train, validation_frame=valid)\n",
    "gbm.model_performance(valid=True).auc()"
   ]
  },
  {
   "cell_type": "code",
   "execution_count": 192,
   "metadata": {
    "collapsed": false
   },
   "outputs": [
    {
     "name": "stdout",
     "output_type": "stream",
     "text": [
      "drf Model Build progress: |███████████████████████████████████████████████████████████████████| 100%\n"
     ]
    },
    {
     "data": {
      "text/plain": [
       "0.7693493051951796"
      ]
     },
     "execution_count": 192,
     "metadata": {},
     "output_type": "execute_result"
    }
   ],
   "source": [
    "drf = H2ORandomForestEstimator()\n",
    "drf.train(x=predictors, y=response, training_frame=train, validation_frame=valid)\n",
    "drf.model_performance(valid=True).auc()"
   ]
  },
  {
   "cell_type": "code",
   "execution_count": 193,
   "metadata": {
    "collapsed": false
   },
   "outputs": [
    {
     "name": "stdout",
     "output_type": "stream",
     "text": [
      "deepwater prediction progress: |██████████████████████████████████████████████████████████████| 100%\n"
     ]
    },
    {
     "data": {
      "text/html": [
       "<table>\n",
       "<tr><th style=\"text-align: right;\">  predict</th><th style=\"text-align: right;\">       p0</th><th style=\"text-align: right;\">       p1</th></tr>\n",
       "<tr><td style=\"text-align: right;\">        1</td><td style=\"text-align: right;\">0.68773  </td><td style=\"text-align: right;\">0.31227  </td></tr>\n",
       "<tr><td style=\"text-align: right;\">        0</td><td style=\"text-align: right;\">0.958576 </td><td style=\"text-align: right;\">0.0414235</td></tr>\n",
       "<tr><td style=\"text-align: right;\">        1</td><td style=\"text-align: right;\">0.0706593</td><td style=\"text-align: right;\">0.929341 </td></tr>\n",
       "<tr><td style=\"text-align: right;\">        0</td><td style=\"text-align: right;\">0.920109 </td><td style=\"text-align: right;\">0.0798908</td></tr>\n",
       "<tr><td style=\"text-align: right;\">        0</td><td style=\"text-align: right;\">0.978373 </td><td style=\"text-align: right;\">0.0216272</td></tr>\n",
       "<tr><td style=\"text-align: right;\">        1</td><td style=\"text-align: right;\">0.40178  </td><td style=\"text-align: right;\">0.59822  </td></tr>\n",
       "<tr><td style=\"text-align: right;\">        1</td><td style=\"text-align: right;\">0.713629 </td><td style=\"text-align: right;\">0.286371 </td></tr>\n",
       "<tr><td style=\"text-align: right;\">        0</td><td style=\"text-align: right;\">1        </td><td style=\"text-align: right;\">4.068e-09</td></tr>\n",
       "<tr><td style=\"text-align: right;\">        0</td><td style=\"text-align: right;\">0.852017 </td><td style=\"text-align: right;\">0.147982 </td></tr>\n",
       "<tr><td style=\"text-align: right;\">        1</td><td style=\"text-align: right;\">0.194967 </td><td style=\"text-align: right;\">0.805033 </td></tr>\n",
       "</table>"
      ]
     },
     "metadata": {},
     "output_type": "display_data"
    },
    {
     "data": {
      "text/plain": []
     },
     "execution_count": 193,
     "metadata": {},
     "output_type": "execute_result"
    }
   ],
   "source": [
    "pdeepwater = deepwater.predict(test)\n",
    "pdeepwater"
   ]
  },
  {
   "cell_type": "code",
   "execution_count": 194,
   "metadata": {
    "collapsed": false,
    "scrolled": false
   },
   "outputs": [
    {
     "name": "stdout",
     "output_type": "stream",
     "text": [
      "gbm prediction progress: |████████████████████████████████████████████████████████████████████| 100%\n"
     ]
    },
    {
     "data": {
      "text/html": [
       "<table>\n",
       "<tr><th style=\"text-align: right;\">  predict</th><th style=\"text-align: right;\">      p0</th><th style=\"text-align: right;\">       p1</th></tr>\n",
       "<tr><td style=\"text-align: right;\">        0</td><td style=\"text-align: right;\">0.804759</td><td style=\"text-align: right;\">0.195241 </td></tr>\n",
       "<tr><td style=\"text-align: right;\">        0</td><td style=\"text-align: right;\">0.939914</td><td style=\"text-align: right;\">0.0600864</td></tr>\n",
       "<tr><td style=\"text-align: right;\">        1</td><td style=\"text-align: right;\">0.259953</td><td style=\"text-align: right;\">0.740047 </td></tr>\n",
       "<tr><td style=\"text-align: right;\">        0</td><td style=\"text-align: right;\">0.911463</td><td style=\"text-align: right;\">0.0885374</td></tr>\n",
       "<tr><td style=\"text-align: right;\">        0</td><td style=\"text-align: right;\">0.77337 </td><td style=\"text-align: right;\">0.22663  </td></tr>\n",
       "<tr><td style=\"text-align: right;\">        1</td><td style=\"text-align: right;\">0.347837</td><td style=\"text-align: right;\">0.652163 </td></tr>\n",
       "<tr><td style=\"text-align: right;\">        1</td><td style=\"text-align: right;\">0.629427</td><td style=\"text-align: right;\">0.370573 </td></tr>\n",
       "<tr><td style=\"text-align: right;\">        0</td><td style=\"text-align: right;\">0.950552</td><td style=\"text-align: right;\">0.0494482</td></tr>\n",
       "<tr><td style=\"text-align: right;\">        1</td><td style=\"text-align: right;\">0.272054</td><td style=\"text-align: right;\">0.727946 </td></tr>\n",
       "<tr><td style=\"text-align: right;\">        1</td><td style=\"text-align: right;\">0.262104</td><td style=\"text-align: right;\">0.737896 </td></tr>\n",
       "</table>"
      ]
     },
     "metadata": {},
     "output_type": "display_data"
    },
    {
     "data": {
      "text/plain": []
     },
     "execution_count": 194,
     "metadata": {},
     "output_type": "execute_result"
    }
   ],
   "source": [
    "pgbm = gbm.predict(test)\n",
    "pgbm"
   ]
  },
  {
   "cell_type": "code",
   "execution_count": 195,
   "metadata": {
    "collapsed": false
   },
   "outputs": [
    {
     "name": "stdout",
     "output_type": "stream",
     "text": [
      "drf prediction progress: |████████████████████████████████████████████████████████████████████| 100%\n"
     ]
    },
    {
     "data": {
      "text/html": [
       "<table>\n",
       "<tr><th style=\"text-align: right;\">  predict</th><th style=\"text-align: right;\">      p0</th><th style=\"text-align: right;\">       p1</th></tr>\n",
       "<tr><td style=\"text-align: right;\">        0</td><td style=\"text-align: right;\">0.797418</td><td style=\"text-align: right;\">0.202582 </td></tr>\n",
       "<tr><td style=\"text-align: right;\">        0</td><td style=\"text-align: right;\">0.974096</td><td style=\"text-align: right;\">0.0259039</td></tr>\n",
       "<tr><td style=\"text-align: right;\">        1</td><td style=\"text-align: right;\">0.143146</td><td style=\"text-align: right;\">0.856854 </td></tr>\n",
       "<tr><td style=\"text-align: right;\">        0</td><td style=\"text-align: right;\">0.89147 </td><td style=\"text-align: right;\">0.10853  </td></tr>\n",
       "<tr><td style=\"text-align: right;\">        0</td><td style=\"text-align: right;\">0.730526</td><td style=\"text-align: right;\">0.269474 </td></tr>\n",
       "<tr><td style=\"text-align: right;\">        1</td><td style=\"text-align: right;\">0.358218</td><td style=\"text-align: right;\">0.641782 </td></tr>\n",
       "<tr><td style=\"text-align: right;\">        1</td><td style=\"text-align: right;\">0.617384</td><td style=\"text-align: right;\">0.382616 </td></tr>\n",
       "<tr><td style=\"text-align: right;\">        0</td><td style=\"text-align: right;\">0.918169</td><td style=\"text-align: right;\">0.0818311</td></tr>\n",
       "<tr><td style=\"text-align: right;\">        1</td><td style=\"text-align: right;\">0.208152</td><td style=\"text-align: right;\">0.791848 </td></tr>\n",
       "<tr><td style=\"text-align: right;\">        1</td><td style=\"text-align: right;\">0.226032</td><td style=\"text-align: right;\">0.773968 </td></tr>\n",
       "</table>"
      ]
     },
     "metadata": {},
     "output_type": "display_data"
    },
    {
     "data": {
      "text/plain": []
     },
     "execution_count": 195,
     "metadata": {},
     "output_type": "execute_result"
    }
   ],
   "source": [
    "pdrf = drf.predict(test)\n",
    "pdrf"
   ]
  },
  {
   "cell_type": "code",
   "execution_count": 196,
   "metadata": {
    "collapsed": false
   },
   "outputs": [
    {
     "data": {
      "text/plain": [
       "0.6933370886729568"
      ]
     },
     "execution_count": 196,
     "metadata": {},
     "output_type": "execute_result"
    }
   ],
   "source": [
    "h2o.make_metrics(actual=test[response], predicted=pdeepwater[2]).auc()"
   ]
  },
  {
   "cell_type": "code",
   "execution_count": 197,
   "metadata": {
    "collapsed": false
   },
   "outputs": [
    {
     "data": {
      "text/plain": [
       "0.7701031153671627"
      ]
     },
     "execution_count": 197,
     "metadata": {},
     "output_type": "execute_result"
    }
   ],
   "source": [
    "h2o.make_metrics(actual=test[response], predicted=pgbm[2]).auc()"
   ]
  },
  {
   "cell_type": "code",
   "execution_count": 198,
   "metadata": {
    "collapsed": false
   },
   "outputs": [
    {
     "data": {
      "text/plain": [
       "0.7629366755855983"
      ]
     },
     "execution_count": 198,
     "metadata": {},
     "output_type": "execute_result"
    }
   ],
   "source": [
    "h2o.make_metrics(actual=test[response], predicted=pdrf[2]).auc()"
   ]
  },
  {
   "cell_type": "code",
   "execution_count": 205,
   "metadata": {
    "collapsed": false
   },
   "outputs": [
    {
     "data": {
      "text/plain": [
       "0.7710629175859425"
      ]
     },
     "execution_count": 205,
     "metadata": {},
     "output_type": "execute_result"
    }
   ],
   "source": [
    "h2o.make_metrics(actual=test[response], predicted=0.5*(pgbm+pdrf)[2]).auc()"
   ]
  },
  {
   "cell_type": "code",
   "execution_count": 206,
   "metadata": {
    "collapsed": false
   },
   "outputs": [
    {
     "data": {
      "text/plain": [
       "0.7724514544117417"
      ]
     },
     "execution_count": 206,
     "metadata": {},
     "output_type": "execute_result"
    }
   ],
   "source": [
    "h2o.make_metrics(actual=test[response], predicted=0.1*(5*pgbm+4*pdrf+1*pdeepwater)[2]).auc()"
   ]
  },
  {
   "cell_type": "markdown",
   "metadata": {},
   "source": [
    "[Inspect model convergence in Flow](http://localhost:54321/flow/index.html)"
   ]
  }
 ],
 "metadata": {
  "anaconda-cloud": {},
  "kernelspec": {
   "display_name": "Python [default]",
   "language": "python",
   "name": "python2"
  },
  "language_info": {
   "codemirror_mode": {
    "name": "ipython",
    "version": 2
   },
   "file_extension": ".py",
   "mimetype": "text/x-python",
   "name": "python",
   "nbconvert_exporter": "python",
   "pygments_lexer": "ipython2",
   "version": "2.7.12"
  }
 },
 "nbformat": 4,
 "nbformat_minor": 1
}
