{
 "cells": [
  {
   "cell_type": "code",
   "execution_count": 5,
   "metadata": {
    "collapsed": false
   },
   "outputs": [
    {
     "name": "stderr",
     "output_type": "stream",
     "text": [
      "Installing package into ‘/home/arno/Rlibrary’\n",
      "(as ‘lib’ is unspecified)\n",
      "also installing the dependency ‘bitops’\n",
      "\n",
      "Installing package into ‘/home/arno/Rlibrary’\n",
      "(as ‘lib’ is unspecified)\n",
      "Installing package into ‘/home/arno/Rlibrary’\n",
      "(as ‘lib’ is unspecified)\n",
      "Installing packages into ‘/home/arno/Rlibrary’\n",
      "(as ‘lib’ is unspecified)\n",
      "also installing the dependencies ‘withr’, ‘praise’\n",
      "\n",
      "Warning message in install.packages(c(\"devtools\", \"roxygen2\", \"testthat\")):\n",
      "“installation of package ‘devtools’ had non-zero exit status”"
     ]
    }
   ],
   "source": [
    "#conda install -c r ipython-notebook r-irkernel\n",
    "\n",
    "#install.packages(\"RCurl\")\n",
    "#install.packages(\"jsonlite\")\n",
    "#install.packages(\"statmod\")\n",
    "#install.packages(c(\"devtools\", \"roxygen2\", \"testthat\"))"
   ]
  },
  {
   "cell_type": "code",
   "execution_count": 6,
   "metadata": {
    "collapsed": false
   },
   "outputs": [
    {
     "name": "stderr",
     "output_type": "stream",
     "text": [
      "\n",
      "----------------------------------------------------------------------\n",
      "\n",
      "Your next step is to start H2O:\n",
      "    > h2o.init()\n",
      "\n",
      "For H2O package documentation, ask for help:\n",
      "    > ??h2o\n",
      "\n",
      "After starting H2O, you can use the Web UI at http://localhost:54321\n",
      "For more information visit http://docs.h2o.ai\n",
      "\n",
      "----------------------------------------------------------------------\n",
      "\n",
      "\n",
      "Attaching package: ‘h2o’\n",
      "\n",
      "The following objects are masked from ‘package:stats’:\n",
      "\n",
      "    cor, sd, var\n",
      "\n",
      "The following objects are masked from ‘package:base’:\n",
      "\n",
      "    &&, %*%, %in%, ||, apply, as.factor, as.numeric, colnames,\n",
      "    colnames<-, ifelse, is.character, is.factor, is.numeric, log,\n",
      "    log10, log1p, log2, round, signif, trunc\n",
      "\n"
     ]
    },
    {
     "name": "stdout",
     "output_type": "stream",
     "text": [
      " Connection successful!\n",
      "\n",
      "R is connected to the H2O cluster: \n",
      "    H2O cluster uptime:         14 minutes 37 seconds \n",
      "    H2O cluster version:        3.11.0.99999 \n",
      "    H2O cluster version age:    14 minutes  \n",
      "    H2O cluster name:           arno \n",
      "    H2O cluster total nodes:    1 \n",
      "    H2O cluster total memory:   13.96 GB \n",
      "    H2O cluster total cores:    12 \n",
      "    H2O cluster allowed cores:  12 \n",
      "    H2O cluster healthy:        TRUE \n",
      "    H2O Connection ip:          localhost \n",
      "    H2O Connection port:        54321 \n",
      "    H2O Connection proxy:       NA \n",
      "    R Version:                  R version 3.3.1 (2016-06-21) \n",
      "\n"
     ]
    },
    {
     "ename": "ERROR",
     "evalue": "Error in eval(expr, envir, enclos): could not find function \"h2o.deepwater.available\"\n",
     "output_type": "error",
     "traceback": [
      "Error in eval(expr, envir, enclos): could not find function \"h2o.deepwater.available\"\nTraceback:\n"
     ]
    }
   ],
   "source": [
    "library(h2o)\n",
    "h2o.init(nthreads=-1)\n",
    "if (!h2o.deepwater.available()) return()"
   ]
  },
  {
   "cell_type": "code",
   "execution_count": 7,
   "metadata": {
    "collapsed": false
   },
   "outputs": [
    {
     "name": "stdout",
     "output_type": "stream",
     "text": [
      "\r",
      "  |                                                                            \r",
      "  |                                                                      |   0%\r",
      "  |                                                                            \r",
      "  |======================================================================| 100%\n"
     ]
    }
   ],
   "source": [
    "train <- as.h2o(iris)\n",
    "predictors=1:4\n",
    "response_col=5\n",
    "hidden_opts <- list(c(20, 20), c(50, 50, 50), c(200,200), c(50,50,50,50,50))\n",
    "activation_opts <- c(\"tanh\", \"rectifier\")\n",
    "learnrate_opts <- seq(1e-3, 1e-2, 1e-3)\n",
    "momentum_opts <- seq(0, 1, 1e-2)\n",
    "max_models <- 1000      ## don't build more than this many models (this won't trigger)\n",
    "nfolds <- 3             ## use cross-validation to rank models and to find optimal number of epochs for each model\n",
    "seed <- 42\n",
    "max_runtime_secs <- 30  ## limit overall time (this triggers)"
   ]
  },
  {
   "cell_type": "code",
   "execution_count": 8,
   "metadata": {
    "collapsed": true
   },
   "outputs": [],
   "source": [
    "hyper_params <- list(activation = activation_opts, hidden = hidden_opts, learning_rate = learnrate_opts)\n",
    "search_criteria = list(strategy = \"RandomDiscrete\",\n",
    "                       max_models = max_models, seed = seed, max_runtime_secs = max_runtime_secs,\n",
    "                       stopping_rounds=5,          ## enable early stopping of the overall leaderboard\n",
    "                       stopping_metric=\"logloss\",\n",
    "                       stopping_tolerance=1e-4)"
   ]
  },
  {
   "cell_type": "code",
   "execution_count": 9,
   "metadata": {
    "collapsed": false
   },
   "outputs": [
    {
     "name": "stdout",
     "output_type": "stream",
     "text": [
      "\r",
      "  |                                                                            \r",
      "  |                                                                      |   0%\r",
      "  |                                                                            \r",
      "  |==                                                                    |   3%\r",
      "  |                                                                            \r",
      "  |=====                                                                 |   7%\r",
      "  |                                                                            \r",
      "  |=======                                                               |  10%\r",
      "  |                                                                            \r",
      "  |==========                                                            |  14%\r",
      "  |                                                                            \r",
      "  |============                                                          |  17%\r",
      "  |                                                                            \r",
      "  |==============                                                        |  20%\r",
      "  |                                                                            \r",
      "  |=================                                                     |  24%\r",
      "  |                                                                            \r",
      "  |===================                                                   |  27%\r",
      "  |                                                                            \r",
      "  |=====================                                                 |  30%\r",
      "  |                                                                            \r",
      "  |========================                                              |  34%\r",
      "  |                                                                            \r",
      "  |==========================                                            |  37%\r",
      "  |                                                                            \r",
      "  |============================                                          |  41%\r",
      "  |                                                                            \r",
      "  |===============================                                       |  44%\r",
      "  |                                                                            \r",
      "  |=================================                                     |  47%\r",
      "  |                                                                            \r",
      "  |===================================                                   |  51%\r",
      "  |                                                                            \r",
      "  |======================================                                |  54%\r",
      "  |                                                                            \r",
      "  |========================================                              |  57%\r",
      "  |                                                                            \r",
      "  |==========================================                            |  61%\r",
      "  |                                                                            \r",
      "  |=============================================                         |  64%\r",
      "  |                                                                            \r",
      "  |===============================================                       |  67%\r",
      "  |                                                                            \r",
      "  |==================================================                    |  71%\r",
      "  |                                                                            \r",
      "  |====================================================                  |  74%\r",
      "  |                                                                            \r",
      "  |======================================================                |  78%\r",
      "  |                                                                            \r",
      "  |=========================================================             |  81%\r",
      "  |                                                                            \r",
      "  |===========================================================           |  84%\r",
      "  |                                                                            \r",
      "  |=============================================================         |  88%\r",
      "  |                                                                            \r",
      "  |================================================================      |  91%\r",
      "  |                                                                            \r",
      "  |==================================================================    |  94%\r",
      "  |                                                                            \r",
      "  |====================================================================  |  98%\r",
      "  |                                                                            \r",
      "  |======================================================================| 100%\n"
     ]
    }
   ],
   "source": [
    "dw_grid = h2o.grid(\"deepwater\", grid_id=\"deepwater_grid\",\n",
    "                   x=predictors, y=response_col, training_frame=train,\n",
    "                   epochs=500,                 ## long enough to allow early stopping \n",
    "                   nfolds=nfolds,              \n",
    "                   stopping_rounds=3,          ## enable early stopping of each model in the hyperparameter search\n",
    "                   stopping_metric=\"logloss\",\n",
    "                   stopping_tolerance=1e-3,    ## stop once validation logloss of the cv models doesn't improve enough\n",
    "                   hyper_params=hyper_params,  \n",
    "                   search_criteria = search_criteria)"
   ]
  },
  {
   "cell_type": "code",
   "execution_count": 10,
   "metadata": {
    "collapsed": false
   },
   "outputs": [
    {
     "data": {
      "text/plain": [
       "H2O Grid Details\n",
       "================\n",
       "\n",
       "Grid ID: deepwater_grid \n",
       "Used hyper parameters: \n",
       "  -  activation \n",
       "  -  hidden \n",
       "  -  learning_rate \n",
       "Number of models: 9 \n",
       "Number of failed models: 0 \n",
       "\n",
       "Hyper-Parameter Search Summary: ordered by increasing logloss\n",
       "  activation               hidden learning_rate              model_ids\n",
       "1       Tanh             [20, 20]          0.01 deepwater_grid_model_5\n",
       "2  Rectifier             [20, 20]         0.004 deepwater_grid_model_0\n",
       "3  Rectifier             [20, 20]         0.001 deepwater_grid_model_3\n",
       "4       Tanh [50, 50, 50, 50, 50]         0.009 deepwater_grid_model_2\n",
       "5       Tanh           [200, 200]         0.005 deepwater_grid_model_7\n",
       "6       Tanh         [50, 50, 50]         0.002 deepwater_grid_model_6\n",
       "7  Rectifier         [50, 50, 50]         0.009 deepwater_grid_model_1\n",
       "8  Rectifier           [200, 200]         0.008 deepwater_grid_model_4\n",
       "9  Rectifier [50, 50, 50, 50, 50]         0.007 deepwater_grid_model_8\n",
       "              logloss\n",
       "1 0.10360537308271477\n",
       "2  0.1625494618028055\n",
       "3 0.18870357386174968\n",
       "4  0.4132216265277581\n",
       "5  0.4676174315562619\n",
       "6  0.6295032648019662\n",
       "7  1.2044396481497057\n",
       "8  1.4559550555517036\n",
       "9  2.3025850929940455"
      ]
     },
     "metadata": {},
     "output_type": "display_data"
    }
   ],
   "source": [
    "dw_grid"
   ]
  }
 ],
 "metadata": {
  "anaconda-cloud": {},
  "kernelspec": {
   "display_name": "R",
   "language": "R",
   "name": "ir"
  },
  "language_info": {
   "codemirror_mode": "r",
   "file_extension": ".r",
   "mimetype": "text/x-r-source",
   "name": "R",
   "pygments_lexer": "r",
   "version": "3.3.1"
  }
 },
 "nbformat": 4,
 "nbformat_minor": 1
}
