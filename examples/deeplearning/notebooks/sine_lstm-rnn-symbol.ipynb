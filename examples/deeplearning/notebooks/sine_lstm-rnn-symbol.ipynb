{
 "cells": [
  {
   "cell_type": "code",
   "execution_count": 1,
   "metadata": {
    "collapsed": false
   },
   "outputs": [
    {
     "name": "stdout",
     "output_type": "stream",
     "text": [
      "Checking whether there is an H2O instance running at http://localhost:54321. connected.\n"
     ]
    },
    {
     "data": {
      "text/html": [
       "<div style=\"overflow:auto\"><table style=\"width:50%\"><tr><td>H2O cluster uptime:</td>\n",
       "<td>31 secs</td></tr>\n",
       "<tr><td>H2O cluster version:</td>\n",
       "<td>3.11.0.99999</td></tr>\n",
       "<tr><td>H2O cluster version age:</td>\n",
       "<td>1 month and 11 days </td></tr>\n",
       "<tr><td>H2O cluster name:</td>\n",
       "<td>ubuntu</td></tr>\n",
       "<tr><td>H2O cluster total nodes:</td>\n",
       "<td>1</td></tr>\n",
       "<tr><td>H2O cluster free memory:</td>\n",
       "<td>8.58 Gb</td></tr>\n",
       "<tr><td>H2O cluster total cores:</td>\n",
       "<td>8</td></tr>\n",
       "<tr><td>H2O cluster allowed cores:</td>\n",
       "<td>8</td></tr>\n",
       "<tr><td>H2O cluster status:</td>\n",
       "<td>accepting new members, healthy</td></tr>\n",
       "<tr><td>H2O connection url:</td>\n",
       "<td>http://localhost:54321</td></tr>\n",
       "<tr><td>H2O connection proxy:</td>\n",
       "<td>None</td></tr>\n",
       "<tr><td>Python version:</td>\n",
       "<td>2.7.12 final</td></tr></table></div>"
      ],
      "text/plain": [
       "--------------------------  ------------------------------\n",
       "H2O cluster uptime:         31 secs\n",
       "H2O cluster version:        3.11.0.99999\n",
       "H2O cluster version age:    1 month and 11 days\n",
       "H2O cluster name:           ubuntu\n",
       "H2O cluster total nodes:    1\n",
       "H2O cluster free memory:    8.58 Gb\n",
       "H2O cluster total cores:    8\n",
       "H2O cluster allowed cores:  8\n",
       "H2O cluster status:         accepting new members, healthy\n",
       "H2O connection url:         http://localhost:54321\n",
       "H2O connection proxy:\n",
       "Python version:             2.7.12 final\n",
       "--------------------------  ------------------------------"
      ]
     },
     "metadata": {},
     "output_type": "display_data"
    }
   ],
   "source": [
    "import h2o\n",
    "h2o.init()"
   ]
  },
  {
   "cell_type": "code",
   "execution_count": 2,
   "metadata": {
    "collapsed": true
   },
   "outputs": [],
   "source": [
    "import numpy as np\n",
    "import mxnet as mx\n",
    "from collections import namedtuple"
   ]
  },
  {
   "cell_type": "code",
   "execution_count": 3,
   "metadata": {
    "collapsed": true
   },
   "outputs": [],
   "source": [
    "f = open('/home/ubuntu/h2o-3/bigdata/laptop/lstm/sinwave.csv', 'rb').read()\n",
    "data = f.split('\\r\\n')"
   ]
  },
  {
   "cell_type": "code",
   "execution_count": 4,
   "metadata": {
    "collapsed": false
   },
   "outputs": [],
   "source": [
    "sequence_length = 50\n",
    "result = []\n",
    "for index in range(len(data) - sequence_length):\n",
    "    result.append(data[index: index + sequence_length])\n",
    "\n",
    "result = np.array(result)\n",
    "row = int(0.9 * result.shape[0])"
   ]
  },
  {
   "cell_type": "code",
   "execution_count": 5,
   "metadata": {
    "collapsed": false
   },
   "outputs": [],
   "source": [
    "train = result[:row, :]\n",
    "# np.random.shuffle(train)\n",
    "test = result[row:, ]"
   ]
  },
  {
   "cell_type": "code",
   "execution_count": 6,
   "metadata": {
    "collapsed": false
   },
   "outputs": [
    {
     "name": "stdout",
     "output_type": "stream",
     "text": [
      "Parse progress: |█████████████████████████████████████████████████████████| 100%\n"
     ]
    },
    {
     "data": {
      "text/plain": [
       "[4455, 50]"
      ]
     },
     "execution_count": 6,
     "metadata": {},
     "output_type": "execute_result"
    }
   ],
   "source": [
    "train_df = h2o.H2OFrame(python_obj=train)\n",
    "train_df.dim"
   ]
  },
  {
   "cell_type": "code",
   "execution_count": 7,
   "metadata": {
    "collapsed": false
   },
   "outputs": [
    {
     "name": "stdout",
     "output_type": "stream",
     "text": [
      "Parse progress: |█████████████████████████████████████████████████████████| 100%\n"
     ]
    },
    {
     "data": {
      "text/plain": [
       "[496, 50]"
      ]
     },
     "execution_count": 7,
     "metadata": {},
     "output_type": "execute_result"
    }
   ],
   "source": [
    "test_df = h2o.H2OFrame(python_obj=test)\n",
    "test_df.dim"
   ]
  },
  {
   "cell_type": "code",
   "execution_count": 8,
   "metadata": {
    "collapsed": false
   },
   "outputs": [
    {
     "data": {
      "text/html": [
       "<table>\n",
       "<thead>\n",
       "<tr><th style=\"text-align: right;\">      C1</th><th style=\"text-align: right;\">      C2</th><th style=\"text-align: right;\">      C3</th><th style=\"text-align: right;\">      C4</th><th style=\"text-align: right;\">      C5</th><th style=\"text-align: right;\">      C6</th><th style=\"text-align: right;\">      C7</th><th style=\"text-align: right;\">      C8</th><th style=\"text-align: right;\">      C9</th><th style=\"text-align: right;\">     C10</th><th style=\"text-align: right;\">     C11</th><th style=\"text-align: right;\">     C12</th><th style=\"text-align: right;\">     C13</th><th style=\"text-align: right;\">     C14</th><th style=\"text-align: right;\">     C15</th><th style=\"text-align: right;\">     C16</th><th style=\"text-align: right;\">     C17</th><th style=\"text-align: right;\">     C18</th><th style=\"text-align: right;\">     C19</th><th style=\"text-align: right;\">     C20</th><th style=\"text-align: right;\">     C21</th><th style=\"text-align: right;\">     C22</th><th style=\"text-align: right;\">     C23</th><th style=\"text-align: right;\">     C24</th><th style=\"text-align: right;\">      C25</th><th style=\"text-align: right;\">       C26</th><th style=\"text-align: right;\">        C27</th><th style=\"text-align: right;\">        C28</th><th style=\"text-align: right;\">        C29</th><th style=\"text-align: right;\">        C30</th><th style=\"text-align: right;\">        C31</th><th style=\"text-align: right;\">        C32</th><th style=\"text-align: right;\">        C33</th><th style=\"text-align: right;\">        C34</th><th style=\"text-align: right;\">        C35</th><th style=\"text-align: right;\">       C36</th><th style=\"text-align: right;\">      C37</th><th style=\"text-align: right;\">      C38</th><th style=\"text-align: right;\">      C39</th><th style=\"text-align: right;\">      C40</th><th style=\"text-align: right;\">      C41</th><th style=\"text-align: right;\">      C42</th><th style=\"text-align: right;\">      C43</th><th style=\"text-align: right;\">      C44</th><th style=\"text-align: right;\">      C45</th><th style=\"text-align: right;\">      C46</th><th style=\"text-align: right;\">      C47</th><th style=\"text-align: right;\">      C48</th><th style=\"text-align: right;\">      C49</th><th style=\"text-align: right;\">      C50</th></tr>\n",
       "</thead>\n",
       "<tbody>\n",
       "<tr><td style=\"text-align: right;\">0.841471</td><td style=\"text-align: right;\">0.873736</td><td style=\"text-align: right;\">0.902554</td><td style=\"text-align: right;\">0.927809</td><td style=\"text-align: right;\">0.949402</td><td style=\"text-align: right;\">0.967249</td><td style=\"text-align: right;\">0.981278</td><td style=\"text-align: right;\">0.991435</td><td style=\"text-align: right;\">0.997679</td><td style=\"text-align: right;\">0.999986</td><td style=\"text-align: right;\">0.998346</td><td style=\"text-align: right;\">0.992766</td><td style=\"text-align: right;\">0.983268</td><td style=\"text-align: right;\">0.96989 </td><td style=\"text-align: right;\">0.952684</td><td style=\"text-align: right;\">0.931718</td><td style=\"text-align: right;\">0.907075</td><td style=\"text-align: right;\">0.878852</td><td style=\"text-align: right;\">0.847161</td><td style=\"text-align: right;\">0.812127</td><td style=\"text-align: right;\">0.773887</td><td style=\"text-align: right;\">0.732593</td><td style=\"text-align: right;\">0.688408</td><td style=\"text-align: right;\">0.641506</td><td style=\"text-align: right;\">0.592073 </td><td style=\"text-align: right;\">0.540302  </td><td style=\"text-align: right;\"> 0.4864    </td><td style=\"text-align: right;\"> 0.430578  </td><td style=\"text-align: right;\"> 0.373056  </td><td style=\"text-align: right;\"> 0.314062  </td><td style=\"text-align: right;\"> 0.253829  </td><td style=\"text-align: right;\"> 0.192594  </td><td style=\"text-align: right;\"> 0.130599  </td><td style=\"text-align: right;\"> 0.0680888 </td><td style=\"text-align: right;\"> 0.00530962</td><td style=\"text-align: right;\">-0.0574905</td><td style=\"text-align: right;\">-0.120064</td><td style=\"text-align: right;\">-0.182163</td><td style=\"text-align: right;\">-0.243544</td><td style=\"text-align: right;\">-0.303963</td><td style=\"text-align: right;\">-0.363183</td><td style=\"text-align: right;\">-0.420969</td><td style=\"text-align: right;\">-0.477094</td><td style=\"text-align: right;\">-0.531336</td><td style=\"text-align: right;\">-0.583481</td><td style=\"text-align: right;\">-0.633324</td><td style=\"text-align: right;\">-0.680667</td><td style=\"text-align: right;\">-0.725324</td><td style=\"text-align: right;\">-0.767118</td><td style=\"text-align: right;\">-0.805885</td></tr>\n",
       "<tr><td style=\"text-align: right;\">0.873736</td><td style=\"text-align: right;\">0.902554</td><td style=\"text-align: right;\">0.927809</td><td style=\"text-align: right;\">0.949402</td><td style=\"text-align: right;\">0.967249</td><td style=\"text-align: right;\">0.981278</td><td style=\"text-align: right;\">0.991435</td><td style=\"text-align: right;\">0.997679</td><td style=\"text-align: right;\">0.999986</td><td style=\"text-align: right;\">0.998346</td><td style=\"text-align: right;\">0.992766</td><td style=\"text-align: right;\">0.983268</td><td style=\"text-align: right;\">0.96989 </td><td style=\"text-align: right;\">0.952684</td><td style=\"text-align: right;\">0.931718</td><td style=\"text-align: right;\">0.907075</td><td style=\"text-align: right;\">0.878852</td><td style=\"text-align: right;\">0.847161</td><td style=\"text-align: right;\">0.812127</td><td style=\"text-align: right;\">0.773887</td><td style=\"text-align: right;\">0.732593</td><td style=\"text-align: right;\">0.688408</td><td style=\"text-align: right;\">0.641506</td><td style=\"text-align: right;\">0.592073</td><td style=\"text-align: right;\">0.540302 </td><td style=\"text-align: right;\">0.4864    </td><td style=\"text-align: right;\"> 0.430578  </td><td style=\"text-align: right;\"> 0.373056  </td><td style=\"text-align: right;\"> 0.314062  </td><td style=\"text-align: right;\"> 0.253829  </td><td style=\"text-align: right;\"> 0.192594  </td><td style=\"text-align: right;\"> 0.130599  </td><td style=\"text-align: right;\"> 0.0680888 </td><td style=\"text-align: right;\"> 0.00530962</td><td style=\"text-align: right;\">-0.0574905 </td><td style=\"text-align: right;\">-0.120064 </td><td style=\"text-align: right;\">-0.182163</td><td style=\"text-align: right;\">-0.243544</td><td style=\"text-align: right;\">-0.303963</td><td style=\"text-align: right;\">-0.363183</td><td style=\"text-align: right;\">-0.420969</td><td style=\"text-align: right;\">-0.477094</td><td style=\"text-align: right;\">-0.531336</td><td style=\"text-align: right;\">-0.583481</td><td style=\"text-align: right;\">-0.633324</td><td style=\"text-align: right;\">-0.680667</td><td style=\"text-align: right;\">-0.725324</td><td style=\"text-align: right;\">-0.767118</td><td style=\"text-align: right;\">-0.805885</td><td style=\"text-align: right;\">-0.841471</td></tr>\n",
       "<tr><td style=\"text-align: right;\">0.902554</td><td style=\"text-align: right;\">0.927809</td><td style=\"text-align: right;\">0.949402</td><td style=\"text-align: right;\">0.967249</td><td style=\"text-align: right;\">0.981278</td><td style=\"text-align: right;\">0.991435</td><td style=\"text-align: right;\">0.997679</td><td style=\"text-align: right;\">0.999986</td><td style=\"text-align: right;\">0.998346</td><td style=\"text-align: right;\">0.992766</td><td style=\"text-align: right;\">0.983268</td><td style=\"text-align: right;\">0.96989 </td><td style=\"text-align: right;\">0.952684</td><td style=\"text-align: right;\">0.931718</td><td style=\"text-align: right;\">0.907075</td><td style=\"text-align: right;\">0.878852</td><td style=\"text-align: right;\">0.847161</td><td style=\"text-align: right;\">0.812127</td><td style=\"text-align: right;\">0.773887</td><td style=\"text-align: right;\">0.732593</td><td style=\"text-align: right;\">0.688408</td><td style=\"text-align: right;\">0.641506</td><td style=\"text-align: right;\">0.592073</td><td style=\"text-align: right;\">0.540302</td><td style=\"text-align: right;\">0.4864   </td><td style=\"text-align: right;\">0.430578  </td><td style=\"text-align: right;\"> 0.373056  </td><td style=\"text-align: right;\"> 0.314062  </td><td style=\"text-align: right;\"> 0.253829  </td><td style=\"text-align: right;\"> 0.192594  </td><td style=\"text-align: right;\"> 0.130599  </td><td style=\"text-align: right;\"> 0.0680888 </td><td style=\"text-align: right;\"> 0.00530962</td><td style=\"text-align: right;\">-0.0574905 </td><td style=\"text-align: right;\">-0.120064  </td><td style=\"text-align: right;\">-0.182163 </td><td style=\"text-align: right;\">-0.243544</td><td style=\"text-align: right;\">-0.303963</td><td style=\"text-align: right;\">-0.363183</td><td style=\"text-align: right;\">-0.420969</td><td style=\"text-align: right;\">-0.477094</td><td style=\"text-align: right;\">-0.531336</td><td style=\"text-align: right;\">-0.583481</td><td style=\"text-align: right;\">-0.633324</td><td style=\"text-align: right;\">-0.680667</td><td style=\"text-align: right;\">-0.725324</td><td style=\"text-align: right;\">-0.767118</td><td style=\"text-align: right;\">-0.805885</td><td style=\"text-align: right;\">-0.841471</td><td style=\"text-align: right;\">-0.873736</td></tr>\n",
       "<tr><td style=\"text-align: right;\">0.927809</td><td style=\"text-align: right;\">0.949402</td><td style=\"text-align: right;\">0.967249</td><td style=\"text-align: right;\">0.981278</td><td style=\"text-align: right;\">0.991435</td><td style=\"text-align: right;\">0.997679</td><td style=\"text-align: right;\">0.999986</td><td style=\"text-align: right;\">0.998346</td><td style=\"text-align: right;\">0.992766</td><td style=\"text-align: right;\">0.983268</td><td style=\"text-align: right;\">0.96989 </td><td style=\"text-align: right;\">0.952684</td><td style=\"text-align: right;\">0.931718</td><td style=\"text-align: right;\">0.907075</td><td style=\"text-align: right;\">0.878852</td><td style=\"text-align: right;\">0.847161</td><td style=\"text-align: right;\">0.812127</td><td style=\"text-align: right;\">0.773887</td><td style=\"text-align: right;\">0.732593</td><td style=\"text-align: right;\">0.688408</td><td style=\"text-align: right;\">0.641506</td><td style=\"text-align: right;\">0.592073</td><td style=\"text-align: right;\">0.540302</td><td style=\"text-align: right;\">0.4864  </td><td style=\"text-align: right;\">0.430578 </td><td style=\"text-align: right;\">0.373056  </td><td style=\"text-align: right;\"> 0.314062  </td><td style=\"text-align: right;\"> 0.253829  </td><td style=\"text-align: right;\"> 0.192594  </td><td style=\"text-align: right;\"> 0.130599  </td><td style=\"text-align: right;\"> 0.0680888 </td><td style=\"text-align: right;\"> 0.00530962</td><td style=\"text-align: right;\">-0.0574905 </td><td style=\"text-align: right;\">-0.120064  </td><td style=\"text-align: right;\">-0.182163  </td><td style=\"text-align: right;\">-0.243544 </td><td style=\"text-align: right;\">-0.303963</td><td style=\"text-align: right;\">-0.363183</td><td style=\"text-align: right;\">-0.420969</td><td style=\"text-align: right;\">-0.477094</td><td style=\"text-align: right;\">-0.531336</td><td style=\"text-align: right;\">-0.583481</td><td style=\"text-align: right;\">-0.633324</td><td style=\"text-align: right;\">-0.680667</td><td style=\"text-align: right;\">-0.725324</td><td style=\"text-align: right;\">-0.767118</td><td style=\"text-align: right;\">-0.805885</td><td style=\"text-align: right;\">-0.841471</td><td style=\"text-align: right;\">-0.873736</td><td style=\"text-align: right;\">-0.902554</td></tr>\n",
       "<tr><td style=\"text-align: right;\">0.949402</td><td style=\"text-align: right;\">0.967249</td><td style=\"text-align: right;\">0.981278</td><td style=\"text-align: right;\">0.991435</td><td style=\"text-align: right;\">0.997679</td><td style=\"text-align: right;\">0.999986</td><td style=\"text-align: right;\">0.998346</td><td style=\"text-align: right;\">0.992766</td><td style=\"text-align: right;\">0.983268</td><td style=\"text-align: right;\">0.96989 </td><td style=\"text-align: right;\">0.952684</td><td style=\"text-align: right;\">0.931718</td><td style=\"text-align: right;\">0.907075</td><td style=\"text-align: right;\">0.878852</td><td style=\"text-align: right;\">0.847161</td><td style=\"text-align: right;\">0.812127</td><td style=\"text-align: right;\">0.773887</td><td style=\"text-align: right;\">0.732593</td><td style=\"text-align: right;\">0.688408</td><td style=\"text-align: right;\">0.641506</td><td style=\"text-align: right;\">0.592073</td><td style=\"text-align: right;\">0.540302</td><td style=\"text-align: right;\">0.4864  </td><td style=\"text-align: right;\">0.430578</td><td style=\"text-align: right;\">0.373056 </td><td style=\"text-align: right;\">0.314062  </td><td style=\"text-align: right;\"> 0.253829  </td><td style=\"text-align: right;\"> 0.192594  </td><td style=\"text-align: right;\"> 0.130599  </td><td style=\"text-align: right;\"> 0.0680888 </td><td style=\"text-align: right;\"> 0.00530962</td><td style=\"text-align: right;\">-0.0574905 </td><td style=\"text-align: right;\">-0.120064  </td><td style=\"text-align: right;\">-0.182163  </td><td style=\"text-align: right;\">-0.243544  </td><td style=\"text-align: right;\">-0.303963 </td><td style=\"text-align: right;\">-0.363183</td><td style=\"text-align: right;\">-0.420969</td><td style=\"text-align: right;\">-0.477094</td><td style=\"text-align: right;\">-0.531336</td><td style=\"text-align: right;\">-0.583481</td><td style=\"text-align: right;\">-0.633324</td><td style=\"text-align: right;\">-0.680667</td><td style=\"text-align: right;\">-0.725324</td><td style=\"text-align: right;\">-0.767118</td><td style=\"text-align: right;\">-0.805885</td><td style=\"text-align: right;\">-0.841471</td><td style=\"text-align: right;\">-0.873736</td><td style=\"text-align: right;\">-0.902554</td><td style=\"text-align: right;\">-0.927809</td></tr>\n",
       "<tr><td style=\"text-align: right;\">0.967249</td><td style=\"text-align: right;\">0.981278</td><td style=\"text-align: right;\">0.991435</td><td style=\"text-align: right;\">0.997679</td><td style=\"text-align: right;\">0.999986</td><td style=\"text-align: right;\">0.998346</td><td style=\"text-align: right;\">0.992766</td><td style=\"text-align: right;\">0.983268</td><td style=\"text-align: right;\">0.96989 </td><td style=\"text-align: right;\">0.952684</td><td style=\"text-align: right;\">0.931718</td><td style=\"text-align: right;\">0.907075</td><td style=\"text-align: right;\">0.878852</td><td style=\"text-align: right;\">0.847161</td><td style=\"text-align: right;\">0.812127</td><td style=\"text-align: right;\">0.773887</td><td style=\"text-align: right;\">0.732593</td><td style=\"text-align: right;\">0.688408</td><td style=\"text-align: right;\">0.641506</td><td style=\"text-align: right;\">0.592073</td><td style=\"text-align: right;\">0.540302</td><td style=\"text-align: right;\">0.4864  </td><td style=\"text-align: right;\">0.430578</td><td style=\"text-align: right;\">0.373056</td><td style=\"text-align: right;\">0.314062 </td><td style=\"text-align: right;\">0.253829  </td><td style=\"text-align: right;\"> 0.192594  </td><td style=\"text-align: right;\"> 0.130599  </td><td style=\"text-align: right;\"> 0.0680888 </td><td style=\"text-align: right;\"> 0.00530962</td><td style=\"text-align: right;\">-0.0574905 </td><td style=\"text-align: right;\">-0.120064  </td><td style=\"text-align: right;\">-0.182163  </td><td style=\"text-align: right;\">-0.243544  </td><td style=\"text-align: right;\">-0.303963  </td><td style=\"text-align: right;\">-0.363183 </td><td style=\"text-align: right;\">-0.420969</td><td style=\"text-align: right;\">-0.477094</td><td style=\"text-align: right;\">-0.531336</td><td style=\"text-align: right;\">-0.583481</td><td style=\"text-align: right;\">-0.633324</td><td style=\"text-align: right;\">-0.680667</td><td style=\"text-align: right;\">-0.725324</td><td style=\"text-align: right;\">-0.767118</td><td style=\"text-align: right;\">-0.805885</td><td style=\"text-align: right;\">-0.841471</td><td style=\"text-align: right;\">-0.873736</td><td style=\"text-align: right;\">-0.902554</td><td style=\"text-align: right;\">-0.927809</td><td style=\"text-align: right;\">-0.949402</td></tr>\n",
       "<tr><td style=\"text-align: right;\">0.981278</td><td style=\"text-align: right;\">0.991435</td><td style=\"text-align: right;\">0.997679</td><td style=\"text-align: right;\">0.999986</td><td style=\"text-align: right;\">0.998346</td><td style=\"text-align: right;\">0.992766</td><td style=\"text-align: right;\">0.983268</td><td style=\"text-align: right;\">0.96989 </td><td style=\"text-align: right;\">0.952684</td><td style=\"text-align: right;\">0.931718</td><td style=\"text-align: right;\">0.907075</td><td style=\"text-align: right;\">0.878852</td><td style=\"text-align: right;\">0.847161</td><td style=\"text-align: right;\">0.812127</td><td style=\"text-align: right;\">0.773887</td><td style=\"text-align: right;\">0.732593</td><td style=\"text-align: right;\">0.688408</td><td style=\"text-align: right;\">0.641506</td><td style=\"text-align: right;\">0.592073</td><td style=\"text-align: right;\">0.540302</td><td style=\"text-align: right;\">0.4864  </td><td style=\"text-align: right;\">0.430578</td><td style=\"text-align: right;\">0.373056</td><td style=\"text-align: right;\">0.314062</td><td style=\"text-align: right;\">0.253829 </td><td style=\"text-align: right;\">0.192594  </td><td style=\"text-align: right;\"> 0.130599  </td><td style=\"text-align: right;\"> 0.0680888 </td><td style=\"text-align: right;\"> 0.00530962</td><td style=\"text-align: right;\">-0.0574905 </td><td style=\"text-align: right;\">-0.120064  </td><td style=\"text-align: right;\">-0.182163  </td><td style=\"text-align: right;\">-0.243544  </td><td style=\"text-align: right;\">-0.303963  </td><td style=\"text-align: right;\">-0.363183  </td><td style=\"text-align: right;\">-0.420969 </td><td style=\"text-align: right;\">-0.477094</td><td style=\"text-align: right;\">-0.531336</td><td style=\"text-align: right;\">-0.583481</td><td style=\"text-align: right;\">-0.633324</td><td style=\"text-align: right;\">-0.680667</td><td style=\"text-align: right;\">-0.725324</td><td style=\"text-align: right;\">-0.767118</td><td style=\"text-align: right;\">-0.805885</td><td style=\"text-align: right;\">-0.841471</td><td style=\"text-align: right;\">-0.873736</td><td style=\"text-align: right;\">-0.902554</td><td style=\"text-align: right;\">-0.927809</td><td style=\"text-align: right;\">-0.949402</td><td style=\"text-align: right;\">-0.967249</td></tr>\n",
       "<tr><td style=\"text-align: right;\">0.991435</td><td style=\"text-align: right;\">0.997679</td><td style=\"text-align: right;\">0.999986</td><td style=\"text-align: right;\">0.998346</td><td style=\"text-align: right;\">0.992766</td><td style=\"text-align: right;\">0.983268</td><td style=\"text-align: right;\">0.96989 </td><td style=\"text-align: right;\">0.952684</td><td style=\"text-align: right;\">0.931718</td><td style=\"text-align: right;\">0.907075</td><td style=\"text-align: right;\">0.878852</td><td style=\"text-align: right;\">0.847161</td><td style=\"text-align: right;\">0.812127</td><td style=\"text-align: right;\">0.773887</td><td style=\"text-align: right;\">0.732593</td><td style=\"text-align: right;\">0.688408</td><td style=\"text-align: right;\">0.641506</td><td style=\"text-align: right;\">0.592073</td><td style=\"text-align: right;\">0.540302</td><td style=\"text-align: right;\">0.4864  </td><td style=\"text-align: right;\">0.430578</td><td style=\"text-align: right;\">0.373056</td><td style=\"text-align: right;\">0.314062</td><td style=\"text-align: right;\">0.253829</td><td style=\"text-align: right;\">0.192594 </td><td style=\"text-align: right;\">0.130599  </td><td style=\"text-align: right;\"> 0.0680888 </td><td style=\"text-align: right;\"> 0.00530962</td><td style=\"text-align: right;\">-0.0574905 </td><td style=\"text-align: right;\">-0.120064  </td><td style=\"text-align: right;\">-0.182163  </td><td style=\"text-align: right;\">-0.243544  </td><td style=\"text-align: right;\">-0.303963  </td><td style=\"text-align: right;\">-0.363183  </td><td style=\"text-align: right;\">-0.420969  </td><td style=\"text-align: right;\">-0.477094 </td><td style=\"text-align: right;\">-0.531336</td><td style=\"text-align: right;\">-0.583481</td><td style=\"text-align: right;\">-0.633324</td><td style=\"text-align: right;\">-0.680667</td><td style=\"text-align: right;\">-0.725324</td><td style=\"text-align: right;\">-0.767118</td><td style=\"text-align: right;\">-0.805885</td><td style=\"text-align: right;\">-0.841471</td><td style=\"text-align: right;\">-0.873736</td><td style=\"text-align: right;\">-0.902554</td><td style=\"text-align: right;\">-0.927809</td><td style=\"text-align: right;\">-0.949402</td><td style=\"text-align: right;\">-0.967249</td><td style=\"text-align: right;\">-0.981278</td></tr>\n",
       "<tr><td style=\"text-align: right;\">0.997679</td><td style=\"text-align: right;\">0.999986</td><td style=\"text-align: right;\">0.998346</td><td style=\"text-align: right;\">0.992766</td><td style=\"text-align: right;\">0.983268</td><td style=\"text-align: right;\">0.96989 </td><td style=\"text-align: right;\">0.952684</td><td style=\"text-align: right;\">0.931718</td><td style=\"text-align: right;\">0.907075</td><td style=\"text-align: right;\">0.878852</td><td style=\"text-align: right;\">0.847161</td><td style=\"text-align: right;\">0.812127</td><td style=\"text-align: right;\">0.773887</td><td style=\"text-align: right;\">0.732593</td><td style=\"text-align: right;\">0.688408</td><td style=\"text-align: right;\">0.641506</td><td style=\"text-align: right;\">0.592073</td><td style=\"text-align: right;\">0.540302</td><td style=\"text-align: right;\">0.4864  </td><td style=\"text-align: right;\">0.430578</td><td style=\"text-align: right;\">0.373056</td><td style=\"text-align: right;\">0.314062</td><td style=\"text-align: right;\">0.253829</td><td style=\"text-align: right;\">0.192594</td><td style=\"text-align: right;\">0.130599 </td><td style=\"text-align: right;\">0.0680888 </td><td style=\"text-align: right;\"> 0.00530962</td><td style=\"text-align: right;\">-0.0574905 </td><td style=\"text-align: right;\">-0.120064  </td><td style=\"text-align: right;\">-0.182163  </td><td style=\"text-align: right;\">-0.243544  </td><td style=\"text-align: right;\">-0.303963  </td><td style=\"text-align: right;\">-0.363183  </td><td style=\"text-align: right;\">-0.420969  </td><td style=\"text-align: right;\">-0.477094  </td><td style=\"text-align: right;\">-0.531336 </td><td style=\"text-align: right;\">-0.583481</td><td style=\"text-align: right;\">-0.633324</td><td style=\"text-align: right;\">-0.680667</td><td style=\"text-align: right;\">-0.725324</td><td style=\"text-align: right;\">-0.767118</td><td style=\"text-align: right;\">-0.805885</td><td style=\"text-align: right;\">-0.841471</td><td style=\"text-align: right;\">-0.873736</td><td style=\"text-align: right;\">-0.902554</td><td style=\"text-align: right;\">-0.927809</td><td style=\"text-align: right;\">-0.949402</td><td style=\"text-align: right;\">-0.967249</td><td style=\"text-align: right;\">-0.981278</td><td style=\"text-align: right;\">-0.991435</td></tr>\n",
       "<tr><td style=\"text-align: right;\">0.999986</td><td style=\"text-align: right;\">0.998346</td><td style=\"text-align: right;\">0.992766</td><td style=\"text-align: right;\">0.983268</td><td style=\"text-align: right;\">0.96989 </td><td style=\"text-align: right;\">0.952684</td><td style=\"text-align: right;\">0.931718</td><td style=\"text-align: right;\">0.907075</td><td style=\"text-align: right;\">0.878852</td><td style=\"text-align: right;\">0.847161</td><td style=\"text-align: right;\">0.812127</td><td style=\"text-align: right;\">0.773887</td><td style=\"text-align: right;\">0.732593</td><td style=\"text-align: right;\">0.688408</td><td style=\"text-align: right;\">0.641506</td><td style=\"text-align: right;\">0.592073</td><td style=\"text-align: right;\">0.540302</td><td style=\"text-align: right;\">0.4864  </td><td style=\"text-align: right;\">0.430578</td><td style=\"text-align: right;\">0.373056</td><td style=\"text-align: right;\">0.314062</td><td style=\"text-align: right;\">0.253829</td><td style=\"text-align: right;\">0.192594</td><td style=\"text-align: right;\">0.130599</td><td style=\"text-align: right;\">0.0680888</td><td style=\"text-align: right;\">0.00530962</td><td style=\"text-align: right;\">-0.0574905 </td><td style=\"text-align: right;\">-0.120064  </td><td style=\"text-align: right;\">-0.182163  </td><td style=\"text-align: right;\">-0.243544  </td><td style=\"text-align: right;\">-0.303963  </td><td style=\"text-align: right;\">-0.363183  </td><td style=\"text-align: right;\">-0.420969  </td><td style=\"text-align: right;\">-0.477094  </td><td style=\"text-align: right;\">-0.531336  </td><td style=\"text-align: right;\">-0.583481 </td><td style=\"text-align: right;\">-0.633324</td><td style=\"text-align: right;\">-0.680667</td><td style=\"text-align: right;\">-0.725324</td><td style=\"text-align: right;\">-0.767118</td><td style=\"text-align: right;\">-0.805885</td><td style=\"text-align: right;\">-0.841471</td><td style=\"text-align: right;\">-0.873736</td><td style=\"text-align: right;\">-0.902554</td><td style=\"text-align: right;\">-0.927809</td><td style=\"text-align: right;\">-0.949402</td><td style=\"text-align: right;\">-0.967249</td><td style=\"text-align: right;\">-0.981278</td><td style=\"text-align: right;\">-0.991435</td><td style=\"text-align: right;\">-0.997679</td></tr>\n",
       "</tbody>\n",
       "</table>"
      ]
     },
     "metadata": {},
     "output_type": "display_data"
    },
    {
     "data": {
      "text/plain": []
     },
     "execution_count": 8,
     "metadata": {},
     "output_type": "execute_result"
    }
   ],
   "source": [
    "train_df"
   ]
  },
  {
   "cell_type": "code",
   "execution_count": 9,
   "metadata": {
    "collapsed": false
   },
   "outputs": [
    {
     "data": {
      "text/html": [
       "<table>\n",
       "<thead>\n",
       "<tr><th style=\"text-align: right;\">       C1</th><th style=\"text-align: right;\">       C2</th><th style=\"text-align: right;\">       C3</th><th style=\"text-align: right;\">       C4</th><th style=\"text-align: right;\">       C5</th><th style=\"text-align: right;\">       C6</th><th style=\"text-align: right;\">       C7</th><th style=\"text-align: right;\">       C8</th><th style=\"text-align: right;\">       C9</th><th style=\"text-align: right;\">      C10</th><th style=\"text-align: right;\">      C11</th><th style=\"text-align: right;\">      C12</th><th style=\"text-align: right;\">      C13</th><th style=\"text-align: right;\">      C14</th><th style=\"text-align: right;\">      C15</th><th style=\"text-align: right;\">      C16</th><th style=\"text-align: right;\">      C17</th><th style=\"text-align: right;\">      C18</th><th style=\"text-align: right;\">      C19</th><th style=\"text-align: right;\">       C20</th><th style=\"text-align: right;\">        C21</th><th style=\"text-align: right;\">        C22</th><th style=\"text-align: right;\">        C23</th><th style=\"text-align: right;\">        C24</th><th style=\"text-align: right;\">        C25</th><th style=\"text-align: right;\">        C26</th><th style=\"text-align: right;\">        C27</th><th style=\"text-align: right;\">        C28</th><th style=\"text-align: right;\">        C29</th><th style=\"text-align: right;\">        C30</th><th style=\"text-align: right;\">      C31</th><th style=\"text-align: right;\">     C32</th><th style=\"text-align: right;\">     C33</th><th style=\"text-align: right;\">     C34</th><th style=\"text-align: right;\">     C35</th><th style=\"text-align: right;\">     C36</th><th style=\"text-align: right;\">     C37</th><th style=\"text-align: right;\">     C38</th><th style=\"text-align: right;\">     C39</th><th style=\"text-align: right;\">     C40</th><th style=\"text-align: right;\">     C41</th><th style=\"text-align: right;\">     C42</th><th style=\"text-align: right;\">     C43</th><th style=\"text-align: right;\">     C44</th><th style=\"text-align: right;\">     C45</th><th style=\"text-align: right;\">     C46</th><th style=\"text-align: right;\">     C47</th><th style=\"text-align: right;\">     C48</th><th style=\"text-align: right;\">     C49</th><th style=\"text-align: right;\">     C50</th></tr>\n",
       "</thead>\n",
       "<tbody>\n",
       "<tr><td style=\"text-align: right;\">-0.967249</td><td style=\"text-align: right;\">-0.981278</td><td style=\"text-align: right;\">-0.991435</td><td style=\"text-align: right;\">-0.997679</td><td style=\"text-align: right;\">-0.999986</td><td style=\"text-align: right;\">-0.998346</td><td style=\"text-align: right;\">-0.992766</td><td style=\"text-align: right;\">-0.983268</td><td style=\"text-align: right;\">-0.96989 </td><td style=\"text-align: right;\">-0.952684</td><td style=\"text-align: right;\">-0.931718</td><td style=\"text-align: right;\">-0.907075</td><td style=\"text-align: right;\">-0.878852</td><td style=\"text-align: right;\">-0.847161</td><td style=\"text-align: right;\">-0.812127</td><td style=\"text-align: right;\">-0.773887</td><td style=\"text-align: right;\">-0.732593</td><td style=\"text-align: right;\">-0.688408</td><td style=\"text-align: right;\">-0.641506</td><td style=\"text-align: right;\">-0.592073 </td><td style=\"text-align: right;\">-0.540302  </td><td style=\"text-align: right;\">-0.4864    </td><td style=\"text-align: right;\">-0.430578  </td><td style=\"text-align: right;\">-0.373056  </td><td style=\"text-align: right;\">-0.314062  </td><td style=\"text-align: right;\">-0.253829  </td><td style=\"text-align: right;\">-0.192594  </td><td style=\"text-align: right;\">-0.130599  </td><td style=\"text-align: right;\">-0.0680888 </td><td style=\"text-align: right;\">-0.00530962</td><td style=\"text-align: right;\">0.0574905</td><td style=\"text-align: right;\">0.120064</td><td style=\"text-align: right;\">0.182163</td><td style=\"text-align: right;\">0.243544</td><td style=\"text-align: right;\">0.303963</td><td style=\"text-align: right;\">0.363183</td><td style=\"text-align: right;\">0.420969</td><td style=\"text-align: right;\">0.477094</td><td style=\"text-align: right;\">0.531336</td><td style=\"text-align: right;\">0.583481</td><td style=\"text-align: right;\">0.633324</td><td style=\"text-align: right;\">0.680667</td><td style=\"text-align: right;\">0.725324</td><td style=\"text-align: right;\">0.767118</td><td style=\"text-align: right;\">0.805885</td><td style=\"text-align: right;\">0.841471</td><td style=\"text-align: right;\">0.873736</td><td style=\"text-align: right;\">0.902554</td><td style=\"text-align: right;\">0.927809</td><td style=\"text-align: right;\">0.949402</td></tr>\n",
       "<tr><td style=\"text-align: right;\">-0.981278</td><td style=\"text-align: right;\">-0.991435</td><td style=\"text-align: right;\">-0.997679</td><td style=\"text-align: right;\">-0.999986</td><td style=\"text-align: right;\">-0.998346</td><td style=\"text-align: right;\">-0.992766</td><td style=\"text-align: right;\">-0.983268</td><td style=\"text-align: right;\">-0.96989 </td><td style=\"text-align: right;\">-0.952684</td><td style=\"text-align: right;\">-0.931718</td><td style=\"text-align: right;\">-0.907075</td><td style=\"text-align: right;\">-0.878852</td><td style=\"text-align: right;\">-0.847161</td><td style=\"text-align: right;\">-0.812127</td><td style=\"text-align: right;\">-0.773887</td><td style=\"text-align: right;\">-0.732593</td><td style=\"text-align: right;\">-0.688408</td><td style=\"text-align: right;\">-0.641506</td><td style=\"text-align: right;\">-0.592073</td><td style=\"text-align: right;\">-0.540302 </td><td style=\"text-align: right;\">-0.4864    </td><td style=\"text-align: right;\">-0.430578  </td><td style=\"text-align: right;\">-0.373056  </td><td style=\"text-align: right;\">-0.314062  </td><td style=\"text-align: right;\">-0.253829  </td><td style=\"text-align: right;\">-0.192594  </td><td style=\"text-align: right;\">-0.130599  </td><td style=\"text-align: right;\">-0.0680888 </td><td style=\"text-align: right;\">-0.00530962</td><td style=\"text-align: right;\"> 0.0574905 </td><td style=\"text-align: right;\">0.120064 </td><td style=\"text-align: right;\">0.182163</td><td style=\"text-align: right;\">0.243544</td><td style=\"text-align: right;\">0.303963</td><td style=\"text-align: right;\">0.363183</td><td style=\"text-align: right;\">0.420969</td><td style=\"text-align: right;\">0.477094</td><td style=\"text-align: right;\">0.531336</td><td style=\"text-align: right;\">0.583481</td><td style=\"text-align: right;\">0.633324</td><td style=\"text-align: right;\">0.680667</td><td style=\"text-align: right;\">0.725324</td><td style=\"text-align: right;\">0.767118</td><td style=\"text-align: right;\">0.805885</td><td style=\"text-align: right;\">0.841471</td><td style=\"text-align: right;\">0.873736</td><td style=\"text-align: right;\">0.902554</td><td style=\"text-align: right;\">0.927809</td><td style=\"text-align: right;\">0.949402</td><td style=\"text-align: right;\">0.967249</td></tr>\n",
       "<tr><td style=\"text-align: right;\">-0.991435</td><td style=\"text-align: right;\">-0.997679</td><td style=\"text-align: right;\">-0.999986</td><td style=\"text-align: right;\">-0.998346</td><td style=\"text-align: right;\">-0.992766</td><td style=\"text-align: right;\">-0.983268</td><td style=\"text-align: right;\">-0.96989 </td><td style=\"text-align: right;\">-0.952684</td><td style=\"text-align: right;\">-0.931718</td><td style=\"text-align: right;\">-0.907075</td><td style=\"text-align: right;\">-0.878852</td><td style=\"text-align: right;\">-0.847161</td><td style=\"text-align: right;\">-0.812127</td><td style=\"text-align: right;\">-0.773887</td><td style=\"text-align: right;\">-0.732593</td><td style=\"text-align: right;\">-0.688408</td><td style=\"text-align: right;\">-0.641506</td><td style=\"text-align: right;\">-0.592073</td><td style=\"text-align: right;\">-0.540302</td><td style=\"text-align: right;\">-0.4864   </td><td style=\"text-align: right;\">-0.430578  </td><td style=\"text-align: right;\">-0.373056  </td><td style=\"text-align: right;\">-0.314062  </td><td style=\"text-align: right;\">-0.253829  </td><td style=\"text-align: right;\">-0.192594  </td><td style=\"text-align: right;\">-0.130599  </td><td style=\"text-align: right;\">-0.0680888 </td><td style=\"text-align: right;\">-0.00530962</td><td style=\"text-align: right;\"> 0.0574905 </td><td style=\"text-align: right;\"> 0.120064  </td><td style=\"text-align: right;\">0.182163 </td><td style=\"text-align: right;\">0.243544</td><td style=\"text-align: right;\">0.303963</td><td style=\"text-align: right;\">0.363183</td><td style=\"text-align: right;\">0.420969</td><td style=\"text-align: right;\">0.477094</td><td style=\"text-align: right;\">0.531336</td><td style=\"text-align: right;\">0.583481</td><td style=\"text-align: right;\">0.633324</td><td style=\"text-align: right;\">0.680667</td><td style=\"text-align: right;\">0.725324</td><td style=\"text-align: right;\">0.767118</td><td style=\"text-align: right;\">0.805885</td><td style=\"text-align: right;\">0.841471</td><td style=\"text-align: right;\">0.873736</td><td style=\"text-align: right;\">0.902554</td><td style=\"text-align: right;\">0.927809</td><td style=\"text-align: right;\">0.949402</td><td style=\"text-align: right;\">0.967249</td><td style=\"text-align: right;\">0.981278</td></tr>\n",
       "<tr><td style=\"text-align: right;\">-0.997679</td><td style=\"text-align: right;\">-0.999986</td><td style=\"text-align: right;\">-0.998346</td><td style=\"text-align: right;\">-0.992766</td><td style=\"text-align: right;\">-0.983268</td><td style=\"text-align: right;\">-0.96989 </td><td style=\"text-align: right;\">-0.952684</td><td style=\"text-align: right;\">-0.931718</td><td style=\"text-align: right;\">-0.907075</td><td style=\"text-align: right;\">-0.878852</td><td style=\"text-align: right;\">-0.847161</td><td style=\"text-align: right;\">-0.812127</td><td style=\"text-align: right;\">-0.773887</td><td style=\"text-align: right;\">-0.732593</td><td style=\"text-align: right;\">-0.688408</td><td style=\"text-align: right;\">-0.641506</td><td style=\"text-align: right;\">-0.592073</td><td style=\"text-align: right;\">-0.540302</td><td style=\"text-align: right;\">-0.4864  </td><td style=\"text-align: right;\">-0.430578 </td><td style=\"text-align: right;\">-0.373056  </td><td style=\"text-align: right;\">-0.314062  </td><td style=\"text-align: right;\">-0.253829  </td><td style=\"text-align: right;\">-0.192594  </td><td style=\"text-align: right;\">-0.130599  </td><td style=\"text-align: right;\">-0.0680888 </td><td style=\"text-align: right;\">-0.00530962</td><td style=\"text-align: right;\"> 0.0574905 </td><td style=\"text-align: right;\"> 0.120064  </td><td style=\"text-align: right;\"> 0.182163  </td><td style=\"text-align: right;\">0.243544 </td><td style=\"text-align: right;\">0.303963</td><td style=\"text-align: right;\">0.363183</td><td style=\"text-align: right;\">0.420969</td><td style=\"text-align: right;\">0.477094</td><td style=\"text-align: right;\">0.531336</td><td style=\"text-align: right;\">0.583481</td><td style=\"text-align: right;\">0.633324</td><td style=\"text-align: right;\">0.680667</td><td style=\"text-align: right;\">0.725324</td><td style=\"text-align: right;\">0.767118</td><td style=\"text-align: right;\">0.805885</td><td style=\"text-align: right;\">0.841471</td><td style=\"text-align: right;\">0.873736</td><td style=\"text-align: right;\">0.902554</td><td style=\"text-align: right;\">0.927809</td><td style=\"text-align: right;\">0.949402</td><td style=\"text-align: right;\">0.967249</td><td style=\"text-align: right;\">0.981278</td><td style=\"text-align: right;\">0.991435</td></tr>\n",
       "<tr><td style=\"text-align: right;\">-0.999986</td><td style=\"text-align: right;\">-0.998346</td><td style=\"text-align: right;\">-0.992766</td><td style=\"text-align: right;\">-0.983268</td><td style=\"text-align: right;\">-0.96989 </td><td style=\"text-align: right;\">-0.952684</td><td style=\"text-align: right;\">-0.931718</td><td style=\"text-align: right;\">-0.907075</td><td style=\"text-align: right;\">-0.878852</td><td style=\"text-align: right;\">-0.847161</td><td style=\"text-align: right;\">-0.812127</td><td style=\"text-align: right;\">-0.773887</td><td style=\"text-align: right;\">-0.732593</td><td style=\"text-align: right;\">-0.688408</td><td style=\"text-align: right;\">-0.641506</td><td style=\"text-align: right;\">-0.592073</td><td style=\"text-align: right;\">-0.540302</td><td style=\"text-align: right;\">-0.4864  </td><td style=\"text-align: right;\">-0.430578</td><td style=\"text-align: right;\">-0.373056 </td><td style=\"text-align: right;\">-0.314062  </td><td style=\"text-align: right;\">-0.253829  </td><td style=\"text-align: right;\">-0.192594  </td><td style=\"text-align: right;\">-0.130599  </td><td style=\"text-align: right;\">-0.0680888 </td><td style=\"text-align: right;\">-0.00530962</td><td style=\"text-align: right;\"> 0.0574905 </td><td style=\"text-align: right;\"> 0.120064  </td><td style=\"text-align: right;\"> 0.182163  </td><td style=\"text-align: right;\"> 0.243544  </td><td style=\"text-align: right;\">0.303963 </td><td style=\"text-align: right;\">0.363183</td><td style=\"text-align: right;\">0.420969</td><td style=\"text-align: right;\">0.477094</td><td style=\"text-align: right;\">0.531336</td><td style=\"text-align: right;\">0.583481</td><td style=\"text-align: right;\">0.633324</td><td style=\"text-align: right;\">0.680667</td><td style=\"text-align: right;\">0.725324</td><td style=\"text-align: right;\">0.767118</td><td style=\"text-align: right;\">0.805885</td><td style=\"text-align: right;\">0.841471</td><td style=\"text-align: right;\">0.873736</td><td style=\"text-align: right;\">0.902554</td><td style=\"text-align: right;\">0.927809</td><td style=\"text-align: right;\">0.949402</td><td style=\"text-align: right;\">0.967249</td><td style=\"text-align: right;\">0.981278</td><td style=\"text-align: right;\">0.991435</td><td style=\"text-align: right;\">0.997679</td></tr>\n",
       "<tr><td style=\"text-align: right;\">-0.998346</td><td style=\"text-align: right;\">-0.992766</td><td style=\"text-align: right;\">-0.983268</td><td style=\"text-align: right;\">-0.96989 </td><td style=\"text-align: right;\">-0.952684</td><td style=\"text-align: right;\">-0.931718</td><td style=\"text-align: right;\">-0.907075</td><td style=\"text-align: right;\">-0.878852</td><td style=\"text-align: right;\">-0.847161</td><td style=\"text-align: right;\">-0.812127</td><td style=\"text-align: right;\">-0.773887</td><td style=\"text-align: right;\">-0.732593</td><td style=\"text-align: right;\">-0.688408</td><td style=\"text-align: right;\">-0.641506</td><td style=\"text-align: right;\">-0.592073</td><td style=\"text-align: right;\">-0.540302</td><td style=\"text-align: right;\">-0.4864  </td><td style=\"text-align: right;\">-0.430578</td><td style=\"text-align: right;\">-0.373056</td><td style=\"text-align: right;\">-0.314062 </td><td style=\"text-align: right;\">-0.253829  </td><td style=\"text-align: right;\">-0.192594  </td><td style=\"text-align: right;\">-0.130599  </td><td style=\"text-align: right;\">-0.0680888 </td><td style=\"text-align: right;\">-0.00530962</td><td style=\"text-align: right;\"> 0.0574905 </td><td style=\"text-align: right;\"> 0.120064  </td><td style=\"text-align: right;\"> 0.182163  </td><td style=\"text-align: right;\"> 0.243544  </td><td style=\"text-align: right;\"> 0.303963  </td><td style=\"text-align: right;\">0.363183 </td><td style=\"text-align: right;\">0.420969</td><td style=\"text-align: right;\">0.477094</td><td style=\"text-align: right;\">0.531336</td><td style=\"text-align: right;\">0.583481</td><td style=\"text-align: right;\">0.633324</td><td style=\"text-align: right;\">0.680667</td><td style=\"text-align: right;\">0.725324</td><td style=\"text-align: right;\">0.767118</td><td style=\"text-align: right;\">0.805885</td><td style=\"text-align: right;\">0.841471</td><td style=\"text-align: right;\">0.873736</td><td style=\"text-align: right;\">0.902554</td><td style=\"text-align: right;\">0.927809</td><td style=\"text-align: right;\">0.949402</td><td style=\"text-align: right;\">0.967249</td><td style=\"text-align: right;\">0.981278</td><td style=\"text-align: right;\">0.991435</td><td style=\"text-align: right;\">0.997679</td><td style=\"text-align: right;\">0.999986</td></tr>\n",
       "<tr><td style=\"text-align: right;\">-0.992766</td><td style=\"text-align: right;\">-0.983268</td><td style=\"text-align: right;\">-0.96989 </td><td style=\"text-align: right;\">-0.952684</td><td style=\"text-align: right;\">-0.931718</td><td style=\"text-align: right;\">-0.907075</td><td style=\"text-align: right;\">-0.878852</td><td style=\"text-align: right;\">-0.847161</td><td style=\"text-align: right;\">-0.812127</td><td style=\"text-align: right;\">-0.773887</td><td style=\"text-align: right;\">-0.732593</td><td style=\"text-align: right;\">-0.688408</td><td style=\"text-align: right;\">-0.641506</td><td style=\"text-align: right;\">-0.592073</td><td style=\"text-align: right;\">-0.540302</td><td style=\"text-align: right;\">-0.4864  </td><td style=\"text-align: right;\">-0.430578</td><td style=\"text-align: right;\">-0.373056</td><td style=\"text-align: right;\">-0.314062</td><td style=\"text-align: right;\">-0.253829 </td><td style=\"text-align: right;\">-0.192594  </td><td style=\"text-align: right;\">-0.130599  </td><td style=\"text-align: right;\">-0.0680888 </td><td style=\"text-align: right;\">-0.00530962</td><td style=\"text-align: right;\"> 0.0574905 </td><td style=\"text-align: right;\"> 0.120064  </td><td style=\"text-align: right;\"> 0.182163  </td><td style=\"text-align: right;\"> 0.243544  </td><td style=\"text-align: right;\"> 0.303963  </td><td style=\"text-align: right;\"> 0.363183  </td><td style=\"text-align: right;\">0.420969 </td><td style=\"text-align: right;\">0.477094</td><td style=\"text-align: right;\">0.531336</td><td style=\"text-align: right;\">0.583481</td><td style=\"text-align: right;\">0.633324</td><td style=\"text-align: right;\">0.680667</td><td style=\"text-align: right;\">0.725324</td><td style=\"text-align: right;\">0.767118</td><td style=\"text-align: right;\">0.805885</td><td style=\"text-align: right;\">0.841471</td><td style=\"text-align: right;\">0.873736</td><td style=\"text-align: right;\">0.902554</td><td style=\"text-align: right;\">0.927809</td><td style=\"text-align: right;\">0.949402</td><td style=\"text-align: right;\">0.967249</td><td style=\"text-align: right;\">0.981278</td><td style=\"text-align: right;\">0.991435</td><td style=\"text-align: right;\">0.997679</td><td style=\"text-align: right;\">0.999986</td><td style=\"text-align: right;\">0.998346</td></tr>\n",
       "<tr><td style=\"text-align: right;\">-0.983268</td><td style=\"text-align: right;\">-0.96989 </td><td style=\"text-align: right;\">-0.952684</td><td style=\"text-align: right;\">-0.931718</td><td style=\"text-align: right;\">-0.907075</td><td style=\"text-align: right;\">-0.878852</td><td style=\"text-align: right;\">-0.847161</td><td style=\"text-align: right;\">-0.812127</td><td style=\"text-align: right;\">-0.773887</td><td style=\"text-align: right;\">-0.732593</td><td style=\"text-align: right;\">-0.688408</td><td style=\"text-align: right;\">-0.641506</td><td style=\"text-align: right;\">-0.592073</td><td style=\"text-align: right;\">-0.540302</td><td style=\"text-align: right;\">-0.4864  </td><td style=\"text-align: right;\">-0.430578</td><td style=\"text-align: right;\">-0.373056</td><td style=\"text-align: right;\">-0.314062</td><td style=\"text-align: right;\">-0.253829</td><td style=\"text-align: right;\">-0.192594 </td><td style=\"text-align: right;\">-0.130599  </td><td style=\"text-align: right;\">-0.0680888 </td><td style=\"text-align: right;\">-0.00530962</td><td style=\"text-align: right;\"> 0.0574905 </td><td style=\"text-align: right;\"> 0.120064  </td><td style=\"text-align: right;\"> 0.182163  </td><td style=\"text-align: right;\"> 0.243544  </td><td style=\"text-align: right;\"> 0.303963  </td><td style=\"text-align: right;\"> 0.363183  </td><td style=\"text-align: right;\"> 0.420969  </td><td style=\"text-align: right;\">0.477094 </td><td style=\"text-align: right;\">0.531336</td><td style=\"text-align: right;\">0.583481</td><td style=\"text-align: right;\">0.633324</td><td style=\"text-align: right;\">0.680667</td><td style=\"text-align: right;\">0.725324</td><td style=\"text-align: right;\">0.767118</td><td style=\"text-align: right;\">0.805885</td><td style=\"text-align: right;\">0.841471</td><td style=\"text-align: right;\">0.873736</td><td style=\"text-align: right;\">0.902554</td><td style=\"text-align: right;\">0.927809</td><td style=\"text-align: right;\">0.949402</td><td style=\"text-align: right;\">0.967249</td><td style=\"text-align: right;\">0.981278</td><td style=\"text-align: right;\">0.991435</td><td style=\"text-align: right;\">0.997679</td><td style=\"text-align: right;\">0.999986</td><td style=\"text-align: right;\">0.998346</td><td style=\"text-align: right;\">0.992766</td></tr>\n",
       "<tr><td style=\"text-align: right;\">-0.96989 </td><td style=\"text-align: right;\">-0.952684</td><td style=\"text-align: right;\">-0.931718</td><td style=\"text-align: right;\">-0.907075</td><td style=\"text-align: right;\">-0.878852</td><td style=\"text-align: right;\">-0.847161</td><td style=\"text-align: right;\">-0.812127</td><td style=\"text-align: right;\">-0.773887</td><td style=\"text-align: right;\">-0.732593</td><td style=\"text-align: right;\">-0.688408</td><td style=\"text-align: right;\">-0.641506</td><td style=\"text-align: right;\">-0.592073</td><td style=\"text-align: right;\">-0.540302</td><td style=\"text-align: right;\">-0.4864  </td><td style=\"text-align: right;\">-0.430578</td><td style=\"text-align: right;\">-0.373056</td><td style=\"text-align: right;\">-0.314062</td><td style=\"text-align: right;\">-0.253829</td><td style=\"text-align: right;\">-0.192594</td><td style=\"text-align: right;\">-0.130599 </td><td style=\"text-align: right;\">-0.0680888 </td><td style=\"text-align: right;\">-0.00530962</td><td style=\"text-align: right;\"> 0.0574905 </td><td style=\"text-align: right;\"> 0.120064  </td><td style=\"text-align: right;\"> 0.182163  </td><td style=\"text-align: right;\"> 0.243544  </td><td style=\"text-align: right;\"> 0.303963  </td><td style=\"text-align: right;\"> 0.363183  </td><td style=\"text-align: right;\"> 0.420969  </td><td style=\"text-align: right;\"> 0.477094  </td><td style=\"text-align: right;\">0.531336 </td><td style=\"text-align: right;\">0.583481</td><td style=\"text-align: right;\">0.633324</td><td style=\"text-align: right;\">0.680667</td><td style=\"text-align: right;\">0.725324</td><td style=\"text-align: right;\">0.767118</td><td style=\"text-align: right;\">0.805885</td><td style=\"text-align: right;\">0.841471</td><td style=\"text-align: right;\">0.873736</td><td style=\"text-align: right;\">0.902554</td><td style=\"text-align: right;\">0.927809</td><td style=\"text-align: right;\">0.949402</td><td style=\"text-align: right;\">0.967249</td><td style=\"text-align: right;\">0.981278</td><td style=\"text-align: right;\">0.991435</td><td style=\"text-align: right;\">0.997679</td><td style=\"text-align: right;\">0.999986</td><td style=\"text-align: right;\">0.998346</td><td style=\"text-align: right;\">0.992766</td><td style=\"text-align: right;\">0.983268</td></tr>\n",
       "<tr><td style=\"text-align: right;\">-0.952684</td><td style=\"text-align: right;\">-0.931718</td><td style=\"text-align: right;\">-0.907075</td><td style=\"text-align: right;\">-0.878852</td><td style=\"text-align: right;\">-0.847161</td><td style=\"text-align: right;\">-0.812127</td><td style=\"text-align: right;\">-0.773887</td><td style=\"text-align: right;\">-0.732593</td><td style=\"text-align: right;\">-0.688408</td><td style=\"text-align: right;\">-0.641506</td><td style=\"text-align: right;\">-0.592073</td><td style=\"text-align: right;\">-0.540302</td><td style=\"text-align: right;\">-0.4864  </td><td style=\"text-align: right;\">-0.430578</td><td style=\"text-align: right;\">-0.373056</td><td style=\"text-align: right;\">-0.314062</td><td style=\"text-align: right;\">-0.253829</td><td style=\"text-align: right;\">-0.192594</td><td style=\"text-align: right;\">-0.130599</td><td style=\"text-align: right;\">-0.0680888</td><td style=\"text-align: right;\">-0.00530962</td><td style=\"text-align: right;\"> 0.0574905 </td><td style=\"text-align: right;\"> 0.120064  </td><td style=\"text-align: right;\"> 0.182163  </td><td style=\"text-align: right;\"> 0.243544  </td><td style=\"text-align: right;\"> 0.303963  </td><td style=\"text-align: right;\"> 0.363183  </td><td style=\"text-align: right;\"> 0.420969  </td><td style=\"text-align: right;\"> 0.477094  </td><td style=\"text-align: right;\"> 0.531336  </td><td style=\"text-align: right;\">0.583481 </td><td style=\"text-align: right;\">0.633324</td><td style=\"text-align: right;\">0.680667</td><td style=\"text-align: right;\">0.725324</td><td style=\"text-align: right;\">0.767118</td><td style=\"text-align: right;\">0.805885</td><td style=\"text-align: right;\">0.841471</td><td style=\"text-align: right;\">0.873736</td><td style=\"text-align: right;\">0.902554</td><td style=\"text-align: right;\">0.927809</td><td style=\"text-align: right;\">0.949402</td><td style=\"text-align: right;\">0.967249</td><td style=\"text-align: right;\">0.981278</td><td style=\"text-align: right;\">0.991435</td><td style=\"text-align: right;\">0.997679</td><td style=\"text-align: right;\">0.999986</td><td style=\"text-align: right;\">0.998346</td><td style=\"text-align: right;\">0.992766</td><td style=\"text-align: right;\">0.983268</td><td style=\"text-align: right;\">0.96989 </td></tr>\n",
       "</tbody>\n",
       "</table>"
      ]
     },
     "metadata": {},
     "output_type": "display_data"
    },
    {
     "data": {
      "text/plain": []
     },
     "execution_count": 9,
     "metadata": {},
     "output_type": "execute_result"
    }
   ],
   "source": [
    "test_df"
   ]
  },
  {
   "cell_type": "code",
   "execution_count": 10,
   "metadata": {
    "collapsed": false
   },
   "outputs": [],
   "source": [
    "predictors = list(set(train_df.names) - set(['C50']))"
   ]
  },
  {
   "cell_type": "code",
   "execution_count": 11,
   "metadata": {
    "collapsed": false
   },
   "outputs": [],
   "source": [
    "batch_size = 128\n",
    "buckets = [50]\n",
    "num_hidden = 200\n",
    "num_embed = 200\n",
    "num_lstm_layer = 3\n",
    "\n",
    "num_epoch = 2\n",
    "learning_rate = 0.01\n",
    "momentum = 0.0\n",
    "devs = [mx.context.gpu(i) for i in range(1)]"
   ]
  },
  {
   "cell_type": "code",
   "execution_count": 12,
   "metadata": {
    "collapsed": true
   },
   "outputs": [],
   "source": [
    "def sym_gen(seq_len):\n",
    "        data = mx.sym.Variable('data')\n",
    "        label = mx.sym.Variable('softmax_label')\n",
    "        embed = mx.sym.Embedding(data=data, input_dim=49,\n",
    "                                 output_dim=num_embed, name='embed')\n",
    "\n",
    "        # TODO(tofix)\n",
    "        # The inputs and labels from IO are all in batch-major.\n",
    "        # We need to transform them into time-major to use RNN cells.\n",
    "        embed_tm = mx.sym.SwapAxis(embed, dim1=0, dim2=1)\n",
    "        label_tm = mx.sym.SwapAxis(label, dim1=0, dim2=1)\n",
    "\n",
    "        # TODO(tofix)\n",
    "        # Create transformed RNN initial states. Normally we do\n",
    "        # no need to do this. But the RNN symbol expects the state\n",
    "        # to be time-major shape layout, while the current mxnet\n",
    "        # IO and high-level training logic assume everything from\n",
    "        # the data iter have batch_size as the first dimension.\n",
    "        # So until we have extended our IO and training logic to\n",
    "        # support this more general case, this dummy axis swap is\n",
    "        # needed.\n",
    "        rnn_h_init = mx.sym.SwapAxis(mx.sym.Variable('LSTM_init_h'),\n",
    "                                     dim1=0, dim2=1)\n",
    "        rnn_c_init = mx.sym.SwapAxis(mx.sym.Variable('LSTM_init_c'),\n",
    "                                     dim1=0, dim2=1)\n",
    "\n",
    "        # TODO(tofix)\n",
    "        # currently all the LSTM parameters are concatenated as\n",
    "        # a huge vector, and named '<name>_parameters'. By default\n",
    "        # mxnet initializer does not know how to initilize this\n",
    "        # guy because its name does not ends with _weight or _bias\n",
    "        # or anything familiar. Here we just use a temp workaround\n",
    "        # to create a variable and name it as LSTM_bias to get\n",
    "        # this demo running. Note by default bias is initialized\n",
    "        # as zeros, so this is not a good scheme. But calling it\n",
    "        # LSTM_weight is not good, as this is 1D vector, while\n",
    "        # the initialization scheme of a weight parameter needs\n",
    "        # at least two dimensions.\n",
    "        rnn_params = mx.sym.Variable('LSTM_bias')\n",
    "\n",
    "        # RNN cell takes input of shape (time, batch, feature)\n",
    "        rnn = mx.sym.RNN(data=embed_tm, state_size=num_hidden,\n",
    "                         num_layers=num_lstm_layer, mode='lstm',\n",
    "                         name='LSTM', \n",
    "                         # The following params can be omitted\n",
    "                         # provided we do not need to apply the\n",
    "                         # workarounds mentioned above\n",
    "                         state=rnn_h_init,\n",
    "                         state_cell=rnn_c_init, \n",
    "                         parameters=rnn_params)\n",
    "\n",
    "        # the RNN cell output is of shape (time, batch, dim)\n",
    "        # if we need the states and cell states in the last time\n",
    "        # step (e.g. when building encoder-decoder models), we\n",
    "        # can set state_outputs=True, and the RNN cell will have\n",
    "        # extra outputs: rnn['LSTM_output'], rnn['LSTM_state']\n",
    "        # and for LSTM, also rnn['LSTM_state_cell']\n",
    "\n",
    "        # now we collapse the time and batch dimension to do the\n",
    "        # final linear logistic regression prediction\n",
    "        hidden = mx.sym.Reshape(data=rnn, shape=(-1, num_hidden))\n",
    "        label_cl = mx.sym.Reshape(data=label_tm, shape=(-1,))\n",
    "\n",
    "        pred = mx.sym.FullyConnected(data=hidden, num_hidden=49,\n",
    "                                     name='pred')\n",
    "        sm = mx.sym.SoftmaxOutput(data=pred, label=label_cl, name='softmax')\n",
    "\n",
    "        data_names = ['data', 'LSTM_init_h', 'LSTM_init_c']\n",
    "        label_names = ['softmax_label']\n",
    "\n",
    "        # return (sm, data_names, label_names)\n",
    "        return sm"
   ]
  },
  {
   "cell_type": "code",
   "execution_count": 13,
   "metadata": {
    "collapsed": true
   },
   "outputs": [],
   "source": [
    "from h2o.estimators.deepwater import H2ODeepWaterEstimator"
   ]
  },
  {
   "cell_type": "code",
   "execution_count": 14,
   "metadata": {
    "collapsed": false
   },
   "outputs": [],
   "source": [
    "model = sym_gen(49)\n",
    "model.save('/tmp/symbol_rnn-py.json')"
   ]
  },
  {
   "cell_type": "code",
   "execution_count": 15,
   "metadata": {
    "collapsed": false
   },
   "outputs": [],
   "source": [
    "model = H2ODeepWaterEstimator(\n",
    "    epochs=20, \n",
    "    learning_rate=1e-3, \n",
    "    mini_batch_size=64,\n",
    "    network_definition_file=\"/tmp/symbol_rnn-py.json\",\n",
    "    channels=1,\n",
    "    ignore_const_cols=False    ## We need to keep all 28x28=784 pixel values, even if some are always 0\n",
    ")"
   ]
  },
  {
   "cell_type": "code",
   "execution_count": 16,
   "metadata": {
    "collapsed": false
   },
   "outputs": [
    {
     "name": "stdout",
     "output_type": "stream",
     "text": [
      "deepwater Model Build progress: |"
     ]
    },
    {
     "ename": "H2OConnectionError",
     "evalue": "Unexpected HTTP error: HTTPConnectionPool(host='localhost', port=54321): Max retries exceeded with url: /3/Jobs/$03010a0bb98d32d4ffffffff$_9cecec80c4dd59dc853ae5afae1c49aa (Caused by NewConnectionError('<requests.packages.urllib3.connection.HTTPConnection object at 0x7f6d557786d0>: Failed to establish a new connection: [Errno 111] Connection refused',))",
     "output_type": "error",
     "traceback": [
      "\u001b[0;31m\u001b[0m",
      "\u001b[0;31mH2OConnectionError\u001b[0mTraceback (most recent call last)",
      "\u001b[0;32m<ipython-input-16-2b40421eb402>\u001b[0m in \u001b[0;36m<module>\u001b[0;34m()\u001b[0m\n\u001b[0;32m----> 1\u001b[0;31m \u001b[0mmodel\u001b[0m\u001b[0;34m.\u001b[0m\u001b[0mtrain\u001b[0m\u001b[0;34m(\u001b[0m\u001b[0mx\u001b[0m\u001b[0;34m=\u001b[0m\u001b[0mpredictors\u001b[0m\u001b[0;34m,\u001b[0m \u001b[0my\u001b[0m\u001b[0;34m=\u001b[0m\u001b[0;34m'C50'\u001b[0m\u001b[0;34m,\u001b[0m \u001b[0mtraining_frame\u001b[0m\u001b[0;34m=\u001b[0m\u001b[0mtrain_df\u001b[0m\u001b[0;34m)\u001b[0m\u001b[0;34m\u001b[0m\u001b[0m\n\u001b[0m",
      "\u001b[0;32m/usr/local/lib/python2.7/dist-packages/h2o/estimators/estimator_base.pyc\u001b[0m in \u001b[0;36mtrain\u001b[0;34m(self, x, y, training_frame, offset_column, fold_column, weights_column, validation_frame, max_runtime_secs, ignored_columns)\u001b[0m\n\u001b[1;32m    227\u001b[0m             \u001b[0;32mreturn\u001b[0m\u001b[0;34m\u001b[0m\u001b[0m\n\u001b[1;32m    228\u001b[0m \u001b[0;34m\u001b[0m\u001b[0m\n\u001b[0;32m--> 229\u001b[0;31m         \u001b[0mmodel\u001b[0m\u001b[0;34m.\u001b[0m\u001b[0mpoll\u001b[0m\u001b[0;34m(\u001b[0m\u001b[0;34m)\u001b[0m\u001b[0;34m\u001b[0m\u001b[0m\n\u001b[0m\u001b[1;32m    230\u001b[0m         \u001b[0mmodel_json\u001b[0m \u001b[0;34m=\u001b[0m \u001b[0mh2o\u001b[0m\u001b[0;34m.\u001b[0m\u001b[0mapi\u001b[0m\u001b[0;34m(\u001b[0m\u001b[0;34m\"GET /%d/Models/%s\"\u001b[0m \u001b[0;34m%\u001b[0m \u001b[0;34m(\u001b[0m\u001b[0mrest_ver\u001b[0m\u001b[0;34m,\u001b[0m \u001b[0mmodel\u001b[0m\u001b[0;34m.\u001b[0m\u001b[0mdest_key\u001b[0m\u001b[0;34m)\u001b[0m\u001b[0;34m)\u001b[0m\u001b[0;34m[\u001b[0m\u001b[0;34m\"models\"\u001b[0m\u001b[0;34m]\u001b[0m\u001b[0;34m[\u001b[0m\u001b[0;36m0\u001b[0m\u001b[0;34m]\u001b[0m\u001b[0;34m\u001b[0m\u001b[0m\n\u001b[1;32m    231\u001b[0m         \u001b[0mself\u001b[0m\u001b[0;34m.\u001b[0m\u001b[0m_resolve_model\u001b[0m\u001b[0;34m(\u001b[0m\u001b[0mmodel\u001b[0m\u001b[0;34m.\u001b[0m\u001b[0mdest_key\u001b[0m\u001b[0;34m,\u001b[0m \u001b[0mmodel_json\u001b[0m\u001b[0;34m)\u001b[0m\u001b[0;34m\u001b[0m\u001b[0m\n",
      "\u001b[0;32m/usr/local/lib/python2.7/dist-packages/h2o/job.pyc\u001b[0m in \u001b[0;36mpoll\u001b[0;34m(self)\u001b[0m\n\u001b[1;32m     55\u001b[0m             \u001b[0mhidden\u001b[0m \u001b[0;34m=\u001b[0m \u001b[0;32mnot\u001b[0m \u001b[0mH2OJob\u001b[0m\u001b[0;34m.\u001b[0m\u001b[0m__PROGRESS_BAR__\u001b[0m\u001b[0;34m\u001b[0m\u001b[0m\n\u001b[1;32m     56\u001b[0m             \u001b[0mpb\u001b[0m \u001b[0;34m=\u001b[0m \u001b[0mProgressBar\u001b[0m\u001b[0;34m(\u001b[0m\u001b[0mtitle\u001b[0m\u001b[0;34m=\u001b[0m\u001b[0mself\u001b[0m\u001b[0;34m.\u001b[0m\u001b[0m_job_type\u001b[0m \u001b[0;34m+\u001b[0m \u001b[0;34m\" progress\"\u001b[0m\u001b[0;34m,\u001b[0m \u001b[0mhidden\u001b[0m\u001b[0;34m=\u001b[0m\u001b[0mhidden\u001b[0m\u001b[0;34m)\u001b[0m\u001b[0;34m\u001b[0m\u001b[0m\n\u001b[0;32m---> 57\u001b[0;31m             \u001b[0mpb\u001b[0m\u001b[0;34m.\u001b[0m\u001b[0mexecute\u001b[0m\u001b[0;34m(\u001b[0m\u001b[0mself\u001b[0m\u001b[0;34m.\u001b[0m\u001b[0m_refresh_job_status\u001b[0m\u001b[0;34m)\u001b[0m\u001b[0;34m\u001b[0m\u001b[0m\n\u001b[0m\u001b[1;32m     58\u001b[0m         \u001b[0;32mexcept\u001b[0m \u001b[0mStopIteration\u001b[0m \u001b[0;32mas\u001b[0m \u001b[0me\u001b[0m\u001b[0;34m:\u001b[0m\u001b[0;34m\u001b[0m\u001b[0m\n\u001b[1;32m     59\u001b[0m             \u001b[0;32mif\u001b[0m \u001b[0mstr\u001b[0m\u001b[0;34m(\u001b[0m\u001b[0me\u001b[0m\u001b[0;34m)\u001b[0m \u001b[0;34m==\u001b[0m \u001b[0;34m\"cancelled\"\u001b[0m\u001b[0;34m:\u001b[0m\u001b[0;34m\u001b[0m\u001b[0m\n",
      "\u001b[0;32m/usr/local/lib/python2.7/dist-packages/h2o/utils/progressbar.pyc\u001b[0m in \u001b[0;36mexecute\u001b[0;34m(self, progress_fn)\u001b[0m\n\u001b[1;32m    158\u001b[0m                 \u001b[0;31m# Query the progress level, but only if it's time already\u001b[0m\u001b[0;34m\u001b[0m\u001b[0;34m\u001b[0m\u001b[0m\n\u001b[1;32m    159\u001b[0m                 \u001b[0;32mif\u001b[0m \u001b[0mself\u001b[0m\u001b[0;34m.\u001b[0m\u001b[0m_next_poll_time\u001b[0m \u001b[0;34m<=\u001b[0m \u001b[0mnow\u001b[0m\u001b[0;34m:\u001b[0m\u001b[0;34m\u001b[0m\u001b[0m\n\u001b[0;32m--> 160\u001b[0;31m                     \u001b[0mres\u001b[0m \u001b[0;34m=\u001b[0m \u001b[0mprogress_fn\u001b[0m\u001b[0;34m(\u001b[0m\u001b[0;34m)\u001b[0m  \u001b[0;31m# may raise StopIteration\u001b[0m\u001b[0;34m\u001b[0m\u001b[0m\n\u001b[0m\u001b[1;32m    161\u001b[0m                     \u001b[0massert_is_type\u001b[0m\u001b[0;34m(\u001b[0m\u001b[0mres\u001b[0m\u001b[0;34m,\u001b[0m \u001b[0;34m(\u001b[0m\u001b[0mnumeric\u001b[0m\u001b[0;34m,\u001b[0m \u001b[0mnumeric\u001b[0m\u001b[0;34m)\u001b[0m\u001b[0;34m,\u001b[0m \u001b[0mnumeric\u001b[0m\u001b[0;34m)\u001b[0m\u001b[0;34m\u001b[0m\u001b[0m\n\u001b[1;32m    162\u001b[0m                     \u001b[0;32mif\u001b[0m \u001b[0;32mnot\u001b[0m \u001b[0misinstance\u001b[0m\u001b[0;34m(\u001b[0m\u001b[0mres\u001b[0m\u001b[0;34m,\u001b[0m \u001b[0mtuple\u001b[0m\u001b[0;34m)\u001b[0m\u001b[0;34m:\u001b[0m\u001b[0;34m\u001b[0m\u001b[0m\n",
      "\u001b[0;32m/usr/local/lib/python2.7/dist-packages/h2o/job.pyc\u001b[0m in \u001b[0;36m_refresh_job_status\u001b[0;34m(self)\u001b[0m\n\u001b[1;32m     90\u001b[0m     \u001b[0;32mdef\u001b[0m \u001b[0m_refresh_job_status\u001b[0m\u001b[0;34m(\u001b[0m\u001b[0mself\u001b[0m\u001b[0;34m)\u001b[0m\u001b[0;34m:\u001b[0m\u001b[0;34m\u001b[0m\u001b[0m\n\u001b[1;32m     91\u001b[0m         \u001b[0;32mif\u001b[0m \u001b[0mself\u001b[0m\u001b[0;34m.\u001b[0m\u001b[0m_poll_count\u001b[0m \u001b[0;34m<=\u001b[0m \u001b[0;36m0\u001b[0m\u001b[0;34m:\u001b[0m \u001b[0;32mraise\u001b[0m \u001b[0mStopIteration\u001b[0m\u001b[0;34m(\u001b[0m\u001b[0;34m\"\"\u001b[0m\u001b[0;34m)\u001b[0m\u001b[0;34m\u001b[0m\u001b[0m\n\u001b[0;32m---> 92\u001b[0;31m         \u001b[0mjobs\u001b[0m \u001b[0;34m=\u001b[0m \u001b[0mh2o\u001b[0m\u001b[0;34m.\u001b[0m\u001b[0mapi\u001b[0m\u001b[0;34m(\u001b[0m\u001b[0;34m\"GET /3/Jobs/%s\"\u001b[0m \u001b[0;34m%\u001b[0m \u001b[0mself\u001b[0m\u001b[0;34m.\u001b[0m\u001b[0mjob_key\u001b[0m\u001b[0;34m)\u001b[0m\u001b[0;34m\u001b[0m\u001b[0m\n\u001b[0m\u001b[1;32m     93\u001b[0m         \u001b[0mself\u001b[0m\u001b[0;34m.\u001b[0m\u001b[0mjob\u001b[0m \u001b[0;34m=\u001b[0m \u001b[0mjobs\u001b[0m\u001b[0;34m[\u001b[0m\u001b[0;34m\"jobs\"\u001b[0m\u001b[0;34m]\u001b[0m\u001b[0;34m[\u001b[0m\u001b[0;36m0\u001b[0m\u001b[0;34m]\u001b[0m \u001b[0;32mif\u001b[0m \u001b[0;34m\"jobs\"\u001b[0m \u001b[0;32min\u001b[0m \u001b[0mjobs\u001b[0m \u001b[0;32melse\u001b[0m \u001b[0mjobs\u001b[0m\u001b[0;34m[\u001b[0m\u001b[0;34m\"job\"\u001b[0m\u001b[0;34m]\u001b[0m\u001b[0;34m[\u001b[0m\u001b[0;36m0\u001b[0m\u001b[0;34m]\u001b[0m\u001b[0;34m\u001b[0m\u001b[0m\n\u001b[1;32m     94\u001b[0m         \u001b[0mself\u001b[0m\u001b[0;34m.\u001b[0m\u001b[0mstatus\u001b[0m \u001b[0;34m=\u001b[0m \u001b[0mself\u001b[0m\u001b[0;34m.\u001b[0m\u001b[0mjob\u001b[0m\u001b[0;34m[\u001b[0m\u001b[0;34m\"status\"\u001b[0m\u001b[0;34m]\u001b[0m\u001b[0;34m\u001b[0m\u001b[0m\n",
      "\u001b[0;32m/usr/local/lib/python2.7/dist-packages/h2o/h2o.pyc\u001b[0m in \u001b[0;36mapi\u001b[0;34m(endpoint, data, json, filename, save_to)\u001b[0m\n\u001b[1;32m     82\u001b[0m     \u001b[0;31m# type checks are performed in H2OConnection class\u001b[0m\u001b[0;34m\u001b[0m\u001b[0;34m\u001b[0m\u001b[0m\n\u001b[1;32m     83\u001b[0m     \u001b[0m_check_connection\u001b[0m\u001b[0;34m(\u001b[0m\u001b[0;34m)\u001b[0m\u001b[0;34m\u001b[0m\u001b[0m\n\u001b[0;32m---> 84\u001b[0;31m     \u001b[0;32mreturn\u001b[0m \u001b[0mh2oconn\u001b[0m\u001b[0;34m.\u001b[0m\u001b[0mrequest\u001b[0m\u001b[0;34m(\u001b[0m\u001b[0mendpoint\u001b[0m\u001b[0;34m,\u001b[0m \u001b[0mdata\u001b[0m\u001b[0;34m=\u001b[0m\u001b[0mdata\u001b[0m\u001b[0;34m,\u001b[0m \u001b[0mjson\u001b[0m\u001b[0;34m=\u001b[0m\u001b[0mjson\u001b[0m\u001b[0;34m,\u001b[0m \u001b[0mfilename\u001b[0m\u001b[0;34m=\u001b[0m\u001b[0mfilename\u001b[0m\u001b[0;34m,\u001b[0m \u001b[0msave_to\u001b[0m\u001b[0;34m=\u001b[0m\u001b[0msave_to\u001b[0m\u001b[0;34m)\u001b[0m\u001b[0;34m\u001b[0m\u001b[0m\n\u001b[0m\u001b[1;32m     85\u001b[0m \u001b[0;34m\u001b[0m\u001b[0m\n\u001b[1;32m     86\u001b[0m \u001b[0;34m\u001b[0m\u001b[0m\n",
      "\u001b[0;32m/usr/local/lib/python2.7/dist-packages/h2o/backend/connection.pyc\u001b[0m in \u001b[0;36mrequest\u001b[0;34m(self, endpoint, data, json, filename, save_to)\u001b[0m\n\u001b[1;32m    269\u001b[0m             \u001b[0;32melse\u001b[0m\u001b[0;34m:\u001b[0m\u001b[0;34m\u001b[0m\u001b[0m\n\u001b[1;32m    270\u001b[0m                 \u001b[0mself\u001b[0m\u001b[0;34m.\u001b[0m\u001b[0m_log_end_exception\u001b[0m\u001b[0;34m(\u001b[0m\u001b[0me\u001b[0m\u001b[0;34m)\u001b[0m\u001b[0;34m\u001b[0m\u001b[0m\n\u001b[0;32m--> 271\u001b[0;31m                 \u001b[0;32mraise\u001b[0m \u001b[0mH2OConnectionError\u001b[0m\u001b[0;34m(\u001b[0m\u001b[0;34m\"Unexpected HTTP error: %s\"\u001b[0m \u001b[0;34m%\u001b[0m \u001b[0me\u001b[0m\u001b[0;34m)\u001b[0m\u001b[0;34m\u001b[0m\u001b[0m\n\u001b[0m\u001b[1;32m    272\u001b[0m         \u001b[0;32mexcept\u001b[0m \u001b[0mrequests\u001b[0m\u001b[0;34m.\u001b[0m\u001b[0mexceptions\u001b[0m\u001b[0;34m.\u001b[0m\u001b[0mTimeout\u001b[0m \u001b[0;32mas\u001b[0m \u001b[0me\u001b[0m\u001b[0;34m:\u001b[0m\u001b[0;34m\u001b[0m\u001b[0m\n\u001b[1;32m    273\u001b[0m             \u001b[0mself\u001b[0m\u001b[0;34m.\u001b[0m\u001b[0m_log_end_exception\u001b[0m\u001b[0;34m(\u001b[0m\u001b[0me\u001b[0m\u001b[0;34m)\u001b[0m\u001b[0;34m\u001b[0m\u001b[0m\n",
      "\u001b[0;31mH2OConnectionError\u001b[0m: Unexpected HTTP error: HTTPConnectionPool(host='localhost', port=54321): Max retries exceeded with url: /3/Jobs/$03010a0bb98d32d4ffffffff$_9cecec80c4dd59dc853ae5afae1c49aa (Caused by NewConnectionError('<requests.packages.urllib3.connection.HTTPConnection object at 0x7f6d557786d0>: Failed to establish a new connection: [Errno 111] Connection refused',))"
     ]
    }
   ],
   "source": [
    "model.train(x=predictors, y='C50', training_frame=train_df)"
   ]
  },
  {
   "cell_type": "markdown",
   "metadata": {
    "collapsed": true
   },
   "source": [
    "# H2O Log Stack Trace:"
   ]
  },
  {
   "cell_type": "raw",
   "metadata": {
    "collapsed": false
   },
   "source": [
    "01-04 19:00:30.476 10.11.185.141:54321   21405  FJ-1-13   INFO: Setting the optimizer and initializing the first and last layer.\n",
    "Loading H2O mxnet bindings.\n",
    "Found CUDA_PATH environment variable, trying to connect to GPU devices.\n",
    "Loading CUDA library.\n",
    "Loading mxnet library.\n",
    "Loading H2O mxnet bindings.\n",
    "Done loading H2O mxnet bindings.\n",
    "Constructing model.\n",
    "Done constructing model.\n",
    "Building network.\n",
    "Loading the model.\n",
    "Done loading the model.\n",
    "mxnet data input shape: (64,49)\n",
    "[19:00:31] src/symbol.cxx:189: Check failed: (MXSymbolInferShape(GetHandle(), keys.size(), keys.data(), arg_ind_ptr.data(), arg_shape_data.data(), &in_shape_size, &in_shape_ndim, &in_shape_data, &out_shape_size, &out_shape_ndim, &out_shape_data, &aux_shape_size, &aux_shape_ndim, &aux_shape_data, &complete)) == (0) \n",
    "Aborted (core dumped)\n"
   ]
  }
 ],
 "metadata": {
  "kernelspec": {
   "display_name": "Python 2",
   "language": "python",
   "name": "python2"
  },
  "language_info": {
   "codemirror_mode": {
    "name": "ipython",
    "version": 2
   },
   "file_extension": ".py",
   "mimetype": "text/x-python",
   "name": "python",
   "nbconvert_exporter": "python",
   "pygments_lexer": "ipython2",
   "version": "2.7.12"
  }
 },
 "nbformat": 4,
 "nbformat_minor": 1
}
