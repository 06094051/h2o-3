{
 "cells": [
  {
   "cell_type": "markdown",
   "metadata": {},
   "source": [
    "# MNIST GPU Deep Learning Benchmark with H2O Deep Water\n",
    "In reference to [Szilard's Benchmark-DL](https://github.com/szilard/benchm-dl)"
   ]
  },
  {
   "cell_type": "markdown",
   "metadata": {
    "collapsed": true
   },
   "source": [
    "![MNIST](images/mnist.png)"
   ]
  },
  {
   "cell_type": "code",
   "execution_count": 1,
   "metadata": {
    "collapsed": false,
    "scrolled": true
   },
   "outputs": [
    {
     "name": "stdout",
     "output_type": "stream",
     "text": [
      "Checking whether there is an H2O instance running at http://localhost:54321..... not found.\n",
      "Attempting to start a local H2O server...\n",
      "  Java Version: java version \"1.8.0_101\"; Java(TM) SE Runtime Environment (build 1.8.0_101-b13); Java HotSpot(TM) 64-Bit Server VM (build 25.101-b13, mixed mode)\n",
      "  Starting server from /home/ubuntu/h2o-3/build/h2o.jar\n",
      "  Ice root: /tmp/tmpfl8udm\n",
      "  JVM stdout: /tmp/tmpfl8udm/h2o_ubuntu_started_from_python.out\n",
      "  JVM stderr: /tmp/tmpfl8udm/h2o_ubuntu_started_from_python.err\n",
      "  Server is running at http://127.0.0.1:54321\n",
      "Connecting to H2O server at http://127.0.0.1:54321... successful.\n"
     ]
    },
    {
     "data": {
      "text/html": [
       "<div style=\"overflow:auto\"><table style=\"width:50%\"><tr><td>H2O cluster uptime:</td>\n",
       "<td>02 secs</td></tr>\n",
       "<tr><td>H2O cluster version:</td>\n",
       "<td>3.11.0.99999</td></tr>\n",
       "<tr><td>H2O cluster version age:</td>\n",
       "<td>22 hours and 29 minutes </td></tr>\n",
       "<tr><td>H2O cluster name:</td>\n",
       "<td>H2O_from_python_ubuntu_ec17uh</td></tr>\n",
       "<tr><td>H2O cluster total nodes:</td>\n",
       "<td>1</td></tr>\n",
       "<tr><td>H2O cluster free memory:</td>\n",
       "<td>3.264 Gb</td></tr>\n",
       "<tr><td>H2O cluster total cores:</td>\n",
       "<td>8</td></tr>\n",
       "<tr><td>H2O cluster allowed cores:</td>\n",
       "<td>8</td></tr>\n",
       "<tr><td>H2O cluster status:</td>\n",
       "<td>accepting new members, healthy</td></tr>\n",
       "<tr><td>H2O connection url:</td>\n",
       "<td>http://127.0.0.1:54321</td></tr>\n",
       "<tr><td>H2O connection proxy:</td>\n",
       "<td>None</td></tr>\n",
       "<tr><td>Python version:</td>\n",
       "<td>2.7.12 final</td></tr></table></div>"
      ],
      "text/plain": [
       "--------------------------  ------------------------------\n",
       "H2O cluster uptime:         02 secs\n",
       "H2O cluster version:        3.11.0.99999\n",
       "H2O cluster version age:    22 hours and 29 minutes\n",
       "H2O cluster name:           H2O_from_python_ubuntu_ec17uh\n",
       "H2O cluster total nodes:    1\n",
       "H2O cluster free memory:    3.264 Gb\n",
       "H2O cluster total cores:    8\n",
       "H2O cluster allowed cores:  8\n",
       "H2O cluster status:         accepting new members, healthy\n",
       "H2O connection url:         http://127.0.0.1:54321\n",
       "H2O connection proxy:\n",
       "Python version:             2.7.12 final\n",
       "--------------------------  ------------------------------"
      ]
     },
     "metadata": {},
     "output_type": "display_data"
    }
   ],
   "source": [
    "import sys, os\n",
    "import os.path\n",
    "import h2o\n",
    "from h2o.estimators.deepwater import H2ODeepWaterEstimator\n",
    "PATH = os.path.expanduser(\"~/h2o-3/\")\n",
    "h2o.init(nthreads=-1)\n",
    "if not H2ODeepWaterEstimator.available(): exit"
   ]
  },
  {
   "cell_type": "markdown",
   "metadata": {},
   "source": [
    "### Hardware check"
   ]
  },
  {
   "cell_type": "code",
   "execution_count": 2,
   "metadata": {
    "collapsed": false,
    "scrolled": false
   },
   "outputs": [
    {
     "name": "stdout",
     "output_type": "stream",
     "text": [
      "Tue Oct 25 20:15:50 2016       \n",
      "+-----------------------------------------------------------------------------+\n",
      "| NVIDIA-SMI 370.28                 Driver Version: 370.28                    |\n",
      "|-------------------------------+----------------------+----------------------+\n",
      "| GPU  Name        Persistence-M| Bus-Id        Disp.A | Volatile Uncorr. ECC |\n",
      "| Fan  Temp  Perf  Pwr:Usage/Cap|         Memory-Usage | GPU-Util  Compute M. |\n",
      "|===============================+======================+======================|\n",
      "|   0  GRID K520           Off  | 0000:00:03.0     Off |                  N/A |\n",
      "| N/A   33C    P0     1W / 125W |      0MiB /  4036MiB |      0%      Default |\n",
      "+-------------------------------+----------------------+----------------------+\n",
      "                                                                               \n",
      "+-----------------------------------------------------------------------------+\n",
      "| Processes:                                                       GPU Memory |\n",
      "|  GPU       PID  Type  Process name                               Usage      |\n",
      "|=============================================================================|\n",
      "|  No running processes found                                                 |\n",
      "+-----------------------------------------------------------------------------+\n"
     ]
    }
   ],
   "source": [
    "!nvidia-smi"
   ]
  },
  {
   "cell_type": "markdown",
   "metadata": {},
   "source": [
    "### Data preparation"
   ]
  },
  {
   "cell_type": "code",
   "execution_count": 3,
   "metadata": {
    "collapsed": false
   },
   "outputs": [
    {
     "name": "stdout",
     "output_type": "stream",
     "text": [
      "Parse progress: |█████████████████████████████████████████████████████████| 100%\n"
     ]
    }
   ],
   "source": [
    "train = h2o.import_file(PATH + \"bigdata/laptop/mnist/train.csv.gz\")\n",
    "predictors  = list(range(0,784))\n",
    "resp        = 784\n",
    "\n",
    "train[predictors] = train[predictors]/255.0\n",
    "train[resp] = train[resp].asfactor()\n",
    "nclasses    = train[resp].nlevels()[0]"
   ]
  },
  {
   "cell_type": "markdown",
   "metadata": {},
   "source": [
    "### Define the model architecture"
   ]
  },
  {
   "cell_type": "code",
   "execution_count": 4,
   "metadata": {
    "collapsed": true
   },
   "outputs": [],
   "source": [
    "def cnn(num_classes):\n",
    "    import mxnet as mx\n",
    "    data    = mx.symbol.Variable('data')\n",
    "\n",
    "    conv1   = mx.symbol.Convolution(data=data, kernel=(4,4), num_filter=32)\n",
    "    relu1   = mx.symbol.Activation(data=conv1, act_type=\"relu\")\n",
    "    pool1   = mx.symbol.Pooling(data=relu1, pool_type=\"max\", kernel=(2,2), stride=(2,2))\n",
    "\n",
    "    conv2   = mx.symbol.Convolution(data=pool1, kernel=(3,3), num_filter=16)\n",
    "    relu2   = mx.symbol.Activation(data=conv2, act_type=\"relu\")\n",
    "    pool2   = mx.symbol.Pooling(data=relu2, pool_type=\"max\", kernel=(2,2), stride=(2,2))\n",
    "    drop    = mx.symbol.Dropout(data=pool2, p=0.2)\n",
    "\n",
    "    flatten = mx.symbol.Flatten(data=drop)\n",
    "    fc1     = mx.symbol.FullyConnected(data=flatten, num_hidden=128)\n",
    "    relu3   = mx.symbol.Activation(data=fc1, act_type=\"relu\")\n",
    "\n",
    "    fc2     = mx.symbol.FullyConnected(data=relu3, num_hidden=64)\n",
    "    relu4   = mx.symbol.Activation(data=fc2, act_type=\"relu\")\n",
    "\n",
    "    fc3     = mx.symbol.FullyConnected(data=relu4, num_hidden=num_classes)\n",
    "    net     = mx.symbol.SoftmaxOutput(data=fc3, name='softmax')\n",
    "    return net\n",
    "cnn(nclasses).save(\"/tmp/cnn.json\")"
   ]
  },
  {
   "cell_type": "markdown",
   "metadata": {},
   "source": [
    "### Train the model"
   ]
  },
  {
   "cell_type": "code",
   "execution_count": 16,
   "metadata": {
    "collapsed": false,
    "scrolled": true
   },
   "outputs": [
    {
     "name": "stdout",
     "output_type": "stream",
     "text": [
      "deepwater Model Build progress: |█████████████████████████████████████████| 100%\n"
     ]
    }
   ],
   "source": [
    "model = H2ODeepWaterEstimator(\n",
    "    epochs=10,\n",
    "    learning_rate=0.05,\n",
    "    learning_rate_annealing=1e-5,\n",
    "    momentum_start=0.9,\n",
    "    momentum_stable=0.9,\n",
    "    mini_batch_size=128,\n",
    "    network_definition_file=\"/tmp/cnn.json\",\n",
    "    image_shape=[28,28],                ## MNIST is 28x28 pixels\n",
    "    channels=1,                         ## monochrome\n",
    "    device_id=[0],                      ## select which GPU to use\n",
    "    gpu=True,                           ## disable to compare to CPU\n",
    "    standardize=False,                  ## data was manually scaled to 0..1\n",
    "    ignore_const_cols=False,            ## include all pixels even though some are always 0\n",
    "    seed=1234                           ## for reproducibility\n",
    "    #,score_duty_cycle=0                ## no scoring until the end\n",
    ")\n",
    "                              \n",
    "model.train(x=predictors,y=resp, training_frame=train)"
   ]
  },
  {
   "cell_type": "markdown",
   "metadata": {},
   "source": [
    "### Inspect the model"
   ]
  },
  {
   "cell_type": "code",
   "execution_count": 17,
   "metadata": {
    "collapsed": false,
    "scrolled": true
   },
   "outputs": [
    {
     "data": {
      "image/png": "[encoded data removed]",
      "text/plain": [
       "<matplotlib.figure.Figure at 0x7f36b7972450>"
      ]
     },
     "metadata": {},
     "output_type": "display_data"
    }
   ],
   "source": [
    "model.plot()"
   ]
  },
  {
   "cell_type": "code",
   "execution_count": 18,
   "metadata": {
    "collapsed": false
   },
   "outputs": [
    {
     "name": "stdout",
     "output_type": "stream",
     "text": [
      "Model Details\n",
      "=============\n",
      "H2ODeepWaterEstimator :  Deep Water\n",
      "Model Key:  DeepWater_model_python_1477426546266_3\n",
      "Status of Deep Learning Model: user, 261.3 KB, predicting C785, 10-class classification, 602,112 training samples, mini-batch size 128\n",
      "\n"
     ]
    },
    {
     "data": {
      "text/html": [
       "<div style=\"overflow:auto\"><table style=\"width:50%\"><tr><td><b></b></td>\n",
       "<td><b>input_neurons</b></td>\n",
       "<td><b>rate</b></td>\n",
       "<td><b>momentum</b></td></tr>\n",
       "<tr><td></td>\n",
       "<td>784</td>\n",
       "<td>0.0071214</td>\n",
       "<td>0.9</td></tr></table></div>"
      ],
      "text/plain": [
       "    input_neurons    rate        momentum\n",
       "--  ---------------  ----------  ----------\n",
       "    784              0.00712137  0.9"
      ]
     },
     "metadata": {},
     "output_type": "display_data"
    },
    {
     "name": "stdout",
     "output_type": "stream",
     "text": [
      "\n",
      "\n",
      "ModelMetricsMultinomial: deepwater\n",
      "** Reported on train data. **\n",
      "\n",
      "MSE: 0.00350647507698\n",
      "RMSE: 0.0592154969326\n",
      "LogLoss: 0.013430018741\n",
      "Mean Per-Class Error: 0.00381900174444\n",
      "Confusion Matrix: vertical: actual; across: predicted\n",
      "\n"
     ]
    },
    {
     "data": {
      "text/html": [
       "<div style=\"overflow:auto\"><table style=\"width:50%\"><tr><td><b>0</b></td>\n",
       "<td><b>1</b></td>\n",
       "<td><b>2</b></td>\n",
       "<td><b>3</b></td>\n",
       "<td><b>4</b></td>\n",
       "<td><b>5</b></td>\n",
       "<td><b>6</b></td>\n",
       "<td><b>7</b></td>\n",
       "<td><b>8</b></td>\n",
       "<td><b>9</b></td>\n",
       "<td><b>Error</b></td>\n",
       "<td><b>Rate</b></td></tr>\n",
       "<tr><td>992.0</td>\n",
       "<td>0.0</td>\n",
       "<td>0.0</td>\n",
       "<td>0.0</td>\n",
       "<td>0.0</td>\n",
       "<td>0.0</td>\n",
       "<td>1.0</td>\n",
       "<td>0.0</td>\n",
       "<td>0.0</td>\n",
       "<td>1.0</td>\n",
       "<td>0.0020121</td>\n",
       "<td>2 / 994</td></tr>\n",
       "<tr><td>0.0</td>\n",
       "<td>1112.0</td>\n",
       "<td>0.0</td>\n",
       "<td>0.0</td>\n",
       "<td>3.0</td>\n",
       "<td>0.0</td>\n",
       "<td>1.0</td>\n",
       "<td>2.0</td>\n",
       "<td>0.0</td>\n",
       "<td>0.0</td>\n",
       "<td>0.0053667</td>\n",
       "<td>6 / 1,118</td></tr>\n",
       "<tr><td>0.0</td>\n",
       "<td>2.0</td>\n",
       "<td>965.0</td>\n",
       "<td>0.0</td>\n",
       "<td>0.0</td>\n",
       "<td>0.0</td>\n",
       "<td>0.0</td>\n",
       "<td>0.0</td>\n",
       "<td>0.0</td>\n",
       "<td>1.0</td>\n",
       "<td>0.0030992</td>\n",
       "<td>3 / 968</td></tr>\n",
       "<tr><td>0.0</td>\n",
       "<td>0.0</td>\n",
       "<td>0.0</td>\n",
       "<td>993.0</td>\n",
       "<td>0.0</td>\n",
       "<td>1.0</td>\n",
       "<td>0.0</td>\n",
       "<td>0.0</td>\n",
       "<td>3.0</td>\n",
       "<td>0.0</td>\n",
       "<td>0.0040120</td>\n",
       "<td>4 / 997</td></tr>\n",
       "<tr><td>0.0</td>\n",
       "<td>1.0</td>\n",
       "<td>0.0</td>\n",
       "<td>0.0</td>\n",
       "<td>991.0</td>\n",
       "<td>0.0</td>\n",
       "<td>0.0</td>\n",
       "<td>0.0</td>\n",
       "<td>0.0</td>\n",
       "<td>4.0</td>\n",
       "<td>0.0050201</td>\n",
       "<td>5 / 996</td></tr>\n",
       "<tr><td>0.0</td>\n",
       "<td>1.0</td>\n",
       "<td>1.0</td>\n",
       "<td>0.0</td>\n",
       "<td>0.0</td>\n",
       "<td>884.0</td>\n",
       "<td>1.0</td>\n",
       "<td>0.0</td>\n",
       "<td>2.0</td>\n",
       "<td>0.0</td>\n",
       "<td>0.0056243</td>\n",
       "<td>5 / 889</td></tr>\n",
       "<tr><td>1.0</td>\n",
       "<td>0.0</td>\n",
       "<td>0.0</td>\n",
       "<td>0.0</td>\n",
       "<td>0.0</td>\n",
       "<td>0.0</td>\n",
       "<td>994.0</td>\n",
       "<td>0.0</td>\n",
       "<td>1.0</td>\n",
       "<td>0.0</td>\n",
       "<td>0.0020080</td>\n",
       "<td>2 / 996</td></tr>\n",
       "<tr><td>0.0</td>\n",
       "<td>0.0</td>\n",
       "<td>0.0</td>\n",
       "<td>0.0</td>\n",
       "<td>2.0</td>\n",
       "<td>0.0</td>\n",
       "<td>0.0</td>\n",
       "<td>997.0</td>\n",
       "<td>0.0</td>\n",
       "<td>1.0</td>\n",
       "<td>0.003</td>\n",
       "<td>3 / 1,000</td></tr>\n",
       "<tr><td>0.0</td>\n",
       "<td>0.0</td>\n",
       "<td>2.0</td>\n",
       "<td>0.0</td>\n",
       "<td>0.0</td>\n",
       "<td>0.0</td>\n",
       "<td>0.0</td>\n",
       "<td>1.0</td>\n",
       "<td>1034.0</td>\n",
       "<td>0.0</td>\n",
       "<td>0.0028930</td>\n",
       "<td>3 / 1,037</td></tr>\n",
       "<tr><td>1.0</td>\n",
       "<td>1.0</td>\n",
       "<td>0.0</td>\n",
       "<td>1.0</td>\n",
       "<td>1.0</td>\n",
       "<td>0.0</td>\n",
       "<td>0.0</td>\n",
       "<td>1.0</td>\n",
       "<td>0.0</td>\n",
       "<td>965.0</td>\n",
       "<td>0.0051546</td>\n",
       "<td>5 / 970</td></tr>\n",
       "<tr><td>994.0</td>\n",
       "<td>1117.0</td>\n",
       "<td>968.0</td>\n",
       "<td>994.0</td>\n",
       "<td>997.0</td>\n",
       "<td>885.0</td>\n",
       "<td>997.0</td>\n",
       "<td>1001.0</td>\n",
       "<td>1040.0</td>\n",
       "<td>972.0</td>\n",
       "<td>0.0038133</td>\n",
       "<td>38 / 9,965</td></tr></table></div>"
      ],
      "text/plain": [
       "0    1     2    3    4    5    6    7     8     9    Error       Rate\n",
       "---  ----  ---  ---  ---  ---  ---  ----  ----  ---  ----------  ----------\n",
       "992  0     0    0    0    0    1    0     0     1    0.00201207  2 / 994\n",
       "0    1112  0    0    3    0    1    2     0     0    0.00536673  6 / 1,118\n",
       "0    2     965  0    0    0    0    0     0     1    0.00309917  3 / 968\n",
       "0    0     0    993  0    1    0    0     3     0    0.00401204  4 / 997\n",
       "0    1     0    0    991  0    0    0     0     4    0.00502008  5 / 996\n",
       "0    1     1    0    0    884  1    0     2     0    0.0056243   5 / 889\n",
       "1    0     0    0    0    0    994  0     1     0    0.00200803  2 / 996\n",
       "0    0     0    0    2    0    0    997   0     1    0.003       3 / 1,000\n",
       "0    0     2    0    0    0    0    1     1034  0    0.00289296  3 / 1,037\n",
       "1    1     0    1    1    0    0    1     0     965  0.00515464  5 / 970\n",
       "994  1117  968  994  997  885  997  1001  1040  972  0.00381335  38 / 9,965"
      ]
     },
     "metadata": {},
     "output_type": "display_data"
    },
    {
     "name": "stdout",
     "output_type": "stream",
     "text": [
      "Top-10 Hit Ratios: \n"
     ]
    },
    {
     "data": {
      "text/html": [
       "<div style=\"overflow:auto\"><table style=\"width:50%\"><tr><td><b>k</b></td>\n",
       "<td><b>hit_ratio</b></td></tr>\n",
       "<tr><td>1</td>\n",
       "<td>0.9961867</td></tr>\n",
       "<tr><td>2</td>\n",
       "<td>0.9995986</td></tr>\n",
       "<tr><td>3</td>\n",
       "<td>0.9998997</td></tr>\n",
       "<tr><td>4</td>\n",
       "<td>1.0</td></tr>\n",
       "<tr><td>5</td>\n",
       "<td>1.0</td></tr>\n",
       "<tr><td>6</td>\n",
       "<td>1.0</td></tr>\n",
       "<tr><td>7</td>\n",
       "<td>1.0</td></tr>\n",
       "<tr><td>8</td>\n",
       "<td>1.0</td></tr>\n",
       "<tr><td>9</td>\n",
       "<td>1.0</td></tr>\n",
       "<tr><td>10</td>\n",
       "<td>1.0</td></tr></table></div>"
      ],
      "text/plain": [
       "k    hit_ratio\n",
       "---  -----------\n",
       "1    0.996187\n",
       "2    0.999599\n",
       "3    0.9999\n",
       "4    1\n",
       "5    1\n",
       "6    1\n",
       "7    1\n",
       "8    1\n",
       "9    1\n",
       "10   1"
      ]
     },
     "metadata": {},
     "output_type": "display_data"
    },
    {
     "name": "stdout",
     "output_type": "stream",
     "text": [
      "Scoring History: \n"
     ]
    },
    {
     "data": {
      "text/html": [
       "<div style=\"overflow:auto\"><table style=\"width:50%\"><tr><td><b></b></td>\n",
       "<td><b>timestamp</b></td>\n",
       "<td><b>duration</b></td>\n",
       "<td><b>training_speed</b></td>\n",
       "<td><b>epochs</b></td>\n",
       "<td><b>iterations</b></td>\n",
       "<td><b>samples</b></td>\n",
       "<td><b>training_rmse</b></td>\n",
       "<td><b>training_logloss</b></td>\n",
       "<td><b>training_classification_error</b></td></tr>\n",
       "<tr><td></td>\n",
       "<td>2016-10-25 20:20:05</td>\n",
       "<td> 0.000 sec</td>\n",
       "<td>None</td>\n",
       "<td>0.0</td>\n",
       "<td>0</td>\n",
       "<td>0.0</td>\n",
       "<td>nan</td>\n",
       "<td>nan</td>\n",
       "<td>nan</td></tr>\n",
       "<tr><td></td>\n",
       "<td>2016-10-25 20:20:06</td>\n",
       "<td> 2.000 sec</td>\n",
       "<td>7148 obs/sec</td>\n",
       "<td>0.0682667</td>\n",
       "<td>1</td>\n",
       "<td>4096.0</td>\n",
       "<td>0.3078531</td>\n",
       "<td>0.3413932</td>\n",
       "<td>0.1067737</td></tr>\n",
       "<tr><td></td>\n",
       "<td>2016-10-25 20:20:18</td>\n",
       "<td>13.680 sec</td>\n",
       "<td>10188 obs/sec</td>\n",
       "<td>2.048</td>\n",
       "<td>30</td>\n",
       "<td>122880.0</td>\n",
       "<td>0.1010047</td>\n",
       "<td>0.0373182</td>\n",
       "<td>0.0119418</td></tr>\n",
       "<tr><td></td>\n",
       "<td>2016-10-25 20:20:24</td>\n",
       "<td>18.698 sec</td>\n",
       "<td>11160 obs/sec</td>\n",
       "<td>3.1402667</td>\n",
       "<td>46</td>\n",
       "<td>188416.0</td>\n",
       "<td>0.0864132</td>\n",
       "<td>0.0290418</td>\n",
       "<td>0.0087306</td></tr>\n",
       "<tr><td></td>\n",
       "<td>2016-10-25 20:20:29</td>\n",
       "<td>23.834 sec</td>\n",
       "<td>11831 obs/sec</td>\n",
       "<td>4.3008</td>\n",
       "<td>63</td>\n",
       "<td>258048.0</td>\n",
       "<td>0.0759970</td>\n",
       "<td>0.0227918</td>\n",
       "<td>0.0066232</td></tr>\n",
       "<tr><td></td>\n",
       "<td>2016-10-25 20:20:34</td>\n",
       "<td>28.917 sec</td>\n",
       "<td>12274 obs/sec</td>\n",
       "<td>5.4613333</td>\n",
       "<td>80</td>\n",
       "<td>327680.0</td>\n",
       "<td>0.0725951</td>\n",
       "<td>0.0195389</td>\n",
       "<td>0.0066232</td></tr>\n",
       "<tr><td></td>\n",
       "<td>2016-10-25 20:20:39</td>\n",
       "<td>33.973 sec</td>\n",
       "<td>12594 obs/sec</td>\n",
       "<td>6.6218667</td>\n",
       "<td>97</td>\n",
       "<td>397312.0</td>\n",
       "<td>0.0647291</td>\n",
       "<td>0.0162194</td>\n",
       "<td>0.0052183</td></tr>\n",
       "<tr><td></td>\n",
       "<td>2016-10-25 20:20:44</td>\n",
       "<td>39.002 sec</td>\n",
       "<td>12834 obs/sec</td>\n",
       "<td>7.7824</td>\n",
       "<td>114</td>\n",
       "<td>466944.0</td>\n",
       "<td>0.0638558</td>\n",
       "<td>0.0154559</td>\n",
       "<td>0.0053186</td></tr>\n",
       "<tr><td></td>\n",
       "<td>2016-10-25 20:20:49</td>\n",
       "<td>44.279 sec</td>\n",
       "<td>13039 obs/sec</td>\n",
       "<td>9.0112</td>\n",
       "<td>132</td>\n",
       "<td>540672.0</td>\n",
       "<td>0.0613183</td>\n",
       "<td>0.0138903</td>\n",
       "<td>0.0045158</td></tr>\n",
       "<tr><td></td>\n",
       "<td>2016-10-25 20:20:54</td>\n",
       "<td>48.732 sec</td>\n",
       "<td>13168 obs/sec</td>\n",
       "<td>10.0352</td>\n",
       "<td>147</td>\n",
       "<td>602112.0</td>\n",
       "<td>0.0592155</td>\n",
       "<td>0.0134300</td>\n",
       "<td>0.0038133</td></tr></table></div>"
      ],
      "text/plain": [
       "    timestamp            duration    training_speed    epochs     iterations    samples    training_rmse    training_logloss    training_classification_error\n",
       "--  -------------------  ----------  ----------------  ---------  ------------  ---------  ---------------  ------------------  -------------------------------\n",
       "    2016-10-25 20:20:05  0.000 sec                     0          0             0          nan              nan                 nan\n",
       "    2016-10-25 20:20:06  2.000 sec   7148 obs/sec      0.0682667  1             4096       0.307853         0.341393            0.106774\n",
       "    2016-10-25 20:20:18  13.680 sec  10188 obs/sec     2.048      30            122880     0.101005         0.0373182           0.0119418\n",
       "    2016-10-25 20:20:24  18.698 sec  11160 obs/sec     3.14027    46            188416     0.0864132        0.0290418           0.00873056\n",
       "    2016-10-25 20:20:29  23.834 sec  11831 obs/sec     4.3008     63            258048     0.075997         0.0227918           0.00662318\n",
       "    2016-10-25 20:20:34  28.917 sec  12274 obs/sec     5.46133    80            327680     0.0725951        0.0195389           0.00662318\n",
       "    2016-10-25 20:20:39  33.973 sec  12594 obs/sec     6.62187    97            397312     0.0647291        0.0162194           0.00521826\n",
       "    2016-10-25 20:20:44  39.002 sec  12834 obs/sec     7.7824     114           466944     0.0638558        0.0154559           0.00531862\n",
       "    2016-10-25 20:20:49  44.279 sec  13039 obs/sec     9.0112     132           540672     0.0613183        0.0138903           0.00451581\n",
       "    2016-10-25 20:20:54  48.732 sec  13168 obs/sec     10.0352    147           602112     0.0592155        0.01343             0.00381335"
      ]
     },
     "metadata": {},
     "output_type": "display_data"
    }
   ],
   "source": [
    "model.show()"
   ]
  },
  {
   "cell_type": "code",
   "execution_count": 19,
   "metadata": {
    "collapsed": false,
    "scrolled": true
   },
   "outputs": [
    {
     "data": {
      "text/html": [
       "<div>\n",
       "<table border=\"1\" class=\"dataframe\">\n",
       "  <thead>\n",
       "    <tr style=\"text-align: right;\">\n",
       "      <th></th>\n",
       "      <th></th>\n",
       "      <th>timestamp</th>\n",
       "      <th>duration</th>\n",
       "      <th>training_speed</th>\n",
       "      <th>epochs</th>\n",
       "      <th>iterations</th>\n",
       "      <th>samples</th>\n",
       "      <th>training_rmse</th>\n",
       "      <th>training_logloss</th>\n",
       "      <th>training_classification_error</th>\n",
       "    </tr>\n",
       "  </thead>\n",
       "  <tbody>\n",
       "    <tr>\n",
       "      <th>0</th>\n",
       "      <td></td>\n",
       "      <td>2016-10-25 20:20:05</td>\n",
       "      <td>0.000 sec</td>\n",
       "      <td>None</td>\n",
       "      <td>0.000000</td>\n",
       "      <td>0</td>\n",
       "      <td>0.0</td>\n",
       "      <td>NaN</td>\n",
       "      <td>NaN</td>\n",
       "      <td>NaN</td>\n",
       "    </tr>\n",
       "    <tr>\n",
       "      <th>1</th>\n",
       "      <td></td>\n",
       "      <td>2016-10-25 20:20:06</td>\n",
       "      <td>2.000 sec</td>\n",
       "      <td>7148 obs/sec</td>\n",
       "      <td>0.068267</td>\n",
       "      <td>1</td>\n",
       "      <td>4096.0</td>\n",
       "      <td>0.307853</td>\n",
       "      <td>0.341393</td>\n",
       "      <td>0.106774</td>\n",
       "    </tr>\n",
       "    <tr>\n",
       "      <th>2</th>\n",
       "      <td></td>\n",
       "      <td>2016-10-25 20:20:18</td>\n",
       "      <td>13.680 sec</td>\n",
       "      <td>10188 obs/sec</td>\n",
       "      <td>2.048000</td>\n",
       "      <td>30</td>\n",
       "      <td>122880.0</td>\n",
       "      <td>0.101005</td>\n",
       "      <td>0.037318</td>\n",
       "      <td>0.011942</td>\n",
       "    </tr>\n",
       "    <tr>\n",
       "      <th>3</th>\n",
       "      <td></td>\n",
       "      <td>2016-10-25 20:20:24</td>\n",
       "      <td>18.698 sec</td>\n",
       "      <td>11160 obs/sec</td>\n",
       "      <td>3.140267</td>\n",
       "      <td>46</td>\n",
       "      <td>188416.0</td>\n",
       "      <td>0.086413</td>\n",
       "      <td>0.029042</td>\n",
       "      <td>0.008731</td>\n",
       "    </tr>\n",
       "    <tr>\n",
       "      <th>4</th>\n",
       "      <td></td>\n",
       "      <td>2016-10-25 20:20:29</td>\n",
       "      <td>23.834 sec</td>\n",
       "      <td>11831 obs/sec</td>\n",
       "      <td>4.300800</td>\n",
       "      <td>63</td>\n",
       "      <td>258048.0</td>\n",
       "      <td>0.075997</td>\n",
       "      <td>0.022792</td>\n",
       "      <td>0.006623</td>\n",
       "    </tr>\n",
       "    <tr>\n",
       "      <th>5</th>\n",
       "      <td></td>\n",
       "      <td>2016-10-25 20:20:34</td>\n",
       "      <td>28.917 sec</td>\n",
       "      <td>12274 obs/sec</td>\n",
       "      <td>5.461333</td>\n",
       "      <td>80</td>\n",
       "      <td>327680.0</td>\n",
       "      <td>0.072595</td>\n",
       "      <td>0.019539</td>\n",
       "      <td>0.006623</td>\n",
       "    </tr>\n",
       "    <tr>\n",
       "      <th>6</th>\n",
       "      <td></td>\n",
       "      <td>2016-10-25 20:20:39</td>\n",
       "      <td>33.973 sec</td>\n",
       "      <td>12594 obs/sec</td>\n",
       "      <td>6.621867</td>\n",
       "      <td>97</td>\n",
       "      <td>397312.0</td>\n",
       "      <td>0.064729</td>\n",
       "      <td>0.016219</td>\n",
       "      <td>0.005218</td>\n",
       "    </tr>\n",
       "    <tr>\n",
       "      <th>7</th>\n",
       "      <td></td>\n",
       "      <td>2016-10-25 20:20:44</td>\n",
       "      <td>39.002 sec</td>\n",
       "      <td>12834 obs/sec</td>\n",
       "      <td>7.782400</td>\n",
       "      <td>114</td>\n",
       "      <td>466944.0</td>\n",
       "      <td>0.063856</td>\n",
       "      <td>0.015456</td>\n",
       "      <td>0.005319</td>\n",
       "    </tr>\n",
       "    <tr>\n",
       "      <th>8</th>\n",
       "      <td></td>\n",
       "      <td>2016-10-25 20:20:49</td>\n",
       "      <td>44.279 sec</td>\n",
       "      <td>13039 obs/sec</td>\n",
       "      <td>9.011200</td>\n",
       "      <td>132</td>\n",
       "      <td>540672.0</td>\n",
       "      <td>0.061318</td>\n",
       "      <td>0.013890</td>\n",
       "      <td>0.004516</td>\n",
       "    </tr>\n",
       "    <tr>\n",
       "      <th>9</th>\n",
       "      <td></td>\n",
       "      <td>2016-10-25 20:20:54</td>\n",
       "      <td>48.732 sec</td>\n",
       "      <td>13168 obs/sec</td>\n",
       "      <td>10.035200</td>\n",
       "      <td>147</td>\n",
       "      <td>602112.0</td>\n",
       "      <td>0.059215</td>\n",
       "      <td>0.013430</td>\n",
       "      <td>0.003813</td>\n",
       "    </tr>\n",
       "  </tbody>\n",
       "</table>\n",
       "</div>"
      ],
      "text/plain": [
       "               timestamp    duration training_speed     epochs  iterations  \\\n",
       "0    2016-10-25 20:20:05   0.000 sec           None   0.000000           0   \n",
       "1    2016-10-25 20:20:06   2.000 sec   7148 obs/sec   0.068267           1   \n",
       "2    2016-10-25 20:20:18  13.680 sec  10188 obs/sec   2.048000          30   \n",
       "3    2016-10-25 20:20:24  18.698 sec  11160 obs/sec   3.140267          46   \n",
       "4    2016-10-25 20:20:29  23.834 sec  11831 obs/sec   4.300800          63   \n",
       "5    2016-10-25 20:20:34  28.917 sec  12274 obs/sec   5.461333          80   \n",
       "6    2016-10-25 20:20:39  33.973 sec  12594 obs/sec   6.621867          97   \n",
       "7    2016-10-25 20:20:44  39.002 sec  12834 obs/sec   7.782400         114   \n",
       "8    2016-10-25 20:20:49  44.279 sec  13039 obs/sec   9.011200         132   \n",
       "9    2016-10-25 20:20:54  48.732 sec  13168 obs/sec  10.035200         147   \n",
       "\n",
       "    samples  training_rmse  training_logloss  training_classification_error  \n",
       "0       0.0            NaN               NaN                            NaN  \n",
       "1    4096.0       0.307853          0.341393                       0.106774  \n",
       "2  122880.0       0.101005          0.037318                       0.011942  \n",
       "3  188416.0       0.086413          0.029042                       0.008731  \n",
       "4  258048.0       0.075997          0.022792                       0.006623  \n",
       "5  327680.0       0.072595          0.019539                       0.006623  \n",
       "6  397312.0       0.064729          0.016219                       0.005218  \n",
       "7  466944.0       0.063856          0.015456                       0.005319  \n",
       "8  540672.0       0.061318          0.013890                       0.004516  \n",
       "9  602112.0       0.059215          0.013430                       0.003813  "
      ]
     },
     "execution_count": 19,
     "metadata": {},
     "output_type": "execute_result"
    }
   ],
   "source": [
    "model.scoring_history()"
   ]
  },
  {
   "cell_type": "markdown",
   "metadata": {},
   "source": [
    "### Let's evaluate the test set performance"
   ]
  },
  {
   "cell_type": "code",
   "execution_count": 20,
   "metadata": {
    "collapsed": false,
    "scrolled": true
   },
   "outputs": [
    {
     "name": "stdout",
     "output_type": "stream",
     "text": [
      "Parse progress: |█████████████████████████████████████████████████████████| 100%\n",
      "\n",
      "ModelMetricsMultinomial: deepwater\n",
      "** Reported on test data. **\n",
      "\n",
      "MSE: 0.00638824324211\n",
      "RMSE: 0.0799264864867\n",
      "LogLoss: 0.0236557898302\n",
      "Mean Per-Class Error: 0.00761628910257\n",
      "Confusion Matrix: vertical: actual; across: predicted\n",
      "\n"
     ]
    },
    {
     "data": {
      "text/html": [
       "<div style=\"overflow:auto\"><table style=\"width:50%\"><tr><td><b>0</b></td>\n",
       "<td><b>1</b></td>\n",
       "<td><b>2</b></td>\n",
       "<td><b>3</b></td>\n",
       "<td><b>4</b></td>\n",
       "<td><b>5</b></td>\n",
       "<td><b>6</b></td>\n",
       "<td><b>7</b></td>\n",
       "<td><b>8</b></td>\n",
       "<td><b>9</b></td>\n",
       "<td><b>Error</b></td>\n",
       "<td><b>Rate</b></td></tr>\n",
       "<tr><td>976.0</td>\n",
       "<td>0.0</td>\n",
       "<td>0.0</td>\n",
       "<td>0.0</td>\n",
       "<td>0.0</td>\n",
       "<td>0.0</td>\n",
       "<td>2.0</td>\n",
       "<td>1.0</td>\n",
       "<td>1.0</td>\n",
       "<td>0.0</td>\n",
       "<td>0.0040816</td>\n",
       "<td>4 / 980</td></tr>\n",
       "<tr><td>0.0</td>\n",
       "<td>1133.0</td>\n",
       "<td>0.0</td>\n",
       "<td>0.0</td>\n",
       "<td>0.0</td>\n",
       "<td>0.0</td>\n",
       "<td>1.0</td>\n",
       "<td>0.0</td>\n",
       "<td>0.0</td>\n",
       "<td>1.0</td>\n",
       "<td>0.0017621</td>\n",
       "<td>2 / 1,135</td></tr>\n",
       "<tr><td>2.0</td>\n",
       "<td>0.0</td>\n",
       "<td>1025.0</td>\n",
       "<td>0.0</td>\n",
       "<td>1.0</td>\n",
       "<td>0.0</td>\n",
       "<td>0.0</td>\n",
       "<td>4.0</td>\n",
       "<td>0.0</td>\n",
       "<td>0.0</td>\n",
       "<td>0.0067829</td>\n",
       "<td>7 / 1,032</td></tr>\n",
       "<tr><td>0.0</td>\n",
       "<td>0.0</td>\n",
       "<td>1.0</td>\n",
       "<td>1002.0</td>\n",
       "<td>0.0</td>\n",
       "<td>3.0</td>\n",
       "<td>0.0</td>\n",
       "<td>0.0</td>\n",
       "<td>2.0</td>\n",
       "<td>2.0</td>\n",
       "<td>0.0079208</td>\n",
       "<td>8 / 1,010</td></tr>\n",
       "<tr><td>0.0</td>\n",
       "<td>0.0</td>\n",
       "<td>1.0</td>\n",
       "<td>0.0</td>\n",
       "<td>978.0</td>\n",
       "<td>0.0</td>\n",
       "<td>1.0</td>\n",
       "<td>0.0</td>\n",
       "<td>0.0</td>\n",
       "<td>2.0</td>\n",
       "<td>0.0040733</td>\n",
       "<td>4 / 982</td></tr>\n",
       "<tr><td>2.0</td>\n",
       "<td>0.0</td>\n",
       "<td>0.0</td>\n",
       "<td>5.0</td>\n",
       "<td>0.0</td>\n",
       "<td>881.0</td>\n",
       "<td>1.0</td>\n",
       "<td>0.0</td>\n",
       "<td>1.0</td>\n",
       "<td>2.0</td>\n",
       "<td>0.0123318</td>\n",
       "<td>11 / 892</td></tr>\n",
       "<tr><td>4.0</td>\n",
       "<td>2.0</td>\n",
       "<td>0.0</td>\n",
       "<td>0.0</td>\n",
       "<td>2.0</td>\n",
       "<td>1.0</td>\n",
       "<td>948.0</td>\n",
       "<td>0.0</td>\n",
       "<td>1.0</td>\n",
       "<td>0.0</td>\n",
       "<td>0.0104384</td>\n",
       "<td>10 / 958</td></tr>\n",
       "<tr><td>0.0</td>\n",
       "<td>3.0</td>\n",
       "<td>4.0</td>\n",
       "<td>0.0</td>\n",
       "<td>0.0</td>\n",
       "<td>0.0</td>\n",
       "<td>0.0</td>\n",
       "<td>1018.0</td>\n",
       "<td>2.0</td>\n",
       "<td>1.0</td>\n",
       "<td>0.0097276</td>\n",
       "<td>10 / 1,028</td></tr>\n",
       "<tr><td>0.0</td>\n",
       "<td>0.0</td>\n",
       "<td>1.0</td>\n",
       "<td>0.0</td>\n",
       "<td>0.0</td>\n",
       "<td>1.0</td>\n",
       "<td>1.0</td>\n",
       "<td>1.0</td>\n",
       "<td>968.0</td>\n",
       "<td>2.0</td>\n",
       "<td>0.0061602</td>\n",
       "<td>6 / 974</td></tr>\n",
       "<tr><td>0.0</td>\n",
       "<td>1.0</td>\n",
       "<td>0.0</td>\n",
       "<td>0.0</td>\n",
       "<td>7.0</td>\n",
       "<td>1.0</td>\n",
       "<td>0.0</td>\n",
       "<td>4.0</td>\n",
       "<td>0.0</td>\n",
       "<td>996.0</td>\n",
       "<td>0.0128840</td>\n",
       "<td>13 / 1,009</td></tr>\n",
       "<tr><td>984.0</td>\n",
       "<td>1139.0</td>\n",
       "<td>1032.0</td>\n",
       "<td>1007.0</td>\n",
       "<td>988.0</td>\n",
       "<td>887.0</td>\n",
       "<td>954.0</td>\n",
       "<td>1028.0</td>\n",
       "<td>975.0</td>\n",
       "<td>1006.0</td>\n",
       "<td>0.0075</td>\n",
       "<td>75 / 10,000</td></tr></table></div>"
      ],
      "text/plain": [
       "0    1     2     3     4    5    6    7     8    9     Error       Rate\n",
       "---  ----  ----  ----  ---  ---  ---  ----  ---  ----  ----------  -----------\n",
       "976  0     0     0     0    0    2    1     1    0     0.00408163  4 / 980\n",
       "0    1133  0     0     0    0    1    0     0    1     0.00176211  2 / 1,135\n",
       "2    0     1025  0     1    0    0    4     0    0     0.00678295  7 / 1,032\n",
       "0    0     1     1002  0    3    0    0     2    2     0.00792079  8 / 1,010\n",
       "0    0     1     0     978  0    1    0     0    2     0.00407332  4 / 982\n",
       "2    0     0     5     0    881  1    0     1    2     0.0123318   11 / 892\n",
       "4    2     0     0     2    1    948  0     1    0     0.0104384   10 / 958\n",
       "0    3     4     0     0    0    0    1018  2    1     0.00972763  10 / 1,028\n",
       "0    0     1     0     0    1    1    1     968  2     0.00616016  6 / 974\n",
       "0    1     0     0     7    1    0    4     0    996   0.012884    13 / 1,009\n",
       "984  1139  1032  1007  988  887  954  1028  975  1006  0.0075      75 / 10,000"
      ]
     },
     "metadata": {},
     "output_type": "display_data"
    },
    {
     "name": "stdout",
     "output_type": "stream",
     "text": [
      "Top-10 Hit Ratios: \n"
     ]
    },
    {
     "data": {
      "text/html": [
       "<div style=\"overflow:auto\"><table style=\"width:50%\"><tr><td><b>k</b></td>\n",
       "<td><b>hit_ratio</b></td></tr>\n",
       "<tr><td>1</td>\n",
       "<td>0.9925</td></tr>\n",
       "<tr><td>2</td>\n",
       "<td>0.999</td></tr>\n",
       "<tr><td>3</td>\n",
       "<td>0.9997</td></tr>\n",
       "<tr><td>4</td>\n",
       "<td>0.9999</td></tr>\n",
       "<tr><td>5</td>\n",
       "<td>0.9999</td></tr>\n",
       "<tr><td>6</td>\n",
       "<td>1.0</td></tr>\n",
       "<tr><td>7</td>\n",
       "<td>1.0</td></tr>\n",
       "<tr><td>8</td>\n",
       "<td>1.0</td></tr>\n",
       "<tr><td>9</td>\n",
       "<td>1.0</td></tr>\n",
       "<tr><td>10</td>\n",
       "<td>1.0</td></tr></table></div>"
      ],
      "text/plain": [
       "k    hit_ratio\n",
       "---  -----------\n",
       "1    0.9925\n",
       "2    0.999\n",
       "3    0.9997\n",
       "4    0.9999\n",
       "5    0.9999\n",
       "6    1\n",
       "7    1\n",
       "8    1\n",
       "9    1\n",
       "10   1"
      ]
     },
     "metadata": {},
     "output_type": "display_data"
    },
    {
     "name": "stdout",
     "output_type": "stream",
     "text": [
      "\n"
     ]
    }
   ],
   "source": [
    "test = h2o.import_file(PATH + \"bigdata/laptop/mnist/test.csv.gz\")\n",
    "test[predictors] = test[predictors]/255.0\n",
    "test[resp] = test[resp].asfactor()\n",
    "\n",
    "print(model.model_performance(test))"
   ]
  },
  {
   "cell_type": "code",
   "execution_count": 21,
   "metadata": {
    "collapsed": false,
    "scrolled": false
   },
   "outputs": [
    {
     "name": "stdout",
     "output_type": "stream",
     "text": [
      "Writing H2O logs to /tmp/h2ologs_20161025_082151.zip\n"
     ]
    },
    {
     "data": {
      "text/plain": [
       "u'/tmp/h2ologs_20161025_082151.zip'"
      ]
     },
     "execution_count": 21,
     "metadata": {},
     "output_type": "execute_result"
    }
   ],
   "source": [
    "h2o.download_all_logs(\"/tmp/\")"
   ]
  }
 ],
 "metadata": {
  "kernelspec": {
   "display_name": "Python 2",
   "language": "python",
   "name": "python2"
  },
  "language_info": {
   "codemirror_mode": {
    "name": "ipython",
    "version": 2
   },
   "file_extension": ".py",
   "mimetype": "text/x-python",
   "name": "python",
   "nbconvert_exporter": "python",
   "pygments_lexer": "ipython2",
   "version": "2.7.12"
  }
 },
 "nbformat": 4,
 "nbformat_minor": 1
}
