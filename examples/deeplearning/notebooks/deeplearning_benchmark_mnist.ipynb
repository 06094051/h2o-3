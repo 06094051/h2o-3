{
 "cells": [
  {
   "cell_type": "markdown",
   "metadata": {},
   "source": [
    "# MNIST GPU Deep Learning Benchmark with H2O Deep Water\n",
    "In reference to [Szilard's Benchmark-DL](https://github.com/szilard/benchm-dl)"
   ]
  },
  {
   "cell_type": "markdown",
   "metadata": {
    "collapsed": true
   },
   "source": [
    "![MNIST](images/mnist.png)"
   ]
  },
  {
   "cell_type": "code",
   "execution_count": 3,
   "metadata": {
    "collapsed": false,
    "scrolled": true
   },
   "outputs": [
    {
     "name": "stdout",
     "output_type": "stream",
     "text": [
      "Checking whether there is an H2O instance running at http://localhost:54321..... not found.\n",
      "Attempting to start a local H2O server...\n",
      "  Java Version: java version \"1.8.0_101\"; Java(TM) SE Runtime Environment (build 1.8.0_101-b13); Java HotSpot(TM) 64-Bit Server VM (build 25.101-b13, mixed mode)\n",
      "  Starting server from /home/ubuntu/h2o-3/build/h2o.jar\n",
      "  Ice root: /tmp/tmpUC02TF\n",
      "  JVM stdout: /tmp/tmpUC02TF/h2o_ubuntu_started_from_python.out\n",
      "  JVM stderr: /tmp/tmpUC02TF/h2o_ubuntu_started_from_python.err\n",
      "  Server is running at http://127.0.0.1:54321\n",
      "Connecting to H2O server at http://127.0.0.1:54321... successful.\n"
     ]
    },
    {
     "data": {
      "text/html": [
       "<div style=\"overflow:auto\"><table style=\"width:50%\"><tr><td>H2O cluster uptime:</td>\n",
       "<td>03 secs</td></tr>\n",
       "<tr><td>H2O cluster version:</td>\n",
       "<td>3.11.0.99999</td></tr>\n",
       "<tr><td>H2O cluster version age:</td>\n",
       "<td>22 hours and 8 minutes </td></tr>\n",
       "<tr><td>H2O cluster name:</td>\n",
       "<td>H2O_from_python_ubuntu_bsnojs</td></tr>\n",
       "<tr><td>H2O cluster total nodes:</td>\n",
       "<td>1</td></tr>\n",
       "<tr><td>H2O cluster free memory:</td>\n",
       "<td>3.264 Gb</td></tr>\n",
       "<tr><td>H2O cluster total cores:</td>\n",
       "<td>8</td></tr>\n",
       "<tr><td>H2O cluster allowed cores:</td>\n",
       "<td>8</td></tr>\n",
       "<tr><td>H2O cluster status:</td>\n",
       "<td>accepting new members, healthy</td></tr>\n",
       "<tr><td>H2O connection url:</td>\n",
       "<td>http://127.0.0.1:54321</td></tr>\n",
       "<tr><td>H2O connection proxy:</td>\n",
       "<td>None</td></tr>\n",
       "<tr><td>Python version:</td>\n",
       "<td>2.7.12 final</td></tr></table></div>"
      ],
      "text/plain": [
       "--------------------------  ------------------------------\n",
       "H2O cluster uptime:         03 secs\n",
       "H2O cluster version:        3.11.0.99999\n",
       "H2O cluster version age:    22 hours and 8 minutes\n",
       "H2O cluster name:           H2O_from_python_ubuntu_bsnojs\n",
       "H2O cluster total nodes:    1\n",
       "H2O cluster free memory:    3.264 Gb\n",
       "H2O cluster total cores:    8\n",
       "H2O cluster allowed cores:  8\n",
       "H2O cluster status:         accepting new members, healthy\n",
       "H2O connection url:         http://127.0.0.1:54321\n",
       "H2O connection proxy:\n",
       "Python version:             2.7.12 final\n",
       "--------------------------  ------------------------------"
      ]
     },
     "metadata": {},
     "output_type": "display_data"
    }
   ],
   "source": [
    "import sys, os\n",
    "import os.path\n",
    "import h2o\n",
    "from h2o.estimators.deepwater import H2ODeepWaterEstimator\n",
    "PATH = os.path.expanduser(\"~/h2o-3/\")\n",
    "h2o.init(nthreads=-1)\n",
    "if not H2ODeepWaterEstimator.available(): exit"
   ]
  },
  {
   "cell_type": "markdown",
   "metadata": {},
   "source": [
    "### Hardware check"
   ]
  },
  {
   "cell_type": "code",
   "execution_count": 4,
   "metadata": {
    "collapsed": false,
    "scrolled": false
   },
   "outputs": [
    {
     "name": "stdout",
     "output_type": "stream",
     "text": [
      "Tue Oct 25 19:55:19 2016       \r\n",
      "+-----------------------------------------------------------------------------+\r\n",
      "| NVIDIA-SMI 370.28                 Driver Version: 370.28                    |\r\n",
      "|-------------------------------+----------------------+----------------------+\r\n",
      "| GPU  Name        Persistence-M| Bus-Id        Disp.A | Volatile Uncorr. ECC |\r\n",
      "| Fan  Temp  Perf  Pwr:Usage/Cap|         Memory-Usage | GPU-Util  Compute M. |\r\n",
      "|===============================+======================+======================|\r\n",
      "|   0  GRID K520           Off  | 0000:00:03.0     Off |                  N/A |\r\n",
      "| N/A   31C    P0     1W / 125W |      0MiB /  4036MiB |      0%      Default |\r\n",
      "+-------------------------------+----------------------+----------------------+\r\n",
      "                                                                               \r\n",
      "+-----------------------------------------------------------------------------+\r\n",
      "| Processes:                                                       GPU Memory |\r\n",
      "|  GPU       PID  Type  Process name                               Usage      |\r\n",
      "|=============================================================================|\r\n",
      "|  No running processes found                                                 |\r\n",
      "+-----------------------------------------------------------------------------+\r\n"
     ]
    }
   ],
   "source": [
    "!nvidia-smi"
   ]
  },
  {
   "cell_type": "markdown",
   "metadata": {},
   "source": [
    "### Data preparation"
   ]
  },
  {
   "cell_type": "code",
   "execution_count": 5,
   "metadata": {
    "collapsed": false
   },
   "outputs": [
    {
     "name": "stdout",
     "output_type": "stream",
     "text": [
      "Parse progress: |█████████████████████████████████████████████████████████| 100%\n"
     ]
    }
   ],
   "source": [
    "train = h2o.import_file(PATH + \"bigdata/laptop/mnist/train.csv.gz\")\n",
    "predictors  = list(range(0,784))\n",
    "resp        = 784\n",
    "\n",
    "train[predictors] = train[predictors]/255.0\n",
    "train[resp] = train[resp].asfactor()\n",
    "nclasses    = train[resp].nlevels()[0]"
   ]
  },
  {
   "cell_type": "markdown",
   "metadata": {},
   "source": [
    "### Define the model architecture"
   ]
  },
  {
   "cell_type": "code",
   "execution_count": 6,
   "metadata": {
    "collapsed": true
   },
   "outputs": [],
   "source": [
    "def cnn(num_classes):\n",
    "    import mxnet as mx\n",
    "    data    = mx.symbol.Variable('data')\n",
    "\n",
    "    conv1   = mx.symbol.Convolution(data=data, kernel=(4,4), num_filter=32)\n",
    "    relu1   = mx.symbol.Activation(data=conv1, act_type=\"relu\")\n",
    "    pool1   = mx.symbol.Pooling(data=relu1, pool_type=\"max\", kernel=(2,2), stride=(2,2))\n",
    "\n",
    "    conv2   = mx.symbol.Convolution(data=pool1, kernel=(3,3), num_filter=16)\n",
    "    relu2   = mx.symbol.Activation(data=conv2, act_type=\"relu\")\n",
    "    pool2   = mx.symbol.Pooling(data=relu2, pool_type=\"max\", kernel=(2,2), stride=(2,2))\n",
    "    drop    = mx.symbol.Dropout(data=pool2, p=0.2)\n",
    "\n",
    "    flatten = mx.symbol.Flatten(data=drop)\n",
    "    fc1     = mx.symbol.FullyConnected(data=flatten, num_hidden=128)\n",
    "    relu3   = mx.symbol.Activation(data=fc1, act_type=\"relu\")\n",
    "\n",
    "    fc2     = mx.symbol.FullyConnected(data=relu3, num_hidden=64)\n",
    "    relu4   = mx.symbol.Activation(data=fc2, act_type=\"relu\")\n",
    "\n",
    "    fc3     = mx.symbol.FullyConnected(data=relu4, num_hidden=num_classes)\n",
    "    net     = mx.symbol.SoftmaxOutput(data=fc3, name='softmax')\n",
    "    return net\n",
    "cnn(nclasses).save(\"/tmp/cnn.json\")"
   ]
  },
  {
   "cell_type": "markdown",
   "metadata": {},
   "source": [
    "### Train the model"
   ]
  },
  {
   "cell_type": "code",
   "execution_count": 8,
   "metadata": {
    "collapsed": false,
    "scrolled": true
   },
   "outputs": [
    {
     "name": "stdout",
     "output_type": "stream",
     "text": [
      "deepwater Model Build progress: |█████████████████████████████████████████| 100%\n"
     ]
    }
   ],
   "source": [
    "model = H2ODeepWaterEstimator(\n",
    "    epochs=10,\n",
    "    learning_rate=0.05,\n",
    "    learning_rate_annealing=1e-5,\n",
    "    momentum_start=0.9,\n",
    "    momentum_stable=0.9,\n",
    "    mini_batch_size=128,\n",
    "    network_definition_file=\"/tmp/cnn.json\",\n",
    "    image_shape=[28,28],                ## MNIST is 28x28 pixels\n",
    "    channels=1,                         ## monochrome\n",
    "    device_id=[0],                      ## select which GPU to use\n",
    "    gpu=True,                           ## disable to compare to CPU\n",
    "    standardize=False,                  ## data was manually scaled to 0..1\n",
    "    ignore_const_cols=False,            ## include all pixels even though some are always 0\n",
    "    seed=1234                           ## for reproducibility\n",
    "    #,score_duty_cycle=0                ## no scoring until the end\n",
    ")\n",
    "                              \n",
    "model.train(x=predictors,y=resp, training_frame=train)"
   ]
  },
  {
   "cell_type": "markdown",
   "metadata": {},
   "source": [
    "### Inspect the model"
   ]
  },
  {
   "cell_type": "code",
   "execution_count": 10,
   "metadata": {
    "collapsed": false
   },
   "outputs": [
    {
     "data": {
      "image/png": "[encoded data removed]",
      "text/plain": [
       "<matplotlib.figure.Figure at 0x7ff5b4955410>"
      ]
     },
     "metadata": {},
     "output_type": "display_data"
    }
   ],
   "source": [
    "model.plot()"
   ]
  },
  {
   "cell_type": "code",
   "execution_count": 9,
   "metadata": {
    "collapsed": false,
    "scrolled": true
   },
   "outputs": [
    {
     "name": "stdout",
     "output_type": "stream",
     "text": [
      "Model Details\n",
      "=============\n",
      "H2ODeepWaterEstimator :  Deep Water\n",
      "Model Key:  DeepWater_model_python_1477425299293_2\n",
      "Status of Deep Learning Model: user, 261.3 KB, predicting C785, 10-class classification, 602,112 training samples, mini-batch size 128\n",
      "\n"
     ]
    },
    {
     "data": {
      "text/html": [
       "<div style=\"overflow:auto\"><table style=\"width:50%\"><tr><td><b></b></td>\n",
       "<td><b>input_neurons</b></td>\n",
       "<td><b>rate</b></td>\n",
       "<td><b>momentum</b></td></tr>\n",
       "<tr><td></td>\n",
       "<td>784</td>\n",
       "<td>0.0071214</td>\n",
       "<td>0.9</td></tr></table></div>"
      ],
      "text/plain": [
       "    input_neurons    rate        momentum\n",
       "--  ---------------  ----------  ----------\n",
       "    784              0.00712137  0.9"
      ]
     },
     "metadata": {},
     "output_type": "display_data"
    },
    {
     "name": "stdout",
     "output_type": "stream",
     "text": [
      "\n",
      "\n",
      "ModelMetricsMultinomial: deepwater\n",
      "** Reported on train data. **\n",
      "\n",
      "MSE: 0.00331512472054\n",
      "RMSE: 0.0575771197659\n",
      "LogLoss: 0.0130600501281\n",
      "Mean Per-Class Error: 0.00381537015025\n",
      "Confusion Matrix: vertical: actual; across: predicted\n",
      "\n"
     ]
    },
    {
     "data": {
      "text/html": [
       "<div style=\"overflow:auto\"><table style=\"width:50%\"><tr><td><b>0</b></td>\n",
       "<td><b>1</b></td>\n",
       "<td><b>2</b></td>\n",
       "<td><b>3</b></td>\n",
       "<td><b>4</b></td>\n",
       "<td><b>5</b></td>\n",
       "<td><b>6</b></td>\n",
       "<td><b>7</b></td>\n",
       "<td><b>8</b></td>\n",
       "<td><b>9</b></td>\n",
       "<td><b>Error</b></td>\n",
       "<td><b>Rate</b></td></tr>\n",
       "<tr><td>992.0</td>\n",
       "<td>0.0</td>\n",
       "<td>0.0</td>\n",
       "<td>0.0</td>\n",
       "<td>0.0</td>\n",
       "<td>0.0</td>\n",
       "<td>2.0</td>\n",
       "<td>0.0</td>\n",
       "<td>0.0</td>\n",
       "<td>0.0</td>\n",
       "<td>0.0020121</td>\n",
       "<td>2 / 994</td></tr>\n",
       "<tr><td>0.0</td>\n",
       "<td>1111.0</td>\n",
       "<td>1.0</td>\n",
       "<td>0.0</td>\n",
       "<td>3.0</td>\n",
       "<td>0.0</td>\n",
       "<td>1.0</td>\n",
       "<td>2.0</td>\n",
       "<td>0.0</td>\n",
       "<td>0.0</td>\n",
       "<td>0.0062612</td>\n",
       "<td>7 / 1,118</td></tr>\n",
       "<tr><td>0.0</td>\n",
       "<td>1.0</td>\n",
       "<td>966.0</td>\n",
       "<td>1.0</td>\n",
       "<td>0.0</td>\n",
       "<td>0.0</td>\n",
       "<td>0.0</td>\n",
       "<td>0.0</td>\n",
       "<td>0.0</td>\n",
       "<td>0.0</td>\n",
       "<td>0.0020661</td>\n",
       "<td>2 / 968</td></tr>\n",
       "<tr><td>0.0</td>\n",
       "<td>0.0</td>\n",
       "<td>0.0</td>\n",
       "<td>993.0</td>\n",
       "<td>0.0</td>\n",
       "<td>1.0</td>\n",
       "<td>0.0</td>\n",
       "<td>0.0</td>\n",
       "<td>3.0</td>\n",
       "<td>0.0</td>\n",
       "<td>0.0040120</td>\n",
       "<td>4 / 997</td></tr>\n",
       "<tr><td>0.0</td>\n",
       "<td>2.0</td>\n",
       "<td>0.0</td>\n",
       "<td>0.0</td>\n",
       "<td>990.0</td>\n",
       "<td>0.0</td>\n",
       "<td>0.0</td>\n",
       "<td>0.0</td>\n",
       "<td>0.0</td>\n",
       "<td>4.0</td>\n",
       "<td>0.0060241</td>\n",
       "<td>6 / 996</td></tr>\n",
       "<tr><td>0.0</td>\n",
       "<td>0.0</td>\n",
       "<td>1.0</td>\n",
       "<td>0.0</td>\n",
       "<td>0.0</td>\n",
       "<td>884.0</td>\n",
       "<td>2.0</td>\n",
       "<td>0.0</td>\n",
       "<td>2.0</td>\n",
       "<td>0.0</td>\n",
       "<td>0.0056243</td>\n",
       "<td>5 / 889</td></tr>\n",
       "<tr><td>0.0</td>\n",
       "<td>0.0</td>\n",
       "<td>0.0</td>\n",
       "<td>0.0</td>\n",
       "<td>0.0</td>\n",
       "<td>0.0</td>\n",
       "<td>995.0</td>\n",
       "<td>0.0</td>\n",
       "<td>1.0</td>\n",
       "<td>0.0</td>\n",
       "<td>0.0010040</td>\n",
       "<td>1 / 996</td></tr>\n",
       "<tr><td>0.0</td>\n",
       "<td>0.0</td>\n",
       "<td>1.0</td>\n",
       "<td>0.0</td>\n",
       "<td>2.0</td>\n",
       "<td>0.0</td>\n",
       "<td>0.0</td>\n",
       "<td>996.0</td>\n",
       "<td>0.0</td>\n",
       "<td>1.0</td>\n",
       "<td>0.004</td>\n",
       "<td>4 / 1,000</td></tr>\n",
       "<tr><td>0.0</td>\n",
       "<td>0.0</td>\n",
       "<td>1.0</td>\n",
       "<td>0.0</td>\n",
       "<td>0.0</td>\n",
       "<td>0.0</td>\n",
       "<td>0.0</td>\n",
       "<td>0.0</td>\n",
       "<td>1036.0</td>\n",
       "<td>0.0</td>\n",
       "<td>0.0009643</td>\n",
       "<td>1 / 1,037</td></tr>\n",
       "<tr><td>1.0</td>\n",
       "<td>1.0</td>\n",
       "<td>0.0</td>\n",
       "<td>1.0</td>\n",
       "<td>2.0</td>\n",
       "<td>0.0</td>\n",
       "<td>0.0</td>\n",
       "<td>1.0</td>\n",
       "<td>0.0</td>\n",
       "<td>964.0</td>\n",
       "<td>0.0061856</td>\n",
       "<td>6 / 970</td></tr>\n",
       "<tr><td>993.0</td>\n",
       "<td>1115.0</td>\n",
       "<td>970.0</td>\n",
       "<td>995.0</td>\n",
       "<td>997.0</td>\n",
       "<td>885.0</td>\n",
       "<td>1000.0</td>\n",
       "<td>999.0</td>\n",
       "<td>1042.0</td>\n",
       "<td>969.0</td>\n",
       "<td>0.0038133</td>\n",
       "<td>38 / 9,965</td></tr></table></div>"
      ],
      "text/plain": [
       "0    1     2    3    4    5    6     7    8     9    Error       Rate\n",
       "---  ----  ---  ---  ---  ---  ----  ---  ----  ---  ----------  ----------\n",
       "992  0     0    0    0    0    2     0    0     0    0.00201207  2 / 994\n",
       "0    1111  1    0    3    0    1     2    0     0    0.00626118  7 / 1,118\n",
       "0    1     966  1    0    0    0     0    0     0    0.00206612  2 / 968\n",
       "0    0     0    993  0    1    0     0    3     0    0.00401204  4 / 997\n",
       "0    2     0    0    990  0    0     0    0     4    0.0060241   6 / 996\n",
       "0    0     1    0    0    884  2     0    2     0    0.0056243   5 / 889\n",
       "0    0     0    0    0    0    995   0    1     0    0.00100402  1 / 996\n",
       "0    0     1    0    2    0    0     996  0     1    0.004       4 / 1,000\n",
       "0    0     1    0    0    0    0     0    1036  0    0.00096432  1 / 1,037\n",
       "1    1     0    1    2    0    0     1    0     964  0.00618557  6 / 970\n",
       "993  1115  970  995  997  885  1000  999  1042  969  0.00381335  38 / 9,965"
      ]
     },
     "metadata": {},
     "output_type": "display_data"
    },
    {
     "name": "stdout",
     "output_type": "stream",
     "text": [
      "Top-10 Hit Ratios: \n"
     ]
    },
    {
     "data": {
      "text/html": [
       "<div style=\"overflow:auto\"><table style=\"width:50%\"><tr><td><b>k</b></td>\n",
       "<td><b>hit_ratio</b></td></tr>\n",
       "<tr><td>1</td>\n",
       "<td>0.9961867</td></tr>\n",
       "<tr><td>2</td>\n",
       "<td>0.9995986</td></tr>\n",
       "<tr><td>3</td>\n",
       "<td>0.9998997</td></tr>\n",
       "<tr><td>4</td>\n",
       "<td>1.0</td></tr>\n",
       "<tr><td>5</td>\n",
       "<td>1.0</td></tr>\n",
       "<tr><td>6</td>\n",
       "<td>1.0</td></tr>\n",
       "<tr><td>7</td>\n",
       "<td>1.0</td></tr>\n",
       "<tr><td>8</td>\n",
       "<td>1.0</td></tr>\n",
       "<tr><td>9</td>\n",
       "<td>1.0</td></tr>\n",
       "<tr><td>10</td>\n",
       "<td>1.0</td></tr></table></div>"
      ],
      "text/plain": [
       "k    hit_ratio\n",
       "---  -----------\n",
       "1    0.996187\n",
       "2    0.999599\n",
       "3    0.9999\n",
       "4    1\n",
       "5    1\n",
       "6    1\n",
       "7    1\n",
       "8    1\n",
       "9    1\n",
       "10   1"
      ]
     },
     "metadata": {},
     "output_type": "display_data"
    },
    {
     "name": "stdout",
     "output_type": "stream",
     "text": [
      "Scoring History: \n"
     ]
    },
    {
     "data": {
      "text/html": [
       "<div style=\"overflow:auto\"><table style=\"width:50%\"><tr><td><b></b></td>\n",
       "<td><b>timestamp</b></td>\n",
       "<td><b>duration</b></td>\n",
       "<td><b>training_speed</b></td>\n",
       "<td><b>epochs</b></td>\n",
       "<td><b>iterations</b></td>\n",
       "<td><b>samples</b></td>\n",
       "<td><b>training_rmse</b></td>\n",
       "<td><b>training_logloss</b></td>\n",
       "<td><b>training_classification_error</b></td></tr>\n",
       "<tr><td></td>\n",
       "<td>2016-10-25 20:02:28</td>\n",
       "<td> 0.000 sec</td>\n",
       "<td>None</td>\n",
       "<td>0.0</td>\n",
       "<td>0</td>\n",
       "<td>0.0</td>\n",
       "<td>nan</td>\n",
       "<td>nan</td>\n",
       "<td>nan</td></tr>\n",
       "<tr><td></td>\n",
       "<td>2016-10-25 20:02:29</td>\n",
       "<td> 2.091 sec</td>\n",
       "<td>6884 obs/sec</td>\n",
       "<td>0.0682667</td>\n",
       "<td>1</td>\n",
       "<td>4096.0</td>\n",
       "<td>0.3114298</td>\n",
       "<td>0.3462573</td>\n",
       "<td>0.1083793</td></tr>\n",
       "<tr><td></td>\n",
       "<td>2016-10-25 20:02:42</td>\n",
       "<td>14.074 sec</td>\n",
       "<td>10592 obs/sec</td>\n",
       "<td>2.1845333</td>\n",
       "<td>32</td>\n",
       "<td>131072.0</td>\n",
       "<td>0.1024175</td>\n",
       "<td>0.0389610</td>\n",
       "<td>0.0119418</td></tr>\n",
       "<tr><td></td>\n",
       "<td>2016-10-25 20:02:47</td>\n",
       "<td>19.387 sec</td>\n",
       "<td>11502 obs/sec</td>\n",
       "<td>3.3450667</td>\n",
       "<td>49</td>\n",
       "<td>200704.0</td>\n",
       "<td>0.0831412</td>\n",
       "<td>0.0260695</td>\n",
       "<td>0.0081284</td></tr>\n",
       "<tr><td></td>\n",
       "<td>2016-10-25 20:02:53</td>\n",
       "<td>24.544 sec</td>\n",
       "<td>12063 obs/sec</td>\n",
       "<td>4.5056</td>\n",
       "<td>66</td>\n",
       "<td>270336.0</td>\n",
       "<td>0.0744439</td>\n",
       "<td>0.0214551</td>\n",
       "<td>0.0064225</td></tr>\n",
       "<tr><td></td>\n",
       "<td>2016-10-25 20:02:58</td>\n",
       "<td>29.593 sec</td>\n",
       "<td>12469 obs/sec</td>\n",
       "<td>5.6661333</td>\n",
       "<td>83</td>\n",
       "<td>339968.0</td>\n",
       "<td>0.0659908</td>\n",
       "<td>0.0179691</td>\n",
       "<td>0.0047165</td></tr>\n",
       "<tr><td></td>\n",
       "<td>2016-10-25 20:03:03</td>\n",
       "<td>34.721 sec</td>\n",
       "<td>12728 obs/sec</td>\n",
       "<td>6.8266667</td>\n",
       "<td>100</td>\n",
       "<td>409600.0</td>\n",
       "<td>0.0621350</td>\n",
       "<td>0.0154623</td>\n",
       "<td>0.0043151</td></tr>\n",
       "<tr><td></td>\n",
       "<td>2016-10-25 20:03:08</td>\n",
       "<td>39.769 sec</td>\n",
       "<td>12940 obs/sec</td>\n",
       "<td>7.9872</td>\n",
       "<td>117</td>\n",
       "<td>479232.0</td>\n",
       "<td>0.0624720</td>\n",
       "<td>0.0148339</td>\n",
       "<td>0.0049172</td></tr>\n",
       "<tr><td></td>\n",
       "<td>2016-10-25 20:03:13</td>\n",
       "<td>44.804 sec</td>\n",
       "<td>13107 obs/sec</td>\n",
       "<td>9.1477333</td>\n",
       "<td>134</td>\n",
       "<td>548864.0</td>\n",
       "<td>0.0589009</td>\n",
       "<td>0.0138219</td>\n",
       "<td>0.0038133</td></tr>\n",
       "<tr><td></td>\n",
       "<td>2016-10-25 20:03:17</td>\n",
       "<td>48.704 sec</td>\n",
       "<td>13210 obs/sec</td>\n",
       "<td>10.0352</td>\n",
       "<td>147</td>\n",
       "<td>602112.0</td>\n",
       "<td>0.0575771</td>\n",
       "<td>0.0130601</td>\n",
       "<td>0.0038133</td></tr></table></div>"
      ],
      "text/plain": [
       "    timestamp            duration    training_speed    epochs     iterations    samples    training_rmse    training_logloss    training_classification_error\n",
       "--  -------------------  ----------  ----------------  ---------  ------------  ---------  ---------------  ------------------  -------------------------------\n",
       "    2016-10-25 20:02:28  0.000 sec                     0          0             0          nan              nan                 nan\n",
       "    2016-10-25 20:02:29  2.091 sec   6884 obs/sec      0.0682667  1             4096       0.31143          0.346257            0.108379\n",
       "    2016-10-25 20:02:42  14.074 sec  10592 obs/sec     2.18453    32            131072     0.102418         0.038961            0.0119418\n",
       "    2016-10-25 20:02:47  19.387 sec  11502 obs/sec     3.34507    49            200704     0.0831412        0.0260695           0.00812845\n",
       "    2016-10-25 20:02:53  24.544 sec  12063 obs/sec     4.5056     66            270336     0.0744439        0.0214551           0.00642248\n",
       "    2016-10-25 20:02:58  29.593 sec  12469 obs/sec     5.66613    83            339968     0.0659908        0.0179691           0.00471651\n",
       "    2016-10-25 20:03:03  34.721 sec  12728 obs/sec     6.82667    100           409600     0.062135         0.0154623           0.0043151\n",
       "    2016-10-25 20:03:08  39.769 sec  12940 obs/sec     7.9872     117           479232     0.062472         0.0148339           0.00491721\n",
       "    2016-10-25 20:03:13  44.804 sec  13107 obs/sec     9.14773    134           548864     0.0589009        0.0138219           0.00381335\n",
       "    2016-10-25 20:03:17  48.704 sec  13210 obs/sec     10.0352    147           602112     0.0575771        0.0130601           0.00381335"
      ]
     },
     "metadata": {},
     "output_type": "display_data"
    }
   ],
   "source": [
    "model.show()"
   ]
  },
  {
   "cell_type": "markdown",
   "metadata": {},
   "source": [
    "### Let's evaluate the test set performance"
   ]
  },
  {
   "cell_type": "code",
   "execution_count": 11,
   "metadata": {
    "collapsed": false,
    "scrolled": true
   },
   "outputs": [
    {
     "name": "stdout",
     "output_type": "stream",
     "text": [
      "Parse progress: |█████████████████████████████████████████████████████████| 100%\n",
      "\n",
      "ModelMetricsMultinomial: deepwater\n",
      "** Reported on test data. **\n",
      "\n",
      "MSE: 0.00639540808491\n",
      "RMSE: 0.079971295381\n",
      "LogLoss: 0.0240714244012\n",
      "Mean Per-Class Error: 0.0075429205522\n",
      "Confusion Matrix: vertical: actual; across: predicted\n",
      "\n"
     ]
    },
    {
     "data": {
      "text/html": [
       "<div style=\"overflow:auto\"><table style=\"width:50%\"><tr><td><b>0</b></td>\n",
       "<td><b>1</b></td>\n",
       "<td><b>2</b></td>\n",
       "<td><b>3</b></td>\n",
       "<td><b>4</b></td>\n",
       "<td><b>5</b></td>\n",
       "<td><b>6</b></td>\n",
       "<td><b>7</b></td>\n",
       "<td><b>8</b></td>\n",
       "<td><b>9</b></td>\n",
       "<td><b>Error</b></td>\n",
       "<td><b>Rate</b></td></tr>\n",
       "<tr><td>975.0</td>\n",
       "<td>0.0</td>\n",
       "<td>0.0</td>\n",
       "<td>0.0</td>\n",
       "<td>0.0</td>\n",
       "<td>0.0</td>\n",
       "<td>2.0</td>\n",
       "<td>1.0</td>\n",
       "<td>2.0</td>\n",
       "<td>0.0</td>\n",
       "<td>0.0051020</td>\n",
       "<td>5 / 980</td></tr>\n",
       "<tr><td>0.0</td>\n",
       "<td>1134.0</td>\n",
       "<td>0.0</td>\n",
       "<td>0.0</td>\n",
       "<td>0.0</td>\n",
       "<td>0.0</td>\n",
       "<td>1.0</td>\n",
       "<td>0.0</td>\n",
       "<td>0.0</td>\n",
       "<td>0.0</td>\n",
       "<td>0.0008811</td>\n",
       "<td>1 / 1,135</td></tr>\n",
       "<tr><td>1.0</td>\n",
       "<td>0.0</td>\n",
       "<td>1028.0</td>\n",
       "<td>0.0</td>\n",
       "<td>1.0</td>\n",
       "<td>0.0</td>\n",
       "<td>0.0</td>\n",
       "<td>2.0</td>\n",
       "<td>0.0</td>\n",
       "<td>0.0</td>\n",
       "<td>0.0038760</td>\n",
       "<td>4 / 1,032</td></tr>\n",
       "<tr><td>0.0</td>\n",
       "<td>0.0</td>\n",
       "<td>1.0</td>\n",
       "<td>1001.0</td>\n",
       "<td>0.0</td>\n",
       "<td>4.0</td>\n",
       "<td>0.0</td>\n",
       "<td>1.0</td>\n",
       "<td>2.0</td>\n",
       "<td>1.0</td>\n",
       "<td>0.0089109</td>\n",
       "<td>9 / 1,010</td></tr>\n",
       "<tr><td>0.0</td>\n",
       "<td>0.0</td>\n",
       "<td>1.0</td>\n",
       "<td>0.0</td>\n",
       "<td>978.0</td>\n",
       "<td>0.0</td>\n",
       "<td>1.0</td>\n",
       "<td>0.0</td>\n",
       "<td>0.0</td>\n",
       "<td>2.0</td>\n",
       "<td>0.0040733</td>\n",
       "<td>4 / 982</td></tr>\n",
       "<tr><td>2.0</td>\n",
       "<td>0.0</td>\n",
       "<td>0.0</td>\n",
       "<td>6.0</td>\n",
       "<td>0.0</td>\n",
       "<td>881.0</td>\n",
       "<td>1.0</td>\n",
       "<td>0.0</td>\n",
       "<td>0.0</td>\n",
       "<td>2.0</td>\n",
       "<td>0.0123318</td>\n",
       "<td>11 / 892</td></tr>\n",
       "<tr><td>4.0</td>\n",
       "<td>2.0</td>\n",
       "<td>0.0</td>\n",
       "<td>1.0</td>\n",
       "<td>2.0</td>\n",
       "<td>1.0</td>\n",
       "<td>947.0</td>\n",
       "<td>0.0</td>\n",
       "<td>1.0</td>\n",
       "<td>0.0</td>\n",
       "<td>0.0114823</td>\n",
       "<td>11 / 958</td></tr>\n",
       "<tr><td>0.0</td>\n",
       "<td>4.0</td>\n",
       "<td>3.0</td>\n",
       "<td>0.0</td>\n",
       "<td>0.0</td>\n",
       "<td>0.0</td>\n",
       "<td>0.0</td>\n",
       "<td>1018.0</td>\n",
       "<td>2.0</td>\n",
       "<td>1.0</td>\n",
       "<td>0.0097276</td>\n",
       "<td>10 / 1,028</td></tr>\n",
       "<tr><td>0.0</td>\n",
       "<td>0.0</td>\n",
       "<td>1.0</td>\n",
       "<td>0.0</td>\n",
       "<td>0.0</td>\n",
       "<td>1.0</td>\n",
       "<td>1.0</td>\n",
       "<td>1.0</td>\n",
       "<td>968.0</td>\n",
       "<td>2.0</td>\n",
       "<td>0.0061602</td>\n",
       "<td>6 / 974</td></tr>\n",
       "<tr><td>0.0</td>\n",
       "<td>1.0</td>\n",
       "<td>0.0</td>\n",
       "<td>0.0</td>\n",
       "<td>5.0</td>\n",
       "<td>2.0</td>\n",
       "<td>0.0</td>\n",
       "<td>3.0</td>\n",
       "<td>2.0</td>\n",
       "<td>996.0</td>\n",
       "<td>0.0128840</td>\n",
       "<td>13 / 1,009</td></tr>\n",
       "<tr><td>982.0</td>\n",
       "<td>1141.0</td>\n",
       "<td>1034.0</td>\n",
       "<td>1008.0</td>\n",
       "<td>986.0</td>\n",
       "<td>889.0</td>\n",
       "<td>953.0</td>\n",
       "<td>1026.0</td>\n",
       "<td>977.0</td>\n",
       "<td>1004.0</td>\n",
       "<td>0.0074</td>\n",
       "<td>74 / 10,000</td></tr></table></div>"
      ],
      "text/plain": [
       "0    1     2     3     4    5    6    7     8    9     Error        Rate\n",
       "---  ----  ----  ----  ---  ---  ---  ----  ---  ----  -----------  -----------\n",
       "975  0     0     0     0    0    2    1     2    0     0.00510204   5 / 980\n",
       "0    1134  0     0     0    0    1    0     0    0     0.000881057  1 / 1,135\n",
       "1    0     1028  0     1    0    0    2     0    0     0.00387597   4 / 1,032\n",
       "0    0     1     1001  0    4    0    1     2    1     0.00891089   9 / 1,010\n",
       "0    0     1     0     978  0    1    0     0    2     0.00407332   4 / 982\n",
       "2    0     0     6     0    881  1    0     0    2     0.0123318    11 / 892\n",
       "4    2     0     1     2    1    947  0     1    0     0.0114823    11 / 958\n",
       "0    4     3     0     0    0    0    1018  2    1     0.00972763   10 / 1,028\n",
       "0    0     1     0     0    1    1    1     968  2     0.00616016   6 / 974\n",
       "0    1     0     0     5    2    0    3     2    996   0.012884     13 / 1,009\n",
       "982  1141  1034  1008  986  889  953  1026  977  1004  0.0074       74 / 10,000"
      ]
     },
     "metadata": {},
     "output_type": "display_data"
    },
    {
     "name": "stdout",
     "output_type": "stream",
     "text": [
      "Top-10 Hit Ratios: \n"
     ]
    },
    {
     "data": {
      "text/html": [
       "<div style=\"overflow:auto\"><table style=\"width:50%\"><tr><td><b>k</b></td>\n",
       "<td><b>hit_ratio</b></td></tr>\n",
       "<tr><td>1</td>\n",
       "<td>0.9926</td></tr>\n",
       "<tr><td>2</td>\n",
       "<td>0.9987</td></tr>\n",
       "<tr><td>3</td>\n",
       "<td>0.9996</td></tr>\n",
       "<tr><td>4</td>\n",
       "<td>0.9998000</td></tr>\n",
       "<tr><td>5</td>\n",
       "<td>0.9998000</td></tr>\n",
       "<tr><td>6</td>\n",
       "<td>0.9999999</td></tr>\n",
       "<tr><td>7</td>\n",
       "<td>0.9999999</td></tr>\n",
       "<tr><td>8</td>\n",
       "<td>0.9999999</td></tr>\n",
       "<tr><td>9</td>\n",
       "<td>0.9999999</td></tr>\n",
       "<tr><td>10</td>\n",
       "<td>0.9999999</td></tr></table></div>"
      ],
      "text/plain": [
       "k    hit_ratio\n",
       "---  -----------\n",
       "1    0.9926\n",
       "2    0.9987\n",
       "3    0.9996\n",
       "4    0.9998\n",
       "5    0.9998\n",
       "6    1\n",
       "7    1\n",
       "8    1\n",
       "9    1\n",
       "10   1"
      ]
     },
     "metadata": {},
     "output_type": "display_data"
    },
    {
     "name": "stdout",
     "output_type": "stream",
     "text": [
      "\n"
     ]
    }
   ],
   "source": [
    "test = h2o.import_file(PATH + \"bigdata/laptop/mnist/test.csv.gz\")\n",
    "test[predictors] = test[predictors]/255.0\n",
    "test[resp] = test[resp].asfactor()\n",
    "\n",
    "print(model.model_performance(test))"
   ]
  },
  {
   "cell_type": "code",
   "execution_count": 12,
   "metadata": {
    "collapsed": false,
    "scrolled": false
   },
   "outputs": [
    {
     "name": "stdout",
     "output_type": "stream",
     "text": [
      "Writing H2O logs to /tmp/h2ologs_20161024_102342.zip\n"
     ]
    },
    {
     "data": {
      "text/plain": [
       "u'/tmp/h2ologs_20161024_102342.zip'"
      ]
     },
     "execution_count": 12,
     "metadata": {},
     "output_type": "execute_result"
    }
   ],
   "source": [
    "h2o.download_all_logs(\"/tmp/\")"
   ]
  }
 ],
 "metadata": {
  "kernelspec": {
   "display_name": "Python 2",
   "language": "python",
   "name": "python2"
  },
  "language_info": {
   "codemirror_mode": {
    "name": "ipython",
    "version": 2
   },
   "file_extension": ".py",
   "mimetype": "text/x-python",
   "name": "python",
   "nbconvert_exporter": "python",
   "pygments_lexer": "ipython2",
   "version": "2.7.12"
  }
 },
 "nbformat": 4,
 "nbformat_minor": 1
}
